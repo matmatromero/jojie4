{
 "cells": [
  {
   "cell_type": "code",
   "execution_count": 1,
   "metadata": {
    "ExecuteTime": {
     "end_time": "2021-03-22T22:11:32.632348Z",
     "start_time": "2021-03-22T22:11:31.803429Z"
    }
   },
   "outputs": [
    {
     "name": "stdout",
     "output_type": "stream",
     "text": [
      "'BA 2019.csv'                   'FB 2020.xls'\r\n",
      "'BA 2020.csv'                   'Lazada MSP Traffic 2019.xlsx'\r\n",
      "'CPT Sample Data Oct2020.xlsx'  'Lazada MSP Traffic 2020.xlsx'\r\n",
      "'FB 2019.xls'                   'Shopee MSP Traffic 2020.xlsx'\r\n"
     ]
    }
   ],
   "source": [
    "ls /mnt/processed/private/msds2021/cpt6/rb-datasets"
   ]
  },
  {
   "cell_type": "code",
   "execution_count": 2,
   "metadata": {
    "ExecuteTime": {
     "end_time": "2021-03-22T22:11:34.738975Z",
     "start_time": "2021-03-22T22:11:34.733491Z"
    }
   },
   "outputs": [],
   "source": [
    "base = '/mnt/processed/private/msds2021/cpt6/rb-datasets/'\n",
    "file_path = base + 'Lazada MSP Traffic 2019.xlsx'"
   ]
  },
  {
   "cell_type": "code",
   "execution_count": 3,
   "metadata": {
    "ExecuteTime": {
     "end_time": "2021-03-22T22:11:35.520652Z",
     "start_time": "2021-03-22T22:11:35.085825Z"
    }
   },
   "outputs": [],
   "source": [
    "import pandas as pd"
   ]
  },
  {
   "cell_type": "code",
   "execution_count": 4,
   "metadata": {
    "ExecuteTime": {
     "end_time": "2021-03-22T22:11:41.706493Z",
     "start_time": "2021-03-22T22:11:35.524212Z"
    }
   },
   "outputs": [],
   "source": [
    "data = pd.read_excel(file_path)"
   ]
  },
  {
   "cell_type": "code",
   "execution_count": 5,
   "metadata": {
    "ExecuteTime": {
     "end_time": "2021-03-22T22:11:41.750689Z",
     "start_time": "2021-03-22T22:11:41.709287Z"
    }
   },
   "outputs": [
    {
     "data": {
      "text/html": [
       "<div>\n",
       "<style scoped>\n",
       "    .dataframe tbody tr th:only-of-type {\n",
       "        vertical-align: middle;\n",
       "    }\n",
       "\n",
       "    .dataframe tbody tr th {\n",
       "        vertical-align: top;\n",
       "    }\n",
       "\n",
       "    .dataframe thead th {\n",
       "        text-align: right;\n",
       "    }\n",
       "</style>\n",
       "<table border=\"1\" class=\"dataframe\">\n",
       "  <thead>\n",
       "    <tr style=\"text-align: right;\">\n",
       "      <th></th>\n",
       "      <th>Date</th>\n",
       "      <th>Campaign ID</th>\n",
       "      <th>Campaign Name</th>\n",
       "      <th>Funding Type</th>\n",
       "      <th>Brand ID</th>\n",
       "      <th>Brand Name</th>\n",
       "      <th>Seller ID</th>\n",
       "      <th>Seller Name</th>\n",
       "      <th>Channel</th>\n",
       "      <th>Site</th>\n",
       "      <th>...</th>\n",
       "      <th>Visits</th>\n",
       "      <th>Unique Visitors</th>\n",
       "      <th>PDP PV</th>\n",
       "      <th>A2C PV</th>\n",
       "      <th>Item Sold</th>\n",
       "      <th>Total Orders</th>\n",
       "      <th>Revenue(USD)</th>\n",
       "      <th>CR%</th>\n",
       "      <th>Avg revenue per visit</th>\n",
       "      <th>Avg value per item sold</th>\n",
       "    </tr>\n",
       "  </thead>\n",
       "  <tbody>\n",
       "    <tr>\n",
       "      <th>0</th>\n",
       "      <td>20190104</td>\n",
       "      <td>11030000011021</td>\n",
       "      <td>TAP Durex always on</td>\n",
       "      <td>Partnership Assisted</td>\n",
       "      <td>202</td>\n",
       "      <td>Durex</td>\n",
       "      <td>100143773</td>\n",
       "      <td>Certified Partner Durex</td>\n",
       "      <td>Local Publishers</td>\n",
       "      <td>Default</td>\n",
       "      <td>...</td>\n",
       "      <td>1</td>\n",
       "      <td>NaN</td>\n",
       "      <td>0</td>\n",
       "      <td>0</td>\n",
       "      <td>0</td>\n",
       "      <td>NaN</td>\n",
       "      <td>0</td>\n",
       "      <td>0.0000%</td>\n",
       "      <td>0.0</td>\n",
       "      <td>0.0</td>\n",
       "    </tr>\n",
       "    <tr>\n",
       "      <th>1</th>\n",
       "      <td>20190124</td>\n",
       "      <td>11030000011021</td>\n",
       "      <td>TAP Durex always on</td>\n",
       "      <td>Partnership Assisted</td>\n",
       "      <td>202</td>\n",
       "      <td>Durex</td>\n",
       "      <td>100143773</td>\n",
       "      <td>Certified Partner Durex</td>\n",
       "      <td>Local Publishers</td>\n",
       "      <td>Default</td>\n",
       "      <td>...</td>\n",
       "      <td>1</td>\n",
       "      <td>NaN</td>\n",
       "      <td>0</td>\n",
       "      <td>0</td>\n",
       "      <td>0</td>\n",
       "      <td>NaN</td>\n",
       "      <td>0</td>\n",
       "      <td>0.0000%</td>\n",
       "      <td>0.0</td>\n",
       "      <td>0.0</td>\n",
       "    </tr>\n",
       "    <tr>\n",
       "      <th>2</th>\n",
       "      <td>20190107</td>\n",
       "      <td>11030000011021</td>\n",
       "      <td>TAP Durex always on</td>\n",
       "      <td>Partnership Assisted</td>\n",
       "      <td>202</td>\n",
       "      <td>Durex</td>\n",
       "      <td>100143773</td>\n",
       "      <td>Certified Partner Durex</td>\n",
       "      <td>Local Publishers</td>\n",
       "      <td>Default</td>\n",
       "      <td>...</td>\n",
       "      <td>2</td>\n",
       "      <td>NaN</td>\n",
       "      <td>0</td>\n",
       "      <td>0</td>\n",
       "      <td>0</td>\n",
       "      <td>NaN</td>\n",
       "      <td>0</td>\n",
       "      <td>0.0000%</td>\n",
       "      <td>0.0</td>\n",
       "      <td>0.0</td>\n",
       "    </tr>\n",
       "    <tr>\n",
       "      <th>3</th>\n",
       "      <td>20190106</td>\n",
       "      <td>11030000011021</td>\n",
       "      <td>TAP Durex always on</td>\n",
       "      <td>Partnership Assisted</td>\n",
       "      <td>202</td>\n",
       "      <td>Durex</td>\n",
       "      <td>100143773</td>\n",
       "      <td>Certified Partner Durex</td>\n",
       "      <td>Local Publishers</td>\n",
       "      <td>Default</td>\n",
       "      <td>...</td>\n",
       "      <td>1</td>\n",
       "      <td>NaN</td>\n",
       "      <td>0</td>\n",
       "      <td>0</td>\n",
       "      <td>0</td>\n",
       "      <td>NaN</td>\n",
       "      <td>0</td>\n",
       "      <td>0.0000%</td>\n",
       "      <td>0.0</td>\n",
       "      <td>0.0</td>\n",
       "    </tr>\n",
       "    <tr>\n",
       "      <th>4</th>\n",
       "      <td>20190116</td>\n",
       "      <td>11030000011021</td>\n",
       "      <td>TAP Durex always on</td>\n",
       "      <td>Partnership Assisted</td>\n",
       "      <td>202</td>\n",
       "      <td>Durex</td>\n",
       "      <td>100143773</td>\n",
       "      <td>Certified Partner Durex</td>\n",
       "      <td>Local Publishers</td>\n",
       "      <td>Default</td>\n",
       "      <td>...</td>\n",
       "      <td>2</td>\n",
       "      <td>NaN</td>\n",
       "      <td>0</td>\n",
       "      <td>0</td>\n",
       "      <td>0</td>\n",
       "      <td>NaN</td>\n",
       "      <td>0</td>\n",
       "      <td>0.0000%</td>\n",
       "      <td>0.0</td>\n",
       "      <td>0.0</td>\n",
       "    </tr>\n",
       "  </tbody>\n",
       "</table>\n",
       "<p>5 rows × 25 columns</p>\n",
       "</div>"
      ],
      "text/plain": [
       "       Date     Campaign ID        Campaign Name          Funding Type  \\\n",
       "0  20190104  11030000011021  TAP Durex always on  Partnership Assisted   \n",
       "1  20190124  11030000011021  TAP Durex always on  Partnership Assisted   \n",
       "2  20190107  11030000011021  TAP Durex always on  Partnership Assisted   \n",
       "3  20190106  11030000011021  TAP Durex always on  Partnership Assisted   \n",
       "4  20190116  11030000011021  TAP Durex always on  Partnership Assisted   \n",
       "\n",
       "  Brand ID Brand Name  Seller ID              Seller Name           Channel  \\\n",
       "0      202      Durex  100143773  Certified Partner Durex  Local Publishers   \n",
       "1      202      Durex  100143773  Certified Partner Durex  Local Publishers   \n",
       "2      202      Durex  100143773  Certified Partner Durex  Local Publishers   \n",
       "3      202      Durex  100143773  Certified Partner Durex  Local Publishers   \n",
       "4      202      Durex  100143773  Certified Partner Durex  Local Publishers   \n",
       "\n",
       "      Site  ... Visits Unique Visitors PDP PV  A2C PV Item Sold Total Orders  \\\n",
       "0  Default  ...      1             NaN      0       0         0          NaN   \n",
       "1  Default  ...      1             NaN      0       0         0          NaN   \n",
       "2  Default  ...      2             NaN      0       0         0          NaN   \n",
       "3  Default  ...      1             NaN      0       0         0          NaN   \n",
       "4  Default  ...      2             NaN      0       0         0          NaN   \n",
       "\n",
       "   Revenue(USD)      CR% Avg revenue per visit  Avg value per item sold  \n",
       "0             0  0.0000%                   0.0                      0.0  \n",
       "1             0  0.0000%                   0.0                      0.0  \n",
       "2             0  0.0000%                   0.0                      0.0  \n",
       "3             0  0.0000%                   0.0                      0.0  \n",
       "4             0  0.0000%                   0.0                      0.0  \n",
       "\n",
       "[5 rows x 25 columns]"
      ]
     },
     "execution_count": 5,
     "metadata": {},
     "output_type": "execute_result"
    }
   ],
   "source": [
    "data.head()"
   ]
  },
  {
   "cell_type": "code",
   "execution_count": 6,
   "metadata": {
    "ExecuteTime": {
     "end_time": "2021-03-22T22:11:41.764541Z",
     "start_time": "2021-03-22T22:11:41.752859Z"
    }
   },
   "outputs": [
    {
     "data": {
      "text/plain": [
       "Index(['Date', 'Campaign ID', 'Campaign Name', 'Funding Type', 'Brand ID',\n",
       "       'Brand Name', 'Seller ID', 'Seller Name', 'Channel', 'Site',\n",
       "       'Placement', 'Offer ID', 'Adcontent', 'Sub Channel', 'Platform',\n",
       "       'Visits', 'Unique Visitors', 'PDP PV', 'A2C PV', 'Item Sold',\n",
       "       'Total Orders', 'Revenue(USD)', 'CR%', 'Avg revenue per visit',\n",
       "       'Avg value per item sold'],\n",
       "      dtype='object')"
      ]
     },
     "execution_count": 6,
     "metadata": {},
     "output_type": "execute_result"
    }
   ],
   "source": [
    "data.columns"
   ]
  },
  {
   "cell_type": "code",
   "execution_count": 7,
   "metadata": {
    "ExecuteTime": {
     "end_time": "2021-03-22T22:11:41.778847Z",
     "start_time": "2021-03-22T22:11:41.766325Z"
    }
   },
   "outputs": [],
   "source": [
    "#Fix Dates\n",
    "#Brands filter\n",
    "#change some of Nan to Google-SEM for Channel column and Shopping for Site col\n",
    "#convert to int: Visit, PDP PV Product description page - page views, A2C PV add-to-cart page views\n",
    "#convert to float: Revenue(USD), CR%"
   ]
  },
  {
   "cell_type": "code",
   "execution_count": 9,
   "metadata": {
    "ExecuteTime": {
     "end_time": "2021-03-22T22:11:52.400639Z",
     "start_time": "2021-03-22T22:11:52.335017Z"
    }
   },
   "outputs": [
    {
     "name": "stdout",
     "output_type": "stream",
     "text": [
      "<class 'pandas.core.frame.DataFrame'>\n",
      "RangeIndex: 27589 entries, 0 to 27588\n",
      "Data columns (total 25 columns):\n",
      " #   Column                   Non-Null Count  Dtype  \n",
      "---  ------                   --------------  -----  \n",
      " 0   Date                     27589 non-null  int64  \n",
      " 1   Campaign ID              27589 non-null  int64  \n",
      " 2   Campaign Name            27589 non-null  object \n",
      " 3   Funding Type             27589 non-null  object \n",
      " 4   Brand ID                 27589 non-null  object \n",
      " 5   Brand Name               27589 non-null  object \n",
      " 6   Seller ID                27589 non-null  object \n",
      " 7   Seller Name              27589 non-null  object \n",
      " 8   Channel                  27585 non-null  object \n",
      " 9   Site                     27585 non-null  object \n",
      " 10  Placement                27585 non-null  object \n",
      " 11  Offer ID                 27589 non-null  object \n",
      " 12  Adcontent                27589 non-null  object \n",
      " 13  Sub Channel              3153 non-null   float64\n",
      " 14  Platform                 27589 non-null  object \n",
      " 15  Visits                   27589 non-null  object \n",
      " 16  Unique Visitors          25306 non-null  float64\n",
      " 17  PDP PV                   27589 non-null  object \n",
      " 18  A2C PV                   27589 non-null  object \n",
      " 19  Item Sold                27589 non-null  int64  \n",
      " 20  Total Orders             25306 non-null  float64\n",
      " 21  Revenue(USD)             27589 non-null  object \n",
      " 22  CR%                      27589 non-null  object \n",
      " 23  Avg revenue per visit    27589 non-null  float64\n",
      " 24  Avg value per item sold  27589 non-null  float64\n",
      "dtypes: float64(5), int64(3), object(17)\n",
      "memory usage: 5.3+ MB\n"
     ]
    }
   ],
   "source": [
    "data.info()"
   ]
  },
  {
   "cell_type": "code",
   "execution_count": 10,
   "metadata": {
    "ExecuteTime": {
     "end_time": "2021-03-22T22:12:00.155206Z",
     "start_time": "2021-03-22T22:12:00.145135Z"
    }
   },
   "outputs": [
    {
     "data": {
      "text/plain": [
       "Index(['Date', 'Campaign ID', 'Campaign Name', 'Funding Type', 'Brand ID',\n",
       "       'Brand Name', 'Seller ID', 'Seller Name', 'Channel', 'Site',\n",
       "       'Placement', 'Offer ID', 'Adcontent', 'Sub Channel', 'Platform',\n",
       "       'Visits', 'Unique Visitors', 'PDP PV', 'A2C PV', 'Item Sold',\n",
       "       'Total Orders', 'Revenue(USD)', 'CR%', 'Avg revenue per visit',\n",
       "       'Avg value per item sold'],\n",
       "      dtype='object')"
      ]
     },
     "execution_count": 10,
     "metadata": {},
     "output_type": "execute_result"
    }
   ],
   "source": [
    "data.columns"
   ]
  },
  {
   "cell_type": "code",
   "execution_count": 11,
   "metadata": {
    "ExecuteTime": {
     "end_time": "2021-03-22T22:12:00.426816Z",
     "start_time": "2021-03-22T22:12:00.403225Z"
    }
   },
   "outputs": [],
   "source": [
    "data = data.rename(columns={'Date': 'date', 'Campaign ID':'campaign_id',\n",
    "                            'Campaign Name':'campaign_name', \n",
    "                            'Funding Type':'funding_type',\n",
    "                            'Brand ID':'brand_id', 'Brand Name':'brand_name',\n",
    "                            'Seller ID':'seller_id', \n",
    "                            'Seller Name':'seller_name', \n",
    "                            'Channel':'channel', 'Site':'site', \n",
    "                            'Placement':'platform', 'Offer ID':'offer_id', \n",
    "                            'Adcontent':'adcontent', \n",
    "                            'Sub Channel':'sub_channel', \n",
    "                            'Platform':'platform', 'Visits':'visits', \n",
    "                            'Unique Visitors':'unique_visitors', \n",
    "                            'PDP PV':'pdp_pv', \n",
    "                            'A2C PV':'a2c_pv', 'Item Sold':'item_sold',\n",
    "                            'Total Orders':'total_orders', \n",
    "                            'Revenue(USD)':'revenue_usd', 'CR%':'cr', \n",
    "                            'Avg revenue per visit':'avg_rev_per_visit',\n",
    "                            'Avg value per item sold':'avg_val_per_item'})\n"
   ]
  },
  {
   "cell_type": "code",
   "execution_count": 12,
   "metadata": {
    "ExecuteTime": {
     "end_time": "2021-03-22T22:12:01.173760Z",
     "start_time": "2021-03-22T22:12:01.165994Z"
    }
   },
   "outputs": [
    {
     "data": {
      "text/plain": [
       "Index(['date', 'campaign_id', 'campaign_name', 'funding_type', 'brand_id',\n",
       "       'brand_name', 'seller_id', 'seller_name', 'channel', 'site', 'platform',\n",
       "       'offer_id', 'adcontent', 'sub_channel', 'platform', 'visits',\n",
       "       'unique_visitors', 'pdp_pv', 'a2c_pv', 'item_sold', 'total_orders',\n",
       "       'revenue_usd', 'cr', 'avg_rev_per_visit', 'avg_val_per_item'],\n",
       "      dtype='object')"
      ]
     },
     "execution_count": 12,
     "metadata": {},
     "output_type": "execute_result"
    }
   ],
   "source": [
    "data.columns"
   ]
  },
  {
   "cell_type": "code",
   "execution_count": 13,
   "metadata": {
    "ExecuteTime": {
     "end_time": "2021-03-22T22:12:01.691241Z",
     "start_time": "2021-03-22T22:12:01.675807Z"
    }
   },
   "outputs": [],
   "source": [
    "#convert to datetime\n",
    "data['date'] = pd.to_datetime(data['date'], format='%Y%m%d')"
   ]
  },
  {
   "cell_type": "code",
   "execution_count": 15,
   "metadata": {
    "ExecuteTime": {
     "end_time": "2021-03-22T22:12:26.752899Z",
     "start_time": "2021-03-22T22:12:26.738059Z"
    }
   },
   "outputs": [
    {
     "data": {
      "text/plain": [
       "array(['Durex', 'Enfagrow', 'Enfagrow,Lactum', 'Durex,Enfagrow,Lactum',\n",
       "       'Lactum', 'Veet', 'Sustagen Premium'], dtype=object)"
      ]
     },
     "execution_count": 15,
     "metadata": {},
     "output_type": "execute_result"
    }
   ],
   "source": [
    "data['brand_name'].unique()"
   ]
  },
  {
   "cell_type": "code",
   "execution_count": 16,
   "metadata": {
    "ExecuteTime": {
     "end_time": "2021-03-22T22:13:37.548255Z",
     "start_time": "2021-03-22T22:13:37.524270Z"
    }
   },
   "outputs": [],
   "source": [
    "#list of brand names to include\n",
    "brand_list = ['Enfagrow', 'Enfagrow,Lactum', 'Durex,Enfagrow,Lactum', \n",
    "              'Lactum', 'Sustagen Premium']\n",
    "#filter brand names based on list\n",
    "data = data[data['brand_name'].isin(brand_list)]"
   ]
  },
  {
   "cell_type": "code",
   "execution_count": 17,
   "metadata": {
    "ExecuteTime": {
     "end_time": "2021-03-22T22:13:39.354855Z",
     "start_time": "2021-03-22T22:13:39.337051Z"
    }
   },
   "outputs": [
    {
     "data": {
      "text/plain": [
       "4971     NaN\n",
       "4989     NaN\n",
       "5002     NaN\n",
       "18316    NaN\n",
       "Name: channel, dtype: object"
      ]
     },
     "execution_count": 17,
     "metadata": {},
     "output_type": "execute_result"
    }
   ],
   "source": [
    "data[data.channel.isnull()].channel"
   ]
  },
  {
   "cell_type": "code",
   "execution_count": 18,
   "metadata": {
    "ExecuteTime": {
     "end_time": "2021-03-22T22:13:41.589636Z",
     "start_time": "2021-03-22T22:13:41.576292Z"
    }
   },
   "outputs": [
    {
     "data": {
      "text/plain": [
       "array(['Local Publishers', 'Other', 'Facebook', 'Google-SEM', nan,\n",
       "       'Ad Networks', \"Brands'' Websites\", 'Brands-CRM'], dtype=object)"
      ]
     },
     "execution_count": 18,
     "metadata": {},
     "output_type": "execute_result"
    }
   ],
   "source": [
    "data.channel.unique()"
   ]
  },
  {
   "cell_type": "code",
   "execution_count": 19,
   "metadata": {
    "ExecuteTime": {
     "end_time": "2021-03-22T22:13:43.405898Z",
     "start_time": "2021-03-22T22:13:43.350908Z"
    }
   },
   "outputs": [
    {
     "data": {
      "text/html": [
       "<div>\n",
       "<style scoped>\n",
       "    .dataframe tbody tr th:only-of-type {\n",
       "        vertical-align: middle;\n",
       "    }\n",
       "\n",
       "    .dataframe tbody tr th {\n",
       "        vertical-align: top;\n",
       "    }\n",
       "\n",
       "    .dataframe thead th {\n",
       "        text-align: right;\n",
       "    }\n",
       "</style>\n",
       "<table border=\"1\" class=\"dataframe\">\n",
       "  <thead>\n",
       "    <tr style=\"text-align: right;\">\n",
       "      <th></th>\n",
       "      <th>date</th>\n",
       "      <th>campaign_id</th>\n",
       "      <th>campaign_name</th>\n",
       "      <th>funding_type</th>\n",
       "      <th>brand_id</th>\n",
       "      <th>brand_name</th>\n",
       "      <th>seller_id</th>\n",
       "      <th>seller_name</th>\n",
       "      <th>channel</th>\n",
       "      <th>site</th>\n",
       "      <th>...</th>\n",
       "      <th>visits</th>\n",
       "      <th>unique_visitors</th>\n",
       "      <th>pdp_pv</th>\n",
       "      <th>a2c_pv</th>\n",
       "      <th>item_sold</th>\n",
       "      <th>total_orders</th>\n",
       "      <th>revenue_usd</th>\n",
       "      <th>cr</th>\n",
       "      <th>avg_rev_per_visit</th>\n",
       "      <th>avg_val_per_item</th>\n",
       "    </tr>\n",
       "  </thead>\n",
       "  <tbody>\n",
       "    <tr>\n",
       "      <th>3082</th>\n",
       "      <td>2019-03-22</td>\n",
       "      <td>11030000033003</td>\n",
       "      <td>2019 Google Shopping Ad</td>\n",
       "      <td>Partnership Assisted</td>\n",
       "      <td>65761</td>\n",
       "      <td>Lactum</td>\n",
       "      <td>100065226</td>\n",
       "      <td>Lazada E-Services Philippines</td>\n",
       "      <td>Google-SEM</td>\n",
       "      <td>Shopping</td>\n",
       "      <td>...</td>\n",
       "      <td>5</td>\n",
       "      <td>5.0</td>\n",
       "      <td>8</td>\n",
       "      <td>0</td>\n",
       "      <td>0</td>\n",
       "      <td>0.0</td>\n",
       "      <td>0</td>\n",
       "      <td>0.0000%</td>\n",
       "      <td>0.0</td>\n",
       "      <td>0.0</td>\n",
       "    </tr>\n",
       "    <tr>\n",
       "      <th>3083</th>\n",
       "      <td>2019-03-24</td>\n",
       "      <td>11030000033003</td>\n",
       "      <td>2019 Google Shopping Ad</td>\n",
       "      <td>Partnership Assisted</td>\n",
       "      <td>65761</td>\n",
       "      <td>Lactum</td>\n",
       "      <td>100065226</td>\n",
       "      <td>Lazada E-Services Philippines</td>\n",
       "      <td>Google-SEM</td>\n",
       "      <td>Shopping</td>\n",
       "      <td>...</td>\n",
       "      <td>1</td>\n",
       "      <td>1.0</td>\n",
       "      <td>0</td>\n",
       "      <td>0</td>\n",
       "      <td>0</td>\n",
       "      <td>0.0</td>\n",
       "      <td>0</td>\n",
       "      <td>0.0000%</td>\n",
       "      <td>0.0</td>\n",
       "      <td>0.0</td>\n",
       "    </tr>\n",
       "    <tr>\n",
       "      <th>3084</th>\n",
       "      <td>2019-03-23</td>\n",
       "      <td>11030000033003</td>\n",
       "      <td>2019 Google Shopping Ad</td>\n",
       "      <td>Partnership Assisted</td>\n",
       "      <td>65761</td>\n",
       "      <td>Lactum</td>\n",
       "      <td>100065226</td>\n",
       "      <td>Lazada E-Services Philippines</td>\n",
       "      <td>Google-SEM</td>\n",
       "      <td>Shopping</td>\n",
       "      <td>...</td>\n",
       "      <td>3</td>\n",
       "      <td>2.0</td>\n",
       "      <td>3</td>\n",
       "      <td>0</td>\n",
       "      <td>0</td>\n",
       "      <td>0.0</td>\n",
       "      <td>0</td>\n",
       "      <td>0.0000%</td>\n",
       "      <td>0.0</td>\n",
       "      <td>0.0</td>\n",
       "    </tr>\n",
       "    <tr>\n",
       "      <th>3085</th>\n",
       "      <td>2019-03-26</td>\n",
       "      <td>11030000033003</td>\n",
       "      <td>2019 Google Shopping Ad</td>\n",
       "      <td>Partnership Assisted</td>\n",
       "      <td>65761</td>\n",
       "      <td>Lactum</td>\n",
       "      <td>100065226</td>\n",
       "      <td>Lazada E-Services Philippines</td>\n",
       "      <td>Google-SEM</td>\n",
       "      <td>Shopping</td>\n",
       "      <td>...</td>\n",
       "      <td>8</td>\n",
       "      <td>7.0</td>\n",
       "      <td>5</td>\n",
       "      <td>1</td>\n",
       "      <td>0</td>\n",
       "      <td>0.0</td>\n",
       "      <td>0</td>\n",
       "      <td>0.0000%</td>\n",
       "      <td>0.0</td>\n",
       "      <td>0.0</td>\n",
       "    </tr>\n",
       "    <tr>\n",
       "      <th>3086</th>\n",
       "      <td>2019-03-24</td>\n",
       "      <td>11030000033003</td>\n",
       "      <td>2019 Google Shopping Ad</td>\n",
       "      <td>Partnership Assisted</td>\n",
       "      <td>65761</td>\n",
       "      <td>Lactum</td>\n",
       "      <td>100065226</td>\n",
       "      <td>Lazada E-Services Philippines</td>\n",
       "      <td>Google-SEM</td>\n",
       "      <td>Shopping</td>\n",
       "      <td>...</td>\n",
       "      <td>22</td>\n",
       "      <td>21.0</td>\n",
       "      <td>4</td>\n",
       "      <td>0</td>\n",
       "      <td>0</td>\n",
       "      <td>0.0</td>\n",
       "      <td>0</td>\n",
       "      <td>0.0000%</td>\n",
       "      <td>0.0</td>\n",
       "      <td>0.0</td>\n",
       "    </tr>\n",
       "    <tr>\n",
       "      <th>...</th>\n",
       "      <td>...</td>\n",
       "      <td>...</td>\n",
       "      <td>...</td>\n",
       "      <td>...</td>\n",
       "      <td>...</td>\n",
       "      <td>...</td>\n",
       "      <td>...</td>\n",
       "      <td>...</td>\n",
       "      <td>...</td>\n",
       "      <td>...</td>\n",
       "      <td>...</td>\n",
       "      <td>...</td>\n",
       "      <td>...</td>\n",
       "      <td>...</td>\n",
       "      <td>...</td>\n",
       "      <td>...</td>\n",
       "      <td>...</td>\n",
       "      <td>...</td>\n",
       "      <td>...</td>\n",
       "      <td>...</td>\n",
       "      <td>...</td>\n",
       "    </tr>\n",
       "    <tr>\n",
       "      <th>23873</th>\n",
       "      <td>2019-12-10</td>\n",
       "      <td>11030000045126</td>\n",
       "      <td>2019 Google Search Lactum</td>\n",
       "      <td>Partnership Assisted</td>\n",
       "      <td>65761</td>\n",
       "      <td>Lactum</td>\n",
       "      <td>100065226</td>\n",
       "      <td>Lazada E-Services Philippines</td>\n",
       "      <td>Google-SEM</td>\n",
       "      <td>keywords_non DSA</td>\n",
       "      <td>...</td>\n",
       "      <td>1</td>\n",
       "      <td>1.0</td>\n",
       "      <td>0</td>\n",
       "      <td>0</td>\n",
       "      <td>0</td>\n",
       "      <td>0.0</td>\n",
       "      <td>0</td>\n",
       "      <td>0.0000%</td>\n",
       "      <td>0.0</td>\n",
       "      <td>0.0</td>\n",
       "    </tr>\n",
       "    <tr>\n",
       "      <th>23874</th>\n",
       "      <td>2019-12-09</td>\n",
       "      <td>11030000045126</td>\n",
       "      <td>2019 Google Search Lactum</td>\n",
       "      <td>Partnership Assisted</td>\n",
       "      <td>65761</td>\n",
       "      <td>Lactum</td>\n",
       "      <td>100065226</td>\n",
       "      <td>Lazada E-Services Philippines</td>\n",
       "      <td>Google-SEM</td>\n",
       "      <td>keywords_non DSA</td>\n",
       "      <td>...</td>\n",
       "      <td>14</td>\n",
       "      <td>14.0</td>\n",
       "      <td>0</td>\n",
       "      <td>0</td>\n",
       "      <td>0</td>\n",
       "      <td>0.0</td>\n",
       "      <td>0</td>\n",
       "      <td>0.0000%</td>\n",
       "      <td>0.0</td>\n",
       "      <td>0.0</td>\n",
       "    </tr>\n",
       "    <tr>\n",
       "      <th>23875</th>\n",
       "      <td>2019-12-14</td>\n",
       "      <td>11030000045126</td>\n",
       "      <td>2019 Google Search Lactum</td>\n",
       "      <td>Partnership Assisted</td>\n",
       "      <td>65761</td>\n",
       "      <td>Lactum</td>\n",
       "      <td>100065226</td>\n",
       "      <td>Lazada E-Services Philippines</td>\n",
       "      <td>Google-SEM</td>\n",
       "      <td>keywords_non DSA</td>\n",
       "      <td>...</td>\n",
       "      <td>3</td>\n",
       "      <td>3.0</td>\n",
       "      <td>2</td>\n",
       "      <td>0</td>\n",
       "      <td>0</td>\n",
       "      <td>0.0</td>\n",
       "      <td>0</td>\n",
       "      <td>0.0000%</td>\n",
       "      <td>0.0</td>\n",
       "      <td>0.0</td>\n",
       "    </tr>\n",
       "    <tr>\n",
       "      <th>23876</th>\n",
       "      <td>2019-12-06</td>\n",
       "      <td>11030000045126</td>\n",
       "      <td>2019 Google Search Lactum</td>\n",
       "      <td>Partnership Assisted</td>\n",
       "      <td>65761</td>\n",
       "      <td>Lactum</td>\n",
       "      <td>100065226</td>\n",
       "      <td>Lazada E-Services Philippines</td>\n",
       "      <td>Google-SEM</td>\n",
       "      <td>keywords_non DSA</td>\n",
       "      <td>...</td>\n",
       "      <td>13</td>\n",
       "      <td>12.0</td>\n",
       "      <td>0</td>\n",
       "      <td>0</td>\n",
       "      <td>0</td>\n",
       "      <td>0.0</td>\n",
       "      <td>0</td>\n",
       "      <td>0.0000%</td>\n",
       "      <td>0.0</td>\n",
       "      <td>0.0</td>\n",
       "    </tr>\n",
       "    <tr>\n",
       "      <th>23877</th>\n",
       "      <td>2019-12-06</td>\n",
       "      <td>11030000045126</td>\n",
       "      <td>2019 Google Search Lactum</td>\n",
       "      <td>Partnership Assisted</td>\n",
       "      <td>65761</td>\n",
       "      <td>Lactum</td>\n",
       "      <td>100065226</td>\n",
       "      <td>Lazada E-Services Philippines</td>\n",
       "      <td>Google-SEM</td>\n",
       "      <td>keywords_non DSA</td>\n",
       "      <td>...</td>\n",
       "      <td>12</td>\n",
       "      <td>11.0</td>\n",
       "      <td>0</td>\n",
       "      <td>0</td>\n",
       "      <td>0</td>\n",
       "      <td>0.0</td>\n",
       "      <td>0</td>\n",
       "      <td>0.0000%</td>\n",
       "      <td>0.0</td>\n",
       "      <td>0.0</td>\n",
       "    </tr>\n",
       "  </tbody>\n",
       "</table>\n",
       "<p>4379 rows × 25 columns</p>\n",
       "</div>"
      ],
      "text/plain": [
       "            date     campaign_id              campaign_name  \\\n",
       "3082  2019-03-22  11030000033003    2019 Google Shopping Ad   \n",
       "3083  2019-03-24  11030000033003    2019 Google Shopping Ad   \n",
       "3084  2019-03-23  11030000033003    2019 Google Shopping Ad   \n",
       "3085  2019-03-26  11030000033003    2019 Google Shopping Ad   \n",
       "3086  2019-03-24  11030000033003    2019 Google Shopping Ad   \n",
       "...          ...             ...                        ...   \n",
       "23873 2019-12-10  11030000045126  2019 Google Search Lactum   \n",
       "23874 2019-12-09  11030000045126  2019 Google Search Lactum   \n",
       "23875 2019-12-14  11030000045126  2019 Google Search Lactum   \n",
       "23876 2019-12-06  11030000045126  2019 Google Search Lactum   \n",
       "23877 2019-12-06  11030000045126  2019 Google Search Lactum   \n",
       "\n",
       "               funding_type brand_id brand_name  seller_id  \\\n",
       "3082   Partnership Assisted    65761     Lactum  100065226   \n",
       "3083   Partnership Assisted    65761     Lactum  100065226   \n",
       "3084   Partnership Assisted    65761     Lactum  100065226   \n",
       "3085   Partnership Assisted    65761     Lactum  100065226   \n",
       "3086   Partnership Assisted    65761     Lactum  100065226   \n",
       "...                     ...      ...        ...        ...   \n",
       "23873  Partnership Assisted    65761     Lactum  100065226   \n",
       "23874  Partnership Assisted    65761     Lactum  100065226   \n",
       "23875  Partnership Assisted    65761     Lactum  100065226   \n",
       "23876  Partnership Assisted    65761     Lactum  100065226   \n",
       "23877  Partnership Assisted    65761     Lactum  100065226   \n",
       "\n",
       "                         seller_name     channel              site  ...  \\\n",
       "3082   Lazada E-Services Philippines  Google-SEM          Shopping  ...   \n",
       "3083   Lazada E-Services Philippines  Google-SEM          Shopping  ...   \n",
       "3084   Lazada E-Services Philippines  Google-SEM          Shopping  ...   \n",
       "3085   Lazada E-Services Philippines  Google-SEM          Shopping  ...   \n",
       "3086   Lazada E-Services Philippines  Google-SEM          Shopping  ...   \n",
       "...                              ...         ...               ...  ...   \n",
       "23873  Lazada E-Services Philippines  Google-SEM  keywords_non DSA  ...   \n",
       "23874  Lazada E-Services Philippines  Google-SEM  keywords_non DSA  ...   \n",
       "23875  Lazada E-Services Philippines  Google-SEM  keywords_non DSA  ...   \n",
       "23876  Lazada E-Services Philippines  Google-SEM  keywords_non DSA  ...   \n",
       "23877  Lazada E-Services Philippines  Google-SEM  keywords_non DSA  ...   \n",
       "\n",
       "      visits unique_visitors pdp_pv  a2c_pv item_sold total_orders  \\\n",
       "3082       5             5.0      8       0         0          0.0   \n",
       "3083       1             1.0      0       0         0          0.0   \n",
       "3084       3             2.0      3       0         0          0.0   \n",
       "3085       8             7.0      5       1         0          0.0   \n",
       "3086      22            21.0      4       0         0          0.0   \n",
       "...      ...             ...    ...     ...       ...          ...   \n",
       "23873      1             1.0      0       0         0          0.0   \n",
       "23874     14            14.0      0       0         0          0.0   \n",
       "23875      3             3.0      2       0         0          0.0   \n",
       "23876     13            12.0      0       0         0          0.0   \n",
       "23877     12            11.0      0       0         0          0.0   \n",
       "\n",
       "       revenue_usd       cr avg_rev_per_visit  avg_val_per_item  \n",
       "3082             0  0.0000%               0.0               0.0  \n",
       "3083             0  0.0000%               0.0               0.0  \n",
       "3084             0  0.0000%               0.0               0.0  \n",
       "3085             0  0.0000%               0.0               0.0  \n",
       "3086             0  0.0000%               0.0               0.0  \n",
       "...            ...      ...               ...               ...  \n",
       "23873            0  0.0000%               0.0               0.0  \n",
       "23874            0  0.0000%               0.0               0.0  \n",
       "23875            0  0.0000%               0.0               0.0  \n",
       "23876            0  0.0000%               0.0               0.0  \n",
       "23877            0  0.0000%               0.0               0.0  \n",
       "\n",
       "[4379 rows x 25 columns]"
      ]
     },
     "execution_count": 19,
     "metadata": {},
     "output_type": "execute_result"
    }
   ],
   "source": [
    "data[data['channel']=='Google-SEM']"
   ]
  },
  {
   "cell_type": "code",
   "execution_count": 20,
   "metadata": {
    "ExecuteTime": {
     "end_time": "2021-03-22T22:13:47.892787Z",
     "start_time": "2021-03-22T22:13:47.878028Z"
    }
   },
   "outputs": [
    {
     "data": {
      "text/plain": [
       "Int64Index([4971, 4989, 5002, 18316], dtype='int64')"
      ]
     },
     "execution_count": 20,
     "metadata": {},
     "output_type": "execute_result"
    }
   ],
   "source": [
    "data[data.channel.isnull()].index"
   ]
  },
  {
   "cell_type": "code",
   "execution_count": 21,
   "metadata": {
    "ExecuteTime": {
     "end_time": "2021-03-22T22:13:48.601970Z",
     "start_time": "2021-03-22T22:13:48.563087Z"
    }
   },
   "outputs": [
    {
     "data": {
      "text/html": [
       "<div>\n",
       "<style scoped>\n",
       "    .dataframe tbody tr th:only-of-type {\n",
       "        vertical-align: middle;\n",
       "    }\n",
       "\n",
       "    .dataframe tbody tr th {\n",
       "        vertical-align: top;\n",
       "    }\n",
       "\n",
       "    .dataframe thead th {\n",
       "        text-align: right;\n",
       "    }\n",
       "</style>\n",
       "<table border=\"1\" class=\"dataframe\">\n",
       "  <thead>\n",
       "    <tr style=\"text-align: right;\">\n",
       "      <th></th>\n",
       "      <th>date</th>\n",
       "      <th>campaign_id</th>\n",
       "      <th>campaign_name</th>\n",
       "      <th>funding_type</th>\n",
       "      <th>brand_id</th>\n",
       "      <th>brand_name</th>\n",
       "      <th>seller_id</th>\n",
       "      <th>seller_name</th>\n",
       "      <th>channel</th>\n",
       "      <th>site</th>\n",
       "      <th>...</th>\n",
       "      <th>visits</th>\n",
       "      <th>unique_visitors</th>\n",
       "      <th>pdp_pv</th>\n",
       "      <th>a2c_pv</th>\n",
       "      <th>item_sold</th>\n",
       "      <th>total_orders</th>\n",
       "      <th>revenue_usd</th>\n",
       "      <th>cr</th>\n",
       "      <th>avg_rev_per_visit</th>\n",
       "      <th>avg_val_per_item</th>\n",
       "    </tr>\n",
       "  </thead>\n",
       "  <tbody>\n",
       "    <tr>\n",
       "      <th>4971</th>\n",
       "      <td>2019-05-08</td>\n",
       "      <td>11030000033003</td>\n",
       "      <td>2019 Google Shopping Lactum</td>\n",
       "      <td>Partnership Assisted</td>\n",
       "      <td>65761</td>\n",
       "      <td>Lactum</td>\n",
       "      <td>100065226</td>\n",
       "      <td>Lazada E-Services Philippines</td>\n",
       "      <td>NaN</td>\n",
       "      <td>NaN</td>\n",
       "      <td>...</td>\n",
       "      <td>1</td>\n",
       "      <td>1.0</td>\n",
       "      <td>2</td>\n",
       "      <td>0</td>\n",
       "      <td>0</td>\n",
       "      <td>0.0</td>\n",
       "      <td>0</td>\n",
       "      <td>0.0000%</td>\n",
       "      <td>0.0</td>\n",
       "      <td>0.0</td>\n",
       "    </tr>\n",
       "    <tr>\n",
       "      <th>4989</th>\n",
       "      <td>2019-05-07</td>\n",
       "      <td>11030000033003</td>\n",
       "      <td>2019 Google Shopping Lactum</td>\n",
       "      <td>Partnership Assisted</td>\n",
       "      <td>65761</td>\n",
       "      <td>Lactum</td>\n",
       "      <td>100065226</td>\n",
       "      <td>Lazada E-Services Philippines</td>\n",
       "      <td>NaN</td>\n",
       "      <td>NaN</td>\n",
       "      <td>...</td>\n",
       "      <td>1</td>\n",
       "      <td>1.0</td>\n",
       "      <td>1</td>\n",
       "      <td>0</td>\n",
       "      <td>0</td>\n",
       "      <td>0.0</td>\n",
       "      <td>0</td>\n",
       "      <td>0.0000%</td>\n",
       "      <td>0.0</td>\n",
       "      <td>0.0</td>\n",
       "    </tr>\n",
       "    <tr>\n",
       "      <th>5002</th>\n",
       "      <td>2019-05-07</td>\n",
       "      <td>11030000033003</td>\n",
       "      <td>2019 Google Shopping Lactum</td>\n",
       "      <td>Partnership Assisted</td>\n",
       "      <td>65761</td>\n",
       "      <td>Lactum</td>\n",
       "      <td>100065226</td>\n",
       "      <td>Lazada E-Services Philippines</td>\n",
       "      <td>NaN</td>\n",
       "      <td>NaN</td>\n",
       "      <td>...</td>\n",
       "      <td>1</td>\n",
       "      <td>1.0</td>\n",
       "      <td>0</td>\n",
       "      <td>0</td>\n",
       "      <td>0</td>\n",
       "      <td>0.0</td>\n",
       "      <td>0</td>\n",
       "      <td>0.0000%</td>\n",
       "      <td>0.0</td>\n",
       "      <td>0.0</td>\n",
       "    </tr>\n",
       "    <tr>\n",
       "      <th>18316</th>\n",
       "      <td>2019-11-09</td>\n",
       "      <td>11030000045125</td>\n",
       "      <td>2019 Google Search Enfagrow</td>\n",
       "      <td>Partnership Assisted</td>\n",
       "      <td>207</td>\n",
       "      <td>Enfagrow</td>\n",
       "      <td>100065226</td>\n",
       "      <td>Lazada E-Services Philippines</td>\n",
       "      <td>NaN</td>\n",
       "      <td>NaN</td>\n",
       "      <td>...</td>\n",
       "      <td>2</td>\n",
       "      <td>1.0</td>\n",
       "      <td>0</td>\n",
       "      <td>0</td>\n",
       "      <td>0</td>\n",
       "      <td>0.0</td>\n",
       "      <td>0</td>\n",
       "      <td>0.0000%</td>\n",
       "      <td>0.0</td>\n",
       "      <td>0.0</td>\n",
       "    </tr>\n",
       "  </tbody>\n",
       "</table>\n",
       "<p>4 rows × 25 columns</p>\n",
       "</div>"
      ],
      "text/plain": [
       "            date     campaign_id                campaign_name  \\\n",
       "4971  2019-05-08  11030000033003  2019 Google Shopping Lactum   \n",
       "4989  2019-05-07  11030000033003  2019 Google Shopping Lactum   \n",
       "5002  2019-05-07  11030000033003  2019 Google Shopping Lactum   \n",
       "18316 2019-11-09  11030000045125  2019 Google Search Enfagrow   \n",
       "\n",
       "               funding_type brand_id brand_name  seller_id  \\\n",
       "4971   Partnership Assisted    65761     Lactum  100065226   \n",
       "4989   Partnership Assisted    65761     Lactum  100065226   \n",
       "5002   Partnership Assisted    65761     Lactum  100065226   \n",
       "18316  Partnership Assisted      207   Enfagrow  100065226   \n",
       "\n",
       "                         seller_name channel site  ... visits unique_visitors  \\\n",
       "4971   Lazada E-Services Philippines     NaN  NaN  ...      1             1.0   \n",
       "4989   Lazada E-Services Philippines     NaN  NaN  ...      1             1.0   \n",
       "5002   Lazada E-Services Philippines     NaN  NaN  ...      1             1.0   \n",
       "18316  Lazada E-Services Philippines     NaN  NaN  ...      2             1.0   \n",
       "\n",
       "      pdp_pv  a2c_pv item_sold total_orders  revenue_usd       cr  \\\n",
       "4971       2       0         0          0.0            0  0.0000%   \n",
       "4989       1       0         0          0.0            0  0.0000%   \n",
       "5002       0       0         0          0.0            0  0.0000%   \n",
       "18316      0       0         0          0.0            0  0.0000%   \n",
       "\n",
       "      avg_rev_per_visit  avg_val_per_item  \n",
       "4971                0.0               0.0  \n",
       "4989                0.0               0.0  \n",
       "5002                0.0               0.0  \n",
       "18316               0.0               0.0  \n",
       "\n",
       "[4 rows x 25 columns]"
      ]
     },
     "execution_count": 21,
     "metadata": {},
     "output_type": "execute_result"
    }
   ],
   "source": [
    "data[data.channel.isnull()]"
   ]
  },
  {
   "cell_type": "code",
   "execution_count": 22,
   "metadata": {
    "ExecuteTime": {
     "end_time": "2021-03-22T22:13:49.105220Z",
     "start_time": "2021-03-22T22:13:49.091991Z"
    }
   },
   "outputs": [
    {
     "data": {
      "text/plain": [
       "array(['Default', 'Mix', 'Facebook', 'Shopping', 'keywords_non DSA', nan,\n",
       "       'Network', 'Auto', 'SEM_Brand'], dtype=object)"
      ]
     },
     "execution_count": 22,
     "metadata": {},
     "output_type": "execute_result"
    }
   ],
   "source": [
    "data.site.unique()"
   ]
  },
  {
   "cell_type": "code",
   "execution_count": 23,
   "metadata": {
    "ExecuteTime": {
     "end_time": "2021-03-22T22:13:50.465003Z",
     "start_time": "2021-03-22T22:13:50.457158Z"
    }
   },
   "outputs": [],
   "source": [
    "#manually update values\n",
    "lazada1_update = pd.DataFrame({'channel': ['Google-SEM', 'Google-SEM', 'Google-SEM', 'Google-SEM'], \n",
    "                               'site': ['Shopping', 'Shopping', 'Shopping', 'keywords_non DSA']}, \n",
    "                               index=[4971, 4989, 5002, 18316])"
   ]
  },
  {
   "cell_type": "code",
   "execution_count": 24,
   "metadata": {
    "ExecuteTime": {
     "end_time": "2021-03-22T22:13:51.387450Z",
     "start_time": "2021-03-22T22:13:51.279911Z"
    }
   },
   "outputs": [],
   "source": [
    "data.update(lazada1_update)"
   ]
  },
  {
   "cell_type": "code",
   "execution_count": 25,
   "metadata": {
    "ExecuteTime": {
     "end_time": "2021-03-22T22:13:51.799691Z",
     "start_time": "2021-03-22T22:13:51.785014Z"
    }
   },
   "outputs": [
    {
     "data": {
      "text/plain": [
       "Int64Index([], dtype='int64')"
      ]
     },
     "execution_count": 25,
     "metadata": {},
     "output_type": "execute_result"
    }
   ],
   "source": [
    "data[data.channel.isnull()].index"
   ]
  },
  {
   "cell_type": "code",
   "execution_count": 26,
   "metadata": {
    "ExecuteTime": {
     "end_time": "2021-03-22T22:13:53.942234Z",
     "start_time": "2021-03-22T22:13:53.764050Z"
    }
   },
   "outputs": [],
   "source": [
    "data.visits = data.visits.replace(',','', regex=True)\n",
    "data.pdp_pv = data.pdp_pv.replace(',','', regex=True)\n",
    "data.a2c_pv = data.a2c_pv.replace(',','', regex=True)\n",
    "data.revenue_usd = data.revenue_usd.replace(',','', regex=True)\n",
    "data.cr = data.cr.replace(',','', regex=True)\n",
    "data.cr = data.cr.replace('%','', regex=True)\n",
    "#convert to int: Visit, PDP PV, A2C PV\n",
    "#convert to float: Revenue(USD), CR%"
   ]
  },
  {
   "cell_type": "code",
   "execution_count": 27,
   "metadata": {
    "ExecuteTime": {
     "end_time": "2021-03-22T22:13:55.178273Z",
     "start_time": "2021-03-22T22:13:55.082279Z"
    }
   },
   "outputs": [],
   "source": [
    "data.visits = pd.to_numeric(data.visits)\n",
    "data.pdp_pv = pd.to_numeric(data.pdp_pv)\n",
    "data.a2c_pv = pd.to_numeric(data.a2c_pv)\n",
    "data.revenue_usd = pd.to_numeric(data.revenue_usd)\n",
    "data.cr = pd.to_numeric(data.cr)"
   ]
  },
  {
   "cell_type": "code",
   "execution_count": 28,
   "metadata": {
    "ExecuteTime": {
     "end_time": "2021-03-22T22:13:59.201165Z",
     "start_time": "2021-03-22T22:13:59.161208Z"
    }
   },
   "outputs": [
    {
     "name": "stdout",
     "output_type": "stream",
     "text": [
      "<class 'pandas.core.frame.DataFrame'>\n",
      "Int64Index: 23517 entries, 45 to 27357\n",
      "Data columns (total 25 columns):\n",
      " #   Column             Non-Null Count  Dtype         \n",
      "---  ------             --------------  -----         \n",
      " 0   date               23517 non-null  datetime64[ns]\n",
      " 1   campaign_id        23517 non-null  int64         \n",
      " 2   campaign_name      23517 non-null  object        \n",
      " 3   funding_type       23517 non-null  object        \n",
      " 4   brand_id           23517 non-null  object        \n",
      " 5   brand_name         23517 non-null  object        \n",
      " 6   seller_id          23517 non-null  object        \n",
      " 7   seller_name        23517 non-null  object        \n",
      " 8   channel            23517 non-null  object        \n",
      " 9   site               23517 non-null  object        \n",
      " 10  platform           23513 non-null  object        \n",
      " 11  offer_id           23517 non-null  object        \n",
      " 12  adcontent          23517 non-null  object        \n",
      " 13  sub_channel        3112 non-null   float64       \n",
      " 14  platform           23517 non-null  object        \n",
      " 15  visits             23517 non-null  int64         \n",
      " 16  unique_visitors    21523 non-null  float64       \n",
      " 17  pdp_pv             23517 non-null  int64         \n",
      " 18  a2c_pv             23517 non-null  int64         \n",
      " 19  item_sold          23517 non-null  int64         \n",
      " 20  total_orders       21523 non-null  float64       \n",
      " 21  revenue_usd        23517 non-null  float64       \n",
      " 22  cr                 23517 non-null  float64       \n",
      " 23  avg_rev_per_visit  23517 non-null  float64       \n",
      " 24  avg_val_per_item   23517 non-null  float64       \n",
      "dtypes: datetime64[ns](1), float64(7), int64(5), object(12)\n",
      "memory usage: 4.7+ MB\n"
     ]
    }
   ],
   "source": [
    "data.info()"
   ]
  },
  {
   "cell_type": "code",
   "execution_count": 29,
   "metadata": {
    "ExecuteTime": {
     "end_time": "2021-03-22T22:17:58.204390Z",
     "start_time": "2021-03-22T22:17:58.153110Z"
    }
   },
   "outputs": [
    {
     "data": {
      "text/html": [
       "<div>\n",
       "<style scoped>\n",
       "    .dataframe tbody tr th:only-of-type {\n",
       "        vertical-align: middle;\n",
       "    }\n",
       "\n",
       "    .dataframe tbody tr th {\n",
       "        vertical-align: top;\n",
       "    }\n",
       "\n",
       "    .dataframe thead th {\n",
       "        text-align: right;\n",
       "    }\n",
       "</style>\n",
       "<table border=\"1\" class=\"dataframe\">\n",
       "  <thead>\n",
       "    <tr style=\"text-align: right;\">\n",
       "      <th></th>\n",
       "      <th>date</th>\n",
       "      <th>campaign_id</th>\n",
       "      <th>campaign_name</th>\n",
       "      <th>funding_type</th>\n",
       "      <th>brand_id</th>\n",
       "      <th>brand_name</th>\n",
       "      <th>seller_id</th>\n",
       "      <th>seller_name</th>\n",
       "      <th>channel</th>\n",
       "      <th>site</th>\n",
       "      <th>...</th>\n",
       "      <th>visits</th>\n",
       "      <th>unique_visitors</th>\n",
       "      <th>pdp_pv</th>\n",
       "      <th>a2c_pv</th>\n",
       "      <th>item_sold</th>\n",
       "      <th>total_orders</th>\n",
       "      <th>revenue_usd</th>\n",
       "      <th>cr</th>\n",
       "      <th>avg_rev_per_visit</th>\n",
       "      <th>avg_val_per_item</th>\n",
       "    </tr>\n",
       "  </thead>\n",
       "  <tbody>\n",
       "    <tr>\n",
       "      <th>45</th>\n",
       "      <td>2019-01-03</td>\n",
       "      <td>11030000011029</td>\n",
       "      <td>TAP 12.12</td>\n",
       "      <td>Partnership Assisted</td>\n",
       "      <td>207</td>\n",
       "      <td>Enfagrow</td>\n",
       "      <td>100065226</td>\n",
       "      <td>Lazada E-Services Philippines</td>\n",
       "      <td>Local Publishers</td>\n",
       "      <td>Default</td>\n",
       "      <td>...</td>\n",
       "      <td>4</td>\n",
       "      <td>NaN</td>\n",
       "      <td>0</td>\n",
       "      <td>0</td>\n",
       "      <td>0</td>\n",
       "      <td>NaN</td>\n",
       "      <td>0.0</td>\n",
       "      <td>0.0</td>\n",
       "      <td>0.0</td>\n",
       "      <td>0.0</td>\n",
       "    </tr>\n",
       "    <tr>\n",
       "      <th>46</th>\n",
       "      <td>2019-01-05</td>\n",
       "      <td>11030000011029</td>\n",
       "      <td>TAP 12.12</td>\n",
       "      <td>Partnership Assisted</td>\n",
       "      <td>207</td>\n",
       "      <td>Enfagrow</td>\n",
       "      <td>100065226</td>\n",
       "      <td>Lazada E-Services Philippines</td>\n",
       "      <td>Local Publishers</td>\n",
       "      <td>Default</td>\n",
       "      <td>...</td>\n",
       "      <td>2</td>\n",
       "      <td>NaN</td>\n",
       "      <td>0</td>\n",
       "      <td>0</td>\n",
       "      <td>0</td>\n",
       "      <td>NaN</td>\n",
       "      <td>0.0</td>\n",
       "      <td>0.0</td>\n",
       "      <td>0.0</td>\n",
       "      <td>0.0</td>\n",
       "    </tr>\n",
       "    <tr>\n",
       "      <th>47</th>\n",
       "      <td>2019-01-02</td>\n",
       "      <td>11030000011029</td>\n",
       "      <td>TAP 12.12</td>\n",
       "      <td>Partnership Assisted</td>\n",
       "      <td>207</td>\n",
       "      <td>Enfagrow</td>\n",
       "      <td>100065226</td>\n",
       "      <td>Lazada E-Services Philippines</td>\n",
       "      <td>Local Publishers</td>\n",
       "      <td>Default</td>\n",
       "      <td>...</td>\n",
       "      <td>2</td>\n",
       "      <td>NaN</td>\n",
       "      <td>0</td>\n",
       "      <td>0</td>\n",
       "      <td>0</td>\n",
       "      <td>NaN</td>\n",
       "      <td>0.0</td>\n",
       "      <td>0.0</td>\n",
       "      <td>0.0</td>\n",
       "      <td>0.0</td>\n",
       "    </tr>\n",
       "    <tr>\n",
       "      <th>48</th>\n",
       "      <td>2019-01-10</td>\n",
       "      <td>11030000011029</td>\n",
       "      <td>TAP 12.12</td>\n",
       "      <td>Partnership Assisted</td>\n",
       "      <td>207</td>\n",
       "      <td>Enfagrow</td>\n",
       "      <td>100065226</td>\n",
       "      <td>Lazada E-Services Philippines</td>\n",
       "      <td>Local Publishers</td>\n",
       "      <td>Default</td>\n",
       "      <td>...</td>\n",
       "      <td>1</td>\n",
       "      <td>NaN</td>\n",
       "      <td>0</td>\n",
       "      <td>0</td>\n",
       "      <td>0</td>\n",
       "      <td>NaN</td>\n",
       "      <td>0.0</td>\n",
       "      <td>0.0</td>\n",
       "      <td>0.0</td>\n",
       "      <td>0.0</td>\n",
       "    </tr>\n",
       "    <tr>\n",
       "      <th>49</th>\n",
       "      <td>2019-01-02</td>\n",
       "      <td>11030000011029</td>\n",
       "      <td>TAP 12.12</td>\n",
       "      <td>Partnership Assisted</td>\n",
       "      <td>207</td>\n",
       "      <td>Enfagrow</td>\n",
       "      <td>100065226</td>\n",
       "      <td>Lazada E-Services Philippines</td>\n",
       "      <td>Local Publishers</td>\n",
       "      <td>Default</td>\n",
       "      <td>...</td>\n",
       "      <td>2</td>\n",
       "      <td>NaN</td>\n",
       "      <td>0</td>\n",
       "      <td>0</td>\n",
       "      <td>0</td>\n",
       "      <td>NaN</td>\n",
       "      <td>0.0</td>\n",
       "      <td>0.0</td>\n",
       "      <td>0.0</td>\n",
       "      <td>0.0</td>\n",
       "    </tr>\n",
       "    <tr>\n",
       "      <th>...</th>\n",
       "      <td>...</td>\n",
       "      <td>...</td>\n",
       "      <td>...</td>\n",
       "      <td>...</td>\n",
       "      <td>...</td>\n",
       "      <td>...</td>\n",
       "      <td>...</td>\n",
       "      <td>...</td>\n",
       "      <td>...</td>\n",
       "      <td>...</td>\n",
       "      <td>...</td>\n",
       "      <td>...</td>\n",
       "      <td>...</td>\n",
       "      <td>...</td>\n",
       "      <td>...</td>\n",
       "      <td>...</td>\n",
       "      <td>...</td>\n",
       "      <td>...</td>\n",
       "      <td>...</td>\n",
       "      <td>...</td>\n",
       "      <td>...</td>\n",
       "    </tr>\n",
       "    <tr>\n",
       "      <th>27353</th>\n",
       "      <td>2019-12-25</td>\n",
       "      <td>11030000188155</td>\n",
       "      <td>12.12 2019 Sustagen</td>\n",
       "      <td>Partnership Assisted</td>\n",
       "      <td>34445</td>\n",
       "      <td>Sustagen Premium</td>\n",
       "      <td>100065226</td>\n",
       "      <td>Lazada E-Services Philippines</td>\n",
       "      <td>Facebook</td>\n",
       "      <td>Mix</td>\n",
       "      <td>...</td>\n",
       "      <td>4</td>\n",
       "      <td>4.0</td>\n",
       "      <td>4</td>\n",
       "      <td>0</td>\n",
       "      <td>0</td>\n",
       "      <td>0.0</td>\n",
       "      <td>0.0</td>\n",
       "      <td>0.0</td>\n",
       "      <td>0.0</td>\n",
       "      <td>0.0</td>\n",
       "    </tr>\n",
       "    <tr>\n",
       "      <th>27354</th>\n",
       "      <td>2019-12-08</td>\n",
       "      <td>11030000188155</td>\n",
       "      <td>12.12 2019 Sustagen</td>\n",
       "      <td>Partnership Assisted</td>\n",
       "      <td>34445</td>\n",
       "      <td>Sustagen Premium</td>\n",
       "      <td>100065226</td>\n",
       "      <td>Lazada E-Services Philippines</td>\n",
       "      <td>Facebook</td>\n",
       "      <td>Facebook</td>\n",
       "      <td>...</td>\n",
       "      <td>1</td>\n",
       "      <td>1.0</td>\n",
       "      <td>1</td>\n",
       "      <td>0</td>\n",
       "      <td>0</td>\n",
       "      <td>0.0</td>\n",
       "      <td>0.0</td>\n",
       "      <td>0.0</td>\n",
       "      <td>0.0</td>\n",
       "      <td>0.0</td>\n",
       "    </tr>\n",
       "    <tr>\n",
       "      <th>27355</th>\n",
       "      <td>2019-12-09</td>\n",
       "      <td>11030000188155</td>\n",
       "      <td>12.12 2019 Sustagen</td>\n",
       "      <td>Partnership Assisted</td>\n",
       "      <td>34445</td>\n",
       "      <td>Sustagen Premium</td>\n",
       "      <td>100065226</td>\n",
       "      <td>Lazada E-Services Philippines</td>\n",
       "      <td>Facebook</td>\n",
       "      <td>Facebook</td>\n",
       "      <td>...</td>\n",
       "      <td>1</td>\n",
       "      <td>1.0</td>\n",
       "      <td>0</td>\n",
       "      <td>0</td>\n",
       "      <td>0</td>\n",
       "      <td>0.0</td>\n",
       "      <td>0.0</td>\n",
       "      <td>0.0</td>\n",
       "      <td>0.0</td>\n",
       "      <td>0.0</td>\n",
       "    </tr>\n",
       "    <tr>\n",
       "      <th>27356</th>\n",
       "      <td>2019-12-14</td>\n",
       "      <td>11030000188155</td>\n",
       "      <td>12.12 2019 Sustagen</td>\n",
       "      <td>Partnership Assisted</td>\n",
       "      <td>34445</td>\n",
       "      <td>Sustagen Premium</td>\n",
       "      <td>100065226</td>\n",
       "      <td>Lazada E-Services Philippines</td>\n",
       "      <td>Facebook</td>\n",
       "      <td>Facebook</td>\n",
       "      <td>...</td>\n",
       "      <td>1</td>\n",
       "      <td>1.0</td>\n",
       "      <td>0</td>\n",
       "      <td>0</td>\n",
       "      <td>0</td>\n",
       "      <td>0.0</td>\n",
       "      <td>0.0</td>\n",
       "      <td>0.0</td>\n",
       "      <td>0.0</td>\n",
       "      <td>0.0</td>\n",
       "    </tr>\n",
       "    <tr>\n",
       "      <th>27357</th>\n",
       "      <td>2019-12-10</td>\n",
       "      <td>11030000188155</td>\n",
       "      <td>12.12 2019 Sustagen</td>\n",
       "      <td>Partnership Assisted</td>\n",
       "      <td>34445</td>\n",
       "      <td>Sustagen Premium</td>\n",
       "      <td>100065226</td>\n",
       "      <td>Lazada E-Services Philippines</td>\n",
       "      <td>Facebook</td>\n",
       "      <td>Facebook</td>\n",
       "      <td>...</td>\n",
       "      <td>1</td>\n",
       "      <td>1.0</td>\n",
       "      <td>0</td>\n",
       "      <td>0</td>\n",
       "      <td>0</td>\n",
       "      <td>0.0</td>\n",
       "      <td>0.0</td>\n",
       "      <td>0.0</td>\n",
       "      <td>0.0</td>\n",
       "      <td>0.0</td>\n",
       "    </tr>\n",
       "  </tbody>\n",
       "</table>\n",
       "<p>23517 rows × 25 columns</p>\n",
       "</div>"
      ],
      "text/plain": [
       "            date     campaign_id        campaign_name          funding_type  \\\n",
       "45    2019-01-03  11030000011029            TAP 12.12  Partnership Assisted   \n",
       "46    2019-01-05  11030000011029            TAP 12.12  Partnership Assisted   \n",
       "47    2019-01-02  11030000011029            TAP 12.12  Partnership Assisted   \n",
       "48    2019-01-10  11030000011029            TAP 12.12  Partnership Assisted   \n",
       "49    2019-01-02  11030000011029            TAP 12.12  Partnership Assisted   \n",
       "...          ...             ...                  ...                   ...   \n",
       "27353 2019-12-25  11030000188155  12.12 2019 Sustagen  Partnership Assisted   \n",
       "27354 2019-12-08  11030000188155  12.12 2019 Sustagen  Partnership Assisted   \n",
       "27355 2019-12-09  11030000188155  12.12 2019 Sustagen  Partnership Assisted   \n",
       "27356 2019-12-14  11030000188155  12.12 2019 Sustagen  Partnership Assisted   \n",
       "27357 2019-12-10  11030000188155  12.12 2019 Sustagen  Partnership Assisted   \n",
       "\n",
       "      brand_id        brand_name  seller_id                    seller_name  \\\n",
       "45         207          Enfagrow  100065226  Lazada E-Services Philippines   \n",
       "46         207          Enfagrow  100065226  Lazada E-Services Philippines   \n",
       "47         207          Enfagrow  100065226  Lazada E-Services Philippines   \n",
       "48         207          Enfagrow  100065226  Lazada E-Services Philippines   \n",
       "49         207          Enfagrow  100065226  Lazada E-Services Philippines   \n",
       "...        ...               ...        ...                            ...   \n",
       "27353    34445  Sustagen Premium  100065226  Lazada E-Services Philippines   \n",
       "27354    34445  Sustagen Premium  100065226  Lazada E-Services Philippines   \n",
       "27355    34445  Sustagen Premium  100065226  Lazada E-Services Philippines   \n",
       "27356    34445  Sustagen Premium  100065226  Lazada E-Services Philippines   \n",
       "27357    34445  Sustagen Premium  100065226  Lazada E-Services Philippines   \n",
       "\n",
       "                channel      site  ... visits unique_visitors pdp_pv  a2c_pv  \\\n",
       "45     Local Publishers   Default  ...      4             NaN      0       0   \n",
       "46     Local Publishers   Default  ...      2             NaN      0       0   \n",
       "47     Local Publishers   Default  ...      2             NaN      0       0   \n",
       "48     Local Publishers   Default  ...      1             NaN      0       0   \n",
       "49     Local Publishers   Default  ...      2             NaN      0       0   \n",
       "...                 ...       ...  ...    ...             ...    ...     ...   \n",
       "27353          Facebook       Mix  ...      4             4.0      4       0   \n",
       "27354          Facebook  Facebook  ...      1             1.0      1       0   \n",
       "27355          Facebook  Facebook  ...      1             1.0      0       0   \n",
       "27356          Facebook  Facebook  ...      1             1.0      0       0   \n",
       "27357          Facebook  Facebook  ...      1             1.0      0       0   \n",
       "\n",
       "      item_sold  total_orders  revenue_usd   cr  avg_rev_per_visit  \\\n",
       "45            0           NaN          0.0  0.0                0.0   \n",
       "46            0           NaN          0.0  0.0                0.0   \n",
       "47            0           NaN          0.0  0.0                0.0   \n",
       "48            0           NaN          0.0  0.0                0.0   \n",
       "49            0           NaN          0.0  0.0                0.0   \n",
       "...         ...           ...          ...  ...                ...   \n",
       "27353         0           0.0          0.0  0.0                0.0   \n",
       "27354         0           0.0          0.0  0.0                0.0   \n",
       "27355         0           0.0          0.0  0.0                0.0   \n",
       "27356         0           0.0          0.0  0.0                0.0   \n",
       "27357         0           0.0          0.0  0.0                0.0   \n",
       "\n",
       "       avg_val_per_item  \n",
       "45                  0.0  \n",
       "46                  0.0  \n",
       "47                  0.0  \n",
       "48                  0.0  \n",
       "49                  0.0  \n",
       "...                 ...  \n",
       "27353               0.0  \n",
       "27354               0.0  \n",
       "27355               0.0  \n",
       "27356               0.0  \n",
       "27357               0.0  \n",
       "\n",
       "[23517 rows x 25 columns]"
      ]
     },
     "execution_count": 29,
     "metadata": {},
     "output_type": "execute_result"
    }
   ],
   "source": [
    "data"
   ]
  },
  {
   "cell_type": "code",
   "execution_count": 30,
   "metadata": {
    "ExecuteTime": {
     "end_time": "2021-03-22T22:18:03.139018Z",
     "start_time": "2021-03-22T22:18:03.134335Z"
    }
   },
   "outputs": [],
   "source": [
    "file_path2 = base + 'Lazada MSP Traffic 2020.xlsx'"
   ]
  },
  {
   "cell_type": "code",
   "execution_count": 31,
   "metadata": {
    "ExecuteTime": {
     "end_time": "2021-03-22T22:18:11.950439Z",
     "start_time": "2021-03-22T22:18:03.626289Z"
    }
   },
   "outputs": [],
   "source": [
    "data2 = pd.read_excel(file_path2)"
   ]
  },
  {
   "cell_type": "code",
   "execution_count": 32,
   "metadata": {
    "ExecuteTime": {
     "end_time": "2021-03-22T22:18:11.998585Z",
     "start_time": "2021-03-22T22:18:11.952113Z"
    }
   },
   "outputs": [
    {
     "data": {
      "text/html": [
       "<div>\n",
       "<style scoped>\n",
       "    .dataframe tbody tr th:only-of-type {\n",
       "        vertical-align: middle;\n",
       "    }\n",
       "\n",
       "    .dataframe tbody tr th {\n",
       "        vertical-align: top;\n",
       "    }\n",
       "\n",
       "    .dataframe thead th {\n",
       "        text-align: right;\n",
       "    }\n",
       "</style>\n",
       "<table border=\"1\" class=\"dataframe\">\n",
       "  <thead>\n",
       "    <tr style=\"text-align: right;\">\n",
       "      <th></th>\n",
       "      <th>Month</th>\n",
       "      <th>Year</th>\n",
       "      <th>Date</th>\n",
       "      <th>Campaign ID</th>\n",
       "      <th>Campaign Name</th>\n",
       "      <th>Funding Type</th>\n",
       "      <th>Brand ID</th>\n",
       "      <th>Brand Name</th>\n",
       "      <th>Seller ID</th>\n",
       "      <th>Seller Name</th>\n",
       "      <th>...</th>\n",
       "      <th>Visits</th>\n",
       "      <th>Unique Visitors</th>\n",
       "      <th>PDP PV</th>\n",
       "      <th>A2C PV</th>\n",
       "      <th>Item Sold</th>\n",
       "      <th>Total Orders</th>\n",
       "      <th>Revenue(USD)</th>\n",
       "      <th>CR%</th>\n",
       "      <th>Avg revenue per visit</th>\n",
       "      <th>Avg value per item sold</th>\n",
       "    </tr>\n",
       "  </thead>\n",
       "  <tbody>\n",
       "    <tr>\n",
       "      <th>0</th>\n",
       "      <td>Jan</td>\n",
       "      <td>2020</td>\n",
       "      <td>20200115</td>\n",
       "      <td>11030000011021</td>\n",
       "      <td>TAP Durex always on</td>\n",
       "      <td>Partnership Assisted</td>\n",
       "      <td>202</td>\n",
       "      <td>Durex</td>\n",
       "      <td>100143773</td>\n",
       "      <td>Certified Partner Durex</td>\n",
       "      <td>...</td>\n",
       "      <td>1</td>\n",
       "      <td>1</td>\n",
       "      <td>0</td>\n",
       "      <td>0</td>\n",
       "      <td>0</td>\n",
       "      <td>0</td>\n",
       "      <td>0.0</td>\n",
       "      <td>0.0000%</td>\n",
       "      <td>0.0</td>\n",
       "      <td>0.0</td>\n",
       "    </tr>\n",
       "    <tr>\n",
       "      <th>1</th>\n",
       "      <td>Jan</td>\n",
       "      <td>2020</td>\n",
       "      <td>20200107</td>\n",
       "      <td>11030000011021</td>\n",
       "      <td>TAP Durex always on</td>\n",
       "      <td>Partnership Assisted</td>\n",
       "      <td>202</td>\n",
       "      <td>Durex</td>\n",
       "      <td>100143773</td>\n",
       "      <td>Certified Partner Durex</td>\n",
       "      <td>...</td>\n",
       "      <td>1</td>\n",
       "      <td>1</td>\n",
       "      <td>0</td>\n",
       "      <td>0</td>\n",
       "      <td>0</td>\n",
       "      <td>0</td>\n",
       "      <td>0.0</td>\n",
       "      <td>0.0000%</td>\n",
       "      <td>0.0</td>\n",
       "      <td>0.0</td>\n",
       "    </tr>\n",
       "    <tr>\n",
       "      <th>2</th>\n",
       "      <td>Jan</td>\n",
       "      <td>2020</td>\n",
       "      <td>20200125</td>\n",
       "      <td>11030000011021</td>\n",
       "      <td>TAP Durex always on</td>\n",
       "      <td>Partnership Assisted</td>\n",
       "      <td>202</td>\n",
       "      <td>Durex</td>\n",
       "      <td>100143773</td>\n",
       "      <td>Certified Partner Durex</td>\n",
       "      <td>...</td>\n",
       "      <td>1</td>\n",
       "      <td>1</td>\n",
       "      <td>0</td>\n",
       "      <td>0</td>\n",
       "      <td>0</td>\n",
       "      <td>0</td>\n",
       "      <td>0.0</td>\n",
       "      <td>0.0000%</td>\n",
       "      <td>0.0</td>\n",
       "      <td>0.0</td>\n",
       "    </tr>\n",
       "    <tr>\n",
       "      <th>3</th>\n",
       "      <td>Jan</td>\n",
       "      <td>2020</td>\n",
       "      <td>20200120</td>\n",
       "      <td>11030000011021</td>\n",
       "      <td>TAP Durex always on</td>\n",
       "      <td>Partnership Assisted</td>\n",
       "      <td>202</td>\n",
       "      <td>Durex</td>\n",
       "      <td>100143773</td>\n",
       "      <td>Certified Partner Durex</td>\n",
       "      <td>...</td>\n",
       "      <td>1</td>\n",
       "      <td>1</td>\n",
       "      <td>0</td>\n",
       "      <td>0</td>\n",
       "      <td>0</td>\n",
       "      <td>0</td>\n",
       "      <td>0.0</td>\n",
       "      <td>0.0000%</td>\n",
       "      <td>0.0</td>\n",
       "      <td>0.0</td>\n",
       "    </tr>\n",
       "    <tr>\n",
       "      <th>4</th>\n",
       "      <td>Jan</td>\n",
       "      <td>2020</td>\n",
       "      <td>20200110</td>\n",
       "      <td>11030000024086</td>\n",
       "      <td>2020-Pera Swipe-Enfagrow</td>\n",
       "      <td>Partnership Assisted</td>\n",
       "      <td>207</td>\n",
       "      <td>Enfagrow</td>\n",
       "      <td>100065226</td>\n",
       "      <td>Lazada E-Services Philippines</td>\n",
       "      <td>...</td>\n",
       "      <td>1</td>\n",
       "      <td>1</td>\n",
       "      <td>0</td>\n",
       "      <td>0</td>\n",
       "      <td>0</td>\n",
       "      <td>0</td>\n",
       "      <td>0.0</td>\n",
       "      <td>0.0000%</td>\n",
       "      <td>0.0</td>\n",
       "      <td>0.0</td>\n",
       "    </tr>\n",
       "    <tr>\n",
       "      <th>...</th>\n",
       "      <td>...</td>\n",
       "      <td>...</td>\n",
       "      <td>...</td>\n",
       "      <td>...</td>\n",
       "      <td>...</td>\n",
       "      <td>...</td>\n",
       "      <td>...</td>\n",
       "      <td>...</td>\n",
       "      <td>...</td>\n",
       "      <td>...</td>\n",
       "      <td>...</td>\n",
       "      <td>...</td>\n",
       "      <td>...</td>\n",
       "      <td>...</td>\n",
       "      <td>...</td>\n",
       "      <td>...</td>\n",
       "      <td>...</td>\n",
       "      <td>...</td>\n",
       "      <td>...</td>\n",
       "      <td>...</td>\n",
       "      <td>...</td>\n",
       "    </tr>\n",
       "    <tr>\n",
       "      <th>36084</th>\n",
       "      <td>Dec</td>\n",
       "      <td>2020</td>\n",
       "      <td>20201209</td>\n",
       "      <td>11030000676461</td>\n",
       "      <td>Facebook Organic Posts</td>\n",
       "      <td>Partnership Assisted</td>\n",
       "      <td>202,207,234,34445,478,55125,65761</td>\n",
       "      <td>Durex,Enfagrow,Gaviscon,Lactum,Strepsils,Susta...</td>\n",
       "      <td>100065226,26629</td>\n",
       "      <td>Global Wellness Inc.,Lazada E-Services Philipp...</td>\n",
       "      <td>...</td>\n",
       "      <td>5</td>\n",
       "      <td>5</td>\n",
       "      <td>0</td>\n",
       "      <td>0</td>\n",
       "      <td>0</td>\n",
       "      <td>0</td>\n",
       "      <td>0.0</td>\n",
       "      <td>0.0000%</td>\n",
       "      <td>0.0</td>\n",
       "      <td>0.0</td>\n",
       "    </tr>\n",
       "    <tr>\n",
       "      <th>36085</th>\n",
       "      <td>Dec</td>\n",
       "      <td>2020</td>\n",
       "      <td>20201220</td>\n",
       "      <td>11030000676461</td>\n",
       "      <td>Facebook Organic Posts</td>\n",
       "      <td>Partnership Assisted</td>\n",
       "      <td>202,207,234,34445,478,55125,65761</td>\n",
       "      <td>Durex,Enfagrow,Gaviscon,Lactum,Strepsils,Susta...</td>\n",
       "      <td>100065226,26629</td>\n",
       "      <td>Global Wellness Inc.,Lazada E-Services Philipp...</td>\n",
       "      <td>...</td>\n",
       "      <td>1</td>\n",
       "      <td>1</td>\n",
       "      <td>0</td>\n",
       "      <td>0</td>\n",
       "      <td>0</td>\n",
       "      <td>0</td>\n",
       "      <td>0.0</td>\n",
       "      <td>0.0000%</td>\n",
       "      <td>0.0</td>\n",
       "      <td>0.0</td>\n",
       "    </tr>\n",
       "    <tr>\n",
       "      <th>36086</th>\n",
       "      <td>Dec</td>\n",
       "      <td>2020</td>\n",
       "      <td>20201207</td>\n",
       "      <td>11030000676461</td>\n",
       "      <td>Facebook Organic Posts</td>\n",
       "      <td>Partnership Assisted</td>\n",
       "      <td>202,207,234,34445,478,55125,65761</td>\n",
       "      <td>Durex,Enfagrow,Gaviscon,Lactum,Strepsils,Susta...</td>\n",
       "      <td>100065226,26629</td>\n",
       "      <td>Global Wellness Inc.,Lazada E-Services Philipp...</td>\n",
       "      <td>...</td>\n",
       "      <td>1</td>\n",
       "      <td>1</td>\n",
       "      <td>0</td>\n",
       "      <td>0</td>\n",
       "      <td>0</td>\n",
       "      <td>0</td>\n",
       "      <td>0.0</td>\n",
       "      <td>0.0000%</td>\n",
       "      <td>0.0</td>\n",
       "      <td>0.0</td>\n",
       "    </tr>\n",
       "    <tr>\n",
       "      <th>36087</th>\n",
       "      <td>Dec</td>\n",
       "      <td>2020</td>\n",
       "      <td>20201220</td>\n",
       "      <td>11030000676461</td>\n",
       "      <td>Facebook Organic Posts</td>\n",
       "      <td>Partnership Assisted</td>\n",
       "      <td>202,207,234,34445,478,55125,65761</td>\n",
       "      <td>Durex,Enfagrow,Gaviscon,Lactum,Strepsils,Susta...</td>\n",
       "      <td>100065226,26629</td>\n",
       "      <td>Global Wellness Inc.,Lazada E-Services Philipp...</td>\n",
       "      <td>...</td>\n",
       "      <td>1</td>\n",
       "      <td>1</td>\n",
       "      <td>0</td>\n",
       "      <td>0</td>\n",
       "      <td>0</td>\n",
       "      <td>0</td>\n",
       "      <td>0.0</td>\n",
       "      <td>0.0000%</td>\n",
       "      <td>0.0</td>\n",
       "      <td>0.0</td>\n",
       "    </tr>\n",
       "    <tr>\n",
       "      <th>36088</th>\n",
       "      <td>Dec</td>\n",
       "      <td>2020</td>\n",
       "      <td>20201212</td>\n",
       "      <td>11030000676461</td>\n",
       "      <td>Facebook Organic Posts</td>\n",
       "      <td>Partnership Assisted</td>\n",
       "      <td>202,207,234,34445,478,55125,65761</td>\n",
       "      <td>Durex,Enfagrow,Gaviscon,Lactum,Strepsils,Susta...</td>\n",
       "      <td>100065226,26629</td>\n",
       "      <td>Global Wellness Inc.,Lazada E-Services Philipp...</td>\n",
       "      <td>...</td>\n",
       "      <td>1</td>\n",
       "      <td>1</td>\n",
       "      <td>0</td>\n",
       "      <td>1</td>\n",
       "      <td>0</td>\n",
       "      <td>0</td>\n",
       "      <td>0.0</td>\n",
       "      <td>0.0000%</td>\n",
       "      <td>0.0</td>\n",
       "      <td>0.0</td>\n",
       "    </tr>\n",
       "  </tbody>\n",
       "</table>\n",
       "<p>36089 rows × 27 columns</p>\n",
       "</div>"
      ],
      "text/plain": [
       "      Month  Year      Date     Campaign ID             Campaign Name  \\\n",
       "0       Jan  2020  20200115  11030000011021       TAP Durex always on   \n",
       "1       Jan  2020  20200107  11030000011021       TAP Durex always on   \n",
       "2       Jan  2020  20200125  11030000011021       TAP Durex always on   \n",
       "3       Jan  2020  20200120  11030000011021       TAP Durex always on   \n",
       "4       Jan  2020  20200110  11030000024086  2020-Pera Swipe-Enfagrow   \n",
       "...     ...   ...       ...             ...                       ...   \n",
       "36084   Dec  2020  20201209  11030000676461    Facebook Organic Posts   \n",
       "36085   Dec  2020  20201220  11030000676461    Facebook Organic Posts   \n",
       "36086   Dec  2020  20201207  11030000676461    Facebook Organic Posts   \n",
       "36087   Dec  2020  20201220  11030000676461    Facebook Organic Posts   \n",
       "36088   Dec  2020  20201212  11030000676461    Facebook Organic Posts   \n",
       "\n",
       "               Funding Type                           Brand ID  \\\n",
       "0      Partnership Assisted                                202   \n",
       "1      Partnership Assisted                                202   \n",
       "2      Partnership Assisted                                202   \n",
       "3      Partnership Assisted                                202   \n",
       "4      Partnership Assisted                                207   \n",
       "...                     ...                                ...   \n",
       "36084  Partnership Assisted  202,207,234,34445,478,55125,65761   \n",
       "36085  Partnership Assisted  202,207,234,34445,478,55125,65761   \n",
       "36086  Partnership Assisted  202,207,234,34445,478,55125,65761   \n",
       "36087  Partnership Assisted  202,207,234,34445,478,55125,65761   \n",
       "36088  Partnership Assisted  202,207,234,34445,478,55125,65761   \n",
       "\n",
       "                                              Brand Name        Seller ID  \\\n",
       "0                                                  Durex        100143773   \n",
       "1                                                  Durex        100143773   \n",
       "2                                                  Durex        100143773   \n",
       "3                                                  Durex        100143773   \n",
       "4                                               Enfagrow        100065226   \n",
       "...                                                  ...              ...   \n",
       "36084  Durex,Enfagrow,Gaviscon,Lactum,Strepsils,Susta...  100065226,26629   \n",
       "36085  Durex,Enfagrow,Gaviscon,Lactum,Strepsils,Susta...  100065226,26629   \n",
       "36086  Durex,Enfagrow,Gaviscon,Lactum,Strepsils,Susta...  100065226,26629   \n",
       "36087  Durex,Enfagrow,Gaviscon,Lactum,Strepsils,Susta...  100065226,26629   \n",
       "36088  Durex,Enfagrow,Gaviscon,Lactum,Strepsils,Susta...  100065226,26629   \n",
       "\n",
       "                                             Seller Name  ... Visits  \\\n",
       "0                                Certified Partner Durex  ...      1   \n",
       "1                                Certified Partner Durex  ...      1   \n",
       "2                                Certified Partner Durex  ...      1   \n",
       "3                                Certified Partner Durex  ...      1   \n",
       "4                          Lazada E-Services Philippines  ...      1   \n",
       "...                                                  ...  ...    ...   \n",
       "36084  Global Wellness Inc.,Lazada E-Services Philipp...  ...      5   \n",
       "36085  Global Wellness Inc.,Lazada E-Services Philipp...  ...      1   \n",
       "36086  Global Wellness Inc.,Lazada E-Services Philipp...  ...      1   \n",
       "36087  Global Wellness Inc.,Lazada E-Services Philipp...  ...      1   \n",
       "36088  Global Wellness Inc.,Lazada E-Services Philipp...  ...      1   \n",
       "\n",
       "      Unique Visitors PDP PV A2C PV Item Sold  Total Orders Revenue(USD)  \\\n",
       "0                   1      0      0         0             0          0.0   \n",
       "1                   1      0      0         0             0          0.0   \n",
       "2                   1      0      0         0             0          0.0   \n",
       "3                   1      0      0         0             0          0.0   \n",
       "4                   1      0      0         0             0          0.0   \n",
       "...               ...    ...    ...       ...           ...          ...   \n",
       "36084               5      0      0         0             0          0.0   \n",
       "36085               1      0      0         0             0          0.0   \n",
       "36086               1      0      0         0             0          0.0   \n",
       "36087               1      0      0         0             0          0.0   \n",
       "36088               1      0      1         0             0          0.0   \n",
       "\n",
       "           CR%  Avg revenue per visit Avg value per item sold  \n",
       "0      0.0000%                    0.0                     0.0  \n",
       "1      0.0000%                    0.0                     0.0  \n",
       "2      0.0000%                    0.0                     0.0  \n",
       "3      0.0000%                    0.0                     0.0  \n",
       "4      0.0000%                    0.0                     0.0  \n",
       "...        ...                    ...                     ...  \n",
       "36084  0.0000%                    0.0                     0.0  \n",
       "36085  0.0000%                    0.0                     0.0  \n",
       "36086  0.0000%                    0.0                     0.0  \n",
       "36087  0.0000%                    0.0                     0.0  \n",
       "36088  0.0000%                    0.0                     0.0  \n",
       "\n",
       "[36089 rows x 27 columns]"
      ]
     },
     "execution_count": 32,
     "metadata": {},
     "output_type": "execute_result"
    }
   ],
   "source": [
    "data2"
   ]
  },
  {
   "cell_type": "code",
   "execution_count": 33,
   "metadata": {
    "ExecuteTime": {
     "end_time": "2021-03-22T22:18:12.006874Z",
     "start_time": "2021-03-22T22:18:12.000092Z"
    }
   },
   "outputs": [],
   "source": [
    "data2 = data2.rename(columns={'Date': 'date', 'Campaign ID':'campaign_id',\n",
    "                            'Campaign Name':'campaign_name', \n",
    "                            'Funding Type':'funding_type',\n",
    "                            'Brand ID':'brand_id', 'Brand Name':'brand_name',\n",
    "                            'Seller ID':'seller_id', \n",
    "                            'Seller Name':'seller_name', \n",
    "                            'Channel':'channel', 'Site':'site', \n",
    "                            'Placement':'platform', 'Offer ID':'offer_id', \n",
    "                            'Adcontent':'adcontent', \n",
    "                            'Sub Channel':'sub_channel', \n",
    "                            'Platform':'platform', 'Visits':'visits', \n",
    "                            'Unique Visitors':'unique_visitors', \n",
    "                            'PDP PV':'pdp_pv', \n",
    "                            'A2C PV':'a2c_pv', 'Item Sold':'item_sold',\n",
    "                            'Total Orders':'total_orders', \n",
    "                            'Revenue(USD)':'revenue_usd', 'CR%':'cr', \n",
    "                            'Avg revenue per visit':'avg_rev_per_visit',\n",
    "                            'Avg value per item sold':'avg_val_per_item'})"
   ]
  },
  {
   "cell_type": "code",
   "execution_count": 34,
   "metadata": {
    "ExecuteTime": {
     "end_time": "2021-03-22T22:18:12.014986Z",
     "start_time": "2021-03-22T22:18:12.008467Z"
    }
   },
   "outputs": [
    {
     "data": {
      "text/plain": [
       "array(['Durex', 'Enfagrow', 'Lactum', 'Veet', 'Sustagen Premium',\n",
       "       'Durex,Enfagrow,Lactum', 'Gaviscon', 'Strepsils',\n",
       "       'Durex,Enfagrow,Gaviscon,Lactum,Strepsils,Sustagen Premium,Veet'],\n",
       "      dtype=object)"
      ]
     },
     "execution_count": 34,
     "metadata": {},
     "output_type": "execute_result"
    }
   ],
   "source": [
    "data2.brand_name.unique()"
   ]
  },
  {
   "cell_type": "code",
   "execution_count": 32,
   "metadata": {
    "ExecuteTime": {
     "end_time": "2021-03-16T01:54:39.304775Z",
     "start_time": "2021-03-16T01:54:39.291788Z"
    }
   },
   "outputs": [],
   "source": [
    "#convert to datetime\n",
    "data2['date'] = pd.to_datetime(data2['date'], format='%Y%m%d')"
   ]
  },
  {
   "cell_type": "code",
   "execution_count": 35,
   "metadata": {
    "ExecuteTime": {
     "end_time": "2021-03-22T22:19:02.664987Z",
     "start_time": "2021-03-22T22:19:02.638364Z"
    }
   },
   "outputs": [],
   "source": [
    "#list of brand names to include\n",
    "brand_list = ['Enfagrow', 'Enfagrow,Lactum', 'Durex,Enfagrow,Lactum', \n",
    "              'Lactum', 'Durex,Enfagrow,Gaviscon,Lactum,Strepsils,Sustagen Premium,Veet',\n",
    "              'Sustagen Premium']\n",
    "#how do multi-brand campaigns differ from just lactum or enfagrow campaigns?\n",
    "#filter brand names based on list\n",
    "data2 = data2[data2['brand_name'].isin(brand_list)]"
   ]
  },
  {
   "cell_type": "code",
   "execution_count": 36,
   "metadata": {
    "ExecuteTime": {
     "end_time": "2021-03-22T22:19:13.293874Z",
     "start_time": "2021-03-22T22:19:13.279314Z"
    }
   },
   "outputs": [
    {
     "data": {
      "text/plain": [
       "array(['Enfagrow', 'Lactum', 'Sustagen Premium', 'Durex,Enfagrow,Lactum',\n",
       "       'Durex,Enfagrow,Gaviscon,Lactum,Strepsils,Sustagen Premium,Veet'],\n",
       "      dtype=object)"
      ]
     },
     "execution_count": 36,
     "metadata": {},
     "output_type": "execute_result"
    }
   ],
   "source": [
    "data2.brand_name.unique()"
   ]
  },
  {
   "cell_type": "code",
   "execution_count": 39,
   "metadata": {
    "ExecuteTime": {
     "end_time": "2021-03-22T22:20:02.776578Z",
     "start_time": "2021-03-22T22:20:02.758283Z"
    },
    "scrolled": false
   },
   "outputs": [
    {
     "data": {
      "text/plain": [
       "array(['Club Mama CRM', 'Lactum Owned Assets', 'Enfagrow Owned Assets',\n",
       "       'ENFAGROW_Broad', 'SUSTAGEN_Broad', '2020_ENFAGROW_GOOGLE',\n",
       "       'Q4BUAds', 'Lactum Partnerships 2020', 'Q4 BU Ads',\n",
       "       'Club Mama CRM - Lactum'], dtype=object)"
      ]
     },
     "execution_count": 39,
     "metadata": {},
     "output_type": "execute_result"
    }
   ],
   "source": [
    "data2[data2.channel.isnull()].campaign_name.unique()"
   ]
  },
  {
   "cell_type": "code",
   "execution_count": 38,
   "metadata": {
    "ExecuteTime": {
     "end_time": "2021-03-16T01:55:56.395512Z",
     "start_time": "2021-03-16T01:55:56.382558Z"
    }
   },
   "outputs": [
    {
     "name": "stdout",
     "output_type": "stream",
     "text": [
      "['Club Mama CRM' 'Lactum Owned Assets' 'Enfagrow Owned Assets'\n",
      " 'ENFAGROW_Broad' '2020_ENFAGROW_GOOGLE' 'Q4BUAds'\n",
      " 'Lactum Partnerships 2020' 'Q4 BU Ads' 'Club Mama CRM - Lactum']\n"
     ]
    }
   ],
   "source": [
    "print(data2[data2.channel.isnull()].campaign_name.unique())\n",
    "#what's the channel and site for these campaigns?\n",
    "#What are Q4 BU Ads? "
   ]
  },
  {
   "cell_type": "code",
   "execution_count": 45,
   "metadata": {
    "ExecuteTime": {
     "end_time": "2021-03-22T22:21:59.222589Z",
     "start_time": "2021-03-22T22:21:59.171606Z"
    }
   },
   "outputs": [
    {
     "name": "stdout",
     "output_type": "stream",
     "text": [
      "<class 'pandas.core.frame.DataFrame'>\n",
      "Int64Index: 34162 entries, 4 to 36088\n",
      "Data columns (total 25 columns):\n",
      " #   Column             Non-Null Count  Dtype  \n",
      "---  ------             --------------  -----  \n",
      " 0   date               34162 non-null  int64  \n",
      " 1   campaign_id        34162 non-null  int64  \n",
      " 2   campaign_name      34162 non-null  object \n",
      " 3   funding_type       34162 non-null  object \n",
      " 4   brand_id           34162 non-null  object \n",
      " 5   brand_name         34162 non-null  object \n",
      " 6   seller_id          34162 non-null  object \n",
      " 7   seller_name        34162 non-null  object \n",
      " 8   channel            34128 non-null  object \n",
      " 9   site               34128 non-null  object \n",
      " 10  platform           34128 non-null  object \n",
      " 11  offer_id           34162 non-null  object \n",
      " 12  adcontent          34162 non-null  object \n",
      " 13  sub_channel        1600 non-null   float64\n",
      " 14  platform           34162 non-null  object \n",
      " 15  visits             34162 non-null  int64  \n",
      " 16  unique_visitors    34162 non-null  int64  \n",
      " 17  pdp_pv             34162 non-null  object \n",
      " 18  a2c_pv             34162 non-null  int64  \n",
      " 19  item_sold          34162 non-null  int64  \n",
      " 20  total_orders       34162 non-null  int64  \n",
      " 21  revenue_usd        34162 non-null  float64\n",
      " 22  cr                 34162 non-null  object \n",
      " 23  avg_rev_per_visit  34162 non-null  float64\n",
      " 24  avg_val_per_item   34162 non-null  float64\n",
      "dtypes: float64(4), int64(7), object(14)\n",
      "memory usage: 6.8+ MB\n"
     ]
    }
   ],
   "source": [
    "data2 = data2.drop(columns=['Month', 'Year'])\n",
    "data2.info()"
   ]
  },
  {
   "cell_type": "code",
   "execution_count": 46,
   "metadata": {
    "ExecuteTime": {
     "end_time": "2021-03-22T22:22:03.301815Z",
     "start_time": "2021-03-22T22:22:03.262545Z"
    }
   },
   "outputs": [
    {
     "name": "stdout",
     "output_type": "stream",
     "text": [
      "<class 'pandas.core.frame.DataFrame'>\n",
      "Int64Index: 23517 entries, 45 to 27357\n",
      "Data columns (total 25 columns):\n",
      " #   Column             Non-Null Count  Dtype         \n",
      "---  ------             --------------  -----         \n",
      " 0   date               23517 non-null  datetime64[ns]\n",
      " 1   campaign_id        23517 non-null  int64         \n",
      " 2   campaign_name      23517 non-null  object        \n",
      " 3   funding_type       23517 non-null  object        \n",
      " 4   brand_id           23517 non-null  object        \n",
      " 5   brand_name         23517 non-null  object        \n",
      " 6   seller_id          23517 non-null  object        \n",
      " 7   seller_name        23517 non-null  object        \n",
      " 8   channel            23517 non-null  object        \n",
      " 9   site               23517 non-null  object        \n",
      " 10  platform           23513 non-null  object        \n",
      " 11  offer_id           23517 non-null  object        \n",
      " 12  adcontent          23517 non-null  object        \n",
      " 13  sub_channel        3112 non-null   float64       \n",
      " 14  platform           23517 non-null  object        \n",
      " 15  visits             23517 non-null  int64         \n",
      " 16  unique_visitors    21523 non-null  float64       \n",
      " 17  pdp_pv             23517 non-null  int64         \n",
      " 18  a2c_pv             23517 non-null  int64         \n",
      " 19  item_sold          23517 non-null  int64         \n",
      " 20  total_orders       21523 non-null  float64       \n",
      " 21  revenue_usd        23517 non-null  float64       \n",
      " 22  cr                 23517 non-null  float64       \n",
      " 23  avg_rev_per_visit  23517 non-null  float64       \n",
      " 24  avg_val_per_item   23517 non-null  float64       \n",
      "dtypes: datetime64[ns](1), float64(7), int64(5), object(12)\n",
      "memory usage: 4.7+ MB\n"
     ]
    }
   ],
   "source": [
    "data.info()"
   ]
  },
  {
   "cell_type": "code",
   "execution_count": 47,
   "metadata": {
    "ExecuteTime": {
     "end_time": "2021-03-22T22:22:32.004777Z",
     "start_time": "2021-03-22T22:22:31.991533Z"
    }
   },
   "outputs": [
    {
     "data": {
      "text/plain": [
       "4          Pera Swipe - CPC - 11.11\n",
       "5          Pera Swipe - CPC - 11.11\n",
       "6          Pera Swipe - CPC - 11.11\n",
       "7          Pera Swipe - CPC - 11.11\n",
       "8          Pera Swipe - CPC - 11.11\n",
       "                    ...            \n",
       "36084      Lactum Organic Post 2020\n",
       "36085      Lactum Organic Post 2020\n",
       "36086        Veet Organic Post 2020\n",
       "36087        Veet Organic Post 2020\n",
       "36088    Sustagen Organic Post 2020\n",
       "Name: adcontent, Length: 34162, dtype: object"
      ]
     },
     "execution_count": 47,
     "metadata": {},
     "output_type": "execute_result"
    }
   ],
   "source": [
    "data2.adcontent"
   ]
  },
  {
   "cell_type": "code",
   "execution_count": 166,
   "metadata": {
    "ExecuteTime": {
     "end_time": "2021-03-08T07:50:36.224264Z",
     "start_time": "2021-03-08T07:50:36.206425Z"
    }
   },
   "outputs": [
    {
     "data": {
      "text/plain": [
       "array(['Other', 'Google-SEM', 'Google-Display', nan, 'Ad Networks'],\n",
       "      dtype=object)"
      ]
     },
     "execution_count": 166,
     "metadata": {},
     "output_type": "execute_result"
    }
   ],
   "source": [
    "data2[data2.campaign_name == 'Q4BUAds'].channel.unique()"
   ]
  },
  {
   "cell_type": "code",
   "execution_count": 48,
   "metadata": {
    "ExecuteTime": {
     "end_time": "2021-03-22T22:28:26.168162Z",
     "start_time": "2021-03-22T22:28:26.047224Z"
    }
   },
   "outputs": [],
   "source": [
    "data2.visits = data2.visits.replace(',','', regex=True)\n",
    "data2.pdp_pv = data2.pdp_pv.replace(',','', regex=True)\n",
    "data2.a2c_pv = data2.a2c_pv.replace(',','', regex=True)\n",
    "data2.revenue_usd = data2.revenue_usd.replace(',','', regex=True)\n",
    "data2.cr = data2.cr.replace(',','', regex=True)\n",
    "data2.cr = data2.cr.replace('%','', regex=True)"
   ]
  },
  {
   "cell_type": "code",
   "execution_count": 49,
   "metadata": {
    "ExecuteTime": {
     "end_time": "2021-03-22T22:28:28.313985Z",
     "start_time": "2021-03-22T22:28:28.253028Z"
    }
   },
   "outputs": [],
   "source": [
    "data2.visits = pd.to_numeric(data2.visits)\n",
    "data2.pdp_pv = pd.to_numeric(data2.pdp_pv)\n",
    "data2.a2c_pv = pd.to_numeric(data2.a2c_pv)\n",
    "data2.revenue_usd = pd.to_numeric(data2.revenue_usd)\n",
    "data2.cr = pd.to_numeric(data2.cr)"
   ]
  },
  {
   "cell_type": "code",
   "execution_count": 50,
   "metadata": {
    "ExecuteTime": {
     "end_time": "2021-03-22T22:28:29.498291Z",
     "start_time": "2021-03-22T22:28:29.450964Z"
    }
   },
   "outputs": [
    {
     "name": "stdout",
     "output_type": "stream",
     "text": [
      "<class 'pandas.core.frame.DataFrame'>\n",
      "Int64Index: 34162 entries, 4 to 36088\n",
      "Data columns (total 25 columns):\n",
      " #   Column             Non-Null Count  Dtype  \n",
      "---  ------             --------------  -----  \n",
      " 0   date               34162 non-null  int64  \n",
      " 1   campaign_id        34162 non-null  int64  \n",
      " 2   campaign_name      34162 non-null  object \n",
      " 3   funding_type       34162 non-null  object \n",
      " 4   brand_id           34162 non-null  object \n",
      " 5   brand_name         34162 non-null  object \n",
      " 6   seller_id          34162 non-null  object \n",
      " 7   seller_name        34162 non-null  object \n",
      " 8   channel            34128 non-null  object \n",
      " 9   site               34128 non-null  object \n",
      " 10  platform           34128 non-null  object \n",
      " 11  offer_id           34162 non-null  object \n",
      " 12  adcontent          34162 non-null  object \n",
      " 13  sub_channel        1600 non-null   float64\n",
      " 14  platform           34162 non-null  object \n",
      " 15  visits             34162 non-null  int64  \n",
      " 16  unique_visitors    34162 non-null  int64  \n",
      " 17  pdp_pv             34162 non-null  int64  \n",
      " 18  a2c_pv             34162 non-null  int64  \n",
      " 19  item_sold          34162 non-null  int64  \n",
      " 20  total_orders       34162 non-null  int64  \n",
      " 21  revenue_usd        34162 non-null  float64\n",
      " 22  cr                 34162 non-null  float64\n",
      " 23  avg_rev_per_visit  34162 non-null  float64\n",
      " 24  avg_val_per_item   34162 non-null  float64\n",
      "dtypes: float64(5), int64(8), object(12)\n",
      "memory usage: 6.8+ MB\n"
     ]
    }
   ],
   "source": [
    "data2.info()"
   ]
  },
  {
   "cell_type": "code",
   "execution_count": 52,
   "metadata": {
    "ExecuteTime": {
     "end_time": "2021-03-22T22:35:22.347099Z",
     "start_time": "2021-03-22T22:35:22.335907Z"
    }
   },
   "outputs": [
    {
     "data": {
      "text/plain": [
       "array([  0,   2,   1,   4,   3,   7,   6,  57,  23,  20,  22,   8,  41,\n",
       "         9,   5,  62,  26, 229, 182,  12,  94, 154,  63,  27, 352, 158,\n",
       "        16,  14, 227,  13,  15, 123,  38,  88,  33,  87,  72,  11,  25,\n",
       "        50,  28,  42,  91,  21,  17,  10,  82,  36, 136, 166,  46,  73,\n",
       "       255,  30,  68,  53,  18,  34,  19,  32,  39, 122, 120,  52,  61,\n",
       "        40,  64,  48,  24,  43,  37,  45,  29,  55,  60, 104,  83, 592,\n",
       "       141, 177, 402,  44,  58,  86,  49, 161, 179,  81, 203, 114,  35,\n",
       "       218, 125, 281,  78,  47, 105, 243, 124, 957, 137, 267, 129, 191,\n",
       "       167, 175,  98,  31, 155,  59, 170, 244, 410, 183, 611, 159, 147,\n",
       "       151, 142, 268, 187,  74,  54, 108,  65,  56, 157,  66, 405,  90])"
      ]
     },
     "execution_count": 52,
     "metadata": {},
     "output_type": "execute_result"
    }
   ],
   "source": [
    "#1. Top 5 campaigns, channels, site, platform per brand by revenue\n",
    "#2. Proportion to total sales. Campaign-generated sales vs Actual Ecomm sales (Monthly or Daily)\n",
    "#3 Top 5 campaigns, channels, site, platform in terms of visits, unique visitors\n",
    "\n",
    "data.item_sold.unique()"
   ]
  },
  {
   "cell_type": "code",
   "execution_count": 57,
   "metadata": {
    "ExecuteTime": {
     "end_time": "2021-03-22T22:56:00.758737Z",
     "start_time": "2021-03-22T22:56:00.754069Z"
    }
   },
   "outputs": [],
   "source": [
    "import numpy as np"
   ]
  },
  {
   "cell_type": "code",
   "execution_count": 58,
   "metadata": {
    "ExecuteTime": {
     "end_time": "2021-03-22T22:56:01.101297Z",
     "start_time": "2021-03-22T22:56:01.081054Z"
    }
   },
   "outputs": [
    {
     "ename": "TypeError",
     "evalue": "'float' object is not callable",
     "output_type": "error",
     "traceback": [
      "\u001b[0;31m---------------------------------------------------------------------------\u001b[0m",
      "\u001b[0;31mTypeError\u001b[0m                                 Traceback (most recent call last)",
      "\u001b[0;32m<ipython-input-58-c1a2968fcca4>\u001b[0m in \u001b[0;36m<module>\u001b[0;34m\u001b[0m\n\u001b[0;32m----> 1\u001b[0;31m \u001b[0mdata2\u001b[0m\u001b[0;34m.\u001b[0m\u001b[0mloc\u001b[0m\u001b[0;34m[\u001b[0m\u001b[0;34m(\u001b[0m\u001b[0mdata2\u001b[0m\u001b[0;34m[\u001b[0m\u001b[0;34m\"channel\"\u001b[0m\u001b[0;34m]\u001b[0m\u001b[0;34m==\u001b[0m\u001b[0mnp\u001b[0m\u001b[0;34m.\u001b[0m\u001b[0mnan\u001b[0m\u001b[0;34m(\u001b[0m\u001b[0;34m)\u001b[0m\u001b[0;34m)\u001b[0m\u001b[0;34m,\u001b[0m\u001b[0;34m\"channel\"\u001b[0m\u001b[0;34m]\u001b[0m\u001b[0;34m\u001b[0m\u001b[0;34m\u001b[0m\u001b[0m\n\u001b[0m",
      "\u001b[0;31mTypeError\u001b[0m: 'float' object is not callable"
     ]
    }
   ],
   "source": [
    "data2.loc[(data2[\"channel\"]==np.nan()),\"channel\"]"
   ]
  },
  {
   "cell_type": "code",
   "execution_count": 74,
   "metadata": {
    "ExecuteTime": {
     "end_time": "2021-03-22T23:10:53.349596Z",
     "start_time": "2021-03-22T23:10:53.213772Z"
    }
   },
   "outputs": [],
   "source": [
    "data2.loc[(data2.campaign_name=='Club Mama CRM') & (data2.channel.isnull()), \"channel\"] = 'Brands-CRM'\n",
    "data2.loc[(data2.campaign_name=='Club Mama CRM') & (data2.site.isnull()), \"site\"] = 'Auto'\n",
    "\n",
    "data2.loc[(data2.campaign_name=='Lactum Owned Assets') & (data2.channel.isnull()), \"channel\"] = 'Facebook'\n",
    "data2.loc[(data2.campaign_name=='Lactum Owned Assets') & (data2.site.isnull()), \"site\"] = 'Facebook'\n",
    "\n",
    "data2.loc[(data2.campaign_name=='Enfagrow Owned Assets') & (data2.channel.isnull()), \"channel\"] = 'Facebook'\n",
    "data2.loc[(data2.campaign_name=='Enfagrow Owned Assets') & (data2.site.isnull()), \"site\"] = 'Facebook'\n",
    "\n",
    "data2.loc[(data2.campaign_name=='ENFAGROW_Broad') & (data2.channel.isnull()), \"channel\"] = 'Facebook'\n",
    "data2.loc[(data2.campaign_name=='ENFAGROW_Broad') & (data2.site.isnull()), \"site\"] = 'Facebook'\n",
    "\n",
    "data2.loc[(data2.campaign_name=='SUSTAGEN_Broad') & (data2.channel.isnull()), \"channel\"] = 'Facebook'\n",
    "data2.loc[(data2.campaign_name=='SUSTAGEN_Broad') & (data2.site.isnull()), \"site\"] = 'Facebook'\n",
    "\n",
    "data2.loc[(data2.campaign_name=='2020_ENFAGROW_GOOGLE') & (data2.channel.isnull()), \"channel\"] = 'Google-Display'\n",
    "data2.loc[(data2.campaign_name=='2020_ENFAGROW_GOOGLE') & (data2.site.isnull()), \"site\"] = 'GDN'\n",
    "\n",
    "data2.loc[(data2.campaign_name=='Q4BUAds') & (data2.channel.isnull()), \"channel\"] = 'Other'\n",
    "data2.loc[(data2.campaign_name=='Q4BUAds') & (data2.site.isnull()), \"site\"] = 'Default'\n",
    "\n",
    "data2.loc[(data2.campaign_name=='Lactum Partnerships 2020') & (data2.channel.isnull()), \"channel\"] = 'Other'\n",
    "data2.loc[(data2.campaign_name=='Lactum Partnerships 2020') & (data2.site.isnull()), \"site\"] = 'Default'\n",
    "\n",
    "data2.loc[(data2.campaign_name=='Q4 BU Ads') & (data2.channel.isnull()), \"channel\"] = 'Ad Network'\n",
    "data2.loc[(data2.campaign_name=='Q4 BU Ads') & (data2.site.isnull()), \"site\"] = 'Network'\n",
    "\n",
    "data2.loc[(data2.campaign_name=='Club Mama CRM - Lactum') & (data2.channel.isnull()), \"channel\"] = 'Brands-CRM'\n",
    "data2.loc[(data2.campaign_name=='Club Mama CRM - Lactum') & (data2.site.isnull()), \"site\"] = 'Auto'"
   ]
  },
  {
   "cell_type": "code",
   "execution_count": 82,
   "metadata": {
    "ExecuteTime": {
     "end_time": "2021-03-22T23:12:31.256199Z",
     "start_time": "2021-03-22T23:12:31.242355Z"
    }
   },
   "outputs": [],
   "source": [
    "#convert to datetime\n",
    "data2['date'] = pd.to_datetime(data2['date'], format='%Y%m%d')"
   ]
  },
  {
   "cell_type": "code",
   "execution_count": 86,
   "metadata": {
    "ExecuteTime": {
     "end_time": "2021-03-22T23:14:07.499412Z",
     "start_time": "2021-03-22T23:14:07.468376Z"
    }
   },
   "outputs": [],
   "source": [
    "laz_data = data.append(data2, ignore_index=True)"
   ]
  },
  {
   "cell_type": "code",
   "execution_count": 90,
   "metadata": {
    "ExecuteTime": {
     "end_time": "2021-03-22T23:14:59.034954Z",
     "start_time": "2021-03-22T23:14:57.912384Z"
    }
   },
   "outputs": [],
   "source": [
    "laz_data.to_csv('laz_data.csv')"
   ]
  },
  {
   "cell_type": "code",
   "execution_count": null,
   "metadata": {},
   "outputs": [],
   "source": []
  }
 ],
 "metadata": {
  "kernelspec": {
   "display_name": "Python 3",
   "language": "python",
   "name": "python3"
  },
  "language_info": {
   "codemirror_mode": {
    "name": "ipython",
    "version": 3
   },
   "file_extension": ".py",
   "mimetype": "text/x-python",
   "name": "python",
   "nbconvert_exporter": "python",
   "pygments_lexer": "ipython3",
   "version": "3.8.8"
  }
 },
 "nbformat": 4,
 "nbformat_minor": 4
}
