{
 "cells": [
  {
   "cell_type": "markdown",
   "metadata": {},
   "source": [
    "# Intro to Network Science\n",
    "\n",
    "**Author: [Erika Fille Legara](http://erikalegara.site)**  \n",
    "**Citation:** Legara, Erika Fille. \"Intro to Network Analysis.\" Network Science Lectures. GitHub repository. 2020. \n",
    "\n",
    "<div class=\"alert alert-block alert-info\">\n",
    "For context, this notebook is accompanied by a two-session lecture (sessions 5-6) of the Network Science course under <a href=\"https://aim.edu/programs/degree-programs/master-science-data-science\">AIM's MSc in Data Science program</a>. The first two course sessions are focused on the introduction to Complex Systems; and 3-4 focus on the intro to the science of network (conceptual and high-level approach with most discussions on use cases). This notebook is for the first set of hands-on sessions.<br/>\n",
    "    \n",
    "The main reference for this lecture/notebook is <a href=\"http://networksciencebook.comhttp://networksciencebook.com\">A-L Barabasi's Network Science</a>. \n",
    "</div>\n",
    "\n",
    "[MIT License](https://github.com/eflegara/Network-Science-Lectures/blob/master/LICENSE.md)\n",
    "\n",
    "---\n"
   ]
  },
  {
   "cell_type": "code",
   "execution_count": 1,
   "metadata": {
    "ExecuteTime": {
     "end_time": "2021-03-07T16:20:10.991302Z",
     "start_time": "2021-03-07T16:20:10.288592Z"
    }
   },
   "outputs": [],
   "source": [
    "import numpy as np\n",
    "import matplotlib.pyplot as plt\n",
    "import pandas as pd\n",
    "import warnings\n",
    "\n",
    "warnings.filterwarnings(\"ignore\")\n",
    "%matplotlib inline"
   ]
  },
  {
   "cell_type": "markdown",
   "metadata": {},
   "source": [
    "## 1. Graphs and DiGraphs"
   ]
  },
  {
   "cell_type": "markdown",
   "metadata": {},
   "source": [
    "### 1.1. Adjacency Matrix"
   ]
  },
  {
   "cell_type": "markdown",
   "metadata": {},
   "source": [
    "<img src=\"figure/N4L4graph.png\" width=\"75%\"> \n",
    " \n",
    " The convention we use is if node $i \\rightarrow j$, then $A_{ij}$; similary, if node $j \\rightarrow i$, we are looking at $A_{ji}$. \n",
    " \n",
    "For example, for the **DiGraph** `adj_DiG`, node $1 \\rightarrow 4$, but not the other way around. Thus, \n",
    "\n",
    "\\begin{equation}\n",
    "     A_{ij}=A_{14} = 1\n",
    "\\end{equation}\n",
    "\\begin{equation}\n",
    "     A_{ji} = A_{41} = 0\n",
    "\\end{equation}\n",
    "\n",
    "for $i=1$ and $j=4$.  \n",
    "\n",
    "In matrix form,\n",
    "\n",
    "\\begin{equation}\n",
    "A_{ij}=\n",
    "  \\left( {\\begin{array}{cccc}\n",
    "  A_{11} & A_{12} & A_{13} & A_{14}\\\\\n",
    "  A_{21} & A_{22} & A_{23} & A_{24}\\\\\n",
    "  A_{31} & A_{32} & A_{33} & A_{34}\\\\\n",
    "  A_{41} & A_{42} & A_{43} & A_{44}\\\\\n",
    "  \\end{array} } \\right).\n",
    "\\end{equation}\n",
    "\n",
    "Therefore, for the two network representations above, Graph (`adj_G`) and DiGraph (`adj_DiG`), the matrix representation are the following.\n",
    "\n",
    "<div class=\"alert alert-block alert-info\">\n",
    "<b>Important:</b> The indices used in the matrices start at 1, while indexing in Python starts at 0. Do remember this to avoid indexing mistakes.\n",
    "</div>"
   ]
  },
  {
   "cell_type": "code",
   "execution_count": 2,
   "metadata": {
    "ExecuteTime": {
     "end_time": "2021-03-07T16:20:10.997210Z",
     "start_time": "2021-03-07T16:20:10.992223Z"
    }
   },
   "outputs": [],
   "source": [
    "adj_G = np.matrix([[0,1,0,1],\n",
    "                   [1,0,0,1],\n",
    "                   [0,0,0,1],\n",
    "                   [1,1,1,0]])\n",
    "\n",
    "adj_DiG = np.matrix([[0,1,0,1],\n",
    "                     [0,0,0,0],\n",
    "                     [0,0,0,0],\n",
    "                     [0,1,1,0]])"
   ]
  },
  {
   "cell_type": "markdown",
   "metadata": {},
   "source": [
    "### 1.2. Node Degree"
   ]
  },
  {
   "cell_type": "markdown",
   "metadata": {},
   "source": [
    " <img src=\"figure/node_degree.png\" width=\"60%\">\n",
    "\n",
    "The degree of a node is the total number of links connected to it. Let's first look at the *unidrected* graph `adj_G` where $A_{ij}=A_{ji}$. **Node 4** has degree $k_4 = 3$. \n",
    "\n",
    "From the adjacency matrix, we can obtain this number by summing across any one of the axes. That is,"
   ]
  },
  {
   "cell_type": "code",
   "execution_count": 3,
   "metadata": {
    "ExecuteTime": {
     "end_time": "2021-03-07T16:20:11.009178Z",
     "start_time": "2021-03-07T16:20:10.999204Z"
    }
   },
   "outputs": [
    {
     "data": {
      "text/plain": [
       "3"
      ]
     },
     "execution_count": 3,
     "metadata": {},
     "output_type": "execute_result"
    }
   ],
   "source": [
    "adj_G.sum(axis=0).item(0,3)"
   ]
  },
  {
   "cell_type": "markdown",
   "metadata": {},
   "source": [
    "or"
   ]
  },
  {
   "cell_type": "code",
   "execution_count": 4,
   "metadata": {
    "ExecuteTime": {
     "end_time": "2021-03-07T16:20:11.016158Z",
     "start_time": "2021-03-07T16:20:11.010174Z"
    }
   },
   "outputs": [
    {
     "data": {
      "text/plain": [
       "3"
      ]
     },
     "execution_count": 4,
     "metadata": {},
     "output_type": "execute_result"
    }
   ],
   "source": [
    "adj_G.sum(axis=1).item(3,0)"
   ]
  },
  {
   "cell_type": "markdown",
   "metadata": {},
   "source": [
    "However, for directed graphs, extra care must be taken as switching axes may produce erroneous results. In the DiGraph, for **Node 4**, $k_4^{\\text{in}}=1$ while $k_4^{\\text{out}}=2$.\n",
    "\n",
    "From the numpy matrix, these can be obtained using the following scripts."
   ]
  },
  {
   "cell_type": "code",
   "execution_count": 5,
   "metadata": {
    "ExecuteTime": {
     "end_time": "2021-03-07T16:20:11.026165Z",
     "start_time": "2021-03-07T16:20:11.018153Z"
    }
   },
   "outputs": [
    {
     "data": {
      "text/plain": [
       "1"
      ]
     },
     "execution_count": 5,
     "metadata": {},
     "output_type": "execute_result"
    }
   ],
   "source": [
    "# in-degree\n",
    "adj_DiG.sum(axis=0).item(0,3)"
   ]
  },
  {
   "cell_type": "code",
   "execution_count": 6,
   "metadata": {
    "ExecuteTime": {
     "end_time": "2021-03-07T16:20:11.038100Z",
     "start_time": "2021-03-07T16:20:11.027129Z"
    }
   },
   "outputs": [
    {
     "data": {
      "text/plain": [
       "2"
      ]
     },
     "execution_count": 6,
     "metadata": {},
     "output_type": "execute_result"
    }
   ],
   "source": [
    "# out-degree\n",
    "adj_DiG.sum(axis=1).item(3,0)"
   ]
  },
  {
   "cell_type": "markdown",
   "metadata": {},
   "source": [
    "<div class=\"alert alert-block alert-info\">\n",
    "<b>Important:</b> The order and axes depend on the way you define the adjacency matrix; that is, what you define as $i$ and $j$, how you represent the rows and columns, and how you represent $i \\rightarrow j$ and $i \\leftarrow j$ in the matrix.\n",
    "</div>"
   ]
  },
  {
   "cell_type": "markdown",
   "metadata": {},
   "source": [
    "## 2. Complete Graph\n",
    "\n",
    "A complete graph is a graph where all nodes are connected to all other nodes in the graph. That is,\n",
    "\n",
    "\\begin{equation}\n",
    "A_{ij}=\n",
    "  \\left( {\\begin{array}{cccc}\n",
    "  0 & 1 & 1 & 1\\\\\n",
    "  1 & 0 & 1 & 1\\\\\n",
    "  1 & 1 & 0 & 1\\\\\n",
    "  1 & 1 & 1 & 0\\\\\n",
    "  \\end{array} } \\right)\n",
    "\\end{equation}\n",
    "\n"
   ]
  },
  {
   "cell_type": "code",
   "execution_count": 7,
   "metadata": {
    "ExecuteTime": {
     "end_time": "2021-03-07T16:20:11.050068Z",
     "start_time": "2021-03-07T16:20:11.039098Z"
    }
   },
   "outputs": [],
   "source": [
    "complete_G = np.matrix([[0,1,1,1],\n",
    "                        [1,0,1,1],\n",
    "                        [1,1,0,1],\n",
    "                        [1,1,1,0]])"
   ]
  },
  {
   "cell_type": "markdown",
   "metadata": {},
   "source": [
    "In a complete graph, the total number of links is $L = L_{\\text{max}}$, and\n",
    "\n",
    "\\begin{equation}\n",
    "L_{\\text{max}}=\\frac{N(N-1)}{2}.\n",
    "\\end{equation}"
   ]
  },
  {
   "cell_type": "code",
   "execution_count": 8,
   "metadata": {
    "ExecuteTime": {
     "end_time": "2021-03-07T16:20:11.066040Z",
     "start_time": "2021-03-07T16:20:11.053060Z"
    }
   },
   "outputs": [
    {
     "name": "stdout",
     "output_type": "stream",
     "text": [
      "6.0\n"
     ]
    }
   ],
   "source": [
    "lmax = complete_G.sum(axis=0).sum()/2\n",
    "print(lmax)"
   ]
  },
  {
   "cell_type": "markdown",
   "metadata": {},
   "source": [
    "We divide the sum by 2, to avoid double counting. That is, once the link between $1,2$ is considered ($A_{12}=1$) we don't any more include $2,1$ ($A_{21}=1$).\n",
    "\n",
    "<img src=\"figure/N4L6.png\" width=\"30%\"> "
   ]
  },
  {
   "cell_type": "markdown",
   "metadata": {},
   "source": [
    "The metric $L_{\\text{max}}$ is relevant to appreciate how sparse most real-world networks are. That is,\n",
    "\n",
    "\n",
    "\n",
    "| network | $N$  | $L$  | $L_{\\text{max}}$ | $\\left<k \\right>$ |\n",
    "|---|---|---|---|---|\n",
    "| WWW | $325,729$ | $1.4 \\times 10^6$  | $10^{12}$ |  4.51  |\n",
    "|Protein | $1,870$   | $4,470$ | $10^7$ | $2.39$ |      \n",
    "|Co-authorship | $70,975$  | $2 \\times 10^5$ | $3 \\times 10^{10}$ | $3.9$ |\n",
    "|Movie Actors | $212,250$ | $6 \\times 10^6$ | $1.8 \\times 10^{13}$ | $28.78$ |\n"
   ]
  },
  {
   "cell_type": "markdown",
   "metadata": {},
   "source": [
    "## 3. NetworkX Graphs\n",
    "\n",
    "From this point forward, we use the `NetworkX` package.\n",
    "\n",
    "<img src=\"figure/N4L4graph.png\" width=\"75%\">\n",
    " \n",
    "### 3.1 Basic Graph\n",
    "\n",
    "In this part of the notebook, we will be using the [`networkx` package](https://networkx.org) for \"the creation, manipulation, and study of the structure, dynamics, and functions of complex networks.\""
   ]
  },
  {
   "cell_type": "code",
   "execution_count": 9,
   "metadata": {
    "ExecuteTime": {
     "end_time": "2021-03-07T16:20:11.479898Z",
     "start_time": "2021-03-07T16:20:11.069018Z"
    }
   },
   "outputs": [],
   "source": [
    "import networkx as nx"
   ]
  },
  {
   "cell_type": "markdown",
   "metadata": {},
   "source": [
    "Let's create an empty networkx graph `G`."
   ]
  },
  {
   "cell_type": "code",
   "execution_count": 10,
   "metadata": {
    "ExecuteTime": {
     "end_time": "2021-03-07T16:20:11.484751Z",
     "start_time": "2021-03-07T16:20:11.480798Z"
    }
   },
   "outputs": [],
   "source": [
    "G = nx.Graph()"
   ]
  },
  {
   "cell_type": "code",
   "execution_count": 11,
   "metadata": {
    "ExecuteTime": {
     "end_time": "2021-03-07T16:20:11.496721Z",
     "start_time": "2021-03-07T16:20:11.485750Z"
    }
   },
   "outputs": [
    {
     "data": {
      "text/plain": [
       "networkx.classes.graph.Graph"
      ]
     },
     "execution_count": 11,
     "metadata": {},
     "output_type": "execute_result"
    }
   ],
   "source": [
    "type(G)"
   ]
  },
  {
   "cell_type": "markdown",
   "metadata": {},
   "source": [
    "In the next cell, we build a graph by adding edges and nodes. "
   ]
  },
  {
   "cell_type": "code",
   "execution_count": 12,
   "metadata": {
    "ExecuteTime": {
     "end_time": "2021-03-07T16:20:11.509683Z",
     "start_time": "2021-03-07T16:20:11.498713Z"
    }
   },
   "outputs": [],
   "source": [
    "G.add_edge(1,2)\n",
    "G.add_edge(1,4)\n",
    "G.add_edge(2,4)\n",
    "G.add_edge(4,3)"
   ]
  },
  {
   "cell_type": "markdown",
   "metadata": {},
   "source": [
    "The `pos` variable below sets the position/layout of the nodes in the visualization. More often than not, this is only for aesthetics purposes. To see other layouts, check [this out](https://networkx.github.io/documentation/networkx-1.10/reference/drawing.html#layout)."
   ]
  },
  {
   "cell_type": "code",
   "execution_count": 13,
   "metadata": {
    "ExecuteTime": {
     "end_time": "2021-03-07T16:20:11.628879Z",
     "start_time": "2021-03-07T16:20:11.510681Z"
    }
   },
   "outputs": [
    {
     "data": {
      "image/png": "[encoded data removed]",
      "text/plain": [
       "<Figure size 432x288 with 1 Axes>"
      ]
     },
     "metadata": {},
     "output_type": "display_data"
    }
   ],
   "source": [
    "pos = nx.spring_layout(G);\n",
    "nx.draw_networkx_labels(G, pos, font_color ='white');\n",
    "nx.draw(G, pos = pos, node_size=500);"
   ]
  },
  {
   "cell_type": "code",
   "execution_count": 14,
   "metadata": {
    "ExecuteTime": {
     "end_time": "2021-03-07T16:20:11.708672Z",
     "start_time": "2021-03-07T16:20:11.629876Z"
    }
   },
   "outputs": [
    {
     "data": {
      "image/png": "[encoded data removed]",
      "text/plain": [
       "<Figure size 432x288 with 1 Axes>"
      ]
     },
     "metadata": {},
     "output_type": "display_data"
    }
   ],
   "source": [
    "G.add_node(5)\n",
    "\n",
    "pos = nx.spring_layout(G);\n",
    "nx.draw_networkx_labels(G, pos, font_color ='white');\n",
    "nx.draw(G, pos = pos, node_size=500);"
   ]
  },
  {
   "cell_type": "markdown",
   "metadata": {},
   "source": [
    "In the previous cell, we added a 5th node, but didn't specify the link(s) connected to it. Thus, we can observe that the node is disconnected. \n",
    "\n",
    "In the next cell, let's add a link between the 4th and 5th nodes."
   ]
  },
  {
   "cell_type": "code",
   "execution_count": 15,
   "metadata": {
    "ExecuteTime": {
     "end_time": "2021-03-07T16:20:11.780510Z",
     "start_time": "2021-03-07T16:20:11.709666Z"
    }
   },
   "outputs": [
    {
     "data": {
      "image/png": "[encoded data removed]",
      "text/plain": [
       "<Figure size 432x288 with 1 Axes>"
      ]
     },
     "metadata": {},
     "output_type": "display_data"
    }
   ],
   "source": [
    "G.add_edge(4,5)\n",
    "\n",
    "nx.draw_networkx_labels(G, pos, font_color ='white');\n",
    "nx.draw(G, pos = pos, node_size=500);"
   ]
  },
  {
   "cell_type": "code",
   "execution_count": 16,
   "metadata": {
    "ExecuteTime": {
     "end_time": "2021-03-07T16:20:11.855884Z",
     "start_time": "2021-03-07T16:20:11.781476Z"
    }
   },
   "outputs": [
    {
     "data": {
      "image/png": "[encoded data removed]",
      "text/plain": [
       "<Figure size 432x288 with 1 Axes>"
      ]
     },
     "metadata": {},
     "output_type": "display_data"
    }
   ],
   "source": [
    "pos = nx.spring_layout(G);\n",
    "nx.draw_networkx_labels(G, pos, font_color ='white');\n",
    "nx.draw(G, pos = pos, node_size=500);"
   ]
  },
  {
   "cell_type": "code",
   "execution_count": 17,
   "metadata": {
    "ExecuteTime": {
     "end_time": "2021-03-07T16:20:11.930683Z",
     "start_time": "2021-03-07T16:20:11.856883Z"
    }
   },
   "outputs": [
    {
     "data": {
      "image/png": "[encoded data removed]",
      "text/plain": [
       "<Figure size 432x288 with 1 Axes>"
      ]
     },
     "metadata": {},
     "output_type": "display_data"
    }
   ],
   "source": [
    "G = nx.Graph()\n",
    "\n",
    "G.add_edge('Erika', 'Chris')\n",
    "G.add_edge('Erika', 'Gino')\n",
    "G.add_edge('Chris', 'Gino')\n",
    "G.add_edge('Gino', 'Christian')\n",
    "\n",
    "pos = nx.spring_layout(G);\n",
    "nx.draw_networkx_labels(G, pos, font_color ='k');\n",
    "nx.draw(G, pos = pos, node_size=500);"
   ]
  },
  {
   "cell_type": "code",
   "execution_count": 18,
   "metadata": {
    "ExecuteTime": {
     "end_time": "2021-03-07T16:20:11.936669Z",
     "start_time": "2021-03-07T16:20:11.931682Z"
    }
   },
   "outputs": [
    {
     "data": {
      "text/plain": [
       "NodeView(('Erika', 'Chris', 'Gino', 'Christian'))"
      ]
     },
     "execution_count": 18,
     "metadata": {},
     "output_type": "execute_result"
    }
   ],
   "source": [
    "G.nodes()"
   ]
  },
  {
   "cell_type": "code",
   "execution_count": 19,
   "metadata": {
    "ExecuteTime": {
     "end_time": "2021-03-07T16:20:11.948635Z",
     "start_time": "2021-03-07T16:20:11.938662Z"
    }
   },
   "outputs": [
    {
     "data": {
      "text/plain": [
       "NodeView(('Erika', 'Chris', 'Gino', 'Christian', 'Arielle'))"
      ]
     },
     "execution_count": 19,
     "metadata": {},
     "output_type": "execute_result"
    }
   ],
   "source": [
    "G.add_node('Arielle')\n",
    "G.nodes()"
   ]
  },
  {
   "cell_type": "markdown",
   "metadata": {},
   "source": [
    "Let's try removing nodes. Can we use an index in removing the nodes? Say, index 1?"
   ]
  },
  {
   "cell_type": "code",
   "execution_count": 20,
   "metadata": {
    "ExecuteTime": {
     "end_time": "2021-03-07T16:20:11.959608Z",
     "start_time": "2021-03-07T16:20:11.949634Z"
    }
   },
   "outputs": [
    {
     "name": "stdout",
     "output_type": "stream",
     "text": [
      "The node 1 is not in the graph.\n"
     ]
    },
    {
     "data": {
      "text/plain": [
       "NodeView(('Erika', 'Chris', 'Gino', 'Christian', 'Arielle'))"
      ]
     },
     "execution_count": 20,
     "metadata": {},
     "output_type": "execute_result"
    }
   ],
   "source": [
    "try:\n",
    "    G.remove_node(1)\n",
    "except Exception as e: \n",
    "    print(e)\n",
    "    \n",
    "G.nodes()"
   ]
  },
  {
   "cell_type": "markdown",
   "metadata": {},
   "source": [
    "To remove a node, we have to actually identify the node by its label/name. If this has not initially been introduced, the equivalent would be the numerical name."
   ]
  },
  {
   "cell_type": "code",
   "execution_count": 21,
   "metadata": {
    "ExecuteTime": {
     "end_time": "2021-03-07T16:20:11.974566Z",
     "start_time": "2021-03-07T16:20:11.961602Z"
    }
   },
   "outputs": [
    {
     "data": {
      "text/plain": [
       "NodeView(('Erika', 'Chris', 'Gino', 'Christian'))"
      ]
     },
     "execution_count": 21,
     "metadata": {},
     "output_type": "execute_result"
    }
   ],
   "source": [
    "G.remove_node('Arielle')\n",
    "G.nodes()"
   ]
  },
  {
   "cell_type": "markdown",
   "metadata": {},
   "source": [
    "It's easy to check the number of nodes and edges in the network."
   ]
  },
  {
   "cell_type": "code",
   "execution_count": 22,
   "metadata": {
    "ExecuteTime": {
     "end_time": "2021-03-07T16:20:12.053358Z",
     "start_time": "2021-03-07T16:20:11.975563Z"
    }
   },
   "outputs": [
    {
     "name": "stdout",
     "output_type": "stream",
     "text": [
      "Number of nodes:  4\n",
      "Number of edges:  4\n"
     ]
    },
    {
     "data": {
      "image/png": "[encoded data removed]",
      "text/plain": [
       "<Figure size 432x288 with 1 Axes>"
      ]
     },
     "metadata": {},
     "output_type": "display_data"
    }
   ],
   "source": [
    "print ('Number of nodes: ', G.number_of_nodes())\n",
    "print ('Number of edges: ', G.number_of_edges())\n",
    "\n",
    "pos = nx.spring_layout(G);\n",
    "nx.draw_networkx_labels(G, pos, font_color ='k');\n",
    "nx.draw(G, pos = pos, node_size=500);"
   ]
  },
  {
   "cell_type": "code",
   "execution_count": 23,
   "metadata": {
    "ExecuteTime": {
     "end_time": "2021-03-07T16:20:12.062331Z",
     "start_time": "2021-03-07T16:20:12.057345Z"
    }
   },
   "outputs": [
    {
     "data": {
      "text/plain": [
       "['Erika', 'Chris', 'Christian']"
      ]
     },
     "execution_count": 23,
     "metadata": {},
     "output_type": "execute_result"
    }
   ],
   "source": [
    "list(G.neighbors('Gino'))"
   ]
  },
  {
   "cell_type": "code",
   "execution_count": 24,
   "metadata": {
    "ExecuteTime": {
     "end_time": "2021-03-07T16:20:12.149106Z",
     "start_time": "2021-03-07T16:20:12.064325Z"
    }
   },
   "outputs": [
    {
     "data": {
      "image/png": "[encoded data removed]",
      "text/plain": [
       "<Figure size 432x288 with 1 Axes>"
      ]
     },
     "metadata": {},
     "output_type": "display_data"
    }
   ],
   "source": [
    "G.add_nodes_from(['Ann','Faye','Mary'])\n",
    "\n",
    "pos = nx.spring_layout(G);\n",
    "nx.draw_networkx_labels(G, pos, font_color ='k');\n",
    "nx.draw(G, pos = pos, node_size=500);"
   ]
  },
  {
   "cell_type": "code",
   "execution_count": 25,
   "metadata": {
    "ExecuteTime": {
     "end_time": "2021-03-07T16:20:12.228407Z",
     "start_time": "2021-03-07T16:20:12.150104Z"
    }
   },
   "outputs": [
    {
     "data": {
      "image/png": "[encoded data removed]",
      "text/plain": [
       "<Figure size 432x288 with 1 Axes>"
      ]
     },
     "metadata": {},
     "output_type": "display_data"
    }
   ],
   "source": [
    "G.add_edges_from([('Ann', 'Erika'),\n",
    "                  ('Ann', 'Faye'),\n",
    "                  ('Faye', 'Mary'),\n",
    "                  ('Erika', 'Mary'),\n",
    "                  ('Erika', 'Faye')])\n",
    "\n",
    "pos = nx.spring_layout(G);\n",
    "nx.draw_networkx_labels(G, pos, font_color ='k');\n",
    "nx.draw(G, pos = pos, node_size=500);"
   ]
  },
  {
   "cell_type": "code",
   "execution_count": 26,
   "metadata": {
    "ExecuteTime": {
     "end_time": "2021-03-07T16:20:12.234393Z",
     "start_time": "2021-03-07T16:20:12.229403Z"
    }
   },
   "outputs": [
    {
     "data": {
      "text/plain": [
       "5"
      ]
     },
     "execution_count": 26,
     "metadata": {},
     "output_type": "execute_result"
    }
   ],
   "source": [
    "G.degree('Erika')"
   ]
  },
  {
   "cell_type": "code",
   "execution_count": 27,
   "metadata": {
    "ExecuteTime": {
     "end_time": "2021-03-07T16:20:12.240378Z",
     "start_time": "2021-03-07T16:20:12.235392Z"
    }
   },
   "outputs": [
    {
     "data": {
      "text/plain": [
       "['Chris', 'Gino', 'Ann', 'Mary', 'Faye']"
      ]
     },
     "execution_count": 27,
     "metadata": {},
     "output_type": "execute_result"
    }
   ],
   "source": [
    "list(G.neighbors('Erika'))"
   ]
  },
  {
   "cell_type": "markdown",
   "metadata": {},
   "source": [
    "### 3.2 Weighted Graphs and Other Edge Attributes\n",
    "\n",
    "More often than not, in the real-world, links have weights. For example, there are certain friendships that are stronger than others. Another example is quantifying how often two individuals exchange emails at work. These \"strengths\" can be quantified by adding a weight attribute. In addition to the weight, we can also add other edge attributes as shown below where we added the attribute `relationship_type`, which could be \"friends\", \"family\", \"professional\", for example. "
   ]
  },
  {
   "cell_type": "code",
   "execution_count": 28,
   "metadata": {
    "ExecuteTime": {
     "end_time": "2021-03-07T16:20:12.246359Z",
     "start_time": "2021-03-07T16:20:12.241373Z"
    }
   },
   "outputs": [],
   "source": [
    "G['Ann']['Faye']['weight'] = 8\n",
    "G['Faye']['Mary']['weight'] = 10\n",
    "G['Faye']['Mary']['relatioinship_type'] = 'friends'"
   ]
  },
  {
   "cell_type": "code",
   "execution_count": 29,
   "metadata": {
    "ExecuteTime": {
     "end_time": "2021-03-07T16:20:12.253340Z",
     "start_time": "2021-03-07T16:20:12.247357Z"
    }
   },
   "outputs": [
    {
     "data": {
      "text/plain": [
       "EdgeDataView([('Erika', 'Chris', {}), ('Erika', 'Gino', {}), ('Erika', 'Ann', {}), ('Erika', 'Mary', {}), ('Erika', 'Faye', {}), ('Chris', 'Gino', {}), ('Gino', 'Christian', {}), ('Ann', 'Faye', {'weight': 8}), ('Faye', 'Mary', {'weight': 10, 'relatioinship_type': 'friends'})])"
      ]
     },
     "execution_count": 29,
     "metadata": {},
     "output_type": "execute_result"
    }
   ],
   "source": [
    "G.edges(data=True)"
   ]
  },
  {
   "cell_type": "code",
   "execution_count": 30,
   "metadata": {
    "ExecuteTime": {
     "end_time": "2021-03-07T16:20:12.259324Z",
     "start_time": "2021-03-07T16:20:12.254339Z"
    }
   },
   "outputs": [
    {
     "name": "stdout",
     "output_type": "stream",
     "text": [
      "'Mary'\n"
     ]
    }
   ],
   "source": [
    "try: \n",
    "    G['Ann']['Mary']['weight'] = 5\n",
    "except Exception as e:\n",
    "    print (e)"
   ]
  },
  {
   "cell_type": "code",
   "execution_count": 31,
   "metadata": {
    "ExecuteTime": {
     "end_time": "2021-03-07T16:20:12.264311Z",
     "start_time": "2021-03-07T16:20:12.260323Z"
    }
   },
   "outputs": [],
   "source": [
    "G.add_edge('Ann', 'Mary', weight = 30)"
   ]
  },
  {
   "cell_type": "code",
   "execution_count": 32,
   "metadata": {
    "ExecuteTime": {
     "end_time": "2021-03-07T16:20:12.279271Z",
     "start_time": "2021-03-07T16:20:12.265307Z"
    }
   },
   "outputs": [],
   "source": [
    "G.add_edge('Ann', 'Mary', relatioinship_type = 'siblings')"
   ]
  },
  {
   "cell_type": "code",
   "execution_count": 33,
   "metadata": {
    "ExecuteTime": {
     "end_time": "2021-03-07T16:20:12.286255Z",
     "start_time": "2021-03-07T16:20:12.280267Z"
    }
   },
   "outputs": [
    {
     "data": {
      "text/plain": [
       "EdgeDataView([('Erika', 'Chris', {}), ('Erika', 'Gino', {}), ('Erika', 'Ann', {}), ('Erika', 'Mary', {}), ('Erika', 'Faye', {}), ('Chris', 'Gino', {}), ('Gino', 'Christian', {}), ('Ann', 'Faye', {'weight': 8}), ('Ann', 'Mary', {'weight': 30, 'relatioinship_type': 'siblings'}), ('Faye', 'Mary', {'weight': 10, 'relatioinship_type': 'friends'})])"
      ]
     },
     "execution_count": 33,
     "metadata": {},
     "output_type": "execute_result"
    }
   ],
   "source": [
    "G.edges(data=True)"
   ]
  },
  {
   "cell_type": "code",
   "execution_count": 34,
   "metadata": {
    "ExecuteTime": {
     "end_time": "2021-03-07T16:20:12.293265Z",
     "start_time": "2021-03-07T16:20:12.288246Z"
    }
   },
   "outputs": [
    {
     "data": {
      "text/plain": [
       "EdgeDataView([('Erika', 'Chris', {}), ('Erika', 'Gino', {}), ('Erika', 'Ann', {}), ('Erika', 'Mary', {}), ('Erika', 'Faye', {}), ('Chris', 'Gino', {}), ('Gino', 'Christian', {}), ('Ann', 'Faye', {'weight': 8, 'friendship': 4}), ('Ann', 'Mary', {'weight': 30, 'relatioinship_type': 'siblings', 'friendship': 2}), ('Faye', 'Mary', {'weight': 10, 'relatioinship_type': 'friends'})])"
      ]
     },
     "execution_count": 34,
     "metadata": {},
     "output_type": "execute_result"
    }
   ],
   "source": [
    "G.add_edge('Ann', 'Mary', friendship = 2)\n",
    "G['Ann']['Faye']['friendship'] = 4\n",
    "G.edges(data=True)"
   ]
  },
  {
   "cell_type": "markdown",
   "metadata": {},
   "source": [
    "In the line below, we are saving the graphe to and edgelist file called `myG`."
   ]
  },
  {
   "cell_type": "code",
   "execution_count": 35,
   "metadata": {
    "ExecuteTime": {
     "end_time": "2021-03-07T16:20:12.299250Z",
     "start_time": "2021-03-07T16:20:12.294232Z"
    }
   },
   "outputs": [],
   "source": [
    "nx.write_edgelist(G, 'myG')"
   ]
  },
  {
   "cell_type": "markdown",
   "metadata": {},
   "source": [
    "<div class=\"alert alert-block alert-info\">\n",
    "<h4>Begin Hands-on</h4>\n",
    "</div>\n",
    "\n",
    "1. Build a weighted network `wG` of you and your LT-mates from Term 1 to Term 4.\n",
    "2. Add an edge attribute called `term` which contains information on when that edge was first created. \n",
    "3. Add another edge attribute called `weight` which contains the number of times an edge existed in a term.\n",
    "4. Visualize the network. Perform an EDA. \n",
    "5. What insights can we get from having this kind of network? What are the information do you think you can include in this type of analysis? And for what purpose?\n"
   ]
  },
  {
   "cell_type": "code",
   "execution_count": 36,
   "metadata": {
    "ExecuteTime": {
     "end_time": "2021-03-07T16:20:12.409921Z",
     "start_time": "2021-03-07T16:20:12.300215Z"
    }
   },
   "outputs": [
    {
     "data": {
      "image/png": "[encoded data removed]",
      "text/plain": [
       "<Figure size 432x288 with 1 Axes>"
      ]
     },
     "metadata": {},
     "output_type": "display_data"
    }
   ],
   "source": [
    "H = nx.Graph()\n",
    "\n",
    "H.add_edge('Matmat', 'Nika')\n",
    "H.add_edge('Matmat', 'Tal')\n",
    "H.add_edge('Matmat', 'Ralph')\n",
    "H.add_edge('Matmat', 'Kris')\n",
    "H.add_edge('Matmat', 'Dan')\n",
    "\n",
    "H.add_edge('Matmat', 'Cedric')\n",
    "H.add_edge('Matmat', 'Jasper')\n",
    "H.add_edge('Matmat', 'Josef')\n",
    "H.add_edge('Matmat', 'Alejandro')\n",
    "H.add_edge('Matmat', 'Nicole')\n",
    "\n",
    "H.add_edge('Matmat', 'Jason')\n",
    "H.add_edge('Matmat', 'Dennis')\n",
    "H.add_edge('Matmat', 'Cy')\n",
    "\n",
    "H.add_edge('Matmat', 'Elkan')\n",
    "H.add_edge('Matmat', 'Jelo')\n",
    "H.add_edge('Matmat', 'Lennart')\n",
    "\n",
    "pos = nx.spring_layout(H);\n",
    "nx.draw_networkx_labels(H, pos, font_color ='k');\n",
    "nx.draw(H, pos = pos, node_size=800);\n"
   ]
  },
  {
   "cell_type": "code",
   "execution_count": 37,
   "metadata": {
    "ExecuteTime": {
     "end_time": "2021-03-07T16:20:12.417900Z",
     "start_time": "2021-03-07T16:20:12.410919Z"
    }
   },
   "outputs": [],
   "source": [
    "H['Matmat']['Nika']['term'] = 'first'\n",
    "H['Matmat']['Tal']['term'] = 'first'\n",
    "H['Matmat']['Ralph']['term'] = 'first'\n",
    "H['Matmat']['Kris']['term'] = 'first'\n",
    "H['Matmat']['Dan']['term'] = 'first'\n",
    "\n",
    "H['Matmat']['Cedric']['term'] = 'second'\n",
    "H['Matmat']['Josef']['term'] = 'second'\n",
    "H['Matmat']['Jasper']['term'] = 'second'\n",
    "H['Matmat']['Alejandro']['term'] = 'second'\n",
    "H['Matmat']['Nicole']['term'] = 'second'\n",
    "\n",
    "H['Matmat']['Dennis']['term'] = 'third'\n",
    "H['Matmat']['Cy']['term'] = 'third'\n",
    "H['Matmat']['Jason']['term'] = 'third'\n",
    "\n",
    "H['Matmat']['Jelo']['term'] = 'fourth'\n",
    "H['Matmat']['Lennart']['term'] = 'fourth'\n",
    "H['Matmat']['Elkan']['term'] = 'fourth'\n"
   ]
  },
  {
   "cell_type": "code",
   "execution_count": 38,
   "metadata": {
    "ExecuteTime": {
     "end_time": "2021-03-07T16:20:12.424883Z",
     "start_time": "2021-03-07T16:20:12.418899Z"
    }
   },
   "outputs": [],
   "source": [
    "H['Matmat']['Nika']['weight'] = 14\n",
    "H['Matmat']['Tal']['weight'] = 13\n",
    "H['Matmat']['Ralph']['weight'] = 13\n",
    "H['Matmat']['Kris']['weight'] = 11\n",
    "H['Matmat']['Dan']['weight'] = 15\n",
    "\n",
    "H['Matmat']['Cedric']['weight'] = 17\n",
    "H['Matmat']['Josef']['weight'] = 17\n",
    "H['Matmat']['Jasper']['weight'] = 17\n",
    "H['Matmat']['Alejandro']['weight'] = 15\n",
    "H['Matmat']['Nicole']['weight'] = 17\n",
    "\n",
    "H['Matmat']['Dennis']['weight'] = 18\n",
    "H['Matmat']['Cy']['weight'] = 18\n",
    "H['Matmat']['Jason']['weight'] = 17\n",
    "\n",
    "H['Matmat']['Jelo']['weight'] = 20\n",
    "H['Matmat']['Lennart']['weight'] = 20\n",
    "H['Matmat']['Elkan']['weight'] = 20\n"
   ]
  },
  {
   "cell_type": "code",
   "execution_count": 39,
   "metadata": {
    "ExecuteTime": {
     "end_time": "2021-03-07T16:20:12.431871Z",
     "start_time": "2021-03-07T16:20:12.425879Z"
    }
   },
   "outputs": [],
   "source": [
    "nx.write_edgelist(H, 'wG')"
   ]
  },
  {
   "cell_type": "code",
   "execution_count": 90,
   "metadata": {
    "ExecuteTime": {
     "end_time": "2021-03-07T16:30:06.361459Z",
     "start_time": "2021-03-07T16:30:06.356473Z"
    }
   },
   "outputs": [
    {
     "data": {
      "text/plain": [
       "<networkx.classes.graph.Graph at 0x1699587c3c8>"
      ]
     },
     "execution_count": 90,
     "metadata": {},
     "output_type": "execute_result"
    }
   ],
   "source": [
    "H"
   ]
  },
  {
   "cell_type": "markdown",
   "metadata": {},
   "source": [
    "What I can observe is that as the term advances, I have gotten to interact more with my LTmates. In the first term there were lesser interactions since we just got to meet each other. In the fourth term, there were lots interactions between me and my now LTMates so the weight is bigger.\n",
    "\n",
    "Though I cannot quantify friendship and easily say that all of these people are my friends, I can definitely see who I am more comfortable talking with."
   ]
  },
  {
   "cell_type": "markdown",
   "metadata": {},
   "source": [
    "<div class=\"alert alert-block alert-info\">\n",
    "<h4>End Hands-on</h4>\n",
    "</div>"
   ]
  },
  {
   "cell_type": "markdown",
   "metadata": {},
   "source": [
    "---\n",
    "\n",
    "### 3.3 Directed Graphs\n",
    "\n",
    "Many networks in the real-world are also directed. That is, the relationship between two entities has a particular direction. This directionality could represent, for example, who emailed whom, or who responded to whom on Twitter, or who follows whom on Twitter or TikTok, etc. "
   ]
  },
  {
   "cell_type": "code",
   "execution_count": 41,
   "metadata": {
    "ExecuteTime": {
     "end_time": "2021-03-07T16:20:12.444828Z",
     "start_time": "2021-03-07T16:20:12.439842Z"
    }
   },
   "outputs": [],
   "source": [
    "dG = nx.DiGraph()"
   ]
  },
  {
   "cell_type": "code",
   "execution_count": 42,
   "metadata": {
    "ExecuteTime": {
     "end_time": "2021-03-07T16:20:12.450812Z",
     "start_time": "2021-03-07T16:20:12.446826Z"
    }
   },
   "outputs": [],
   "source": [
    "dG.add_edges_from([('Ann', 'Mary'), ('Mary', 'Ann')])"
   ]
  },
  {
   "cell_type": "code",
   "execution_count": 43,
   "metadata": {
    "ExecuteTime": {
     "end_time": "2021-03-07T16:20:12.457795Z",
     "start_time": "2021-03-07T16:20:12.452807Z"
    }
   },
   "outputs": [],
   "source": [
    "dG.add_weighted_edges_from([('Ann', 'Mary', 3), \n",
    "                            ('Mary', 'Ann', 2)])"
   ]
  },
  {
   "cell_type": "code",
   "execution_count": 44,
   "metadata": {
    "ExecuteTime": {
     "end_time": "2021-03-07T16:20:12.465773Z",
     "start_time": "2021-03-07T16:20:12.459788Z"
    }
   },
   "outputs": [
    {
     "data": {
      "text/plain": [
       "OutEdgeDataView([('Ann', 'Mary', {'weight': 3}), ('Mary', 'Ann', {'weight': 2})])"
      ]
     },
     "execution_count": 44,
     "metadata": {},
     "output_type": "execute_result"
    }
   ],
   "source": [
    "dG.edges(data=True)"
   ]
  },
  {
   "cell_type": "code",
   "execution_count": 45,
   "metadata": {
    "ExecuteTime": {
     "end_time": "2021-03-07T16:20:12.471755Z",
     "start_time": "2021-03-07T16:20:12.466769Z"
    }
   },
   "outputs": [],
   "source": [
    "dG = nx.to_directed(G)"
   ]
  },
  {
   "cell_type": "code",
   "execution_count": 46,
   "metadata": {
    "ExecuteTime": {
     "end_time": "2021-03-07T16:20:12.479766Z",
     "start_time": "2021-03-07T16:20:12.472755Z"
    }
   },
   "outputs": [
    {
     "data": {
      "text/plain": [
       "OutEdgeDataView([('Erika', 'Chris', {}), ('Erika', 'Gino', {}), ('Erika', 'Ann', {}), ('Erika', 'Mary', {}), ('Erika', 'Faye', {}), ('Chris', 'Erika', {}), ('Chris', 'Gino', {}), ('Gino', 'Erika', {}), ('Gino', 'Chris', {}), ('Gino', 'Christian', {}), ('Christian', 'Gino', {}), ('Ann', 'Erika', {}), ('Ann', 'Faye', {'weight': 8, 'friendship': 4}), ('Ann', 'Mary', {'weight': 30, 'relatioinship_type': 'siblings', 'friendship': 2}), ('Faye', 'Ann', {'weight': 8, 'friendship': 4}), ('Faye', 'Mary', {'weight': 10, 'relatioinship_type': 'friends'}), ('Faye', 'Erika', {}), ('Mary', 'Faye', {'weight': 10, 'relatioinship_type': 'friends'}), ('Mary', 'Erika', {}), ('Mary', 'Ann', {'weight': 30, 'relatioinship_type': 'siblings', 'friendship': 2})])"
      ]
     },
     "execution_count": 46,
     "metadata": {},
     "output_type": "execute_result"
    }
   ],
   "source": [
    "dG.edges(data=True)"
   ]
  },
  {
   "cell_type": "markdown",
   "metadata": {},
   "source": [
    "### 3.4 Adjacency Matrix to NetworkX Graph\n",
    "<div class=\"alert alert-block alert-info\">\n",
    "<b>Important:</b> Did you know that you can create a networkx graph from a numpy (adjacency) matrix?\n",
    "</div>"
   ]
  },
  {
   "cell_type": "code",
   "execution_count": 47,
   "metadata": {
    "ExecuteTime": {
     "end_time": "2021-03-07T16:20:12.485751Z",
     "start_time": "2021-03-07T16:20:12.480733Z"
    }
   },
   "outputs": [
    {
     "data": {
      "text/plain": [
       "DegreeView({0: 2, 1: 2, 2: 1, 3: 3})"
      ]
     },
     "execution_count": 47,
     "metadata": {},
     "output_type": "execute_result"
    }
   ],
   "source": [
    "nxG = nx.from_numpy_matrix(adj_G)\n",
    "nxG.degree"
   ]
  },
  {
   "cell_type": "markdown",
   "metadata": {},
   "source": [
    "In this new scheme, the node labels start at 0 such that in the drawing where Node 4 has degree 3, here in the networkx graph it is **Node 4 is Node 3** and it has degree 3."
   ]
  },
  {
   "cell_type": "markdown",
   "metadata": {},
   "source": [
    "## 4. Graph Properties\n",
    "\n",
    "Now that we have constructed our graphs, how then do we describe them? This section provides some of the metrics to characterize network structures. \n"
   ]
  },
  {
   "cell_type": "code",
   "execution_count": 48,
   "metadata": {
    "ExecuteTime": {
     "end_time": "2021-03-07T16:20:12.567499Z",
     "start_time": "2021-03-07T16:20:12.486716Z"
    }
   },
   "outputs": [
    {
     "data": {
      "image/png": "[encoded data removed]",
      "text/plain": [
       "<Figure size 432x288 with 1 Axes>"
      ]
     },
     "metadata": {},
     "output_type": "display_data"
    }
   ],
   "source": [
    "pos = nx.spring_layout(G);\n",
    "nx.draw_networkx_labels(G, pos, font_color ='k');\n",
    "nx.draw(G, pos = pos, node_size=500);"
   ]
  },
  {
   "cell_type": "code",
   "execution_count": 49,
   "metadata": {
    "ExecuteTime": {
     "end_time": "2021-03-07T16:20:12.575478Z",
     "start_time": "2021-03-07T16:20:12.568497Z"
    }
   },
   "outputs": [
    {
     "data": {
      "text/plain": [
       "{'Erika': array([-0.00361096,  0.11001946]),\n",
       " 'Chris': array([ 0.37758213, -0.17702081]),\n",
       " 'Gino': array([ 0.14263243, -0.48037035]),\n",
       " 'Christian': array([ 0.17129469, -1.        ]),\n",
       " 'Ann': array([-0.20424976,  0.44635136]),\n",
       " 'Faye': array([-0.17922753,  0.60690587]),\n",
       " 'Mary': array([-0.304421  ,  0.49411447])}"
      ]
     },
     "execution_count": 49,
     "metadata": {},
     "output_type": "execute_result"
    }
   ],
   "source": [
    "pos"
   ]
  },
  {
   "cell_type": "markdown",
   "metadata": {},
   "source": [
    "### 4.1 Network Statistics\n",
    "\n",
    "1. Size - total number of edges/links\n",
    "2. Order - total number of vertices/nodes\n",
    "3. Average degree"
   ]
  },
  {
   "cell_type": "code",
   "execution_count": 50,
   "metadata": {
    "ExecuteTime": {
     "end_time": "2021-03-07T16:20:12.582460Z",
     "start_time": "2021-03-07T16:20:12.576476Z"
    }
   },
   "outputs": [
    {
     "name": "stdout",
     "output_type": "stream",
     "text": [
      "Nodes:  7\n",
      "Edges:  10\n",
      "Average degree:  1.4285714285714286\n"
     ]
    }
   ],
   "source": [
    "N = G.order()\n",
    "L = G.size() \n",
    "\n",
    "avg_deg = float(L) / N \n",
    "\n",
    "print ('Nodes: ', N)\n",
    "print ('Edges: ', L)\n",
    "print ('Average degree: ', avg_deg)"
   ]
  },
  {
   "cell_type": "markdown",
   "metadata": {},
   "source": [
    "### 4.2 Degree Distribution\n",
    "The degree distribution, as the term implies, is the **probability distribution** of all node degrees over the entire network."
   ]
  },
  {
   "cell_type": "code",
   "execution_count": 51,
   "metadata": {
    "ExecuteTime": {
     "end_time": "2021-03-07T16:20:12.589440Z",
     "start_time": "2021-03-07T16:20:12.583457Z"
    }
   },
   "outputs": [
    {
     "data": {
      "text/plain": [
       "DegreeView({'Erika': 5, 'Chris': 2, 'Gino': 3, 'Christian': 1, 'Ann': 3, 'Faye': 3, 'Mary': 3})"
      ]
     },
     "execution_count": 51,
     "metadata": {},
     "output_type": "execute_result"
    }
   ],
   "source": [
    "nx.degree(G)"
   ]
  },
  {
   "cell_type": "code",
   "execution_count": 52,
   "metadata": {
    "ExecuteTime": {
     "end_time": "2021-03-07T16:20:12.595428Z",
     "start_time": "2021-03-07T16:20:12.590440Z"
    }
   },
   "outputs": [
    {
     "name": "stdout",
     "output_type": "stream",
     "text": [
      "[5, 2, 3, 1, 3, 3, 3]\n"
     ]
    }
   ],
   "source": [
    "degrees = [k for node, k in nx.degree(G)]\n",
    "print(degrees)"
   ]
  },
  {
   "cell_type": "code",
   "execution_count": 53,
   "metadata": {
    "ExecuteTime": {
     "end_time": "2021-03-07T16:20:12.603411Z",
     "start_time": "2021-03-07T16:20:12.597422Z"
    }
   },
   "outputs": [
    {
     "name": "stdout",
     "output_type": "stream",
     "text": [
      "Minimum degree:  1\n",
      "Maximum degree:  5\n",
      "Average degree:  2.857142857142857\n"
     ]
    }
   ],
   "source": [
    "k_min = np.min(degrees)\n",
    "k_max = np.max(degrees)\n",
    "k_avg = np.mean(degrees)\n",
    "\n",
    "print ('Minimum degree: ', k_min)\n",
    "print ('Maximum degree: ', k_max)\n",
    "print ('Average degree: ', k_avg)"
   ]
  },
  {
   "cell_type": "code",
   "execution_count": 54,
   "metadata": {
    "ExecuteTime": {
     "end_time": "2021-03-07T16:20:12.768960Z",
     "start_time": "2021-03-07T16:20:12.605398Z"
    }
   },
   "outputs": [
    {
     "data": {
      "image/png": "[encoded data removed]",
      "text/plain": [
       "<Figure size 432x288 with 1 Axes>"
      ]
     },
     "metadata": {
      "needs_background": "light"
     },
     "output_type": "display_data"
    }
   ],
   "source": [
    "p, k = np.histogram([k for n,k in nx.degree(G)], bins = 6);\n",
    "plt.bar(k[1:],p);"
   ]
  },
  {
   "cell_type": "markdown",
   "metadata": {},
   "source": [
    "### 4.3 Shortest Paths"
   ]
  },
  {
   "cell_type": "code",
   "execution_count": 55,
   "metadata": {
    "ExecuteTime": {
     "end_time": "2021-03-07T16:20:12.774945Z",
     "start_time": "2021-03-07T16:20:12.769960Z"
    }
   },
   "outputs": [
    {
     "data": {
      "text/plain": [
       "1.6666666666666667"
      ]
     },
     "execution_count": 55,
     "metadata": {},
     "output_type": "execute_result"
    }
   ],
   "source": [
    "nx.average_shortest_path_length(G)"
   ]
  },
  {
   "cell_type": "code",
   "execution_count": 56,
   "metadata": {
    "ExecuteTime": {
     "end_time": "2021-03-07T16:20:12.780930Z",
     "start_time": "2021-03-07T16:20:12.775944Z"
    }
   },
   "outputs": [
    {
     "data": {
      "text/plain": [
       "['Erika', 'Mary']"
      ]
     },
     "execution_count": 56,
     "metadata": {},
     "output_type": "execute_result"
    }
   ],
   "source": [
    "nx.shortest_path(G, 'Erika', 'Mary')"
   ]
  },
  {
   "cell_type": "code",
   "execution_count": 57,
   "metadata": {
    "ExecuteTime": {
     "end_time": "2021-03-07T16:20:12.787941Z",
     "start_time": "2021-03-07T16:20:12.781925Z"
    }
   },
   "outputs": [
    {
     "data": {
      "text/plain": [
       "['Mary', 'Erika', 'Gino']"
      ]
     },
     "execution_count": 57,
     "metadata": {},
     "output_type": "execute_result"
    }
   ],
   "source": [
    "nx.shortest_path(G, 'Mary', 'Gino')"
   ]
  },
  {
   "cell_type": "code",
   "execution_count": 58,
   "metadata": {
    "ExecuteTime": {
     "end_time": "2021-03-07T16:20:12.794891Z",
     "start_time": "2021-03-07T16:20:12.788907Z"
    }
   },
   "outputs": [
    {
     "data": {
      "text/plain": [
       "2"
      ]
     },
     "execution_count": 58,
     "metadata": {},
     "output_type": "execute_result"
    }
   ],
   "source": [
    "nx.shortest_path_length(G, 'Mary', 'Gino')"
   ]
  },
  {
   "cell_type": "code",
   "execution_count": 59,
   "metadata": {
    "ExecuteTime": {
     "end_time": "2021-03-07T16:20:12.800875Z",
     "start_time": "2021-03-07T16:20:12.795890Z"
    }
   },
   "outputs": [
    {
     "data": {
      "text/plain": [
       "3"
      ]
     },
     "execution_count": 59,
     "metadata": {},
     "output_type": "execute_result"
    }
   ],
   "source": [
    "nx.shortest_path_length(G, 'Mary', 'Christian')"
   ]
  },
  {
   "cell_type": "code",
   "execution_count": 60,
   "metadata": {
    "ExecuteTime": {
     "end_time": "2021-03-07T16:20:12.808853Z",
     "start_time": "2021-03-07T16:20:12.801872Z"
    },
    "scrolled": true
   },
   "outputs": [
    {
     "data": {
      "text/plain": [
       "[('Erika',\n",
       "  {'Erika': 0,\n",
       "   'Faye': 1,\n",
       "   'Gino': 1,\n",
       "   'Chris': 1,\n",
       "   'Ann': 1,\n",
       "   'Mary': 1,\n",
       "   'Christian': 2}),\n",
       " ('Chris',\n",
       "  {'Chris': 0,\n",
       "   'Erika': 1,\n",
       "   'Gino': 1,\n",
       "   'Faye': 2,\n",
       "   'Ann': 2,\n",
       "   'Christian': 2,\n",
       "   'Mary': 2}),\n",
       " ('Gino',\n",
       "  {'Gino': 0,\n",
       "   'Erika': 1,\n",
       "   'Christian': 1,\n",
       "   'Chris': 1,\n",
       "   'Faye': 2,\n",
       "   'Ann': 2,\n",
       "   'Mary': 2}),\n",
       " ('Christian',\n",
       "  {'Christian': 0,\n",
       "   'Gino': 1,\n",
       "   'Erika': 2,\n",
       "   'Chris': 2,\n",
       "   'Faye': 3,\n",
       "   'Ann': 3,\n",
       "   'Mary': 3}),\n",
       " ('Ann',\n",
       "  {'Ann': 0,\n",
       "   'Erika': 1,\n",
       "   'Faye': 1,\n",
       "   'Mary': 1,\n",
       "   'Gino': 2,\n",
       "   'Chris': 2,\n",
       "   'Christian': 3}),\n",
       " ('Faye',\n",
       "  {'Faye': 0,\n",
       "   'Ann': 1,\n",
       "   'Erika': 1,\n",
       "   'Mary': 1,\n",
       "   'Gino': 2,\n",
       "   'Chris': 2,\n",
       "   'Christian': 3}),\n",
       " ('Mary',\n",
       "  {'Mary': 0,\n",
       "   'Ann': 1,\n",
       "   'Erika': 1,\n",
       "   'Faye': 1,\n",
       "   'Gino': 2,\n",
       "   'Chris': 2,\n",
       "   'Christian': 3})]"
      ]
     },
     "execution_count": 60,
     "metadata": {},
     "output_type": "execute_result"
    }
   ],
   "source": [
    "list(nx.all_pairs_shortest_path_length(G))"
   ]
  },
  {
   "cell_type": "markdown",
   "metadata": {},
   "source": [
    "### 4.4 Clustering Coefficient\n",
    "\n",
    " <img src=\"figure/clust_coeff.png\" width=\"75%\">\n",
    " \n",
    "The clustering coefficient essentially quantifies how ones \"friends\" are \"friends\" with each other."
   ]
  },
  {
   "cell_type": "code",
   "execution_count": 61,
   "metadata": {
    "ExecuteTime": {
     "end_time": "2021-03-07T16:20:12.814838Z",
     "start_time": "2021-03-07T16:20:12.809852Z"
    }
   },
   "outputs": [
    {
     "data": {
      "text/plain": [
       "0.4"
      ]
     },
     "execution_count": 61,
     "metadata": {},
     "output_type": "execute_result"
    }
   ],
   "source": [
    "nx.clustering(G, 'Erika')"
   ]
  },
  {
   "cell_type": "code",
   "execution_count": 62,
   "metadata": {
    "ExecuteTime": {
     "end_time": "2021-03-07T16:20:12.830795Z",
     "start_time": "2021-03-07T16:20:12.815835Z"
    }
   },
   "outputs": [
    {
     "data": {
      "text/plain": [
       "1.0"
      ]
     },
     "execution_count": 62,
     "metadata": {},
     "output_type": "execute_result"
    }
   ],
   "source": [
    "nx.clustering(G, 'Faye')"
   ]
  },
  {
   "cell_type": "code",
   "execution_count": 63,
   "metadata": {
    "ExecuteTime": {
     "end_time": "2021-03-07T16:20:12.837784Z",
     "start_time": "2021-03-07T16:20:12.832790Z"
    }
   },
   "outputs": [
    {
     "name": "stdout",
     "output_type": "stream",
     "text": [
      "0.6761904761904762\n"
     ]
    }
   ],
   "source": [
    "cc = nx.clustering(G)\n",
    "avg_clust = sum(cc.values()) / len(cc)\n",
    "print(avg_clust)"
   ]
  },
  {
   "cell_type": "markdown",
   "metadata": {},
   "source": [
    "## 5. Exercises: Real-World Network\n",
    "\n",
    "<div class=\"alert alert-block alert-info\">\n",
    "Perform the required analysis below and upload your work to Google colab. Submit to me a link to your Google colab via ALICE.\n",
    "</div>"
   ]
  },
  {
   "cell_type": "code",
   "execution_count": 64,
   "metadata": {
    "ExecuteTime": {
     "end_time": "2021-03-07T16:20:12.846753Z",
     "start_time": "2021-03-07T16:20:12.839773Z"
    }
   },
   "outputs": [],
   "source": [
    "def net_prop(network):\n",
    "    '''Display basic network properties of the network'''\n",
    "    \n",
    "    #Get number of nodes, edges, and number of degrees\n",
    "    N = network.order()\n",
    "    L = network.size() \n",
    "    avg_deg = float(L) / N \n",
    "    \n",
    "    print ('Basic Properties')\n",
    "    print ('Nodes: ', N)\n",
    "    print ('Edges: ', L)\n",
    "    print ('Average degree: ', avg_deg)\n",
    "    print('\\n')\n",
    "    \n",
    "    \n",
    "    degrees = [degree for degree in nx.degree(network)]\n",
    "    print(\"Sorted degrees of nodes\")\n",
    "    print(sorted(degrees, key = lambda x: x[1], reverse=True))\n",
    "    "
   ]
  },
  {
   "cell_type": "markdown",
   "metadata": {},
   "source": [
    "### 5.1 Zachary's Karate Club\n",
    "\n",
    "Zachary, W. W. (1977), ‘An Information Flow Model for Conflict and Fission in Small Groups’, Journal of Anthropological Research 33, 452-473.\n",
    "\n",
    "**Description** \n",
    "\n",
    "This is the well-known and much-used Zachary karate club network. The data was collected from the members of a university karate club by Wayne Zachary in 1977. Each node represents a member of the club, and each edge represents a tie between two members of the club."
   ]
  },
  {
   "cell_type": "code",
   "execution_count": 65,
   "metadata": {
    "ExecuteTime": {
     "end_time": "2021-03-07T16:20:12.853736Z",
     "start_time": "2021-03-07T16:20:12.847752Z"
    }
   },
   "outputs": [],
   "source": [
    "K = nx.karate_club_graph()"
   ]
  },
  {
   "cell_type": "code",
   "execution_count": 66,
   "metadata": {
    "ExecuteTime": {
     "end_time": "2021-03-07T16:20:13.021285Z",
     "start_time": "2021-03-07T16:20:12.854733Z"
    }
   },
   "outputs": [
    {
     "data": {
      "image/png": "[encoded data removed]",
      "text/plain": [
       "<Figure size 864x720 with 1 Axes>"
      ]
     },
     "metadata": {},
     "output_type": "display_data"
    }
   ],
   "source": [
    "pos = nx.fruchterman_reingold_layout(K);\n",
    "\n",
    "plt.figure(figsize=(12,10));\n",
    "plt.axis(\"off\");\n",
    "nx.draw_networkx_nodes(K, pos, node_size=300, node_color=\"black\");\n",
    "nx.draw_networkx_edges(K, pos, alpha=0.500);\n",
    "nx.draw_networkx_labels(K, pos, font_color=\"white\");\n",
    "plt.show();"
   ]
  },
  {
   "cell_type": "markdown",
   "metadata": {},
   "source": [
    "#### 5.1.1 Network Structure Properties"
   ]
  },
  {
   "cell_type": "code",
   "execution_count": 67,
   "metadata": {
    "ExecuteTime": {
     "end_time": "2021-03-07T16:20:13.031261Z",
     "start_time": "2021-03-07T16:20:13.022283Z"
    }
   },
   "outputs": [
    {
     "data": {
      "text/plain": [
       "{0: array([0.28121214, 0.25783552]),\n",
       " 1: array([0.21193913, 0.1274934 ]),\n",
       " 2: array([ 0.05650536, -0.0794803 ]),\n",
       " 3: array([ 0.35211174, -0.01269642]),\n",
       " 4: array([0.33536184, 0.58955378]),\n",
       " 5: array([0.39379442, 0.72280414]),\n",
       " 6: array([0.26944243, 0.72252991]),\n",
       " 7: array([0.34236882, 0.06886031]),\n",
       " 8: array([-0.09339873,  0.02265676]),\n",
       " 9: array([-0.27715069,  0.06011482]),\n",
       " 10: array([0.4921968 , 0.58771006]),\n",
       " 11: array([0.67944683, 0.40547706]),\n",
       " 12: array([0.60447828, 0.07300463]),\n",
       " 13: array([0.10512617, 0.01717447]),\n",
       " 14: array([-0.54285163, -0.45250048]),\n",
       " 15: array([-0.43371772, -0.50910442]),\n",
       " 16: array([0.35243847, 1.        ]),\n",
       " 17: array([0.40946995, 0.3653663 ]),\n",
       " 18: array([-0.63031882, -0.33259142]),\n",
       " 19: array([-0.02790156,  0.16980047]),\n",
       " 20: array([-0.57768156, -0.17060461]),\n",
       " 21: array([0.51897332, 0.23197247]),\n",
       " 22: array([-0.54028649, -0.03651155]),\n",
       " 23: array([-0.28431528, -0.49022188]),\n",
       " 24: array([ 0.09306208, -0.61712545]),\n",
       " 25: array([-0.06098808, -0.64986912]),\n",
       " 26: array([-0.7087004 , -0.16484737]),\n",
       " 27: array([-0.08795983, -0.43446641]),\n",
       " 28: array([ 0.00603436, -0.35630224]),\n",
       " 29: array([-0.51224636, -0.32807406]),\n",
       " 30: array([-0.1235048 , -0.07285181]),\n",
       " 31: array([ 0.01900346, -0.26845434]),\n",
       " 32: array([-0.32957404, -0.25154763]),\n",
       " 33: array([-0.29236959, -0.19510458])}"
      ]
     },
     "execution_count": 67,
     "metadata": {},
     "output_type": "execute_result"
    }
   ],
   "source": [
    "pos"
   ]
  },
  {
   "cell_type": "code",
   "execution_count": 68,
   "metadata": {
    "ExecuteTime": {
     "end_time": "2021-03-07T16:20:13.042230Z",
     "start_time": "2021-03-07T16:20:13.036245Z"
    }
   },
   "outputs": [
    {
     "name": "stdout",
     "output_type": "stream",
     "text": [
      "Basic Properties\n",
      "Nodes:  34\n",
      "Edges:  78\n",
      "Average degree:  2.2941176470588234\n",
      "\n",
      "\n",
      "Sorted degrees of nodes\n",
      "[(33, 17), (0, 16), (32, 12), (2, 10), (1, 9), (3, 6), (31, 6), (8, 5), (13, 5), (23, 5), (5, 4), (6, 4), (7, 4), (27, 4), (29, 4), (30, 4), (4, 3), (10, 3), (19, 3), (24, 3), (25, 3), (28, 3), (9, 2), (12, 2), (14, 2), (15, 2), (16, 2), (17, 2), (18, 2), (20, 2), (21, 2), (22, 2), (26, 2), (11, 1)]\n"
     ]
    }
   ],
   "source": [
    "net_prop(K)"
   ]
  },
  {
   "cell_type": "code",
   "execution_count": 69,
   "metadata": {
    "ExecuteTime": {
     "end_time": "2021-03-07T16:20:13.080157Z",
     "start_time": "2021-03-07T16:20:13.044224Z"
    }
   },
   "outputs": [
    {
     "data": {
      "text/plain": [
       "[(0,\n",
       "  {0: 0,\n",
       "   1: 1,\n",
       "   2: 1,\n",
       "   3: 1,\n",
       "   4: 1,\n",
       "   5: 1,\n",
       "   6: 1,\n",
       "   7: 1,\n",
       "   8: 1,\n",
       "   10: 1,\n",
       "   11: 1,\n",
       "   12: 1,\n",
       "   13: 1,\n",
       "   17: 1,\n",
       "   19: 1,\n",
       "   21: 1,\n",
       "   31: 1,\n",
       "   9: 2,\n",
       "   16: 2,\n",
       "   24: 2,\n",
       "   25: 2,\n",
       "   27: 2,\n",
       "   28: 2,\n",
       "   30: 2,\n",
       "   32: 2,\n",
       "   33: 2,\n",
       "   14: 3,\n",
       "   15: 3,\n",
       "   18: 3,\n",
       "   20: 3,\n",
       "   22: 3,\n",
       "   23: 3,\n",
       "   26: 3,\n",
       "   29: 3}),\n",
       " (1,\n",
       "  {1: 0,\n",
       "   0: 1,\n",
       "   2: 1,\n",
       "   3: 1,\n",
       "   7: 1,\n",
       "   13: 1,\n",
       "   17: 1,\n",
       "   19: 1,\n",
       "   21: 1,\n",
       "   30: 1,\n",
       "   4: 2,\n",
       "   5: 2,\n",
       "   6: 2,\n",
       "   8: 2,\n",
       "   9: 2,\n",
       "   10: 2,\n",
       "   11: 2,\n",
       "   12: 2,\n",
       "   27: 2,\n",
       "   28: 2,\n",
       "   31: 2,\n",
       "   32: 2,\n",
       "   33: 2,\n",
       "   14: 3,\n",
       "   15: 3,\n",
       "   16: 3,\n",
       "   18: 3,\n",
       "   20: 3,\n",
       "   22: 3,\n",
       "   23: 3,\n",
       "   24: 3,\n",
       "   25: 3,\n",
       "   26: 3,\n",
       "   29: 3}),\n",
       " (2,\n",
       "  {2: 0,\n",
       "   0: 1,\n",
       "   1: 1,\n",
       "   32: 1,\n",
       "   3: 1,\n",
       "   7: 1,\n",
       "   8: 1,\n",
       "   9: 1,\n",
       "   13: 1,\n",
       "   27: 1,\n",
       "   28: 1,\n",
       "   4: 2,\n",
       "   5: 2,\n",
       "   6: 2,\n",
       "   10: 2,\n",
       "   11: 2,\n",
       "   12: 2,\n",
       "   14: 2,\n",
       "   15: 2,\n",
       "   17: 2,\n",
       "   18: 2,\n",
       "   19: 2,\n",
       "   20: 2,\n",
       "   21: 2,\n",
       "   22: 2,\n",
       "   23: 2,\n",
       "   24: 2,\n",
       "   29: 2,\n",
       "   30: 2,\n",
       "   31: 2,\n",
       "   33: 2,\n",
       "   16: 3,\n",
       "   25: 3,\n",
       "   26: 3}),\n",
       " (3,\n",
       "  {3: 0,\n",
       "   0: 1,\n",
       "   1: 1,\n",
       "   2: 1,\n",
       "   7: 1,\n",
       "   12: 1,\n",
       "   13: 1,\n",
       "   4: 2,\n",
       "   5: 2,\n",
       "   6: 2,\n",
       "   8: 2,\n",
       "   9: 2,\n",
       "   10: 2,\n",
       "   11: 2,\n",
       "   17: 2,\n",
       "   19: 2,\n",
       "   21: 2,\n",
       "   27: 2,\n",
       "   28: 2,\n",
       "   30: 2,\n",
       "   31: 2,\n",
       "   32: 2,\n",
       "   33: 2,\n",
       "   14: 3,\n",
       "   15: 3,\n",
       "   16: 3,\n",
       "   18: 3,\n",
       "   20: 3,\n",
       "   22: 3,\n",
       "   23: 3,\n",
       "   24: 3,\n",
       "   25: 3,\n",
       "   26: 3,\n",
       "   29: 3}),\n",
       " (4,\n",
       "  {4: 0,\n",
       "   0: 1,\n",
       "   10: 1,\n",
       "   6: 1,\n",
       "   1: 2,\n",
       "   2: 2,\n",
       "   3: 2,\n",
       "   5: 2,\n",
       "   7: 2,\n",
       "   8: 2,\n",
       "   11: 2,\n",
       "   12: 2,\n",
       "   13: 2,\n",
       "   16: 2,\n",
       "   17: 2,\n",
       "   19: 2,\n",
       "   21: 2,\n",
       "   31: 2,\n",
       "   9: 3,\n",
       "   24: 3,\n",
       "   25: 3,\n",
       "   27: 3,\n",
       "   28: 3,\n",
       "   30: 3,\n",
       "   32: 3,\n",
       "   33: 3,\n",
       "   14: 4,\n",
       "   15: 4,\n",
       "   18: 4,\n",
       "   20: 4,\n",
       "   22: 4,\n",
       "   23: 4,\n",
       "   26: 4,\n",
       "   29: 4}),\n",
       " (5,\n",
       "  {5: 0,\n",
       "   0: 1,\n",
       "   16: 1,\n",
       "   10: 1,\n",
       "   6: 1,\n",
       "   1: 2,\n",
       "   2: 2,\n",
       "   3: 2,\n",
       "   4: 2,\n",
       "   7: 2,\n",
       "   8: 2,\n",
       "   11: 2,\n",
       "   12: 2,\n",
       "   13: 2,\n",
       "   17: 2,\n",
       "   19: 2,\n",
       "   21: 2,\n",
       "   31: 2,\n",
       "   9: 3,\n",
       "   24: 3,\n",
       "   25: 3,\n",
       "   27: 3,\n",
       "   28: 3,\n",
       "   30: 3,\n",
       "   32: 3,\n",
       "   33: 3,\n",
       "   14: 4,\n",
       "   15: 4,\n",
       "   18: 4,\n",
       "   20: 4,\n",
       "   22: 4,\n",
       "   23: 4,\n",
       "   26: 4,\n",
       "   29: 4}),\n",
       " (6,\n",
       "  {6: 0,\n",
       "   0: 1,\n",
       "   16: 1,\n",
       "   4: 1,\n",
       "   5: 1,\n",
       "   1: 2,\n",
       "   2: 2,\n",
       "   3: 2,\n",
       "   7: 2,\n",
       "   8: 2,\n",
       "   10: 2,\n",
       "   11: 2,\n",
       "   12: 2,\n",
       "   13: 2,\n",
       "   17: 2,\n",
       "   19: 2,\n",
       "   21: 2,\n",
       "   31: 2,\n",
       "   9: 3,\n",
       "   24: 3,\n",
       "   25: 3,\n",
       "   27: 3,\n",
       "   28: 3,\n",
       "   30: 3,\n",
       "   32: 3,\n",
       "   33: 3,\n",
       "   14: 4,\n",
       "   15: 4,\n",
       "   18: 4,\n",
       "   20: 4,\n",
       "   22: 4,\n",
       "   23: 4,\n",
       "   26: 4,\n",
       "   29: 4}),\n",
       " (7,\n",
       "  {7: 0,\n",
       "   0: 1,\n",
       "   1: 1,\n",
       "   2: 1,\n",
       "   3: 1,\n",
       "   4: 2,\n",
       "   5: 2,\n",
       "   6: 2,\n",
       "   8: 2,\n",
       "   9: 2,\n",
       "   10: 2,\n",
       "   11: 2,\n",
       "   12: 2,\n",
       "   13: 2,\n",
       "   17: 2,\n",
       "   19: 2,\n",
       "   21: 2,\n",
       "   27: 2,\n",
       "   28: 2,\n",
       "   30: 2,\n",
       "   31: 2,\n",
       "   32: 2,\n",
       "   14: 3,\n",
       "   15: 3,\n",
       "   16: 3,\n",
       "   18: 3,\n",
       "   20: 3,\n",
       "   22: 3,\n",
       "   23: 3,\n",
       "   24: 3,\n",
       "   25: 3,\n",
       "   29: 3,\n",
       "   33: 3,\n",
       "   26: 4}),\n",
       " (8,\n",
       "  {8: 0,\n",
       "   0: 1,\n",
       "   33: 1,\n",
       "   2: 1,\n",
       "   32: 1,\n",
       "   30: 1,\n",
       "   1: 2,\n",
       "   3: 2,\n",
       "   4: 2,\n",
       "   5: 2,\n",
       "   6: 2,\n",
       "   7: 2,\n",
       "   9: 2,\n",
       "   10: 2,\n",
       "   11: 2,\n",
       "   12: 2,\n",
       "   13: 2,\n",
       "   14: 2,\n",
       "   15: 2,\n",
       "   17: 2,\n",
       "   18: 2,\n",
       "   19: 2,\n",
       "   20: 2,\n",
       "   21: 2,\n",
       "   22: 2,\n",
       "   23: 2,\n",
       "   26: 2,\n",
       "   27: 2,\n",
       "   28: 2,\n",
       "   29: 2,\n",
       "   31: 2,\n",
       "   16: 3,\n",
       "   24: 3,\n",
       "   25: 3}),\n",
       " (9,\n",
       "  {9: 0,\n",
       "   33: 1,\n",
       "   2: 1,\n",
       "   0: 2,\n",
       "   1: 2,\n",
       "   3: 2,\n",
       "   7: 2,\n",
       "   8: 2,\n",
       "   13: 2,\n",
       "   14: 2,\n",
       "   15: 2,\n",
       "   18: 2,\n",
       "   19: 2,\n",
       "   20: 2,\n",
       "   22: 2,\n",
       "   23: 2,\n",
       "   26: 2,\n",
       "   27: 2,\n",
       "   28: 2,\n",
       "   29: 2,\n",
       "   30: 2,\n",
       "   31: 2,\n",
       "   32: 2,\n",
       "   4: 3,\n",
       "   5: 3,\n",
       "   6: 3,\n",
       "   10: 3,\n",
       "   11: 3,\n",
       "   12: 3,\n",
       "   17: 3,\n",
       "   21: 3,\n",
       "   24: 3,\n",
       "   25: 3,\n",
       "   16: 4}),\n",
       " (10,\n",
       "  {10: 0,\n",
       "   0: 1,\n",
       "   4: 1,\n",
       "   5: 1,\n",
       "   1: 2,\n",
       "   2: 2,\n",
       "   3: 2,\n",
       "   6: 2,\n",
       "   7: 2,\n",
       "   8: 2,\n",
       "   11: 2,\n",
       "   12: 2,\n",
       "   13: 2,\n",
       "   16: 2,\n",
       "   17: 2,\n",
       "   19: 2,\n",
       "   21: 2,\n",
       "   31: 2,\n",
       "   9: 3,\n",
       "   24: 3,\n",
       "   25: 3,\n",
       "   27: 3,\n",
       "   28: 3,\n",
       "   30: 3,\n",
       "   32: 3,\n",
       "   33: 3,\n",
       "   14: 4,\n",
       "   15: 4,\n",
       "   18: 4,\n",
       "   20: 4,\n",
       "   22: 4,\n",
       "   23: 4,\n",
       "   26: 4,\n",
       "   29: 4}),\n",
       " (11,\n",
       "  {11: 0,\n",
       "   0: 1,\n",
       "   1: 2,\n",
       "   2: 2,\n",
       "   3: 2,\n",
       "   4: 2,\n",
       "   5: 2,\n",
       "   6: 2,\n",
       "   7: 2,\n",
       "   8: 2,\n",
       "   10: 2,\n",
       "   12: 2,\n",
       "   13: 2,\n",
       "   17: 2,\n",
       "   19: 2,\n",
       "   21: 2,\n",
       "   31: 2,\n",
       "   9: 3,\n",
       "   16: 3,\n",
       "   24: 3,\n",
       "   25: 3,\n",
       "   27: 3,\n",
       "   28: 3,\n",
       "   30: 3,\n",
       "   32: 3,\n",
       "   33: 3,\n",
       "   14: 4,\n",
       "   15: 4,\n",
       "   18: 4,\n",
       "   20: 4,\n",
       "   22: 4,\n",
       "   23: 4,\n",
       "   26: 4,\n",
       "   29: 4}),\n",
       " (12,\n",
       "  {12: 0,\n",
       "   0: 1,\n",
       "   3: 1,\n",
       "   1: 2,\n",
       "   2: 2,\n",
       "   4: 2,\n",
       "   5: 2,\n",
       "   6: 2,\n",
       "   7: 2,\n",
       "   8: 2,\n",
       "   10: 2,\n",
       "   11: 2,\n",
       "   13: 2,\n",
       "   17: 2,\n",
       "   19: 2,\n",
       "   21: 2,\n",
       "   31: 2,\n",
       "   9: 3,\n",
       "   16: 3,\n",
       "   24: 3,\n",
       "   25: 3,\n",
       "   27: 3,\n",
       "   28: 3,\n",
       "   30: 3,\n",
       "   32: 3,\n",
       "   33: 3,\n",
       "   14: 4,\n",
       "   15: 4,\n",
       "   18: 4,\n",
       "   20: 4,\n",
       "   22: 4,\n",
       "   23: 4,\n",
       "   26: 4,\n",
       "   29: 4}),\n",
       " (13,\n",
       "  {13: 0,\n",
       "   0: 1,\n",
       "   1: 1,\n",
       "   2: 1,\n",
       "   3: 1,\n",
       "   33: 1,\n",
       "   4: 2,\n",
       "   5: 2,\n",
       "   6: 2,\n",
       "   7: 2,\n",
       "   8: 2,\n",
       "   9: 2,\n",
       "   10: 2,\n",
       "   11: 2,\n",
       "   12: 2,\n",
       "   14: 2,\n",
       "   15: 2,\n",
       "   17: 2,\n",
       "   18: 2,\n",
       "   19: 2,\n",
       "   20: 2,\n",
       "   21: 2,\n",
       "   22: 2,\n",
       "   23: 2,\n",
       "   26: 2,\n",
       "   27: 2,\n",
       "   28: 2,\n",
       "   29: 2,\n",
       "   30: 2,\n",
       "   31: 2,\n",
       "   32: 2,\n",
       "   16: 3,\n",
       "   24: 3,\n",
       "   25: 3}),\n",
       " (14,\n",
       "  {14: 0,\n",
       "   32: 1,\n",
       "   33: 1,\n",
       "   2: 2,\n",
       "   8: 2,\n",
       "   9: 2,\n",
       "   13: 2,\n",
       "   15: 2,\n",
       "   18: 2,\n",
       "   19: 2,\n",
       "   20: 2,\n",
       "   22: 2,\n",
       "   23: 2,\n",
       "   26: 2,\n",
       "   27: 2,\n",
       "   28: 2,\n",
       "   29: 2,\n",
       "   30: 2,\n",
       "   31: 2,\n",
       "   0: 3,\n",
       "   1: 3,\n",
       "   3: 3,\n",
       "   7: 3,\n",
       "   24: 3,\n",
       "   25: 3,\n",
       "   4: 4,\n",
       "   5: 4,\n",
       "   6: 4,\n",
       "   10: 4,\n",
       "   11: 4,\n",
       "   12: 4,\n",
       "   17: 4,\n",
       "   21: 4,\n",
       "   16: 5}),\n",
       " (15,\n",
       "  {15: 0,\n",
       "   32: 1,\n",
       "   33: 1,\n",
       "   2: 2,\n",
       "   8: 2,\n",
       "   9: 2,\n",
       "   13: 2,\n",
       "   14: 2,\n",
       "   18: 2,\n",
       "   19: 2,\n",
       "   20: 2,\n",
       "   22: 2,\n",
       "   23: 2,\n",
       "   26: 2,\n",
       "   27: 2,\n",
       "   28: 2,\n",
       "   29: 2,\n",
       "   30: 2,\n",
       "   31: 2,\n",
       "   0: 3,\n",
       "   1: 3,\n",
       "   3: 3,\n",
       "   7: 3,\n",
       "   24: 3,\n",
       "   25: 3,\n",
       "   4: 4,\n",
       "   5: 4,\n",
       "   6: 4,\n",
       "   10: 4,\n",
       "   11: 4,\n",
       "   12: 4,\n",
       "   17: 4,\n",
       "   21: 4,\n",
       "   16: 5}),\n",
       " (16,\n",
       "  {16: 0,\n",
       "   5: 1,\n",
       "   6: 1,\n",
       "   0: 2,\n",
       "   4: 2,\n",
       "   10: 2,\n",
       "   1: 3,\n",
       "   2: 3,\n",
       "   3: 3,\n",
       "   7: 3,\n",
       "   8: 3,\n",
       "   11: 3,\n",
       "   12: 3,\n",
       "   13: 3,\n",
       "   17: 3,\n",
       "   19: 3,\n",
       "   21: 3,\n",
       "   31: 3,\n",
       "   9: 4,\n",
       "   24: 4,\n",
       "   25: 4,\n",
       "   27: 4,\n",
       "   28: 4,\n",
       "   30: 4,\n",
       "   32: 4,\n",
       "   33: 4,\n",
       "   14: 5,\n",
       "   15: 5,\n",
       "   18: 5,\n",
       "   20: 5,\n",
       "   22: 5,\n",
       "   23: 5,\n",
       "   26: 5,\n",
       "   29: 5}),\n",
       " (17,\n",
       "  {17: 0,\n",
       "   0: 1,\n",
       "   1: 1,\n",
       "   2: 2,\n",
       "   3: 2,\n",
       "   4: 2,\n",
       "   5: 2,\n",
       "   6: 2,\n",
       "   7: 2,\n",
       "   8: 2,\n",
       "   10: 2,\n",
       "   11: 2,\n",
       "   12: 2,\n",
       "   13: 2,\n",
       "   19: 2,\n",
       "   21: 2,\n",
       "   30: 2,\n",
       "   31: 2,\n",
       "   9: 3,\n",
       "   16: 3,\n",
       "   24: 3,\n",
       "   25: 3,\n",
       "   27: 3,\n",
       "   28: 3,\n",
       "   32: 3,\n",
       "   33: 3,\n",
       "   14: 4,\n",
       "   15: 4,\n",
       "   18: 4,\n",
       "   20: 4,\n",
       "   22: 4,\n",
       "   23: 4,\n",
       "   26: 4,\n",
       "   29: 4}),\n",
       " (18,\n",
       "  {18: 0,\n",
       "   32: 1,\n",
       "   33: 1,\n",
       "   2: 2,\n",
       "   8: 2,\n",
       "   9: 2,\n",
       "   13: 2,\n",
       "   14: 2,\n",
       "   15: 2,\n",
       "   19: 2,\n",
       "   20: 2,\n",
       "   22: 2,\n",
       "   23: 2,\n",
       "   26: 2,\n",
       "   27: 2,\n",
       "   28: 2,\n",
       "   29: 2,\n",
       "   30: 2,\n",
       "   31: 2,\n",
       "   0: 3,\n",
       "   1: 3,\n",
       "   3: 3,\n",
       "   7: 3,\n",
       "   24: 3,\n",
       "   25: 3,\n",
       "   4: 4,\n",
       "   5: 4,\n",
       "   6: 4,\n",
       "   10: 4,\n",
       "   11: 4,\n",
       "   12: 4,\n",
       "   17: 4,\n",
       "   21: 4,\n",
       "   16: 5}),\n",
       " (19,\n",
       "  {19: 0,\n",
       "   0: 1,\n",
       "   1: 1,\n",
       "   33: 1,\n",
       "   2: 2,\n",
       "   3: 2,\n",
       "   4: 2,\n",
       "   5: 2,\n",
       "   6: 2,\n",
       "   7: 2,\n",
       "   8: 2,\n",
       "   9: 2,\n",
       "   10: 2,\n",
       "   11: 2,\n",
       "   12: 2,\n",
       "   13: 2,\n",
       "   14: 2,\n",
       "   15: 2,\n",
       "   17: 2,\n",
       "   18: 2,\n",
       "   20: 2,\n",
       "   21: 2,\n",
       "   22: 2,\n",
       "   23: 2,\n",
       "   26: 2,\n",
       "   27: 2,\n",
       "   28: 2,\n",
       "   29: 2,\n",
       "   30: 2,\n",
       "   31: 2,\n",
       "   32: 2,\n",
       "   16: 3,\n",
       "   24: 3,\n",
       "   25: 3}),\n",
       " (20,\n",
       "  {20: 0,\n",
       "   32: 1,\n",
       "   33: 1,\n",
       "   2: 2,\n",
       "   8: 2,\n",
       "   9: 2,\n",
       "   13: 2,\n",
       "   14: 2,\n",
       "   15: 2,\n",
       "   18: 2,\n",
       "   19: 2,\n",
       "   22: 2,\n",
       "   23: 2,\n",
       "   26: 2,\n",
       "   27: 2,\n",
       "   28: 2,\n",
       "   29: 2,\n",
       "   30: 2,\n",
       "   31: 2,\n",
       "   0: 3,\n",
       "   1: 3,\n",
       "   3: 3,\n",
       "   7: 3,\n",
       "   24: 3,\n",
       "   25: 3,\n",
       "   4: 4,\n",
       "   5: 4,\n",
       "   6: 4,\n",
       "   10: 4,\n",
       "   11: 4,\n",
       "   12: 4,\n",
       "   17: 4,\n",
       "   21: 4,\n",
       "   16: 5}),\n",
       " (21,\n",
       "  {21: 0,\n",
       "   0: 1,\n",
       "   1: 1,\n",
       "   2: 2,\n",
       "   3: 2,\n",
       "   4: 2,\n",
       "   5: 2,\n",
       "   6: 2,\n",
       "   7: 2,\n",
       "   8: 2,\n",
       "   10: 2,\n",
       "   11: 2,\n",
       "   12: 2,\n",
       "   13: 2,\n",
       "   17: 2,\n",
       "   19: 2,\n",
       "   30: 2,\n",
       "   31: 2,\n",
       "   9: 3,\n",
       "   16: 3,\n",
       "   24: 3,\n",
       "   25: 3,\n",
       "   27: 3,\n",
       "   28: 3,\n",
       "   32: 3,\n",
       "   33: 3,\n",
       "   14: 4,\n",
       "   15: 4,\n",
       "   18: 4,\n",
       "   20: 4,\n",
       "   22: 4,\n",
       "   23: 4,\n",
       "   26: 4,\n",
       "   29: 4}),\n",
       " (22,\n",
       "  {22: 0,\n",
       "   32: 1,\n",
       "   33: 1,\n",
       "   2: 2,\n",
       "   8: 2,\n",
       "   9: 2,\n",
       "   13: 2,\n",
       "   14: 2,\n",
       "   15: 2,\n",
       "   18: 2,\n",
       "   19: 2,\n",
       "   20: 2,\n",
       "   23: 2,\n",
       "   26: 2,\n",
       "   27: 2,\n",
       "   28: 2,\n",
       "   29: 2,\n",
       "   30: 2,\n",
       "   31: 2,\n",
       "   0: 3,\n",
       "   1: 3,\n",
       "   3: 3,\n",
       "   7: 3,\n",
       "   24: 3,\n",
       "   25: 3,\n",
       "   4: 4,\n",
       "   5: 4,\n",
       "   6: 4,\n",
       "   10: 4,\n",
       "   11: 4,\n",
       "   12: 4,\n",
       "   17: 4,\n",
       "   21: 4,\n",
       "   16: 5}),\n",
       " (23,\n",
       "  {23: 0,\n",
       "   32: 1,\n",
       "   33: 1,\n",
       "   25: 1,\n",
       "   27: 1,\n",
       "   29: 1,\n",
       "   2: 2,\n",
       "   8: 2,\n",
       "   9: 2,\n",
       "   13: 2,\n",
       "   14: 2,\n",
       "   15: 2,\n",
       "   18: 2,\n",
       "   19: 2,\n",
       "   20: 2,\n",
       "   22: 2,\n",
       "   24: 2,\n",
       "   26: 2,\n",
       "   28: 2,\n",
       "   30: 2,\n",
       "   31: 2,\n",
       "   0: 3,\n",
       "   1: 3,\n",
       "   3: 3,\n",
       "   7: 3,\n",
       "   4: 4,\n",
       "   5: 4,\n",
       "   6: 4,\n",
       "   10: 4,\n",
       "   11: 4,\n",
       "   12: 4,\n",
       "   17: 4,\n",
       "   21: 4,\n",
       "   16: 5}),\n",
       " (24,\n",
       "  {24: 0,\n",
       "   25: 1,\n",
       "   27: 1,\n",
       "   31: 1,\n",
       "   0: 2,\n",
       "   33: 2,\n",
       "   2: 2,\n",
       "   32: 2,\n",
       "   23: 2,\n",
       "   28: 2,\n",
       "   1: 3,\n",
       "   3: 3,\n",
       "   4: 3,\n",
       "   5: 3,\n",
       "   6: 3,\n",
       "   7: 3,\n",
       "   8: 3,\n",
       "   9: 3,\n",
       "   10: 3,\n",
       "   11: 3,\n",
       "   12: 3,\n",
       "   13: 3,\n",
       "   14: 3,\n",
       "   15: 3,\n",
       "   17: 3,\n",
       "   18: 3,\n",
       "   19: 3,\n",
       "   20: 3,\n",
       "   21: 3,\n",
       "   22: 3,\n",
       "   26: 3,\n",
       "   29: 3,\n",
       "   30: 3,\n",
       "   16: 4}),\n",
       " (25,\n",
       "  {25: 0,\n",
       "   24: 1,\n",
       "   31: 1,\n",
       "   23: 1,\n",
       "   0: 2,\n",
       "   32: 2,\n",
       "   33: 2,\n",
       "   27: 2,\n",
       "   28: 2,\n",
       "   29: 2,\n",
       "   1: 3,\n",
       "   2: 3,\n",
       "   3: 3,\n",
       "   4: 3,\n",
       "   5: 3,\n",
       "   6: 3,\n",
       "   7: 3,\n",
       "   8: 3,\n",
       "   9: 3,\n",
       "   10: 3,\n",
       "   11: 3,\n",
       "   12: 3,\n",
       "   13: 3,\n",
       "   14: 3,\n",
       "   15: 3,\n",
       "   17: 3,\n",
       "   18: 3,\n",
       "   19: 3,\n",
       "   20: 3,\n",
       "   21: 3,\n",
       "   22: 3,\n",
       "   26: 3,\n",
       "   30: 3,\n",
       "   16: 4}),\n",
       " (26,\n",
       "  {26: 0,\n",
       "   33: 1,\n",
       "   29: 1,\n",
       "   32: 2,\n",
       "   8: 2,\n",
       "   9: 2,\n",
       "   13: 2,\n",
       "   14: 2,\n",
       "   15: 2,\n",
       "   18: 2,\n",
       "   19: 2,\n",
       "   20: 2,\n",
       "   22: 2,\n",
       "   23: 2,\n",
       "   27: 2,\n",
       "   28: 2,\n",
       "   30: 2,\n",
       "   31: 2,\n",
       "   0: 3,\n",
       "   1: 3,\n",
       "   2: 3,\n",
       "   3: 3,\n",
       "   24: 3,\n",
       "   25: 3,\n",
       "   4: 4,\n",
       "   5: 4,\n",
       "   6: 4,\n",
       "   7: 4,\n",
       "   10: 4,\n",
       "   11: 4,\n",
       "   12: 4,\n",
       "   17: 4,\n",
       "   21: 4,\n",
       "   16: 5}),\n",
       " (27,\n",
       "  {27: 0,\n",
       "   24: 1,\n",
       "   33: 1,\n",
       "   2: 1,\n",
       "   23: 1,\n",
       "   0: 2,\n",
       "   1: 2,\n",
       "   3: 2,\n",
       "   7: 2,\n",
       "   8: 2,\n",
       "   9: 2,\n",
       "   13: 2,\n",
       "   14: 2,\n",
       "   15: 2,\n",
       "   18: 2,\n",
       "   19: 2,\n",
       "   20: 2,\n",
       "   22: 2,\n",
       "   25: 2,\n",
       "   26: 2,\n",
       "   28: 2,\n",
       "   29: 2,\n",
       "   30: 2,\n",
       "   31: 2,\n",
       "   32: 2,\n",
       "   4: 3,\n",
       "   5: 3,\n",
       "   6: 3,\n",
       "   10: 3,\n",
       "   11: 3,\n",
       "   12: 3,\n",
       "   17: 3,\n",
       "   21: 3,\n",
       "   16: 4}),\n",
       " (28,\n",
       "  {28: 0,\n",
       "   33: 1,\n",
       "   2: 1,\n",
       "   31: 1,\n",
       "   0: 2,\n",
       "   1: 2,\n",
       "   3: 2,\n",
       "   7: 2,\n",
       "   8: 2,\n",
       "   9: 2,\n",
       "   13: 2,\n",
       "   14: 2,\n",
       "   15: 2,\n",
       "   18: 2,\n",
       "   19: 2,\n",
       "   20: 2,\n",
       "   22: 2,\n",
       "   23: 2,\n",
       "   24: 2,\n",
       "   25: 2,\n",
       "   26: 2,\n",
       "   27: 2,\n",
       "   29: 2,\n",
       "   30: 2,\n",
       "   32: 2,\n",
       "   4: 3,\n",
       "   5: 3,\n",
       "   6: 3,\n",
       "   10: 3,\n",
       "   11: 3,\n",
       "   12: 3,\n",
       "   17: 3,\n",
       "   21: 3,\n",
       "   16: 4}),\n",
       " (29,\n",
       "  {29: 0,\n",
       "   32: 1,\n",
       "   33: 1,\n",
       "   26: 1,\n",
       "   23: 1,\n",
       "   2: 2,\n",
       "   8: 2,\n",
       "   9: 2,\n",
       "   13: 2,\n",
       "   14: 2,\n",
       "   15: 2,\n",
       "   18: 2,\n",
       "   19: 2,\n",
       "   20: 2,\n",
       "   22: 2,\n",
       "   25: 2,\n",
       "   27: 2,\n",
       "   28: 2,\n",
       "   30: 2,\n",
       "   31: 2,\n",
       "   0: 3,\n",
       "   1: 3,\n",
       "   3: 3,\n",
       "   7: 3,\n",
       "   24: 3,\n",
       "   4: 4,\n",
       "   5: 4,\n",
       "   6: 4,\n",
       "   10: 4,\n",
       "   11: 4,\n",
       "   12: 4,\n",
       "   17: 4,\n",
       "   21: 4,\n",
       "   16: 5}),\n",
       " (30,\n",
       "  {30: 0,\n",
       "   8: 1,\n",
       "   1: 1,\n",
       "   32: 1,\n",
       "   33: 1,\n",
       "   0: 2,\n",
       "   2: 2,\n",
       "   3: 2,\n",
       "   7: 2,\n",
       "   9: 2,\n",
       "   13: 2,\n",
       "   14: 2,\n",
       "   15: 2,\n",
       "   17: 2,\n",
       "   18: 2,\n",
       "   19: 2,\n",
       "   20: 2,\n",
       "   21: 2,\n",
       "   22: 2,\n",
       "   23: 2,\n",
       "   26: 2,\n",
       "   27: 2,\n",
       "   28: 2,\n",
       "   29: 2,\n",
       "   31: 2,\n",
       "   4: 3,\n",
       "   5: 3,\n",
       "   6: 3,\n",
       "   10: 3,\n",
       "   11: 3,\n",
       "   12: 3,\n",
       "   24: 3,\n",
       "   25: 3,\n",
       "   16: 4}),\n",
       " (31,\n",
       "  {31: 0,\n",
       "   0: 1,\n",
       "   32: 1,\n",
       "   33: 1,\n",
       "   24: 1,\n",
       "   25: 1,\n",
       "   28: 1,\n",
       "   1: 2,\n",
       "   2: 2,\n",
       "   3: 2,\n",
       "   4: 2,\n",
       "   5: 2,\n",
       "   6: 2,\n",
       "   7: 2,\n",
       "   8: 2,\n",
       "   9: 2,\n",
       "   10: 2,\n",
       "   11: 2,\n",
       "   12: 2,\n",
       "   13: 2,\n",
       "   14: 2,\n",
       "   15: 2,\n",
       "   17: 2,\n",
       "   18: 2,\n",
       "   19: 2,\n",
       "   20: 2,\n",
       "   21: 2,\n",
       "   22: 2,\n",
       "   23: 2,\n",
       "   26: 2,\n",
       "   27: 2,\n",
       "   29: 2,\n",
       "   30: 2,\n",
       "   16: 3}),\n",
       " (32,\n",
       "  {32: 0,\n",
       "   33: 1,\n",
       "   2: 1,\n",
       "   8: 1,\n",
       "   14: 1,\n",
       "   15: 1,\n",
       "   18: 1,\n",
       "   20: 1,\n",
       "   22: 1,\n",
       "   23: 1,\n",
       "   29: 1,\n",
       "   30: 1,\n",
       "   31: 1,\n",
       "   0: 2,\n",
       "   1: 2,\n",
       "   3: 2,\n",
       "   7: 2,\n",
       "   9: 2,\n",
       "   13: 2,\n",
       "   19: 2,\n",
       "   24: 2,\n",
       "   25: 2,\n",
       "   26: 2,\n",
       "   27: 2,\n",
       "   28: 2,\n",
       "   4: 3,\n",
       "   5: 3,\n",
       "   6: 3,\n",
       "   10: 3,\n",
       "   11: 3,\n",
       "   12: 3,\n",
       "   17: 3,\n",
       "   21: 3,\n",
       "   16: 4}),\n",
       " (33,\n",
       "  {33: 0,\n",
       "   32: 1,\n",
       "   8: 1,\n",
       "   9: 1,\n",
       "   13: 1,\n",
       "   14: 1,\n",
       "   15: 1,\n",
       "   18: 1,\n",
       "   19: 1,\n",
       "   20: 1,\n",
       "   22: 1,\n",
       "   23: 1,\n",
       "   26: 1,\n",
       "   27: 1,\n",
       "   28: 1,\n",
       "   29: 1,\n",
       "   30: 1,\n",
       "   31: 1,\n",
       "   0: 2,\n",
       "   1: 2,\n",
       "   2: 2,\n",
       "   3: 2,\n",
       "   24: 2,\n",
       "   25: 2,\n",
       "   4: 3,\n",
       "   5: 3,\n",
       "   6: 3,\n",
       "   7: 3,\n",
       "   10: 3,\n",
       "   11: 3,\n",
       "   12: 3,\n",
       "   17: 3,\n",
       "   21: 3,\n",
       "   16: 4})]"
      ]
     },
     "execution_count": 69,
     "metadata": {},
     "output_type": "execute_result"
    }
   ],
   "source": [
    "list(nx.all_pairs_shortest_path_length(K))"
   ]
  },
  {
   "cell_type": "markdown",
   "metadata": {},
   "source": [
    "#### 5.1.2 Network Insights"
   ]
  },
  {
   "cell_type": "markdown",
   "metadata": {},
   "source": [
    "1. There two clusters/groups of people, probably two sections of classes. \n",
    "2. For section 1, `0` is the central node. For section 2, `33` is the central node based on the number of degrees they have. My theory is that both these people are the teachers or presidents for each section respectively.\n",
    "3. With an average degree of `2.3`, this tells us that there is a great chance that everyone knows each other in this club.  \n",
    "4. This network is a perfect example of detecting a community, even within a small group of people."
   ]
  },
  {
   "cell_type": "markdown",
   "metadata": {},
   "source": [
    "### 5.2 Davis Southern women social network\n",
    "\n",
    "Vladimir Batagelj and Andrej Mrvar (2006): Pajek datasets\n",
    "http://vlado.fmf.uni-lj.si/pub/networks/data/. \n",
    "\n",
    "**Description**\n",
    "\n",
    "This is a data set of 18 women observed over a nine-month period. During that period, various subsets of these women met in a series of 14 informal social events. The data recored which women met for which events."
   ]
  },
  {
   "cell_type": "code",
   "execution_count": 70,
   "metadata": {
    "ExecuteTime": {
     "end_time": "2021-03-07T16:20:13.085117Z",
     "start_time": "2021-03-07T16:20:13.081128Z"
    }
   },
   "outputs": [],
   "source": [
    "DS = nx.davis_southern_women_graph()"
   ]
  },
  {
   "cell_type": "code",
   "execution_count": 71,
   "metadata": {
    "ExecuteTime": {
     "end_time": "2021-03-07T16:20:13.261676Z",
     "start_time": "2021-03-07T16:20:13.086115Z"
    }
   },
   "outputs": [
    {
     "data": {
      "image/png": "[encoded data removed]",
      "text/plain": [
       "<Figure size 864x720 with 1 Axes>"
      ]
     },
     "metadata": {},
     "output_type": "display_data"
    }
   ],
   "source": [
    "pos = nx.fruchterman_reingold_layout(DS);\n",
    "\n",
    "plt.figure(figsize=(12,10));\n",
    "plt.axis(\"off\");\n",
    "nx.draw_networkx_nodes(DS, pos, node_size=300, node_color=\"lightblue\");\n",
    "nx.draw_networkx_edges(DS, pos, alpha=0.500);\n",
    "nx.draw_networkx_labels(DS, pos, font_color='black');\n",
    "plt.show();\n"
   ]
  },
  {
   "cell_type": "markdown",
   "metadata": {},
   "source": [
    "#### 5.2.1 Network Structure Properties"
   ]
  },
  {
   "cell_type": "code",
   "execution_count": 72,
   "metadata": {
    "ExecuteTime": {
     "end_time": "2021-03-07T16:20:13.271617Z",
     "start_time": "2021-03-07T16:20:13.262642Z"
    }
   },
   "outputs": [
    {
     "data": {
      "text/plain": [
       "{'Evelyn Jefferson': array([-0.14105277,  0.53458531]),\n",
       " 'Laura Mandeville': array([-0.06105465,  0.49269851]),\n",
       " 'Theresa Anderson': array([0.07239605, 0.43578072]),\n",
       " 'Brenda Rogers': array([0.04810278, 0.5949857 ]),\n",
       " 'Charlotte McDowd': array([0.45435148, 0.76998491]),\n",
       " 'Frances Anderson': array([0.44044388, 0.4508712 ]),\n",
       " 'Eleanor Nye': array([0.46856324, 0.25275467]),\n",
       " 'Pearl Oglethorpe': array([-0.36510157,  0.08093451]),\n",
       " 'Ruth DeSand': array([0.39043306, 0.0833514 ]),\n",
       " 'Verne Sanderson': array([ 0.28578249, -0.30183859]),\n",
       " 'Myra Liddel': array([ 0.29529225, -0.51914591]),\n",
       " 'Katherina Rogers': array([-0.09318334, -0.66399095]),\n",
       " 'Sylvia Avondale': array([ 0.03423665, -0.53210081]),\n",
       " 'Nora Fayette': array([-0.17004683, -0.47691247]),\n",
       " 'Helen Lloyd': array([-0.06924224, -0.39964602]),\n",
       " 'Dorothy Murchison': array([ 0.50574627, -0.24267759]),\n",
       " 'Olivia Carleton': array([-0.75868816, -0.24198963]),\n",
       " 'Flora Price': array([-0.77805637, -0.44258533]),\n",
       " 'E1': array([-0.38523112,  0.81695924]),\n",
       " 'E2': array([-0.20005252,  0.88961341]),\n",
       " 'E3': array([0.20170269, 0.78206044]),\n",
       " 'E4': array([0.11131798, 0.95046641]),\n",
       " 'E5': array([0.30709076, 0.55077435]),\n",
       " 'E6': array([-0.008409  ,  0.22275014]),\n",
       " 'E7': array([0.15832766, 0.09134655]),\n",
       " 'E8': array([ 0.1126677 , -0.00505653]),\n",
       " 'E9': array([-0.1142479 , -0.16020814]),\n",
       " 'E10': array([ 0.07205453, -0.82972336]),\n",
       " 'E11': array([-0.59782318, -0.56780472]),\n",
       " 'E12': array([ 0.20467444, -0.70184534]),\n",
       " 'E13': array([-0.31084346, -0.91439209]),\n",
       " 'E14': array([-0.11015082, -1.        ])}"
      ]
     },
     "execution_count": 72,
     "metadata": {},
     "output_type": "execute_result"
    }
   ],
   "source": [
    "pos"
   ]
  },
  {
   "cell_type": "code",
   "execution_count": 73,
   "metadata": {
    "ExecuteTime": {
     "end_time": "2021-03-07T16:20:13.277600Z",
     "start_time": "2021-03-07T16:20:13.272612Z"
    }
   },
   "outputs": [
    {
     "name": "stdout",
     "output_type": "stream",
     "text": [
      "Basic Properties\n",
      "Nodes:  32\n",
      "Edges:  89\n",
      "Average degree:  2.78125\n",
      "\n",
      "\n",
      "Sorted degrees of nodes\n",
      "[('E8', 14), ('E9', 12), ('E7', 10), ('Evelyn Jefferson', 8), ('Theresa Anderson', 8), ('Nora Fayette', 8), ('E5', 8), ('E6', 8), ('Laura Mandeville', 7), ('Brenda Rogers', 7), ('Sylvia Avondale', 7), ('Katherina Rogers', 6), ('E3', 6), ('E12', 6), ('Helen Lloyd', 5), ('E10', 5), ('Charlotte McDowd', 4), ('Frances Anderson', 4), ('Eleanor Nye', 4), ('Ruth DeSand', 4), ('Verne Sanderson', 4), ('Myra Liddel', 4), ('E4', 4), ('E11', 4), ('Pearl Oglethorpe', 3), ('E1', 3), ('E2', 3), ('E13', 3), ('E14', 3), ('Dorothy Murchison', 2), ('Olivia Carleton', 2), ('Flora Price', 2)]\n"
     ]
    }
   ],
   "source": [
    "net_prop(DS)"
   ]
  },
  {
   "cell_type": "code",
   "execution_count": 74,
   "metadata": {
    "ExecuteTime": {
     "end_time": "2021-03-07T16:20:13.285581Z",
     "start_time": "2021-03-07T16:20:13.278596Z"
    }
   },
   "outputs": [
    {
     "data": {
      "text/plain": [
       "2.306451612903226"
      ]
     },
     "execution_count": 74,
     "metadata": {},
     "output_type": "execute_result"
    }
   ],
   "source": [
    "nx.average_shortest_path_length(DS)"
   ]
  },
  {
   "cell_type": "markdown",
   "metadata": {},
   "source": [
    "#### 5.2.2 Network Insights"
   ]
  },
  {
   "cell_type": "markdown",
   "metadata": {},
   "source": [
    "1. Assuming that the 18 women in the experiment don't know each other, this network showed that they met each other or at least met someone who knows someone from the experimental group.\n",
    "2. Since this experiment is observed in through gathering of informal events, if each of these women would be in at least (less than or equal to) 3 distinct social groups.\n",
    "3. Unlike the previous network we analyzed, this network doesn't seem to have a central node, indicating that these women have interacted with each other inside a small community that doesn't seem to know each other in the first place.\n",
    "4. Woman `E8` has interacted and engaged the most number of women in the network."
   ]
  },
  {
   "cell_type": "markdown",
   "metadata": {},
   "source": [
    "### 5.3 Florentine families\n",
    "\n",
    "- Breiger R. and Pattison P. (1986). Cumulated social roles: The duality of persons and their algebras. Social Networks, 8, 215-256.\n",
    "- Padgett, John F. 1994. Marriage and Elite Structure in Renaissance Florence, 1282-1500. Paper delivered to the Social Science History Association. \n",
    "\n",
    "**Description** \n",
    "\n",
    "This is a data set of marriage and business ties among Renaissance Florentine families."
   ]
  },
  {
   "cell_type": "code",
   "execution_count": 75,
   "metadata": {
    "ExecuteTime": {
     "end_time": "2021-03-07T16:20:13.291563Z",
     "start_time": "2021-03-07T16:20:13.286575Z"
    }
   },
   "outputs": [],
   "source": [
    "florentine = nx.florentine_families_graph() "
   ]
  },
  {
   "cell_type": "code",
   "execution_count": 76,
   "metadata": {
    "ExecuteTime": {
     "end_time": "2021-03-07T16:20:13.434181Z",
     "start_time": "2021-03-07T16:20:13.292561Z"
    },
    "scrolled": false
   },
   "outputs": [
    {
     "data": {
      "image/png": "[encoded data removed]",
      "text/plain": [
       "<Figure size 864x720 with 1 Axes>"
      ]
     },
     "metadata": {},
     "output_type": "display_data"
    }
   ],
   "source": [
    "pos = nx.fruchterman_reingold_layout(florentine);\n",
    "\n",
    "plt.figure(figsize=(12,10));\n",
    "plt.axis(\"off\");\n",
    "nx.draw_networkx_nodes(florentine, pos, node_size=300, node_color=\"lightgreen\");\n",
    "nx.draw_networkx_edges(florentine, pos, alpha=0.500);\n",
    "nx.draw_networkx_labels(florentine, pos, font_color='black');\n",
    "plt.show();\n"
   ]
  },
  {
   "cell_type": "markdown",
   "metadata": {},
   "source": [
    "#### 5.3.1 Network Structure Properties"
   ]
  },
  {
   "cell_type": "code",
   "execution_count": 77,
   "metadata": {
    "ExecuteTime": {
     "end_time": "2021-03-07T16:20:13.441176Z",
     "start_time": "2021-03-07T16:20:13.435179Z"
    }
   },
   "outputs": [
    {
     "data": {
      "text/plain": [
       "{'Acciaiuoli': array([0.05322059, 0.63006156]),\n",
       " 'Medici': array([0.12096133, 0.28064131]),\n",
       " 'Castellani': array([ 0.13149911, -0.4895066 ]),\n",
       " 'Peruzzi': array([-0.1247515 , -0.68093605]),\n",
       " 'Strozzi': array([-0.12672498, -0.42458283]),\n",
       " 'Barbadori': array([ 0.28370971, -0.09971184]),\n",
       " 'Ridolfi': array([-0.10506006, -0.00664651]),\n",
       " 'Tornabuoni': array([-0.22680164,  0.17812599]),\n",
       " 'Albizzi': array([ 0.08367691, -0.05872407]),\n",
       " 'Salviati': array([0.3888723, 0.6884778]),\n",
       " 'Pazzi': array([0.56555812, 1.        ]),\n",
       " 'Bischeri': array([-0.36626144, -0.50640189]),\n",
       " 'Guadagni': array([-0.37663493, -0.1335186 ]),\n",
       " 'Ginori': array([ 0.4650168 , -0.24204314]),\n",
       " 'Lamberteschi': array([-0.76628034, -0.13523513])}"
      ]
     },
     "execution_count": 77,
     "metadata": {},
     "output_type": "execute_result"
    }
   ],
   "source": [
    "pos"
   ]
  },
  {
   "cell_type": "code",
   "execution_count": 78,
   "metadata": {
    "ExecuteTime": {
     "end_time": "2021-03-07T16:20:13.448144Z",
     "start_time": "2021-03-07T16:20:13.442159Z"
    }
   },
   "outputs": [
    {
     "name": "stdout",
     "output_type": "stream",
     "text": [
      "Basic Properties\n",
      "Nodes:  15\n",
      "Edges:  20\n",
      "Average degree:  1.3333333333333333\n",
      "\n",
      "\n",
      "Sorted degrees of nodes\n",
      "[('Medici', 6), ('Strozzi', 4), ('Guadagni', 4), ('Castellani', 3), ('Peruzzi', 3), ('Ridolfi', 3), ('Tornabuoni', 3), ('Albizzi', 3), ('Bischeri', 3), ('Barbadori', 2), ('Salviati', 2), ('Acciaiuoli', 1), ('Pazzi', 1), ('Ginori', 1), ('Lamberteschi', 1)]\n"
     ]
    }
   ],
   "source": [
    "net_prop(florentine)"
   ]
  },
  {
   "cell_type": "markdown",
   "metadata": {},
   "source": [
    "#### 5.3.2 Network Insights"
   ]
  },
  {
   "cell_type": "markdown",
   "metadata": {},
   "source": [
    "1. `Medici` Family seemed to be the most powerful and most influential. It has the most connections and most of Medici's connection have at least 1 or 2 families under it.\n",
    "2. There are no direct connections between `Guagdani` and `Medici`. Looking at the network, I could hypothesize that these two families are enemies, with `Guagdani` getting a hold of influential families like `Tornabuoni` and `Strozzi`. But `Medici` got a hold of more families that are linked to more families in the network, thus becoming a stronghold within this network."
   ]
  },
  {
   "cell_type": "markdown",
   "metadata": {},
   "source": [
    "### 5.4 MSDS 2020 Hangout Network\n",
    "The MSDS 2020 Hangout Network was generated in class on 06 February 2020. The instruction given to the students was:\n",
    "\n",
    "*\"Who among your classmates do you most frequently hangout with [not necessarily for classwork] (choose 3 to 8)? Alternatively, who are those you enjoy hanging out with the most?\"*\n",
    "\n",
    "The dataset is anonymized."
   ]
  },
  {
   "cell_type": "markdown",
   "metadata": {},
   "source": [
    "#### 5.4.1 Network Structure Properties"
   ]
  },
  {
   "cell_type": "code",
   "execution_count": 79,
   "metadata": {
    "ExecuteTime": {
     "end_time": "2021-03-07T16:20:13.455124Z",
     "start_time": "2021-03-07T16:20:13.449141Z"
    }
   },
   "outputs": [],
   "source": [
    "msds = nx.read_gpickle('class-map.pkl')\n",
    "G = nx.Graph(msds)"
   ]
  },
  {
   "cell_type": "code",
   "execution_count": 80,
   "metadata": {
    "ExecuteTime": {
     "end_time": "2021-03-07T16:20:13.767080Z",
     "start_time": "2021-03-07T16:20:13.456123Z"
    }
   },
   "outputs": [
    {
     "data": {
      "image/png": "[encoded data removed]",
      "text/plain": [
       "<Figure size 864x720 with 1 Axes>"
      ]
     },
     "metadata": {},
     "output_type": "display_data"
    }
   ],
   "source": [
    "pos = nx.fruchterman_reingold_layout(G);\n",
    "plt.figure(figsize=(12,10));\n",
    "plt.axis(\"off\");\n",
    "nx.draw_networkx_nodes(G, pos, node_size=300, node_color=\"violet\");\n",
    "nx.draw_networkx_edges(G, pos, alpha=0.500);\n",
    "nx.draw_networkx_labels(G, pos, font_color='black', font_size = 8);"
   ]
  },
  {
   "cell_type": "code",
   "execution_count": 81,
   "metadata": {
    "ExecuteTime": {
     "end_time": "2021-03-07T16:20:13.774061Z",
     "start_time": "2021-03-07T16:20:13.768077Z"
    }
   },
   "outputs": [
    {
     "name": "stdout",
     "output_type": "stream",
     "text": [
      "Basic Properties\n",
      "Nodes:  59\n",
      "Edges:  285\n",
      "Average degree:  4.830508474576271\n",
      "\n",
      "\n",
      "Sorted degrees of nodes\n",
      "[('choices', 19), ('horsepower', 16), ('airplanes', 16), ('source', 14), ('pot', 14), ('limp', 13), ('turnaround', 13), ('disassemblies', 13), ('fastener', 12), ('bag', 12), ('mechanisms', 12), ('families', 12), ('methodology', 11), ('extenuations', 11), ('aprons', 11), ('function', 11), ('mode', 11), ('gates', 11), ('sound', 11), ('nomenclatures', 11), ('moves', 10), ('quota', 10), ('top', 10), ('layer', 10), ('fruits', 10), ('carpet', 10), ('passes', 10), ('generators', 9), ('stretcher', 9), ('clangs', 9), ('instruction', 9), ('buildings', 9), ('bundles', 9), ('cares', 9), ('person', 9), ('staple', 9), ('utilizations', 9), ('tax', 9), ('subjects', 9), ('slaves', 8), ('bush', 8), ('click', 8), ('shadow', 8), ('elapses', 8), ('attacker', 8), ('customs', 8), ('motel', 8), ('rebounds', 7), ('yields', 7), ('recommendations', 7), ('operabilities', 7), ('loaf', 6), ('wholesale', 6), ('basement', 6), ('gram', 6), ('visitor', 6), ('violet', 6), ('sister', 5), ('radiators', 5)]\n"
     ]
    }
   ],
   "source": [
    "net_prop(G)"
   ]
  },
  {
   "cell_type": "markdown",
   "metadata": {},
   "source": [
    "#### 5.3.2 Network Insights"
   ]
  },
  {
   "cell_type": "code",
   "execution_count": 82,
   "metadata": {
    "ExecuteTime": {
     "end_time": "2021-03-07T16:20:14.200267Z",
     "start_time": "2021-03-07T16:20:13.775059Z"
    }
   },
   "outputs": [],
   "source": [
    "import pandas as pd\n",
    "import seaborn as sns"
   ]
  },
  {
   "cell_type": "code",
   "execution_count": 83,
   "metadata": {
    "ExecuteTime": {
     "end_time": "2021-03-07T16:20:14.217151Z",
     "start_time": "2021-03-07T16:20:14.201225Z"
    }
   },
   "outputs": [],
   "source": [
    "deg = nx.degree_centrality(G)\n",
    "bet = nx.betweenness_centrality(G)"
   ]
  },
  {
   "cell_type": "code",
   "execution_count": 84,
   "metadata": {
    "ExecuteTime": {
     "end_time": "2021-03-07T16:20:14.223167Z",
     "start_time": "2021-03-07T16:20:14.218148Z"
    }
   },
   "outputs": [],
   "source": [
    "degrees = [k for node, k in nx.degree(G)]"
   ]
  },
  {
   "cell_type": "code",
   "execution_count": 85,
   "metadata": {
    "ExecuteTime": {
     "end_time": "2021-03-07T16:20:14.241118Z",
     "start_time": "2021-03-07T16:20:14.224130Z"
    }
   },
   "outputs": [],
   "source": [
    "df = pd.DataFrame.from_dict([deg, bet]).T\n",
    "df.columns = ['Degree Centrality', 'Betweenes Centrality']\n",
    "# df['Connections'] = degrees "
   ]
  },
  {
   "cell_type": "code",
   "execution_count": 86,
   "metadata": {
    "ExecuteTime": {
     "end_time": "2021-03-07T16:20:14.265057Z",
     "start_time": "2021-03-07T16:20:14.242082Z"
    }
   },
   "outputs": [],
   "source": [
    "for col in df.columns:\n",
    "    df[col] = df[col] / max(df[col])"
   ]
  },
  {
   "cell_type": "code",
   "execution_count": 87,
   "metadata": {
    "ExecuteTime": {
     "end_time": "2021-03-07T16:20:14.269011Z",
     "start_time": "2021-03-07T16:20:14.266050Z"
    }
   },
   "outputs": [],
   "source": [
    "top_df = df"
   ]
  },
  {
   "cell_type": "code",
   "execution_count": 88,
   "metadata": {
    "ExecuteTime": {
     "end_time": "2021-03-07T16:20:14.280980Z",
     "start_time": "2021-03-07T16:20:14.270008Z"
    }
   },
   "outputs": [],
   "source": [
    "top_df = top_df.sort_values(\"Degree Centrality\", ascending=False)[:10]\n",
    "top_df = pd.DataFrame(top_df.stack())\n",
    "top_df = top_df.reset_index()\n",
    "top_df.columns = [\"Name\", \"Parameter\", \"Value\"]"
   ]
  },
  {
   "cell_type": "code",
   "execution_count": 89,
   "metadata": {
    "ExecuteTime": {
     "end_time": "2021-03-07T16:20:14.564414Z",
     "start_time": "2021-03-07T16:20:14.282975Z"
    }
   },
   "outputs": [
    {
     "data": {
      "image/png": "[encoded data removed]",
      "text/plain": [
       "<Figure size 576x432 with 1 Axes>"
      ]
     },
     "metadata": {
      "needs_background": "light"
     },
     "output_type": "display_data"
    }
   ],
   "source": [
    "fig, ax = plt.subplots(figsize=(8, 6))\n",
    "\n",
    "sns.barplot(x=\"Value\", y=\"Name\", data=top_df, hue=\"Parameter\", palette=\"magma\")\n",
    "\n",
    "plt.title(\"Top Students based on Centrality, normalized parameters\")\n",
    "plt.show()"
   ]
  },
  {
   "cell_type": "markdown",
   "metadata": {},
   "source": [
    "1. `Choices` has the highest degree of centrality. This could be an indication that he/she has high influence in the class. Could be the most friendly or the class president. \n",
    "2. The top 10 students with high centrality also are the top 10 in terms of degree connections.\n",
    "3. Average degree is at around `5`. This maybe attributed to the existence of the learning team groupings with at least 4 to 6 members."
   ]
  }
 ],
 "metadata": {
  "kernelspec": {
   "display_name": "Python 3",
   "language": "python",
   "name": "python3"
  },
  "language_info": {
   "codemirror_mode": {
    "name": "ipython",
    "version": 3
   },
   "file_extension": ".py",
   "mimetype": "text/x-python",
   "name": "python",
   "nbconvert_exporter": "python",
   "pygments_lexer": "ipython3",
   "version": "3.7.3"
  }
 },
 "nbformat": 4,
 "nbformat_minor": 4
}
