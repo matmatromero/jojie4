{
 "cells": [
  {
   "cell_type": "markdown",
   "id": "9bc7da71",
   "metadata": {},
   "source": [
    "## Comparison Expressions"
   ]
  },
  {
   "cell_type": "code",
   "execution_count": 2,
   "id": "5c169b00",
   "metadata": {
    "ExecuteTime": {
     "end_time": "2021-09-11T01:18:00.294995Z",
     "start_time": "2021-09-11T01:18:00.287221Z"
    }
   },
   "outputs": [
    {
     "data": {
      "text/plain": [
       "True"
      ]
     },
     "execution_count": 2,
     "metadata": {},
     "output_type": "execute_result"
    }
   ],
   "source": [
    "# Less Than\n",
    "3 < 10"
   ]
  },
  {
   "cell_type": "code",
   "execution_count": 4,
   "id": "4dc881d1",
   "metadata": {
    "ExecuteTime": {
     "end_time": "2021-09-11T01:18:43.845845Z",
     "start_time": "2021-09-11T01:18:43.837951Z"
    }
   },
   "outputs": [
    {
     "data": {
      "text/plain": [
       "False"
      ]
     },
     "execution_count": 4,
     "metadata": {},
     "output_type": "execute_result"
    }
   ],
   "source": [
    "# Greater Than\n",
    "3 > 10"
   ]
  },
  {
   "cell_type": "code",
   "execution_count": 8,
   "id": "b38116f8",
   "metadata": {
    "ExecuteTime": {
     "end_time": "2021-09-11T01:20:06.410620Z",
     "start_time": "2021-09-11T01:20:06.402422Z"
    }
   },
   "outputs": [
    {
     "data": {
      "text/plain": [
       "False"
      ]
     },
     "execution_count": 8,
     "metadata": {},
     "output_type": "execute_result"
    }
   ],
   "source": [
    "#Less than OR Equal to\n",
    "#At least less than 10\n",
    "10 <= 9"
   ]
  },
  {
   "cell_type": "code",
   "execution_count": 9,
   "id": "a7cd08a2",
   "metadata": {
    "ExecuteTime": {
     "end_time": "2021-09-11T01:20:35.661610Z",
     "start_time": "2021-09-11T01:20:35.653907Z"
    }
   },
   "outputs": [
    {
     "data": {
      "text/plain": [
       "True"
      ]
     },
     "execution_count": 9,
     "metadata": {},
     "output_type": "execute_result"
    }
   ],
   "source": [
    "#Greater than OR Equal to\n",
    "#The input should be at least 5\n",
    "input >= 5"
   ]
  },
  {
   "cell_type": "code",
   "execution_count": 12,
   "id": "48e2476d",
   "metadata": {
    "ExecuteTime": {
     "end_time": "2021-09-11T01:23:00.657579Z",
     "start_time": "2021-09-11T01:23:00.651544Z"
    }
   },
   "outputs": [
    {
     "ename": "SyntaxError",
     "evalue": "cannot assign to literal (<ipython-input-12-c2a0ca516f73>, line 2)",
     "output_type": "error",
     "traceback": [
      "\u001b[0;36m  File \u001b[0;32m\"<ipython-input-12-c2a0ca516f73>\"\u001b[0;36m, line \u001b[0;32m2\u001b[0m\n\u001b[0;31m    5 = 5\u001b[0m\n\u001b[0m    ^\u001b[0m\n\u001b[0;31mSyntaxError\u001b[0m\u001b[0;31m:\u001b[0m cannot assign to literal\n"
     ]
    }
   ],
   "source": [
    "#Equal to\n",
    "x == 6"
   ]
  },
  {
   "cell_type": "code",
   "execution_count": 13,
   "id": "2fc2b69e",
   "metadata": {
    "ExecuteTime": {
     "end_time": "2021-09-11T01:24:45.340487Z",
     "start_time": "2021-09-11T01:24:45.332452Z"
    }
   },
   "outputs": [
    {
     "data": {
      "text/plain": [
       "False"
      ]
     },
     "execution_count": 13,
     "metadata": {},
     "output_type": "execute_result"
    }
   ],
   "source": [
    "#Not Equal\n",
    "5 != 5"
   ]
  },
  {
   "cell_type": "code",
   "execution_count": 14,
   "id": "7b0c5907",
   "metadata": {
    "ExecuteTime": {
     "end_time": "2021-09-11T01:33:36.566629Z",
     "start_time": "2021-09-11T01:33:27.888676Z"
    }
   },
   "outputs": [
    {
     "name": "stdout",
     "output_type": "stream",
     "text": [
      "75\n",
      "FAIL\n"
     ]
    }
   ],
   "source": [
    "score = float(input())\n",
    "if score > 75:\n",
    "    print(\"PASS\")\n",
    "else:\n",
    "    print(\"FAIL\")"
   ]
  },
  {
   "cell_type": "code",
   "execution_count": 15,
   "id": "72bc614b",
   "metadata": {
    "ExecuteTime": {
     "end_time": "2021-09-11T01:35:08.904660Z",
     "start_time": "2021-09-11T01:35:08.900623Z"
    }
   },
   "outputs": [],
   "source": [
    "#if it is greater than 75, Pass\n",
    "#less than 75 fail\n",
    "#anything lower than 60 \"you will repeat :(\""
   ]
  },
  {
   "cell_type": "code",
   "execution_count": null,
   "id": "606b9677",
   "metadata": {},
   "outputs": [],
   "source": [
    "grade > 75\n",
    "grade < 75\n",
    "grade < 60"
   ]
  },
  {
   "cell_type": "code",
   "execution_count": 21,
   "id": "75640a26",
   "metadata": {
    "ExecuteTime": {
     "end_time": "2021-09-11T01:44:22.524175Z",
     "start_time": "2021-09-11T01:44:17.477339Z"
    }
   },
   "outputs": [
    {
     "name": "stdout",
     "output_type": "stream",
     "text": [
      "70\n",
      "FAIL\n"
     ]
    }
   ],
   "source": [
    "score = float(input())\n",
    "\n",
    "if score > 75:\n",
    "    print('PASS')\n",
    "    \n",
    "elif score < 60:\n",
    "    print('oh no you will repeat')\n",
    "elif score < 75:\n",
    "    print('FAIL')\n",
    "\n",
    "else:\n",
    "    print('Invalid score')"
   ]
  },
  {
   "cell_type": "code",
   "execution_count": 24,
   "id": "f609b643",
   "metadata": {
    "ExecuteTime": {
     "end_time": "2021-09-11T01:55:27.669305Z",
     "start_time": "2021-09-11T01:55:23.709902Z"
    }
   },
   "outputs": [
    {
     "name": "stdout",
     "output_type": "stream",
     "text": [
      "Enter number of coffee you drink in a day:1\n",
      "NORMAL\n"
     ]
    }
   ],
   "source": [
    "coffee = int(input('Enter number of coffee you drink in a day:'))\n",
    "\n",
    "if coffee > 5:\n",
    "    print('COFFEE ADDICT')\n",
    "elif coffee >= 2:\n",
    "    print('COFFEE ENTHUSIAST')\n",
    "else:\n",
    "    print('NORMAL')"
   ]
  },
  {
   "cell_type": "code",
   "execution_count": 26,
   "id": "e037ae5e",
   "metadata": {
    "ExecuteTime": {
     "end_time": "2021-09-11T02:01:36.050413Z",
     "start_time": "2021-09-11T02:01:33.816737Z"
    }
   },
   "outputs": [
    {
     "name": "stdout",
     "output_type": "stream",
     "text": [
      "Enter Grade:101\n",
      "INVALID\n"
     ]
    }
   ],
   "source": [
    "grade = int(input('Enter Grade:'))\n",
    "\n",
    "if grade > 100:\n",
    "    print('INVALID')\n",
    "elif grade == 100:\n",
    "    print('A+')\n",
    "elif grade >= 90:\n",
    "    print('A')\n",
    "elif grade >= 85:\n",
    "    print('B+')\n",
    "elif grade >= 80:\n",
    "    print('B')\n",
    "elif grade >= 75:\n",
    "    print('C')\n",
    "else:\n",
    "    print('FAIL')"
   ]
  },
  {
   "cell_type": "code",
   "execution_count": null,
   "id": "dd0f6178",
   "metadata": {},
   "outputs": [],
   "source": [
    "height = 'tall'\n",
    "looks = 'Namjoon'\n",
    "\n",
    "# I will only let you be my boyfriend if you are tall and you look like \n",
    "# namjoon!\n",
    "\n",
    "if height == 'tall' and looks=='Jhope':\n",
    "    print('I love you!')\n",
    "    \n",
    "else:\n",
    "    print('Try again next time')"
   ]
  }
 ],
 "metadata": {
  "kernelspec": {
   "display_name": "Python 3",
   "language": "python",
   "name": "python3"
  },
  "language_info": {
   "codemirror_mode": {
    "name": "ipython",
    "version": 3
   },
   "file_extension": ".py",
   "mimetype": "text/x-python",
   "name": "python",
   "nbconvert_exporter": "python",
   "pygments_lexer": "ipython3",
   "version": "3.8.8"
  }
 },
 "nbformat": 4,
 "nbformat_minor": 5
}
