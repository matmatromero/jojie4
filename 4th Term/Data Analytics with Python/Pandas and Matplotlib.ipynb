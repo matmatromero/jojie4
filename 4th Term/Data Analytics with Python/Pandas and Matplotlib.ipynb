{
 "cells": [
  {
   "cell_type": "markdown",
   "metadata": {},
   "source": [
    "# Pandas \n",
    "Pandas is a library for python that allows the analyst to `get to know` the data they are working on. The library name itself is short for `Python Analysis-Data` or if properly referenced `Python Data Analysis Library`. Pandas is also made on top of `Numpy`. Some `Numpy` operations are incorporated in Pandas, which you will see later on.\n",
    "\n",
    "Datasets come in many different forms. The most common are:\n",
    "1. .csv files\n",
    "2. .xlsx files\n",
    "3. .txt files\n",
    "\n",
    "Lesser common are:\n",
    "1. .tsv files\n",
    "2. .zip files\n",
    "\n",
    "These two files are compressed files. Pandas can decompress these and access the data inside it. "
   ]
  },
  {
   "cell_type": "markdown",
   "metadata": {},
   "source": [
    "## Essential Pandas Functions\n",
    "Understanding your data is essential. Thus, Pandas has several functions for digging and discovering insights on data on a very high level. Afterwards, you should know how to select specific data points and filter the dataset in question. Thus, this notebook will guide you through the following:\n",
    "\n",
    "1. Getting to know your data\n",
    "2. Filtering Data\n",
    "3. Sorting Data\n",
    "4. Basic Statistics"
   ]
  },
  {
   "cell_type": "code",
   "execution_count": 1,
   "metadata": {
    "ExecuteTime": {
     "end_time": "2021-10-01T14:40:24.112092Z",
     "start_time": "2021-10-01T14:40:23.057065Z"
    }
   },
   "outputs": [],
   "source": [
    "import numpy as np\n",
    "import pandas as pd"
   ]
  },
  {
   "cell_type": "markdown",
   "metadata": {},
   "source": [
    "## 1. Getting to Know Your Data"
   ]
  },
  {
   "cell_type": "markdown",
   "metadata": {},
   "source": [
    "Kindly download the dataset located in this link: https://www.kaggle.com/openfoodfacts/world-food-facts/data. Put in the same folder as this notebook."
   ]
  },
  {
   "cell_type": "markdown",
   "metadata": {},
   "source": [
    "### Task 1\n",
    "As you can see, the file is in the `.tsv` format. Though different, this still can be loaded via `pd.read_csv` command. Note though that read_csv might not work on other file formats. Be careful! For more information on the `pd.read_csv` function, check out: https://pandas.pydata.org/pandas-docs/stable/reference/api/pandas.read_csv.html"
   ]
  },
  {
   "cell_type": "code",
   "execution_count": null,
   "metadata": {
    "ExecuteTime": {
     "end_time": "2021-10-01T14:57:16.831775Z",
     "start_time": "2021-10-01T14:57:16.827101Z"
    }
   },
   "outputs": [],
   "source": [
    "# Load the .tsv file with the `sep` paramater.\n"
   ]
  },
  {
   "cell_type": "markdown",
   "metadata": {},
   "source": [
    "### Task 2\n",
    "Often times, datasets will be much larger than you expect, and running them might stress your computer system. To get some sort of a sneak peak of your data, you may run the `.head()` function. This outputs the first 5 data entries."
   ]
  },
  {
   "cell_type": "code",
   "execution_count": null,
   "metadata": {
    "ExecuteTime": {
     "end_time": "2021-10-01T14:57:18.361854Z",
     "start_time": "2021-10-01T14:57:18.357359Z"
    }
   },
   "outputs": [],
   "source": [
    "# See the first 5 entries of the dataset.\n"
   ]
  },
  {
   "cell_type": "markdown",
   "metadata": {},
   "source": [
    "### Task 3\n",
    "How will you know the number of rows and columns of your dataset? As a data science lingo, `checking the number of observations` means counting how many rows/data points your dataset has.\n",
    "\n",
    "So back to the question: how to know the number of rows and columns? You do this via the `.shape` function.\n"
   ]
  },
  {
   "cell_type": "code",
   "execution_count": null,
   "metadata": {
    "ExecuteTime": {
     "end_time": "2021-10-01T14:57:19.844714Z",
     "start_time": "2021-10-01T14:57:19.840524Z"
    }
   },
   "outputs": [],
   "source": [
    "# Check the shape of your dataset.\n"
   ]
  },
  {
   "cell_type": "markdown",
   "metadata": {},
   "source": [
    "How many observations does your data set have? How about columns?"
   ]
  },
  {
   "cell_type": "markdown",
   "metadata": {},
   "source": [
    "### Task 4\n",
    "What are these columns? To check the names of these columns, simply run the `.columns` command."
   ]
  },
  {
   "cell_type": "code",
   "execution_count": null,
   "metadata": {
    "ExecuteTime": {
     "end_time": "2021-10-01T15:00:41.476618Z",
     "start_time": "2021-10-01T15:00:41.472315Z"
    }
   },
   "outputs": [],
   "source": [
    "# Print the name of the columns of the dataset.\n"
   ]
  },
  {
   "cell_type": "code",
   "execution_count": null,
   "metadata": {},
   "outputs": [],
   "source": [
    "# Selecting specific columns using iloc\n"
   ]
  },
  {
   "cell_type": "markdown",
   "metadata": {},
   "source": [
    "To check the name of a specific column index, this can be achieved the same way lists are indexed. Same method is used to get a specific data point."
   ]
  },
  {
   "cell_type": "code",
   "execution_count": null,
   "metadata": {
    "ExecuteTime": {
     "end_time": "2021-10-01T15:04:39.098957Z",
     "start_time": "2021-10-01T15:04:39.094869Z"
    }
   },
   "outputs": [],
   "source": [
    "# What is the name of the 160th column\n"
   ]
  },
  {
   "cell_type": "code",
   "execution_count": null,
   "metadata": {
    "ExecuteTime": {
     "end_time": "2021-10-01T15:07:21.570043Z",
     "start_time": "2021-10-01T15:07:21.565529Z"
    }
   },
   "outputs": [],
   "source": [
    "# What is the product name of the 35th observation?\n"
   ]
  },
  {
   "cell_type": "markdown",
   "metadata": {},
   "source": [
    "## 2. Filter and Sorting Data\n",
    "For this part, we will be pulling the dataset from this url: 'https://raw.githubusercontent.com/justmarkham/DAT8/master/data/chipotle.tsv'"
   ]
  },
  {
   "cell_type": "markdown",
   "metadata": {},
   "source": [
    "### Task 1"
   ]
  },
  {
   "cell_type": "code",
   "execution_count": null,
   "metadata": {
    "ExecuteTime": {
     "end_time": "2021-10-01T15:23:46.358037Z",
     "start_time": "2021-10-01T15:23:46.353845Z"
    }
   },
   "outputs": [],
   "source": [
    "# Import the dataset from the link above. Hint: use pd.read_csv\n"
   ]
  },
  {
   "cell_type": "markdown",
   "metadata": {
    "ExecuteTime": {
     "end_time": "2021-10-01T15:11:53.238701Z",
     "start_time": "2021-10-01T15:11:53.213517Z"
    }
   },
   "source": [
    "### Task 2\n",
    "This data seems to be not in its optimal shape. For one, some columns cannot be used for analysis. Specifically the `item_price` column. There is a `$` sign at the beginning of each number. In data science, all numbered data should be read as numbers. In this case, if it has these unnecessary characters, we need to find a way to remove it. "
   ]
  },
  {
   "cell_type": "code",
   "execution_count": null,
   "metadata": {
    "ExecuteTime": {
     "end_time": "2021-10-01T15:17:14.547724Z",
     "start_time": "2021-10-01T15:17:14.543502Z"
    }
   },
   "outputs": [],
   "source": [
    "# Clean the `item_price` column\n"
   ]
  },
  {
   "cell_type": "markdown",
   "metadata": {},
   "source": [
    "Duplicates often cannot be avoided. This is often the result of human-error, or in the collection algorithms used to make the dataset. Either way, duplicates should be deleted."
   ]
  },
  {
   "cell_type": "code",
   "execution_count": null,
   "metadata": {
    "ExecuteTime": {
     "end_time": "2021-10-01T15:21:00.213803Z",
     "start_time": "2021-10-01T15:21:00.209885Z"
    }
   },
   "outputs": [],
   "source": [
    "# Delete the duplicates.\n",
    "\n"
   ]
  },
  {
   "cell_type": "markdown",
   "metadata": {},
   "source": [
    "### Task 3\n",
    "Sorting the data is an easy function with pandas using the `.sort_values()` function."
   ]
  },
  {
   "cell_type": "code",
   "execution_count": null,
   "metadata": {
    "ExecuteTime": {
     "end_time": "2021-10-01T15:26:30.505142Z",
     "start_time": "2021-10-01T15:26:30.500541Z"
    }
   },
   "outputs": [],
   "source": [
    "# Sort values from the most expensive to the less expensive\n"
   ]
  },
  {
   "cell_type": "markdown",
   "metadata": {},
   "source": [
    "You think you can use this function with the `item_name` column?"
   ]
  },
  {
   "cell_type": "markdown",
   "metadata": {},
   "source": [
    "### Task 4\n",
    "Filtering is one of the essentials skills you need to harness when using Pandas. You will be using skills you have learned from basic python."
   ]
  },
  {
   "cell_type": "code",
   "execution_count": null,
   "metadata": {
    "ExecuteTime": {
     "end_time": "2021-10-01T15:29:07.182841Z",
     "start_time": "2021-10-01T15:29:07.178088Z"
    }
   },
   "outputs": [],
   "source": [
    "# Select only products with 1 quantity.\n"
   ]
  },
  {
   "cell_type": "code",
   "execution_count": null,
   "metadata": {},
   "outputs": [],
   "source": [
    "# Select all Chicken Bowls\n"
   ]
  },
  {
   "cell_type": "code",
   "execution_count": null,
   "metadata": {
    "ExecuteTime": {
     "end_time": "2021-10-01T15:27:39.525638Z",
     "start_time": "2021-10-01T15:27:39.520722Z"
    }
   },
   "outputs": [],
   "source": [
    "# How many times was a veggie salad bowl ordered?\n"
   ]
  },
  {
   "cell_type": "code",
   "execution_count": null,
   "metadata": {},
   "outputs": [],
   "source": [
    "# How customers ordered more than one Canned Soda."
   ]
  },
  {
   "cell_type": "markdown",
   "metadata": {},
   "source": [
    "## 3. Basic Statistics \n",
    "Data analysis won't be complete without numerical analysis, as this is the core of data science. Some `pandas` data analysis functions use `numpy`"
   ]
  },
  {
   "cell_type": "markdown",
   "metadata": {},
   "source": [
    "### Task 1 \n",
    "Load the baby names dataset from the url https://raw.githubusercontent.com/guipsamora/pandas_exercises/master/06_Stats/US_Baby_Names/US_Baby_Names_right.csv"
   ]
  },
  {
   "cell_type": "code",
   "execution_count": null,
   "metadata": {
    "ExecuteTime": {
     "end_time": "2021-10-01T15:38:34.905243Z",
     "start_time": "2021-10-01T15:38:34.900842Z"
    }
   },
   "outputs": [],
   "source": [
    "# Load the csv from the url.\n"
   ]
  },
  {
   "cell_type": "code",
   "execution_count": null,
   "metadata": {
    "ExecuteTime": {
     "end_time": "2021-10-01T15:38:51.841502Z",
     "start_time": "2021-10-01T15:38:51.836873Z"
    }
   },
   "outputs": [],
   "source": [
    "# See the first 10 entries.\n"
   ]
  },
  {
   "cell_type": "code",
   "execution_count": null,
   "metadata": {
    "ExecuteTime": {
     "end_time": "2021-10-01T15:39:25.420838Z",
     "start_time": "2021-10-01T15:39:25.416658Z"
    }
   },
   "outputs": [],
   "source": [
    "# Delete the column `Unnamed: 0` and `Id` columns\n"
   ]
  },
  {
   "cell_type": "markdown",
   "metadata": {},
   "source": [
    "### Task 2\n",
    "Checking the values of specific datapoints can be done easily using `.value_counts()` function. As in the name of the function, it counts the values of the features you specify. Before you run this though, you have to select the column."
   ]
  },
  {
   "cell_type": "code",
   "execution_count": null,
   "metadata": {
    "ExecuteTime": {
     "end_time": "2021-10-01T15:41:21.438155Z",
     "start_time": "2021-10-01T15:41:21.434040Z"
    }
   },
   "outputs": [],
   "source": [
    "# How many male and female names are in the dataset?\n"
   ]
  },
  {
   "cell_type": "markdown",
   "metadata": {},
   "source": [
    "### Task 3\n",
    "`groupby` is a very common function in pandas. It allows you to group similarly data points and aggregate it based on a function of your choosing."
   ]
  },
  {
   "cell_type": "code",
   "execution_count": null,
   "metadata": {
    "ExecuteTime": {
     "end_time": "2021-10-01T15:47:42.960014Z",
     "start_time": "2021-10-01T15:47:42.955842Z"
    }
   },
   "outputs": [],
   "source": [
    "# Get the count of each names.\n"
   ]
  },
  {
   "cell_type": "markdown",
   "metadata": {},
   "source": [
    "### Task 4"
   ]
  },
  {
   "cell_type": "code",
   "execution_count": null,
   "metadata": {
    "ExecuteTime": {
     "end_time": "2021-10-01T15:48:59.077911Z",
     "start_time": "2021-10-01T15:48:59.073725Z"
    }
   },
   "outputs": [],
   "source": [
    "# What is the name of the most occurrences?\n"
   ]
  },
  {
   "cell_type": "markdown",
   "metadata": {},
   "source": [
    "### Task 5"
   ]
  },
  {
   "cell_type": "code",
   "execution_count": null,
   "metadata": {
    "ExecuteTime": {
     "end_time": "2021-10-01T15:50:02.627050Z",
     "start_time": "2021-10-01T15:50:02.622764Z"
    }
   },
   "outputs": [],
   "source": [
    "# What are the average count of the names?\n"
   ]
  },
  {
   "cell_type": "markdown",
   "metadata": {},
   "source": [
    "### Task 6"
   ]
  },
  {
   "cell_type": "code",
   "execution_count": null,
   "metadata": {
    "ExecuteTime": {
     "end_time": "2021-10-01T15:51:08.998939Z",
     "start_time": "2021-10-01T15:51:08.994731Z"
    }
   },
   "outputs": [],
   "source": [
    "# Print all summary statistics.\n"
   ]
  },
  {
   "cell_type": "markdown",
   "metadata": {},
   "source": [
    "# Matplotlib\n",
    "COPYRIGHT: AIM MSDS 2021\n",
    "\n",
    "## What is Matplotlib?\n",
    "\n",
    "Matplotlib is a plotting library that is used with Python. There are different libraries in Python and Matplotlib is just one of the most amazing llibrary for plotting! This si going to be your best friend. So, let's get started!"
   ]
  },
  {
   "cell_type": "markdown",
   "metadata": {},
   "source": [
    "## General Concepts about Matplotlib\n",
    "\n",
    "A matplotlib figure is subdivided into different parts. \n",
    "\n",
    "(1) **FIGURE** A figure is referred to as the whole figure which can contain multiple plots (aka charts)\n",
    "\n",
    "(2) **AXES** A figure can contain many axes. Think of axes as like a plot. Each axes has a title, an x-label, and a y-label\n",
    "\n",
    "(3) **AXIS** Do not confuse AXES with AXIS. Axis are your X and Y axis (for 2D Plots)\n",
    "\n",
    "(4) **ARTIST** Everything that you see on the figure which includes text, line2D, etc. \n",
    "\n",
    "Here is an anatomy of a figure taken from: [This is the link.](https://matplotlib.org/tutorials/introductory/usage.html#sphx-glr-tutorials-introductory-usage-py)\n",
    "\n",
    "![alt text](https://matplotlib.org/_images/anatomy.png)"
   ]
  },
  {
   "cell_type": "markdown",
   "metadata": {},
   "source": [
    "## Let's Get Started with a Simple Plot\n",
    "\n",
    "\n",
    "**PYPLOT** is a module in Matplotlib that provides simple functions to add plot elements inclluding lines, text, images in the figure. So now, let's import the library. \n",
    "\n",
    "Note: You may wonder what is **%matplotlib inline**?\n"
   ]
  },
  {
   "cell_type": "code",
   "execution_count": null,
   "metadata": {},
   "outputs": [],
   "source": [
    "import matplotlib.pyplot as plt\n",
    "import pandas as pd\n",
    "%matplotlib inline "
   ]
  },
  {
   "cell_type": "code",
   "execution_count": null,
   "metadata": {},
   "outputs": [],
   "source": [
    "# Let's start with a basic plot\n",
    "\n",
    "x = [0, 1, 2, 3, 4, 5]\n",
    "y = [0 ,10, 20, 30, 40, 50]\n",
    "\n",
    "#We use plot() method and show() method to createthhe required plot\n",
    "plt.plot(x, y) \n",
    "plt.show()"
   ]
  },
  {
   "cell_type": "markdown",
   "metadata": {},
   "source": [
    "We use **title( )**, **xlabel( )**, and **ylabel( )** to add a title, name in the x-axis, and in the y-axis."
   ]
  },
  {
   "cell_type": "code",
   "execution_count": null,
   "metadata": {},
   "outputs": [],
   "source": [
    "plt.plot([0, 1, 2, 3, 4, 5], [0, 10, 20, 30, 40, 50])\n",
    "plt.title('First Plot', fontsize=14)\n",
    "plt.xlabel('X Label', fontsize=12)\n",
    "plt.ylabel('Y Label', fontsize=12)\n",
    "plt.show()"
   ]
  },
  {
   "cell_type": "markdown",
   "metadata": {},
   "source": [
    "We can also specify the size of the figure usingg the method **figure ( )** and passing the value of row and column size as a type to the argument **figsize**."
   ]
  },
  {
   "cell_type": "code",
   "execution_count": null,
   "metadata": {},
   "outputs": [],
   "source": [
    "plt.figure(figsize=(15, 5))\n",
    "plt.plot(x, y)\n",
    "plt.show()"
   ]
  },
  {
   "cell_type": "markdown",
   "metadata": {},
   "source": [
    "The standard format when plotting is a solid blue line. We can change the plot such that each point is represented with a marker instead. \n",
    "\n",
    "* 'o' - represents a circle\n",
    "* '^' - represents a triangle\n",
    "\n",
    "We can type it as an argument **marker='o'**. [More Markers Here](https://matplotlib.org/3.1.1/api/markers_api.html)"
   ]
  },
  {
   "cell_type": "code",
   "execution_count": null,
   "metadata": {},
   "outputs": [],
   "source": [
    "plt.figure(figsize=(15, 5))\n",
    "plt.plot(x, y, marker='o')\n",
    "plt.show()"
   ]
  },
  {
   "cell_type": "markdown",
   "metadata": {},
   "source": [
    "**What if I don't want the line and I just want to retain markers?**\n",
    "\n",
    "There are two ways to do this. \n",
    "\n",
    "There is a method linestyle where you can set it as blank ''. You can also set this as:\n",
    "\n",
    "* '' - blank\n",
    "* '--' - dashed\n",
    "* ':' dotted"
   ]
  },
  {
   "cell_type": "code",
   "execution_count": null,
   "metadata": {},
   "outputs": [],
   "source": [
    "plt.figure(figsize=(15, 5))\n",
    "plt.plot(x, y, marker='o', linestyle='')\n",
    "plt.show()"
   ]
  },
  {
   "cell_type": "code",
   "execution_count": null,
   "metadata": {},
   "outputs": [],
   "source": [
    "#A shortcut\n",
    "plt.figure(figsize=(15, 5))\n",
    "plt.plot(x, y, 'o')\n",
    "plt.show()"
   ]
  },
  {
   "cell_type": "markdown",
   "metadata": {},
   "source": [
    "The color can be changed using the method color. [Named Colors](https://matplotlib.org/3.1.1/gallery/color/named_colors.html#sphx-glr-gallery-color-named-colors-py)"
   ]
  },
  {
   "cell_type": "code",
   "execution_count": null,
   "metadata": {},
   "outputs": [],
   "source": [
    "plt.figure(figsize=(15, 5))\n",
    "plt.plot(x, y, 'o', color='red')\n",
    "plt.show()"
   ]
  },
  {
   "cell_type": "code",
   "execution_count": null,
   "metadata": {},
   "outputs": [],
   "source": [
    "#A shortcut to change markers to red. Add a base color in the marker type. \n",
    "#You can use b: blue, g: green, r: red, c: cyan, m: magenta, b: black, y: yellow\n",
    "plt.figure(figsize=(15, 5))\n",
    "plt.plot(x, y, 'ro')\n",
    "plt.show()"
   ]
  },
  {
   "cell_type": "markdown",
   "metadata": {},
   "source": [
    "## Let's deal with real data!\n",
    "\n",
    "We are going to use a Car Sales Data Set\n",
    "\n",
    "Download **\"Car_sales.csv\"** in this [link](https://www.kaggle.com/gagandeep16/car-sales/data#)"
   ]
  },
  {
   "cell_type": "code",
   "execution_count": null,
   "metadata": {},
   "outputs": [],
   "source": [
    "#import dataset\n",
    "import pandas as pd\n",
    "data = pd.read_csv(\"Car_sales.csv\")"
   ]
  },
  {
   "cell_type": "code",
   "execution_count": null,
   "metadata": {},
   "outputs": [],
   "source": [
    "#Check our Data\n",
    "data.head()"
   ]
  },
  {
   "cell_type": "code",
   "execution_count": null,
   "metadata": {},
   "outputs": [],
   "source": [
    "data.shape"
   ]
  },
  {
   "cell_type": "code",
   "execution_count": null,
   "metadata": {},
   "outputs": [],
   "source": [
    "#Getting Descriptive Statistics through the arguement describe()\n",
    "data.describe()"
   ]
  },
  {
   "cell_type": "markdown",
   "metadata": {},
   "source": [
    "## Scatter Plot Introduction\n",
    "\n",
    "We can now try to plot using a scatter plot to look at Engine Size and Horse Power. What can you say about the plot below?"
   ]
  },
  {
   "cell_type": "code",
   "execution_count": null,
   "metadata": {},
   "outputs": [],
   "source": [
    "plt.figure(figsize=(10,5))\n",
    "plt.scatter(data['Engine_size'], data['Horsepower'])\n",
    "plt.xlabel('Engine Size')\n",
    "plt.ylabel('Horsepower')\n",
    "plt.title('Understanding Engine Size and Horsepower of Cars')\n",
    "plt.show()"
   ]
  },
  {
   "cell_type": "markdown",
   "metadata": {},
   "source": [
    "Practice\n",
    "---\n",
    "\n",
    "Try to plot the folowing:\n",
    "\n",
    "(1) Fuel Efficiency and Horsepower \n",
    "\n",
    "(2) Fuel Efficiency and Curb Weight\n",
    "\n",
    "Is there any insights you can get from the plots?"
   ]
  },
  {
   "cell_type": "code",
   "execution_count": null,
   "metadata": {},
   "outputs": [],
   "source": [
    "# Fuel Efficiency and Horsepower"
   ]
  },
  {
   "cell_type": "code",
   "execution_count": null,
   "metadata": {},
   "outputs": [],
   "source": [
    "# Fuel Efficiency and Curb Weight"
   ]
  },
  {
   "cell_type": "markdown",
   "metadata": {},
   "source": [
    "## Bar Charts Introduction\n",
    "\n",
    "\n",
    "Now let's try to plot bar charts. Suppose we want to understand which manufacturer has the most sales. First we have to group our dataframe based on Sales for each of their model. "
   ]
  },
  {
   "cell_type": "code",
   "execution_count": null,
   "metadata": {},
   "outputs": [],
   "source": [
    "sales = pd.DataFrame({'total_sales' : data.groupby( [\"Manufacturer\"] )['Sales_in_thousands'].\n",
    "                             sum()}).reset_index().set_index(['Manufacturer'])\n",
    "sales.head()"
   ]
  },
  {
   "cell_type": "code",
   "execution_count": null,
   "metadata": {},
   "outputs": [],
   "source": [
    "sales.shape"
   ]
  },
  {
   "cell_type": "code",
   "execution_count": null,
   "metadata": {},
   "outputs": [],
   "source": [
    "plt.figure(figsize=(15,5))\n",
    "plt.bar(sales.index, sales['total_sales'])\n",
    "plt.title('Understanding Manufacturers with Biggest Sales')\n",
    "plt.xlabel('Manufacturer')\n",
    "plt.ylabel('Sales in Thousands ($)')\n",
    "plt.xticks(rotation=45)\n",
    "plt.show()"
   ]
  },
  {
   "cell_type": "markdown",
   "metadata": {},
   "source": [
    "This may not be helpful, what if I want to display the top 10 manufacturer only?"
   ]
  },
  {
   "cell_type": "code",
   "execution_count": null,
   "metadata": {},
   "outputs": [],
   "source": [
    "top10_brand = sales.sort_values('total_sales', ascending=False)[:10]\n",
    "plt.figure(figsize=(10,5))\n",
    "plt.bar(top10_brand.index, top10_brand['total_sales'])\n",
    "plt.title('Top 10 Manufacturers with Biggest Sales')\n",
    "plt.xlabel('Manufacturer')\n",
    "plt.ylabel('Sales in Thousands ($)')\n",
    "plt.show()"
   ]
  },
  {
   "cell_type": "markdown",
   "metadata": {},
   "source": [
    "Customizing Grids and Ticks\n",
    "======"
   ]
  },
  {
   "cell_type": "code",
   "execution_count": null,
   "metadata": {},
   "outputs": [],
   "source": [
    "#Adding Grid\n",
    "plt.figure(figsize=(10,5))\n",
    "plt.bar(top10_brand.index, top10_brand['total_sales'])\n",
    "plt.title('Top 10 Manufacturers with Biggest Sales')\n",
    "plt.xlabel('Manufacturer')\n",
    "plt.ylabel('Sales in Thousands ($)')\n",
    "plt.grid() #Adding the grid method activates gri\n",
    "plt.show()"
   ]
  },
  {
   "cell_type": "markdown",
   "metadata": {},
   "source": [
    "**FROM HELP**\n",
    "\n",
    "b : bool or None, optional\n",
    "    Whether to show the grid lines. If any *kwargs* are supplied,\n",
    "    it is assumed you want the grid on and *b* will be set to True.\n",
    "\n",
    "    If *b* is *None* and there are no *kwargs*, this toggles the\n",
    "    visibility of the lines.\n",
    "\n",
    "which : {'major', 'minor', 'both'}, optional\n",
    "    The grid lines to apply the changes on.\n",
    "\n",
    "axis : {'both', 'x', 'y'}, optional\n",
    "    The axis to apply the changes on."
   ]
  },
  {
   "cell_type": "code",
   "execution_count": null,
   "metadata": {},
   "outputs": [],
   "source": [
    "#Changing Grids\n",
    "plt.figure(figsize=(10,5))\n",
    "plt.bar(top10_brand.index, top10_brand['total_sales'])\n",
    "plt.title('Top 10 Manufacturers with Biggest Sales')\n",
    "plt.xlabel('Manufacturer')\n",
    "plt.ylabel('Sales in Thousands ($)')\n",
    "plt.grid(color='green', linestyle='--', linewidth=0.5, axis='y')\n",
    "plt.show()"
   ]
  },
  {
   "cell_type": "code",
   "execution_count": null,
   "metadata": {},
   "outputs": [],
   "source": [
    "#Changing Labels in XTICKS\n",
    "import numpy as np\n",
    "\n",
    "plt.figure(figsize=(10,5))\n",
    "plt.bar(top10_brand.index, top10_brand['total_sales'])\n",
    "plt.title('Top 10 Manufacturers with Biggest Sales')\n",
    "plt.xlabel('Manufacturer')\n",
    "plt.ylabel('Sales in Thousands ($)')\n",
    "plt.grid(color='green', linestyle='--', linewidth=0.5)\n",
    "\n",
    "label=['FD', 'DE', 'TA', 'HA', \"CT\", \"NN\", \"CC\", \"JP\", \"BK\", 'MY']\n",
    "plt.xticks(np.arange(10), labels=label)\n",
    "plt.show()"
   ]
  },
  {
   "cell_type": "code",
   "execution_count": null,
   "metadata": {},
   "outputs": [],
   "source": [
    "#Disable XTICKS\n",
    "#Changing Labels in XTICKS\n",
    "plt.figure(figsize=(10,5))\n",
    "plt.bar(top10_brand.index, top10_brand['total_sales'])\n",
    "plt.title('Top 10 Manufacturers with Biggest Sales')\n",
    "plt.xlabel('Manufacturer')\n",
    "plt.ylabel('Sales in Thousands ($)')\n",
    "plt.grid(color='green', linestyle='--', linewidth=0.5)\n",
    "\n",
    "plt.xticks([])\n",
    "plt.show()"
   ]
  },
  {
   "cell_type": "code",
   "execution_count": null,
   "metadata": {},
   "outputs": [],
   "source": [
    "top10_brand"
   ]
  },
  {
   "cell_type": "code",
   "execution_count": null,
   "metadata": {},
   "outputs": [],
   "source": [
    "#Create a horizontal bar chart with argument barh \n",
    "plt.figure(figsize=(10,5))\n",
    "plt.barh(top10_brand.index, top10_brand['total_sales'])\n",
    "plt.title('Top 10 Manufacturers with Biggest Sales')\n",
    "plt.xlabel('Manufacturer')\n",
    "plt.ylabel('Sales in Thousands ($)')\n",
    "plt.show()"
   ]
  },
  {
   "cell_type": "code",
   "execution_count": null,
   "metadata": {},
   "outputs": [],
   "source": [
    "#Inverting Axis\n",
    "#Create a horizontal bar chart with argument barh \n",
    "plt.figure(figsize=(10,5))\n",
    "plt.barh(top10_brand.index, top10_brand['total_sales'])\n",
    "plt.title('Top 10 Manufacturers with Biggest Sales')\n",
    "plt.xlabel('Manufacturer')\n",
    "plt.ylabel('Sales in Thousands ($)')\n",
    "plt.gca().invert_yaxis()\n",
    "plt.show()"
   ]
  },
  {
   "cell_type": "markdown",
   "metadata": {},
   "source": [
    "## Histogram Introduction"
   ]
  },
  {
   "cell_type": "code",
   "execution_count": null,
   "metadata": {},
   "outputs": [],
   "source": [
    "#because I tend to forget what's in my dataset. Let's review again\n",
    "data.head()"
   ]
  },
  {
   "cell_type": "code",
   "execution_count": null,
   "metadata": {
    "scrolled": false
   },
   "outputs": [],
   "source": [
    "plt.figure(figsize=(15,5))\n",
    "plt.hist(data['Manufacturer'])\n",
    "plt.title('Understanding Manufacturers with Most Number of Cars in the Dataset')\n",
    "plt.xlabel('Manufacturer')\n",
    "plt.ylabel('Number of Models')\n",
    "plt.xticks(rotation=45)\n",
    "plt.show()"
   ]
  },
  {
   "cell_type": "markdown",
   "metadata": {},
   "source": [
    "Practice\n",
    "---\n",
    "Can you create a histogram based on vehicle type?"
   ]
  },
  {
   "cell_type": "code",
   "execution_count": null,
   "metadata": {},
   "outputs": [],
   "source": [
    "plt.figure(figsize=(15,5))\n",
    "plt.hist(data['Manufacturer'])\n",
    "plt.title('Understanding Manufacturers with Most Number of Cars in the Dataset')\n",
    "plt.xlabel('Manufacturer')\n",
    "plt.ylabel('Number of Models')\n",
    "plt.xticks(rotation=45)\n",
    "plt.show()"
   ]
  },
  {
   "cell_type": "markdown",
   "metadata": {},
   "source": [
    "## Boxplot"
   ]
  },
  {
   "cell_type": "code",
   "execution_count": null,
   "metadata": {},
   "outputs": [],
   "source": [
    "plt.boxplot(data['Horsepower'])\n",
    "plt.show()"
   ]
  },
  {
   "cell_type": "markdown",
   "metadata": {},
   "source": [
    "We get an error! Why? Well, let's see the unique values of Horsepower."
   ]
  },
  {
   "cell_type": "code",
   "execution_count": null,
   "metadata": {},
   "outputs": [],
   "source": [
    "data.isnull().sum()"
   ]
  },
  {
   "cell_type": "code",
   "execution_count": null,
   "metadata": {},
   "outputs": [],
   "source": [
    "data['Horsepower'].unique()"
   ]
  },
  {
   "cell_type": "markdown",
   "metadata": {},
   "source": [
    "There are nan values. This is because we didn't clean the data. Let's cleanup and remove the NA values."
   ]
  },
  {
   "cell_type": "code",
   "execution_count": null,
   "metadata": {},
   "outputs": [],
   "source": [
    "data.shape"
   ]
  },
  {
   "cell_type": "code",
   "execution_count": null,
   "metadata": {
    "scrolled": true
   },
   "outputs": [],
   "source": [
    "data.dropna(inplace=True)\n",
    "data.shape"
   ]
  },
  {
   "cell_type": "code",
   "execution_count": null,
   "metadata": {},
   "outputs": [],
   "source": [
    "plt.boxplot(data['Horsepower'])\n",
    "plt.show()"
   ]
  },
  {
   "cell_type": "code",
   "execution_count": null,
   "metadata": {},
   "outputs": [],
   "source": [
    "#Change Outlier. Note: 0 is for notch\n",
    "plt.boxplot(data['Horsepower'], 0, 'r^')\n",
    "plt.show()"
   ]
  },
  {
   "cell_type": "code",
   "execution_count": null,
   "metadata": {},
   "outputs": [],
   "source": [
    "# horizontal boxes\n",
    "plt.figure()\n",
    "plt.boxplot(data['Horsepower'], 0, 'rs', 0)\n",
    "plt.show()"
   ]
  },
  {
   "cell_type": "markdown",
   "metadata": {},
   "source": [
    "## The Famous Pie Charts"
   ]
  },
  {
   "cell_type": "code",
   "execution_count": null,
   "metadata": {},
   "outputs": [],
   "source": [
    "data.head()"
   ]
  },
  {
   "cell_type": "code",
   "execution_count": null,
   "metadata": {},
   "outputs": [],
   "source": [
    "data.Vehicle_type.hist(grid=False)"
   ]
  },
  {
   "cell_type": "code",
   "execution_count": null,
   "metadata": {},
   "outputs": [],
   "source": [
    "vtype = data.groupby('Vehicle_type').size()\n",
    "vtype"
   ]
  },
  {
   "cell_type": "code",
   "execution_count": null,
   "metadata": {},
   "outputs": [],
   "source": [
    "#Let's get the keys and values to plot in a pie chart\n",
    "\n",
    "tot_car = vtype.values.tolist()\n",
    "vtype_val = vtype.keys().tolist()\n",
    "print(vtype_val)\n",
    "print(tot_car)"
   ]
  },
  {
   "cell_type": "code",
   "execution_count": null,
   "metadata": {},
   "outputs": [],
   "source": [
    "plt.pie(tot_car, labels=vtype_val)\n",
    "plt.title('Number of Cars Based on Vehicle Type')\n",
    "plt.show()"
   ]
  },
  {
   "cell_type": "code",
   "execution_count": null,
   "metadata": {},
   "outputs": [],
   "source": [
    "# Let's add percentage yung autopct and start the pie chart at angle 90 degrees\n",
    "plt.pie(tot_car, labels=vtype_val, startangle=90, autopct='%.1f%%')\n",
    "plt.title('Number of Cars Based on Vehicle Type')\n",
    "plt.show()"
   ]
  },
  {
   "cell_type": "markdown",
   "metadata": {},
   "source": [
    "## For Practice!\n",
    "\n",
    "Explore the `car.txt` dataset, check if there are nulls, and generate visualizations.  \n",
    "\n",
    "Provide your insights."
   ]
  }
 ],
 "metadata": {
  "kernelspec": {
   "display_name": "Python 3 (ipykernel)",
   "language": "python",
   "name": "python3"
  },
  "language_info": {
   "codemirror_mode": {
    "name": "ipython",
    "version": 3
   },
   "file_extension": ".py",
   "mimetype": "text/x-python",
   "name": "python",
   "nbconvert_exporter": "python",
   "pygments_lexer": "ipython3",
   "version": "3.9.6"
  }
 },
 "nbformat": 4,
 "nbformat_minor": 2
}
