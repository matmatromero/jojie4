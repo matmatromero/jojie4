{
 "cells": [
  {
   "cell_type": "markdown",
   "id": "78861445",
   "metadata": {
    "ExecuteTime": {
     "end_time": "2021-08-28T02:02:24.254048Z",
     "start_time": "2021-08-28T02:02:24.248048Z"
    }
   },
   "source": [
    "My name is Coach Mat. I live in Marikina.\n",
    "\n",
    "# My Hobbies\n",
    "- Sleeping\n",
    "- Eating\n",
    "- Reading"
   ]
  },
  {
   "cell_type": "markdown",
   "id": "b638446e",
   "metadata": {},
   "source": [
    "**My objective:** I want to learn *data analytics*"
   ]
  },
  {
   "cell_type": "code",
   "execution_count": 4,
   "id": "15ebf6e0",
   "metadata": {
    "ExecuteTime": {
     "end_time": "2021-08-28T02:20:03.325598Z",
     "start_time": "2021-08-28T02:20:03.319693Z"
    }
   },
   "outputs": [],
   "source": [
    "import numpy as np\n",
    "import matplotlib.pyplot as plt"
   ]
  },
  {
   "cell_type": "code",
   "execution_count": 11,
   "id": "3de90d6e",
   "metadata": {
    "ExecuteTime": {
     "end_time": "2021-08-28T02:25:16.277062Z",
     "start_time": "2021-08-28T02:25:16.270491Z"
    }
   },
   "outputs": [],
   "source": [
    "x = np.linspace(0, 100, 500)\n",
    "y = np.cumsum(np.random.randn(500, 6), 0)"
   ]
  },
  {
   "cell_type": "code",
   "execution_count": null,
   "id": "bc01202a",
   "metadata": {},
   "outputs": [],
   "source": [
    "plt.figure(figsize=(10, 8))\n",
    "plt.plot(x, y)\n",
    "plt.legend('ABCDEF', ncol=2, loc='upper left')"
   ]
  }
 ],
 "metadata": {
  "kernelspec": {
   "display_name": "Python 3",
   "language": "python",
   "name": "python3"
  },
  "language_info": {
   "codemirror_mode": {
    "name": "ipython",
    "version": 3
   },
   "file_extension": ".py",
   "mimetype": "text/x-python",
   "name": "python",
   "nbconvert_exporter": "python",
   "pygments_lexer": "ipython3",
   "version": "3.8.8"
  }
 },
 "nbformat": 4,
 "nbformat_minor": 5
}
