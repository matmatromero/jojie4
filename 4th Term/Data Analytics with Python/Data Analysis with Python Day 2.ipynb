{
 "cells": [
  {
   "cell_type": "code",
   "execution_count": 72,
   "id": "bed81091",
   "metadata": {
    "ExecuteTime": {
     "end_time": "2021-09-10T13:41:10.039128Z",
     "start_time": "2021-09-10T13:41:10.025538Z"
    }
   },
   "outputs": [],
   "source": [
    "import csv"
   ]
  },
  {
   "cell_type": "code",
   "execution_count": 75,
   "id": "d39a5fa7",
   "metadata": {
    "ExecuteTime": {
     "end_time": "2021-09-10T13:42:24.466911Z",
     "start_time": "2021-09-10T13:42:24.451491Z"
    }
   },
   "outputs": [],
   "source": [
    "with open('winequality-red.csv', 'r') as wine:\n",
    "    wines = list(csv.reader(wine, delimiter=';'))"
   ]
  },
  {
   "cell_type": "code",
   "execution_count": 80,
   "id": "ad7764b1",
   "metadata": {
    "ExecuteTime": {
     "end_time": "2021-09-10T13:43:47.031637Z",
     "start_time": "2021-09-10T13:43:47.016096Z"
    },
    "scrolled": false
   },
   "outputs": [],
   "source": [
    "x = np.array(wines)"
   ]
  },
  {
   "cell_type": "code",
   "execution_count": 87,
   "id": "b853ec91",
   "metadata": {
    "ExecuteTime": {
     "end_time": "2021-09-10T13:45:19.748724Z",
     "start_time": "2021-09-10T13:45:19.741566Z"
    }
   },
   "outputs": [],
   "source": [
    "columns = x[0]"
   ]
  },
  {
   "cell_type": "code",
   "execution_count": 88,
   "id": "32cb1697",
   "metadata": {
    "ExecuteTime": {
     "end_time": "2021-09-10T13:45:21.263381Z",
     "start_time": "2021-09-10T13:45:21.255133Z"
    }
   },
   "outputs": [
    {
     "data": {
      "text/plain": [
       "array(['fixed acidity', 'volatile acidity', 'citric acid',\n",
       "       'residual sugar', 'chlorides', 'free sulfur dioxide',\n",
       "       'total sulfur dioxide', 'density', 'pH', 'sulphates', 'alcohol',\n",
       "       'quality'], dtype='<U20')"
      ]
     },
     "execution_count": 88,
     "metadata": {},
     "output_type": "execute_result"
    }
   ],
   "source": [
    "columns"
   ]
  },
  {
   "cell_type": "code",
   "execution_count": 92,
   "id": "279d71e1",
   "metadata": {
    "ExecuteTime": {
     "end_time": "2021-09-10T13:46:29.583796Z",
     "start_time": "2021-09-10T13:46:29.578396Z"
    }
   },
   "outputs": [],
   "source": [
    "    wine_content = x[1:]"
   ]
  },
  {
   "cell_type": "code",
   "execution_count": 100,
   "id": "999881b4",
   "metadata": {
    "ExecuteTime": {
     "end_time": "2021-09-10T13:47:49.734886Z",
     "start_time": "2021-09-10T13:47:49.706950Z"
    }
   },
   "outputs": [],
   "source": [
    "wine_content = wine_content.astype('float')"
   ]
  },
  {
   "cell_type": "code",
   "execution_count": 104,
   "id": "546aff96",
   "metadata": {
    "ExecuteTime": {
     "end_time": "2021-09-10T13:48:12.777064Z",
     "start_time": "2021-09-10T13:48:12.767465Z"
    }
   },
   "outputs": [
    {
     "data": {
      "text/plain": [
       "2.53880550343965"
      ]
     },
     "execution_count": 104,
     "metadata": {},
     "output_type": "execute_result"
    }
   ],
   "source": [
    "wine_content[:, 3].mean()"
   ]
  },
  {
   "cell_type": "code",
   "execution_count": 1,
   "id": "59bf09bc",
   "metadata": {
    "ExecuteTime": {
     "end_time": "2021-09-10T12:45:12.363630Z",
     "start_time": "2021-09-10T12:45:12.357116Z"
    }
   },
   "outputs": [],
   "source": [
    "num = [1, 2, 3, 4, 5, 6, 7, 8, 9, 10, 11]"
   ]
  },
  {
   "cell_type": "code",
   "execution_count": 136,
   "id": "435ed5e2",
   "metadata": {
    "ExecuteTime": {
     "end_time": "2021-09-11T02:55:30.894607Z",
     "start_time": "2021-09-11T02:55:30.889315Z"
    }
   },
   "outputs": [],
   "source": [
    "num = list(range(1, 12))"
   ]
  },
  {
   "cell_type": "code",
   "execution_count": 3,
   "id": "78eb9c23",
   "metadata": {
    "ExecuteTime": {
     "end_time": "2021-09-10T12:45:25.931832Z",
     "start_time": "2021-09-10T12:45:25.922881Z"
    }
   },
   "outputs": [
    {
     "name": "stdout",
     "output_type": "stream",
     "text": [
      "1\n",
      "2\n",
      "3\n",
      "4\n",
      "5\n",
      "6\n",
      "7\n",
      "8\n",
      "9\n",
      "10\n",
      "11\n"
     ]
    }
   ],
   "source": [
    "for digits in num:\n",
    "    print(digits)"
   ]
  },
  {
   "cell_type": "code",
   "execution_count": 9,
   "id": "d7b49462",
   "metadata": {
    "ExecuteTime": {
     "end_time": "2021-09-10T12:47:42.406437Z",
     "start_time": "2021-09-10T12:47:42.393922Z"
    }
   },
   "outputs": [
    {
     "name": "stdout",
     "output_type": "stream",
     "text": [
      "HELLO 1\n",
      "HI 2\n",
      "HELLO 3\n",
      "HI 4\n",
      "HELLO 5\n",
      "HI 6\n",
      "HELLO 7\n",
      "HI 8\n",
      "HELLO 9\n",
      "HI 10\n",
      "HELLO 11\n"
     ]
    }
   ],
   "source": [
    "for digits in num:\n",
    "    if digits % 2 == 0:\n",
    "        print('HI', digits)\n",
    "    elif digits % 2 != 0:\n",
    "        print('HELLO', digits)"
   ]
  },
  {
   "cell_type": "code",
   "execution_count": 14,
   "id": "ad1ab6b4",
   "metadata": {
    "ExecuteTime": {
     "end_time": "2021-09-10T12:50:33.493541Z",
     "start_time": "2021-09-10T12:50:33.486858Z"
    }
   },
   "outputs": [],
   "source": [
    "x = list(range(1000))"
   ]
  },
  {
   "cell_type": "code",
   "execution_count": 31,
   "id": "c9e6a3bd",
   "metadata": {
    "ExecuteTime": {
     "end_time": "2021-09-10T12:54:28.641558Z",
     "start_time": "2021-09-10T12:54:28.634317Z"
    }
   },
   "outputs": [
    {
     "name": "stdout",
     "output_type": "stream",
     "text": [
      "499500\n"
     ]
    }
   ],
   "source": [
    "start = 0\n",
    "\n",
    "for i in x:\n",
    "    start = i + start\n",
    "print(start)"
   ]
  },
  {
   "cell_type": "code",
   "execution_count": 20,
   "id": "ce895204",
   "metadata": {
    "ExecuteTime": {
     "end_time": "2021-09-10T12:54:12.784638Z",
     "start_time": "2021-09-10T12:54:12.444074Z"
    }
   },
   "outputs": [],
   "source": [
    "import numpy as np"
   ]
  },
  {
   "cell_type": "code",
   "execution_count": 59,
   "id": "2c465a83",
   "metadata": {
    "ExecuteTime": {
     "end_time": "2021-09-10T13:12:45.037547Z",
     "start_time": "2021-09-10T13:12:45.028024Z"
    }
   },
   "outputs": [
    {
     "data": {
      "text/plain": [
       "array([4, 7, 8, 2, 2, 9])"
      ]
     },
     "execution_count": 59,
     "metadata": {},
     "output_type": "execute_result"
    }
   ],
   "source": [
    "np.random.seed(33)\n",
    "\n",
    "array1 = np.random.randint(10, size=6)\n",
    "array1"
   ]
  },
  {
   "cell_type": "code",
   "execution_count": 61,
   "id": "09167dc9",
   "metadata": {
    "ExecuteTime": {
     "end_time": "2021-09-10T13:25:28.852341Z",
     "start_time": "2021-09-10T13:25:23.608963Z"
    }
   },
   "outputs": [
    {
     "name": "stdout",
     "output_type": "stream",
     "text": [
      "Enter your name: asd\n",
      "You are not welcome :(\n"
     ]
    }
   ],
   "source": [
    "name = str(input('Enter your name: '))\n",
    "\n",
    "if name == 'Mat':\n",
    "    print('Hello ' + name + '!')\n",
    "else:\n",
    "    print(\"You are not welcome :(\")"
   ]
  },
  {
   "cell_type": "code",
   "execution_count": 62,
   "id": "c0ec6951",
   "metadata": {
    "ExecuteTime": {
     "end_time": "2021-09-10T13:26:25.274279Z",
     "start_time": "2021-09-10T13:26:22.724715Z"
    }
   },
   "outputs": [
    {
     "name": "stdout",
     "output_type": "stream",
     "text": [
      "Enter grade:75\n",
      "FAIL\n"
     ]
    }
   ],
   "source": [
    "grade = int(input('Enter grade:'))\n",
    "\n",
    "if grade > 75:\n",
    "    print(\"PASS\")\n",
    "    \n",
    "else:\n",
    "    print('FAIL')"
   ]
  },
  {
   "cell_type": "code",
   "execution_count": 65,
   "id": "cc51f5ed",
   "metadata": {
    "ExecuteTime": {
     "end_time": "2021-09-10T13:28:13.641119Z",
     "start_time": "2021-09-10T13:28:12.930103Z"
    }
   },
   "outputs": [
    {
     "name": "stdout",
     "output_type": "stream",
     "text": [
      "Enter number of coffee you drink in a day:2\n",
      "COFFEE ENTHUSIAST\n"
     ]
    }
   ],
   "source": [
    "coffee = int(input('Enter number of coffee you drink in a day:'))\n",
    "\n",
    "if coffee > 5:\n",
    "    print('COFFEE ADDICT')\n",
    "elif coffee >= 2:\n",
    "    print('COFFEE ENTHUSIAST')\n",
    "else:\n",
    "    print('NORMAL')"
   ]
  },
  {
   "cell_type": "code",
   "execution_count": 66,
   "id": "9aacfb58",
   "metadata": {
    "ExecuteTime": {
     "end_time": "2021-09-10T13:31:27.880402Z",
     "start_time": "2021-09-10T13:31:26.324079Z"
    }
   },
   "outputs": [
    {
     "name": "stdout",
     "output_type": "stream",
     "text": [
      "Enter Grade:101\n",
      "A\n"
     ]
    }
   ],
   "source": [
    "grade = int(input('Enter Grade:'))\n",
    "\n",
    "if grade == 100:\n",
    "    print('A+')\n",
    "elif grade >= 90:\n",
    "    print('A')\n",
    "elif grade >= 85:\n",
    "    print('B+')\n",
    "elif grade >= 80:\n",
    "    print('B')\n",
    "elif grade >= 75:\n",
    "    print('C')\n",
    "else:\n",
    "    print('FAIL')"
   ]
  },
  {
   "cell_type": "code",
   "execution_count": 67,
   "id": "937f77a4",
   "metadata": {
    "ExecuteTime": {
     "end_time": "2021-09-10T13:32:44.018080Z",
     "start_time": "2021-09-10T13:32:44.011296Z"
    }
   },
   "outputs": [
    {
     "name": "stdout",
     "output_type": "stream",
     "text": [
      "vowel\n"
     ]
    }
   ],
   "source": [
    "letter = 'a'\n",
    "\n",
    "if letter == 'a' or letter == 'e':\n",
    "    print('vowel')"
   ]
  },
  {
   "cell_type": "code",
   "execution_count": 71,
   "id": "e0919ff7",
   "metadata": {
    "ExecuteTime": {
     "end_time": "2021-09-10T13:38:31.541484Z",
     "start_time": "2021-09-10T13:38:31.534331Z"
    }
   },
   "outputs": [
    {
     "name": "stdout",
     "output_type": "stream",
     "text": [
      "Try again next time\n"
     ]
    }
   ],
   "source": [
    "height = 'tall'\n",
    "looks = 'Namjoon'\n",
    "\n",
    "# I will only let you be my boyfriend if you are tall and you look like \n",
    "# namjoon!\n",
    "\n",
    "if height == 'tall' and looks=='Namjoon':\n",
    "    print('I love you!')\n",
    "    \n",
    "else:\n",
    "    print('Try again next time')"
   ]
  },
  {
   "cell_type": "code",
   "execution_count": 105,
   "id": "666c096b",
   "metadata": {
    "ExecuteTime": {
     "end_time": "2021-09-11T02:23:20.559359Z",
     "start_time": "2021-09-11T02:23:14.212075Z"
    }
   },
   "outputs": [
    {
     "name": "stdout",
     "output_type": "stream",
     "text": [
      "Enter an integer (0 to quit): 1\n",
      "That’s a positive number.\n",
      "Enter an integer (0 to quit): 2\n",
      "That’s a positive number.\n",
      "Enter an integer (0 to quit): -1\n",
      "That’s a negative number.\n",
      "Enter an integer (0 to quit): 0\n"
     ]
    }
   ],
   "source": [
    "x = int(input(\"Enter an integer (0 to quit): \"))\n",
    "while x != 0:\n",
    "    if x > 0:\n",
    "        print(\"positive number.\")\n",
    "    else:\n",
    "        print(\"negative number.\")\n",
    "    x = int(input(\"Enter an integer (0 to quit): \"))"
   ]
  },
  {
   "cell_type": "code",
   "execution_count": 106,
   "id": "658f1740",
   "metadata": {
    "ExecuteTime": {
     "end_time": "2021-09-11T02:34:57.644452Z",
     "start_time": "2021-09-11T02:34:57.640195Z"
    }
   },
   "outputs": [],
   "source": [
    "a = 1\n",
    "name = \"andie\""
   ]
  },
  {
   "cell_type": "code",
   "execution_count": 118,
   "id": "42bfa567",
   "metadata": {
    "ExecuteTime": {
     "end_time": "2021-09-11T02:42:46.203155Z",
     "start_time": "2021-09-11T02:42:46.198178Z"
    }
   },
   "outputs": [],
   "source": [
    "#List - mutable\n",
    "fruits = ['apples', 'bananas', 'watermelon', 'melon', \n",
    "         'grapes', 'mango']"
   ]
  },
  {
   "cell_type": "code",
   "execution_count": 111,
   "id": "bb6f4c1b",
   "metadata": {
    "ExecuteTime": {
     "end_time": "2021-09-11T02:40:09.240485Z",
     "start_time": "2021-09-11T02:40:09.234608Z"
    }
   },
   "outputs": [
    {
     "data": {
      "text/plain": [
       "'apples'"
      ]
     },
     "execution_count": 111,
     "metadata": {},
     "output_type": "execute_result"
    }
   ],
   "source": [
    "fruits[0]"
   ]
  },
  {
   "cell_type": "code",
   "execution_count": 112,
   "id": "b2a07106",
   "metadata": {
    "ExecuteTime": {
     "end_time": "2021-09-11T02:40:26.577821Z",
     "start_time": "2021-09-11T02:40:26.571001Z"
    }
   },
   "outputs": [
    {
     "data": {
      "text/plain": [
       "'watermelon'"
      ]
     },
     "execution_count": 112,
     "metadata": {},
     "output_type": "execute_result"
    }
   ],
   "source": [
    "fruits[2]"
   ]
  },
  {
   "cell_type": "code",
   "execution_count": 119,
   "id": "7ed094da",
   "metadata": {
    "ExecuteTime": {
     "end_time": "2021-09-11T02:42:51.397087Z",
     "start_time": "2021-09-11T02:42:51.389381Z"
    }
   },
   "outputs": [
    {
     "data": {
      "text/plain": [
       "['apples', 'bananas', 'watermelon']"
      ]
     },
     "execution_count": 119,
     "metadata": {},
     "output_type": "execute_result"
    }
   ],
   "source": [
    "#display apples and bananas\n",
    "fruits[0:3]"
   ]
  },
  {
   "cell_type": "code",
   "execution_count": 123,
   "id": "e86f874c",
   "metadata": {
    "ExecuteTime": {
     "end_time": "2021-09-11T02:45:42.445270Z",
     "start_time": "2021-09-11T02:45:42.435366Z"
    }
   },
   "outputs": [
    {
     "data": {
      "text/plain": [
       "['apples', 'watermelon', 'grapes']"
      ]
     },
     "execution_count": 123,
     "metadata": {},
     "output_type": "execute_result"
    }
   ],
   "source": [
    "fruits[0::2]"
   ]
  },
  {
   "cell_type": "code",
   "execution_count": 128,
   "id": "b435acf1",
   "metadata": {
    "ExecuteTime": {
     "end_time": "2021-09-11T02:47:12.159518Z",
     "start_time": "2021-09-11T02:47:12.152273Z"
    }
   },
   "outputs": [
    {
     "data": {
      "text/plain": [
       "'mango'"
      ]
     },
     "execution_count": 128,
     "metadata": {},
     "output_type": "execute_result"
    }
   ],
   "source": [
    "fruits[-1]"
   ]
  },
  {
   "cell_type": "code",
   "execution_count": 130,
   "id": "a582cce9",
   "metadata": {
    "ExecuteTime": {
     "end_time": "2021-09-11T02:50:04.914345Z",
     "start_time": "2021-09-11T02:50:04.908910Z"
    }
   },
   "outputs": [],
   "source": [
    "bts = ['namjoon', 'jin', 'jhope', 'suga', 'jimin', \n",
    "       'jungkook', 'V']"
   ]
  },
  {
   "cell_type": "code",
   "execution_count": 133,
   "id": "3df79b37",
   "metadata": {
    "ExecuteTime": {
     "end_time": "2021-09-11T02:50:57.788150Z",
     "start_time": "2021-09-11T02:50:57.781705Z"
    }
   },
   "outputs": [
    {
     "data": {
      "text/plain": [
       "['namjoon', 'jin', 'jhope', 'suga', 'jimin', 'jungkook', 'V']"
      ]
     },
     "execution_count": 133,
     "metadata": {},
     "output_type": "execute_result"
    }
   ],
   "source": [
    "bts"
   ]
  },
  {
   "cell_type": "code",
   "execution_count": 132,
   "id": "8e64c423",
   "metadata": {
    "ExecuteTime": {
     "end_time": "2021-09-11T02:50:37.747316Z",
     "start_time": "2021-09-11T02:50:37.741160Z"
    }
   },
   "outputs": [
    {
     "name": "stdout",
     "output_type": "stream",
     "text": [
      "namjoon\n",
      "jin\n",
      "jhope\n",
      "suga\n",
      "jimin\n",
      "jungkook\n",
      "V\n"
     ]
    }
   ],
   "source": [
    "#for loop\n",
    "# "
   ]
  }
 ],
 "metadata": {
  "kernelspec": {
   "display_name": "Python 3",
   "language": "python",
   "name": "python3"
  },
  "language_info": {
   "codemirror_mode": {
    "name": "ipython",
    "version": 3
   },
   "file_extension": ".py",
   "mimetype": "text/x-python",
   "name": "python",
   "nbconvert_exporter": "python",
   "pygments_lexer": "ipython3",
   "version": "3.8.8"
  }
 },
 "nbformat": 4,
 "nbformat_minor": 5
}
