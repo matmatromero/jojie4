{
 "cells": [
  {
   "cell_type": "markdown",
   "id": "467ba32f",
   "metadata": {},
   "source": [
    "# Numpy Exercise\n",
    "Coach Mat  \n",
    "The Coding School  \n",
    "(c) 2021\n",
    "----\n",
    "Make sure to follow the instructions per item! "
   ]
  },
  {
   "cell_type": "code",
   "execution_count": null,
   "id": "65dcd0e2",
   "metadata": {
    "ExecuteTime": {
     "end_time": "2021-09-17T13:23:02.478374Z",
     "start_time": "2021-09-17T13:23:02.444966Z"
    }
   },
   "outputs": [],
   "source": [
    "from numpy.testing import assert_equal"
   ]
  },
  {
   "cell_type": "markdown",
   "id": "add19dc8",
   "metadata": {},
   "source": [
    "## Q1. Import the numpy module below"
   ]
  },
  {
   "cell_type": "code",
   "execution_count": null,
   "id": "bee9138e",
   "metadata": {
    "ExecuteTime": {
     "end_time": "2021-09-24T15:16:17.715004Z",
     "start_time": "2021-09-24T15:16:17.385847Z"
    }
   },
   "outputs": [],
   "source": [
    "# Type your code below\n",
    "import numpy as np"
   ]
  },
  {
   "cell_type": "markdown",
   "id": "da01ebf8",
   "metadata": {},
   "source": [
    "For the next cell, run the code and check the output."
   ]
  },
  {
   "cell_type": "code",
   "execution_count": null,
   "id": "752182b3",
   "metadata": {
    "ExecuteTime": {
     "end_time": "2021-09-24T15:16:18.779878Z",
     "start_time": "2021-09-24T15:16:18.760810Z"
    }
   },
   "outputs": [],
   "source": [
    "np.random.seed(22)\n",
    "random_integers = np.random.randint(1, 50000, size=(20, 5))\n",
    "random_integers"
   ]
  },
  {
   "cell_type": "markdown",
   "id": "f3c1526c",
   "metadata": {},
   "source": [
    "You will analyze the `random_integers` using numpy in the next few items."
   ]
  },
  {
   "cell_type": "markdown",
   "id": "e33f402e",
   "metadata": {},
   "source": [
    "## Q2 `Print` the third row."
   ]
  },
  {
   "cell_type": "code",
   "execution_count": null,
   "id": "7ede0fa4",
   "metadata": {
    "ExecuteTime": {
     "end_time": "2021-09-24T15:17:33.160497Z",
     "start_time": "2021-09-24T15:17:33.156678Z"
    }
   },
   "outputs": [],
   "source": [
    "# Type your numpy code below"
   ]
  },
  {
   "cell_type": "markdown",
   "id": "a7e29e1f",
   "metadata": {
    "ExecuteTime": {
     "end_time": "2021-09-24T15:17:40.871933Z",
     "start_time": "2021-09-24T15:17:40.868122Z"
    }
   },
   "source": [
    "## Q3 `Print` the 2nd and 3rd column."
   ]
  },
  {
   "cell_type": "code",
   "execution_count": null,
   "id": "aaa0464d",
   "metadata": {
    "ExecuteTime": {
     "end_time": "2021-09-24T15:18:07.649711Z",
     "start_time": "2021-09-24T15:18:07.645923Z"
    }
   },
   "outputs": [],
   "source": [
    "#Type your numpy code below"
   ]
  },
  {
   "cell_type": "markdown",
   "id": "76b98661",
   "metadata": {},
   "source": [
    "## Q4 What is the mean of the second column?\n",
    "Store your answer in a variable named `mean`."
   ]
  },
  {
   "cell_type": "code",
   "execution_count": null,
   "id": "8bcc9f62",
   "metadata": {
    "ExecuteTime": {
     "end_time": "2021-09-17T13:23:58.933050Z",
     "start_time": "2021-09-17T13:23:58.928817Z"
    }
   },
   "outputs": [],
   "source": [
    "# Type your code below\n"
   ]
  },
  {
   "cell_type": "code",
   "execution_count": null,
   "id": "b8c0c398",
   "metadata": {
    "ExecuteTime": {
     "end_time": "2021-09-17T13:24:03.164823Z",
     "start_time": "2021-09-17T13:24:03.152711Z"
    }
   },
   "outputs": [],
   "source": [
    "assert_equal(mean, 28065.35)"
   ]
  },
  {
   "cell_type": "markdown",
   "id": "e513a22f",
   "metadata": {},
   "source": [
    "## Q5 What is the sum of the first 3 rows of the 3rd and 4th column?\n",
    "Store your answer in a variable named `sum`"
   ]
  },
  {
   "cell_type": "code",
   "execution_count": null,
   "id": "a739df70",
   "metadata": {
    "ExecuteTime": {
     "end_time": "2021-09-17T13:27:05.044892Z",
     "start_time": "2021-09-17T13:27:05.041111Z"
    }
   },
   "outputs": [],
   "source": [
    "# Type your code below\n"
   ]
  },
  {
   "cell_type": "code",
   "execution_count": null,
   "id": "5d806553",
   "metadata": {},
   "outputs": [],
   "source": [
    "assert_equal(sum, 159728)"
   ]
  },
  {
   "cell_type": "markdown",
   "id": "7d1b92a7",
   "metadata": {},
   "source": [
    "## Challenges! \n",
    "You may use the internet to look for the syntax or code you need. \n",
    "\n",
    "HINT: Numpy documentation."
   ]
  },
  {
   "cell_type": "markdown",
   "id": "59158619",
   "metadata": {},
   "source": [
    "## Challenge 1: Create a numpy array filled with zeros with the size 20."
   ]
  },
  {
   "cell_type": "code",
   "execution_count": null,
   "id": "730b26cd",
   "metadata": {
    "ExecuteTime": {
     "end_time": "2021-09-24T15:21:09.402410Z",
     "start_time": "2021-09-24T15:21:09.398588Z"
    }
   },
   "outputs": [],
   "source": [
    "# Type your code below"
   ]
  },
  {
   "cell_type": "markdown",
   "id": "643bd905",
   "metadata": {},
   "source": [
    "## Challenge 2: Create a 5*5 numpy matrix, filled with values ranging from 0 to 24"
   ]
  },
  {
   "cell_type": "code",
   "execution_count": null,
   "id": "1de5245f",
   "metadata": {
    "ExecuteTime": {
     "end_time": "2021-09-24T15:23:14.300433Z",
     "start_time": "2021-09-24T15:23:14.294506Z"
    }
   },
   "outputs": [],
   "source": [
    "# Type your code below"
   ]
  }
 ],
 "metadata": {
  "kernelspec": {
   "display_name": "Python 3",
   "language": "python",
   "name": "python3"
  },
  "language_info": {
   "codemirror_mode": {
    "name": "ipython",
    "version": 3
   },
   "file_extension": ".py",
   "mimetype": "text/x-python",
   "name": "python",
   "nbconvert_exporter": "python",
   "pygments_lexer": "ipython3",
   "version": "3.8.8"
  }
 },
 "nbformat": 4,
 "nbformat_minor": 5
}
