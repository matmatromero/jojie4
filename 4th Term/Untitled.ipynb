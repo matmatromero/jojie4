{
 "cells": [
  {
   "cell_type": "code",
   "execution_count": 1,
   "metadata": {
    "ExecuteTime": {
     "end_time": "2021-03-23T17:23:30.967167Z",
     "start_time": "2021-03-23T17:23:29.013113Z"
    }
   },
   "outputs": [],
   "source": [
    "import pandas as pd"
   ]
  },
  {
   "cell_type": "code",
   "execution_count": 5,
   "metadata": {
    "ExecuteTime": {
     "end_time": "2021-03-23T17:24:20.591851Z",
     "start_time": "2021-03-23T17:24:20.580198Z"
    }
   },
   "outputs": [],
   "source": [
    "df = pd.read_csv('sample_data.csv', sep=',', header=None)"
   ]
  },
  {
   "cell_type": "code",
   "execution_count": null,
   "metadata": {},
   "outputs": [],
   "source": []
  },
  {
   "cell_type": "code",
   "execution_count": 7,
   "metadata": {
    "ExecuteTime": {
     "end_time": "2021-03-23T17:24:42.560622Z",
     "start_time": "2021-03-23T17:24:42.554808Z"
    }
   },
   "outputs": [],
   "source": [
    "df.columns = ['sn', 'fn', 'class', 'age']"
   ]
  },
  {
   "cell_type": "code",
   "execution_count": 10,
   "metadata": {
    "ExecuteTime": {
     "end_time": "2021-03-23T17:25:13.246185Z",
     "start_time": "2021-03-23T17:25:13.240965Z"
    }
   },
   "outputs": [],
   "source": [
    "list_data = df.values"
   ]
  },
  {
   "cell_type": "code",
   "execution_count": 16,
   "metadata": {
    "ExecuteTime": {
     "end_time": "2021-03-23T17:28:32.803123Z",
     "start_time": "2021-03-23T17:28:32.793706Z"
    }
   },
   "outputs": [
    {
     "ename": "SyntaxError",
     "evalue": "invalid syntax (<ipython-input-16-1ea3a09472d0>, line 1)",
     "output_type": "error",
     "traceback": [
      "\u001b[0;36m  File \u001b[0;32m\"<ipython-input-16-1ea3a09472d0>\"\u001b[0;36m, line \u001b[0;32m1\u001b[0m\n\u001b[0;31m    insert into books.\"dim_book\" (book_id, book_sku, title, format, author,\u001b[0m\n\u001b[0m           ^\u001b[0m\n\u001b[0;31mSyntaxError\u001b[0m\u001b[0;31m:\u001b[0m invalid syntax\n"
     ]
    }
   ],
   "source": [
    "insert into books.\"dim_book\" (book_id, book_sku, title, format, author, \n",
    "                              author_nationality, pages, thickness, genre_id,\n",
    "                              genre_name, publisher_id, publisher_name) values \n",
    "(1,'045115305-7', 'Everybody''s Got Somebody... Not Me', 'E-book', 'Stoyle', \n",
    " 'Canada', 90, 'THICC', 94, 'Drama', 97, 'Tagchat');"
   ]
  },
  {
   "cell_type": "code",
   "execution_count": 22,
   "metadata": {
    "ExecuteTime": {
     "end_time": "2021-03-23T17:31:00.814745Z",
     "start_time": "2021-03-23T17:31:00.807165Z"
    }
   },
   "outputs": [
    {
     "name": "stdout",
     "output_type": "stream",
     "text": [
      "insert into \"dim_customers\" (sn, fn,class,age) values (\"delariarte\",\"jelo\",\"msds2021\",\"m\");\n",
      "insert into \"dim_customers\" (sn, fn,class,age) values (\"romero\",\"matthew\",\"msds2020\",\"f\");\n"
     ]
    }
   ],
   "source": [
    "def data()\n",
    "\n",
    "for i in list_data:\n",
    "    print('insert into \"dim_customers\" (sn, fn,class,age) values (\"'+i[0]+'\",\"'+i[1]+'\",\"'+i[2]+'\",\"'+i[3]+'\");')"
   ]
  }
 ],
 "metadata": {
  "kernelspec": {
   "display_name": "Python 3",
   "language": "python",
   "name": "python3"
  },
  "language_info": {
   "codemirror_mode": {
    "name": "ipython",
    "version": 3
   },
   "file_extension": ".py",
   "mimetype": "text/x-python",
   "name": "python",
   "nbconvert_exporter": "python",
   "pygments_lexer": "ipython3",
   "version": "3.8.6"
  }
 },
 "nbformat": 4,
 "nbformat_minor": 4
}
