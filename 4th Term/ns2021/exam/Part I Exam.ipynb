{
 "cells": [
  {
   "cell_type": "markdown",
   "metadata": {
    "deletable": false,
    "editable": false,
    "nbgrader": {
     "cell_type": "markdown",
     "checksum": "8293d4f8e92f56a2f3a00f7739cb6b7f",
     "grade": false,
     "grade_id": "cell-6b34001594870b09",
     "locked": true,
     "schema_version": 3,
     "solution": false,
     "task": false
    }
   },
   "source": [
    "# Network Science Exam (Part I)\n",
    "---\n",
    "<font color=\"darkblue\"><b>INSTRUCTION</b></font>: In this exam, you may open your notes and use the notebooks released in class, but make sure you **cite your sources**, especially if you use code written by someone else. Although this is an open-notes exam, you are **not allowed to communicate and discuss with anyone** (especially not your classmates/LT-mates) while taking this exam. You are not to use any of these communication platforms (e.g. Discord, MS Teams, Signal, Telegram, Facebook, email, etc.) while taking the exam. If you have questions/clarifications about the exam, please message the instructor immediately (or any of the program staff members) via Zoom chat. Reminding everyone that AIM does not condone academic cheating/dishonesty **in any form**. Cheating in this exam, in particular, may get you expelled from the Institute.\n",
    "\n",
    "---\n"
   ]
  },
  {
   "cell_type": "markdown",
   "metadata": {
    "deletable": false,
    "editable": false,
    "nbgrader": {
     "cell_type": "markdown",
     "checksum": "47721b9e1263497aaac5b9ebca4780c9",
     "grade": false,
     "grade_id": "cell-8319d7e01cdebb6c",
     "locked": true,
     "schema_version": 3,
     "solution": false,
     "task": false
    }
   },
   "source": [
    "## A. Adjacency Matrices (**6 pts**)\n",
    "\n",
    "Consider the figure below.\n",
    "\n",
    "<img src=\"exam_network.png\" width=500>\n",
    "\n",
    "_You may use the code below to build your matrices. The form below is arbitrary. This is just to provide you with the LaTex code for writing matrices_\n",
    "\n",
    "\\begin{equation*}\n",
    "\\mathcal{A}_d = A_{m,n} = \n",
    "\\begin{pmatrix}\n",
    "a_{1,1} & a_{1,2} & \\cdots & a_{1,n} \\\\\n",
    "a_{2,1} & a_{2,2} & \\cdots & a_{2,n} \\\\\n",
    "\\vdots  & \\vdots  & \\ddots & \\vdots  \\\\\n",
    "a_{m,1} & a_{m,2} & \\cdots & a_{m,n} \n",
    "\\end{pmatrix}\n",
    "\\end{equation*}\n",
    "\n",
    "---\n"
   ]
  },
  {
   "cell_type": "markdown",
   "metadata": {
    "deletable": false,
    "editable": false,
    "nbgrader": {
     "cell_type": "markdown",
     "checksum": "c45c76294d14cdc2dd844e5bfc04130d",
     "grade": false,
     "grade_id": "cell-9319d7e01cdebb6c",
     "locked": true,
     "schema_version": 3,
     "solution": false,
     "task": false
    }
   },
   "source": [
    "1. Write the adjacency matrix (in LaTeX markdown form), $\\mathcal{A}_d$, for this directed graph. Please be explicit on directionality. (**1 pt**)"
   ]
  },
  {
   "cell_type": "markdown",
   "metadata": {
    "deletable": false,
    "nbgrader": {
     "cell_type": "markdown",
     "checksum": "2ce32bc4109207365e0ead582ec55d58",
     "grade": true,
     "grade_id": "cell-263aea08f135e997",
     "locked": false,
     "points": 1,
     "schema_version": 3,
     "solution": true,
     "task": false
    }
   },
   "source": [
    "\\begin{equation*}\n",
    "\\mathcal{A}_d = A_{m,n} = \n",
    "\\begin{pmatrix}\n",
    "{0} & {0} & {0} & {0} & {1} & {0} & {1} & {0} \\\\\n",
    "{0} & {0} & {1} & {0} & {0} & {0} & {0} & {0} \\\\\n",
    "{1} & {0} & {0} & {1} & {0} & {1} & {0} & {0} \\\\\n",
    "{0} & {0} & {1} & {0} & {0} & {0} & {0} & {0} \\\\\n",
    "{0} & {0} & {0} & {0} & {0} & {1} & {0} & {0} \\\\\n",
    "{1} & {0} & {0} & {0} & {0} & {0} & {0} & {0} \\\\\n",
    "{0} & {0} & {0} & {0} & {0} & {1} & {0} & {0} \\\\\n",
    "{0} & {0} & {0} & {0} & {0} & {1} & {0} & {0} \\\\\n",
    "\\end{pmatrix}\n",
    "\\end{equation*}"
   ]
  },
  {
   "cell_type": "markdown",
   "metadata": {
    "deletable": false,
    "editable": false,
    "nbgrader": {
     "cell_type": "markdown",
     "checksum": "e72ed201864d7b27e5fa0c018caff380",
     "grade": false,
     "grade_id": "cell-b69ae986cb15eea6",
     "locked": true,
     "schema_version": 3,
     "solution": false,
     "task": false
    }
   },
   "source": [
    "2. Write the resulting adjancency matrix (in LaTeX markdown form), $\\mathcal{A}_u$,  if this were an undirected graph. (**1 pt**) "
   ]
  },
  {
   "cell_type": "markdown",
   "metadata": {
    "deletable": false,
    "nbgrader": {
     "cell_type": "markdown",
     "checksum": "683c903fe1f7c017d16b1c5413b19a29",
     "grade": true,
     "grade_id": "cell-9d4d69c335de5acb",
     "locked": false,
     "points": 1,
     "schema_version": 3,
     "solution": true,
     "task": false
    }
   },
   "source": [
    "\\begin{equation*}\n",
    "\\mathcal{A}_u = A_{m,n} = \n",
    "\\begin{pmatrix}\n",
    "{0} & {0} & {1} & {0} & {1} & {1} & {1} & {0} \\\\\n",
    "{0} & {0} & {1} & {0} & {0} & {0} & {0} & {0} \\\\\n",
    "{1} & {1} & {0} & {1} & {0} & {1} & {0} & {0} \\\\\n",
    "{0} & {0} & {1} & {0} & {0} & {0} & {0} & {0} \\\\\n",
    "{1} & {0} & {0} & {0} & {0} & {1} & {0} & {0} \\\\\n",
    "{1} & {0} & {1} & {0} & {1} & {0} & {1} & {1} \\\\\n",
    "{1} & {0} & {0} & {0} & {0} & {1} & {0} & {0} \\\\\n",
    "{0} & {0} & {0} & {0} & {0} & {1} & {0} & {0} \\\\\n",
    "\\end{pmatrix}\n",
    "\\end{equation*}"
   ]
  },
  {
   "cell_type": "markdown",
   "metadata": {
    "deletable": false,
    "editable": false,
    "nbgrader": {
     "cell_type": "markdown",
     "checksum": "b9f0d791369953308b802ca6fdd8f6d5",
     "grade": false,
     "grade_id": "cell-797e2a70686ff41b",
     "locked": true,
     "schema_version": 3,
     "solution": false,
     "task": false
    }
   },
   "source": [
    "3. Generalize the equation for obtaining the number of paths of length $p$ between all pairs of nodes in $\\mathcal{A}_u$ (undirected). Describe each variable/component in the equation. (**2 pts**)"
   ]
  },
  {
   "cell_type": "markdown",
   "metadata": {
    "deletable": false,
    "nbgrader": {
     "cell_type": "markdown",
     "checksum": "e2b1172f28a3e0c40cc475375ffe08a7",
     "grade": true,
     "grade_id": "cell-dcb9ea3500e2757e",
     "locked": false,
     "points": 2,
     "schema_version": 3,
     "solution": true,
     "task": false
    }
   },
   "source": [
    "\\begin{equation}\n",
    "N_{i j}^{(p)}=\\left[\\mathcal{A}_u^{p}\\right]_{i j}\n",
    "\\end{equation}\n",
    "Where:\n",
    "\n",
    "- $p$ - path length\n",
    "- $i$ = first node\n",
    "- $j$ = second node\n",
    "- $N$ = total number of nodes in an undirected graph"
   ]
  },
  {
   "cell_type": "markdown",
   "metadata": {
    "deletable": false,
    "editable": false,
    "nbgrader": {
     "cell_type": "markdown",
     "checksum": "abc159910b213fce22a6beb2ac431525",
     "grade": false,
     "grade_id": "cell-55c678aa3740dba3",
     "locked": true,
     "points": 2,
     "schema_version": 3,
     "solution": false,
     "task": true
    }
   },
   "source": [
    "4. Generate the resulting matrix that will tell us the number of paths of length 3 between any two nodes in $\\mathcal{A}_u$. You may either write in markdown your solution, but you must compute for the final matrix, or show it in code. (**2 pts**)"
   ]
  },
  {
   "cell_type": "code",
   "execution_count": 4,
   "metadata": {
    "ExecuteTime": {
     "end_time": "2021-03-16T06:15:18.136474Z",
     "start_time": "2021-03-16T06:15:18.126688Z"
    }
   },
   "outputs": [],
   "source": [
    "import numpy as np\n",
    "Au = [[0,0,1,0,1,1,1,0],\n",
    "     [0,0,1,0,0,0,0,0],\n",
    "     [1,1,0,1,0,1,0,0],\n",
    "     [0,0,1,0,0,0,0,0],\n",
    "     [1,0,0,0,0,1,0,0],\n",
    "     [1,0,1,0,1,0,1,1],\n",
    "     [1,0,0,0,0,1,0,0],\n",
    "     [0,0,0,0,0,1,0,0]]\n"
   ]
  },
  {
   "cell_type": "code",
   "execution_count": 17,
   "metadata": {
    "ExecuteTime": {
     "end_time": "2021-03-16T06:20:33.374955Z",
     "start_time": "2021-03-16T06:20:33.367357Z"
    }
   },
   "outputs": [
    {
     "name": "stdout",
     "output_type": "stream",
     "text": [
      "The resulting matrix for path length = 3 is: \n",
      "\n",
      " [[ 6  1  9  1  7  8  7  3]\n",
      " [ 1  0  4  0  2  1  2  1]\n",
      " [ 9  4  2  4  2 10  2  1]\n",
      " [ 1  0  4  0  2  1  2  1]\n",
      " [ 7  2  2  2  2  8  2  1]\n",
      " [ 8  1 10  1  8  6  8  5]\n",
      " [ 7  2  2  2  2  8  2  1]\n",
      " [ 3  1  1  1  1  5  1  0]]\n"
     ]
    }
   ],
   "source": [
    "print('The resulting matrix for path length = 3 is: \\n\\n', \n",
    "      np.linalg.matrix_power(Au, 3))"
   ]
  },
  {
   "cell_type": "markdown",
   "metadata": {
    "deletable": false,
    "editable": false,
    "nbgrader": {
     "cell_type": "markdown",
     "checksum": "5212291130b032ef0b078777eb853e7e",
     "grade": false,
     "grade_id": "cell-5cbff6afbd02ed57",
     "locked": true,
     "schema_version": 3,
     "solution": false,
     "task": false
    }
   },
   "source": [
    "## B. Generative Algorithms (**6 pts**)\n",
    "\n",
    "5. Choose one from the three generative algorithms in the most recent assignment. "
   ]
  },
  {
   "cell_type": "markdown",
   "metadata": {
    "deletable": false,
    "editable": false,
    "nbgrader": {
     "cell_type": "markdown",
     "checksum": "22fb4a2f39c5d18c3c688d9f5b9e8ff3",
     "grade": false,
     "grade_id": "cell-d5c93a2f4e1ac4f6",
     "locked": true,
     "schema_version": 3,
     "solution": false,
     "task": false
    }
   },
   "source": [
    "(a) Describe the algorithm. (**2 pts**) "
   ]
  },
  {
   "cell_type": "markdown",
   "metadata": {
    "deletable": false,
    "nbgrader": {
     "cell_type": "markdown",
     "checksum": "6f6fd4de4c1efe12f4ce69629281d8b9",
     "grade": true,
     "grade_id": "cell-9978a7f7491ce2e1",
     "locked": false,
     "points": 2,
     "schema_version": 3,
     "solution": true,
     "task": false
    }
   },
   "source": [
    "In the hidden parameter model, the network to be worked on already has a predefined average $P_k$.\n",
    "In creating the hidden parameter model:\n",
    "1. Start by $N$ isolated nodes.\n",
    "2. Attach to each node a hidden parameter that can come from $p(n)$ distribution or is provided by a certain sequence {$η_i$}\n",
    "3. Draw the networks after connecting the nodes, representing realizations generated by the same hidden parameter sequence."
   ]
  },
  {
   "cell_type": "markdown",
   "metadata": {
    "deletable": false,
    "editable": false,
    "nbgrader": {
     "cell_type": "markdown",
     "checksum": "077c9b9fcd6aa35b06e3fba82702f9bc",
     "grade": false,
     "grade_id": "cell-4b44a398b4e0b569",
     "locked": true,
     "schema_version": 3,
     "solution": false,
     "task": false
    }
   },
   "source": [
    "(b) What is the advantage of using your chosen network model? (**2 pts**) "
   ]
  },
  {
   "cell_type": "markdown",
   "metadata": {
    "deletable": false,
    "nbgrader": {
     "cell_type": "markdown",
     "checksum": "cc94130a3ed492a59f1475e1f6c6a4b5",
     "grade": true,
     "grade_id": "cell-927d41ebb7dd7276",
     "locked": false,
     "points": 2,
     "schema_version": 3,
     "solution": true,
     "task": false
    }
   },
   "source": [
    "In a configuration model, nodes are presented with \"stubs\" that should be connected to other nodes and the resulting topology has different permutations based on these stubs. However, there  is a big possibility that these nodes can connect to themselves, aka \"self-links\". The hidden parameter model, though it somehow works the same way as the configuration model, instead of connecting nodes via stub assignment, it connects nodes via an expected degree described by:\n",
    "\n",
    "\\begin{equation}\n",
    "p_{ij} = \\frac{\\eta_i \\eta_j}{\\sum_k \\eta_k}\n",
    "\\end{equation}\n",
    "\n",
    "where:\n",
    "- $i$, $j$ are nodes\n",
    "- $eta$ is the assigned probability to connect to the other node, aka \"hidden parameter\", and\n",
    "- $k$ is the number of nodes.\n",
    "\n",
    "So the connections are based on probabilities based from the hidden parameter."
   ]
  },
  {
   "cell_type": "markdown",
   "metadata": {
    "deletable": false,
    "editable": false,
    "nbgrader": {
     "cell_type": "markdown",
     "checksum": "ea300baa7e25c7859351d5fd9eec063f",
     "grade": false,
     "grade_id": "cell-20e6780eb617169c",
     "locked": true,
     "schema_version": 3,
     "solution": false,
     "task": false
    }
   },
   "source": [
    "(c) When is it most useful? Cite an example. (**2 pts**) "
   ]
  },
  {
   "cell_type": "markdown",
   "metadata": {
    "deletable": false,
    "nbgrader": {
     "cell_type": "markdown",
     "checksum": "27a79146bb8cc8bca34afe8c17e7be68",
     "grade": true,
     "grade_id": "cell-5694014605f251ad",
     "locked": false,
     "points": 2,
     "schema_version": 3,
     "solution": true,
     "task": false
    }
   },
   "source": [
    "It is useful for law enforcement when tracking down a certain criminal or a terrorist. Law officials can find possible links of criminals to less obvious people in the network and this can be used to trace where the criminal is hiding, as in the case of Bin Laden."
   ]
  },
  {
   "cell_type": "markdown",
   "metadata": {},
   "source": [
    "## C. Network Models (**12 pts**)"
   ]
  },
  {
   "cell_type": "markdown",
   "metadata": {
    "deletable": false,
    "editable": false,
    "nbgrader": {
     "cell_type": "markdown",
     "checksum": "a034c4c1f2ae575627933fbcf8109f81",
     "grade": false,
     "grade_id": "cell-32ba3ba0b7c7201f",
     "locked": true,
     "schema_version": 3,
     "solution": false,
     "task": false
    }
   },
   "source": [
    "6. Provide and explain the expressions for the probability distribution $P(L)$, average number of links $<L>$ and mean degree $<k>$ of an undirected network generated using Erdös and Renyi’s (ER) model with $N$ nodes. (**6 pts**) If you are going to use additional variables, make sure they are properly defined. You may write the equations in LaTeX in the markdown cell below."
   ]
  },
  {
   "cell_type": "markdown",
   "metadata": {
    "deletable": false,
    "nbgrader": {
     "cell_type": "markdown",
     "checksum": "508c166ae98e9a1e3949577d0763b41a",
     "grade": true,
     "grade_id": "cell-13537e5198e4d070",
     "locked": false,
     "points": 6,
     "schema_version": 3,
     "solution": true,
     "task": false
    }
   },
   "source": [
    "\n",
    "\n",
    "\\begin{equation}\n",
    "P(L)=\\left(\\begin{array}{c}\n",
    "\\left(\\begin{array}{c}\n",
    "N \\\\\n",
    "2\n",
    "\\end{array}\\right) \\\\\n",
    "L\n",
    "\\end{array}\\right) p^{L}(1-p)^{\\frac{N(N-1)}{2}-L}\n",
    "\\end{equation}\n",
    "\n",
    "P is the probability of node connection.   \n",
    "L is number of links. \n",
    "N is the total number of nodes.\n",
    "\n",
    "For values with bigger nodes:\n",
    "\n",
    "\\begin{equation}\n",
    "p(l)=\\exp ^{-<k>} \\frac{<k>^{k}}{k !}\n",
    "\\end{equation}"
   ]
  },
  {
   "cell_type": "markdown",
   "metadata": {
    "deletable": false,
    "editable": false,
    "nbgrader": {
     "cell_type": "markdown",
     "checksum": "4e85fa9714d48f27aeaf60ebae336158",
     "grade": false,
     "grade_id": "cell-fa7f3eaeaf5225e5",
     "locked": true,
     "schema_version": 3,
     "solution": false,
     "task": false
    }
   },
   "source": [
    "7. Why did Watts and Strogatz (WS) come up with a new network model? (**2 pts**) "
   ]
  },
  {
   "cell_type": "markdown",
   "metadata": {
    "deletable": false,
    "nbgrader": {
     "cell_type": "markdown",
     "checksum": "03dc9cf27ca23f21d9ffe479a784179e",
     "grade": true,
     "grade_id": "cell-1aa03ae43047b171",
     "locked": false,
     "points": 2,
     "schema_version": 3,
     "solution": true,
     "task": false
    }
   },
   "source": [
    "Watts and Strogatz observed that some real world networks exhibted properties not present in the random networks, such as having a high clustering coefficient."
   ]
  },
  {
   "cell_type": "markdown",
   "metadata": {
    "deletable": false,
    "editable": false,
    "nbgrader": {
     "cell_type": "markdown",
     "checksum": "430fcc2c8cf8246739b1f67f5712f361",
     "grade": false,
     "grade_id": "cell-4ac317557220ef51",
     "locked": true,
     "schema_version": 3,
     "solution": false,
     "task": false
    }
   },
   "source": [
    "Describe the WS model in terms of the network’s characteristic path length and the average clustering coefficient. (**2 pts**) "
   ]
  },
  {
   "cell_type": "markdown",
   "metadata": {
    "deletable": false,
    "nbgrader": {
     "cell_type": "markdown",
     "checksum": "9a424aa82fdaac915e38965794383533",
     "grade": true,
     "grade_id": "cell-3b8cc2c30f8a3589",
     "locked": false,
     "points": 2,
     "schema_version": 3,
     "solution": true,
     "task": false
    }
   },
   "source": [
    "It reconstructs the high clustering coefficients and short path lengths of real world networks in creating random networks."
   ]
  },
  {
   "cell_type": "markdown",
   "metadata": {
    "deletable": false,
    "editable": false,
    "nbgrader": {
     "cell_type": "markdown",
     "checksum": "68990359e458de58df9285422be2fbf9",
     "grade": false,
     "grade_id": "cell-4b2a6e42ea73e313",
     "locked": true,
     "schema_version": 3,
     "solution": false,
     "task": false
    }
   },
   "source": [
    "Illustrate how they proposed to generate the model. (**2 pts**)"
   ]
  },
  {
   "cell_type": "markdown",
   "metadata": {
    "deletable": false,
    "nbgrader": {
     "cell_type": "markdown",
     "checksum": "d6aceafa0b3ead15ca120039a15cb47c",
     "grade": true,
     "grade_id": "cell-c60d5af726bae1b9",
     "locked": false,
     "points": 2,
     "schema_version": 3,
     "solution": true,
     "task": false
    }
   },
   "source": [
    "WS begins with a regular network where each node is connected to $k$ other nodes in the network; i.e., all nodes have the same number of connections/neighbors. Then, with some probability $\\rho$, each existing link in the network is rewired. \n",
    "\n",
    "*taken from: Legara, Erika Fille. \"Complex Network Models.\" Network Science Lectures. GitHub repository. 2020.*"
   ]
  },
  {
   "cell_type": "markdown",
   "metadata": {
    "deletable": false,
    "editable": false,
    "nbgrader": {
     "cell_type": "markdown",
     "checksum": "21cdf114eda1e37b6ac649a749637fea",
     "grade": false,
     "grade_id": "cell-1f943e69f559699c",
     "locked": true,
     "schema_version": 3,
     "solution": false,
     "task": false
    }
   },
   "source": [
    "---\n",
    "\n",
    "## // End of Part I"
   ]
  }
 ],
 "metadata": {
  "kernelspec": {
   "display_name": "Python 3",
   "language": "python",
   "name": "python3"
  },
  "language_info": {
   "codemirror_mode": {
    "name": "ipython",
    "version": 3
   },
   "file_extension": ".py",
   "mimetype": "text/x-python",
   "name": "python",
   "nbconvert_exporter": "python",
   "pygments_lexer": "ipython3",
   "version": "3.8.6"
  }
 },
 "nbformat": 4,
 "nbformat_minor": 4
}
