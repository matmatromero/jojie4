{
 "cells": [
  {
   "cell_type": "code",
   "execution_count": 28,
   "id": "arctic-teens",
   "metadata": {
    "ExecuteTime": {
     "end_time": "2021-04-25T16:14:19.163889Z",
     "start_time": "2021-04-25T16:14:19.158742Z"
    }
   },
   "outputs": [],
   "source": [
    "grid = [[1,2],[1,1]]"
   ]
  },
  {
   "cell_type": "code",
   "execution_count": 29,
   "id": "natural-orlando",
   "metadata": {
    "ExecuteTime": {
     "end_time": "2021-04-25T16:14:20.825576Z",
     "start_time": "2021-04-25T16:14:20.817581Z"
    }
   },
   "outputs": [
    {
     "name": "stdout",
     "output_type": "stream",
     "text": [
      "3\n",
      "1\n"
     ]
    }
   ],
   "source": [
    "for i in range(len(grid)):\n",
    "    if i==0:\n",
    "        print(sum(grid[0]))\n",
    "    else:\n",
    "        print(grid[i][len(grid[1])-1])"
   ]
  },
  {
   "cell_type": "code",
   "execution_count": 24,
   "id": "inclusive-stability",
   "metadata": {
    "ExecuteTime": {
     "end_time": "2021-04-25T16:11:42.676219Z",
     "start_time": "2021-04-25T16:11:42.667191Z"
    }
   },
   "outputs": [
    {
     "data": {
      "text/plain": [
       "7"
      ]
     },
     "execution_count": 24,
     "metadata": {},
     "output_type": "execute_result"
    }
   ],
   "source": [
    "sum([sum(grid[0]) if i==0 else grid[0][len(grid[1])-1] for i in range(len(grid))])"
   ]
  },
  {
   "cell_type": "code",
   "execution_count": 19,
   "id": "prescribed-blond",
   "metadata": {
    "ExecuteTime": {
     "end_time": "2021-04-25T16:09:53.862562Z",
     "start_time": "2021-04-25T16:09:53.855182Z"
    }
   },
   "outputs": [
    {
     "data": {
      "text/plain": [
       "1"
      ]
     },
     "execution_count": 19,
     "metadata": {},
     "output_type": "execute_result"
    }
   ],
   "source": [
    "grid[1][len(grid[1])-1]"
   ]
  }
 ],
 "metadata": {
  "kernelspec": {
   "display_name": "Python 3",
   "language": "python",
   "name": "python3"
  },
  "language_info": {
   "codemirror_mode": {
    "name": "ipython",
    "version": 3
   },
   "file_extension": ".py",
   "mimetype": "text/x-python",
   "name": "python",
   "nbconvert_exporter": "python",
   "pygments_lexer": "ipython3",
   "version": "3.8.8"
  }
 },
 "nbformat": 4,
 "nbformat_minor": 5
}
