{
 "cells": [
  {
   "cell_type": "code",
   "execution_count": 1,
   "metadata": {
    "ExecuteTime": {
     "end_time": "2021-04-26T04:58:49.859872Z",
     "start_time": "2021-04-26T04:58:49.335368Z"
    },
    "deletable": false,
    "editable": false,
    "nbgrader": {
     "cell_type": "code",
     "checksum": "0d9ec0129192cae97e88537b4f0ffee9",
     "grade": false,
     "grade_id": "cell-e4f02c85b06e3294",
     "locked": true,
     "schema_version": 3,
     "solution": false,
     "task": false
    }
   },
   "outputs": [],
   "source": [
    "from numpy.testing import assert_equal"
   ]
  },
  {
   "cell_type": "markdown",
   "metadata": {
    "deletable": false,
    "editable": false,
    "nbgrader": {
     "cell_type": "markdown",
     "checksum": "9cf9bf800f9be7c705b6e0d35f8289cb",
     "grade": false,
     "grade_id": "cell-d4c95f868f67dcc1",
     "locked": true,
     "schema_version": 3,
     "solution": false,
     "task": false
    }
   },
   "source": [
    "## Problem 1\n",
    "Write a Python function that will count from 1 to an integer `n` (inclusive). For each count, print the counter value and a message separated by a single space. If the counter is even, the message should be `fizz`, `fuzz` if divisible by 3 and `foo` (only) if divisible by 6."
   ]
  },
  {
   "cell_type": "code",
   "execution_count": null,
   "metadata": {
    "ExecuteTime": {
     "end_time": "2021-04-25T09:40:54.339194Z",
     "start_time": "2021-04-25T09:40:54.328618Z"
    },
    "deletable": false,
    "nbgrader": {
     "cell_type": "code",
     "checksum": "ecefc435be09963f9f9b87af389a0a40",
     "grade": false,
     "grade_id": "cell-0e7266cd03645e41",
     "locked": false,
     "schema_version": 3,
     "solution": true,
     "task": false
    }
   },
   "outputs": [],
   "source": [
    "def count_and_print(n):\n",
    "    \"\"\"Count from 1 to n whilst displaying a message\n",
    "    \n",
    "    Count from 1 to an integer n (inclusive). For each count, print the \n",
    "    counter value and a message separated by a single space. If the counter is\n",
    "    even, the message should be `fizz`, `fuzz` if divisible by 3 and `foo` \n",
    "    (only) if divisible by 6.\n",
    "    \n",
    "    Parameters\n",
    "    ----------\n",
    "    n : integer\n",
    "        Count up to this number (inclusive)\n",
    "        \n",
    "    Examples\n",
    "    --------\n",
    "    >>> count_and_print(12)\n",
    "    1\n",
    "    2 fizz\n",
    "    3 fuzz\n",
    "    4 fizz\n",
    "    5\n",
    "    6 foo\n",
    "    7 \n",
    "    8 fizz\n",
    "    9 fuzz\n",
    "    10 fizz\n",
    "    11\n",
    "    12 foo\n",
    "\n",
    "    \"\"\"\n",
    "    # YOUR CODE HERE\n",
    "    raise NotImplementedError()"
   ]
  },
  {
   "cell_type": "code",
   "execution_count": null,
   "metadata": {
    "ExecuteTime": {
     "end_time": "2021-04-25T09:40:55.408234Z",
     "start_time": "2021-04-25T09:40:55.399293Z"
    },
    "deletable": false,
    "editable": false,
    "nbgrader": {
     "cell_type": "code",
     "checksum": "ede2edc6e358b01ab0042e70ee86305e",
     "grade": false,
     "grade_id": "cell-37a2da1c4a8fb49b",
     "locked": true,
     "schema_version": 3,
     "solution": false,
     "task": false
    }
   },
   "outputs": [],
   "source": [
    "%%capture out1\n",
    "count_and_print(12)"
   ]
  },
  {
   "cell_type": "code",
   "execution_count": null,
   "metadata": {
    "ExecuteTime": {
     "end_time": "2021-04-25T09:40:55.731766Z",
     "start_time": "2021-04-25T09:40:55.723847Z"
    },
    "deletable": false,
    "editable": false,
    "nbgrader": {
     "cell_type": "code",
     "checksum": "4d3c96c2169e487063325acf63325229",
     "grade": false,
     "grade_id": "cell-b785f475c6ff0545",
     "locked": true,
     "schema_version": 3,
     "solution": false,
     "task": false
    }
   },
   "outputs": [],
   "source": [
    "%%capture out2\n",
    "count_and_print(18)"
   ]
  },
  {
   "cell_type": "code",
   "execution_count": null,
   "metadata": {
    "ExecuteTime": {
     "end_time": "2021-04-25T09:40:56.825141Z",
     "start_time": "2021-04-25T09:40:56.817226Z"
    },
    "deletable": false,
    "editable": false,
    "nbgrader": {
     "cell_type": "code",
     "checksum": "bcc010be0cdc027af114a7b377cfe769",
     "grade": true,
     "grade_id": "cell-5e68bd9f3673ce01",
     "locked": true,
     "points": 1,
     "schema_version": 3,
     "solution": false,
     "task": false
    }
   },
   "outputs": [],
   "source": [
    "assert_equal(\n",
    "    out1.stdout,\n",
    "    '1\\n'\n",
    "    '2 fizz\\n'\n",
    "    '3 fuzz\\n'\n",
    "    '4 fizz\\n'\n",
    "    '5\\n'\n",
    "    '6 foo\\n'\n",
    "    '7\\n'\n",
    "    '8 fizz\\n'\n",
    "    '9 fuzz\\n'\n",
    "    '10 fizz\\n'\n",
    "    '11\\n'\n",
    "    '12 foo\\n')\n",
    "assert_equal(\n",
    "    out2.stdout,\n",
    "    '1\\n'\n",
    "    '2 fizz\\n'\n",
    "    '3 fuzz\\n'\n",
    "    '4 fizz\\n'\n",
    "    '5\\n'\n",
    "    '6 foo\\n'\n",
    "    '7\\n'\n",
    "    '8 fizz\\n'\n",
    "    '9 fuzz\\n'\n",
    "    '10 fizz\\n'\n",
    "    '11\\n'\n",
    "    '12 foo\\n'\n",
    "    '13\\n'\n",
    "    '14 fizz\\n'\n",
    "    '15 fuzz\\n'\n",
    "    '16 fizz\\n'\n",
    "    '17\\n'\n",
    "    '18 foo\\n'\n",
    ")"
   ]
  },
  {
   "cell_type": "markdown",
   "metadata": {
    "deletable": false,
    "editable": false,
    "nbgrader": {
     "cell_type": "markdown",
     "checksum": "4dc3afaee94716ce7f97ac1fb3134d08",
     "grade": false,
     "grade_id": "cell-903eac2c5b454fbb",
     "locked": true,
     "schema_version": 3,
     "solution": false,
     "task": false
    }
   },
   "source": [
    "## Problem 2\n",
    "Write a function `overlap_interval` that accepts parameters `start1`, `end1`, `start2` and `end2` corresponding to the endpoints of two numeric intervals. It should print the endpoints of their overlaps or print the message `No overlap!` if they don't overlap."
   ]
  },
  {
   "cell_type": "code",
   "execution_count": null,
   "metadata": {
    "ExecuteTime": {
     "end_time": "2021-04-25T09:58:01.324381Z",
     "start_time": "2021-04-25T09:58:01.317320Z"
    },
    "deletable": false,
    "nbgrader": {
     "cell_type": "code",
     "checksum": "2bc081644dd79e3c0214329bb30cf7b7",
     "grade": false,
     "grade_id": "cell-c3a64bdf8b11fb95",
     "locked": false,
     "schema_version": 3,
     "solution": true,
     "task": false
    }
   },
   "outputs": [],
   "source": [
    "# YOUR CODE HERE\n",
    "raise NotImplementedError()"
   ]
  },
  {
   "cell_type": "code",
   "execution_count": null,
   "metadata": {
    "ExecuteTime": {
     "end_time": "2021-04-25T10:12:34.644266Z",
     "start_time": "2021-04-25T10:12:34.636194Z"
    },
    "deletable": false,
    "editable": false,
    "nbgrader": {
     "cell_type": "code",
     "checksum": "403a96041eed3606317a0d0fcd687270",
     "grade": false,
     "grade_id": "cell-f7943135ba303d98",
     "locked": true,
     "schema_version": 3,
     "solution": false,
     "task": false
    }
   },
   "outputs": [],
   "source": [
    "%%capture out1\n",
    "overlap_interval(-5, 10, 5, 12)"
   ]
  },
  {
   "cell_type": "code",
   "execution_count": null,
   "metadata": {
    "ExecuteTime": {
     "end_time": "2021-04-25T10:12:34.750189Z",
     "start_time": "2021-04-25T10:12:34.737078Z"
    },
    "deletable": false,
    "editable": false,
    "nbgrader": {
     "cell_type": "code",
     "checksum": "e86ae8fb76ece509e5b678b0159de608",
     "grade": false,
     "grade_id": "cell-072a843bf8db68c1",
     "locked": true,
     "schema_version": 3,
     "solution": false,
     "task": false
    }
   },
   "outputs": [],
   "source": [
    "%%capture out2\n",
    "overlap_interval(-5, 10, 11, 12)"
   ]
  },
  {
   "cell_type": "code",
   "execution_count": null,
   "metadata": {
    "ExecuteTime": {
     "end_time": "2021-04-25T10:12:34.761150Z",
     "start_time": "2021-04-25T10:12:34.754651Z"
    },
    "deletable": false,
    "editable": false,
    "nbgrader": {
     "cell_type": "code",
     "checksum": "7dff741fa7f2efff2a4fe0b88abc1d74",
     "grade": false,
     "grade_id": "cell-207a4156bd807034",
     "locked": true,
     "schema_version": 3,
     "solution": false,
     "task": false
    }
   },
   "outputs": [],
   "source": [
    "%%capture out3\n",
    "overlap_interval(-5, 10, -10, 12)"
   ]
  },
  {
   "cell_type": "code",
   "execution_count": null,
   "metadata": {
    "ExecuteTime": {
     "end_time": "2021-04-25T10:12:34.771025Z",
     "start_time": "2021-04-25T10:12:34.764519Z"
    },
    "deletable": false,
    "editable": false,
    "nbgrader": {
     "cell_type": "code",
     "checksum": "e2b6c44080690bde610e71a15e5896ab",
     "grade": false,
     "grade_id": "cell-226e5174810b940b",
     "locked": true,
     "schema_version": 3,
     "solution": false,
     "task": false
    }
   },
   "outputs": [],
   "source": [
    "%%capture out4\n",
    "overlap_interval(5, 8, -10, 12)"
   ]
  },
  {
   "cell_type": "code",
   "execution_count": null,
   "metadata": {
    "ExecuteTime": {
     "end_time": "2021-04-25T10:12:35.411940Z",
     "start_time": "2021-04-25T10:12:35.403743Z"
    },
    "deletable": false,
    "editable": false,
    "nbgrader": {
     "cell_type": "code",
     "checksum": "d4800031090fb04cc95e6d92fb6a100b",
     "grade": false,
     "grade_id": "cell-fae69e2fa2369ecd",
     "locked": true,
     "schema_version": 3,
     "solution": false,
     "task": false
    }
   },
   "outputs": [],
   "source": [
    "%%capture out5\n",
    "overlap_interval(-12, 12, 8, 10)"
   ]
  },
  {
   "cell_type": "code",
   "execution_count": null,
   "metadata": {
    "ExecuteTime": {
     "end_time": "2021-04-25T10:15:10.100757Z",
     "start_time": "2021-04-25T10:15:10.092447Z"
    },
    "deletable": false,
    "editable": false,
    "nbgrader": {
     "cell_type": "code",
     "checksum": "94d713ed52b2965442cf677b5b39b13a",
     "grade": true,
     "grade_id": "cell-7812ed25101d9ddf",
     "locked": true,
     "points": 1,
     "schema_version": 3,
     "solution": false,
     "task": false
    }
   },
   "outputs": [],
   "source": [
    "assert_equal(out1.stdout, '5 10\\n')\n",
    "assert_equal(out2.stdout, 'No overlap!\\n')\n",
    "assert_equal(out3.stdout, '-5 10\\n')"
   ]
  },
  {
   "cell_type": "markdown",
   "metadata": {
    "deletable": false,
    "editable": false,
    "nbgrader": {
     "cell_type": "markdown",
     "checksum": "ca3a684fe747dac026f65cfd6d6dde11",
     "grade": false,
     "grade_id": "cell-f48c96b5391c5707",
     "locked": true,
     "schema_version": 3,
     "solution": false,
     "task": false
    }
   },
   "source": [
    "## Problem 3\n",
    "Write a function that returns the cosine of an input (in radians) using [Maclaurin's approximation](https://en.wikibooks.org/wiki/Trigonometry/Power_Series_for_Cosine_and_Sine). It should use a `while` loop to compute terms of the summation until the last term is smaller than $10^{-15}$."
   ]
  },
  {
   "cell_type": "code",
   "execution_count": null,
   "metadata": {
    "ExecuteTime": {
     "end_time": "2020-03-08T07:15:49.477067Z",
     "start_time": "2020-03-08T07:15:49.465169Z"
    },
    "deletable": false,
    "nbgrader": {
     "cell_type": "code",
     "checksum": "eacca731db1fbff79c67dd7c4fa03c4c",
     "grade": true,
     "grade_id": "cell-54183911ca9ecc32",
     "locked": false,
     "points": 1,
     "schema_version": 3,
     "solution": true
    }
   },
   "outputs": [],
   "source": [
    "def cosine(theta):\n",
    "    \"\"\"Return cosine of theta using Maclaurin's approximation\n",
    "    \n",
    "    Parameters\n",
    "    ----------\n",
    "    theta : float\n",
    "        Value to compute cosine of, in radians\n",
    "        \n",
    "    Returns\n",
    "    -------\n",
    "    cos_theta : float\n",
    "        Cosine of theta\n",
    "    \"\"\"\n",
    "    # YOUR CODE HERE\n",
    "    raise NotImplementedError()"
   ]
  },
  {
   "cell_type": "markdown",
   "metadata": {
    "deletable": false,
    "editable": false,
    "nbgrader": {
     "cell_type": "markdown",
     "checksum": "fb5fcb90b50d4f9ffd1dd972d7f4c577",
     "grade": false,
     "grade_id": "cell-ab2615b13e9eb92e",
     "locked": true,
     "schema_version": 3,
     "solution": false,
     "task": false
    }
   },
   "source": [
    "## Problem 4\n",
    "The greatest common divisor (GCD) of $a$ and $b$ is the largest number that divides both of them with no remainder.\n",
    "\n",
    "One way to find the GCD of two numbers is based on the observation that if $r$ is the remainder when $a$ is divided by $b$, then $gcd(a, b) = gcd(b, r)$. As a base case, we can use $gcd(a, 0) = a$.\n",
    "\n",
    "Write a function called `gcd` that takes parameters `a` and `b` and returns their greatest common divisor."
   ]
  },
  {
   "cell_type": "code",
   "execution_count": null,
   "metadata": {
    "ExecuteTime": {
     "end_time": "2020-03-08T07:22:28.223426Z",
     "start_time": "2020-03-08T07:22:28.215156Z"
    },
    "deletable": false,
    "nbgrader": {
     "cell_type": "code",
     "checksum": "fcb032f27d0c2f9fba7c6e82d8da0678",
     "grade": false,
     "grade_id": "cell-c29ca12ec75789d2",
     "locked": false,
     "schema_version": 3,
     "solution": true,
     "task": false
    }
   },
   "outputs": [],
   "source": [
    "# YOUR CODE HERE\n",
    "raise NotImplementedError()"
   ]
  },
  {
   "cell_type": "code",
   "execution_count": null,
   "metadata": {
    "ExecuteTime": {
     "end_time": "2020-03-08T07:22:28.394236Z",
     "start_time": "2020-03-08T07:22:28.387848Z"
    },
    "deletable": false,
    "editable": false,
    "nbgrader": {
     "cell_type": "code",
     "checksum": "3f1fe59dd9491364ea0a97d26361da37",
     "grade": true,
     "grade_id": "cell-2f070dd683636894",
     "locked": true,
     "points": 1,
     "schema_version": 3,
     "solution": false,
     "task": false
    }
   },
   "outputs": [],
   "source": [
    "assert_equal(gcd(4, 2), 2)\n",
    "assert_equal(gcd(2, 4), 2)\n",
    "assert_equal(gcd(13, 5), 1)\n",
    "assert_equal(gcd(20, 24), 4)"
   ]
  },
  {
   "cell_type": "markdown",
   "metadata": {
    "deletable": false,
    "editable": false,
    "nbgrader": {
     "cell_type": "markdown",
     "checksum": "6383882b46200675de2333e716c70f73",
     "grade": false,
     "grade_id": "cell-96ed00aa3d32f221",
     "locked": true,
     "schema_version": 3,
     "solution": false,
     "task": false
    }
   },
   "source": [
    "## Problem 5\n",
    "Write a function `biased_sum` that returns the sum of positive integers passed to it but numbers that are multiples of the `base` are doubled before being added. By default, `base` is 2. Return `None` if there are no numbers passed to it."
   ]
  },
  {
   "cell_type": "code",
   "execution_count": null,
   "metadata": {
    "ExecuteTime": {
     "end_time": "2021-04-25T17:56:33.642944Z",
     "start_time": "2021-04-25T17:56:33.635962Z"
    },
    "deletable": false,
    "nbgrader": {
     "cell_type": "code",
     "checksum": "30c8c9b9750b9fa0adddef07063e3bbc",
     "grade": false,
     "grade_id": "cell-6295767c33976fea",
     "locked": false,
     "schema_version": 3,
     "solution": true,
     "task": false
    }
   },
   "outputs": [],
   "source": [
    "# YOUR CODE HERE\n",
    "raise NotImplementedError()"
   ]
  },
  {
   "cell_type": "code",
   "execution_count": null,
   "metadata": {
    "ExecuteTime": {
     "end_time": "2021-04-25T17:56:34.059493Z",
     "start_time": "2021-04-25T17:56:34.049063Z"
    },
    "deletable": false,
    "editable": false,
    "nbgrader": {
     "cell_type": "code",
     "checksum": "9ad50c0565cdb4e34cc9e293b804e33c",
     "grade": true,
     "grade_id": "cell-269f051cdd06af87",
     "locked": true,
     "points": 1,
     "schema_version": 3,
     "solution": false,
     "task": false
    }
   },
   "outputs": [],
   "source": [
    "assert_equal(biased_sum(1, 2, 3), 8)\n",
    "assert_equal(biased_sum(1, 2, 3, 4, 5, 6, 3), 36)\n",
    "assert_equal(biased_sum(1, 2, 3, 4, 5, 6, base=3), 30)"
   ]
  },
  {
   "cell_type": "markdown",
   "metadata": {
    "deletable": false,
    "editable": false,
    "nbgrader": {
     "cell_type": "markdown",
     "checksum": "ec86d93f2b193e01a5a935bac9802a95",
     "grade": false,
     "grade_id": "cell-63aba3f8ba2b99ce",
     "locked": true,
     "schema_version": 3,
     "solution": false,
     "task": false
    }
   },
   "source": [
    "## Problem 6\n",
    "Write a function `last_in_sequence` that accepts a string of digits, which can have a repeating sequence of 0 to 9 in it but may have intervening digits between them. The function should return the last digit in the sequence found in the string. It should return `None` if there is no such sequence in the string.\n",
    "\n",
    "Examples:\n",
    "* **0**9**12**251**3**2**4**21 $\\rightarrow$ 4\n",
    "* 1**0**9**12**251**3**2**4**21 $\\rightarrow$ 4\n",
    "* **012345678901234** $\\rightarrow$ 4\n",
    "* 1912251324 $\\rightarrow$ `None`"
   ]
  },
  {
   "cell_type": "code",
   "execution_count": null,
   "metadata": {
    "ExecuteTime": {
     "end_time": "2021-04-25T18:53:10.731851Z",
     "start_time": "2021-04-25T18:53:10.723024Z"
    },
    "deletable": false,
    "nbgrader": {
     "cell_type": "code",
     "checksum": "29d7e970a1d7719ba7231cf36acec94b",
     "grade": false,
     "grade_id": "cell-f26b1b122b693409",
     "locked": false,
     "schema_version": 3,
     "solution": true,
     "task": false
    }
   },
   "outputs": [],
   "source": [
    "# YOUR CODE HERE\n",
    "raise NotImplementedError()"
   ]
  },
  {
   "cell_type": "code",
   "execution_count": null,
   "metadata": {
    "ExecuteTime": {
     "end_time": "2021-04-25T18:53:11.068813Z",
     "start_time": "2021-04-25T18:53:11.060450Z"
    },
    "deletable": false,
    "editable": false,
    "nbgrader": {
     "cell_type": "code",
     "checksum": "e623d0818abfc2fc5aa62bf4ca4e8cc5",
     "grade": true,
     "grade_id": "cell-19149d85bde88dea",
     "locked": true,
     "points": 1,
     "schema_version": 3,
     "solution": false,
     "task": false
    }
   },
   "outputs": [],
   "source": [
    "assert_equal(last_in_sequence('0912251324'), 4)\n",
    "assert_equal(last_in_sequence('10912251324'), 4)\n",
    "assert_equal(last_in_sequence('012345678901234'), 4)\n",
    "assert_equal(last_in_sequence('1912251324'), None)"
   ]
  },
  {
   "cell_type": "markdown",
   "metadata": {
    "deletable": false,
    "editable": false,
    "nbgrader": {
     "cell_type": "markdown",
     "checksum": "deb1d34b0eae9444fa556f370f99fb04",
     "grade": false,
     "grade_id": "cell-72ec79d24b33cf46",
     "locked": true,
     "schema_version": 3,
     "solution": false,
     "task": false
    }
   },
   "source": [
    "## Problem 7\n",
    "Write a function `check_password` that returns `True` if the input password satisfies the following criteria:\n",
    "\n",
    "* at least 8 characters in length\n",
    "* contains at least one lowercase letter\n",
    "* contains at least one uppercase letter\n",
    "* contains at least one number\n",
    "\n",
    "It should return `False` if at least one of the criteria is not satisfied."
   ]
  },
  {
   "cell_type": "code",
   "execution_count": 24,
   "metadata": {
    "ExecuteTime": {
     "end_time": "2021-04-26T05:17:40.685808Z",
     "start_time": "2021-04-26T05:17:40.678356Z"
    }
   },
   "outputs": [],
   "source": [
    "def check_password(password):\n",
    "    if (any(x.isupper() for x in password) and \n",
    "        any(x.islower() for x in password) and \n",
    "        any(x.isdigit() for x in password) and \n",
    "        len(password)>=8):\n",
    "        return True\n",
    "    else:\n",
    "        return False"
   ]
  },
  {
   "cell_type": "code",
   "execution_count": 25,
   "metadata": {
    "ExecuteTime": {
     "end_time": "2021-04-26T05:17:48.167978Z",
     "start_time": "2021-04-26T05:17:48.160788Z"
    }
   },
   "outputs": [
    {
     "data": {
      "text/plain": [
       "True"
      ]
     },
     "execution_count": 25,
     "metadata": {},
     "output_type": "execute_result"
    }
   ],
   "source": [
    "check_password('abC12345')"
   ]
  },
  {
   "cell_type": "code",
   "execution_count": 11,
   "metadata": {
    "ExecuteTime": {
     "end_time": "2021-04-26T05:11:04.017272Z",
     "start_time": "2021-04-26T05:11:03.996380Z"
    }
   },
   "outputs": [
    {
     "data": {
      "text/plain": [
       "False"
      ]
     },
     "execution_count": 11,
     "metadata": {},
     "output_type": "execute_result"
    }
   ],
   "source": [
    "'password'.isupper()"
   ]
  },
  {
   "cell_type": "code",
   "execution_count": 5,
   "metadata": {
    "ExecuteTime": {
     "end_time": "2021-04-26T02:31:24.267754Z",
     "start_time": "2021-04-26T02:31:24.260826Z"
    },
    "deletable": false,
    "nbgrader": {
     "cell_type": "code",
     "checksum": "bee32c8906dc8bb78764f8df2fd9f8d8",
     "grade": false,
     "grade_id": "cell-a72d390a2aa6048b",
     "locked": false,
     "schema_version": 3,
     "solution": true,
     "task": false
    }
   },
   "outputs": [],
   "source": [
    "def check_password(password):\n",
    "    # YOUR CODE HERE\n",
    "    import string\n",
    "\n",
    "    numlist = [str(i) for i in range(0,10)]\n",
    "    lower = string.ascii_lowercase\n",
    "    upper = string.ascii_uppercase\n",
    "    alpha_lower = list(lower)\n",
    "    alpha_upper = list(upper)\n",
    "    sort_pass = []\n",
    "\n",
    "    if len(password) < 8:\n",
    "        return False \n",
    "    else:\n",
    "        pass\n",
    "\n",
    "    for i in password:       \n",
    "        sort_pass.append(i)\n",
    "        sort_pass.sort()\n",
    "\n",
    "    num = []\n",
    "    upper2 = []\n",
    "    lower2 = []\n",
    "    for i in sort_pass:\n",
    "   \n",
    "        if i in numlist:\n",
    "            num.append(i)\n",
    "        elif i in alpha_upper:\n",
    "            upper2.append(i)\n",
    "        elif i in alpha_lower:\n",
    "            lower2.append(i)\n",
    "  \n",
    "    if len(num) == 0 or len(upper2) == 0 or len(lower2) == 0:\n",
    "        return False\n",
    "    else:\n",
    "        return True\n"
   ]
  },
  {
   "cell_type": "code",
   "execution_count": null,
   "metadata": {},
   "outputs": [],
   "source": []
  },
  {
   "cell_type": "code",
   "execution_count": 26,
   "metadata": {
    "ExecuteTime": {
     "end_time": "2021-04-26T05:17:51.395040Z",
     "start_time": "2021-04-26T05:17:51.387590Z"
    },
    "deletable": false,
    "editable": false,
    "nbgrader": {
     "cell_type": "code",
     "checksum": "e84e9e18fc58d1603c11714a407247ff",
     "grade": true,
     "grade_id": "cell-b8041b3660eec0bd",
     "locked": true,
     "points": 1,
     "schema_version": 3,
     "solution": false,
     "task": false
    }
   },
   "outputs": [],
   "source": [
    "assert_equal(check_password('abcABC1'), False)\n",
    "assert_equal(check_password('abcABC12'), True)\n",
    "assert_equal(check_password('abcABCDE'), False)\n",
    "assert_equal(check_password('abc12345'), False)\n",
    "assert_equal(check_password('12345ABC'), False)"
   ]
  },
  {
   "cell_type": "markdown",
   "metadata": {
    "deletable": false,
    "editable": false,
    "nbgrader": {
     "cell_type": "markdown",
     "checksum": "f2afb49dd7230fb1a436befdbf428c1f",
     "grade": false,
     "grade_id": "cell-eb44db13b953dab9",
     "locked": true,
     "schema_version": 3,
     "solution": false,
     "task": false
    }
   },
   "source": [
    "## Problem 8\n",
    "Write a function `is_palindrome` that returns `True` if the input string is a palindrome and `False` otherwise."
   ]
  },
  {
   "cell_type": "code",
   "execution_count": null,
   "metadata": {
    "ExecuteTime": {
     "end_time": "2021-04-25T23:13:37.283182Z",
     "start_time": "2021-04-25T23:13:37.275102Z"
    },
    "deletable": false,
    "nbgrader": {
     "cell_type": "code",
     "checksum": "277fef50ef7d2c9b2c7e29febbabff49",
     "grade": false,
     "grade_id": "cell-c7e575e3d909fd56",
     "locked": false,
     "schema_version": 3,
     "solution": true,
     "task": false
    }
   },
   "outputs": [],
   "source": [
    "def is_palindrome(text):\n",
    "    # YOUR CODE HERE\n",
    "    raise NotImplementedError()"
   ]
  },
  {
   "cell_type": "code",
   "execution_count": null,
   "metadata": {
    "ExecuteTime": {
     "end_time": "2021-04-25T23:16:28.477659Z",
     "start_time": "2021-04-25T23:16:28.466231Z"
    },
    "deletable": false,
    "editable": false,
    "nbgrader": {
     "cell_type": "code",
     "checksum": "6e19e0996cf1ad7e29c586561d1b469e",
     "grade": true,
     "grade_id": "cell-71c90ba9148f6663",
     "locked": true,
     "points": 1,
     "schema_version": 3,
     "solution": false,
     "task": false
    }
   },
   "outputs": [],
   "source": [
    "assert_equal(is_palindrome('abcd'), False)\n",
    "assert_equal(is_palindrome('abba'), True)\n",
    "assert_equal(is_palindrome('abeba'), True)\n",
    "assert_equal(is_palindrome('abcda'), False)\n",
    "assert_equal(is_palindrome('ab cd'), False)\n",
    "assert_equal(is_palindrome('ab ba'), True)\n",
    "assert_equal(is_palindrome(' ab ba'), True)\n",
    "assert_equal(is_palindrome('ab  ba'), True)"
   ]
  },
  {
   "cell_type": "markdown",
   "metadata": {
    "deletable": false,
    "editable": false,
    "nbgrader": {
     "cell_type": "markdown",
     "checksum": "37321eb8c0f8913ced474ab9762aed6e",
     "grade": false,
     "grade_id": "cell-6fb595cbee7e6eb9",
     "locked": true,
     "schema_version": 3,
     "solution": false,
     "task": false
    }
   },
   "source": [
    "## Problem 9\n",
    "Write a function `create_squares` that takes in the number of stars on a side of a square then returns a 2$\\times$2 grid of squares as a string. Separate each line by the newline (`\\n`) character."
   ]
  },
  {
   "cell_type": "code",
   "execution_count": null,
   "metadata": {
    "ExecuteTime": {
     "end_time": "2020-03-08T10:00:41.527220Z",
     "start_time": "2020-03-08T10:00:41.512569Z"
    },
    "deletable": false,
    "nbgrader": {
     "cell_type": "code",
     "checksum": "4437b6aae00a4ca2f2af33eab4bf9328",
     "grade": false,
     "grade_id": "cell-9d0bd755f6457ac0",
     "locked": false,
     "schema_version": 3,
     "solution": true,
     "task": false
    }
   },
   "outputs": [],
   "source": [
    "def create_squares(num_stars):\n",
    "    # YOUR CODE HERE\n",
    "    raise NotImplementedError()"
   ]
  },
  {
   "cell_type": "code",
   "execution_count": null,
   "metadata": {
    "ExecuteTime": {
     "end_time": "2020-03-08T10:05:00.210826Z",
     "start_time": "2020-03-08T10:05:00.199199Z"
    },
    "deletable": false,
    "editable": false,
    "nbgrader": {
     "cell_type": "code",
     "checksum": "72b43c61e570cf056e1927b630d9d212",
     "grade": true,
     "grade_id": "cell-1f0947cbeb45f780",
     "locked": true,
     "points": 1,
     "schema_version": 3,
     "solution": false,
     "task": false
    }
   },
   "outputs": [],
   "source": [
    "assert_equal(\n",
    "    create_squares(1),\n",
    "\"\"\"+ - + - +\n",
    "| * |   |\n",
    "+ - + - +\n",
    "|   | * |\n",
    "+ - + - +\n",
    "\"\"\"\n",
    ")\n",
    "assert_equal(\n",
    "    create_squares(3),\n",
    "\"\"\"+ - - - + - - - +\n",
    "| * * * |       |\n",
    "| * * * |       |\n",
    "| * * * |       |\n",
    "+ - - - + - - - +\n",
    "|       | * * * |\n",
    "|       | * * * |\n",
    "|       | * * * |\n",
    "+ - - - + - - - +\n",
    "\"\"\"\n",
    ")"
   ]
  },
  {
   "cell_type": "markdown",
   "metadata": {
    "deletable": false,
    "editable": false,
    "nbgrader": {
     "cell_type": "markdown",
     "checksum": "43973be581f7c4f4f4f021e6ed27cd27",
     "grade": false,
     "grade_id": "cell-48b51f5e7d39cc53",
     "locked": true,
     "schema_version": 3,
     "solution": false,
     "task": false
    }
   },
   "source": [
    "## Problem 10\n",
    "Write a function `create_grid` that takes in the number squares on a side and the number of stars on a side of a square then returns the grid of squares as a string. Separate each line by the newline (`\\n`) character.\n"
   ]
  },
  {
   "cell_type": "code",
   "execution_count": null,
   "metadata": {
    "ExecuteTime": {
     "end_time": "2020-03-08T11:36:39.553946Z",
     "start_time": "2020-03-08T11:36:39.541668Z"
    },
    "deletable": false,
    "nbgrader": {
     "cell_type": "code",
     "checksum": "3152ba1ebacdc37af3efb38b030fef41",
     "grade": false,
     "grade_id": "cell-d554859dd48da4e8",
     "locked": false,
     "schema_version": 3,
     "solution": true,
     "task": false
    }
   },
   "outputs": [],
   "source": [
    "def create_grid(num_squares, num_stars):\n",
    "    # YOUR CODE HERE\n",
    "    raise NotImplementedError()"
   ]
  },
  {
   "cell_type": "code",
   "execution_count": null,
   "metadata": {
    "ExecuteTime": {
     "end_time": "2020-03-08T11:39:41.240687Z",
     "start_time": "2020-03-08T11:39:41.229390Z"
    },
    "deletable": false,
    "editable": false,
    "nbgrader": {
     "cell_type": "code",
     "checksum": "967275f2c3ceb55c7a04232c54d9c607",
     "grade": true,
     "grade_id": "cell-804b324f525cec69",
     "locked": true,
     "points": 1,
     "schema_version": 3,
     "solution": false,
     "task": false
    }
   },
   "outputs": [],
   "source": [
    "assert_equal(\n",
    "    create_grid(1, 1),\n",
    "\"\"\"+ - +\n",
    "| * |\n",
    "+ - +\n",
    "\"\"\")\n",
    "assert_equal(\n",
    "    create_grid(2, 4),\n",
    "\"\"\"+ - - - - + - - - - +\n",
    "| * * * * |         |\n",
    "| * * * * |         |\n",
    "| * * * * |         |\n",
    "| * * * * |         |\n",
    "+ - - - - + - - - - +\n",
    "|         | * * * * |\n",
    "|         | * * * * |\n",
    "|         | * * * * |\n",
    "|         | * * * * |\n",
    "+ - - - - + - - - - +\n",
    "\"\"\")\n",
    "assert_equal(\n",
    "    create_grid(4, 2),\n",
    "\"\"\"+ - - + - - + - - + - - +\n",
    "| * * |     | * * |     |\n",
    "| * * |     | * * |     |\n",
    "+ - - + - - + - - + - - +\n",
    "|     | * * |     | * * |\n",
    "|     | * * |     | * * |\n",
    "+ - - + - - + - - + - - +\n",
    "| * * |     | * * |     |\n",
    "| * * |     | * * |     |\n",
    "+ - - + - - + - - + - - +\n",
    "|     | * * |     | * * |\n",
    "|     | * * |     | * * |\n",
    "+ - - + - - + - - + - - +\n",
    "\"\"\")"
   ]
  }
 ],
 "metadata": {
  "kernelspec": {
   "display_name": "Python 3",
   "language": "python",
   "name": "python3"
  },
  "language_info": {
   "codemirror_mode": {
    "name": "ipython",
    "version": 3
   },
   "file_extension": ".py",
   "mimetype": "text/x-python",
   "name": "python",
   "nbconvert_exporter": "python",
   "pygments_lexer": "ipython3",
   "version": "3.8.8"
  }
 },
 "nbformat": 4,
 "nbformat_minor": 2
}
