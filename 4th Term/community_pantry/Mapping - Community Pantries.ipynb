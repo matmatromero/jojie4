{
 "cells": [
  {
   "cell_type": "code",
   "execution_count": 66,
   "id": "convertible-royalty",
   "metadata": {
    "ExecuteTime": {
     "end_time": "2021-04-18T13:35:15.046177Z",
     "start_time": "2021-04-18T13:35:14.978027Z"
    }
   },
   "outputs": [],
   "source": [
    "import pandas as pd\n",
    "import numpy as np\n",
    "import matplotlib.pyplot as plt\n",
    "import requests\n",
    "import urllib.parse"
   ]
  },
  {
   "cell_type": "code",
   "execution_count": 49,
   "id": "better-trailer",
   "metadata": {
    "ExecuteTime": {
     "end_time": "2021-04-18T13:30:52.071682Z",
     "start_time": "2021-04-18T13:30:52.049981Z"
    }
   },
   "outputs": [],
   "source": [
    "df = pd.read_csv('pantry.csv', header=1)\n",
    "df = df.iloc[:77, 1:9]\n",
    "df = df.rename(columns={'Unnamed: 1':'pantry_name'})"
   ]
  },
  {
   "cell_type": "code",
   "execution_count": 50,
   "id": "assumed-numbers",
   "metadata": {
    "ExecuteTime": {
     "end_time": "2021-04-18T13:30:57.778629Z",
     "start_time": "2021-04-18T13:30:57.773246Z"
    }
   },
   "outputs": [],
   "source": [
    "df = df[:75]"
   ]
  },
  {
   "cell_type": "code",
   "execution_count": 62,
   "id": "perceived-termination",
   "metadata": {
    "ExecuteTime": {
     "end_time": "2021-04-18T13:33:31.039941Z",
     "start_time": "2021-04-18T13:33:31.017796Z"
    }
   },
   "outputs": [],
   "source": [
    "df['address_full'] = (df.iloc[:, 1:6]\n",
    "                      .fillna('')\n",
    "                      .astype(str)\n",
    "                      .agg(' '.join, axis=1))"
   ]
  },
  {
   "cell_type": "code",
   "execution_count": 67,
   "id": "apparent-vegetable",
   "metadata": {
    "ExecuteTime": {
     "end_time": "2021-04-18T13:35:33.046321Z",
     "start_time": "2021-04-18T13:35:33.037114Z"
    }
   },
   "outputs": [],
   "source": [
    "def lat_long(row, lat = False, long = False):\n",
    "    try:\n",
    "        url = ('https://nominatim.openstreetmap.org/search/' \n",
    "               + urllib.parse.quote(row) +'?format=json')\n",
    "        response = requests.get(url).json()\n",
    "        \n",
    "        if lat == True and long == False:\n",
    "            return response[0][\"lat\"]\n",
    "        elif lat == False and long == True:\n",
    "            return response[0][\"lon\"]\n",
    "    except IndexError:\n",
    "        return np.nan"
   ]
  },
  {
   "cell_type": "code",
   "execution_count": 68,
   "id": "crazy-cosmetic",
   "metadata": {
    "ExecuteTime": {
     "end_time": "2021-04-18T13:36:38.329820Z",
     "start_time": "2021-04-18T13:35:33.222184Z"
    }
   },
   "outputs": [
    {
     "data": {
      "text/plain": [
       "0     NaN\n",
       "1     NaN\n",
       "2     NaN\n",
       "3     NaN\n",
       "4     NaN\n",
       "     ... \n",
       "70    NaN\n",
       "71    NaN\n",
       "72    NaN\n",
       "73    NaN\n",
       "74    NaN\n",
       "Name: address_full, Length: 75, dtype: object"
      ]
     },
     "execution_count": 68,
     "metadata": {},
     "output_type": "execute_result"
    }
   ],
   "source": [
    "df['address_full'].apply(lambda x: lat_long(x, lat=True))"
   ]
  },
  {
   "cell_type": "code",
   "execution_count": 71,
   "id": "known-affiliate",
   "metadata": {
    "ExecuteTime": {
     "end_time": "2021-04-18T13:38:52.098342Z",
     "start_time": "2021-04-18T13:38:52.086160Z"
    }
   },
   "outputs": [
    {
     "data": {
      "text/plain": [
       "0     96 MAGINAHAWA TEACHER'S VILLAGE EAST QUEZON CITY \n",
       "1     130 DRP Compound NATIONAL ROAD TUNASAN MUNTINL...\n",
       "2     In Front of Matatalaib Baranggay Hall  MATATAL...\n",
       "3              Blk 1 SAWATA LRTB Brgy.35 Caloocan City \n",
       "4           50 Maunlad Street Balite San Miguel Bulacan\n",
       "                            ...                        \n",
       "70     Pablo Ocampo Cr. Sandejas 729 Manila Metro Ma...\n",
       "71     Rd 40  Brgy 173 North Caloocan City Metro Manila\n",
       "72    115 Nationa Road District IV Bayombong  Nueva ...\n",
       "73     Romans Street corner Friendship Road Concepci...\n",
       "74    95 Roxas Ave. Poblacion District DAVAO CITY DA...\n",
       "Name: address_full, Length: 75, dtype: object"
      ]
     },
     "execution_count": 71,
     "metadata": {},
     "output_type": "execute_result"
    }
   ],
   "source": [
    "df['address_full']"
   ]
  },
  {
   "cell_type": "code",
   "execution_count": 90,
   "id": "freelance-moderator",
   "metadata": {
    "ExecuteTime": {
     "end_time": "2021-04-18T13:41:07.111709Z",
     "start_time": "2021-04-18T13:41:07.107044Z"
    }
   },
   "outputs": [],
   "source": [
    "row = \"96 MAGINAHAWA TEACHER'S VILLAGE EAST QUEZON CITY \""
   ]
  },
  {
   "cell_type": "code",
   "execution_count": 91,
   "id": "alike-channels",
   "metadata": {
    "ExecuteTime": {
     "end_time": "2021-04-18T13:41:07.507159Z",
     "start_time": "2021-04-18T13:41:07.502207Z"
    }
   },
   "outputs": [],
   "source": [
    "url = ('https://nominatim.openstreetmap.org/search/' \n",
    "       + urllib.parse.quote(row) +'?format=json')"
   ]
  },
  {
   "cell_type": "code",
   "execution_count": 92,
   "id": "verbal-scout",
   "metadata": {
    "ExecuteTime": {
     "end_time": "2021-04-18T13:41:08.450941Z",
     "start_time": "2021-04-18T13:41:07.725247Z"
    }
   },
   "outputs": [],
   "source": [
    "response = requests.get(url).json()"
   ]
  },
  {
   "cell_type": "code",
   "execution_count": 93,
   "id": "contemporary-finding",
   "metadata": {
    "ExecuteTime": {
     "end_time": "2021-04-18T13:41:08.461337Z",
     "start_time": "2021-04-18T13:41:08.454980Z"
    }
   },
   "outputs": [
    {
     "data": {
      "text/plain": [
       "[]"
      ]
     },
     "execution_count": 93,
     "metadata": {},
     "output_type": "execute_result"
    }
   ],
   "source": [
    "response"
   ]
  },
  {
   "cell_type": "code",
   "execution_count": null,
   "id": "spoken-screen",
   "metadata": {},
   "outputs": [],
   "source": []
  }
 ],
 "metadata": {
  "kernelspec": {
   "display_name": "Python 3",
   "language": "python",
   "name": "python3"
  },
  "language_info": {
   "codemirror_mode": {
    "name": "ipython",
    "version": 3
   },
   "file_extension": ".py",
   "mimetype": "text/x-python",
   "name": "python",
   "nbconvert_exporter": "python",
   "pygments_lexer": "ipython3",
   "version": "3.8.8"
  }
 },
 "nbformat": 4,
 "nbformat_minor": 5
}
