{
 "cells": [
  {
   "cell_type": "markdown",
   "metadata": {
    "id": "AhNaYRfq5hf1"
   },
   "source": [
    "# Lecture 2:  the Backpropagation method\n",
    "\n",
    "Author: Christopher Monterola\n",
    "\n",
    "Copyright © 2021 Christopher Monterola. All rights reserved.\n",
    "\n",
    "This notebook is being written as part of a book on Deep Learning. None of the content here shall be reproduced and/or distributed without the written permission of the author. \n",
    "\n",
    "---\n",
    "\n",
    "## Executive Summary\n",
    "\n",
    "This notebook summarizes the basic mathematical principles  you need to understand to implement back-propagation in training neural networks, namely:   \n",
    "\n",
    "1. Understanding sigmoid or step-like functions.\n",
    "2. Using the gradient descent method for backpropagation.\n",
    "3. Demonstration of backpropation method for a three-layer feedforward neural networks.\n",
    "\n",
    "Each of the above components are illustrated using examples. \n"
   ]
  },
  {
   "cell_type": "markdown",
   "metadata": {
    "id": "I4pihNV05hf3"
   },
   "source": [
    "# 1. Sigmoid Functions\n",
    "\n",
    "\n",
    "![logistic-curve](https://user-images.githubusercontent.com/25600601/133036350-3270d0b3-c381-4a1d-a6ce-014e7feb2f54.png)\n",
    "\n",
    "Sigmoid Functions are mathematical functions that follow the characteristic \"S\" curve. The function has many forms, but the most general form is the logistic equation given by:\n",
    "\n",
    "\\begin{equation}\n",
    "f(x) = \\frac{A}{1 + e^{-k(x-x_o)}}\n",
    "\\end{equation}\n",
    "\n",
    "where $A$ is the maximum value, $x_o$ is the location of the midpoint, and $k$ is the steepness. In essence, sigmoids are defined by two horizontal asymptotes. This is why they are often used in learning curves, activation functions, and other growth models that exhibit an approximately exponential increase that saturates at a certain limit. Other sigmoid functions include:\n",
    "\n",
    "- hyperbolic tangent\n",
    "- arc tangent\n",
    "- error function\n",
    "- generalised logistic function\n",
    "\n",
    "![Gjl-t(x)](https://user-images.githubusercontent.com/25600601/133036472-0b528495-fd45-4d40-9407-888c6a81a7e4.png)\n",
    "\n",
    "Sigmoid-like functions are the most used functions when training neural networks as (1) they provide good approximations to the step function (the characteristic distribution of an [*integrate-and-fire neuron*](https://en.wikipedia.org/wiki/Biological_neuron_model#Integrate-and-fire), and  (2) a sigmoid function has a **defined derivative** at the transition points. \n",
    "\n",
    "These two properties are important in the convergence of the so-called **gradient descent back-propagation method**, an optimization procedure that is arguably the most important mathematical procedure for training neural networks to learn patterns.\n",
    "\n",
    "A *tour de force* in neural network involves finding the optimal sigmoid function defined as a function that will be able to **avoid local minima** and at the same time gives the **fastest convergence**. The exact function resulting from this long mathematical debate and countless simulations has the form:\n",
    "\n",
    "\n",
    "\\begin{equation}\n",
    "f(x) = 1.7159 \\tanh {\\frac{2x}{3}}\n",
    "\\end{equation}\n",
    "\n",
    "\n",
    "Eventually, series of numerical and theoretical analysis indicates that a Rectifield Linear Unit or RELU function creates a more generalizable result and faster convergence mainly because it **preserves information about relative intensities as compared to sigmoid like functions.** This is a breakthrough article in 2010 by [Nair and Hinton](https://www.researchgate.net/publication/221345737_Rectified_Linear_Units_Improve_Restricted_Boltzmann_Machines_Vinod_Nair) and an intuitive explanation for the above can be [sourced here](https://towardsdatascience.com/if-rectified-linear-units-are-linear-how-do-they-add-nonlinearity-40247d3e4792).\n",
    "\n"
   ]
  },
  {
   "cell_type": "markdown",
   "metadata": {
    "id": "LzVCjojt5hf4"
   },
   "source": [
    "---\n",
    "**Illustration 1: Home Exercise (discussion to be lead by Cedric/Gilbert, *et al* outside our sessions)** \n",
    "\n",
    "You have observed that the growth of a bacteria culture with limited nutrients is a logistic function. You find the equation for the growth to be:\n",
    "\\begin{equation}\n",
    "f(t) = \\frac{1000}{1 + e^{-0.5t+6}}\n",
    "\\end{equation}\n",
    "\n",
    "where $t$ is the time in hours.\n",
    "\n",
    "What is the population after 15 hours?\n",
    "\n",
    "> Solving for t = 15,  \n",
    "\n",
    ">$ f(15) = \\frac{1000}{1 + e^{-0.5(15)+6}}$  \n",
    "\n",
    ">$ f(15) = \\frac{1000}{1 + e^{-1.5}} $  \n",
    "\n",
    ">$ f(15) \\approx{} 817.57 $\n",
    "\n",
    "Implement the above calculation using numpy, see cell below, and validate by getting a value of 817.57."
   ]
  },
  {
   "cell_type": "code",
   "execution_count": 1,
   "metadata": {
    "ExecuteTime": {
     "end_time": "2021-09-14T06:56:50.624889Z",
     "start_time": "2021-09-14T06:56:48.986600Z"
    },
    "executionInfo": {
     "elapsed": 963,
     "status": "ok",
     "timestamp": 1631548020105,
     "user": {
      "displayName": "Christopher Monterola",
      "photoUrl": "https://lh3.googleusercontent.com/a-/AOh14GiyxV9CUZD54GBpsQkscS6VRBjebHtFASKcOq-_Lw=s64",
      "userId": "07920169693232563668"
     },
     "user_tz": -480
    },
    "id": "m9lUX1LX5hf4"
   },
   "outputs": [],
   "source": [
    "## We're preloading all libraries used in this notebook\n",
    "\n",
    "import random\n",
    "import pandas as pd\n",
    "import matplotlib.pyplot as plt\n",
    "from matplotlib.pyplot import figure\n",
    "import numpy as np\n",
    "import seaborn as sns\n",
    "from sklearn.metrics import accuracy_score, confusion_matrix\n",
    "\n",
    "%matplotlib inline\n",
    "plt.rcParams['font.family'] = 'Times New Roman'"
   ]
  },
  {
   "cell_type": "code",
   "execution_count": 2,
   "metadata": {
    "ExecuteTime": {
     "end_time": "2021-09-14T06:56:50.633636Z",
     "start_time": "2021-09-14T06:56:50.627551Z"
    },
    "colab": {
     "base_uri": "https://localhost:8080/"
    },
    "executionInfo": {
     "elapsed": 8,
     "status": "ok",
     "timestamp": 1631548020526,
     "user": {
      "displayName": "Christopher Monterola",
      "photoUrl": "https://lh3.googleusercontent.com/a-/AOh14GiyxV9CUZD54GBpsQkscS6VRBjebHtFASKcOq-_Lw=s64",
      "userId": "07920169693232563668"
     },
     "user_tz": -480
    },
    "id": "TJKmbOxw5hf5",
    "outputId": "a2aa9559-3a8c-48c5-9a0f-a89e35cfcc6c"
   },
   "outputs": [
    {
     "name": "stdout",
     "output_type": "stream",
     "text": [
      "817.5744761936436\n"
     ]
    }
   ],
   "source": [
    "# Define the variables here\n",
    "\n",
    "A, k, x0, x = 1000, .5, 12, 15\n",
    "\n",
    "sigmoid= A/(1+np.exp(-k*(x-x0)))\n",
    "\n",
    "print(sigmoid)"
   ]
  },
  {
   "cell_type": "markdown",
   "metadata": {
    "id": "K9CFA8Pg5hf6"
   },
   "source": [
    "\n",
    "---\n",
    "**Illustration 2. Home exercise, practice your derivative**: \n",
    "    \n",
    "Show that the derivative of f(x) = $\\frac{1}{1 + e^{-k(x)}}$ can be written as f'(x)= k f(x) (1-f(x)).\n",
    "\n",
    "![Der_Sigmoid](https://user-images.githubusercontent.com/25600601/133036959-9a8c6f0b-5fd3-4c4f-9f96-02d6be8e140d.jpg)\n",
    "\n",
    "\n"
   ]
  },
  {
   "cell_type": "markdown",
   "metadata": {
    "id": "93ssYZCMSY8j"
   },
   "source": []
  },
  {
   "cell_type": "markdown",
   "metadata": {
    "id": "YbpW1Dj95hf_"
   },
   "source": [
    "# 2. Your first neural network using Newton's gradient descent method. \n",
    "\n",
    "Let us now combine everything you learned in the first session and the above properties of a sigmioid function to build your first neural network. Consider the figure below:\n",
    "\n",
    "<img width=\"509\" alt=\"neuron\" src=\"https://user-images.githubusercontent.com/25600601/132207818-802ad5be-865c-40c2-bbd8-3da3e86b1217.png\">\n",
    "\n",
    "\n",
    "**STEP 1: Forward Propagation**\n",
    "\n",
    "The functional mapping from inputs ($x_1, x_2$) to output $\\Psi_{NN}$ is given by: \n",
    "   \n",
    "   \n",
    "$\\Psi_{NN} = g(x_1, x_2) = g(w_1f(x_1) + w_2f(x_2))$\n",
    "   \n",
    "      \n",
    "where $w_1$ and $w_2$ are the weights, $f$ and $g$ are the activation functions of the input and the output layers respectively.\n",
    "\n",
    "If you want the system to learn a mapping from $\\Psi_{NN}$ to $\\Psi_{actual}$ then your goal is to minimize the error function $E$ given by:\n",
    "\n",
    "**STEP 2: Define the error function**\n",
    "\n",
    "\\begin{equation}\n",
    "E = \\frac{1}{2} (\\Psi_{NN} -\\Psi_{actual})^2\n",
    "\\end{equation}\n",
    "  \n",
    "\n",
    "by updating or evolving $w_1$ and $w_2$.  Combining all the mathematics and numerical procedure you learn above, you can derive that the update rule should be:\n",
    "\n",
    "**STEP 3: Implement Gradient Descent**\n",
    "\n",
    "\\begin{equation}\n",
    "w_1^{t+1} = w_1^t - \\gamma \\frac{\\partial E}{\\partial w_1^t }\n",
    "\\end{equation}\n",
    "\n",
    "\\begin{equation}\n",
    "w_2^{t+1} = w_2^t - \\gamma \\frac{\\partial E}{\\partial w_2^t }\n",
    "\\end{equation}\n",
    "\n",
    "**STEP 4: Simplify the result**\n",
    "\n",
    "\\begin{equation}\n",
    "w_1^{t+1} = w_1^t - \\gamma(\\Psi_{NN} -\\Psi_{actual}) g'(x_1,x_2) f(x_1)\n",
    "\\end{equation}\n",
    "\n",
    "\\begin{equation}\n",
    "w_2^{t+1} = w_2^t - \\gamma(\\Psi_{NN} -\\Psi_{actual}) g'(x_1,x_2) f(x_2)\n",
    "\\end{equation}\n",
    "\n",
    "\n",
    "noting that $g'(x) = g(x) (1-g(x))$, we get:\n",
    "\n",
    "\\begin{equation}\n",
    "w_1^{t+1} = w_1^t - \\gamma(\\Psi_{NN} -\\Psi_{actual})(g)(1-g)f(x_1)\n",
    "\\end{equation}\n",
    "\n",
    "\\begin{equation}\n",
    "w_2^{t+1} = w_2^t - \\gamma(\\Psi_{NN} -\\Psi_{actual})(g)(1-g)f(x_2)\n",
    "\\end{equation}\n",
    "\n",
    "where $\\gamma$ is referred to as the learning rate.\n",
    "\n"
   ]
  },
  {
   "cell_type": "markdown",
   "metadata": {
    "id": "D8cPms0R5hf_"
   },
   "source": [
    "# Example 1. *Biased node*. Train the above two layer network to implement the following rules:   \n",
    "\n",
    "| $x_1$ | $x_2$ | $\\Psi_{actual}$ |\n",
    "| --- | --- | --- |\n",
    "|-1 | -1 | 0 |\n",
    "|-1 | 1 | 1 |\n",
    "| 1 | -1 | 0 |\n",
    "| 1 | 1 | 1 |\n",
    "\n",
    "that is, if $(x_1, x_2) = (1, 1)$ or (-1, 1) then $\\Psi_{actual} =1$      \n",
    "else if $(x_1, x_2) = (-1, -1)$ or (1, -1) then $\\Psi_{actual} =0$\n"
   ]
  },
  {
   "cell_type": "markdown",
   "metadata": {
    "id": "lVt7biA_Sko5"
   },
   "source": [
    "Shown below is a verbose code to explicitly demonstrate the backpropagation implementation."
   ]
  },
  {
   "cell_type": "code",
   "execution_count": 41,
   "metadata": {
    "ExecuteTime": {
     "end_time": "2021-09-14T08:52:43.098015Z",
     "start_time": "2021-09-14T08:52:42.567874Z"
    },
    "colab": {
     "base_uri": "https://localhost:8080/"
    },
    "executionInfo": {
     "elapsed": 6,
     "status": "ok",
     "timestamp": 1631548020526,
     "user": {
      "displayName": "Christopher Monterola",
      "photoUrl": "https://lh3.googleusercontent.com/a-/AOh14GiyxV9CUZD54GBpsQkscS6VRBjebHtFASKcOq-_Lw=s64",
      "userId": "07920169693232563668"
     },
     "user_tz": -480
    },
    "id": "My9OPybU5hf_",
    "outputId": "fbbfaffa-34de-4151-f700-199408cd7463",
    "scrolled": false
   },
   "outputs": [
    {
     "name": "stdout",
     "output_type": "stream",
     "text": [
      "iter=0 x1=-1  x2=1 Psi_actual=1 Psi_NN=0.53\n",
      "iter=1 x1=-1  x2=1 Psi_actual=1 Psi_NN=0.56\n",
      "iter=2 x1=-1  x2=-1 Psi_actual=0 Psi_NN=0.46\n",
      "iter=3 x1=1  x2=-1 Psi_actual=0 Psi_NN=0.41\n",
      "iter=4 x1=1  x2=1 Psi_actual=1 Psi_NN=0.56\n",
      "iter=5 x1=1  x2=1 Psi_actual=1 Psi_NN=0.59\n",
      "iter=6 x1=1  x2=1 Psi_actual=1 Psi_NN=0.61\n",
      "iter=7 x1=1  x2=1 Psi_actual=1 Psi_NN=0.64\n",
      "iter=8 x1=1  x2=1 Psi_actual=1 Psi_NN=0.65\n",
      "iter=9 x1=1  x2=-1 Psi_actual=0 Psi_NN=0.39\n",
      "iter=10 x1=1  x2=1 Psi_actual=1 Psi_NN=0.67\n",
      "iter=11 x1=1  x2=-1 Psi_actual=0 Psi_NN=0.37\n",
      "iter=12 x1=-1  x2=-1 Psi_actual=0 Psi_NN=0.31\n",
      "iter=13 x1=1  x2=1 Psi_actual=1 Psi_NN=0.70\n",
      "iter=14 x1=-1  x2=-1 Psi_actual=0 Psi_NN=0.28\n",
      "iter=15 x1=-1  x2=1 Psi_actual=1 Psi_NN=0.65\n",
      "iter=16 x1=-1  x2=-1 Psi_actual=0 Psi_NN=0.27\n",
      "iter=17 x1=1  x2=-1 Psi_actual=0 Psi_NN=0.33\n",
      "iter=18 x1=-1  x2=-1 Psi_actual=0 Psi_NN=0.26\n",
      "iter=19 x1=1  x2=-1 Psi_actual=0 Psi_NN=0.31\n",
      "iter=20 x1=1  x2=-1 Psi_actual=0 Psi_NN=0.30\n",
      "iter=21 x1=-1  x2=1 Psi_actual=1 Psi_NN=0.71\n",
      "iter=22 x1=1  x2=-1 Psi_actual=0 Psi_NN=0.27\n",
      "iter=23 x1=1  x2=-1 Psi_actual=0 Psi_NN=0.26\n",
      "iter=24 x1=1  x2=1 Psi_actual=1 Psi_NN=0.75\n",
      "iter=25 x1=1  x2=1 Psi_actual=1 Psi_NN=0.76\n",
      "iter=26 x1=-1  x2=1 Psi_actual=1 Psi_NN=0.75\n",
      "iter=27 x1=-1  x2=1 Psi_actual=1 Psi_NN=0.75\n",
      "iter=28 x1=-1  x2=1 Psi_actual=1 Psi_NN=0.76\n",
      "iter=29 x1=-1  x2=-1 Psi_actual=0 Psi_NN=0.24\n",
      "iter=30 x1=-1  x2=1 Psi_actual=1 Psi_NN=0.77\n",
      "iter=31 x1=1  x2=1 Psi_actual=1 Psi_NN=0.77\n",
      "iter=32 x1=1  x2=1 Psi_actual=1 Psi_NN=0.78\n",
      "iter=33 x1=1  x2=1 Psi_actual=1 Psi_NN=0.79\n",
      "iter=34 x1=-1  x2=1 Psi_actual=1 Psi_NN=0.78\n",
      "iter=35 x1=1  x2=1 Psi_actual=1 Psi_NN=0.79\n",
      "iter=36 x1=-1  x2=1 Psi_actual=1 Psi_NN=0.78\n",
      "iter=37 x1=-1  x2=-1 Psi_actual=0 Psi_NN=0.20\n",
      "iter=38 x1=-1  x2=1 Psi_actual=1 Psi_NN=0.79\n",
      "iter=39 x1=1  x2=-1 Psi_actual=0 Psi_NN=0.20\n",
      "iter=40 x1=1  x2=-1 Psi_actual=0 Psi_NN=0.20\n",
      "iter=41 x1=1  x2=-1 Psi_actual=0 Psi_NN=0.19\n",
      "iter=42 x1=1  x2=1 Psi_actual=1 Psi_NN=0.80\n",
      "iter=43 x1=-1  x2=-1 Psi_actual=0 Psi_NN=0.19\n",
      "iter=44 x1=1  x2=-1 Psi_actual=0 Psi_NN=0.19\n",
      "iter=45 x1=-1  x2=1 Psi_actual=1 Psi_NN=0.82\n",
      "iter=46 x1=1  x2=1 Psi_actual=1 Psi_NN=0.81\n",
      "iter=47 x1=-1  x2=1 Psi_actual=1 Psi_NN=0.82\n",
      "iter=48 x1=1  x2=1 Psi_actual=1 Psi_NN=0.82\n",
      "iter=49 x1=1  x2=1 Psi_actual=1 Psi_NN=0.82\n",
      "iter=50 x1=1  x2=-1 Psi_actual=0 Psi_NN=0.18\n",
      "iter=51 x1=1  x2=-1 Psi_actual=0 Psi_NN=0.17\n",
      "iter=52 x1=1  x2=1 Psi_actual=1 Psi_NN=0.82\n",
      "iter=53 x1=1  x2=-1 Psi_actual=0 Psi_NN=0.17\n",
      "iter=54 x1=1  x2=-1 Psi_actual=0 Psi_NN=0.17\n",
      "iter=55 x1=-1  x2=-1 Psi_actual=0 Psi_NN=0.17\n",
      "iter=56 x1=-1  x2=-1 Psi_actual=0 Psi_NN=0.17\n",
      "iter=57 x1=1  x2=1 Psi_actual=1 Psi_NN=0.83\n",
      "iter=58 x1=1  x2=1 Psi_actual=1 Psi_NN=0.84\n",
      "iter=59 x1=1  x2=-1 Psi_actual=0 Psi_NN=0.16\n",
      "iter=60 x1=-1  x2=1 Psi_actual=1 Psi_NN=0.84\n",
      "iter=61 x1=1  x2=1 Psi_actual=1 Psi_NN=0.84\n",
      "iter=62 x1=-1  x2=1 Psi_actual=1 Psi_NN=0.84\n",
      "iter=63 x1=-1  x2=-1 Psi_actual=0 Psi_NN=0.16\n",
      "iter=64 x1=-1  x2=-1 Psi_actual=0 Psi_NN=0.15\n",
      "iter=65 x1=-1  x2=-1 Psi_actual=0 Psi_NN=0.15\n",
      "iter=66 x1=-1  x2=1 Psi_actual=1 Psi_NN=0.85\n",
      "iter=67 x1=-1  x2=1 Psi_actual=1 Psi_NN=0.85\n",
      "iter=68 x1=-1  x2=-1 Psi_actual=0 Psi_NN=0.15\n",
      "iter=69 x1=1  x2=1 Psi_actual=1 Psi_NN=0.85\n",
      "iter=70 x1=1  x2=-1 Psi_actual=0 Psi_NN=0.15\n",
      "iter=71 x1=-1  x2=-1 Psi_actual=0 Psi_NN=0.14\n",
      "iter=72 x1=1  x2=1 Psi_actual=1 Psi_NN=0.86\n",
      "iter=73 x1=-1  x2=-1 Psi_actual=0 Psi_NN=0.14\n",
      "iter=74 x1=1  x2=-1 Psi_actual=0 Psi_NN=0.15\n",
      "iter=75 x1=1  x2=-1 Psi_actual=0 Psi_NN=0.14\n",
      "iter=76 x1=-1  x2=-1 Psi_actual=0 Psi_NN=0.14\n",
      "iter=77 x1=1  x2=1 Psi_actual=1 Psi_NN=0.86\n",
      "iter=78 x1=1  x2=1 Psi_actual=1 Psi_NN=0.87\n",
      "iter=79 x1=-1  x2=1 Psi_actual=1 Psi_NN=0.86\n",
      "iter=80 x1=-1  x2=-1 Psi_actual=0 Psi_NN=0.13\n",
      "iter=81 x1=1  x2=1 Psi_actual=1 Psi_NN=0.87\n",
      "iter=82 x1=-1  x2=-1 Psi_actual=0 Psi_NN=0.13\n",
      "iter=83 x1=1  x2=-1 Psi_actual=0 Psi_NN=0.14\n",
      "iter=84 x1=1  x2=-1 Psi_actual=0 Psi_NN=0.14\n",
      "iter=85 x1=1  x2=1 Psi_actual=1 Psi_NN=0.87\n",
      "iter=86 x1=1  x2=-1 Psi_actual=0 Psi_NN=0.14\n",
      "iter=87 x1=-1  x2=1 Psi_actual=1 Psi_NN=0.87\n",
      "iter=88 x1=1  x2=-1 Psi_actual=0 Psi_NN=0.13\n",
      "iter=89 x1=-1  x2=-1 Psi_actual=0 Psi_NN=0.13\n",
      "iter=90 x1=1  x2=1 Psi_actual=1 Psi_NN=0.88\n",
      "iter=91 x1=1  x2=-1 Psi_actual=0 Psi_NN=0.13\n",
      "iter=92 x1=1  x2=1 Psi_actual=1 Psi_NN=0.88\n",
      "iter=93 x1=-1  x2=-1 Psi_actual=0 Psi_NN=0.12\n",
      "iter=94 x1=-1  x2=1 Psi_actual=1 Psi_NN=0.87\n",
      "iter=95 x1=1  x2=-1 Psi_actual=0 Psi_NN=0.13\n",
      "iter=96 x1=-1  x2=1 Psi_actual=1 Psi_NN=0.87\n",
      "iter=97 x1=1  x2=-1 Psi_actual=0 Psi_NN=0.12\n",
      "iter=98 x1=-1  x2=-1 Psi_actual=0 Psi_NN=0.12\n",
      "iter=99 x1=-1  x2=1 Psi_actual=1 Psi_NN=0.88\n",
      "iter=100 x1=1  x2=1 Psi_actual=1 Psi_NN=0.88\n",
      "iter=101 x1=1  x2=-1 Psi_actual=0 Psi_NN=0.12\n",
      "iter=102 x1=1  x2=1 Psi_actual=1 Psi_NN=0.88\n",
      "iter=103 x1=1  x2=1 Psi_actual=1 Psi_NN=0.88\n",
      "iter=104 x1=-1  x2=1 Psi_actual=1 Psi_NN=0.88\n",
      "iter=105 x1=-1  x2=1 Psi_actual=1 Psi_NN=0.88\n",
      "iter=106 x1=1  x2=-1 Psi_actual=0 Psi_NN=0.12\n",
      "iter=107 x1=1  x2=1 Psi_actual=1 Psi_NN=0.89\n",
      "iter=108 x1=-1  x2=-1 Psi_actual=0 Psi_NN=0.11\n",
      "iter=109 x1=-1  x2=-1 Psi_actual=0 Psi_NN=0.11\n",
      "iter=110 x1=1  x2=-1 Psi_actual=0 Psi_NN=0.12\n",
      "iter=111 x1=1  x2=1 Psi_actual=1 Psi_NN=0.89\n",
      "iter=112 x1=1  x2=-1 Psi_actual=0 Psi_NN=0.11\n",
      "iter=113 x1=-1  x2=1 Psi_actual=1 Psi_NN=0.89\n",
      "iter=114 x1=-1  x2=1 Psi_actual=1 Psi_NN=0.89\n",
      "iter=115 x1=1  x2=1 Psi_actual=1 Psi_NN=0.89\n",
      "iter=116 x1=1  x2=1 Psi_actual=1 Psi_NN=0.89\n",
      "iter=117 x1=1  x2=1 Psi_actual=1 Psi_NN=0.89\n",
      "iter=118 x1=1  x2=-1 Psi_actual=0 Psi_NN=0.11\n",
      "iter=119 x1=1  x2=-1 Psi_actual=0 Psi_NN=0.11\n",
      "iter=120 x1=-1  x2=-1 Psi_actual=0 Psi_NN=0.11\n",
      "iter=121 x1=-1  x2=1 Psi_actual=1 Psi_NN=0.89\n",
      "iter=122 x1=-1  x2=1 Psi_actual=1 Psi_NN=0.89\n",
      "iter=123 x1=1  x2=-1 Psi_actual=0 Psi_NN=0.11\n",
      "iter=124 x1=1  x2=-1 Psi_actual=0 Psi_NN=0.11\n",
      "iter=125 x1=-1  x2=-1 Psi_actual=0 Psi_NN=0.11\n",
      "iter=126 x1=1  x2=1 Psi_actual=1 Psi_NN=0.89\n",
      "iter=127 x1=-1  x2=1 Psi_actual=1 Psi_NN=0.89\n",
      "iter=128 x1=1  x2=1 Psi_actual=1 Psi_NN=0.90\n",
      "iter=129 x1=-1  x2=-1 Psi_actual=0 Psi_NN=0.10\n",
      "iter=130 x1=-1  x2=-1 Psi_actual=0 Psi_NN=0.10\n",
      "iter=131 x1=-1  x2=-1 Psi_actual=0 Psi_NN=0.10\n",
      "iter=132 x1=1  x2=1 Psi_actual=1 Psi_NN=0.90\n",
      "iter=133 x1=-1  x2=1 Psi_actual=1 Psi_NN=0.90\n",
      "iter=134 x1=-1  x2=1 Psi_actual=1 Psi_NN=0.90\n",
      "iter=135 x1=1  x2=-1 Psi_actual=0 Psi_NN=0.10\n",
      "iter=136 x1=-1  x2=1 Psi_actual=1 Psi_NN=0.90\n",
      "iter=137 x1=-1  x2=1 Psi_actual=1 Psi_NN=0.90\n",
      "iter=138 x1=1  x2=1 Psi_actual=1 Psi_NN=0.90\n",
      "iter=139 x1=1  x2=-1 Psi_actual=0 Psi_NN=0.10\n",
      "iter=140 x1=-1  x2=1 Psi_actual=1 Psi_NN=0.90\n",
      "iter=141 x1=1  x2=-1 Psi_actual=0 Psi_NN=0.10\n",
      "iter=142 x1=-1  x2=-1 Psi_actual=0 Psi_NN=0.10\n",
      "iter=143 x1=-1  x2=1 Psi_actual=1 Psi_NN=0.90\n",
      "iter=144 x1=-1  x2=-1 Psi_actual=0 Psi_NN=0.10\n",
      "iter=145 x1=-1  x2=-1 Psi_actual=0 Psi_NN=0.10\n",
      "iter=146 x1=1  x2=-1 Psi_actual=0 Psi_NN=0.10\n",
      "iter=147 x1=1  x2=1 Psi_actual=1 Psi_NN=0.90\n",
      "iter=148 x1=-1  x2=1 Psi_actual=1 Psi_NN=0.90\n",
      "iter=149 x1=1  x2=1 Psi_actual=1 Psi_NN=0.90\n",
      "iter=150 x1=1  x2=1 Psi_actual=1 Psi_NN=0.90\n",
      "iter=151 x1=-1  x2=-1 Psi_actual=0 Psi_NN=0.09\n",
      "iter=152 x1=1  x2=1 Psi_actual=1 Psi_NN=0.91\n",
      "iter=153 x1=-1  x2=1 Psi_actual=1 Psi_NN=0.90\n",
      "iter=154 x1=1  x2=-1 Psi_actual=0 Psi_NN=0.09\n",
      "iter=155 x1=-1  x2=1 Psi_actual=1 Psi_NN=0.91\n",
      "iter=156 x1=1  x2=-1 Psi_actual=0 Psi_NN=0.09\n",
      "iter=157 x1=-1  x2=-1 Psi_actual=0 Psi_NN=0.09\n",
      "iter=158 x1=1  x2=1 Psi_actual=1 Psi_NN=0.91\n",
      "iter=159 x1=-1  x2=1 Psi_actual=1 Psi_NN=0.91\n",
      "iter=160 x1=1  x2=1 Psi_actual=1 Psi_NN=0.91\n",
      "iter=161 x1=-1  x2=-1 Psi_actual=0 Psi_NN=0.09\n",
      "iter=162 x1=-1  x2=-1 Psi_actual=0 Psi_NN=0.09\n",
      "iter=163 x1=-1  x2=-1 Psi_actual=0 Psi_NN=0.09\n",
      "iter=164 x1=1  x2=1 Psi_actual=1 Psi_NN=0.91\n",
      "iter=165 x1=-1  x2=1 Psi_actual=1 Psi_NN=0.91\n",
      "iter=166 x1=-1  x2=1 Psi_actual=1 Psi_NN=0.91\n",
      "iter=167 x1=1  x2=1 Psi_actual=1 Psi_NN=0.91\n",
      "iter=168 x1=1  x2=-1 Psi_actual=0 Psi_NN=0.09\n",
      "iter=169 x1=1  x2=1 Psi_actual=1 Psi_NN=0.91\n",
      "iter=170 x1=1  x2=-1 Psi_actual=0 Psi_NN=0.09\n",
      "iter=171 x1=-1  x2=1 Psi_actual=1 Psi_NN=0.91\n",
      "iter=172 x1=1  x2=-1 Psi_actual=0 Psi_NN=0.09\n",
      "iter=173 x1=-1  x2=-1 Psi_actual=0 Psi_NN=0.09\n",
      "iter=174 x1=-1  x2=-1 Psi_actual=0 Psi_NN=0.09\n",
      "iter=175 x1=-1  x2=1 Psi_actual=1 Psi_NN=0.91\n",
      "iter=176 x1=1  x2=1 Psi_actual=1 Psi_NN=0.91\n",
      "iter=177 x1=-1  x2=-1 Psi_actual=0 Psi_NN=0.09\n",
      "iter=178 x1=1  x2=1 Psi_actual=1 Psi_NN=0.91\n",
      "iter=179 x1=-1  x2=-1 Psi_actual=0 Psi_NN=0.09\n",
      "iter=180 x1=-1  x2=-1 Psi_actual=0 Psi_NN=0.08\n",
      "iter=181 x1=-1  x2=1 Psi_actual=1 Psi_NN=0.91\n",
      "iter=182 x1=-1  x2=-1 Psi_actual=0 Psi_NN=0.08\n",
      "iter=183 x1=1  x2=-1 Psi_actual=0 Psi_NN=0.09\n",
      "iter=184 x1=1  x2=1 Psi_actual=1 Psi_NN=0.92\n",
      "iter=185 x1=1  x2=-1 Psi_actual=0 Psi_NN=0.09\n",
      "iter=186 x1=1  x2=1 Psi_actual=1 Psi_NN=0.92\n",
      "iter=187 x1=-1  x2=1 Psi_actual=1 Psi_NN=0.91\n",
      "iter=188 x1=-1  x2=1 Psi_actual=1 Psi_NN=0.91\n",
      "iter=189 x1=1  x2=-1 Psi_actual=0 Psi_NN=0.09\n",
      "iter=190 x1=1  x2=1 Psi_actual=1 Psi_NN=0.92\n",
      "iter=191 x1=-1  x2=-1 Psi_actual=0 Psi_NN=0.08\n",
      "iter=192 x1=1  x2=-1 Psi_actual=0 Psi_NN=0.08\n",
      "iter=193 x1=1  x2=1 Psi_actual=1 Psi_NN=0.92\n",
      "iter=194 x1=-1  x2=-1 Psi_actual=0 Psi_NN=0.08\n",
      "iter=195 x1=-1  x2=1 Psi_actual=1 Psi_NN=0.92\n",
      "iter=196 x1=-1  x2=1 Psi_actual=1 Psi_NN=0.92\n",
      "iter=197 x1=-1  x2=1 Psi_actual=1 Psi_NN=0.92\n",
      "iter=198 x1=-1  x2=1 Psi_actual=1 Psi_NN=0.92\n",
      "iter=199 x1=-1  x2=-1 Psi_actual=0 Psi_NN=0.08\n",
      "iter=200 x1=1  x2=-1 Psi_actual=0 Psi_NN=0.08\n",
      "iter=201 x1=-1  x2=-1 Psi_actual=0 Psi_NN=0.08\n",
      "iter=202 x1=1  x2=-1 Psi_actual=0 Psi_NN=0.08\n",
      "iter=203 x1=-1  x2=1 Psi_actual=1 Psi_NN=0.92\n",
      "iter=204 x1=1  x2=1 Psi_actual=1 Psi_NN=0.92\n",
      "iter=205 x1=1  x2=1 Psi_actual=1 Psi_NN=0.92\n",
      "iter=206 x1=1  x2=1 Psi_actual=1 Psi_NN=0.92\n",
      "iter=207 x1=-1  x2=-1 Psi_actual=0 Psi_NN=0.08\n",
      "iter=208 x1=-1  x2=-1 Psi_actual=0 Psi_NN=0.08\n",
      "iter=209 x1=1  x2=-1 Psi_actual=0 Psi_NN=0.08\n",
      "iter=210 x1=-1  x2=-1 Psi_actual=0 Psi_NN=0.08\n",
      "iter=211 x1=-1  x2=1 Psi_actual=1 Psi_NN=0.92\n",
      "iter=212 x1=-1  x2=1 Psi_actual=1 Psi_NN=0.92\n",
      "iter=213 x1=-1  x2=1 Psi_actual=1 Psi_NN=0.92\n",
      "iter=214 x1=1  x2=1 Psi_actual=1 Psi_NN=0.92\n",
      "iter=215 x1=1  x2=1 Psi_actual=1 Psi_NN=0.92\n",
      "iter=216 x1=-1  x2=-1 Psi_actual=0 Psi_NN=0.08\n",
      "iter=217 x1=1  x2=1 Psi_actual=1 Psi_NN=0.92\n",
      "iter=218 x1=-1  x2=-1 Psi_actual=0 Psi_NN=0.08\n",
      "iter=219 x1=1  x2=1 Psi_actual=1 Psi_NN=0.92\n",
      "iter=220 x1=-1  x2=-1 Psi_actual=0 Psi_NN=0.08\n",
      "iter=221 x1=-1  x2=-1 Psi_actual=0 Psi_NN=0.07\n",
      "iter=222 x1=-1  x2=-1 Psi_actual=0 Psi_NN=0.07\n",
      "iter=223 x1=1  x2=1 Psi_actual=1 Psi_NN=0.93\n",
      "iter=224 x1=1  x2=1 Psi_actual=1 Psi_NN=0.93\n",
      "iter=225 x1=-1  x2=1 Psi_actual=1 Psi_NN=0.92\n",
      "iter=226 x1=-1  x2=-1 Psi_actual=0 Psi_NN=0.07\n",
      "iter=227 x1=1  x2=-1 Psi_actual=0 Psi_NN=0.08\n",
      "iter=228 x1=-1  x2=1 Psi_actual=1 Psi_NN=0.92\n",
      "iter=229 x1=-1  x2=1 Psi_actual=1 Psi_NN=0.92\n",
      "iter=230 x1=1  x2=1 Psi_actual=1 Psi_NN=0.93\n",
      "iter=231 x1=-1  x2=-1 Psi_actual=0 Psi_NN=0.07\n",
      "iter=232 x1=-1  x2=1 Psi_actual=1 Psi_NN=0.92\n",
      "iter=233 x1=1  x2=-1 Psi_actual=0 Psi_NN=0.08\n",
      "iter=234 x1=1  x2=1 Psi_actual=1 Psi_NN=0.93\n",
      "iter=235 x1=-1  x2=1 Psi_actual=1 Psi_NN=0.92\n",
      "iter=236 x1=-1  x2=-1 Psi_actual=0 Psi_NN=0.07\n",
      "iter=237 x1=1  x2=1 Psi_actual=1 Psi_NN=0.93\n",
      "iter=238 x1=1  x2=-1 Psi_actual=0 Psi_NN=0.08\n",
      "iter=239 x1=1  x2=-1 Psi_actual=0 Psi_NN=0.08\n",
      "iter=240 x1=-1  x2=-1 Psi_actual=0 Psi_NN=0.07\n",
      "iter=241 x1=-1  x2=1 Psi_actual=1 Psi_NN=0.92\n",
      "iter=242 x1=-1  x2=1 Psi_actual=1 Psi_NN=0.92\n",
      "iter=243 x1=1  x2=-1 Psi_actual=0 Psi_NN=0.07\n",
      "iter=244 x1=1  x2=-1 Psi_actual=0 Psi_NN=0.07\n",
      "iter=245 x1=1  x2=-1 Psi_actual=0 Psi_NN=0.07\n",
      "iter=246 x1=1  x2=-1 Psi_actual=0 Psi_NN=0.07\n",
      "iter=247 x1=1  x2=-1 Psi_actual=0 Psi_NN=0.07\n",
      "iter=248 x1=1  x2=1 Psi_actual=1 Psi_NN=0.93\n",
      "iter=249 x1=1  x2=1 Psi_actual=1 Psi_NN=0.93\n",
      "iter=250 x1=-1  x2=1 Psi_actual=1 Psi_NN=0.93\n",
      "iter=251 x1=1  x2=1 Psi_actual=1 Psi_NN=0.93\n",
      "iter=252 x1=1  x2=-1 Psi_actual=0 Psi_NN=0.07\n",
      "iter=253 x1=-1  x2=1 Psi_actual=1 Psi_NN=0.93\n",
      "iter=254 x1=-1  x2=-1 Psi_actual=0 Psi_NN=0.07\n",
      "iter=255 x1=1  x2=-1 Psi_actual=0 Psi_NN=0.07\n",
      "iter=256 x1=-1  x2=1 Psi_actual=1 Psi_NN=0.93\n",
      "iter=257 x1=-1  x2=1 Psi_actual=1 Psi_NN=0.93\n",
      "iter=258 x1=-1  x2=-1 Psi_actual=0 Psi_NN=0.07\n",
      "iter=259 x1=-1  x2=1 Psi_actual=1 Psi_NN=0.93\n",
      "iter=260 x1=1  x2=1 Psi_actual=1 Psi_NN=0.93\n",
      "iter=261 x1=1  x2=1 Psi_actual=1 Psi_NN=0.93\n",
      "iter=262 x1=1  x2=1 Psi_actual=1 Psi_NN=0.93\n",
      "iter=263 x1=1  x2=1 Psi_actual=1 Psi_NN=0.93\n",
      "iter=264 x1=-1  x2=1 Psi_actual=1 Psi_NN=0.93\n",
      "iter=265 x1=-1  x2=1 Psi_actual=1 Psi_NN=0.93\n",
      "iter=266 x1=-1  x2=-1 Psi_actual=0 Psi_NN=0.07\n",
      "iter=267 x1=1  x2=-1 Psi_actual=0 Psi_NN=0.07\n",
      "iter=268 x1=1  x2=1 Psi_actual=1 Psi_NN=0.93\n",
      "iter=269 x1=-1  x2=1 Psi_actual=1 Psi_NN=0.93\n",
      "iter=270 x1=1  x2=1 Psi_actual=1 Psi_NN=0.93\n",
      "iter=271 x1=-1  x2=-1 Psi_actual=0 Psi_NN=0.07\n",
      "iter=272 x1=1  x2=1 Psi_actual=1 Psi_NN=0.93\n",
      "iter=273 x1=-1  x2=-1 Psi_actual=0 Psi_NN=0.07\n",
      "iter=274 x1=1  x2=1 Psi_actual=1 Psi_NN=0.93\n",
      "iter=275 x1=-1  x2=-1 Psi_actual=0 Psi_NN=0.07\n",
      "iter=276 x1=-1  x2=-1 Psi_actual=0 Psi_NN=0.07\n",
      "iter=277 x1=1  x2=1 Psi_actual=1 Psi_NN=0.93\n",
      "iter=278 x1=-1  x2=1 Psi_actual=1 Psi_NN=0.93\n",
      "iter=279 x1=1  x2=1 Psi_actual=1 Psi_NN=0.93\n",
      "iter=280 x1=-1  x2=1 Psi_actual=1 Psi_NN=0.93\n",
      "iter=281 x1=1  x2=-1 Psi_actual=0 Psi_NN=0.07\n",
      "iter=282 x1=-1  x2=-1 Psi_actual=0 Psi_NN=0.07\n",
      "iter=283 x1=1  x2=1 Psi_actual=1 Psi_NN=0.93\n",
      "iter=284 x1=1  x2=-1 Psi_actual=0 Psi_NN=0.07\n",
      "iter=285 x1=-1  x2=1 Psi_actual=1 Psi_NN=0.93\n",
      "iter=286 x1=-1  x2=-1 Psi_actual=0 Psi_NN=0.07\n",
      "iter=287 x1=1  x2=-1 Psi_actual=0 Psi_NN=0.07\n",
      "iter=288 x1=-1  x2=-1 Psi_actual=0 Psi_NN=0.06\n",
      "iter=289 x1=1  x2=1 Psi_actual=1 Psi_NN=0.94\n",
      "iter=290 x1=1  x2=-1 Psi_actual=0 Psi_NN=0.07\n",
      "iter=291 x1=1  x2=-1 Psi_actual=0 Psi_NN=0.07\n",
      "iter=292 x1=-1  x2=1 Psi_actual=1 Psi_NN=0.93\n",
      "iter=293 x1=-1  x2=1 Psi_actual=1 Psi_NN=0.93\n",
      "iter=294 x1=1  x2=-1 Psi_actual=0 Psi_NN=0.07\n",
      "iter=295 x1=1  x2=1 Psi_actual=1 Psi_NN=0.94\n",
      "iter=296 x1=1  x2=1 Psi_actual=1 Psi_NN=0.94\n",
      "iter=297 x1=-1  x2=-1 Psi_actual=0 Psi_NN=0.06\n",
      "iter=298 x1=1  x2=1 Psi_actual=1 Psi_NN=0.94\n",
      "iter=299 x1=-1  x2=-1 Psi_actual=0 Psi_NN=0.06\n",
      "iter=300 x1=1  x2=1 Psi_actual=1 Psi_NN=0.94\n",
      "iter=301 x1=-1  x2=1 Psi_actual=1 Psi_NN=0.93\n",
      "iter=302 x1=-1  x2=1 Psi_actual=1 Psi_NN=0.93\n",
      "iter=303 x1=-1  x2=1 Psi_actual=1 Psi_NN=0.93\n",
      "iter=304 x1=-1  x2=1 Psi_actual=1 Psi_NN=0.93\n",
      "iter=305 x1=1  x2=1 Psi_actual=1 Psi_NN=0.94\n",
      "iter=306 x1=1  x2=-1 Psi_actual=0 Psi_NN=0.07\n",
      "iter=307 x1=1  x2=1 Psi_actual=1 Psi_NN=0.94\n",
      "iter=308 x1=-1  x2=1 Psi_actual=1 Psi_NN=0.93\n",
      "iter=309 x1=-1  x2=1 Psi_actual=1 Psi_NN=0.93\n",
      "iter=310 x1=-1  x2=-1 Psi_actual=0 Psi_NN=0.06\n",
      "iter=311 x1=1  x2=1 Psi_actual=1 Psi_NN=0.94\n",
      "iter=312 x1=1  x2=-1 Psi_actual=0 Psi_NN=0.06\n",
      "iter=313 x1=-1  x2=-1 Psi_actual=0 Psi_NN=0.06\n",
      "iter=314 x1=1  x2=1 Psi_actual=1 Psi_NN=0.94\n",
      "iter=315 x1=1  x2=1 Psi_actual=1 Psi_NN=0.94\n",
      "iter=316 x1=-1  x2=-1 Psi_actual=0 Psi_NN=0.06\n",
      "iter=317 x1=-1  x2=1 Psi_actual=1 Psi_NN=0.94\n",
      "iter=318 x1=-1  x2=1 Psi_actual=1 Psi_NN=0.94\n",
      "iter=319 x1=-1  x2=-1 Psi_actual=0 Psi_NN=0.06\n",
      "iter=320 x1=1  x2=1 Psi_actual=1 Psi_NN=0.94\n",
      "iter=321 x1=1  x2=-1 Psi_actual=0 Psi_NN=0.06\n",
      "iter=322 x1=-1  x2=-1 Psi_actual=0 Psi_NN=0.06\n",
      "iter=323 x1=-1  x2=-1 Psi_actual=0 Psi_NN=0.06\n",
      "iter=324 x1=1  x2=1 Psi_actual=1 Psi_NN=0.94\n",
      "iter=325 x1=-1  x2=-1 Psi_actual=0 Psi_NN=0.06\n",
      "iter=326 x1=-1  x2=1 Psi_actual=1 Psi_NN=0.94\n",
      "iter=327 x1=-1  x2=-1 Psi_actual=0 Psi_NN=0.06\n",
      "iter=328 x1=1  x2=1 Psi_actual=1 Psi_NN=0.94\n",
      "iter=329 x1=-1  x2=-1 Psi_actual=0 Psi_NN=0.06\n",
      "iter=330 x1=1  x2=-1 Psi_actual=0 Psi_NN=0.06\n",
      "iter=331 x1=1  x2=1 Psi_actual=1 Psi_NN=0.94\n",
      "iter=332 x1=1  x2=-1 Psi_actual=0 Psi_NN=0.06\n",
      "iter=333 x1=-1  x2=1 Psi_actual=1 Psi_NN=0.94\n",
      "iter=334 x1=-1  x2=-1 Psi_actual=0 Psi_NN=0.06\n",
      "iter=335 x1=1  x2=-1 Psi_actual=0 Psi_NN=0.06\n",
      "iter=336 x1=1  x2=1 Psi_actual=1 Psi_NN=0.94\n",
      "iter=337 x1=-1  x2=-1 Psi_actual=0 Psi_NN=0.06\n",
      "iter=338 x1=-1  x2=1 Psi_actual=1 Psi_NN=0.94\n",
      "iter=339 x1=-1  x2=-1 Psi_actual=0 Psi_NN=0.06\n",
      "iter=340 x1=-1  x2=1 Psi_actual=1 Psi_NN=0.94\n",
      "iter=341 x1=-1  x2=1 Psi_actual=1 Psi_NN=0.94\n",
      "iter=342 x1=-1  x2=-1 Psi_actual=0 Psi_NN=0.06\n",
      "iter=343 x1=-1  x2=-1 Psi_actual=0 Psi_NN=0.06\n",
      "iter=344 x1=1  x2=-1 Psi_actual=0 Psi_NN=0.06\n",
      "iter=345 x1=-1  x2=-1 Psi_actual=0 Psi_NN=0.06\n",
      "iter=346 x1=-1  x2=-1 Psi_actual=0 Psi_NN=0.06\n",
      "iter=347 x1=1  x2=1 Psi_actual=1 Psi_NN=0.94\n",
      "iter=348 x1=-1  x2=-1 Psi_actual=0 Psi_NN=0.06\n",
      "iter=349 x1=-1  x2=1 Psi_actual=1 Psi_NN=0.94\n",
      "iter=350 x1=-1  x2=1 Psi_actual=1 Psi_NN=0.94\n",
      "iter=351 x1=1  x2=1 Psi_actual=1 Psi_NN=0.94\n",
      "iter=352 x1=1  x2=1 Psi_actual=1 Psi_NN=0.94\n",
      "iter=353 x1=1  x2=1 Psi_actual=1 Psi_NN=0.94\n",
      "iter=354 x1=1  x2=1 Psi_actual=1 Psi_NN=0.94\n",
      "iter=355 x1=1  x2=-1 Psi_actual=0 Psi_NN=0.06\n",
      "iter=356 x1=-1  x2=1 Psi_actual=1 Psi_NN=0.94\n",
      "iter=357 x1=1  x2=-1 Psi_actual=0 Psi_NN=0.06\n",
      "iter=358 x1=-1  x2=-1 Psi_actual=0 Psi_NN=0.06\n",
      "iter=359 x1=-1  x2=1 Psi_actual=1 Psi_NN=0.94\n",
      "iter=360 x1=-1  x2=1 Psi_actual=1 Psi_NN=0.94\n",
      "iter=361 x1=-1  x2=1 Psi_actual=1 Psi_NN=0.94\n",
      "iter=362 x1=1  x2=-1 Psi_actual=0 Psi_NN=0.06\n",
      "iter=363 x1=-1  x2=1 Psi_actual=1 Psi_NN=0.94\n",
      "iter=364 x1=-1  x2=-1 Psi_actual=0 Psi_NN=0.06\n",
      "iter=365 x1=1  x2=1 Psi_actual=1 Psi_NN=0.94\n",
      "iter=366 x1=-1  x2=-1 Psi_actual=0 Psi_NN=0.06\n",
      "iter=367 x1=1  x2=-1 Psi_actual=0 Psi_NN=0.06\n",
      "iter=368 x1=1  x2=1 Psi_actual=1 Psi_NN=0.94\n",
      "iter=369 x1=1  x2=1 Psi_actual=1 Psi_NN=0.94\n",
      "iter=370 x1=-1  x2=1 Psi_actual=1 Psi_NN=0.94\n",
      "iter=371 x1=-1  x2=1 Psi_actual=1 Psi_NN=0.94\n",
      "iter=372 x1=-1  x2=1 Psi_actual=1 Psi_NN=0.94\n",
      "iter=373 x1=-1  x2=1 Psi_actual=1 Psi_NN=0.94\n",
      "iter=374 x1=-1  x2=-1 Psi_actual=0 Psi_NN=0.06\n",
      "iter=375 x1=-1  x2=-1 Psi_actual=0 Psi_NN=0.06\n",
      "iter=376 x1=-1  x2=1 Psi_actual=1 Psi_NN=0.94\n",
      "iter=377 x1=1  x2=1 Psi_actual=1 Psi_NN=0.94\n"
     ]
    },
    {
     "name": "stdout",
     "output_type": "stream",
     "text": [
      "iter=378 x1=-1  x2=1 Psi_actual=1 Psi_NN=0.94\n",
      "iter=379 x1=-1  x2=1 Psi_actual=1 Psi_NN=0.94\n",
      "iter=380 x1=-1  x2=-1 Psi_actual=0 Psi_NN=0.06\n",
      "iter=381 x1=-1  x2=-1 Psi_actual=0 Psi_NN=0.06\n",
      "iter=382 x1=-1  x2=1 Psi_actual=1 Psi_NN=0.94\n",
      "iter=383 x1=-1  x2=-1 Psi_actual=0 Psi_NN=0.06\n",
      "iter=384 x1=-1  x2=1 Psi_actual=1 Psi_NN=0.94\n",
      "iter=385 x1=1  x2=-1 Psi_actual=0 Psi_NN=0.06\n",
      "iter=386 x1=-1  x2=1 Psi_actual=1 Psi_NN=0.94\n",
      "iter=387 x1=1  x2=1 Psi_actual=1 Psi_NN=0.94\n",
      "iter=388 x1=-1  x2=-1 Psi_actual=0 Psi_NN=0.05\n",
      "iter=389 x1=1  x2=-1 Psi_actual=0 Psi_NN=0.06\n",
      "iter=390 x1=-1  x2=1 Psi_actual=1 Psi_NN=0.94\n",
      "iter=391 x1=-1  x2=-1 Psi_actual=0 Psi_NN=0.05\n",
      "iter=392 x1=-1  x2=-1 Psi_actual=0 Psi_NN=0.05\n",
      "iter=393 x1=-1  x2=1 Psi_actual=1 Psi_NN=0.94\n",
      "iter=394 x1=-1  x2=-1 Psi_actual=0 Psi_NN=0.05\n",
      "iter=395 x1=-1  x2=1 Psi_actual=1 Psi_NN=0.94\n",
      "iter=396 x1=-1  x2=1 Psi_actual=1 Psi_NN=0.94\n",
      "iter=397 x1=-1  x2=-1 Psi_actual=0 Psi_NN=0.05\n",
      "iter=398 x1=1  x2=1 Psi_actual=1 Psi_NN=0.95\n",
      "iter=399 x1=-1  x2=1 Psi_actual=1 Psi_NN=0.94\n",
      "iter=400 x1=-1  x2=-1 Psi_actual=0 Psi_NN=0.05\n",
      "iter=401 x1=-1  x2=-1 Psi_actual=0 Psi_NN=0.05\n",
      "iter=402 x1=1  x2=-1 Psi_actual=0 Psi_NN=0.06\n",
      "iter=403 x1=1  x2=-1 Psi_actual=0 Psi_NN=0.06\n",
      "iter=404 x1=-1  x2=1 Psi_actual=1 Psi_NN=0.94\n",
      "iter=405 x1=1  x2=-1 Psi_actual=0 Psi_NN=0.06\n",
      "iter=406 x1=1  x2=-1 Psi_actual=0 Psi_NN=0.06\n",
      "iter=407 x1=-1  x2=1 Psi_actual=1 Psi_NN=0.94\n",
      "iter=408 x1=-1  x2=1 Psi_actual=1 Psi_NN=0.94\n",
      "iter=409 x1=-1  x2=-1 Psi_actual=0 Psi_NN=0.05\n",
      "iter=410 x1=1  x2=1 Psi_actual=1 Psi_NN=0.95\n",
      "iter=411 x1=1  x2=1 Psi_actual=1 Psi_NN=0.95\n",
      "iter=412 x1=1  x2=-1 Psi_actual=0 Psi_NN=0.06\n",
      "iter=413 x1=-1  x2=-1 Psi_actual=0 Psi_NN=0.05\n",
      "iter=414 x1=-1  x2=-1 Psi_actual=0 Psi_NN=0.05\n",
      "iter=415 x1=1  x2=1 Psi_actual=1 Psi_NN=0.95\n",
      "iter=416 x1=-1  x2=1 Psi_actual=1 Psi_NN=0.94\n",
      "iter=417 x1=-1  x2=1 Psi_actual=1 Psi_NN=0.94\n",
      "iter=418 x1=-1  x2=1 Psi_actual=1 Psi_NN=0.94\n",
      "iter=419 x1=1  x2=-1 Psi_actual=0 Psi_NN=0.06\n",
      "iter=420 x1=-1  x2=-1 Psi_actual=0 Psi_NN=0.05\n",
      "iter=421 x1=-1  x2=-1 Psi_actual=0 Psi_NN=0.05\n",
      "iter=422 x1=-1  x2=1 Psi_actual=1 Psi_NN=0.95\n",
      "iter=423 x1=1  x2=-1 Psi_actual=0 Psi_NN=0.05\n",
      "iter=424 x1=-1  x2=1 Psi_actual=1 Psi_NN=0.95\n",
      "iter=425 x1=1  x2=-1 Psi_actual=0 Psi_NN=0.05\n",
      "iter=426 x1=-1  x2=1 Psi_actual=1 Psi_NN=0.95\n",
      "iter=427 x1=1  x2=1 Psi_actual=1 Psi_NN=0.95\n",
      "iter=428 x1=-1  x2=1 Psi_actual=1 Psi_NN=0.95\n",
      "iter=429 x1=-1  x2=1 Psi_actual=1 Psi_NN=0.95\n",
      "iter=430 x1=1  x2=-1 Psi_actual=0 Psi_NN=0.05\n",
      "iter=431 x1=-1  x2=-1 Psi_actual=0 Psi_NN=0.05\n",
      "iter=432 x1=1  x2=1 Psi_actual=1 Psi_NN=0.95\n",
      "iter=433 x1=1  x2=-1 Psi_actual=0 Psi_NN=0.05\n",
      "iter=434 x1=1  x2=1 Psi_actual=1 Psi_NN=0.95\n",
      "iter=435 x1=1  x2=1 Psi_actual=1 Psi_NN=0.95\n",
      "iter=436 x1=-1  x2=1 Psi_actual=1 Psi_NN=0.95\n",
      "iter=437 x1=1  x2=1 Psi_actual=1 Psi_NN=0.95\n",
      "iter=438 x1=-1  x2=1 Psi_actual=1 Psi_NN=0.95\n",
      "iter=439 x1=-1  x2=1 Psi_actual=1 Psi_NN=0.95\n",
      "iter=440 x1=-1  x2=-1 Psi_actual=0 Psi_NN=0.05\n",
      "iter=441 x1=1  x2=1 Psi_actual=1 Psi_NN=0.95\n",
      "iter=442 x1=1  x2=-1 Psi_actual=0 Psi_NN=0.05\n",
      "iter=443 x1=1  x2=-1 Psi_actual=0 Psi_NN=0.05\n",
      "iter=444 x1=-1  x2=-1 Psi_actual=0 Psi_NN=0.05\n",
      "iter=445 x1=1  x2=-1 Psi_actual=0 Psi_NN=0.05\n",
      "iter=446 x1=1  x2=1 Psi_actual=1 Psi_NN=0.95\n",
      "iter=447 x1=-1  x2=-1 Psi_actual=0 Psi_NN=0.05\n",
      "iter=448 x1=-1  x2=1 Psi_actual=1 Psi_NN=0.95\n",
      "iter=449 x1=1  x2=-1 Psi_actual=0 Psi_NN=0.05\n",
      "iter=450 x1=-1  x2=1 Psi_actual=1 Psi_NN=0.95\n",
      "iter=451 x1=1  x2=1 Psi_actual=1 Psi_NN=0.95\n",
      "iter=452 x1=-1  x2=-1 Psi_actual=0 Psi_NN=0.05\n",
      "iter=453 x1=-1  x2=-1 Psi_actual=0 Psi_NN=0.05\n",
      "iter=454 x1=-1  x2=1 Psi_actual=1 Psi_NN=0.95\n",
      "iter=455 x1=1  x2=1 Psi_actual=1 Psi_NN=0.95\n",
      "iter=456 x1=-1  x2=1 Psi_actual=1 Psi_NN=0.95\n",
      "iter=457 x1=1  x2=-1 Psi_actual=0 Psi_NN=0.05\n",
      "iter=458 x1=1  x2=1 Psi_actual=1 Psi_NN=0.95\n",
      "iter=459 x1=1  x2=1 Psi_actual=1 Psi_NN=0.95\n",
      "iter=460 x1=1  x2=1 Psi_actual=1 Psi_NN=0.95\n",
      "iter=461 x1=-1  x2=-1 Psi_actual=0 Psi_NN=0.05\n",
      "iter=462 x1=1  x2=-1 Psi_actual=0 Psi_NN=0.05\n",
      "iter=463 x1=-1  x2=1 Psi_actual=1 Psi_NN=0.95\n",
      "iter=464 x1=-1  x2=-1 Psi_actual=0 Psi_NN=0.05\n",
      "iter=465 x1=-1  x2=-1 Psi_actual=0 Psi_NN=0.05\n",
      "iter=466 x1=-1  x2=1 Psi_actual=1 Psi_NN=0.95\n",
      "iter=467 x1=1  x2=1 Psi_actual=1 Psi_NN=0.95\n",
      "iter=468 x1=1  x2=1 Psi_actual=1 Psi_NN=0.95\n",
      "iter=469 x1=1  x2=-1 Psi_actual=0 Psi_NN=0.05\n",
      "iter=470 x1=-1  x2=1 Psi_actual=1 Psi_NN=0.95\n",
      "iter=471 x1=-1  x2=1 Psi_actual=1 Psi_NN=0.95\n",
      "iter=472 x1=1  x2=1 Psi_actual=1 Psi_NN=0.95\n",
      "iter=473 x1=-1  x2=1 Psi_actual=1 Psi_NN=0.95\n",
      "iter=474 x1=1  x2=1 Psi_actual=1 Psi_NN=0.95\n",
      "iter=475 x1=1  x2=1 Psi_actual=1 Psi_NN=0.95\n",
      "iter=476 x1=-1  x2=1 Psi_actual=1 Psi_NN=0.95\n",
      "iter=477 x1=-1  x2=-1 Psi_actual=0 Psi_NN=0.05\n",
      "iter=478 x1=1  x2=-1 Psi_actual=0 Psi_NN=0.05\n",
      "iter=479 x1=-1  x2=1 Psi_actual=1 Psi_NN=0.95\n",
      "iter=480 x1=1  x2=1 Psi_actual=1 Psi_NN=0.95\n",
      "iter=481 x1=1  x2=1 Psi_actual=1 Psi_NN=0.95\n",
      "iter=482 x1=-1  x2=1 Psi_actual=1 Psi_NN=0.95\n",
      "iter=483 x1=1  x2=-1 Psi_actual=0 Psi_NN=0.05\n",
      "iter=484 x1=1  x2=1 Psi_actual=1 Psi_NN=0.95\n",
      "iter=485 x1=1  x2=-1 Psi_actual=0 Psi_NN=0.05\n",
      "iter=486 x1=-1  x2=1 Psi_actual=1 Psi_NN=0.95\n",
      "iter=487 x1=1  x2=-1 Psi_actual=0 Psi_NN=0.05\n",
      "iter=488 x1=-1  x2=1 Psi_actual=1 Psi_NN=0.95\n",
      "iter=489 x1=-1  x2=1 Psi_actual=1 Psi_NN=0.95\n",
      "iter=490 x1=1  x2=-1 Psi_actual=0 Psi_NN=0.05\n",
      "iter=491 x1=1  x2=-1 Psi_actual=0 Psi_NN=0.05\n",
      "iter=492 x1=1  x2=-1 Psi_actual=0 Psi_NN=0.05\n",
      "iter=493 x1=-1  x2=-1 Psi_actual=0 Psi_NN=0.05\n",
      "iter=494 x1=1  x2=-1 Psi_actual=0 Psi_NN=0.05\n",
      "iter=495 x1=1  x2=-1 Psi_actual=0 Psi_NN=0.05\n",
      "iter=496 x1=-1  x2=-1 Psi_actual=0 Psi_NN=0.05\n",
      "iter=497 x1=-1  x2=-1 Psi_actual=0 Psi_NN=0.05\n",
      "iter=498 x1=1  x2=-1 Psi_actual=0 Psi_NN=0.05\n",
      "iter=499 x1=1  x2=1 Psi_actual=1 Psi_NN=0.95\n",
      "iter=500 x1=1  x2=-1 Psi_actual=0 Psi_NN=0.05\n",
      "iter=501 x1=-1  x2=-1 Psi_actual=0 Psi_NN=0.05\n",
      "iter=502 x1=1  x2=-1 Psi_actual=0 Psi_NN=0.05\n",
      "iter=503 x1=-1  x2=1 Psi_actual=1 Psi_NN=0.95\n",
      "iter=504 x1=-1  x2=1 Psi_actual=1 Psi_NN=0.95\n",
      "iter=505 x1=-1  x2=1 Psi_actual=1 Psi_NN=0.95\n",
      "iter=506 x1=1  x2=-1 Psi_actual=0 Psi_NN=0.05\n",
      "iter=507 x1=-1  x2=1 Psi_actual=1 Psi_NN=0.95\n",
      "iter=508 x1=-1  x2=-1 Psi_actual=0 Psi_NN=0.05\n",
      "iter=509 x1=-1  x2=1 Psi_actual=1 Psi_NN=0.95\n",
      "iter=510 x1=1  x2=1 Psi_actual=1 Psi_NN=0.95\n",
      "iter=511 x1=-1  x2=1 Psi_actual=1 Psi_NN=0.95\n",
      "iter=512 x1=-1  x2=1 Psi_actual=1 Psi_NN=0.95\n",
      "iter=513 x1=-1  x2=1 Psi_actual=1 Psi_NN=0.95\n",
      "iter=514 x1=-1  x2=-1 Psi_actual=0 Psi_NN=0.05\n",
      "iter=515 x1=-1  x2=1 Psi_actual=1 Psi_NN=0.95\n",
      "iter=516 x1=-1  x2=-1 Psi_actual=0 Psi_NN=0.05\n",
      "iter=517 x1=1  x2=1 Psi_actual=1 Psi_NN=0.95\n",
      "iter=518 x1=-1  x2=-1 Psi_actual=0 Psi_NN=0.05\n",
      "iter=519 x1=1  x2=-1 Psi_actual=0 Psi_NN=0.05\n",
      "iter=520 x1=1  x2=-1 Psi_actual=0 Psi_NN=0.05\n",
      "iter=521 x1=1  x2=-1 Psi_actual=0 Psi_NN=0.05\n",
      "iter=522 x1=1  x2=-1 Psi_actual=0 Psi_NN=0.05\n",
      "iter=523 x1=-1  x2=1 Psi_actual=1 Psi_NN=0.95\n",
      "iter=524 x1=1  x2=-1 Psi_actual=0 Psi_NN=0.05\n",
      "iter=525 x1=1  x2=-1 Psi_actual=0 Psi_NN=0.05\n",
      "iter=526 x1=-1  x2=-1 Psi_actual=0 Psi_NN=0.05\n",
      "iter=527 x1=-1  x2=-1 Psi_actual=0 Psi_NN=0.05\n",
      "iter=528 x1=1  x2=1 Psi_actual=1 Psi_NN=0.95\n",
      "iter=529 x1=-1  x2=1 Psi_actual=1 Psi_NN=0.95\n",
      "iter=530 x1=-1  x2=1 Psi_actual=1 Psi_NN=0.95\n",
      "iter=531 x1=1  x2=-1 Psi_actual=0 Psi_NN=0.05\n",
      "iter=532 x1=-1  x2=-1 Psi_actual=0 Psi_NN=0.05\n",
      "iter=533 x1=-1  x2=-1 Psi_actual=0 Psi_NN=0.05\n",
      "iter=534 x1=-1  x2=1 Psi_actual=1 Psi_NN=0.95\n",
      "iter=535 x1=-1  x2=-1 Psi_actual=0 Psi_NN=0.05\n",
      "iter=536 x1=-1  x2=-1 Psi_actual=0 Psi_NN=0.05\n",
      "iter=537 x1=1  x2=-1 Psi_actual=0 Psi_NN=0.05\n",
      "iter=538 x1=-1  x2=1 Psi_actual=1 Psi_NN=0.95\n",
      "iter=539 x1=-1  x2=-1 Psi_actual=0 Psi_NN=0.05\n",
      "iter=540 x1=-1  x2=-1 Psi_actual=0 Psi_NN=0.05\n",
      "iter=541 x1=-1  x2=-1 Psi_actual=0 Psi_NN=0.05\n",
      "iter=542 x1=-1  x2=1 Psi_actual=1 Psi_NN=0.95\n",
      "iter=543 x1=-1  x2=-1 Psi_actual=0 Psi_NN=0.05\n",
      "iter=544 x1=1  x2=-1 Psi_actual=0 Psi_NN=0.05\n",
      "iter=545 x1=-1  x2=-1 Psi_actual=0 Psi_NN=0.05\n",
      "iter=546 x1=-1  x2=1 Psi_actual=1 Psi_NN=0.95\n",
      "iter=547 x1=1  x2=-1 Psi_actual=0 Psi_NN=0.05\n",
      "iter=548 x1=1  x2=-1 Psi_actual=0 Psi_NN=0.05\n",
      "iter=549 x1=-1  x2=-1 Psi_actual=0 Psi_NN=0.05\n",
      "iter=550 x1=-1  x2=1 Psi_actual=1 Psi_NN=0.95\n",
      "iter=551 x1=-1  x2=1 Psi_actual=1 Psi_NN=0.95\n",
      "iter=552 x1=-1  x2=1 Psi_actual=1 Psi_NN=0.95\n",
      "iter=553 x1=1  x2=-1 Psi_actual=0 Psi_NN=0.05\n",
      "iter=554 x1=-1  x2=1 Psi_actual=1 Psi_NN=0.95\n",
      "iter=555 x1=-1  x2=-1 Psi_actual=0 Psi_NN=0.05\n",
      "iter=556 x1=-1  x2=1 Psi_actual=1 Psi_NN=0.95\n",
      "iter=557 x1=-1  x2=1 Psi_actual=1 Psi_NN=0.95\n",
      "iter=558 x1=-1  x2=-1 Psi_actual=0 Psi_NN=0.05\n",
      "iter=559 x1=-1  x2=1 Psi_actual=1 Psi_NN=0.95\n",
      "iter=560 x1=-1  x2=1 Psi_actual=1 Psi_NN=0.95\n",
      "iter=561 x1=-1  x2=1 Psi_actual=1 Psi_NN=0.95\n",
      "iter=562 x1=1  x2=-1 Psi_actual=0 Psi_NN=0.05\n",
      "iter=563 x1=-1  x2=1 Psi_actual=1 Psi_NN=0.95\n",
      "iter=564 x1=-1  x2=-1 Psi_actual=0 Psi_NN=0.05\n",
      "iter=565 x1=1  x2=-1 Psi_actual=0 Psi_NN=0.05\n",
      "iter=566 x1=-1  x2=1 Psi_actual=1 Psi_NN=0.95\n",
      "iter=567 x1=-1  x2=-1 Psi_actual=0 Psi_NN=0.05\n",
      "iter=568 x1=-1  x2=1 Psi_actual=1 Psi_NN=0.95\n",
      "iter=569 x1=1  x2=-1 Psi_actual=0 Psi_NN=0.05\n",
      "iter=570 x1=-1  x2=-1 Psi_actual=0 Psi_NN=0.05\n",
      "iter=571 x1=1  x2=1 Psi_actual=1 Psi_NN=0.95\n",
      "iter=572 x1=-1  x2=1 Psi_actual=1 Psi_NN=0.96\n",
      "iter=573 x1=-1  x2=-1 Psi_actual=0 Psi_NN=0.05\n",
      "iter=574 x1=1  x2=-1 Psi_actual=0 Psi_NN=0.04\n",
      "iter=575 x1=-1  x2=-1 Psi_actual=0 Psi_NN=0.05\n",
      "iter=576 x1=1  x2=-1 Psi_actual=0 Psi_NN=0.04\n",
      "iter=577 x1=-1  x2=1 Psi_actual=1 Psi_NN=0.96\n",
      "iter=578 x1=-1  x2=1 Psi_actual=1 Psi_NN=0.96\n",
      "iter=579 x1=1  x2=1 Psi_actual=1 Psi_NN=0.95\n",
      "iter=580 x1=1  x2=1 Psi_actual=1 Psi_NN=0.95\n",
      "iter=581 x1=-1  x2=1 Psi_actual=1 Psi_NN=0.96\n",
      "iter=582 x1=1  x2=1 Psi_actual=1 Psi_NN=0.95\n",
      "iter=583 x1=1  x2=1 Psi_actual=1 Psi_NN=0.95\n",
      "iter=584 x1=1  x2=-1 Psi_actual=0 Psi_NN=0.04\n",
      "iter=585 x1=-1  x2=1 Psi_actual=1 Psi_NN=0.96\n",
      "iter=586 x1=-1  x2=-1 Psi_actual=0 Psi_NN=0.05\n",
      "iter=587 x1=-1  x2=1 Psi_actual=1 Psi_NN=0.96\n",
      "iter=588 x1=1  x2=-1 Psi_actual=0 Psi_NN=0.04\n",
      "iter=589 x1=-1  x2=1 Psi_actual=1 Psi_NN=0.96\n",
      "iter=590 x1=1  x2=-1 Psi_actual=0 Psi_NN=0.04\n",
      "iter=591 x1=-1  x2=1 Psi_actual=1 Psi_NN=0.96\n",
      "iter=592 x1=1  x2=-1 Psi_actual=0 Psi_NN=0.04\n",
      "iter=593 x1=-1  x2=-1 Psi_actual=0 Psi_NN=0.05\n",
      "iter=594 x1=1  x2=-1 Psi_actual=0 Psi_NN=0.04\n",
      "iter=595 x1=1  x2=-1 Psi_actual=0 Psi_NN=0.04\n",
      "iter=596 x1=-1  x2=-1 Psi_actual=0 Psi_NN=0.05\n",
      "iter=597 x1=1  x2=1 Psi_actual=1 Psi_NN=0.95\n",
      "iter=598 x1=1  x2=-1 Psi_actual=0 Psi_NN=0.04\n",
      "iter=599 x1=-1  x2=-1 Psi_actual=0 Psi_NN=0.05\n",
      "iter=600 x1=-1  x2=-1 Psi_actual=0 Psi_NN=0.05\n",
      "iter=601 x1=1  x2=-1 Psi_actual=0 Psi_NN=0.04\n",
      "iter=602 x1=1  x2=1 Psi_actual=1 Psi_NN=0.95\n",
      "iter=603 x1=1  x2=-1 Psi_actual=0 Psi_NN=0.04\n",
      "iter=604 x1=-1  x2=-1 Psi_actual=0 Psi_NN=0.05\n",
      "iter=605 x1=1  x2=1 Psi_actual=1 Psi_NN=0.96\n",
      "iter=606 x1=1  x2=1 Psi_actual=1 Psi_NN=0.96\n",
      "iter=607 x1=1  x2=1 Psi_actual=1 Psi_NN=0.96\n",
      "iter=608 x1=-1  x2=-1 Psi_actual=0 Psi_NN=0.04\n",
      "iter=609 x1=1  x2=1 Psi_actual=1 Psi_NN=0.96\n",
      "iter=610 x1=1  x2=1 Psi_actual=1 Psi_NN=0.96\n",
      "iter=611 x1=-1  x2=-1 Psi_actual=0 Psi_NN=0.04\n",
      "iter=612 x1=1  x2=-1 Psi_actual=0 Psi_NN=0.04\n",
      "iter=613 x1=-1  x2=-1 Psi_actual=0 Psi_NN=0.04\n",
      "iter=614 x1=-1  x2=-1 Psi_actual=0 Psi_NN=0.04\n",
      "iter=615 x1=1  x2=1 Psi_actual=1 Psi_NN=0.96\n",
      "iter=616 x1=1  x2=1 Psi_actual=1 Psi_NN=0.96\n",
      "iter=617 x1=1  x2=-1 Psi_actual=0 Psi_NN=0.04\n",
      "iter=618 x1=1  x2=1 Psi_actual=1 Psi_NN=0.96\n",
      "iter=619 x1=-1  x2=1 Psi_actual=1 Psi_NN=0.96\n",
      "iter=620 x1=1  x2=1 Psi_actual=1 Psi_NN=0.96\n",
      "iter=621 x1=1  x2=-1 Psi_actual=0 Psi_NN=0.04\n",
      "iter=622 x1=-1  x2=-1 Psi_actual=0 Psi_NN=0.04\n",
      "iter=623 x1=-1  x2=-1 Psi_actual=0 Psi_NN=0.04\n",
      "iter=624 x1=1  x2=1 Psi_actual=1 Psi_NN=0.96\n",
      "iter=625 x1=1  x2=-1 Psi_actual=0 Psi_NN=0.04\n",
      "iter=626 x1=1  x2=1 Psi_actual=1 Psi_NN=0.96\n",
      "iter=627 x1=-1  x2=-1 Psi_actual=0 Psi_NN=0.04\n",
      "iter=628 x1=-1  x2=-1 Psi_actual=0 Psi_NN=0.04\n",
      "iter=629 x1=1  x2=-1 Psi_actual=0 Psi_NN=0.04\n",
      "iter=630 x1=-1  x2=1 Psi_actual=1 Psi_NN=0.96\n",
      "iter=631 x1=-1  x2=1 Psi_actual=1 Psi_NN=0.96\n",
      "iter=632 x1=-1  x2=-1 Psi_actual=0 Psi_NN=0.04\n",
      "iter=633 x1=1  x2=-1 Psi_actual=0 Psi_NN=0.04\n",
      "iter=634 x1=-1  x2=1 Psi_actual=1 Psi_NN=0.96\n",
      "iter=635 x1=-1  x2=-1 Psi_actual=0 Psi_NN=0.04\n",
      "iter=636 x1=1  x2=-1 Psi_actual=0 Psi_NN=0.04\n",
      "iter=637 x1=1  x2=-1 Psi_actual=0 Psi_NN=0.04\n",
      "iter=638 x1=-1  x2=-1 Psi_actual=0 Psi_NN=0.04\n",
      "iter=639 x1=-1  x2=1 Psi_actual=1 Psi_NN=0.96\n",
      "iter=640 x1=-1  x2=1 Psi_actual=1 Psi_NN=0.96\n",
      "iter=641 x1=1  x2=1 Psi_actual=1 Psi_NN=0.96\n",
      "iter=642 x1=1  x2=-1 Psi_actual=0 Psi_NN=0.04\n",
      "iter=643 x1=1  x2=-1 Psi_actual=0 Psi_NN=0.04\n",
      "iter=644 x1=-1  x2=1 Psi_actual=1 Psi_NN=0.96\n",
      "iter=645 x1=-1  x2=-1 Psi_actual=0 Psi_NN=0.04\n",
      "iter=646 x1=-1  x2=-1 Psi_actual=0 Psi_NN=0.04\n",
      "iter=647 x1=-1  x2=1 Psi_actual=1 Psi_NN=0.96\n",
      "iter=648 x1=-1  x2=-1 Psi_actual=0 Psi_NN=0.04\n",
      "iter=649 x1=-1  x2=-1 Psi_actual=0 Psi_NN=0.04\n",
      "iter=650 x1=-1  x2=1 Psi_actual=1 Psi_NN=0.96\n",
      "iter=651 x1=-1  x2=-1 Psi_actual=0 Psi_NN=0.04\n",
      "iter=652 x1=1  x2=1 Psi_actual=1 Psi_NN=0.96\n",
      "iter=653 x1=1  x2=1 Psi_actual=1 Psi_NN=0.96\n",
      "iter=654 x1=-1  x2=-1 Psi_actual=0 Psi_NN=0.04\n",
      "iter=655 x1=-1  x2=-1 Psi_actual=0 Psi_NN=0.04\n",
      "iter=656 x1=1  x2=1 Psi_actual=1 Psi_NN=0.96\n",
      "iter=657 x1=1  x2=1 Psi_actual=1 Psi_NN=0.96\n",
      "iter=658 x1=1  x2=1 Psi_actual=1 Psi_NN=0.96\n",
      "iter=659 x1=1  x2=1 Psi_actual=1 Psi_NN=0.96\n",
      "iter=660 x1=1  x2=-1 Psi_actual=0 Psi_NN=0.04\n",
      "iter=661 x1=1  x2=-1 Psi_actual=0 Psi_NN=0.04\n",
      "iter=662 x1=-1  x2=-1 Psi_actual=0 Psi_NN=0.04\n",
      "iter=663 x1=-1  x2=-1 Psi_actual=0 Psi_NN=0.04\n",
      "iter=664 x1=1  x2=-1 Psi_actual=0 Psi_NN=0.04\n",
      "iter=665 x1=1  x2=1 Psi_actual=1 Psi_NN=0.96\n",
      "iter=666 x1=-1  x2=1 Psi_actual=1 Psi_NN=0.96\n",
      "iter=667 x1=-1  x2=1 Psi_actual=1 Psi_NN=0.96\n",
      "iter=668 x1=-1  x2=1 Psi_actual=1 Psi_NN=0.96\n",
      "iter=669 x1=-1  x2=1 Psi_actual=1 Psi_NN=0.96\n",
      "iter=670 x1=1  x2=-1 Psi_actual=0 Psi_NN=0.04\n",
      "iter=671 x1=1  x2=-1 Psi_actual=0 Psi_NN=0.04\n",
      "iter=672 x1=1  x2=1 Psi_actual=1 Psi_NN=0.96\n",
      "iter=673 x1=-1  x2=-1 Psi_actual=0 Psi_NN=0.04\n",
      "iter=674 x1=1  x2=-1 Psi_actual=0 Psi_NN=0.04\n",
      "iter=675 x1=1  x2=1 Psi_actual=1 Psi_NN=0.96\n",
      "iter=676 x1=-1  x2=-1 Psi_actual=0 Psi_NN=0.04\n",
      "iter=677 x1=-1  x2=1 Psi_actual=1 Psi_NN=0.96\n",
      "iter=678 x1=-1  x2=1 Psi_actual=1 Psi_NN=0.96\n",
      "iter=679 x1=-1  x2=-1 Psi_actual=0 Psi_NN=0.04\n",
      "iter=680 x1=-1  x2=-1 Psi_actual=0 Psi_NN=0.04\n",
      "iter=681 x1=-1  x2=1 Psi_actual=1 Psi_NN=0.96\n",
      "iter=682 x1=-1  x2=1 Psi_actual=1 Psi_NN=0.96\n",
      "iter=683 x1=-1  x2=1 Psi_actual=1 Psi_NN=0.96\n",
      "iter=684 x1=1  x2=-1 Psi_actual=0 Psi_NN=0.04\n",
      "iter=685 x1=1  x2=1 Psi_actual=1 Psi_NN=0.96\n",
      "iter=686 x1=1  x2=1 Psi_actual=1 Psi_NN=0.96\n",
      "iter=687 x1=1  x2=1 Psi_actual=1 Psi_NN=0.96\n",
      "iter=688 x1=-1  x2=-1 Psi_actual=0 Psi_NN=0.04\n",
      "iter=689 x1=1  x2=-1 Psi_actual=0 Psi_NN=0.04\n",
      "iter=690 x1=-1  x2=1 Psi_actual=1 Psi_NN=0.96\n",
      "iter=691 x1=1  x2=-1 Psi_actual=0 Psi_NN=0.04\n",
      "iter=692 x1=-1  x2=1 Psi_actual=1 Psi_NN=0.96\n",
      "iter=693 x1=-1  x2=1 Psi_actual=1 Psi_NN=0.96\n",
      "iter=694 x1=1  x2=-1 Psi_actual=0 Psi_NN=0.04\n",
      "iter=695 x1=-1  x2=1 Psi_actual=1 Psi_NN=0.96\n",
      "iter=696 x1=1  x2=-1 Psi_actual=0 Psi_NN=0.04\n",
      "iter=697 x1=-1  x2=-1 Psi_actual=0 Psi_NN=0.04\n",
      "iter=698 x1=-1  x2=-1 Psi_actual=0 Psi_NN=0.04\n",
      "iter=699 x1=1  x2=-1 Psi_actual=0 Psi_NN=0.04\n",
      "iter=700 x1=1  x2=-1 Psi_actual=0 Psi_NN=0.04\n",
      "iter=701 x1=1  x2=-1 Psi_actual=0 Psi_NN=0.04\n",
      "iter=702 x1=1  x2=1 Psi_actual=1 Psi_NN=0.96\n",
      "iter=703 x1=-1  x2=1 Psi_actual=1 Psi_NN=0.96\n",
      "iter=704 x1=-1  x2=-1 Psi_actual=0 Psi_NN=0.04\n",
      "iter=705 x1=1  x2=1 Psi_actual=1 Psi_NN=0.96\n",
      "iter=706 x1=1  x2=1 Psi_actual=1 Psi_NN=0.96\n",
      "iter=707 x1=1  x2=-1 Psi_actual=0 Psi_NN=0.04\n",
      "iter=708 x1=-1  x2=-1 Psi_actual=0 Psi_NN=0.04\n",
      "iter=709 x1=-1  x2=1 Psi_actual=1 Psi_NN=0.96\n",
      "iter=710 x1=1  x2=-1 Psi_actual=0 Psi_NN=0.04\n",
      "iter=711 x1=-1  x2=1 Psi_actual=1 Psi_NN=0.96\n",
      "iter=712 x1=-1  x2=-1 Psi_actual=0 Psi_NN=0.04\n",
      "iter=713 x1=-1  x2=1 Psi_actual=1 Psi_NN=0.96\n",
      "iter=714 x1=1  x2=-1 Psi_actual=0 Psi_NN=0.04\n",
      "iter=715 x1=-1  x2=1 Psi_actual=1 Psi_NN=0.96\n",
      "iter=716 x1=1  x2=1 Psi_actual=1 Psi_NN=0.96\n",
      "iter=717 x1=1  x2=-1 Psi_actual=0 Psi_NN=0.04\n",
      "iter=718 x1=-1  x2=-1 Psi_actual=0 Psi_NN=0.04\n",
      "iter=719 x1=1  x2=-1 Psi_actual=0 Psi_NN=0.04\n",
      "iter=720 x1=-1  x2=1 Psi_actual=1 Psi_NN=0.96\n",
      "iter=721 x1=-1  x2=-1 Psi_actual=0 Psi_NN=0.04\n",
      "iter=722 x1=-1  x2=1 Psi_actual=1 Psi_NN=0.96\n",
      "iter=723 x1=-1  x2=-1 Psi_actual=0 Psi_NN=0.04\n",
      "iter=724 x1=-1  x2=1 Psi_actual=1 Psi_NN=0.96\n",
      "iter=725 x1=-1  x2=1 Psi_actual=1 Psi_NN=0.96\n",
      "iter=726 x1=-1  x2=-1 Psi_actual=0 Psi_NN=0.04\n",
      "iter=727 x1=-1  x2=-1 Psi_actual=0 Psi_NN=0.04\n",
      "iter=728 x1=-1  x2=1 Psi_actual=1 Psi_NN=0.96\n",
      "iter=729 x1=-1  x2=1 Psi_actual=1 Psi_NN=0.96\n",
      "iter=730 x1=1  x2=1 Psi_actual=1 Psi_NN=0.96\n",
      "iter=731 x1=-1  x2=-1 Psi_actual=0 Psi_NN=0.04\n",
      "iter=732 x1=1  x2=1 Psi_actual=1 Psi_NN=0.96\n",
      "iter=733 x1=-1  x2=-1 Psi_actual=0 Psi_NN=0.04\n",
      "iter=734 x1=-1  x2=1 Psi_actual=1 Psi_NN=0.96\n",
      "iter=735 x1=1  x2=1 Psi_actual=1 Psi_NN=0.96\n",
      "iter=736 x1=1  x2=-1 Psi_actual=0 Psi_NN=0.04\n",
      "iter=737 x1=-1  x2=1 Psi_actual=1 Psi_NN=0.96\n",
      "iter=738 x1=1  x2=1 Psi_actual=1 Psi_NN=0.96\n",
      "iter=739 x1=-1  x2=-1 Psi_actual=0 Psi_NN=0.04\n",
      "iter=740 x1=-1  x2=-1 Psi_actual=0 Psi_NN=0.04\n",
      "iter=741 x1=1  x2=1 Psi_actual=1 Psi_NN=0.96\n",
      "iter=742 x1=-1  x2=-1 Psi_actual=0 Psi_NN=0.04\n",
      "iter=743 x1=-1  x2=1 Psi_actual=1 Psi_NN=0.96\n",
      "iter=744 x1=-1  x2=1 Psi_actual=1 Psi_NN=0.96\n",
      "iter=745 x1=1  x2=-1 Psi_actual=0 Psi_NN=0.04\n",
      "iter=746 x1=1  x2=-1 Psi_actual=0 Psi_NN=0.04\n",
      "iter=747 x1=1  x2=-1 Psi_actual=0 Psi_NN=0.04\n",
      "iter=748 x1=-1  x2=-1 Psi_actual=0 Psi_NN=0.04\n",
      "iter=749 x1=1  x2=-1 Psi_actual=0 Psi_NN=0.04\n",
      "iter=750 x1=-1  x2=1 Psi_actual=1 Psi_NN=0.96\n",
      "iter=751 x1=-1  x2=1 Psi_actual=1 Psi_NN=0.96\n",
      "iter=752 x1=-1  x2=1 Psi_actual=1 Psi_NN=0.96\n",
      "iter=753 x1=1  x2=-1 Psi_actual=0 Psi_NN=0.04\n",
      "iter=754 x1=-1  x2=1 Psi_actual=1 Psi_NN=0.96\n",
      "iter=755 x1=-1  x2=1 Psi_actual=1 Psi_NN=0.96\n",
      "iter=756 x1=-1  x2=-1 Psi_actual=0 Psi_NN=0.04\n",
      "iter=757 x1=-1  x2=-1 Psi_actual=0 Psi_NN=0.04\n",
      "iter=758 x1=-1  x2=1 Psi_actual=1 Psi_NN=0.96\n",
      "iter=759 x1=1  x2=1 Psi_actual=1 Psi_NN=0.96\n",
      "iter=760 x1=1  x2=-1 Psi_actual=0 Psi_NN=0.04\n",
      "iter=761 x1=1  x2=1 Psi_actual=1 Psi_NN=0.96\n",
      "iter=762 x1=-1  x2=1 Psi_actual=1 Psi_NN=0.96\n",
      "iter=763 x1=-1  x2=1 Psi_actual=1 Psi_NN=0.96\n",
      "iter=764 x1=-1  x2=1 Psi_actual=1 Psi_NN=0.96\n",
      "iter=765 x1=1  x2=1 Psi_actual=1 Psi_NN=0.96\n",
      "iter=766 x1=1  x2=-1 Psi_actual=0 Psi_NN=0.04\n",
      "iter=767 x1=1  x2=1 Psi_actual=1 Psi_NN=0.96\n",
      "iter=768 x1=1  x2=1 Psi_actual=1 Psi_NN=0.96\n",
      "iter=769 x1=1  x2=-1 Psi_actual=0 Psi_NN=0.04\n",
      "iter=770 x1=1  x2=-1 Psi_actual=0 Psi_NN=0.04\n",
      "iter=771 x1=1  x2=-1 Psi_actual=0 Psi_NN=0.04\n",
      "iter=772 x1=-1  x2=1 Psi_actual=1 Psi_NN=0.96\n",
      "iter=773 x1=1  x2=-1 Psi_actual=0 Psi_NN=0.04\n",
      "iter=774 x1=-1  x2=-1 Psi_actual=0 Psi_NN=0.04\n",
      "iter=775 x1=1  x2=1 Psi_actual=1 Psi_NN=0.96\n",
      "iter=776 x1=1  x2=-1 Psi_actual=0 Psi_NN=0.04\n",
      "iter=777 x1=-1  x2=1 Psi_actual=1 Psi_NN=0.96\n",
      "iter=778 x1=-1  x2=-1 Psi_actual=0 Psi_NN=0.04\n",
      "iter=779 x1=1  x2=-1 Psi_actual=0 Psi_NN=0.04\n",
      "iter=780 x1=-1  x2=1 Psi_actual=1 Psi_NN=0.96\n",
      "iter=781 x1=1  x2=1 Psi_actual=1 Psi_NN=0.96\n",
      "iter=782 x1=-1  x2=1 Psi_actual=1 Psi_NN=0.96\n",
      "iter=783 x1=-1  x2=1 Psi_actual=1 Psi_NN=0.96\n",
      "iter=784 x1=1  x2=1 Psi_actual=1 Psi_NN=0.96\n",
      "iter=785 x1=-1  x2=-1 Psi_actual=0 Psi_NN=0.04\n",
      "iter=786 x1=1  x2=1 Psi_actual=1 Psi_NN=0.96\n",
      "iter=787 x1=1  x2=1 Psi_actual=1 Psi_NN=0.96\n",
      "iter=788 x1=1  x2=-1 Psi_actual=0 Psi_NN=0.04\n",
      "iter=789 x1=1  x2=1 Psi_actual=1 Psi_NN=0.96\n",
      "iter=790 x1=-1  x2=1 Psi_actual=1 Psi_NN=0.96\n",
      "iter=791 x1=-1  x2=-1 Psi_actual=0 Psi_NN=0.04\n",
      "iter=792 x1=-1  x2=-1 Psi_actual=0 Psi_NN=0.04\n",
      "iter=793 x1=-1  x2=1 Psi_actual=1 Psi_NN=0.96\n",
      "iter=794 x1=1  x2=-1 Psi_actual=0 Psi_NN=0.04\n",
      "iter=795 x1=1  x2=1 Psi_actual=1 Psi_NN=0.96\n",
      "iter=796 x1=1  x2=-1 Psi_actual=0 Psi_NN=0.04\n",
      "iter=797 x1=1  x2=1 Psi_actual=1 Psi_NN=0.96\n",
      "iter=798 x1=-1  x2=-1 Psi_actual=0 Psi_NN=0.04\n",
      "iter=799 x1=-1  x2=-1 Psi_actual=0 Psi_NN=0.04\n",
      "iter=800 x1=-1  x2=1 Psi_actual=1 Psi_NN=0.96\n",
      "iter=801 x1=-1  x2=1 Psi_actual=1 Psi_NN=0.96\n",
      "iter=802 x1=-1  x2=1 Psi_actual=1 Psi_NN=0.96\n",
      "iter=803 x1=1  x2=1 Psi_actual=1 Psi_NN=0.96\n",
      "iter=804 x1=1  x2=1 Psi_actual=1 Psi_NN=0.96\n",
      "iter=805 x1=1  x2=1 Psi_actual=1 Psi_NN=0.96\n",
      "iter=806 x1=-1  x2=1 Psi_actual=1 Psi_NN=0.96\n",
      "iter=807 x1=-1  x2=-1 Psi_actual=0 Psi_NN=0.04\n",
      "iter=808 x1=1  x2=1 Psi_actual=1 Psi_NN=0.96\n",
      "iter=809 x1=-1  x2=1 Psi_actual=1 Psi_NN=0.96\n",
      "iter=810 x1=1  x2=-1 Psi_actual=0 Psi_NN=0.04\n",
      "iter=811 x1=-1  x2=1 Psi_actual=1 Psi_NN=0.96\n",
      "iter=812 x1=-1  x2=1 Psi_actual=1 Psi_NN=0.96\n",
      "iter=813 x1=-1  x2=-1 Psi_actual=0 Psi_NN=0.04\n",
      "iter=814 x1=1  x2=1 Psi_actual=1 Psi_NN=0.96\n",
      "iter=815 x1=-1  x2=1 Psi_actual=1 Psi_NN=0.96\n",
      "iter=816 x1=-1  x2=1 Psi_actual=1 Psi_NN=0.96\n",
      "iter=817 x1=1  x2=-1 Psi_actual=0 Psi_NN=0.04\n",
      "iter=818 x1=1  x2=-1 Psi_actual=0 Psi_NN=0.04\n",
      "iter=819 x1=-1  x2=1 Psi_actual=1 Psi_NN=0.96\n",
      "iter=820 x1=-1  x2=-1 Psi_actual=0 Psi_NN=0.04\n",
      "iter=821 x1=1  x2=1 Psi_actual=1 Psi_NN=0.96\n",
      "iter=822 x1=-1  x2=1 Psi_actual=1 Psi_NN=0.96\n",
      "iter=823 x1=-1  x2=-1 Psi_actual=0 Psi_NN=0.04\n",
      "iter=824 x1=1  x2=-1 Psi_actual=0 Psi_NN=0.04\n",
      "iter=825 x1=1  x2=1 Psi_actual=1 Psi_NN=0.96\n",
      "iter=826 x1=-1  x2=-1 Psi_actual=0 Psi_NN=0.04\n",
      "iter=827 x1=1  x2=-1 Psi_actual=0 Psi_NN=0.04\n",
      "iter=828 x1=1  x2=1 Psi_actual=1 Psi_NN=0.96\n",
      "iter=829 x1=-1  x2=-1 Psi_actual=0 Psi_NN=0.04\n",
      "iter=830 x1=1  x2=1 Psi_actual=1 Psi_NN=0.96\n",
      "iter=831 x1=-1  x2=1 Psi_actual=1 Psi_NN=0.96\n",
      "iter=832 x1=1  x2=1 Psi_actual=1 Psi_NN=0.96\n",
      "iter=833 x1=1  x2=-1 Psi_actual=0 Psi_NN=0.04\n",
      "iter=834 x1=-1  x2=-1 Psi_actual=0 Psi_NN=0.04\n",
      "iter=835 x1=-1  x2=-1 Psi_actual=0 Psi_NN=0.04\n",
      "iter=836 x1=1  x2=-1 Psi_actual=0 Psi_NN=0.04\n",
      "iter=837 x1=-1  x2=1 Psi_actual=1 Psi_NN=0.96\n",
      "iter=838 x1=-1  x2=-1 Psi_actual=0 Psi_NN=0.04\n",
      "iter=839 x1=-1  x2=-1 Psi_actual=0 Psi_NN=0.04\n",
      "iter=840 x1=-1  x2=-1 Psi_actual=0 Psi_NN=0.04\n"
     ]
    },
    {
     "name": "stdout",
     "output_type": "stream",
     "text": [
      "iter=841 x1=1  x2=-1 Psi_actual=0 Psi_NN=0.04\n",
      "iter=842 x1=-1  x2=1 Psi_actual=1 Psi_NN=0.96\n",
      "iter=843 x1=-1  x2=1 Psi_actual=1 Psi_NN=0.96\n",
      "iter=844 x1=-1  x2=-1 Psi_actual=0 Psi_NN=0.04\n",
      "iter=845 x1=-1  x2=1 Psi_actual=1 Psi_NN=0.96\n",
      "iter=846 x1=-1  x2=1 Psi_actual=1 Psi_NN=0.96\n",
      "iter=847 x1=-1  x2=-1 Psi_actual=0 Psi_NN=0.04\n",
      "iter=848 x1=-1  x2=-1 Psi_actual=0 Psi_NN=0.04\n",
      "iter=849 x1=-1  x2=1 Psi_actual=1 Psi_NN=0.96\n",
      "iter=850 x1=1  x2=1 Psi_actual=1 Psi_NN=0.96\n",
      "iter=851 x1=1  x2=1 Psi_actual=1 Psi_NN=0.96\n",
      "iter=852 x1=1  x2=1 Psi_actual=1 Psi_NN=0.96\n",
      "iter=853 x1=1  x2=-1 Psi_actual=0 Psi_NN=0.04\n",
      "iter=854 x1=1  x2=-1 Psi_actual=0 Psi_NN=0.04\n",
      "iter=855 x1=-1  x2=1 Psi_actual=1 Psi_NN=0.96\n",
      "iter=856 x1=-1  x2=1 Psi_actual=1 Psi_NN=0.96\n",
      "iter=857 x1=-1  x2=1 Psi_actual=1 Psi_NN=0.96\n",
      "iter=858 x1=1  x2=-1 Psi_actual=0 Psi_NN=0.04\n",
      "iter=859 x1=1  x2=-1 Psi_actual=0 Psi_NN=0.04\n",
      "iter=860 x1=1  x2=1 Psi_actual=1 Psi_NN=0.96\n",
      "iter=861 x1=1  x2=1 Psi_actual=1 Psi_NN=0.96\n",
      "iter=862 x1=1  x2=-1 Psi_actual=0 Psi_NN=0.04\n",
      "iter=863 x1=-1  x2=1 Psi_actual=1 Psi_NN=0.96\n",
      "iter=864 x1=1  x2=1 Psi_actual=1 Psi_NN=0.96\n",
      "iter=865 x1=1  x2=-1 Psi_actual=0 Psi_NN=0.04\n",
      "iter=866 x1=-1  x2=1 Psi_actual=1 Psi_NN=0.96\n",
      "iter=867 x1=-1  x2=-1 Psi_actual=0 Psi_NN=0.04\n",
      "iter=868 x1=-1  x2=-1 Psi_actual=0 Psi_NN=0.04\n",
      "iter=869 x1=1  x2=-1 Psi_actual=0 Psi_NN=0.04\n",
      "iter=870 x1=-1  x2=1 Psi_actual=1 Psi_NN=0.96\n",
      "iter=871 x1=1  x2=-1 Psi_actual=0 Psi_NN=0.04\n",
      "iter=872 x1=1  x2=1 Psi_actual=1 Psi_NN=0.96\n",
      "iter=873 x1=1  x2=-1 Psi_actual=0 Psi_NN=0.04\n",
      "iter=874 x1=-1  x2=-1 Psi_actual=0 Psi_NN=0.04\n",
      "iter=875 x1=1  x2=-1 Psi_actual=0 Psi_NN=0.04\n",
      "iter=876 x1=-1  x2=-1 Psi_actual=0 Psi_NN=0.04\n",
      "iter=877 x1=1  x2=-1 Psi_actual=0 Psi_NN=0.04\n",
      "iter=878 x1=1  x2=1 Psi_actual=1 Psi_NN=0.96\n",
      "iter=879 x1=-1  x2=1 Psi_actual=1 Psi_NN=0.96\n",
      "iter=880 x1=-1  x2=-1 Psi_actual=0 Psi_NN=0.04\n",
      "iter=881 x1=1  x2=1 Psi_actual=1 Psi_NN=0.96\n",
      "iter=882 x1=-1  x2=1 Psi_actual=1 Psi_NN=0.96\n",
      "iter=883 x1=1  x2=1 Psi_actual=1 Psi_NN=0.96\n",
      "iter=884 x1=-1  x2=-1 Psi_actual=0 Psi_NN=0.04\n",
      "iter=885 x1=-1  x2=-1 Psi_actual=0 Psi_NN=0.04\n",
      "iter=886 x1=-1  x2=1 Psi_actual=1 Psi_NN=0.96\n",
      "iter=887 x1=1  x2=1 Psi_actual=1 Psi_NN=0.96\n",
      "iter=888 x1=-1  x2=-1 Psi_actual=0 Psi_NN=0.04\n",
      "iter=889 x1=-1  x2=1 Psi_actual=1 Psi_NN=0.96\n",
      "iter=890 x1=-1  x2=-1 Psi_actual=0 Psi_NN=0.04\n",
      "iter=891 x1=-1  x2=1 Psi_actual=1 Psi_NN=0.96\n",
      "iter=892 x1=1  x2=1 Psi_actual=1 Psi_NN=0.96\n",
      "iter=893 x1=1  x2=-1 Psi_actual=0 Psi_NN=0.04\n",
      "iter=894 x1=-1  x2=-1 Psi_actual=0 Psi_NN=0.04\n",
      "iter=895 x1=-1  x2=1 Psi_actual=1 Psi_NN=0.96\n",
      "iter=896 x1=1  x2=-1 Psi_actual=0 Psi_NN=0.04\n",
      "iter=897 x1=1  x2=-1 Psi_actual=0 Psi_NN=0.04\n",
      "iter=898 x1=-1  x2=1 Psi_actual=1 Psi_NN=0.96\n",
      "iter=899 x1=-1  x2=1 Psi_actual=1 Psi_NN=0.96\n",
      "iter=900 x1=1  x2=-1 Psi_actual=0 Psi_NN=0.04\n",
      "iter=901 x1=1  x2=1 Psi_actual=1 Psi_NN=0.96\n",
      "iter=902 x1=-1  x2=-1 Psi_actual=0 Psi_NN=0.04\n",
      "iter=903 x1=1  x2=-1 Psi_actual=0 Psi_NN=0.04\n",
      "iter=904 x1=1  x2=-1 Psi_actual=0 Psi_NN=0.03\n",
      "iter=905 x1=1  x2=-1 Psi_actual=0 Psi_NN=0.03\n",
      "iter=906 x1=-1  x2=-1 Psi_actual=0 Psi_NN=0.04\n",
      "iter=907 x1=1  x2=1 Psi_actual=1 Psi_NN=0.96\n",
      "iter=908 x1=-1  x2=1 Psi_actual=1 Psi_NN=0.97\n",
      "iter=909 x1=-1  x2=-1 Psi_actual=0 Psi_NN=0.04\n",
      "iter=910 x1=1  x2=1 Psi_actual=1 Psi_NN=0.96\n",
      "iter=911 x1=1  x2=1 Psi_actual=1 Psi_NN=0.96\n",
      "iter=912 x1=-1  x2=1 Psi_actual=1 Psi_NN=0.97\n",
      "iter=913 x1=-1  x2=-1 Psi_actual=0 Psi_NN=0.04\n",
      "iter=914 x1=1  x2=1 Psi_actual=1 Psi_NN=0.96\n",
      "iter=915 x1=-1  x2=1 Psi_actual=1 Psi_NN=0.97\n",
      "iter=916 x1=1  x2=1 Psi_actual=1 Psi_NN=0.96\n",
      "iter=917 x1=-1  x2=1 Psi_actual=1 Psi_NN=0.97\n",
      "iter=918 x1=-1  x2=-1 Psi_actual=0 Psi_NN=0.04\n",
      "iter=919 x1=-1  x2=1 Psi_actual=1 Psi_NN=0.97\n",
      "iter=920 x1=1  x2=1 Psi_actual=1 Psi_NN=0.96\n",
      "iter=921 x1=1  x2=1 Psi_actual=1 Psi_NN=0.96\n",
      "iter=922 x1=-1  x2=-1 Psi_actual=0 Psi_NN=0.04\n",
      "iter=923 x1=-1  x2=1 Psi_actual=1 Psi_NN=0.97\n",
      "iter=924 x1=-1  x2=1 Psi_actual=1 Psi_NN=0.97\n",
      "iter=925 x1=-1  x2=1 Psi_actual=1 Psi_NN=0.97\n",
      "iter=926 x1=1  x2=-1 Psi_actual=0 Psi_NN=0.03\n",
      "iter=927 x1=1  x2=-1 Psi_actual=0 Psi_NN=0.03\n",
      "iter=928 x1=-1  x2=-1 Psi_actual=0 Psi_NN=0.04\n",
      "iter=929 x1=-1  x2=1 Psi_actual=1 Psi_NN=0.97\n",
      "iter=930 x1=1  x2=1 Psi_actual=1 Psi_NN=0.96\n",
      "iter=931 x1=1  x2=-1 Psi_actual=0 Psi_NN=0.03\n",
      "iter=932 x1=-1  x2=-1 Psi_actual=0 Psi_NN=0.04\n",
      "iter=933 x1=-1  x2=1 Psi_actual=1 Psi_NN=0.97\n",
      "iter=934 x1=1  x2=1 Psi_actual=1 Psi_NN=0.96\n",
      "iter=935 x1=1  x2=-1 Psi_actual=0 Psi_NN=0.03\n",
      "iter=936 x1=-1  x2=-1 Psi_actual=0 Psi_NN=0.04\n",
      "iter=937 x1=1  x2=1 Psi_actual=1 Psi_NN=0.96\n",
      "iter=938 x1=1  x2=1 Psi_actual=1 Psi_NN=0.96\n",
      "iter=939 x1=-1  x2=-1 Psi_actual=0 Psi_NN=0.04\n",
      "iter=940 x1=-1  x2=-1 Psi_actual=0 Psi_NN=0.04\n",
      "iter=941 x1=1  x2=-1 Psi_actual=0 Psi_NN=0.03\n",
      "iter=942 x1=1  x2=1 Psi_actual=1 Psi_NN=0.96\n",
      "iter=943 x1=-1  x2=1 Psi_actual=1 Psi_NN=0.97\n",
      "iter=944 x1=1  x2=1 Psi_actual=1 Psi_NN=0.96\n",
      "iter=945 x1=-1  x2=1 Psi_actual=1 Psi_NN=0.97\n",
      "iter=946 x1=1  x2=-1 Psi_actual=0 Psi_NN=0.03\n",
      "iter=947 x1=1  x2=-1 Psi_actual=0 Psi_NN=0.03\n",
      "iter=948 x1=1  x2=-1 Psi_actual=0 Psi_NN=0.03\n",
      "iter=949 x1=1  x2=1 Psi_actual=1 Psi_NN=0.96\n",
      "iter=950 x1=1  x2=-1 Psi_actual=0 Psi_NN=0.03\n",
      "iter=951 x1=1  x2=-1 Psi_actual=0 Psi_NN=0.03\n",
      "iter=952 x1=1  x2=-1 Psi_actual=0 Psi_NN=0.03\n",
      "iter=953 x1=-1  x2=1 Psi_actual=1 Psi_NN=0.97\n",
      "iter=954 x1=-1  x2=1 Psi_actual=1 Psi_NN=0.97\n",
      "iter=955 x1=-1  x2=1 Psi_actual=1 Psi_NN=0.97\n",
      "iter=956 x1=-1  x2=1 Psi_actual=1 Psi_NN=0.97\n",
      "iter=957 x1=1  x2=1 Psi_actual=1 Psi_NN=0.96\n",
      "iter=958 x1=1  x2=1 Psi_actual=1 Psi_NN=0.96\n",
      "iter=959 x1=-1  x2=-1 Psi_actual=0 Psi_NN=0.04\n",
      "iter=960 x1=-1  x2=-1 Psi_actual=0 Psi_NN=0.04\n",
      "iter=961 x1=1  x2=1 Psi_actual=1 Psi_NN=0.96\n",
      "iter=962 x1=-1  x2=1 Psi_actual=1 Psi_NN=0.97\n",
      "iter=963 x1=-1  x2=-1 Psi_actual=0 Psi_NN=0.04\n",
      "iter=964 x1=-1  x2=1 Psi_actual=1 Psi_NN=0.97\n",
      "iter=965 x1=-1  x2=1 Psi_actual=1 Psi_NN=0.97\n",
      "iter=966 x1=-1  x2=1 Psi_actual=1 Psi_NN=0.97\n",
      "iter=967 x1=-1  x2=1 Psi_actual=1 Psi_NN=0.97\n",
      "iter=968 x1=-1  x2=-1 Psi_actual=0 Psi_NN=0.03\n",
      "iter=969 x1=-1  x2=-1 Psi_actual=0 Psi_NN=0.03\n",
      "iter=970 x1=-1  x2=-1 Psi_actual=0 Psi_NN=0.03\n",
      "iter=971 x1=1  x2=1 Psi_actual=1 Psi_NN=0.97\n",
      "iter=972 x1=1  x2=1 Psi_actual=1 Psi_NN=0.97\n",
      "iter=973 x1=1  x2=1 Psi_actual=1 Psi_NN=0.97\n",
      "iter=974 x1=1  x2=-1 Psi_actual=0 Psi_NN=0.03\n",
      "iter=975 x1=-1  x2=1 Psi_actual=1 Psi_NN=0.97\n",
      "iter=976 x1=1  x2=-1 Psi_actual=0 Psi_NN=0.03\n",
      "iter=977 x1=1  x2=-1 Psi_actual=0 Psi_NN=0.03\n",
      "iter=978 x1=-1  x2=1 Psi_actual=1 Psi_NN=0.97\n",
      "iter=979 x1=-1  x2=1 Psi_actual=1 Psi_NN=0.97\n",
      "iter=980 x1=1  x2=-1 Psi_actual=0 Psi_NN=0.03\n",
      "iter=981 x1=-1  x2=-1 Psi_actual=0 Psi_NN=0.03\n",
      "iter=982 x1=-1  x2=-1 Psi_actual=0 Psi_NN=0.03\n",
      "iter=983 x1=-1  x2=-1 Psi_actual=0 Psi_NN=0.03\n",
      "iter=984 x1=1  x2=1 Psi_actual=1 Psi_NN=0.97\n",
      "iter=985 x1=-1  x2=1 Psi_actual=1 Psi_NN=0.97\n",
      "iter=986 x1=1  x2=1 Psi_actual=1 Psi_NN=0.97\n",
      "iter=987 x1=-1  x2=-1 Psi_actual=0 Psi_NN=0.03\n",
      "iter=988 x1=1  x2=-1 Psi_actual=0 Psi_NN=0.03\n",
      "iter=989 x1=-1  x2=-1 Psi_actual=0 Psi_NN=0.03\n",
      "iter=990 x1=-1  x2=-1 Psi_actual=0 Psi_NN=0.03\n",
      "iter=991 x1=-1  x2=1 Psi_actual=1 Psi_NN=0.97\n",
      "iter=992 x1=1  x2=1 Psi_actual=1 Psi_NN=0.97\n",
      "iter=993 x1=1  x2=-1 Psi_actual=0 Psi_NN=0.03\n",
      "iter=994 x1=-1  x2=-1 Psi_actual=0 Psi_NN=0.03\n",
      "iter=995 x1=1  x2=1 Psi_actual=1 Psi_NN=0.97\n",
      "iter=996 x1=-1  x2=-1 Psi_actual=0 Psi_NN=0.03\n",
      "iter=997 x1=-1  x2=-1 Psi_actual=0 Psi_NN=0.03\n",
      "iter=998 x1=-1  x2=1 Psi_actual=1 Psi_NN=0.97\n",
      "iter=999 x1=-1  x2=1 Psi_actual=1 Psi_NN=0.97\n",
      "Total iteration= 1000\n"
     ]
    }
   ],
   "source": [
    "#INPUT OUTPUT MAPS\n",
    "x1=[-1,-1,1,1]\n",
    "x2=[-1,1,-1,1]\n",
    "Psi_actual=[0,1,0,1]\n",
    "\n",
    "#Initial weights and learning rate\n",
    "cur_w1 = .01 \n",
    "cur_w2= .01\n",
    "gamma = .5\n",
    "gradG_w1=0\n",
    "gradG_w2=0\n",
    "\n",
    "#PARAMETERS\n",
    "\n",
    "iteration=0\n",
    "total_iteration =1000\n",
    "error = []\n",
    "weight1 = []\n",
    "weight2= []\n",
    "\n",
    "#ACTIVATION FUNCTIONS\n",
    "\n",
    "def f(x):\n",
    "    return x\n",
    "def df(x):\n",
    "    return 1\n",
    "def g(x):\n",
    "    return 1/(1+np.exp(-(x)))\n",
    "def dg(x):\n",
    "    return g(x)*(1-g(x))\n",
    "\n",
    "#OUTPUT of the NN and the Error function\n",
    "def Psi_NN(xx1, xx2, w1, w2):\n",
    "    return g(w1*f(xx1)+w2*f(xx2))\n",
    "def E(xx1,xx2, w1, w2, Psi_actual):\n",
    "    return Psi_NN(xx1, xx2, w1, w2)-Psi_actual\n",
    "\n",
    "\n",
    "while iteration < total_iteration:\n",
    "    \n",
    "    i= random.randint(0,3)\n",
    "    prev_w1 = cur_w1 \n",
    "    prev_w2 = cur_w2\n",
    "    \n",
    "    #ERROR TERM\n",
    "    gradG_w1= E(x1[i],x2[i], cur_w1, cur_w2, Psi_actual[i])*dg(cur_w1*f(x1[i])+cur_w2*f(x2[i]))*f(x1[i])\n",
    "    gradG_w2= E(x1[i],x2[i], cur_w1, cur_w2,Psi_actual[i])*dg(cur_w1*f(x1[i])+cur_w2*f(x2[i]))*f(x2[i])\n",
    "    #print(cur_w1, cur_w2) #See how the weight evolves\n",
    " \n",
    "    #RECORD THE ERROR AND THE WEIGHTS  \n",
    "    error.append(abs(E(x1[i],x2[i], cur_w1, cur_w2,Psi_actual[i])))\n",
    "    weight1.append(cur_w1)\n",
    "    weight2.append(cur_w2)\n",
    "\n",
    "    #BACKPROPAGATE THE ERROR\n",
    "    cur_w1 -= gamma *gradG_w1\n",
    "    cur_w2 -= gamma *gradG_w2\n",
    "    NN = Psi_NN(x1[i], x2[i], cur_w1, cur_w2)\n",
    "    \n",
    "    #See how the mapping evolves\n",
    "    print(\"iter=%d\" %iteration, \"x1=%d\" % x1[i],\" x2=%d\" % x2[i] , \"Psi_actual=%d\" % Psi_actual[i],\"Psi_NN=%.2f\" %NN)\n",
    "    iteration +=1\n",
    "\n",
    "print(\"Total iteration=\", iteration)"
   ]
  },
  {
   "cell_type": "code",
   "execution_count": 4,
   "metadata": {
    "ExecuteTime": {
     "end_time": "2021-09-14T06:56:51.019859Z",
     "start_time": "2021-09-14T06:56:50.677123Z"
    },
    "colab": {
     "base_uri": "https://localhost:8080/",
     "height": 505
    },
    "executionInfo": {
     "elapsed": 1621,
     "status": "ok",
     "timestamp": 1631548022143,
     "user": {
      "displayName": "Christopher Monterola",
      "photoUrl": "https://lh3.googleusercontent.com/a-/AOh14GiyxV9CUZD54GBpsQkscS6VRBjebHtFASKcOq-_Lw=s64",
      "userId": "07920169693232563668"
     },
     "user_tz": -480
    },
    "id": "1_0ltNS25hf_",
    "outputId": "9587c827-0fb1-49f7-bd35-1ac72ed7a0fa"
   },
   "outputs": [
    {
     "name": "stderr",
     "output_type": "stream",
     "text": [
      "findfont: Font family ['Times New Roman'] not found. Falling back to DejaVu Sans.\n"
     ]
    },
    {
     "data": {
      "image/png": "[encoded data removed]",
      "text/plain": [
       "<Figure size 1120x560 with 2 Axes>"
      ]
     },
     "metadata": {},
     "output_type": "display_data"
    }
   ],
   "source": [
    "figure(num=None, figsize=(14, 7), dpi=80, facecolor='w', edgecolor='k')\n",
    "\n",
    "iteration_index = range(0, total_iteration)\n",
    "plt.figure(1)\n",
    "\n",
    "plt.subplot(211)    \n",
    "plt.plot(iteration_index, error, label=\"Error per iteration\")\n",
    "plt.ylabel(\"Absolute Error\")\n",
    "plt.xlabel(\"Iteration Number\")\n",
    "plt.legend()\n",
    "\n",
    "plt.subplot(212) \n",
    "plt.plot(iteration_index, weight1, label=\"Weight 1\")\n",
    "plt.plot(iteration_index, weight2, label=\"Weight 2\")\n",
    "plt.ylabel(\"Weight\")\n",
    "plt.xlabel(\"Iteration Number\")\n",
    "plt.legend()\n",
    "\n",
    "\n",
    "plt.show()"
   ]
  },
  {
   "cell_type": "markdown",
   "metadata": {
    "id": "f5hmNrTn5hgA"
   },
   "source": [
    "### Now let us do this for different learning parameters ..."
   ]
  },
  {
   "cell_type": "code",
   "execution_count": 5,
   "metadata": {
    "ExecuteTime": {
     "end_time": "2021-09-14T06:56:53.608301Z",
     "start_time": "2021-09-14T06:56:51.022348Z"
    },
    "executionInfo": {
     "elapsed": 2223,
     "status": "ok",
     "timestamp": 1631548024362,
     "user": {
      "displayName": "Christopher Monterola",
      "photoUrl": "https://lh3.googleusercontent.com/a-/AOh14GiyxV9CUZD54GBpsQkscS6VRBjebHtFASKcOq-_Lw=s64",
      "userId": "07920169693232563668"
     },
     "user_tz": -480
    },
    "id": "TIMeGiTQ5hgA"
   },
   "outputs": [],
   "source": [
    "#Biased\n",
    "x1=[-1,-1,1,1]\n",
    "x2=[-1,1,-1,1]\n",
    "Psi_actual=[0,1,0,1]\n",
    "\n",
    "#AND\n",
    "#x1=[-1,-1,1,1]\n",
    "#x2=[-1,1,-1,1]\n",
    "#Psi_actual=[1,1,1,0]\n",
    "\n",
    "\n",
    "#Initial weights and learning rate\n",
    "\n",
    "gamma_param = [-.01, -.03, -.1, -.2, -.5]   # Learning rate\n",
    "#gamma =-.2\n",
    "gradG_w1=0\n",
    "gradG_w2=0\n",
    "\n",
    "#PARAMETERS\n",
    "index=-1\n",
    "index_total=5\n",
    "total_iteration =15000\n",
    "error_list = [[]for _ in range(index_total)]\n",
    "weight1_list = [[]for _ in range(index_total)]\n",
    "weight2_list= [[]for _ in range(index_total)]\n",
    "Output_actual0= [[]for _ in range(index_total)]\n",
    "Output_NN0= [[]for _ in range(index_total)]\n",
    "Output_actual1= [[]for _ in range(index_total)]\n",
    "Output_NN1= [[]for _ in range(index_total)]\n",
    "Output_actual2= [[]for _ in range(index_total)]\n",
    "Output_NN2= [[]for _ in range(index_total)]\n",
    "Output_actual3= [[]for _ in range(index_total)]\n",
    "Output_NN3= [[]for _ in range(index_total)]\n",
    "\n",
    "def f(x):\n",
    "    return x\n",
    "def g(x):\n",
    "    return 1/(1+np.exp(-(x)))\n",
    "def df(x):\n",
    "    return 1\n",
    "def dg(x):\n",
    "    return g(x)*(1-g(x))\n",
    "def Psi_NN(xx1, xx2, w1, w2):\n",
    "    return g(w1*f(xx1)+w2*f(xx2))\n",
    "def E(xx1,xx2, w1, w2, Psi_actuall):\n",
    "    return Psi_NN(xx1, xx2, w1, w2)-Psi_actuall\n",
    "\n",
    "for gamma in gamma_param:\n",
    "    index=index+1\n",
    "    iteration=0\n",
    "    cur_w1, cur_w2 =.01,.01\n",
    "    while iteration < total_iteration:\n",
    "\n",
    "        i= random.randint(0,3)\n",
    "        prev_w1 = cur_w1 \n",
    "        prev_w2 = cur_w2\n",
    "\n",
    "        #ERROR TERM\n",
    "        gradG_w1= E(x1[i],x2[i], cur_w1, cur_w2, Psi_actual[i])*dg(cur_w1*f(x1[i])+cur_w2*f(x2[i]))*f(x1[i])\n",
    "        gradG_w2= E(x1[i],x2[i], cur_w1, cur_w2,Psi_actual[i])*dg(cur_w1*f(x1[i])+cur_w2*f(x2[i]))*f(x2[i])\n",
    "        #print(cur_w1, cur_w2) #See how the weight evolves\n",
    "\n",
    "        #RECORD THE ERROR AND THE WEIGHTS  \n",
    "        \n",
    "        #arr.append([])\n",
    "        error_list[index].append(abs(E(x1[i],x2[i], cur_w1, cur_w2,Psi_actual[i])))\n",
    "        weight1_list[index].append(cur_w1)\n",
    "        weight2_list[index].append(cur_w2)\n",
    "        \n",
    "        if i==0:\n",
    "            Output_NN0[index].append(Psi_NN(x1[i], x2[i], cur_w1, cur_w2))\n",
    "            Output_actual0[index].append(Psi_actual[i])\n",
    "        if i==1:\n",
    "            Output_NN1[index].append(Psi_NN(x1[i], x2[i], cur_w1, cur_w2))\n",
    "            Output_actual1[index].append(Psi_actual[i])     \n",
    "        if i==2:\n",
    "            Output_NN2[index].append(Psi_NN(x1[i], x2[i], cur_w1, cur_w2))\n",
    "            Output_actual2[index].append(Psi_actual[i])   \n",
    "        if i==3:\n",
    "            Output_NN3[index].append(Psi_NN(x1[i], x2[i], cur_w1, cur_w2))\n",
    "            Output_actual3[index].append(Psi_actual[i])   \n",
    "            \n",
    "        #print(\"error\", error[index])\n",
    "        #BACKPROPAGATE THE ERROR\n",
    "        cur_w1 += gamma *gradG_w1\n",
    "        cur_w2 += gamma *gradG_w2\n",
    "        #NN = Psi_NN(x1[i], x2[i], cur_w1, cur_w2)\n",
    "\n",
    "\n",
    "        #See how the mapping evolves\n",
    "        #print(\"iter=%d\" %iteration, \"x1=%d\" % x1[i],\" x2=%d\" % x2[i] , \"Psi_actual=%d\" % Psi_actual[i],\"Psi_NN=%.2f\" %NN)\n",
    "        iteration +=1\n",
    "\n",
    "\n"
   ]
  },
  {
   "cell_type": "markdown",
   "metadata": {
    "id": "IZTwGuqQ5hgA"
   },
   "source": [
    "## Error and change of weights VS iterations"
   ]
  },
  {
   "cell_type": "code",
   "execution_count": 6,
   "metadata": {
    "ExecuteTime": {
     "end_time": "2021-09-14T06:56:54.601264Z",
     "start_time": "2021-09-14T06:56:53.610735Z"
    },
    "colab": {
     "base_uri": "https://localhost:8080/",
     "height": 671
    },
    "executionInfo": {
     "elapsed": 2265,
     "status": "ok",
     "timestamp": 1631548026622,
     "user": {
      "displayName": "Christopher Monterola",
      "photoUrl": "https://lh3.googleusercontent.com/a-/AOh14GiyxV9CUZD54GBpsQkscS6VRBjebHtFASKcOq-_Lw=s64",
      "userId": "07920169693232563668"
     },
     "user_tz": -480
    },
    "id": "ZG3WUmbs5hgA",
    "outputId": "fd61e121-7606-4f80-bc09-8ff364152279"
   },
   "outputs": [
    {
     "name": "stderr",
     "output_type": "stream",
     "text": [
      "findfont: Font family ['Times New Roman'] not found. Falling back to DejaVu Sans.\n",
      "findfont: Font family ['Times New Roman'] not found. Falling back to DejaVu Sans.\n",
      "findfont: Font family ['Times New Roman'] not found. Falling back to DejaVu Sans.\n"
     ]
    },
    {
     "data": {
      "image/png": "[encoded data removed]",
      "text/plain": [
       "<Figure size 1008x720 with 2 Axes>"
      ]
     },
     "metadata": {
      "needs_background": "light"
     },
     "output_type": "display_data"
    }
   ],
   "source": [
    "iter = np.arange(0, total_iteration, 1)\n",
    "iter2= np.arange(0, 20, 1)\n",
    "\n",
    "main_canvas = plt.figure(figsize = (14, 10))\n",
    "plot_canvas = plt.subplot(2, 1, 1)\n",
    "\n",
    "attrib = [\"r-\", \"g-\", \"b--\", \"y--\", \"m--\"]\n",
    "for i in range(5):\n",
    "    plot_canvas.plot(iter, error_list[i], attrib[i], lw = 5, label=gamma_param[i])\n",
    "plot_canvas.grid(True)\n",
    "#plot_canvas.set_title(\"ERROR PLOT\", size = 15)\n",
    "plot_canvas.set_xlabel(r\"Iteration Index\", size = 20)\n",
    "plot_canvas.set_ylabel(r\"Absolute Error\", size = 20)\n",
    "plot_canvas.tick_params(axis = \"both\", which = \"both\", labelsize = 15)\n",
    "plt.legend(fontsize=15);\n",
    "\n",
    "plot_canvas = plt.subplot(2, 1, 2)\n",
    "\n",
    "attrib = [\"r-\", \"g-\", \"b-\", \"y-\", \"m-\"]\n",
    "attrib2 = [\"r--\", \"g--\", \"b--\", \"y--\", \"m--\"]\n",
    "for i in range(5):\n",
    "    plot_canvas.plot(iter, weight1_list[i], attrib[i], lw = 2, label=\"weight 1\")\n",
    "    plot_canvas.plot(iter, weight2_list[i], attrib2[i], lw = 2, label=\"weight 2\")\n",
    "plot_canvas.grid(True)\n",
    "#plot_canvas.set_title(\"ERROR PLOT\", size = 15)\n",
    "plot_canvas.set_xlabel(r\"Iteration Index\", size = 20)\n",
    "plot_canvas.set_ylabel(r\"Weight Strength\", size = 20)\n",
    "plot_canvas.tick_params(axis = \"both\", which = \"both\", labelsize = 15)\n",
    "plt.legend(fontsize=12);\n"
   ]
  },
  {
   "cell_type": "markdown",
   "metadata": {
    "id": "QIUGbv8A5hgA"
   },
   "source": [
    "### Let's look on how the NN evolve to copy the ideal output"
   ]
  },
  {
   "cell_type": "code",
   "execution_count": 7,
   "metadata": {
    "ExecuteTime": {
     "end_time": "2021-09-14T06:56:55.635266Z",
     "start_time": "2021-09-14T06:56:54.604084Z"
    },
    "colab": {
     "base_uri": "https://localhost:8080/",
     "height": 1000
    },
    "executionInfo": {
     "elapsed": 1331,
     "status": "ok",
     "timestamp": 1631548027948,
     "user": {
      "displayName": "Christopher Monterola",
      "photoUrl": "https://lh3.googleusercontent.com/a-/AOh14GiyxV9CUZD54GBpsQkscS6VRBjebHtFASKcOq-_Lw=s64",
      "userId": "07920169693232563668"
     },
     "user_tz": -480
    },
    "id": "iLjoYPHn5hgA",
    "outputId": "aa03c8a5-b2e3-486c-84d3-380c6b88a843"
   },
   "outputs": [
    {
     "data": {
      "image/png": "[encoded data removed]",
      "text/plain": [
       "<Figure size 2016x2016 with 4 Axes>"
      ]
     },
     "metadata": {
      "needs_background": "light"
     },
     "output_type": "display_data"
    }
   ],
   "source": [
    "iter = np.arange(0, total_iteration, 1)\n",
    "plot_length=100\n",
    "\n",
    "main_canvas = plt.figure(figsize = (28, 28))\n",
    "\n",
    "\n",
    "plot_canvas = plt.subplot(4, 1, 1)\n",
    "\n",
    "attrib = [\"r--\", \"g--\", \"b--\", \"y--\", \"m--\"]\n",
    "attrib2 = [\"ro\", \"go\", \"bo\", \"yo\", \"mo\"]\n",
    "for i in range(5):\n",
    "    plot_canvas.plot(iter[:plot_length], Output_actual0[i][:plot_length], attrib[i], lw = 5, label=gamma_param[i])\n",
    "    plot_canvas.plot(iter[:plot_length], Output_NN0[i][:plot_length], attrib2[i], lw = 2, label=gamma_param[i])\n",
    "plot_canvas.grid(True)\n",
    "#plot_canvas.set_title(\"ERROR PLOT\", size = 15)\n",
    "plot_canvas.set_xlabel(r\"Iteration Index\", size = 20)\n",
    "plot_canvas.set_ylabel(r\"State 1\", size = 20)\n",
    "plot_canvas.tick_params(axis = \"both\", which = \"both\", labelsize = 15)\n",
    "plt.legend(fontsize=12);\n",
    "\n",
    "plot_canvas = plt.subplot(4, 1, 2)\n",
    "\n",
    "attrib = [\"r--\", \"g--\", \"b--\", \"y--\", \"m--\"]\n",
    "attrib2 = [\"ro\", \"go\", \"bo\", \"yo\", \"mo\"]\n",
    "for i in range(5):\n",
    "    plot_canvas.plot(iter[:plot_length], Output_actual1[i][:plot_length], attrib[i], lw = 5, label=gamma_param[i])\n",
    "    plot_canvas.plot(iter[:plot_length], Output_NN1[i][:plot_length], attrib2[i], lw = 2, label=gamma_param[i])\n",
    "plot_canvas.grid(True)\n",
    "#plot_canvas.set_title(\"ERROR PLOT\", size = 15)\n",
    "plot_canvas.set_xlabel(r\"Iteration Index\", size = 20)\n",
    "plot_canvas.set_ylabel(r\"State 2\", size = 20)\n",
    "plot_canvas.tick_params(axis = \"both\", which = \"both\", labelsize = 15)\n",
    "plt.legend(fontsize=12);\n",
    "\n",
    "plot_canvas = plt.subplot(4, 1, 3)\n",
    "\n",
    "attrib = [\"r--\", \"g--\", \"b--\", \"y--\", \"m--\"]\n",
    "attrib2 = [\"ro\", \"go\", \"bo\", \"yo\", \"mo\"]\n",
    "for i in range(5):\n",
    "    plot_canvas.plot(iter[:plot_length], Output_actual2[i][:plot_length], attrib[i], lw = 5, label=gamma_param[i])\n",
    "    plot_canvas.plot(iter[:plot_length], Output_NN2[i][:plot_length], attrib2[i], lw = 2, label=gamma_param[i])\n",
    "plot_canvas.grid(True)\n",
    "#plot_canvas.set_title(\"ERROR PLOT\", size = 15)\n",
    "plot_canvas.set_xlabel(r\"Iteration Index\", size = 20)\n",
    "plot_canvas.set_ylabel(r\"State 3\", size = 20)\n",
    "plot_canvas.tick_params(axis = \"both\", which = \"both\", labelsize = 15)\n",
    "plt.legend(fontsize=12);\n",
    "\n",
    "plot_canvas = plt.subplot(4, 1, 4)\n",
    "\n",
    "attrib = [\"r--\", \"g--\", \"b--\", \"y--\", \"m--\"]\n",
    "attrib2 = [\"ro\", \"go\", \"bo\", \"yo\", \"mo\"]\n",
    "for i in range(5):\n",
    "    plot_canvas.plot(iter[:plot_length], Output_actual3[i][:plot_length], attrib[i], lw = 5, label=gamma_param[i])\n",
    "    plot_canvas.plot(iter[:plot_length], Output_NN3[i][:plot_length], attrib2[i], lw = 2, label=gamma_param[i])\n",
    "plot_canvas.grid(True)\n",
    "#plot_canvas.set_title(\"ERROR PLOT\", size = 15)\n",
    "plot_canvas.set_xlabel(r\"Iteration Index\", size = 20)\n",
    "plot_canvas.set_ylabel(r\"State 4\", size = 20)\n",
    "plot_canvas.tick_params(axis = \"both\", which = \"both\", labelsize = 15)\n",
    "plt.legend(fontsize=12);"
   ]
  },
  {
   "cell_type": "markdown",
   "metadata": {
    "id": "Ohh1nP-Z5hgB"
   },
   "source": [
    "---\n",
    "# Example 2. (Home Exercise) *OR, AND, XOR*. Train the above two layer network to implement the following rules:   \n",
    "\n",
    "| $x_1$ | $x_2$ | $\\Psi_{actual}=AND$ | $\\Psi_{actual}=OR$ |$\\Psi_{actual}=XOR$ |\n",
    "| --- | --- | --- | --- |--- |\n",
    "|-1 | -1 | 0 | 0 |0 |\n",
    "|-1 | 1 |  0|  1 |1 |\n",
    "| 1 | -1 | 0 | 1 |1 |\n",
    "| 1 | 1 | 1 |  1 |0 |\n"
   ]
  },
  {
   "cell_type": "code",
   "execution_count": 8,
   "metadata": {
    "ExecuteTime": {
     "end_time": "2021-09-14T06:56:55.643263Z",
     "start_time": "2021-09-14T06:56:55.637411Z"
    },
    "colab": {
     "base_uri": "https://localhost:8080/"
    },
    "executionInfo": {
     "elapsed": 5,
     "status": "ok",
     "timestamp": 1631548027948,
     "user": {
      "displayName": "Christopher Monterola",
      "photoUrl": "https://lh3.googleusercontent.com/a-/AOh14GiyxV9CUZD54GBpsQkscS6VRBjebHtFASKcOq-_Lw=s64",
      "userId": "07920169693232563668"
     },
     "user_tz": -480
    },
    "id": "YyqdHekxCaP4",
    "outputId": "00e0b238-e543-46ef-9ac9-7b47045ff4aa"
   },
   "outputs": [
    {
     "data": {
      "text/plain": [
       "array([[-0.34590241],\n",
       "       [ 0.88257092]])"
      ]
     },
     "execution_count": 8,
     "metadata": {},
     "output_type": "execute_result"
    }
   ],
   "source": [
    "no_inputs =2\n",
    "no_output =1\n",
    "\n",
    "w0 = 2*np.random.random((no_inputs,no_output)) - 1\n",
    "w0"
   ]
  },
  {
   "cell_type": "code",
   "execution_count": 9,
   "metadata": {
    "ExecuteTime": {
     "end_time": "2021-09-14T06:56:55.649421Z",
     "start_time": "2021-09-14T06:56:55.644956Z"
    },
    "colab": {
     "base_uri": "https://localhost:8080/"
    },
    "executionInfo": {
     "elapsed": 4,
     "status": "ok",
     "timestamp": 1631548027948,
     "user": {
      "displayName": "Christopher Monterola",
      "photoUrl": "https://lh3.googleusercontent.com/a-/AOh14GiyxV9CUZD54GBpsQkscS6VRBjebHtFASKcOq-_Lw=s64",
      "userId": "07920169693232563668"
     },
     "user_tz": -480
    },
    "id": "Snn0B7gqCqCd",
    "outputId": "38090ea4-a6c1-4eaf-d81c-749afcb0df92"
   },
   "outputs": [
    {
     "name": "stdout",
     "output_type": "stream",
     "text": [
      "w1 = -0.34590240764072444\n",
      "w2 = 0.8825709239093864\n"
     ]
    }
   ],
   "source": [
    "print(\"w1 =\", w0[0][0])\n",
    "print(\"w2 =\", w0[1][0])"
   ]
  },
  {
   "cell_type": "code",
   "execution_count": 10,
   "metadata": {
    "ExecuteTime": {
     "end_time": "2021-09-14T06:56:57.693013Z",
     "start_time": "2021-09-14T06:56:55.651396Z"
    },
    "colab": {
     "base_uri": "https://localhost:8080/"
    },
    "executionInfo": {
     "elapsed": 1945,
     "status": "ok",
     "timestamp": 1631548029889,
     "user": {
      "displayName": "Christopher Monterola",
      "photoUrl": "https://lh3.googleusercontent.com/a-/AOh14GiyxV9CUZD54GBpsQkscS6VRBjebHtFASKcOq-_Lw=s64",
      "userId": "07920169693232563668"
     },
     "user_tz": -480
    },
    "id": "sHXyXN_XCxuT",
    "outputId": "773cd16a-89b9-4e12-ff33-4e3d551fb5a3"
   },
   "outputs": [
    {
     "name": "stdout",
     "output_type": "stream",
     "text": [
      "Error:=%.5f 0.3373912783587547\n",
      "Error:=%.5f 0.26842318390377684\n",
      "Error:=%.5f 0.2629592030727562\n",
      "Error:=%.5f 0.2605365519677951\n",
      "Error:=%.5f 0.25909701885670744\n",
      "Error:=%.5f 0.25811777418073745\n",
      "Error:=%.5f 0.2573969389399672\n",
      "Error:=%.5f 0.2568380439020177\n",
      "Error:=%.5f 0.2563884585596419\n",
      "Error:=%.5f 0.25601672701490236\n",
      "\n",
      " Output After Training:\n",
      "[[0.01140555]\n",
      " [0.5       ]\n",
      " [0.5       ]\n",
      " [0.98859445]]\n",
      "\n",
      " Weights:\n",
      "[[2.23109447]\n",
      " [2.23109447]]\n"
     ]
    }
   ],
   "source": [
    "gamma=.01 # Learning Rate\n",
    "\n",
    "# Activation function here\n",
    "def nonlin(x,deriv=False):\n",
    "    sigmoid=1/(1+np.exp(-x))\n",
    "    if(deriv==True):\n",
    "        return sigmoid*(1-sigmoid)\n",
    "    return sigmoid\n",
    "    \n",
    "# input dataset\n",
    "X = np.array([  [-1,-1],\n",
    "                [-1,1],\n",
    "                [1,-1],\n",
    "                [1,1] ])\n",
    "    \n",
    "# output dataset            \n",
    "y = np.array([[0,0,0,1]]).T\n",
    "\n",
    "# seed random numbers to make calculation for reproducibility\n",
    "#np.random.seed(30)\n",
    "\n",
    "# initialize weights randomly with mean 0\n",
    "w0 = 2*np.random.random((2,1)) - 1\n",
    "\n",
    "for iter in range(100000):\n",
    "\n",
    "    # forward propagation\n",
    "    layer0 = X\n",
    "    layer1 = nonlin(np.dot(layer0,w0))\n",
    "\n",
    "    # Error Function\n",
    "    layer1_error = y - layer1\n",
    "    if (iter% 10000) == 0:\n",
    "        print (\"Error:=%.5f\", np.mean(np.abs(layer1_error)))\n",
    "    \n",
    "    # multiply how much we missed by the \n",
    "    # slope of the sigmoid at the values in l1\n",
    "    layer1_delta = gamma*layer1_error * nonlin(np.dot(layer0,w0),True)\n",
    "\n",
    "    # update weights\n",
    "    w0 += np.dot(layer0.T,layer1_delta)\n",
    "\n",
    "print (\"\\n Output After Training:\")\n",
    "print (layer1)\n",
    "print (\"\\n Weights:\")\n",
    "print (w0)"
   ]
  },
  {
   "cell_type": "markdown",
   "metadata": {
    "id": "YTRZEyrHC9YH"
   },
   "source": [
    "## Problem with mapping,  Solution: Introduce a biased node =1.0 ! \n",
    "\n",
    "<img width=\"417\" alt=\"neuron_biased\" src=\"https://user-images.githubusercontent.com/25600601/133041404-f31eb5dd-93ad-4f15-ae98-12f53c87ded0.png\">\n"
   ]
  },
  {
   "cell_type": "code",
   "execution_count": 11,
   "metadata": {
    "ExecuteTime": {
     "end_time": "2021-09-14T06:56:59.807298Z",
     "start_time": "2021-09-14T06:56:57.695225Z"
    },
    "colab": {
     "base_uri": "https://localhost:8080/"
    },
    "executionInfo": {
     "elapsed": 2256,
     "status": "ok",
     "timestamp": 1631548032142,
     "user": {
      "displayName": "Christopher Monterola",
      "photoUrl": "https://lh3.googleusercontent.com/a-/AOh14GiyxV9CUZD54GBpsQkscS6VRBjebHtFASKcOq-_Lw=s64",
      "userId": "07920169693232563668"
     },
     "user_tz": -480
    },
    "id": "kaSwYlyTDMNP",
    "outputId": "24ebe34f-30eb-4c9d-ea44-474106cbaacd"
   },
   "outputs": [
    {
     "name": "stdout",
     "output_type": "stream",
     "text": [
      "Error:=%.5f 0.689670319453651\n",
      "Error:=%.5f 0.06180653560686376\n",
      "Error:=%.5f 0.04182037851317318\n",
      "Error:=%.5f 0.033463135608924256\n",
      "Error:=%.5f 0.028630179421647327\n",
      "Error:=%.5f 0.025395907005111178\n",
      "Error:=%.5f 0.023041582362338157\n",
      "Error:=%.5f 0.02123112730976396\n",
      "Error:=%.5f 0.019784000920483477\n",
      "Error:=%.5f 0.01859355662477907\n",
      "\n",
      " Output After Training:\n",
      "[[1.38498636e-05]\n",
      " [2.34518706e-02]\n",
      " [2.34518706e-02]\n",
      " [9.76548129e-01]]\n",
      "\n",
      " Weights:\n",
      "[[-3.72907915]\n",
      " [ 3.72907915]\n",
      " [ 3.72907915]]\n"
     ]
    }
   ],
   "source": [
    "gamma=.01 # Learning Rate\n",
    "no_inputs=3\n",
    "no_output=1\n",
    "\n",
    "# Activation function here\n",
    "def nonlin2(x,deriv=False):\n",
    "    sigmoid=1/(1+np.exp(-x))\n",
    "    if(deriv==True):\n",
    "        return sigmoid*(1-sigmoid)\n",
    "    return sigmoid\n",
    " \n",
    "    \n",
    "# input dataset\n",
    "X = np.array([  [1,-1,-1],\n",
    "                [1,-1,1],\n",
    "                [1,1,-1],\n",
    "                [1,1,1] ])\n",
    "    \n",
    "# output dataset            \n",
    "y = np.array([[0,0,0,1]]).T\n",
    "\n",
    "# seed random numbers to make calculation for reproducibility\n",
    "#np.random.seed(42)\n",
    "\n",
    "# initialize weights randomly with mean 0\n",
    "w0 = (2*np.random.random((no_inputs,no_output)) - 1)\n",
    "\n",
    "for iter in range(100000):\n",
    "\n",
    "    # forward propagation\n",
    "    layer0 = X\n",
    "    layer1 = nonlin(np.dot(layer0,w0))\n",
    "\n",
    "    # Error Function\n",
    "    layer1_error = y - layer1\n",
    "    if (iter% 10000) == 0:\n",
    "        print (\"Error:=%.5f\", np.mean(np.abs(layer1_error)))\n",
    "    \n",
    "    # multiply how much we missed by the \n",
    "    # slope of the sigmoid at the values in l1\n",
    "    layer1_delta = gamma*layer1_error * nonlin(np.dot(layer0,w0),True)\n",
    "\n",
    "    # update weights\n",
    "    w0 += np.dot(layer0.T,layer1_delta)\n",
    "\n",
    "print (\"\\n Output After Training:\")\n",
    "print (layer1)\n",
    "print (\"\\n Weights:\")\n",
    "print (w0)"
   ]
  },
  {
   "cell_type": "markdown",
   "metadata": {
    "id": "6YiLhKTe5hgB"
   },
   "source": [
    "---\n",
    "# Example 3. (Home Exercise, discussion to be lead by Cedric/Gilbert, et al outside our class) Implement Biased, OR, AND and XOR using the architecture of the network below:\n",
    "\n",
    "<img width=\"650\" alt=\"NN3\" src=\"https://user-images.githubusercontent.com/25600601/133038506-3975ca5f-09fe-4d15-ba7a-28bd437dadda.png\">\n",
    "\n",
    "A. Write the formulation from the inputs $x_1$ and $x_2$ to $\\Phi_j$ to $\\Psi_{NN}$. \n",
    "\n",
    "\n",
    "B. Implement OR, AND, XOR and try to understand the resulting values of the weights for each of the operation. "
   ]
  },
  {
   "cell_type": "markdown",
   "metadata": {
    "id": "RdykW-gd5hgB"
   },
   "source": [
    "# 3. Training a three layer feedforward Neural Network using the backpropagation method\n",
    "\n",
    "Here we outline how to train a three layer feedforward neural network (input layer, single hidden layer, single output layer). \n",
    "\n",
    "<img width=\"676\" alt=\"feedforwardNN2\" src=\"https://user-images.githubusercontent.com/25600601/133038829-21dab3dd-ba10-4b72-83fe-ee05152b3838.png\">\n",
    "\n",
    "\n",
    "**Forward Propagation** The mapping from the feature $x_1, x2, ... x_N$  to the output $\\Psi_{NN}$ can be written in the following steps:\n",
    "\n",
    "STEP 1: Input to Hidden\n",
    "\n",
    "\\begin{equation}\n",
    "\\Phi_j= g(\\sum_{i=1}^N f(x_i)w_{ij})\n",
    "\\end{equation}\n",
    "\n",
    "where g(x) is the hidden activation function, $\\Phi_j$ is the output of $j$th hidden node ($j = 1,2 ..., H$) and $N$ is the total number of input nodes.\n",
    "\n",
    "STEP 2: Hidden to Output\n",
    "\n",
    "\\begin{equation}\n",
    "\\Psi_{NN}= h(\\sum_{j=1}^H  v_{j} \\Phi_j)\n",
    "\\end{equation}\n",
    "\n",
    "where h(x) is the activation function of the output node.\n",
    "\n",
    "**Backpropagation** As before the goal is to find the value of the weights $w_{ij}$ and $v_j$ that will reduce the error given by:\n",
    "\n",
    "\\begin{equation}\n",
    "E=\\frac{1}{2} (\\Psi_{NN} - \\Psi_{actual})^2\n",
    "\\end{equation}\n",
    "\n",
    "and this is achieved via gradient descent method by updating the weights from hidden to output nodes by:\n",
    "\n",
    "\\begin{equation}\n",
    "v_{j}^{t+1} = v_{j}^t - \\gamma_1 \\frac{\\partial E}{\\partial v_{j}^t} \n",
    "\\end{equation}\n",
    "\n",
    "while for the input to hidden nodes, \n",
    "\n",
    "\\begin{equation}\n",
    "w_{ij}^{t+1} = w_{ij}^t - \\gamma_2 \\frac{\\partial E}{\\partial w_{ij}^t} \n",
    "\\end{equation}\n",
    "\n",
    "where $\\gamma_1$ and $\\gamma_2$ are the learning rates input to hidden and hidden to output layers, respectively.\n",
    "\n",
    "Further, the above gradients can be obtained by using implementing the *chain rule* that will result to the following:\n",
    "\n",
    "Hidden to output\n",
    "\n",
    "\\begin{equation}\n",
    "\\frac{\\partial E}{\\partial v_{j}^t} = (\\Psi_{NN} - \\Psi_{actual}) \\frac{\\partial \\Psi_{NN} }{\\partial v_{j}^t} \\\\\n",
    "     =(\\Psi_{NN} - \\Psi_{actual}) h'(\\sum_{j=1}^H  v_{j} \\Phi_j)\\Phi_j \n",
    "\\end{equation}\n",
    "\n",
    "Input to Hidden\n",
    "\n",
    "\\begin{equation}\n",
    "\\frac{\\partial E}{\\partial w_{ij}^t} = (\\Psi_{NN} - \\Psi_{actual}) \\frac{\\partial \\Psi_{NN} }{\\partial w_{ij}^t} \\\\\n",
    "     =(\\Psi_{NN} - \\Psi_{actual}) h'(\\sum_{j=1}^H v_{j} \\Phi_j) (v_j \\frac{\\partial \\Phi_j}{\\partial w_{ij}^t})\n",
    "\\\\\n",
    "    =  (\\Psi_{NN} - \\Psi_{actual}) h'(\\sum_{j=1}^H v_{j} \\Phi_j) (v_j g'(\\sum_{i=1}^N f(x_i)w_{ij})) (f(x_i))\n",
    "\\end{equation}\n",
    "\n",
    "\n",
    " "
   ]
  },
  {
   "cell_type": "markdown",
   "metadata": {
    "id": "v4IlVskKErPc"
   },
   "source": [
    "# Example 4. Symmetry problem. Extend the problem above to the case of a 4 inputs given by the table below:\n",
    "\n",
    "| $x_1$ | $x_2$ | $x_3$ | $x_4$ | $\\Psi_{actual}$ |\n",
    "| --- | --- | --- | --- | --- |\n",
    "| 0 | 0 | 0 | 0 | 1 |\n",
    "| 0 | 0 | 0 | 1 | 0 |\n",
    "| 0 | 0 | 1 | 0 | 0 |\n",
    "| 0 | 0 | 1 | 1 | 0 |\n",
    "| 0 | 1 | 0 | 0 | 0 |\n",
    "| 0 | 1 | 0 | 1 | 0 |\n",
    "| 0 | 1 | 1 | 0 | 1 |\n",
    "| 0 | 1 | 1 | 1 | 0 |\n",
    "| 1 | 0 | 0 | 0 | 0 |\n",
    "| 1 | 0 | 0 | 1 | 1 |\n",
    "| 1 | 0 | 1 | 0 | 0 |\n",
    "| 1 | 0 | 1 | 1 | 0 |\n",
    "| 1 | 1 | 0 | 0 | 0 |\n",
    "| 1 | 1 | 0 | 1 | 0 |\n",
    "| 1 | 1 | 1 | 0 | 0 |\n",
    "| 1 | 1 | 1 | 1 | 1 |"
   ]
  },
  {
   "cell_type": "code",
   "execution_count": 12,
   "metadata": {
    "ExecuteTime": {
     "end_time": "2021-09-14T06:57:00.172863Z",
     "start_time": "2021-09-14T06:56:59.809023Z"
    },
    "colab": {
     "base_uri": "https://localhost:8080/",
     "height": 204
    },
    "executionInfo": {
     "elapsed": 2651,
     "status": "ok",
     "timestamp": 1631548069263,
     "user": {
      "displayName": "Christopher Monterola",
      "photoUrl": "https://lh3.googleusercontent.com/a-/AOh14GiyxV9CUZD54GBpsQkscS6VRBjebHtFASKcOq-_Lw=s64",
      "userId": "07920169693232563668"
     },
     "user_tz": -480
    },
    "id": "A2ROWzDNHNou",
    "outputId": "c56256eb-fa38-432f-db52-d7ef29e54d6d"
   },
   "outputs": [
    {
     "data": {
      "text/html": [
       "<div>\n",
       "<style scoped>\n",
       "    .dataframe tbody tr th:only-of-type {\n",
       "        vertical-align: middle;\n",
       "    }\n",
       "\n",
       "    .dataframe tbody tr th {\n",
       "        vertical-align: top;\n",
       "    }\n",
       "\n",
       "    .dataframe thead th {\n",
       "        text-align: right;\n",
       "    }\n",
       "</style>\n",
       "<table border=\"1\" class=\"dataframe\">\n",
       "  <thead>\n",
       "    <tr style=\"text-align: right;\">\n",
       "      <th></th>\n",
       "      <th>x1</th>\n",
       "      <th>x2</th>\n",
       "      <th>x3</th>\n",
       "      <th>x4</th>\n",
       "      <th>output</th>\n",
       "    </tr>\n",
       "  </thead>\n",
       "  <tbody>\n",
       "    <tr>\n",
       "      <th>0</th>\n",
       "      <td>0</td>\n",
       "      <td>0</td>\n",
       "      <td>0</td>\n",
       "      <td>0</td>\n",
       "      <td>1</td>\n",
       "    </tr>\n",
       "    <tr>\n",
       "      <th>1</th>\n",
       "      <td>0</td>\n",
       "      <td>0</td>\n",
       "      <td>0</td>\n",
       "      <td>1</td>\n",
       "      <td>0</td>\n",
       "    </tr>\n",
       "    <tr>\n",
       "      <th>2</th>\n",
       "      <td>0</td>\n",
       "      <td>0</td>\n",
       "      <td>1</td>\n",
       "      <td>0</td>\n",
       "      <td>0</td>\n",
       "    </tr>\n",
       "    <tr>\n",
       "      <th>3</th>\n",
       "      <td>0</td>\n",
       "      <td>0</td>\n",
       "      <td>1</td>\n",
       "      <td>1</td>\n",
       "      <td>0</td>\n",
       "    </tr>\n",
       "    <tr>\n",
       "      <th>4</th>\n",
       "      <td>0</td>\n",
       "      <td>1</td>\n",
       "      <td>0</td>\n",
       "      <td>0</td>\n",
       "      <td>0</td>\n",
       "    </tr>\n",
       "  </tbody>\n",
       "</table>\n",
       "</div>"
      ],
      "text/plain": [
       "   x1  x2  x3  x4  output\n",
       "0   0   0   0   0       1\n",
       "1   0   0   0   1       0\n",
       "2   0   0   1   0       0\n",
       "3   0   0   1   1       0\n",
       "4   0   1   0   0       0"
      ]
     },
     "execution_count": 12,
     "metadata": {},
     "output_type": "execute_result"
    }
   ],
   "source": [
    "df_symmetry = pd.read_excel('symmetry.xlsx', sheet_name='Sheet1', \n",
    "                            engine='openpyxl')\n",
    "dummy=df_symmetry\n",
    "dummy.head()"
   ]
  },
  {
   "cell_type": "code",
   "execution_count": 13,
   "metadata": {
    "ExecuteTime": {
     "end_time": "2021-09-14T06:57:00.178716Z",
     "start_time": "2021-09-14T06:57:00.174605Z"
    },
    "colab": {
     "base_uri": "https://localhost:8080/"
    },
    "executionInfo": {
     "elapsed": 14,
     "status": "ok",
     "timestamp": 1631548069263,
     "user": {
      "displayName": "Christopher Monterola",
      "photoUrl": "https://lh3.googleusercontent.com/a-/AOh14GiyxV9CUZD54GBpsQkscS6VRBjebHtFASKcOq-_Lw=s64",
      "userId": "07920169693232563668"
     },
     "user_tz": -480
    },
    "id": "oaHwi_3nE2oW",
    "outputId": "e8513f82-1385-4f46-8789-5e1d5c25d82c"
   },
   "outputs": [
    {
     "data": {
      "text/plain": [
       "Index(['x1', 'x2', 'x3', 'x4', 'output'], dtype='object')"
      ]
     },
     "execution_count": 13,
     "metadata": {},
     "output_type": "execute_result"
    }
   ],
   "source": [
    "dummy.columns"
   ]
  },
  {
   "cell_type": "code",
   "execution_count": 14,
   "metadata": {
    "ExecuteTime": {
     "end_time": "2021-09-14T06:57:00.280109Z",
     "start_time": "2021-09-14T06:57:00.180187Z"
    },
    "colab": {
     "base_uri": "https://localhost:8080/",
     "height": 333
    },
    "executionInfo": {
     "elapsed": 13,
     "status": "ok",
     "timestamp": 1631548069264,
     "user": {
      "displayName": "Christopher Monterola",
      "photoUrl": "https://lh3.googleusercontent.com/a-/AOh14GiyxV9CUZD54GBpsQkscS6VRBjebHtFASKcOq-_Lw=s64",
      "userId": "07920169693232563668"
     },
     "user_tz": -480
    },
    "id": "4gZG9dtKE6K_",
    "outputId": "87e66365-c097-4f38-8119-422ba1e19a54"
   },
   "outputs": [
    {
     "name": "stderr",
     "output_type": "stream",
     "text": [
      "/opt/conda/lib/python3.8/site-packages/seaborn/_decorators.py:36: FutureWarning: Pass the following variable as a keyword arg: x. From version 0.12, the only valid positional argument will be `data`, and passing other arguments without an explicit keyword will result in an error or misinterpretation.\n",
      "  warnings.warn(\n"
     ]
    },
    {
     "data": {
      "image/png": "[encoded data removed]",
      "text/plain": [
       "<Figure size 432x288 with 1 Axes>"
      ]
     },
     "metadata": {
      "needs_background": "light"
     },
     "output_type": "display_data"
    }
   ],
   "source": [
    "sns.countplot(df_symmetry['output'],label=\"Count\")\n",
    "plt.show()"
   ]
  },
  {
   "cell_type": "code",
   "execution_count": 15,
   "metadata": {
    "ExecuteTime": {
     "end_time": "2021-09-14T06:57:00.285003Z",
     "start_time": "2021-09-14T06:57:00.281542Z"
    },
    "executionInfo": {
     "elapsed": 9,
     "status": "ok",
     "timestamp": 1631548069264,
     "user": {
      "displayName": "Christopher Monterola",
      "photoUrl": "https://lh3.googleusercontent.com/a-/AOh14GiyxV9CUZD54GBpsQkscS6VRBjebHtFASKcOq-_Lw=s64",
      "userId": "07920169693232563668"
     },
     "user_tz": -480
    },
    "id": "oO8O5e_NE8Je"
   },
   "outputs": [],
   "source": [
    "feature_names = ['x1', 'x2', 'x3', 'x4']\n",
    "\n",
    "X = df_symmetry[feature_names]\n",
    "y = df_symmetry['output']"
   ]
  },
  {
   "cell_type": "code",
   "execution_count": 16,
   "metadata": {
    "ExecuteTime": {
     "end_time": "2021-09-14T06:57:00.289560Z",
     "start_time": "2021-09-14T06:57:00.286665Z"
    },
    "executionInfo": {
     "elapsed": 10,
     "status": "ok",
     "timestamp": 1631548069265,
     "user": {
      "displayName": "Christopher Monterola",
      "photoUrl": "https://lh3.googleusercontent.com/a-/AOh14GiyxV9CUZD54GBpsQkscS6VRBjebHtFASKcOq-_Lw=s64",
      "userId": "07920169693232563668"
     },
     "user_tz": -480
    },
    "id": "_dFhKjUnE-Rz"
   },
   "outputs": [],
   "source": [
    "X.values\n",
    "y=np.array(y, ndmin=2).T"
   ]
  },
  {
   "cell_type": "code",
   "execution_count": 17,
   "metadata": {
    "ExecuteTime": {
     "end_time": "2021-09-14T06:57:52.485577Z",
     "start_time": "2021-09-14T06:57:00.290995Z"
    },
    "colab": {
     "base_uri": "https://localhost:8080/"
    },
    "executionInfo": {
     "elapsed": 41670,
     "status": "ok",
     "timestamp": 1631548110926,
     "user": {
      "displayName": "Christopher Monterola",
      "photoUrl": "https://lh3.googleusercontent.com/a-/AOh14GiyxV9CUZD54GBpsQkscS6VRBjebHtFASKcOq-_Lw=s64",
      "userId": "07920169693232563668"
     },
     "user_tz": -480
    },
    "id": "xOWv4Y0sFCaZ",
    "outputId": "40ecd320-25f5-4624-966a-166370009fae"
   },
   "outputs": [
    {
     "name": "stdout",
     "output_type": "stream",
     "text": [
      "[[-0.25091976  0.90142861  0.46398788]\n",
      " [ 0.19731697 -0.68796272 -0.68801096]\n",
      " [-0.88383278  0.73235229  0.20223002]\n",
      " [ 0.41614516 -0.95883101  0.9398197 ]]\n",
      "Error= 0.4538914901838103\n",
      "Error= 0.34675912033150075\n",
      "Error= 0.23745199059527822\n",
      "Error= 0.14324825996919138\n",
      "Error= 0.1083231800588231\n",
      "Error= 0.09281695985006916\n",
      "Error= 0.08667276389202516\n",
      "Error= 0.0838412970607605\n",
      "Error= 0.08233014826842822\n",
      "Error= 0.08112169956688148\n",
      "Error= 0.07886757971536229\n",
      "Error= 0.07316008464585186\n",
      "Error= 0.0663900495391978\n",
      "Error= 0.06013449183358596\n",
      "Error= 0.05471335174799407\n",
      "Error= 0.05007652697936706\n",
      "Error= 0.04610535452752052\n",
      "Error= 0.04268378627744008\n",
      "Error= 0.03971378007738437\n",
      "Error= 0.03711610294663073\n",
      "Error= 0.03482752720140134\n",
      "Error= 0.03279760642975773\n",
      "Error= 0.030985886191975752\n",
      "Error= 0.0293596875379664\n",
      "Error= 0.02789239869986783\n",
      "Error= 0.02656217084690022\n",
      "Error= 0.025350922363657085\n",
      "Error= 0.024243575281280114\n",
      "Error= 0.023227465865050163\n",
      "Error= 0.02229188619147429\n",
      "\n",
      " Output After Training:\n",
      "[[8.92333123e-01]\n",
      " [7.31943773e-05]\n",
      " [3.22372645e-06]\n",
      " [2.74542132e-02]\n",
      " [2.57631994e-02]\n",
      " [7.60602418e-07]\n",
      " [9.63006693e-01]\n",
      " [6.97157701e-05]\n",
      " [6.19253276e-04]\n",
      " [9.60977872e-01]\n",
      " [4.77635404e-02]\n",
      " [1.29901391e-03]\n",
      " [8.21893524e-04]\n",
      " [2.79913180e-02]\n",
      " [6.56234034e-04]\n",
      " [9.73340977e-01]]\n"
     ]
    }
   ],
   "source": [
    "gamma0=.1 #Input to Hidden\n",
    "gamma1=.2 #Hidden to Output\n",
    "\n",
    "no_hidden=3  #No of hidden nodes\n",
    "no_inputs=4\n",
    "no_outputs=1\n",
    "\n",
    "def nonlin(x,deriv=False):\n",
    "    sigmoid=1/(1+np.exp(-x))\n",
    "    if(deriv==True):\n",
    "        return sigmoid*(1-sigmoid)\n",
    "    return sigmoid\n",
    "\n",
    "\n",
    "np.random.seed(42)\n",
    "\n",
    "# randomly initialize our weights with mean 0\n",
    "w0 = 2*np.random.random((no_inputs,no_hidden)) - 1\n",
    "w1 = 2*np.random.random((no_hidden,no_outputs)) - 1\n",
    "\n",
    "print(w0)\n",
    "\n",
    "for iter in range(30000):\n",
    "\n",
    "\t# Feed forward through layers 0, 1, and 2\n",
    "    layer0 = X\n",
    "    layer1 = nonlin(np.dot(layer0,w0))\n",
    "    layer2 = nonlin(np.dot(layer1,w1))\n",
    "\n",
    "    # Error Function\n",
    "    layer2_error = y - layer2\n",
    "    \n",
    "    if (iter% 1000) == 0:\n",
    "        print (\"Error=\", np.mean(np.abs(layer2_error)))\n",
    "        \n",
    " #Gradients\n",
    "    layer2_delta = layer2_error*nonlin(nonlin(np.dot(layer1,w1)),deriv=True)\n",
    "    layer1_delta = layer2_delta.dot(w1.T)*nonlin(np.dot(layer0,w0),deriv=True)\n",
    "\n",
    "    w1 += gamma1*layer1.T.dot(layer2_delta)\n",
    "    w0 += gamma0*layer0.T.dot(layer1_delta)\n",
    "\n",
    "print (\"\\n Output After Training:\")\n",
    "print (layer2)"
   ]
  },
  {
   "cell_type": "code",
   "execution_count": 18,
   "metadata": {
    "ExecuteTime": {
     "end_time": "2021-09-14T06:57:52.491812Z",
     "start_time": "2021-09-14T06:57:52.487746Z"
    },
    "colab": {
     "base_uri": "https://localhost:8080/"
    },
    "executionInfo": {
     "elapsed": 20,
     "status": "ok",
     "timestamp": 1631548110926,
     "user": {
      "displayName": "Christopher Monterola",
      "photoUrl": "https://lh3.googleusercontent.com/a-/AOh14GiyxV9CUZD54GBpsQkscS6VRBjebHtFASKcOq-_Lw=s64",
      "userId": "07920169693232563668"
     },
     "user_tz": -480
    },
    "id": "zrMxGWVTFGTV",
    "outputId": "5aca49d5-6efe-438e-a37d-f24fa8e1db57"
   },
   "outputs": [
    {
     "name": "stdout",
     "output_type": "stream",
     "text": [
      "[[1.]\n",
      " [0.]\n",
      " [0.]\n",
      " [0.]\n",
      " [0.]\n",
      " [0.]\n",
      " [1.]\n",
      " [0.]\n",
      " [0.]\n",
      " [1.]\n",
      " [0.]\n",
      " [0.]\n",
      " [0.]\n",
      " [0.]\n",
      " [0.]\n",
      " [1.]]\n"
     ]
    }
   ],
   "source": [
    "print (np.rint(layer2))"
   ]
  },
  {
   "cell_type": "markdown",
   "metadata": {
    "id": "_hMQtxXYFK0t"
   },
   "source": [
    "#### Look at the confusion matrix"
   ]
  },
  {
   "cell_type": "code",
   "execution_count": 19,
   "metadata": {
    "ExecuteTime": {
     "end_time": "2021-09-14T06:57:52.505206Z",
     "start_time": "2021-09-14T06:57:52.493371Z"
    },
    "colab": {
     "base_uri": "https://localhost:8080/"
    },
    "executionInfo": {
     "elapsed": 19,
     "status": "ok",
     "timestamp": 1631548110927,
     "user": {
      "displayName": "Christopher Monterola",
      "photoUrl": "https://lh3.googleusercontent.com/a-/AOh14GiyxV9CUZD54GBpsQkscS6VRBjebHtFASKcOq-_Lw=s64",
      "userId": "07920169693232563668"
     },
     "user_tz": -480
    },
    "id": "U_tZXYYIFKJo",
    "outputId": "cc3e613b-0b0b-497f-99a9-d192bc5f3ec3"
   },
   "outputs": [
    {
     "data": {
      "text/plain": [
       "array([[12,  0],\n",
       "       [ 0,  4]])"
      ]
     },
     "execution_count": 19,
     "metadata": {},
     "output_type": "execute_result"
    }
   ],
   "source": [
    "\n",
    "\n",
    "output=np.rint(layer2)\n",
    "confusion_matrix(output, y)"
   ]
  },
  {
   "cell_type": "markdown",
   "metadata": {
    "id": "cPh4l2DVFOoZ"
   },
   "source": [
    "#### Evaluate some Test Set"
   ]
  },
  {
   "cell_type": "code",
   "execution_count": 20,
   "metadata": {
    "ExecuteTime": {
     "end_time": "2021-09-14T06:57:52.513230Z",
     "start_time": "2021-09-14T06:57:52.507937Z"
    },
    "colab": {
     "base_uri": "https://localhost:8080/"
    },
    "executionInfo": {
     "elapsed": 15,
     "status": "ok",
     "timestamp": 1631548110927,
     "user": {
      "displayName": "Christopher Monterola",
      "photoUrl": "https://lh3.googleusercontent.com/a-/AOh14GiyxV9CUZD54GBpsQkscS6VRBjebHtFASKcOq-_Lw=s64",
      "userId": "07920169693232563668"
     },
     "user_tz": -480
    },
    "id": "KnWqKuiVFSDK",
    "outputId": "03d1143a-28b3-4119-8444-e105a74adeed"
   },
   "outputs": [
    {
     "name": "stdout",
     "output_type": "stream",
     "text": [
      "[[0.00129893]]\n"
     ]
    }
   ],
   "source": [
    "X1 = np.array([[1,0,1,1]])\n",
    "\n",
    "layer0 = X1\n",
    "layer1 = nonlin(np.dot(layer0,w0))\n",
    "layer2 = nonlin(np.dot(layer1,w1))\n",
    "\n",
    "print(layer2)"
   ]
  },
  {
   "cell_type": "markdown",
   "metadata": {
    "id": "STR2z79mAchV"
   },
   "source": [
    "# Example 5. Real-world applications (finally!) The UP College Admission Test  (UPCAT) Prediction.\n",
    "\n",
    "Here is the actual class performance of more than 1000 students who took the UPCAT. The information contains the grades of each of the students in English, Math, and Science and their general weighted averages from grades 7-9. An IQ test conducted by the school is also made available together with a confidentially measured variable abbreviated as SA.  \n",
    "\n",
    "Explore how accurately can a three-layer feedforward neural network can forecast UPCAT passers (pass=1, fail=0). Determine the optimal learning rate and architecture for generalization with an 80:20 split."
   ]
  },
  {
   "cell_type": "code",
   "execution_count": 21,
   "metadata": {
    "ExecuteTime": {
     "end_time": "2021-09-14T06:57:52.868574Z",
     "start_time": "2021-09-14T06:57:52.514844Z"
    },
    "colab": {
     "base_uri": "https://localhost:8080/",
     "height": 0
    },
    "executionInfo": {
     "elapsed": 610,
     "status": "ok",
     "timestamp": 1631548111522,
     "user": {
      "displayName": "Christopher Monterola",
      "photoUrl": "https://lh3.googleusercontent.com/a-/AOh14GiyxV9CUZD54GBpsQkscS6VRBjebHtFASKcOq-_Lw=s64",
      "userId": "07920169693232563668"
     },
     "user_tz": -480
    },
    "id": "WnCabvbxAchV",
    "outputId": "519eba06-a903-4cb9-b6a1-be048846c6a9"
   },
   "outputs": [
    {
     "data": {
      "text/html": [
       "<div>\n",
       "<style scoped>\n",
       "    .dataframe tbody tr th:only-of-type {\n",
       "        vertical-align: middle;\n",
       "    }\n",
       "\n",
       "    .dataframe tbody tr th {\n",
       "        vertical-align: top;\n",
       "    }\n",
       "\n",
       "    .dataframe thead th {\n",
       "        text-align: right;\n",
       "    }\n",
       "</style>\n",
       "<table border=\"1\" class=\"dataframe\">\n",
       "  <thead>\n",
       "    <tr style=\"text-align: right;\">\n",
       "      <th></th>\n",
       "      <th>Batch</th>\n",
       "      <th>Eng7</th>\n",
       "      <th>Eng8</th>\n",
       "      <th>Eng9</th>\n",
       "      <th>Math7</th>\n",
       "      <th>Math8</th>\n",
       "      <th>Math9</th>\n",
       "      <th>Sci7</th>\n",
       "      <th>Sci8</th>\n",
       "      <th>Sci9</th>\n",
       "      <th>GWA7</th>\n",
       "      <th>GWA8</th>\n",
       "      <th>GWA9</th>\n",
       "      <th>UP</th>\n",
       "      <th>IQ</th>\n",
       "      <th>SA</th>\n",
       "      <th>C1</th>\n",
       "      <th>C2</th>\n",
       "      <th>Target</th>\n",
       "    </tr>\n",
       "  </thead>\n",
       "  <tbody>\n",
       "    <tr>\n",
       "      <th>0</th>\n",
       "      <td>2005</td>\n",
       "      <td>77</td>\n",
       "      <td>82.0</td>\n",
       "      <td>86</td>\n",
       "      <td>94</td>\n",
       "      <td>87</td>\n",
       "      <td>92.0</td>\n",
       "      <td>84</td>\n",
       "      <td>80</td>\n",
       "      <td>92</td>\n",
       "      <td>1.4764</td>\n",
       "      <td>1.5045</td>\n",
       "      <td>1.4098</td>\n",
       "      <td>1</td>\n",
       "      <td>55.0</td>\n",
       "      <td>28</td>\n",
       "      <td>1</td>\n",
       "      <td>4.0</td>\n",
       "      <td>1</td>\n",
       "    </tr>\n",
       "    <tr>\n",
       "      <th>1</th>\n",
       "      <td>2005</td>\n",
       "      <td>57</td>\n",
       "      <td>57.0</td>\n",
       "      <td>59</td>\n",
       "      <td>55</td>\n",
       "      <td>46</td>\n",
       "      <td>57.0</td>\n",
       "      <td>53</td>\n",
       "      <td>45</td>\n",
       "      <td>53</td>\n",
       "      <td>2.6557</td>\n",
       "      <td>2.7000</td>\n",
       "      <td>2.7008</td>\n",
       "      <td>1</td>\n",
       "      <td>38.0</td>\n",
       "      <td>19</td>\n",
       "      <td>5</td>\n",
       "      <td>3.0</td>\n",
       "      <td>0</td>\n",
       "    </tr>\n",
       "    <tr>\n",
       "      <th>2</th>\n",
       "      <td>2005</td>\n",
       "      <td>55</td>\n",
       "      <td>52.0</td>\n",
       "      <td>55</td>\n",
       "      <td>57</td>\n",
       "      <td>53</td>\n",
       "      <td>51.0</td>\n",
       "      <td>57</td>\n",
       "      <td>62</td>\n",
       "      <td>51</td>\n",
       "      <td>2.6132</td>\n",
       "      <td>2.6818</td>\n",
       "      <td>2.7172</td>\n",
       "      <td>0</td>\n",
       "      <td>17.0</td>\n",
       "      <td>9</td>\n",
       "      <td>5</td>\n",
       "      <td>6.0</td>\n",
       "      <td>0</td>\n",
       "    </tr>\n",
       "    <tr>\n",
       "      <th>3</th>\n",
       "      <td>2005</td>\n",
       "      <td>69</td>\n",
       "      <td>78.0</td>\n",
       "      <td>78</td>\n",
       "      <td>87</td>\n",
       "      <td>79</td>\n",
       "      <td>79.0</td>\n",
       "      <td>83</td>\n",
       "      <td>82</td>\n",
       "      <td>79</td>\n",
       "      <td>1.7217</td>\n",
       "      <td>1.6136</td>\n",
       "      <td>1.7049</td>\n",
       "      <td>1</td>\n",
       "      <td>45.0</td>\n",
       "      <td>28</td>\n",
       "      <td>1</td>\n",
       "      <td>4.0</td>\n",
       "      <td>0</td>\n",
       "    </tr>\n",
       "    <tr>\n",
       "      <th>4</th>\n",
       "      <td>2005</td>\n",
       "      <td>64</td>\n",
       "      <td>71.0</td>\n",
       "      <td>68</td>\n",
       "      <td>71</td>\n",
       "      <td>57</td>\n",
       "      <td>54.0</td>\n",
       "      <td>60</td>\n",
       "      <td>59</td>\n",
       "      <td>55</td>\n",
       "      <td>2.4245</td>\n",
       "      <td>2.4318</td>\n",
       "      <td>2.4713</td>\n",
       "      <td>1</td>\n",
       "      <td>67.0</td>\n",
       "      <td>56</td>\n",
       "      <td>1</td>\n",
       "      <td>5.0</td>\n",
       "      <td>0</td>\n",
       "    </tr>\n",
       "  </tbody>\n",
       "</table>\n",
       "</div>"
      ],
      "text/plain": [
       "   Batch  Eng7  Eng8  Eng9  Math7  Math8  Math9  Sci7  Sci8  Sci9    GWA7  \\\n",
       "0   2005    77  82.0    86     94     87   92.0    84    80    92  1.4764   \n",
       "1   2005    57  57.0    59     55     46   57.0    53    45    53  2.6557   \n",
       "2   2005    55  52.0    55     57     53   51.0    57    62    51  2.6132   \n",
       "3   2005    69  78.0    78     87     79   79.0    83    82    79  1.7217   \n",
       "4   2005    64  71.0    68     71     57   54.0    60    59    55  2.4245   \n",
       "\n",
       "     GWA8    GWA9  UP    IQ  SA  C1   C2  Target  \n",
       "0  1.5045  1.4098   1  55.0  28   1  4.0       1  \n",
       "1  2.7000  2.7008   1  38.0  19   5  3.0       0  \n",
       "2  2.6818  2.7172   0  17.0   9   5  6.0       0  \n",
       "3  1.6136  1.7049   1  45.0  28   1  4.0       0  \n",
       "4  2.4318  2.4713   1  67.0  56   1  5.0       0  "
      ]
     },
     "execution_count": 21,
     "metadata": {},
     "output_type": "execute_result"
    }
   ],
   "source": [
    "df_UPCAT = pd.read_excel('UPCAT_DATA2.xlsx', sheet_name='AllData', \n",
    "                        engine='openpyxl')\n",
    "dummy = df_UPCAT\n",
    "dummy.head()"
   ]
  },
  {
   "cell_type": "code",
   "execution_count": 22,
   "metadata": {
    "ExecuteTime": {
     "end_time": "2021-09-14T06:57:52.973212Z",
     "start_time": "2021-09-14T06:57:52.872691Z"
    },
    "colab": {
     "base_uri": "https://localhost:8080/",
     "height": 0
    },
    "executionInfo": {
     "elapsed": 8,
     "status": "ok",
     "timestamp": 1631548111523,
     "user": {
      "displayName": "Christopher Monterola",
      "photoUrl": "https://lh3.googleusercontent.com/a-/AOh14GiyxV9CUZD54GBpsQkscS6VRBjebHtFASKcOq-_Lw=s64",
      "userId": "07920169693232563668"
     },
     "user_tz": -480
    },
    "id": "YWmJabUQAchV",
    "outputId": "b1390d24-a18f-4dce-9c15-ebc3b6503908"
   },
   "outputs": [
    {
     "name": "stderr",
     "output_type": "stream",
     "text": [
      "/opt/conda/lib/python3.8/site-packages/seaborn/_decorators.py:36: FutureWarning: Pass the following variable as a keyword arg: x. From version 0.12, the only valid positional argument will be `data`, and passing other arguments without an explicit keyword will result in an error or misinterpretation.\n",
      "  warnings.warn(\n"
     ]
    },
    {
     "data": {
      "image/png": "[encoded data removed]",
      "text/plain": [
       "<Figure size 432x288 with 1 Axes>"
      ]
     },
     "metadata": {
      "needs_background": "light"
     },
     "output_type": "display_data"
    }
   ],
   "source": [
    "sns.countplot(df_UPCAT['Target'],label=\"Count\")\n",
    "plt.show()"
   ]
  },
  {
   "cell_type": "code",
   "execution_count": 23,
   "metadata": {
    "ExecuteTime": {
     "end_time": "2021-09-14T06:57:52.979359Z",
     "start_time": "2021-09-14T06:57:52.975255Z"
    },
    "colab": {
     "base_uri": "https://localhost:8080/"
    },
    "executionInfo": {
     "elapsed": 477,
     "status": "ok",
     "timestamp": 1631548111994,
     "user": {
      "displayName": "Christopher Monterola",
      "photoUrl": "https://lh3.googleusercontent.com/a-/AOh14GiyxV9CUZD54GBpsQkscS6VRBjebHtFASKcOq-_Lw=s64",
      "userId": "07920169693232563668"
     },
     "user_tz": -480
    },
    "id": "lwen0eO7AchW",
    "outputId": "818e8228-34a6-4c7f-8dc7-d1c8b1040c89"
   },
   "outputs": [
    {
     "data": {
      "text/plain": [
       "Index(['Batch', 'Eng7', 'Eng8', 'Eng9', 'Math7', 'Math8', 'Math9', 'Sci7',\n",
       "       'Sci8', 'Sci9', 'GWA7', 'GWA8', 'GWA9', 'UP', 'IQ', 'SA', 'C1', 'C2',\n",
       "       'Target'],\n",
       "      dtype='object')"
      ]
     },
     "execution_count": 23,
     "metadata": {},
     "output_type": "execute_result"
    }
   ],
   "source": [
    "dummy.columns"
   ]
  },
  {
   "cell_type": "code",
   "execution_count": 24,
   "metadata": {
    "ExecuteTime": {
     "end_time": "2021-09-14T06:57:52.986652Z",
     "start_time": "2021-09-14T06:57:52.980861Z"
    },
    "executionInfo": {
     "elapsed": 11,
     "status": "ok",
     "timestamp": 1631548111995,
     "user": {
      "displayName": "Christopher Monterola",
      "photoUrl": "https://lh3.googleusercontent.com/a-/AOh14GiyxV9CUZD54GBpsQkscS6VRBjebHtFASKcOq-_Lw=s64",
      "userId": "07920169693232563668"
     },
     "user_tz": -480
    },
    "id": "v7DRJ-IxAchW"
   },
   "outputs": [],
   "source": [
    "feature_names = ['Eng7', 'Eng8', 'Eng9', 'Math7', 'Math8', 'Math9', 'Sci7',\n",
    "       'Sci8', 'Sci9', 'GWA7', 'GWA8', 'GWA9', 'UP', 'IQ', 'SA', 'C1', 'C2']\n",
    "\n",
    "X = df_UPCAT[feature_names]\n",
    "y = df_UPCAT['Target']\n"
   ]
  },
  {
   "cell_type": "code",
   "execution_count": 25,
   "metadata": {
    "ExecuteTime": {
     "end_time": "2021-09-14T06:57:52.992868Z",
     "start_time": "2021-09-14T06:57:52.988696Z"
    },
    "colab": {
     "base_uri": "https://localhost:8080/"
    },
    "executionInfo": {
     "elapsed": 11,
     "status": "ok",
     "timestamp": 1631548111995,
     "user": {
      "displayName": "Christopher Monterola",
      "photoUrl": "https://lh3.googleusercontent.com/a-/AOh14GiyxV9CUZD54GBpsQkscS6VRBjebHtFASKcOq-_Lw=s64",
      "userId": "07920169693232563668"
     },
     "user_tz": -480
    },
    "id": "tZz07QSTAchW",
    "outputId": "13284b69-e039-492a-efa1-edb303a10d6f"
   },
   "outputs": [
    {
     "data": {
      "text/plain": [
       "(1010, 17)"
      ]
     },
     "execution_count": 25,
     "metadata": {},
     "output_type": "execute_result"
    }
   ],
   "source": [
    "X.shape"
   ]
  },
  {
   "cell_type": "code",
   "execution_count": 26,
   "metadata": {
    "ExecuteTime": {
     "end_time": "2021-09-14T06:57:52.998417Z",
     "start_time": "2021-09-14T06:57:52.994609Z"
    },
    "executionInfo": {
     "elapsed": 10,
     "status": "ok",
     "timestamp": 1631548111995,
     "user": {
      "displayName": "Christopher Monterola",
      "photoUrl": "https://lh3.googleusercontent.com/a-/AOh14GiyxV9CUZD54GBpsQkscS6VRBjebHtFASKcOq-_Lw=s64",
      "userId": "07920169693232563668"
     },
     "user_tz": -480
    },
    "id": "7vRcM2NVAchW"
   },
   "outputs": [],
   "source": [
    "X.insert(loc=0, column='biased', value=1.0)"
   ]
  },
  {
   "cell_type": "code",
   "execution_count": 27,
   "metadata": {
    "ExecuteTime": {
     "end_time": "2021-09-14T06:57:53.017818Z",
     "start_time": "2021-09-14T06:57:53.000196Z"
    },
    "colab": {
     "base_uri": "https://localhost:8080/"
    },
    "executionInfo": {
     "elapsed": 10,
     "status": "ok",
     "timestamp": 1631548111996,
     "user": {
      "displayName": "Christopher Monterola",
      "photoUrl": "https://lh3.googleusercontent.com/a-/AOh14GiyxV9CUZD54GBpsQkscS6VRBjebHtFASKcOq-_Lw=s64",
      "userId": "07920169693232563668"
     },
     "user_tz": -480
    },
    "id": "d4x_Bhx8AchW",
    "outputId": "b86be48b-437b-4964-f73d-60b798f0d666"
   },
   "outputs": [
    {
     "data": {
      "text/plain": [
       "biased    0\n",
       "Eng7      0\n",
       "Eng8      0\n",
       "Eng9      0\n",
       "Math7     0\n",
       "Math8     0\n",
       "Math9     0\n",
       "Sci7      0\n",
       "Sci8      0\n",
       "Sci9      0\n",
       "GWA7      0\n",
       "GWA8      0\n",
       "GWA9      0\n",
       "UP        0\n",
       "IQ        0\n",
       "SA        0\n",
       "C1        0\n",
       "C2        0\n",
       "dtype: int64"
      ]
     },
     "execution_count": 27,
     "metadata": {},
     "output_type": "execute_result"
    }
   ],
   "source": [
    "import pandas as pd\n",
    "import numpy as np\n",
    "\n",
    "from sklearn.base import TransformerMixin\n",
    "\n",
    "class DataFrameImputer(TransformerMixin):\n",
    "\n",
    "    def __init__(self):\n",
    "        \"\"\"Impute missing values.\n",
    "\n",
    "        Columns of dtype object are imputed with the most frequent value \n",
    "        in column.\n",
    "\n",
    "        Columns of other types are imputed with mean of column.\n",
    "\n",
    "        \"\"\"\n",
    "    def fit(self, X, y=None):\n",
    "\n",
    "        self.fill = pd.Series([X[c].value_counts().index[0]\n",
    "            if X[c].dtype == np.dtype('O') else X[c].mean() for c in X],\n",
    "            index=X.columns)\n",
    "\n",
    "        return self\n",
    "\n",
    "    def transform(self, X, y=None):\n",
    "        return X.fillna(self.fill)\n",
    "\n",
    "\n",
    "\n",
    "X_transition = pd.DataFrame(X)\n",
    "X_clean = DataFrameImputer().fit_transform(X_transition)\n",
    "\n",
    "X_clean.isnull().sum()"
   ]
  },
  {
   "cell_type": "code",
   "execution_count": 28,
   "metadata": {
    "ExecuteTime": {
     "end_time": "2021-09-14T06:57:53.023303Z",
     "start_time": "2021-09-14T06:57:53.019753Z"
    },
    "colab": {
     "base_uri": "https://localhost:8080/"
    },
    "executionInfo": {
     "elapsed": 9,
     "status": "ok",
     "timestamp": 1631548111996,
     "user": {
      "displayName": "Christopher Monterola",
      "photoUrl": "https://lh3.googleusercontent.com/a-/AOh14GiyxV9CUZD54GBpsQkscS6VRBjebHtFASKcOq-_Lw=s64",
      "userId": "07920169693232563668"
     },
     "user_tz": -480
    },
    "id": "eQ2vDM0rAchW",
    "outputId": "164a7538-a4ef-486b-f645-dcc0dfe620f9"
   },
   "outputs": [
    {
     "data": {
      "text/plain": [
       "(1010, 18)"
      ]
     },
     "execution_count": 28,
     "metadata": {},
     "output_type": "execute_result"
    }
   ],
   "source": [
    "X_clean.shape"
   ]
  },
  {
   "cell_type": "code",
   "execution_count": 29,
   "metadata": {
    "ExecuteTime": {
     "end_time": "2021-09-14T06:57:53.032493Z",
     "start_time": "2021-09-14T06:57:53.025032Z"
    },
    "executionInfo": {
     "elapsed": 9,
     "status": "ok",
     "timestamp": 1631548111997,
     "user": {
      "displayName": "Christopher Monterola",
      "photoUrl": "https://lh3.googleusercontent.com/a-/AOh14GiyxV9CUZD54GBpsQkscS6VRBjebHtFASKcOq-_Lw=s64",
      "userId": "07920169693232563668"
     },
     "user_tz": -480
    },
    "id": "E6RcFKyeAchW"
   },
   "outputs": [],
   "source": [
    "from sklearn.preprocessing import MinMaxScaler\n",
    "sscaler = MinMaxScaler()\n",
    "X = sscaler.fit_transform(X_clean)"
   ]
  },
  {
   "cell_type": "code",
   "execution_count": 30,
   "metadata": {
    "ExecuteTime": {
     "end_time": "2021-09-14T06:57:53.045950Z",
     "start_time": "2021-09-14T06:57:53.034434Z"
    },
    "executionInfo": {
     "elapsed": 9,
     "status": "ok",
     "timestamp": 1631548111997,
     "user": {
      "displayName": "Christopher Monterola",
      "photoUrl": "https://lh3.googleusercontent.com/a-/AOh14GiyxV9CUZD54GBpsQkscS6VRBjebHtFASKcOq-_Lw=s64",
      "userId": "07920169693232563668"
     },
     "user_tz": -480
    },
    "id": "wzL2nB9sAchX"
   },
   "outputs": [],
   "source": [
    "from sklearn.model_selection import train_test_split\n",
    "X_train, X_test, y_train, y_test = train_test_split(X, y, test_size=0.25, random_state=217)"
   ]
  },
  {
   "cell_type": "code",
   "execution_count": 31,
   "metadata": {
    "ExecuteTime": {
     "end_time": "2021-09-14T06:57:53.050113Z",
     "start_time": "2021-09-14T06:57:53.047718Z"
    },
    "executionInfo": {
     "elapsed": 8,
     "status": "ok",
     "timestamp": 1631548111997,
     "user": {
      "displayName": "Christopher Monterola",
      "photoUrl": "https://lh3.googleusercontent.com/a-/AOh14GiyxV9CUZD54GBpsQkscS6VRBjebHtFASKcOq-_Lw=s64",
      "userId": "07920169693232563668"
     },
     "user_tz": -480
    },
    "id": "xY9FZiXsAchX"
   },
   "outputs": [],
   "source": [
    "y=np.array(y_train, ndmin=2).T"
   ]
  },
  {
   "cell_type": "code",
   "execution_count": 32,
   "metadata": {
    "ExecuteTime": {
     "end_time": "2021-09-14T06:57:56.880308Z",
     "start_time": "2021-09-14T06:57:53.051895Z"
    },
    "colab": {
     "base_uri": "https://localhost:8080/"
    },
    "executionInfo": {
     "elapsed": 6015,
     "status": "ok",
     "timestamp": 1631548118004,
     "user": {
      "displayName": "Christopher Monterola",
      "photoUrl": "https://lh3.googleusercontent.com/a-/AOh14GiyxV9CUZD54GBpsQkscS6VRBjebHtFASKcOq-_Lw=s64",
      "userId": "07920169693232563668"
     },
     "user_tz": -480
    },
    "id": "GV7hnFShAchX",
    "outputId": "4a6a08c9-7b21-43c4-a1a8-01d335c75f76"
   },
   "outputs": [
    {
     "name": "stdout",
     "output_type": "stream",
     "text": [
      "Iteration No.= 0 Train Set Error = 0.5033025099075297 Test Set= 0.48616600790513836\n",
      "Iteration No.= 500 Train Set Error = 0.8401585204755614 Test Set= 0.8221343873517787\n",
      "Iteration No.= 1000 Train Set Error = 0.8441215323645971 Test Set= 0.8300395256916996\n",
      "Iteration No.= 1500 Train Set Error = 0.8507265521796565 Test Set= 0.8458498023715415\n",
      "Iteration No.= 2000 Train Set Error = 0.8546895640686922 Test Set= 0.849802371541502\n",
      "Iteration No.= 2500 Train Set Error = 0.8533685601056803 Test Set= 0.8616600790513834\n",
      "Iteration No.= 3000 Train Set Error = 0.8546895640686922 Test Set= 0.8695652173913043\n",
      "Iteration No.= 3500 Train Set Error = 0.8586525759577279 Test Set= 0.8853754940711462\n",
      "Iteration No.= 4000 Train Set Error = 0.8612945838837517 Test Set= 0.8853754940711462\n",
      "Iteration No.= 4500 Train Set Error = 0.8652575957727873 Test Set= 0.8853754940711462\n",
      "Iteration No.= 5000 Train Set Error = 0.8652575957727873 Test Set= 0.8853754940711462\n",
      "Iteration No.= 5500 Train Set Error = 0.8652575957727873 Test Set= 0.8893280632411067\n",
      "Iteration No.= 6000 Train Set Error = 0.8665785997357992 Test Set= 0.8893280632411067\n",
      "Iteration No.= 6500 Train Set Error = 0.8678996036988111 Test Set= 0.8972332015810277\n",
      "Iteration No.= 7000 Train Set Error = 0.8705416116248349 Test Set= 0.8932806324110671\n",
      "Iteration No.= 7500 Train Set Error = 0.8705416116248349 Test Set= 0.8932806324110671\n",
      "Iteration No.= 8000 Train Set Error = 0.8731836195508587 Test Set= 0.8932806324110671\n",
      "Iteration No.= 8500 Train Set Error = 0.8731836195508587 Test Set= 0.8893280632411067\n",
      "Iteration No.= 9000 Train Set Error = 0.8758256274768824 Test Set= 0.8893280632411067\n",
      "Iteration No.= 9500 Train Set Error = 0.8758256274768824 Test Set= 0.8893280632411067\n"
     ]
    }
   ],
   "source": [
    "import numpy as np\n",
    "from sklearn.metrics import accuracy_score\n",
    "\n",
    "X=X_train\n",
    "y=y\n",
    "\n",
    "gamma1=.001 #Input to hidden\n",
    "gamma2=.0001 #Hidden to Output\n",
    "\n",
    "no_hidden=10  #No of hidden nodes\n",
    "no_inputs=18\n",
    "\n",
    "def nonlin(x,deriv=False):\n",
    "    sigmoid=1/(1+np.exp(-x))\n",
    "    if(deriv==True):\n",
    "        return sigmoid*(1-sigmoid)\n",
    "    return sigmoid\n",
    "\n",
    "\n",
    "\n",
    "np.random.seed(42)\n",
    "\n",
    "# randomly initialize our weights with mean 0\n",
    "w0 = 2*np.random.random((no_inputs,no_hidden)) - 1\n",
    "w1 = 2*np.random.random((no_hidden,1)) - 1\n",
    "\n",
    "#print(w0)\n",
    "\n",
    "for iter in range(10000):\n",
    "\n",
    "\t# Feed forward through layers 0, 1, and 2\n",
    "    layer0 = X\n",
    "    layer1 = nonlin(np.dot(layer0,w0))\n",
    "    layer2 = nonlin(np.dot(layer1,w1))\n",
    "\n",
    "    # Error Function\n",
    "    layer2_error = y - layer2\n",
    "    \n",
    "\n",
    "    if (iter% 500) == 0:\n",
    "        #Check here the results\n",
    "        layer0_test = X_test\n",
    "        layer1_test = nonlin(np.dot(layer0_test,w0))\n",
    "        layer2_test = nonlin(np.dot(layer1_test,w1))\n",
    "        output=np.rint(layer2_test)\n",
    "        print (\"Iteration No.=\",iter, \"Train Set Error =\",accuracy_score(np.rint(layer2), y), \"Test Set=\", accuracy_score(output, y_test))\n",
    "\n",
    "        \n",
    "        \n",
    " #Gradients\n",
    "    layer2_delta = layer2_error*nonlin(np.dot(layer1,w1),deriv=True)\n",
    "    layer1_delta = layer2_delta.dot(w1.T)*nonlin(np.dot(layer0,w0),deriv=True)\n",
    "\n",
    "    w1 += gamma2*layer1.T.dot(layer2_delta)\n",
    "    w0 += gamma1*layer0.T.dot(layer1_delta)\n",
    "\n",
    "#print (\"\\n Output After Training:\")\n",
    "#print (layer2)\n",
    "\n"
   ]
  },
  {
   "cell_type": "code",
   "execution_count": 33,
   "metadata": {
    "ExecuteTime": {
     "end_time": "2021-09-14T06:57:56.889467Z",
     "start_time": "2021-09-14T06:57:56.882365Z"
    },
    "colab": {
     "base_uri": "https://localhost:8080/"
    },
    "executionInfo": {
     "elapsed": 18,
     "status": "ok",
     "timestamp": 1631548118005,
     "user": {
      "displayName": "Christopher Monterola",
      "photoUrl": "https://lh3.googleusercontent.com/a-/AOh14GiyxV9CUZD54GBpsQkscS6VRBjebHtFASKcOq-_Lw=s64",
      "userId": "07920169693232563668"
     },
     "user_tz": -480
    },
    "id": "OyFV3jNhAchX",
    "outputId": "db9d6e9b-5c77-4fde-c807-04ddadcfafe0"
   },
   "outputs": [
    {
     "name": "stdout",
     "output_type": "stream",
     "text": [
      "[[345  44]\n",
      " [ 50 318]]\n",
      "0.8758256274768824\n"
     ]
    }
   ],
   "source": [
    "from sklearn.metrics import confusion_matrix\n",
    "\n",
    "output=np.rint(layer2)\n",
    "print(confusion_matrix(output, y_train))\n",
    "print(accuracy_score(output, y_train))"
   ]
  },
  {
   "cell_type": "code",
   "execution_count": 34,
   "metadata": {
    "ExecuteTime": {
     "end_time": "2021-09-14T06:57:56.894174Z",
     "start_time": "2021-09-14T06:57:56.891157Z"
    },
    "executionInfo": {
     "elapsed": 16,
     "status": "ok",
     "timestamp": 1631548118005,
     "user": {
      "displayName": "Christopher Monterola",
      "photoUrl": "https://lh3.googleusercontent.com/a-/AOh14GiyxV9CUZD54GBpsQkscS6VRBjebHtFASKcOq-_Lw=s64",
      "userId": "07920169693232563668"
     },
     "user_tz": -480
    },
    "id": "RZLLlikBAchX"
   },
   "outputs": [],
   "source": [
    "layer0 = X_test\n",
    "layer1 = nonlin(np.dot(layer0,w0))\n",
    "layer2 = nonlin(np.dot(layer1,w1))\n"
   ]
  },
  {
   "cell_type": "code",
   "execution_count": 35,
   "metadata": {
    "ExecuteTime": {
     "end_time": "2021-09-14T06:57:56.902340Z",
     "start_time": "2021-09-14T06:57:56.895815Z"
    },
    "colab": {
     "base_uri": "https://localhost:8080/"
    },
    "executionInfo": {
     "elapsed": 15,
     "status": "ok",
     "timestamp": 1631548118005,
     "user": {
      "displayName": "Christopher Monterola",
      "photoUrl": "https://lh3.googleusercontent.com/a-/AOh14GiyxV9CUZD54GBpsQkscS6VRBjebHtFASKcOq-_Lw=s64",
      "userId": "07920169693232563668"
     },
     "user_tz": -480
    },
    "id": "HKQBlm8JAchX",
    "outputId": "36e0fab6-07dc-4784-95f6-52a4bf4b86b6"
   },
   "outputs": [
    {
     "name": "stdout",
     "output_type": "stream",
     "text": [
      "Confusion Matrix:\n",
      "[[118  11]\n",
      " [ 17 107]]\n",
      "\n",
      " Accuracy: 0.8893280632411067\n"
     ]
    }
   ],
   "source": [
    "from sklearn.metrics import confusion_matrix\n",
    "\n",
    "\n",
    "output=np.rint(layer2)\n",
    "print(\"Confusion Matrix:\")\n",
    "print(confusion_matrix(output, y_test))\n",
    "\n",
    "print(\"\\n Accuracy:\", accuracy_score(output, y_test))"
   ]
  },
  {
   "cell_type": "markdown",
   "metadata": {
    "id": "_4g5Y5c6AchX"
   },
   "source": [
    "Note that the above result is $\\sim +3\\%$ improvement from basic machine learning methods.\n",
    "\n",
    "<img width=\"973\" alt=\"UPCAT_ML1Results\" src=\"https://user-images.githubusercontent.com/25600601/133045751-4fb3d1cd-3ff9-4877-9b01-344e66589f31.png\">\n",
    "\n"
   ]
  },
  {
   "cell_type": "markdown",
   "metadata": {
    "id": "KXv7FjLEAchX"
   },
   "source": [
    "#Example 6. (Home Exercise) Implement the above by combining the following activation functions: \n",
    "\n",
    "hidden =$\\sin(x)$, output = $\\frac{1}{1 + \\exp(-x)}$  \n",
    "\n",
    "See initial solution below as a guide.\n"
   ]
  },
  {
   "cell_type": "code",
   "execution_count": 36,
   "metadata": {
    "ExecuteTime": {
     "end_time": "2021-09-14T07:10:51.233140Z",
     "start_time": "2021-09-14T06:57:56.903992Z"
    },
    "colab": {
     "base_uri": "https://localhost:8080/"
    },
    "executionInfo": {
     "elapsed": 25666,
     "status": "ok",
     "timestamp": 1631548143658,
     "user": {
      "displayName": "Christopher Monterola",
      "photoUrl": "https://lh3.googleusercontent.com/a-/AOh14GiyxV9CUZD54GBpsQkscS6VRBjebHtFASKcOq-_Lw=s64",
      "userId": "07920169693232563668"
     },
     "user_tz": -480
    },
    "id": "V5ott-XPAchX",
    "outputId": "06ca915b-72f1-4774-c4e0-bf881536128b"
   },
   "outputs": [
    {
     "name": "stdout",
     "output_type": "stream",
     "text": [
      "Iteration No.= 0 Train Set Error = 0.618229854689564 Test Set Error = 0.5849802371541502\n",
      "Iteration No.= 500 Train Set Error = 0.892998678996037 Test Set Error = 0.8616600790513834\n",
      "Iteration No.= 1000 Train Set Error = 0.8982826948480845 Test Set Error = 0.8616600790513834\n",
      "Iteration No.= 1500 Train Set Error = 0.9075297225891678 Test Set Error = 0.8537549407114624\n",
      "Iteration No.= 2000 Train Set Error = 0.9101717305151915 Test Set Error = 0.849802371541502\n",
      "Iteration No.= 2500 Train Set Error = 0.9141347424042272 Test Set Error = 0.83399209486166\n",
      "Iteration No.= 3000 Train Set Error = 0.9062087186261559 Test Set Error = 0.8260869565217391\n",
      "Iteration No.= 3500 Train Set Error = 0.9392338177014531 Test Set Error = 0.8300395256916996\n",
      "Iteration No.= 4000 Train Set Error = 0.9484808454425363 Test Set Error = 0.8142292490118577\n",
      "Iteration No.= 4500 Train Set Error = 0.9498018494055482 Test Set Error = 0.8181818181818182\n",
      "Iteration No.= 5000 Train Set Error = 0.9498018494055482 Test Set Error = 0.8181818181818182\n",
      "Iteration No.= 5500 Train Set Error = 0.9603698811096433 Test Set Error = 0.8181818181818182\n",
      "Iteration No.= 6000 Train Set Error = 0.964332892998679 Test Set Error = 0.8181818181818182\n",
      "Iteration No.= 6500 Train Set Error = 0.9630118890356671 Test Set Error = 0.8260869565217391\n",
      "Iteration No.= 7000 Train Set Error = 0.8877146631439894 Test Set Error = 0.7905138339920948\n",
      "Iteration No.= 7500 Train Set Error = 0.8969616908850726 Test Set Error = 0.8023715415019763\n",
      "Iteration No.= 8000 Train Set Error = 0.9445178335535006 Test Set Error = 0.8023715415019763\n",
      "Iteration No.= 8500 Train Set Error = 0.9431968295904888 Test Set Error = 0.8142292490118577\n",
      "Iteration No.= 9000 Train Set Error = 0.9722589167767504 Test Set Error = 0.8023715415019763\n",
      "Iteration No.= 9500 Train Set Error = 0.9484808454425363 Test Set Error = 0.8102766798418972\n"
     ]
    }
   ],
   "source": [
    "X=X_train\n",
    "y=y\n",
    "\n",
    "gamma1=.03 \n",
    "gamma2=.01 #Hidden to output\n",
    "\n",
    "no_hidden=18  #No of hidden nodes\n",
    "no_inputs=18\n",
    "\n",
    "\n",
    "def nonlin(x,deriv=False):\n",
    "    function=np.sin(x)\n",
    "    if(deriv==True):\n",
    "        return np.cos(x)\n",
    "    return function\n",
    "\n",
    "def nonlin2(x,deriv=False):\n",
    "    sigmoid=1/(1+np.exp(-x))\n",
    "    if(deriv==True):\n",
    "        return sigmoid*(1-sigmoid)\n",
    "    return sigmoid\n",
    "\n",
    "\n",
    "\n",
    "np.random.seed(64)\n",
    "\n",
    "# randomly initialize our weights with mean 0\n",
    "w0 = 2*np.random.random((no_inputs,no_hidden)) - 1\n",
    "w1 = 2*np.random.random((no_hidden,1)) - 1\n",
    "\n",
    "#print(w0)\n",
    "\n",
    "for iter in range(10000):\n",
    "\n",
    "\t# Feed forward through layers 0, 1, and 2\n",
    "    layer0 = X\n",
    "    layer1 = nonlin(np.dot(layer0,w0))\n",
    "    layer2 = nonlin2(np.dot(layer1,w1))\n",
    "\n",
    "    # Error Function\n",
    "    layer2_error = y - layer2\n",
    "    \n",
    "    if (iter% 500) == 0:\n",
    "        #Check here the results\n",
    "        layer0_test = X_test\n",
    "        layer1_test = nonlin(np.dot(layer0_test,w0))\n",
    "        layer2_test = nonlin2(np.dot(layer1_test,w1))\n",
    "        output=np.rint(layer2_test)\n",
    "        print (\"Iteration No.=\",iter, \"Train Set Error =\",accuracy_score(np.rint(layer2), y), \"Test Set Error =\", accuracy_score(output, y_test))\n",
    "\n",
    "    \n",
    "        \n",
    " #Gradients\n",
    "    layer2_delta = layer2_error*nonlin2(np.dot(layer1,w1),deriv=True)\n",
    "    layer1_delta = layer2_delta.dot(w1.T)*nonlin(np.dot(layer0,w0),deriv=True)\n",
    "\n",
    "    w1 += gamma2*layer1.T.dot(layer2_delta)\n",
    "    w0 += gamma1*layer0.T.dot(layer1_delta)\n",
    "\n",
    "#print (\"\\n Output After Training:\")\n",
    "#print (layer2)\n",
    "\n"
   ]
  },
  {
   "cell_type": "code",
   "execution_count": 37,
   "metadata": {
    "ExecuteTime": {
     "end_time": "2021-09-14T07:10:51.343673Z",
     "start_time": "2021-09-14T07:10:51.237504Z"
    },
    "colab": {
     "base_uri": "https://localhost:8080/"
    },
    "executionInfo": {
     "elapsed": 19,
     "status": "ok",
     "timestamp": 1631548143660,
     "user": {
      "displayName": "Christopher Monterola",
      "photoUrl": "https://lh3.googleusercontent.com/a-/AOh14GiyxV9CUZD54GBpsQkscS6VRBjebHtFASKcOq-_Lw=s64",
      "userId": "07920169693232563668"
     },
     "user_tz": -480
    },
    "id": "XIZCHThPAchY",
    "outputId": "f12f9b87-88af-46d7-a3bf-3bf67df2cf72"
   },
   "outputs": [
    {
     "name": "stdout",
     "output_type": "stream",
     "text": [
      "[[384   9]\n",
      " [ 11 353]]\n",
      "0.9735799207397622\n"
     ]
    }
   ],
   "source": [
    "from sklearn.metrics import confusion_matrix\n",
    "from sklearn.metrics import accuracy_score\n",
    "output=np.rint(layer2)\n",
    "print(confusion_matrix(output, y_train))\n",
    "print(accuracy_score(output, y_train))"
   ]
  },
  {
   "cell_type": "code",
   "execution_count": 38,
   "metadata": {
    "ExecuteTime": {
     "end_time": "2021-09-14T07:10:51.350083Z",
     "start_time": "2021-09-14T07:10:51.346170Z"
    },
    "executionInfo": {
     "elapsed": 17,
     "status": "ok",
     "timestamp": 1631548143660,
     "user": {
      "displayName": "Christopher Monterola",
      "photoUrl": "https://lh3.googleusercontent.com/a-/AOh14GiyxV9CUZD54GBpsQkscS6VRBjebHtFASKcOq-_Lw=s64",
      "userId": "07920169693232563668"
     },
     "user_tz": -480
    },
    "id": "iWiwTR7GAchY"
   },
   "outputs": [],
   "source": [
    "layer0 = X_test\n",
    "layer1 = nonlin(np.dot(layer0,w0))\n",
    "layer2 = nonlin2(np.dot(layer1,w1))"
   ]
  },
  {
   "cell_type": "code",
   "execution_count": 39,
   "metadata": {
    "ExecuteTime": {
     "end_time": "2021-09-14T07:10:51.359467Z",
     "start_time": "2021-09-14T07:10:51.352195Z"
    },
    "colab": {
     "base_uri": "https://localhost:8080/"
    },
    "executionInfo": {
     "elapsed": 18,
     "status": "ok",
     "timestamp": 1631548143661,
     "user": {
      "displayName": "Christopher Monterola",
      "photoUrl": "https://lh3.googleusercontent.com/a-/AOh14GiyxV9CUZD54GBpsQkscS6VRBjebHtFASKcOq-_Lw=s64",
      "userId": "07920169693232563668"
     },
     "user_tz": -480
    },
    "id": "1dnty4zlAchY",
    "outputId": "2921b9c1-f3a2-4302-dd03-8cde1d52381a"
   },
   "outputs": [
    {
     "name": "stdout",
     "output_type": "stream",
     "text": [
      "[[110  26]\n",
      " [ 25  92]]\n",
      "Accuracy Test: 0.7984189723320159\n"
     ]
    }
   ],
   "source": [
    "from sklearn.metrics import confusion_matrix\n",
    "\n",
    "output=np.rint(layer2)\n",
    "print(confusion_matrix(output, y_test))\n",
    "print(\"Accuracy Test:\", accuracy_score(output, y_test))"
   ]
  },
  {
   "cell_type": "markdown",
   "metadata": {
    "id": "zELnJP8VLoLv"
   },
   "source": [
    "# 4. Final Notes\n",
    "\n",
    "Here are some of the main takeaways of our Backpropagation lecture:\n",
    "\n",
    "1. Gradient-descent method is the most common method of supervised learning algorithms, from the basic regression methods to tree-based models like random forest and gradient boosting methods to neural network-based algorithms like perceptron networks and deep neural networks (Convolutional NN, LSTM, etc.).\n",
    "\n",
    "2. Critical parameters demonstrated here include adding a bias node, choosing activation functions, and choosing architecture (number of layers/number of nodes). \n",
    "\n",
    "3. The mathematics of training a neural network has not evolved for generations. However, the algorithms have evolved exponentially. With better data (better resolution, better representation, more voluminous) and more powerful computers, NN-based AI is arguably one of the most disruptive technologies in Industry 4.0.  "
   ]
  },
  {
   "cell_type": "markdown",
   "metadata": {
    "id": "FnC70WMVKuVC"
   },
   "source": [
    "# End"
   ]
  }
 ],
 "metadata": {
  "colab": {
   "name": "Lecture 2 Backpropagation Method Monterola.ipynb",
   "provenance": []
  },
  "kernelspec": {
   "display_name": "Python 3",
   "language": "python",
   "name": "python3"
  },
  "language_info": {
   "codemirror_mode": {
    "name": "ipython",
    "version": 3
   },
   "file_extension": ".py",
   "mimetype": "text/x-python",
   "name": "python",
   "nbconvert_exporter": "python",
   "pygments_lexer": "ipython3",
   "version": "3.8.8"
  }
 },
 "nbformat": 4,
 "nbformat_minor": 1
}
