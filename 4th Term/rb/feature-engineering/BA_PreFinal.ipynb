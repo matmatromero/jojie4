{
 "cells": [
  {
   "cell_type": "markdown",
   "id": "nonprofit-source",
   "metadata": {},
   "source": [
    "# Predictive Modelling for BA Data\n",
    "Prepared by CPT6  \n",
    "Master of Science in Data Science 2021 \n",
    "Asian Institute of Management\n",
    "\n",
    "---\n",
    "\n",
    "*All rights reserved. No part of this document may be reproduced or transmitted in any form or by any means, or stored in any retrieval system of any nature without prior written permission.*\n",
    "\n",
    "© 2021"
   ]
  },
  {
   "cell_type": "markdown",
   "id": "educated-renaissance",
   "metadata": {},
   "source": [
    "<div><span style=\"background-color: #E72388; padding-top: 100px; padding-right: 20px; padding-bottom: 50px; padding-left: 20px; color: #ffffff; font-size: 20px; font-weight: bold\"> DATA PREPARATION </span></div>"
   ]
  },
  {
   "cell_type": "code",
   "execution_count": 4,
   "id": "simplified-shopping",
   "metadata": {
    "ExecuteTime": {
     "end_time": "2021-05-14T15:11:23.470856Z",
     "start_time": "2021-05-14T15:11:22.303885Z"
    }
   },
   "outputs": [],
   "source": [
    "import pandas as pd\n",
    "import numpy as np\n",
    "import matplotlib.pyplot as plt\n",
    "import seaborn as sns\n",
    "from sklearn.model_selection import GridSearchCV\n",
    "from sklearn.model_selection import cross_val_score"
   ]
  },
  {
   "cell_type": "code",
   "execution_count": 5,
   "id": "recovered-guess",
   "metadata": {
    "ExecuteTime": {
     "end_time": "2021-05-14T15:11:23.477868Z",
     "start_time": "2021-05-14T15:11:23.473428Z"
    }
   },
   "outputs": [],
   "source": [
    "from sklearn.neighbors import KNeighborsClassifier\n",
    "from sklearn.preprocessing import StandardScaler\n",
    "from sklearn.preprocessing import MinMaxScaler\n",
    "from sklearn.linear_model import LogisticRegression\n",
    "from sklearn.svm import LinearSVC\n",
    "from sklearn.linear_model import LinearRegression\n",
    "from sklearn.linear_model import Ridge\n",
    "from sklearn.linear_model import Lasso\n",
    "from sklearn.neighbors import KNeighborsRegressor\n",
    "from sklearn.tree import DecisionTreeRegressor\n",
    "from sklearn.ensemble import RandomForestRegressor\n",
    "from sklearn.ensemble import GradientBoostingRegressor\n",
    "from sklearn.ensemble import GradientBoostingClassifier\n",
    "from sklearn.ensemble import RandomForestClassifier\n",
    "from sklearn.model_selection import train_test_split"
   ]
  },
  {
   "cell_type": "code",
   "execution_count": 6,
   "id": "swiss-concord",
   "metadata": {
    "ExecuteTime": {
     "end_time": "2021-05-14T15:11:23.891127Z",
     "start_time": "2021-05-14T15:11:23.517716Z"
    }
   },
   "outputs": [],
   "source": [
    "df_concurrence = pd.read_csv('df_concurrence.csv') \n",
    "df = pd.read_csv('sales_data.csv')\n",
    "df_concurrence['date'] = pd.to_datetime(df_concurrence['date'])\n",
    "df['date'] = pd.to_datetime(df['date'])\n",
    "df_concurrence = df_concurrence.drop('Unnamed: 0', axis=1)"
   ]
  },
  {
   "cell_type": "code",
   "execution_count": 7,
   "id": "christian-nurse",
   "metadata": {
    "ExecuteTime": {
     "end_time": "2021-05-14T15:11:33.032065Z",
     "start_time": "2021-05-14T15:11:33.019342Z"
    }
   },
   "outputs": [
    {
     "data": {
      "text/plain": [
       "(93007, 21)"
      ]
     },
     "execution_count": 7,
     "metadata": {},
     "output_type": "execute_result"
    }
   ],
   "source": [
    "df.shape"
   ]
  },
  {
   "cell_type": "code",
   "execution_count": 604,
   "id": "knowing-paint",
   "metadata": {
    "ExecuteTime": {
     "end_time": "2021-05-05T15:54:14.736963Z",
     "start_time": "2021-05-05T15:54:14.723313Z"
    }
   },
   "outputs": [],
   "source": [
    "def agegroup(milk):\n",
    "    if '0-6' in milk:\n",
    "        age = '0-6'\n",
    "    elif '6-12' in milk:\n",
    "        age = '6-12'\n",
    "    elif '0-12' in milk:\n",
    "        age = '0-12'\n",
    "    elif '1-3' in milk:\n",
    "        age = '1-3'\n",
    "    elif '3+' in milk:\n",
    "        age = '3+'\n",
    "    elif '6+' in milk:\n",
    "        age = '6+'\n",
    "    else:\n",
    "        age = 'enfamama'\n",
    "    return age\n",
    "\n",
    "def flavor(item):\n",
    "    if 'chocolate' in item:\n",
    "        flav = 'chocolate'\n",
    "    elif 'choco' in item:\n",
    "        flav = 'chocolate'\n",
    "    elif 'vanilla' in item:\n",
    "        flav = 'vanilla'\n",
    "    elif 'milk' in item:\n",
    "        flav = 'milk'\n",
    "    elif 'formula' in item:\n",
    "        flav = 'formula'\n",
    "    elif 'plain' in item:\n",
    "        flav = 'plain'\n",
    "    elif 'a+ four' in item:\n",
    "        flav = 'plain'\n",
    "    elif 'premium adult nutritional beverage' in item:\n",
    "        flav = 'milk'\n",
    "    elif 'premium adult nutrional beverage' in item:\n",
    "        flav = 'milk'\n",
    "    elif 'premium adult nutrional beverage' in item:\n",
    "        flav = 'milk'\n",
    "    elif 'premium adult nutrition beverage' in item:\n",
    "        flav = 'milk'\n",
    "    elif 'gentlease' in item:\n",
    "        flav = 'milk'\n",
    "    elif 'a+ three' in item:\n",
    "        flav = 'milk'\n",
    "    else:\n",
    "        flav = 'unknown'\n",
    "    return flav\n",
    "\n",
    "\n",
    "def bundle(bund):\n",
    "    if '[' in bund:\n",
    "        bund1 =  1\n",
    "    elif 'buy' in bund:\n",
    "        if 'buy 1 ' in bund:\n",
    "            bund1 = 0\n",
    "        else:\n",
    "            bund1 = 1\n",
    "    elif 'x 3' in bund:\n",
    "        bund1 = 1\n",
    "    else:\n",
    "        bund1 = 0\n",
    "    return bund1"
   ]
  },
  {
   "cell_type": "code",
   "execution_count": 691,
   "id": "crude-train",
   "metadata": {
    "ExecuteTime": {
     "end_time": "2021-05-05T16:08:28.154305Z",
     "start_time": "2021-05-05T16:08:28.132716Z"
    }
   },
   "outputs": [],
   "source": [
    "df_copy = df.copy()"
   ]
  },
  {
   "cell_type": "markdown",
   "id": "convertible-apple",
   "metadata": {},
   "source": [
    "<div><span style=\"background-color: #E72388; padding-top: 100px; padding-right: 20px; padding-bottom: 50px; padding-left: 20px; color: #ffffff; font-size: 20px; font-weight: bold\"> FEATURE ENGINEERING </span></div>"
   ]
  },
  {
   "cell_type": "code",
   "execution_count": 692,
   "id": "greater-minnesota",
   "metadata": {
    "ExecuteTime": {
     "end_time": "2021-05-05T16:08:28.706273Z",
     "start_time": "2021-05-05T16:08:28.502030Z"
    }
   },
   "outputs": [],
   "source": [
    "df_copy['age_group']=df_copy['product_name'].apply(lambda x: agegroup(x))\n",
    "df_copy['product_name'] = df_copy['product_name'].apply(lambda x: x.lower())\n",
    "df_copy['flavor'] = df_copy['product_name'].apply(lambda x: flavor(x))\n",
    "df_copy['bundle'] = df_copy['product_name'].apply(lambda x: bundle(x))"
   ]
  },
  {
   "cell_type": "code",
   "execution_count": 693,
   "id": "retired-deviation",
   "metadata": {
    "ExecuteTime": {
     "end_time": "2021-05-05T16:08:28.746755Z",
     "start_time": "2021-05-05T16:08:28.708485Z"
    }
   },
   "outputs": [],
   "source": [
    "prods = df_copy.loc[df_copy['shop_name'] == 'LazMart Philippines'].product_name.values.tolist()"
   ]
  },
  {
   "cell_type": "code",
   "execution_count": 694,
   "id": "boolean-insert",
   "metadata": {
    "ExecuteTime": {
     "end_time": "2021-05-05T16:08:28.912423Z",
     "start_time": "2021-05-05T16:08:28.891164Z"
    }
   },
   "outputs": [],
   "source": [
    "prods = [(i.split()[0]) for i in prods]"
   ]
  },
  {
   "cell_type": "code",
   "execution_count": 695,
   "id": "indirect-aspect",
   "metadata": {
    "ExecuteTime": {
     "end_time": "2021-05-05T16:08:29.108666Z",
     "start_time": "2021-05-05T16:08:29.075691Z"
    }
   },
   "outputs": [],
   "source": [
    "df_copy.loc[df_copy['shop_name'] == 'LazMart Philippines', 'shop_name'] = prods"
   ]
  },
  {
   "cell_type": "code",
   "execution_count": 696,
   "id": "molecular-strand",
   "metadata": {
    "ExecuteTime": {
     "end_time": "2021-05-05T16:08:29.306918Z",
     "start_time": "2021-05-05T16:08:29.258558Z"
    }
   },
   "outputs": [],
   "source": [
    "df_copy['shop_name'] = df_copy.shop_name.apply(lambda x: x.lower())"
   ]
  },
  {
   "cell_type": "code",
   "execution_count": 697,
   "id": "detected-loading",
   "metadata": {
    "ExecuteTime": {
     "end_time": "2021-05-05T16:08:29.473103Z",
     "start_time": "2021-05-05T16:08:29.451764Z"
    }
   },
   "outputs": [],
   "source": [
    "df_copy = df_copy.drop(['cat1', 'cat2', 'cat3', 'cat4', \n",
    "              'cat5', 'cat6', 'buyer', 'order',\n",
    "              'country', 'url' ], axis=1)"
   ]
  },
  {
   "cell_type": "code",
   "execution_count": 698,
   "id": "figured-blues",
   "metadata": {
    "ExecuteTime": {
     "end_time": "2021-05-05T16:08:29.667861Z",
     "start_time": "2021-05-05T16:08:29.654907Z"
    }
   },
   "outputs": [],
   "source": [
    "df1 = df_copy.copy()"
   ]
  },
  {
   "cell_type": "code",
   "execution_count": 699,
   "id": "faced-proposition",
   "metadata": {
    "ExecuteTime": {
     "end_time": "2021-05-05T16:08:29.939122Z",
     "start_time": "2021-05-05T16:08:29.867454Z"
    }
   },
   "outputs": [],
   "source": [
    "#0 shoppee 1 lazada\n",
    "df1['channel'] = df1['channel'].apply(lambda x: 1 if x == 'Lazada' else 0)"
   ]
  },
  {
   "cell_type": "code",
   "execution_count": 700,
   "id": "everyday-climb",
   "metadata": {
    "ExecuteTime": {
     "end_time": "2021-05-05T16:08:30.183038Z",
     "start_time": "2021-05-05T16:08:30.083329Z"
    }
   },
   "outputs": [],
   "source": [
    "months = df1.date.dt.month\n",
    "days = df1.date.dt.day\n",
    "day_name = df1.date.dt.day_name()\n",
    "is_weekend = day_name.apply(lambda x: 1 if x in ['Saturday', 'Sunday'] else 0)"
   ]
  },
  {
   "cell_type": "code",
   "execution_count": 701,
   "id": "solar-bangkok",
   "metadata": {
    "ExecuteTime": {
     "end_time": "2021-05-05T16:08:30.739013Z",
     "start_time": "2021-05-05T16:08:30.592099Z"
    }
   },
   "outputs": [],
   "source": [
    "shop_conditions = [\n",
    "    df1['shop_name'].str.contains('lactum'),\n",
    "    df1['shop_name'].str.contains('enfa'),\n",
    "    df1['shop_name'].str.contains('sustagen')\n",
    "]\n",
    "\n",
    "shops = [0, 1, 2]\n",
    "\n",
    "shop_bins = np.select(shop_conditions, shops, default='other')\n"
   ]
  },
  {
   "cell_type": "code",
   "execution_count": 702,
   "id": "agreed-classroom",
   "metadata": {
    "ExecuteTime": {
     "end_time": "2021-05-05T16:08:31.401081Z",
     "start_time": "2021-05-05T16:08:31.382084Z"
    }
   },
   "outputs": [],
   "source": [
    "df1 = df1.drop(['sku', 'product_name', 'brand'], axis=1)"
   ]
  },
  {
   "cell_type": "code",
   "execution_count": 703,
   "id": "turned-publisher",
   "metadata": {
    "ExecuteTime": {
     "end_time": "2021-05-05T16:08:31.864948Z",
     "start_time": "2021-05-05T16:08:31.833245Z"
    }
   },
   "outputs": [
    {
     "data": {
      "text/html": [
       "<div>\n",
       "<style scoped>\n",
       "    .dataframe tbody tr th:only-of-type {\n",
       "        vertical-align: middle;\n",
       "    }\n",
       "\n",
       "    .dataframe tbody tr th {\n",
       "        vertical-align: top;\n",
       "    }\n",
       "\n",
       "    .dataframe thead th {\n",
       "        text-align: right;\n",
       "    }\n",
       "</style>\n",
       "<table border=\"1\" class=\"dataframe\">\n",
       "  <thead>\n",
       "    <tr style=\"text-align: right;\">\n",
       "      <th></th>\n",
       "      <th>date</th>\n",
       "      <th>channel</th>\n",
       "      <th>shop_name</th>\n",
       "      <th>sap</th>\n",
       "      <th>sales</th>\n",
       "      <th>units_sold</th>\n",
       "      <th>product_views</th>\n",
       "      <th>click_rate</th>\n",
       "      <th>age_group</th>\n",
       "      <th>flavor</th>\n",
       "      <th>bundle</th>\n",
       "    </tr>\n",
       "  </thead>\n",
       "  <tbody>\n",
       "    <tr>\n",
       "      <th>0</th>\n",
       "      <td>2019-01-01</td>\n",
       "      <td>1</td>\n",
       "      <td>lazada retail lactum</td>\n",
       "      <td>2048174.0</td>\n",
       "      <td>0.0</td>\n",
       "      <td>0</td>\n",
       "      <td>25</td>\n",
       "      <td>0.00</td>\n",
       "      <td>3+</td>\n",
       "      <td>milk</td>\n",
       "      <td>0</td>\n",
       "    </tr>\n",
       "    <tr>\n",
       "      <th>1</th>\n",
       "      <td>2019-01-01</td>\n",
       "      <td>1</td>\n",
       "      <td>lazada retail lactum</td>\n",
       "      <td>0.0</td>\n",
       "      <td>0.0</td>\n",
       "      <td>10</td>\n",
       "      <td>116</td>\n",
       "      <td>8.62</td>\n",
       "      <td>3+</td>\n",
       "      <td>milk</td>\n",
       "      <td>0</td>\n",
       "    </tr>\n",
       "    <tr>\n",
       "      <th>2</th>\n",
       "      <td>2019-01-01</td>\n",
       "      <td>1</td>\n",
       "      <td>lazada retail lactum</td>\n",
       "      <td>0.0</td>\n",
       "      <td>0.0</td>\n",
       "      <td>1</td>\n",
       "      <td>27</td>\n",
       "      <td>3.70</td>\n",
       "      <td>3+</td>\n",
       "      <td>milk</td>\n",
       "      <td>0</td>\n",
       "    </tr>\n",
       "    <tr>\n",
       "      <th>3</th>\n",
       "      <td>2019-01-01</td>\n",
       "      <td>1</td>\n",
       "      <td>lazada retail lactum</td>\n",
       "      <td>2020877.0</td>\n",
       "      <td>0.0</td>\n",
       "      <td>0</td>\n",
       "      <td>62</td>\n",
       "      <td>0.00</td>\n",
       "      <td>3+</td>\n",
       "      <td>milk</td>\n",
       "      <td>0</td>\n",
       "    </tr>\n",
       "    <tr>\n",
       "      <th>4</th>\n",
       "      <td>2019-01-01</td>\n",
       "      <td>1</td>\n",
       "      <td>lazada retail lactum</td>\n",
       "      <td>0.0</td>\n",
       "      <td>0.0</td>\n",
       "      <td>17</td>\n",
       "      <td>298</td>\n",
       "      <td>5.70</td>\n",
       "      <td>3+</td>\n",
       "      <td>milk</td>\n",
       "      <td>0</td>\n",
       "    </tr>\n",
       "  </tbody>\n",
       "</table>\n",
       "</div>"
      ],
      "text/plain": [
       "        date  channel             shop_name        sap  sales  units_sold  \\\n",
       "0 2019-01-01        1  lazada retail lactum  2048174.0    0.0           0   \n",
       "1 2019-01-01        1  lazada retail lactum        0.0    0.0          10   \n",
       "2 2019-01-01        1  lazada retail lactum        0.0    0.0           1   \n",
       "3 2019-01-01        1  lazada retail lactum  2020877.0    0.0           0   \n",
       "4 2019-01-01        1  lazada retail lactum        0.0    0.0          17   \n",
       "\n",
       "   product_views  click_rate age_group flavor  bundle  \n",
       "0             25        0.00        3+   milk       0  \n",
       "1            116        8.62        3+   milk       0  \n",
       "2             27        3.70        3+   milk       0  \n",
       "3             62        0.00        3+   milk       0  \n",
       "4            298        5.70        3+   milk       0  "
      ]
     },
     "execution_count": 703,
     "metadata": {},
     "output_type": "execute_result"
    }
   ],
   "source": [
    "df1.head()"
   ]
  },
  {
   "cell_type": "code",
   "execution_count": 704,
   "id": "executive-specification",
   "metadata": {
    "ExecuteTime": {
     "end_time": "2021-05-05T16:08:32.719343Z",
     "start_time": "2021-05-05T16:08:32.629433Z"
    }
   },
   "outputs": [],
   "source": [
    "\n",
    "df1 = pd.get_dummies(data=df1, columns=['age_group', 'flavor'])\n",
    "df1 = df1.drop('sap', axis=1)\n",
    "df1['shop_name'] = shop_bins\n",
    "df1 = df1.groupby(['date', \n",
    "             'shop_name',\n",
    "             'channel'])[df1.columns[3:]].sum().reset_index()"
   ]
  },
  {
   "cell_type": "code",
   "execution_count": 750,
   "id": "critical-factory",
   "metadata": {
    "ExecuteTime": {
     "end_time": "2021-05-05T16:17:20.905579Z",
     "start_time": "2021-05-05T16:17:20.862224Z"
    }
   },
   "outputs": [
    {
     "data": {
      "text/html": [
       "<div>\n",
       "<style scoped>\n",
       "    .dataframe tbody tr th:only-of-type {\n",
       "        vertical-align: middle;\n",
       "    }\n",
       "\n",
       "    .dataframe tbody tr th {\n",
       "        vertical-align: top;\n",
       "    }\n",
       "\n",
       "    .dataframe thead th {\n",
       "        text-align: right;\n",
       "    }\n",
       "</style>\n",
       "<table border=\"1\" class=\"dataframe\">\n",
       "  <thead>\n",
       "    <tr style=\"text-align: right;\">\n",
       "      <th></th>\n",
       "      <th>date</th>\n",
       "      <th>shop_name</th>\n",
       "      <th>channel</th>\n",
       "      <th>sales</th>\n",
       "      <th>units_sold</th>\n",
       "      <th>product_views</th>\n",
       "      <th>click_rate</th>\n",
       "      <th>bundle</th>\n",
       "      <th>age_group_0-12</th>\n",
       "      <th>age_group_0-6</th>\n",
       "      <th>...</th>\n",
       "      <th>flavor_chocolate</th>\n",
       "      <th>flavor_formula</th>\n",
       "      <th>flavor_milk</th>\n",
       "      <th>flavor_plain</th>\n",
       "      <th>flavor_unknown</th>\n",
       "      <th>flavor_vanilla</th>\n",
       "      <th>payday</th>\n",
       "      <th>promo_day</th>\n",
       "      <th>laz_concur</th>\n",
       "      <th>sp_concur</th>\n",
       "    </tr>\n",
       "  </thead>\n",
       "  <tbody>\n",
       "    <tr>\n",
       "      <th>0</th>\n",
       "      <td>2019-01-01</td>\n",
       "      <td>0</td>\n",
       "      <td>0</td>\n",
       "      <td>86.0</td>\n",
       "      <td>6</td>\n",
       "      <td>0</td>\n",
       "      <td>0.00</td>\n",
       "      <td>0</td>\n",
       "      <td>0</td>\n",
       "      <td>0</td>\n",
       "      <td>...</td>\n",
       "      <td>0</td>\n",
       "      <td>0</td>\n",
       "      <td>4</td>\n",
       "      <td>0</td>\n",
       "      <td>0</td>\n",
       "      <td>0</td>\n",
       "      <td>0</td>\n",
       "      <td>0</td>\n",
       "      <td>32</td>\n",
       "      <td>0.0</td>\n",
       "    </tr>\n",
       "    <tr>\n",
       "      <th>1</th>\n",
       "      <td>2019-01-01</td>\n",
       "      <td>0</td>\n",
       "      <td>1</td>\n",
       "      <td>30.0</td>\n",
       "      <td>36</td>\n",
       "      <td>985</td>\n",
       "      <td>96.30</td>\n",
       "      <td>0</td>\n",
       "      <td>0</td>\n",
       "      <td>2</td>\n",
       "      <td>...</td>\n",
       "      <td>5</td>\n",
       "      <td>2</td>\n",
       "      <td>24</td>\n",
       "      <td>0</td>\n",
       "      <td>0</td>\n",
       "      <td>0</td>\n",
       "      <td>0</td>\n",
       "      <td>0</td>\n",
       "      <td>32</td>\n",
       "      <td>0.0</td>\n",
       "    </tr>\n",
       "    <tr>\n",
       "      <th>2</th>\n",
       "      <td>2019-01-01</td>\n",
       "      <td>1</td>\n",
       "      <td>1</td>\n",
       "      <td>155.0</td>\n",
       "      <td>11</td>\n",
       "      <td>564</td>\n",
       "      <td>46.07</td>\n",
       "      <td>0</td>\n",
       "      <td>1</td>\n",
       "      <td>4</td>\n",
       "      <td>...</td>\n",
       "      <td>1</td>\n",
       "      <td>5</td>\n",
       "      <td>24</td>\n",
       "      <td>0</td>\n",
       "      <td>0</td>\n",
       "      <td>1</td>\n",
       "      <td>0</td>\n",
       "      <td>0</td>\n",
       "      <td>32</td>\n",
       "      <td>0.0</td>\n",
       "    </tr>\n",
       "    <tr>\n",
       "      <th>3</th>\n",
       "      <td>2019-01-01</td>\n",
       "      <td>2</td>\n",
       "      <td>1</td>\n",
       "      <td>0.0</td>\n",
       "      <td>0</td>\n",
       "      <td>50</td>\n",
       "      <td>0.00</td>\n",
       "      <td>0</td>\n",
       "      <td>0</td>\n",
       "      <td>0</td>\n",
       "      <td>...</td>\n",
       "      <td>3</td>\n",
       "      <td>0</td>\n",
       "      <td>3</td>\n",
       "      <td>0</td>\n",
       "      <td>0</td>\n",
       "      <td>0</td>\n",
       "      <td>0</td>\n",
       "      <td>0</td>\n",
       "      <td>32</td>\n",
       "      <td>0.0</td>\n",
       "    </tr>\n",
       "    <tr>\n",
       "      <th>4</th>\n",
       "      <td>2019-01-02</td>\n",
       "      <td>0</td>\n",
       "      <td>0</td>\n",
       "      <td>143.0</td>\n",
       "      <td>10</td>\n",
       "      <td>0</td>\n",
       "      <td>0.00</td>\n",
       "      <td>1</td>\n",
       "      <td>0</td>\n",
       "      <td>0</td>\n",
       "      <td>...</td>\n",
       "      <td>0</td>\n",
       "      <td>0</td>\n",
       "      <td>5</td>\n",
       "      <td>0</td>\n",
       "      <td>0</td>\n",
       "      <td>0</td>\n",
       "      <td>0</td>\n",
       "      <td>0</td>\n",
       "      <td>37</td>\n",
       "      <td>0.0</td>\n",
       "    </tr>\n",
       "    <tr>\n",
       "      <th>...</th>\n",
       "      <td>...</td>\n",
       "      <td>...</td>\n",
       "      <td>...</td>\n",
       "      <td>...</td>\n",
       "      <td>...</td>\n",
       "      <td>...</td>\n",
       "      <td>...</td>\n",
       "      <td>...</td>\n",
       "      <td>...</td>\n",
       "      <td>...</td>\n",
       "      <td>...</td>\n",
       "      <td>...</td>\n",
       "      <td>...</td>\n",
       "      <td>...</td>\n",
       "      <td>...</td>\n",
       "      <td>...</td>\n",
       "      <td>...</td>\n",
       "      <td>...</td>\n",
       "      <td>...</td>\n",
       "      <td>...</td>\n",
       "      <td>...</td>\n",
       "    </tr>\n",
       "    <tr>\n",
       "      <th>4081</th>\n",
       "      <td>2020-12-31</td>\n",
       "      <td>0</td>\n",
       "      <td>1</td>\n",
       "      <td>0.0</td>\n",
       "      <td>0</td>\n",
       "      <td>0</td>\n",
       "      <td>201.01</td>\n",
       "      <td>2</td>\n",
       "      <td>0</td>\n",
       "      <td>7</td>\n",
       "      <td>...</td>\n",
       "      <td>5</td>\n",
       "      <td>0</td>\n",
       "      <td>8</td>\n",
       "      <td>1</td>\n",
       "      <td>46</td>\n",
       "      <td>0</td>\n",
       "      <td>1</td>\n",
       "      <td>0</td>\n",
       "      <td>87</td>\n",
       "      <td>26.0</td>\n",
       "    </tr>\n",
       "    <tr>\n",
       "      <th>4082</th>\n",
       "      <td>2020-12-31</td>\n",
       "      <td>1</td>\n",
       "      <td>0</td>\n",
       "      <td>5078.0</td>\n",
       "      <td>0</td>\n",
       "      <td>1149</td>\n",
       "      <td>171.81</td>\n",
       "      <td>8</td>\n",
       "      <td>2</td>\n",
       "      <td>1</td>\n",
       "      <td>...</td>\n",
       "      <td>2</td>\n",
       "      <td>3</td>\n",
       "      <td>9</td>\n",
       "      <td>2</td>\n",
       "      <td>0</td>\n",
       "      <td>1</td>\n",
       "      <td>1</td>\n",
       "      <td>0</td>\n",
       "      <td>87</td>\n",
       "      <td>26.0</td>\n",
       "    </tr>\n",
       "    <tr>\n",
       "      <th>4083</th>\n",
       "      <td>2020-12-31</td>\n",
       "      <td>1</td>\n",
       "      <td>1</td>\n",
       "      <td>0.0</td>\n",
       "      <td>0</td>\n",
       "      <td>0</td>\n",
       "      <td>123.73</td>\n",
       "      <td>1</td>\n",
       "      <td>3</td>\n",
       "      <td>5</td>\n",
       "      <td>...</td>\n",
       "      <td>1</td>\n",
       "      <td>0</td>\n",
       "      <td>20</td>\n",
       "      <td>11</td>\n",
       "      <td>26</td>\n",
       "      <td>1</td>\n",
       "      <td>1</td>\n",
       "      <td>0</td>\n",
       "      <td>87</td>\n",
       "      <td>26.0</td>\n",
       "    </tr>\n",
       "    <tr>\n",
       "      <th>4084</th>\n",
       "      <td>2020-12-31</td>\n",
       "      <td>2</td>\n",
       "      <td>0</td>\n",
       "      <td>1350.0</td>\n",
       "      <td>0</td>\n",
       "      <td>394</td>\n",
       "      <td>233.42</td>\n",
       "      <td>8</td>\n",
       "      <td>0</td>\n",
       "      <td>0</td>\n",
       "      <td>...</td>\n",
       "      <td>6</td>\n",
       "      <td>0</td>\n",
       "      <td>3</td>\n",
       "      <td>0</td>\n",
       "      <td>0</td>\n",
       "      <td>0</td>\n",
       "      <td>1</td>\n",
       "      <td>0</td>\n",
       "      <td>87</td>\n",
       "      <td>26.0</td>\n",
       "    </tr>\n",
       "    <tr>\n",
       "      <th>4085</th>\n",
       "      <td>2020-12-31</td>\n",
       "      <td>2</td>\n",
       "      <td>1</td>\n",
       "      <td>0.0</td>\n",
       "      <td>0</td>\n",
       "      <td>0</td>\n",
       "      <td>14.34</td>\n",
       "      <td>0</td>\n",
       "      <td>0</td>\n",
       "      <td>0</td>\n",
       "      <td>...</td>\n",
       "      <td>5</td>\n",
       "      <td>0</td>\n",
       "      <td>3</td>\n",
       "      <td>0</td>\n",
       "      <td>0</td>\n",
       "      <td>0</td>\n",
       "      <td>1</td>\n",
       "      <td>0</td>\n",
       "      <td>87</td>\n",
       "      <td>26.0</td>\n",
       "    </tr>\n",
       "  </tbody>\n",
       "</table>\n",
       "<p>4086 rows × 25 columns</p>\n",
       "</div>"
      ],
      "text/plain": [
       "           date shop_name  channel   sales  units_sold  product_views  \\\n",
       "0    2019-01-01         0        0    86.0           6              0   \n",
       "1    2019-01-01         0        1    30.0          36            985   \n",
       "2    2019-01-01         1        1   155.0          11            564   \n",
       "3    2019-01-01         2        1     0.0           0             50   \n",
       "4    2019-01-02         0        0   143.0          10              0   \n",
       "...         ...       ...      ...     ...         ...            ...   \n",
       "4081 2020-12-31         0        1     0.0           0              0   \n",
       "4082 2020-12-31         1        0  5078.0           0           1149   \n",
       "4083 2020-12-31         1        1     0.0           0              0   \n",
       "4084 2020-12-31         2        0  1350.0           0            394   \n",
       "4085 2020-12-31         2        1     0.0           0              0   \n",
       "\n",
       "      click_rate  bundle  age_group_0-12  age_group_0-6  ...  \\\n",
       "0           0.00       0               0              0  ...   \n",
       "1          96.30       0               0              2  ...   \n",
       "2          46.07       0               1              4  ...   \n",
       "3           0.00       0               0              0  ...   \n",
       "4           0.00       1               0              0  ...   \n",
       "...          ...     ...             ...            ...  ...   \n",
       "4081      201.01       2               0              7  ...   \n",
       "4082      171.81       8               2              1  ...   \n",
       "4083      123.73       1               3              5  ...   \n",
       "4084      233.42       8               0              0  ...   \n",
       "4085       14.34       0               0              0  ...   \n",
       "\n",
       "      flavor_chocolate  flavor_formula  flavor_milk  flavor_plain  \\\n",
       "0                    0               0            4             0   \n",
       "1                    5               2           24             0   \n",
       "2                    1               5           24             0   \n",
       "3                    3               0            3             0   \n",
       "4                    0               0            5             0   \n",
       "...                ...             ...          ...           ...   \n",
       "4081                 5               0            8             1   \n",
       "4082                 2               3            9             2   \n",
       "4083                 1               0           20            11   \n",
       "4084                 6               0            3             0   \n",
       "4085                 5               0            3             0   \n",
       "\n",
       "      flavor_unknown  flavor_vanilla  payday  promo_day  laz_concur  sp_concur  \n",
       "0                  0               0       0          0          32        0.0  \n",
       "1                  0               0       0          0          32        0.0  \n",
       "2                  0               1       0          0          32        0.0  \n",
       "3                  0               0       0          0          32        0.0  \n",
       "4                  0               0       0          0          37        0.0  \n",
       "...              ...             ...     ...        ...         ...        ...  \n",
       "4081              46               0       1          0          87       26.0  \n",
       "4082               0               1       1          0          87       26.0  \n",
       "4083              26               1       1          0          87       26.0  \n",
       "4084               0               0       1          0          87       26.0  \n",
       "4085               0               0       1          0          87       26.0  \n",
       "\n",
       "[4086 rows x 25 columns]"
      ]
     },
     "execution_count": 750,
     "metadata": {},
     "output_type": "execute_result"
    }
   ],
   "source": [
    "df1"
   ]
  },
  {
   "cell_type": "code",
   "execution_count": 706,
   "id": "environmental-biodiversity",
   "metadata": {
    "ExecuteTime": {
     "end_time": "2021-05-05T16:08:37.348159Z",
     "start_time": "2021-05-05T16:08:37.326437Z"
    }
   },
   "outputs": [],
   "source": [
    "months_31 = ((df1['date'].dt.month == 1) | \n",
    " (df1['date'].dt.month == 3) | \n",
    " (df1['date'].dt.month == 5) |\n",
    " (df1['date'].dt.month == 7) | \n",
    " (df1['date'].dt.month == 8) |\n",
    " (df1['date'].dt.month == 10)| \n",
    " (df1['date'].dt.month == 12))"
   ]
  },
  {
   "cell_type": "code",
   "execution_count": 707,
   "id": "facial-linux",
   "metadata": {
    "ExecuteTime": {
     "end_time": "2021-05-05T16:08:37.757525Z",
     "start_time": "2021-05-05T16:08:37.741531Z"
    }
   },
   "outputs": [],
   "source": [
    "months_30 = ((df1['date'].dt.month == 2) | \n",
    " (df1['date'].dt.month == 4) | \n",
    " (df1['date'].dt.month == 6) |\n",
    " (df1['date'].dt.month == 9) | \n",
    " (df1['date'].dt.month == 11))"
   ]
  },
  {
   "cell_type": "code",
   "execution_count": 708,
   "id": "fluid-fossil",
   "metadata": {
    "ExecuteTime": {
     "end_time": "2021-05-05T16:08:38.141163Z",
     "start_time": "2021-05-05T16:08:38.133253Z"
    }
   },
   "outputs": [],
   "source": [
    "df1['payday'] = 0\n",
    "df1['promo_day'] = 0"
   ]
  },
  {
   "cell_type": "code",
   "execution_count": 709,
   "id": "maritime-wilderness",
   "metadata": {
    "ExecuteTime": {
     "end_time": "2021-05-05T16:08:38.611737Z",
     "start_time": "2021-05-05T16:08:38.597442Z"
    }
   },
   "outputs": [],
   "source": [
    "df1.loc[(df1['date'].dt.month == 11) & (df1['date'].dt.day == 11), 'promo_day'] = 1\n",
    "df1.loc[(df1['date'].dt.month == 12) & (df1['date'].dt.day == 12), 'promo_day'] = 1\n"
   ]
  },
  {
   "cell_type": "code",
   "execution_count": 710,
   "id": "complicated-outreach",
   "metadata": {
    "ExecuteTime": {
     "end_time": "2021-05-05T16:08:38.917687Z",
     "start_time": "2021-05-05T16:08:38.896108Z"
    }
   },
   "outputs": [],
   "source": [
    "df1.loc[(df1['date'].dt.day == 15), 'payday'] = 1\n",
    "df1.loc[(months_31) & (df1['date'].dt.day == 31), 'payday'] = 1 \n",
    "df1.loc[(months_30) & (df1['date'].dt.day == 30), 'payday'] = 1 \n",
    "\n",
    "df1.loc[(df1['date'].dt.month == 11) & (df1['date'].dt.day == 11), 'promo_day'] = 1\n",
    "df1.loc[(df1['date'].dt.month == 12) & (df1['date'].dt.day == 12), 'promo_day'] = 1\n"
   ]
  },
  {
   "cell_type": "code",
   "execution_count": 711,
   "id": "working-harrison",
   "metadata": {
    "ExecuteTime": {
     "end_time": "2021-05-05T16:08:40.281042Z",
     "start_time": "2021-05-05T16:08:40.256554Z"
    }
   },
   "outputs": [],
   "source": [
    "months = df1.date.dt.month\n",
    "day_name = df1.date.dt.day_name()\n",
    "is_weekend = day_name.apply(lambda x: 1 if x in ['Saturday', 'Sunday'] else 0)"
   ]
  },
  {
   "cell_type": "code",
   "execution_count": 712,
   "id": "essential-partner",
   "metadata": {
    "ExecuteTime": {
     "end_time": "2021-05-05T16:08:40.724470Z",
     "start_time": "2021-05-05T16:08:40.716848Z"
    }
   },
   "outputs": [],
   "source": [
    "#dates\n",
    "\n",
    "df_months = pd.get_dummies(months, prefix='month')\n",
    "\n",
    "df_datefeatures = pd.concat([df_months, is_weekend], \n",
    "                            axis=1)"
   ]
  },
  {
   "cell_type": "code",
   "execution_count": 713,
   "id": "capable-cover",
   "metadata": {
    "ExecuteTime": {
     "end_time": "2021-05-05T16:08:42.308574Z",
     "start_time": "2021-05-05T16:08:42.298976Z"
    }
   },
   "outputs": [],
   "source": [
    "df_datefeatures = df_datefeatures.rename(columns={'date':'is_weekend'})"
   ]
  },
  {
   "cell_type": "code",
   "execution_count": 714,
   "id": "victorian-entrance",
   "metadata": {
    "ExecuteTime": {
     "end_time": "2021-05-05T16:08:49.887059Z",
     "start_time": "2021-05-05T16:08:49.867824Z"
    }
   },
   "outputs": [],
   "source": [
    "df1 = df1.merge(df_concurrence, on='date')"
   ]
  },
  {
   "cell_type": "code",
   "execution_count": 715,
   "id": "relative-funeral",
   "metadata": {
    "ExecuteTime": {
     "end_time": "2021-05-05T16:08:50.577815Z",
     "start_time": "2021-05-05T16:08:50.569431Z"
    }
   },
   "outputs": [],
   "source": [
    "df2 = df1.copy()"
   ]
  },
  {
   "cell_type": "code",
   "execution_count": 716,
   "id": "everyday-wayne",
   "metadata": {
    "ExecuteTime": {
     "end_time": "2021-05-05T16:08:52.201289Z",
     "start_time": "2021-05-05T16:08:52.157298Z"
    }
   },
   "outputs": [
    {
     "data": {
      "text/html": [
       "<div>\n",
       "<style scoped>\n",
       "    .dataframe tbody tr th:only-of-type {\n",
       "        vertical-align: middle;\n",
       "    }\n",
       "\n",
       "    .dataframe tbody tr th {\n",
       "        vertical-align: top;\n",
       "    }\n",
       "\n",
       "    .dataframe thead th {\n",
       "        text-align: right;\n",
       "    }\n",
       "</style>\n",
       "<table border=\"1\" class=\"dataframe\">\n",
       "  <thead>\n",
       "    <tr style=\"text-align: right;\">\n",
       "      <th></th>\n",
       "      <th>date</th>\n",
       "      <th>shop_name</th>\n",
       "      <th>channel</th>\n",
       "      <th>sales</th>\n",
       "      <th>units_sold</th>\n",
       "      <th>product_views</th>\n",
       "      <th>click_rate</th>\n",
       "      <th>bundle</th>\n",
       "      <th>age_group_0-12</th>\n",
       "      <th>age_group_0-6</th>\n",
       "      <th>...</th>\n",
       "      <th>flavor_chocolate</th>\n",
       "      <th>flavor_formula</th>\n",
       "      <th>flavor_milk</th>\n",
       "      <th>flavor_plain</th>\n",
       "      <th>flavor_unknown</th>\n",
       "      <th>flavor_vanilla</th>\n",
       "      <th>payday</th>\n",
       "      <th>promo_day</th>\n",
       "      <th>laz_concur</th>\n",
       "      <th>sp_concur</th>\n",
       "    </tr>\n",
       "  </thead>\n",
       "  <tbody>\n",
       "    <tr>\n",
       "      <th>0</th>\n",
       "      <td>2019-01-01</td>\n",
       "      <td>0</td>\n",
       "      <td>0</td>\n",
       "      <td>86.0</td>\n",
       "      <td>6</td>\n",
       "      <td>0</td>\n",
       "      <td>0.00</td>\n",
       "      <td>0</td>\n",
       "      <td>0</td>\n",
       "      <td>0</td>\n",
       "      <td>...</td>\n",
       "      <td>0</td>\n",
       "      <td>0</td>\n",
       "      <td>4</td>\n",
       "      <td>0</td>\n",
       "      <td>0</td>\n",
       "      <td>0</td>\n",
       "      <td>0</td>\n",
       "      <td>0</td>\n",
       "      <td>32</td>\n",
       "      <td>0.0</td>\n",
       "    </tr>\n",
       "    <tr>\n",
       "      <th>1</th>\n",
       "      <td>2019-01-01</td>\n",
       "      <td>0</td>\n",
       "      <td>1</td>\n",
       "      <td>30.0</td>\n",
       "      <td>36</td>\n",
       "      <td>985</td>\n",
       "      <td>96.30</td>\n",
       "      <td>0</td>\n",
       "      <td>0</td>\n",
       "      <td>2</td>\n",
       "      <td>...</td>\n",
       "      <td>5</td>\n",
       "      <td>2</td>\n",
       "      <td>24</td>\n",
       "      <td>0</td>\n",
       "      <td>0</td>\n",
       "      <td>0</td>\n",
       "      <td>0</td>\n",
       "      <td>0</td>\n",
       "      <td>32</td>\n",
       "      <td>0.0</td>\n",
       "    </tr>\n",
       "    <tr>\n",
       "      <th>2</th>\n",
       "      <td>2019-01-01</td>\n",
       "      <td>1</td>\n",
       "      <td>1</td>\n",
       "      <td>155.0</td>\n",
       "      <td>11</td>\n",
       "      <td>564</td>\n",
       "      <td>46.07</td>\n",
       "      <td>0</td>\n",
       "      <td>1</td>\n",
       "      <td>4</td>\n",
       "      <td>...</td>\n",
       "      <td>1</td>\n",
       "      <td>5</td>\n",
       "      <td>24</td>\n",
       "      <td>0</td>\n",
       "      <td>0</td>\n",
       "      <td>1</td>\n",
       "      <td>0</td>\n",
       "      <td>0</td>\n",
       "      <td>32</td>\n",
       "      <td>0.0</td>\n",
       "    </tr>\n",
       "    <tr>\n",
       "      <th>3</th>\n",
       "      <td>2019-01-01</td>\n",
       "      <td>2</td>\n",
       "      <td>1</td>\n",
       "      <td>0.0</td>\n",
       "      <td>0</td>\n",
       "      <td>50</td>\n",
       "      <td>0.00</td>\n",
       "      <td>0</td>\n",
       "      <td>0</td>\n",
       "      <td>0</td>\n",
       "      <td>...</td>\n",
       "      <td>3</td>\n",
       "      <td>0</td>\n",
       "      <td>3</td>\n",
       "      <td>0</td>\n",
       "      <td>0</td>\n",
       "      <td>0</td>\n",
       "      <td>0</td>\n",
       "      <td>0</td>\n",
       "      <td>32</td>\n",
       "      <td>0.0</td>\n",
       "    </tr>\n",
       "    <tr>\n",
       "      <th>4</th>\n",
       "      <td>2019-01-02</td>\n",
       "      <td>0</td>\n",
       "      <td>0</td>\n",
       "      <td>143.0</td>\n",
       "      <td>10</td>\n",
       "      <td>0</td>\n",
       "      <td>0.00</td>\n",
       "      <td>1</td>\n",
       "      <td>0</td>\n",
       "      <td>0</td>\n",
       "      <td>...</td>\n",
       "      <td>0</td>\n",
       "      <td>0</td>\n",
       "      <td>5</td>\n",
       "      <td>0</td>\n",
       "      <td>0</td>\n",
       "      <td>0</td>\n",
       "      <td>0</td>\n",
       "      <td>0</td>\n",
       "      <td>37</td>\n",
       "      <td>0.0</td>\n",
       "    </tr>\n",
       "    <tr>\n",
       "      <th>5</th>\n",
       "      <td>2019-01-02</td>\n",
       "      <td>0</td>\n",
       "      <td>1</td>\n",
       "      <td>60.0</td>\n",
       "      <td>72</td>\n",
       "      <td>1186</td>\n",
       "      <td>79.81</td>\n",
       "      <td>0</td>\n",
       "      <td>0</td>\n",
       "      <td>2</td>\n",
       "      <td>...</td>\n",
       "      <td>5</td>\n",
       "      <td>2</td>\n",
       "      <td>24</td>\n",
       "      <td>0</td>\n",
       "      <td>0</td>\n",
       "      <td>0</td>\n",
       "      <td>0</td>\n",
       "      <td>0</td>\n",
       "      <td>37</td>\n",
       "      <td>0.0</td>\n",
       "    </tr>\n",
       "    <tr>\n",
       "      <th>6</th>\n",
       "      <td>2019-01-02</td>\n",
       "      <td>1</td>\n",
       "      <td>0</td>\n",
       "      <td>30.0</td>\n",
       "      <td>1</td>\n",
       "      <td>0</td>\n",
       "      <td>0.00</td>\n",
       "      <td>0</td>\n",
       "      <td>0</td>\n",
       "      <td>0</td>\n",
       "      <td>...</td>\n",
       "      <td>0</td>\n",
       "      <td>0</td>\n",
       "      <td>1</td>\n",
       "      <td>0</td>\n",
       "      <td>0</td>\n",
       "      <td>0</td>\n",
       "      <td>0</td>\n",
       "      <td>0</td>\n",
       "      <td>37</td>\n",
       "      <td>0.0</td>\n",
       "    </tr>\n",
       "    <tr>\n",
       "      <th>7</th>\n",
       "      <td>2019-01-02</td>\n",
       "      <td>1</td>\n",
       "      <td>1</td>\n",
       "      <td>644.0</td>\n",
       "      <td>35</td>\n",
       "      <td>962</td>\n",
       "      <td>72.01</td>\n",
       "      <td>0</td>\n",
       "      <td>1</td>\n",
       "      <td>4</td>\n",
       "      <td>...</td>\n",
       "      <td>1</td>\n",
       "      <td>5</td>\n",
       "      <td>24</td>\n",
       "      <td>0</td>\n",
       "      <td>0</td>\n",
       "      <td>1</td>\n",
       "      <td>0</td>\n",
       "      <td>0</td>\n",
       "      <td>37</td>\n",
       "      <td>0.0</td>\n",
       "    </tr>\n",
       "    <tr>\n",
       "      <th>8</th>\n",
       "      <td>2019-01-02</td>\n",
       "      <td>2</td>\n",
       "      <td>1</td>\n",
       "      <td>0.0</td>\n",
       "      <td>4</td>\n",
       "      <td>83</td>\n",
       "      <td>16.00</td>\n",
       "      <td>0</td>\n",
       "      <td>0</td>\n",
       "      <td>0</td>\n",
       "      <td>...</td>\n",
       "      <td>3</td>\n",
       "      <td>0</td>\n",
       "      <td>3</td>\n",
       "      <td>0</td>\n",
       "      <td>0</td>\n",
       "      <td>0</td>\n",
       "      <td>0</td>\n",
       "      <td>0</td>\n",
       "      <td>37</td>\n",
       "      <td>0.0</td>\n",
       "    </tr>\n",
       "    <tr>\n",
       "      <th>9</th>\n",
       "      <td>2019-01-03</td>\n",
       "      <td>0</td>\n",
       "      <td>0</td>\n",
       "      <td>85.0</td>\n",
       "      <td>6</td>\n",
       "      <td>0</td>\n",
       "      <td>0.00</td>\n",
       "      <td>0</td>\n",
       "      <td>0</td>\n",
       "      <td>0</td>\n",
       "      <td>...</td>\n",
       "      <td>1</td>\n",
       "      <td>0</td>\n",
       "      <td>3</td>\n",
       "      <td>0</td>\n",
       "      <td>0</td>\n",
       "      <td>0</td>\n",
       "      <td>0</td>\n",
       "      <td>0</td>\n",
       "      <td>39</td>\n",
       "      <td>0.0</td>\n",
       "    </tr>\n",
       "    <tr>\n",
       "      <th>10</th>\n",
       "      <td>2019-01-03</td>\n",
       "      <td>0</td>\n",
       "      <td>1</td>\n",
       "      <td>109.0</td>\n",
       "      <td>45</td>\n",
       "      <td>1019</td>\n",
       "      <td>50.43</td>\n",
       "      <td>0</td>\n",
       "      <td>0</td>\n",
       "      <td>2</td>\n",
       "      <td>...</td>\n",
       "      <td>5</td>\n",
       "      <td>2</td>\n",
       "      <td>25</td>\n",
       "      <td>0</td>\n",
       "      <td>0</td>\n",
       "      <td>0</td>\n",
       "      <td>0</td>\n",
       "      <td>0</td>\n",
       "      <td>39</td>\n",
       "      <td>0.0</td>\n",
       "    </tr>\n",
       "    <tr>\n",
       "      <th>11</th>\n",
       "      <td>2019-01-03</td>\n",
       "      <td>1</td>\n",
       "      <td>0</td>\n",
       "      <td>131.0</td>\n",
       "      <td>4</td>\n",
       "      <td>0</td>\n",
       "      <td>0.00</td>\n",
       "      <td>0</td>\n",
       "      <td>0</td>\n",
       "      <td>0</td>\n",
       "      <td>...</td>\n",
       "      <td>0</td>\n",
       "      <td>0</td>\n",
       "      <td>1</td>\n",
       "      <td>0</td>\n",
       "      <td>0</td>\n",
       "      <td>0</td>\n",
       "      <td>0</td>\n",
       "      <td>0</td>\n",
       "      <td>39</td>\n",
       "      <td>0.0</td>\n",
       "    </tr>\n",
       "    <tr>\n",
       "      <th>12</th>\n",
       "      <td>2019-01-03</td>\n",
       "      <td>1</td>\n",
       "      <td>1</td>\n",
       "      <td>403.0</td>\n",
       "      <td>21</td>\n",
       "      <td>696</td>\n",
       "      <td>55.18</td>\n",
       "      <td>0</td>\n",
       "      <td>1</td>\n",
       "      <td>4</td>\n",
       "      <td>...</td>\n",
       "      <td>1</td>\n",
       "      <td>5</td>\n",
       "      <td>24</td>\n",
       "      <td>0</td>\n",
       "      <td>0</td>\n",
       "      <td>1</td>\n",
       "      <td>0</td>\n",
       "      <td>0</td>\n",
       "      <td>39</td>\n",
       "      <td>0.0</td>\n",
       "    </tr>\n",
       "    <tr>\n",
       "      <th>13</th>\n",
       "      <td>2019-01-03</td>\n",
       "      <td>2</td>\n",
       "      <td>1</td>\n",
       "      <td>0.0</td>\n",
       "      <td>0</td>\n",
       "      <td>69</td>\n",
       "      <td>0.00</td>\n",
       "      <td>0</td>\n",
       "      <td>0</td>\n",
       "      <td>0</td>\n",
       "      <td>...</td>\n",
       "      <td>3</td>\n",
       "      <td>0</td>\n",
       "      <td>3</td>\n",
       "      <td>0</td>\n",
       "      <td>0</td>\n",
       "      <td>0</td>\n",
       "      <td>0</td>\n",
       "      <td>0</td>\n",
       "      <td>39</td>\n",
       "      <td>0.0</td>\n",
       "    </tr>\n",
       "    <tr>\n",
       "      <th>14</th>\n",
       "      <td>2019-01-04</td>\n",
       "      <td>0</td>\n",
       "      <td>0</td>\n",
       "      <td>62.0</td>\n",
       "      <td>5</td>\n",
       "      <td>0</td>\n",
       "      <td>0.00</td>\n",
       "      <td>0</td>\n",
       "      <td>0</td>\n",
       "      <td>0</td>\n",
       "      <td>...</td>\n",
       "      <td>1</td>\n",
       "      <td>0</td>\n",
       "      <td>2</td>\n",
       "      <td>0</td>\n",
       "      <td>0</td>\n",
       "      <td>0</td>\n",
       "      <td>0</td>\n",
       "      <td>0</td>\n",
       "      <td>36</td>\n",
       "      <td>0.0</td>\n",
       "    </tr>\n",
       "    <tr>\n",
       "      <th>15</th>\n",
       "      <td>2019-01-04</td>\n",
       "      <td>0</td>\n",
       "      <td>1</td>\n",
       "      <td>64.0</td>\n",
       "      <td>57</td>\n",
       "      <td>1159</td>\n",
       "      <td>121.54</td>\n",
       "      <td>1</td>\n",
       "      <td>0</td>\n",
       "      <td>3</td>\n",
       "      <td>...</td>\n",
       "      <td>6</td>\n",
       "      <td>3</td>\n",
       "      <td>30</td>\n",
       "      <td>0</td>\n",
       "      <td>0</td>\n",
       "      <td>0</td>\n",
       "      <td>0</td>\n",
       "      <td>0</td>\n",
       "      <td>36</td>\n",
       "      <td>0.0</td>\n",
       "    </tr>\n",
       "    <tr>\n",
       "      <th>16</th>\n",
       "      <td>2019-01-04</td>\n",
       "      <td>1</td>\n",
       "      <td>0</td>\n",
       "      <td>25.0</td>\n",
       "      <td>1</td>\n",
       "      <td>0</td>\n",
       "      <td>0.00</td>\n",
       "      <td>0</td>\n",
       "      <td>0</td>\n",
       "      <td>0</td>\n",
       "      <td>...</td>\n",
       "      <td>0</td>\n",
       "      <td>0</td>\n",
       "      <td>1</td>\n",
       "      <td>0</td>\n",
       "      <td>0</td>\n",
       "      <td>0</td>\n",
       "      <td>0</td>\n",
       "      <td>0</td>\n",
       "      <td>36</td>\n",
       "      <td>0.0</td>\n",
       "    </tr>\n",
       "    <tr>\n",
       "      <th>17</th>\n",
       "      <td>2019-01-04</td>\n",
       "      <td>1</td>\n",
       "      <td>1</td>\n",
       "      <td>776.0</td>\n",
       "      <td>36</td>\n",
       "      <td>794</td>\n",
       "      <td>113.05</td>\n",
       "      <td>1</td>\n",
       "      <td>2</td>\n",
       "      <td>4</td>\n",
       "      <td>...</td>\n",
       "      <td>1</td>\n",
       "      <td>6</td>\n",
       "      <td>25</td>\n",
       "      <td>2</td>\n",
       "      <td>0</td>\n",
       "      <td>1</td>\n",
       "      <td>0</td>\n",
       "      <td>0</td>\n",
       "      <td>36</td>\n",
       "      <td>0.0</td>\n",
       "    </tr>\n",
       "    <tr>\n",
       "      <th>18</th>\n",
       "      <td>2019-01-04</td>\n",
       "      <td>2</td>\n",
       "      <td>1</td>\n",
       "      <td>28.0</td>\n",
       "      <td>1</td>\n",
       "      <td>44</td>\n",
       "      <td>11.11</td>\n",
       "      <td>0</td>\n",
       "      <td>0</td>\n",
       "      <td>0</td>\n",
       "      <td>...</td>\n",
       "      <td>3</td>\n",
       "      <td>0</td>\n",
       "      <td>3</td>\n",
       "      <td>0</td>\n",
       "      <td>0</td>\n",
       "      <td>0</td>\n",
       "      <td>0</td>\n",
       "      <td>0</td>\n",
       "      <td>36</td>\n",
       "      <td>0.0</td>\n",
       "    </tr>\n",
       "    <tr>\n",
       "      <th>19</th>\n",
       "      <td>2019-01-05</td>\n",
       "      <td>0</td>\n",
       "      <td>0</td>\n",
       "      <td>41.0</td>\n",
       "      <td>3</td>\n",
       "      <td>0</td>\n",
       "      <td>0.00</td>\n",
       "      <td>0</td>\n",
       "      <td>0</td>\n",
       "      <td>0</td>\n",
       "      <td>...</td>\n",
       "      <td>0</td>\n",
       "      <td>0</td>\n",
       "      <td>2</td>\n",
       "      <td>0</td>\n",
       "      <td>0</td>\n",
       "      <td>0</td>\n",
       "      <td>0</td>\n",
       "      <td>0</td>\n",
       "      <td>28</td>\n",
       "      <td>0.0</td>\n",
       "    </tr>\n",
       "  </tbody>\n",
       "</table>\n",
       "<p>20 rows × 25 columns</p>\n",
       "</div>"
      ],
      "text/plain": [
       "         date shop_name  channel  sales  units_sold  product_views  \\\n",
       "0  2019-01-01         0        0   86.0           6              0   \n",
       "1  2019-01-01         0        1   30.0          36            985   \n",
       "2  2019-01-01         1        1  155.0          11            564   \n",
       "3  2019-01-01         2        1    0.0           0             50   \n",
       "4  2019-01-02         0        0  143.0          10              0   \n",
       "5  2019-01-02         0        1   60.0          72           1186   \n",
       "6  2019-01-02         1        0   30.0           1              0   \n",
       "7  2019-01-02         1        1  644.0          35            962   \n",
       "8  2019-01-02         2        1    0.0           4             83   \n",
       "9  2019-01-03         0        0   85.0           6              0   \n",
       "10 2019-01-03         0        1  109.0          45           1019   \n",
       "11 2019-01-03         1        0  131.0           4              0   \n",
       "12 2019-01-03         1        1  403.0          21            696   \n",
       "13 2019-01-03         2        1    0.0           0             69   \n",
       "14 2019-01-04         0        0   62.0           5              0   \n",
       "15 2019-01-04         0        1   64.0          57           1159   \n",
       "16 2019-01-04         1        0   25.0           1              0   \n",
       "17 2019-01-04         1        1  776.0          36            794   \n",
       "18 2019-01-04         2        1   28.0           1             44   \n",
       "19 2019-01-05         0        0   41.0           3              0   \n",
       "\n",
       "    click_rate  bundle  age_group_0-12  age_group_0-6  ...  flavor_chocolate  \\\n",
       "0         0.00       0               0              0  ...                 0   \n",
       "1        96.30       0               0              2  ...                 5   \n",
       "2        46.07       0               1              4  ...                 1   \n",
       "3         0.00       0               0              0  ...                 3   \n",
       "4         0.00       1               0              0  ...                 0   \n",
       "5        79.81       0               0              2  ...                 5   \n",
       "6         0.00       0               0              0  ...                 0   \n",
       "7        72.01       0               1              4  ...                 1   \n",
       "8        16.00       0               0              0  ...                 3   \n",
       "9         0.00       0               0              0  ...                 1   \n",
       "10       50.43       0               0              2  ...                 5   \n",
       "11        0.00       0               0              0  ...                 0   \n",
       "12       55.18       0               1              4  ...                 1   \n",
       "13        0.00       0               0              0  ...                 3   \n",
       "14        0.00       0               0              0  ...                 1   \n",
       "15      121.54       1               0              3  ...                 6   \n",
       "16        0.00       0               0              0  ...                 0   \n",
       "17      113.05       1               2              4  ...                 1   \n",
       "18       11.11       0               0              0  ...                 3   \n",
       "19        0.00       0               0              0  ...                 0   \n",
       "\n",
       "    flavor_formula  flavor_milk  flavor_plain  flavor_unknown  flavor_vanilla  \\\n",
       "0                0            4             0               0               0   \n",
       "1                2           24             0               0               0   \n",
       "2                5           24             0               0               1   \n",
       "3                0            3             0               0               0   \n",
       "4                0            5             0               0               0   \n",
       "5                2           24             0               0               0   \n",
       "6                0            1             0               0               0   \n",
       "7                5           24             0               0               1   \n",
       "8                0            3             0               0               0   \n",
       "9                0            3             0               0               0   \n",
       "10               2           25             0               0               0   \n",
       "11               0            1             0               0               0   \n",
       "12               5           24             0               0               1   \n",
       "13               0            3             0               0               0   \n",
       "14               0            2             0               0               0   \n",
       "15               3           30             0               0               0   \n",
       "16               0            1             0               0               0   \n",
       "17               6           25             2               0               1   \n",
       "18               0            3             0               0               0   \n",
       "19               0            2             0               0               0   \n",
       "\n",
       "    payday  promo_day  laz_concur  sp_concur  \n",
       "0        0          0          32        0.0  \n",
       "1        0          0          32        0.0  \n",
       "2        0          0          32        0.0  \n",
       "3        0          0          32        0.0  \n",
       "4        0          0          37        0.0  \n",
       "5        0          0          37        0.0  \n",
       "6        0          0          37        0.0  \n",
       "7        0          0          37        0.0  \n",
       "8        0          0          37        0.0  \n",
       "9        0          0          39        0.0  \n",
       "10       0          0          39        0.0  \n",
       "11       0          0          39        0.0  \n",
       "12       0          0          39        0.0  \n",
       "13       0          0          39        0.0  \n",
       "14       0          0          36        0.0  \n",
       "15       0          0          36        0.0  \n",
       "16       0          0          36        0.0  \n",
       "17       0          0          36        0.0  \n",
       "18       0          0          36        0.0  \n",
       "19       0          0          28        0.0  \n",
       "\n",
       "[20 rows x 25 columns]"
      ]
     },
     "execution_count": 716,
     "metadata": {},
     "output_type": "execute_result"
    }
   ],
   "source": [
    "df1[:20]"
   ]
  },
  {
   "cell_type": "code",
   "execution_count": 717,
   "id": "neither-blogger",
   "metadata": {
    "ExecuteTime": {
     "end_time": "2021-05-05T16:08:56.000108Z",
     "start_time": "2021-05-05T16:08:55.983187Z"
    }
   },
   "outputs": [],
   "source": [
    "df2 = pd.concat([df_datefeatures, df2], axis=1)\n",
    "df2 = df2.drop(['product_views', 'units_sold', 'click_rate'], axis=1)\n",
    "# df2 = pd.get_dummies(data=df2, columns=['shop_name', 'channel'])"
   ]
  },
  {
   "cell_type": "code",
   "execution_count": 720,
   "id": "israeli-cleveland",
   "metadata": {
    "ExecuteTime": {
     "end_time": "2021-05-05T16:09:29.714775Z",
     "start_time": "2021-05-05T16:09:29.706157Z"
    }
   },
   "outputs": [],
   "source": [
    "df2 = df2.drop('date', axis=1)"
   ]
  },
  {
   "cell_type": "code",
   "execution_count": 724,
   "id": "played-bhutan",
   "metadata": {
    "ExecuteTime": {
     "end_time": "2021-05-05T16:10:08.268809Z",
     "start_time": "2021-05-05T16:10:08.260976Z"
    }
   },
   "outputs": [],
   "source": [
    "df2['shop_name'] = df2.shop_name.astype(int)"
   ]
  },
  {
   "cell_type": "code",
   "execution_count": 729,
   "id": "focal-growth",
   "metadata": {
    "ExecuteTime": {
     "end_time": "2021-05-05T16:10:48.026201Z",
     "start_time": "2021-05-05T16:10:48.019135Z"
    }
   },
   "outputs": [],
   "source": [
    "df2['sp_concur'] = df2.sp_concur.astype(int)"
   ]
  },
  {
   "cell_type": "code",
   "execution_count": 730,
   "id": "grateful-spouse",
   "metadata": {
    "ExecuteTime": {
     "end_time": "2021-05-05T16:10:51.261439Z",
     "start_time": "2021-05-05T16:10:51.234031Z"
    }
   },
   "outputs": [
    {
     "name": "stdout",
     "output_type": "stream",
     "text": [
      "<class 'pandas.core.frame.DataFrame'>\n",
      "RangeIndex: 4086 entries, 0 to 4085\n",
      "Data columns (total 34 columns):\n",
      " #   Column              Non-Null Count  Dtype  \n",
      "---  ------              --------------  -----  \n",
      " 0   month_1             4086 non-null   uint8  \n",
      " 1   month_2             4086 non-null   uint8  \n",
      " 2   month_3             4086 non-null   uint8  \n",
      " 3   month_4             4086 non-null   uint8  \n",
      " 4   month_5             4086 non-null   uint8  \n",
      " 5   month_6             4086 non-null   uint8  \n",
      " 6   month_7             4086 non-null   uint8  \n",
      " 7   month_8             4086 non-null   uint8  \n",
      " 8   month_9             4086 non-null   uint8  \n",
      " 9   month_10            4086 non-null   uint8  \n",
      " 10  month_11            4086 non-null   uint8  \n",
      " 11  month_12            4086 non-null   uint8  \n",
      " 12  is_weekend          4086 non-null   int64  \n",
      " 13  shop_name           4086 non-null   int64  \n",
      " 14  channel             4086 non-null   int64  \n",
      " 15  sales               4086 non-null   float64\n",
      " 16  bundle              4086 non-null   int64  \n",
      " 17  age_group_0-12      4086 non-null   uint8  \n",
      " 18  age_group_0-6       4086 non-null   uint8  \n",
      " 19  age_group_1-3       4086 non-null   uint8  \n",
      " 20  age_group_3+        4086 non-null   uint8  \n",
      " 21  age_group_6+        4086 non-null   uint8  \n",
      " 22  age_group_6-12      4086 non-null   uint8  \n",
      " 23  age_group_enfamama  4086 non-null   uint8  \n",
      " 24  flavor_chocolate    4086 non-null   uint8  \n",
      " 25  flavor_formula      4086 non-null   uint8  \n",
      " 26  flavor_milk         4086 non-null   uint8  \n",
      " 27  flavor_plain        4086 non-null   uint8  \n",
      " 28  flavor_unknown      4086 non-null   uint8  \n",
      " 29  flavor_vanilla      4086 non-null   uint8  \n",
      " 30  payday              4086 non-null   int64  \n",
      " 31  promo_day           4086 non-null   int64  \n",
      " 32  laz_concur          4086 non-null   int64  \n",
      " 33  sp_concur           4086 non-null   int64  \n",
      "dtypes: float64(1), int64(8), uint8(25)\n",
      "memory usage: 387.2 KB\n"
     ]
    }
   ],
   "source": [
    "df2.info()"
   ]
  },
  {
   "cell_type": "markdown",
   "id": "remarkable-burner",
   "metadata": {},
   "source": [
    "- weekend pagsamahin\n",
    "- bundle pagsamahin"
   ]
  },
  {
   "cell_type": "markdown",
   "id": "viral-testimony",
   "metadata": {},
   "source": [
    "<div><span style=\"background-color: #E72388; padding-top: 100px; padding-right: 20px; padding-bottom: 50px; padding-left: 20px; color: #ffffff; font-size: 20px; font-weight: bold\"> MODEL CREATION </span></div>"
   ]
  },
  {
   "cell_type": "code",
   "execution_count": 755,
   "id": "third-triumph",
   "metadata": {
    "ExecuteTime": {
     "end_time": "2021-05-05T16:18:36.899183Z",
     "start_time": "2021-05-05T16:18:36.865455Z"
    }
   },
   "outputs": [
    {
     "data": {
      "text/html": [
       "<div>\n",
       "<style scoped>\n",
       "    .dataframe tbody tr th:only-of-type {\n",
       "        vertical-align: middle;\n",
       "    }\n",
       "\n",
       "    .dataframe tbody tr th {\n",
       "        vertical-align: top;\n",
       "    }\n",
       "\n",
       "    .dataframe thead th {\n",
       "        text-align: right;\n",
       "    }\n",
       "</style>\n",
       "<table border=\"1\" class=\"dataframe\">\n",
       "  <thead>\n",
       "    <tr style=\"text-align: right;\">\n",
       "      <th></th>\n",
       "      <th>date</th>\n",
       "      <th>shop_name</th>\n",
       "      <th>channel</th>\n",
       "      <th>sales</th>\n",
       "      <th>units_sold</th>\n",
       "      <th>product_views</th>\n",
       "      <th>click_rate</th>\n",
       "      <th>bundle</th>\n",
       "      <th>age_group_0-12</th>\n",
       "      <th>age_group_0-6</th>\n",
       "      <th>...</th>\n",
       "      <th>flavor_chocolate</th>\n",
       "      <th>flavor_formula</th>\n",
       "      <th>flavor_milk</th>\n",
       "      <th>flavor_plain</th>\n",
       "      <th>flavor_unknown</th>\n",
       "      <th>flavor_vanilla</th>\n",
       "      <th>payday</th>\n",
       "      <th>promo_day</th>\n",
       "      <th>laz_concur</th>\n",
       "      <th>sp_concur</th>\n",
       "    </tr>\n",
       "  </thead>\n",
       "  <tbody>\n",
       "    <tr>\n",
       "      <th>0</th>\n",
       "      <td>2019-01-01</td>\n",
       "      <td>0</td>\n",
       "      <td>0</td>\n",
       "      <td>86.0</td>\n",
       "      <td>6</td>\n",
       "      <td>0</td>\n",
       "      <td>0.00</td>\n",
       "      <td>0</td>\n",
       "      <td>0</td>\n",
       "      <td>0</td>\n",
       "      <td>...</td>\n",
       "      <td>0</td>\n",
       "      <td>0</td>\n",
       "      <td>4</td>\n",
       "      <td>0</td>\n",
       "      <td>0</td>\n",
       "      <td>0</td>\n",
       "      <td>0</td>\n",
       "      <td>0</td>\n",
       "      <td>32</td>\n",
       "      <td>0.0</td>\n",
       "    </tr>\n",
       "    <tr>\n",
       "      <th>1</th>\n",
       "      <td>2019-01-01</td>\n",
       "      <td>0</td>\n",
       "      <td>1</td>\n",
       "      <td>30.0</td>\n",
       "      <td>36</td>\n",
       "      <td>985</td>\n",
       "      <td>96.30</td>\n",
       "      <td>0</td>\n",
       "      <td>0</td>\n",
       "      <td>2</td>\n",
       "      <td>...</td>\n",
       "      <td>5</td>\n",
       "      <td>2</td>\n",
       "      <td>24</td>\n",
       "      <td>0</td>\n",
       "      <td>0</td>\n",
       "      <td>0</td>\n",
       "      <td>0</td>\n",
       "      <td>0</td>\n",
       "      <td>32</td>\n",
       "      <td>0.0</td>\n",
       "    </tr>\n",
       "    <tr>\n",
       "      <th>2</th>\n",
       "      <td>2019-01-01</td>\n",
       "      <td>1</td>\n",
       "      <td>1</td>\n",
       "      <td>155.0</td>\n",
       "      <td>11</td>\n",
       "      <td>564</td>\n",
       "      <td>46.07</td>\n",
       "      <td>0</td>\n",
       "      <td>1</td>\n",
       "      <td>4</td>\n",
       "      <td>...</td>\n",
       "      <td>1</td>\n",
       "      <td>5</td>\n",
       "      <td>24</td>\n",
       "      <td>0</td>\n",
       "      <td>0</td>\n",
       "      <td>1</td>\n",
       "      <td>0</td>\n",
       "      <td>0</td>\n",
       "      <td>32</td>\n",
       "      <td>0.0</td>\n",
       "    </tr>\n",
       "    <tr>\n",
       "      <th>3</th>\n",
       "      <td>2019-01-01</td>\n",
       "      <td>2</td>\n",
       "      <td>1</td>\n",
       "      <td>0.0</td>\n",
       "      <td>0</td>\n",
       "      <td>50</td>\n",
       "      <td>0.00</td>\n",
       "      <td>0</td>\n",
       "      <td>0</td>\n",
       "      <td>0</td>\n",
       "      <td>...</td>\n",
       "      <td>3</td>\n",
       "      <td>0</td>\n",
       "      <td>3</td>\n",
       "      <td>0</td>\n",
       "      <td>0</td>\n",
       "      <td>0</td>\n",
       "      <td>0</td>\n",
       "      <td>0</td>\n",
       "      <td>32</td>\n",
       "      <td>0.0</td>\n",
       "    </tr>\n",
       "    <tr>\n",
       "      <th>4</th>\n",
       "      <td>2019-01-02</td>\n",
       "      <td>0</td>\n",
       "      <td>0</td>\n",
       "      <td>143.0</td>\n",
       "      <td>10</td>\n",
       "      <td>0</td>\n",
       "      <td>0.00</td>\n",
       "      <td>1</td>\n",
       "      <td>0</td>\n",
       "      <td>0</td>\n",
       "      <td>...</td>\n",
       "      <td>0</td>\n",
       "      <td>0</td>\n",
       "      <td>5</td>\n",
       "      <td>0</td>\n",
       "      <td>0</td>\n",
       "      <td>0</td>\n",
       "      <td>0</td>\n",
       "      <td>0</td>\n",
       "      <td>37</td>\n",
       "      <td>0.0</td>\n",
       "    </tr>\n",
       "  </tbody>\n",
       "</table>\n",
       "<p>5 rows × 25 columns</p>\n",
       "</div>"
      ],
      "text/plain": [
       "        date shop_name  channel  sales  units_sold  product_views  click_rate  \\\n",
       "0 2019-01-01         0        0   86.0           6              0        0.00   \n",
       "1 2019-01-01         0        1   30.0          36            985       96.30   \n",
       "2 2019-01-01         1        1  155.0          11            564       46.07   \n",
       "3 2019-01-01         2        1    0.0           0             50        0.00   \n",
       "4 2019-01-02         0        0  143.0          10              0        0.00   \n",
       "\n",
       "   bundle  age_group_0-12  age_group_0-6  ...  flavor_chocolate  \\\n",
       "0       0               0              0  ...                 0   \n",
       "1       0               0              2  ...                 5   \n",
       "2       0               1              4  ...                 1   \n",
       "3       0               0              0  ...                 3   \n",
       "4       1               0              0  ...                 0   \n",
       "\n",
       "   flavor_formula  flavor_milk  flavor_plain  flavor_unknown  flavor_vanilla  \\\n",
       "0               0            4             0               0               0   \n",
       "1               2           24             0               0               0   \n",
       "2               5           24             0               0               1   \n",
       "3               0            3             0               0               0   \n",
       "4               0            5             0               0               0   \n",
       "\n",
       "   payday  promo_day  laz_concur  sp_concur  \n",
       "0       0          0          32        0.0  \n",
       "1       0          0          32        0.0  \n",
       "2       0          0          32        0.0  \n",
       "3       0          0          32        0.0  \n",
       "4       0          0          37        0.0  \n",
       "\n",
       "[5 rows x 25 columns]"
      ]
     },
     "execution_count": 755,
     "metadata": {},
     "output_type": "execute_result"
    }
   ],
   "source": [
    "df1.head()"
   ]
  },
  {
   "cell_type": "code",
   "execution_count": 744,
   "id": "graduate-alert",
   "metadata": {
    "ExecuteTime": {
     "end_time": "2021-05-05T16:13:22.560451Z",
     "start_time": "2021-05-05T16:13:22.551330Z"
    }
   },
   "outputs": [],
   "source": [
    "df_target = df2['sales']\n",
    "df_features = df2.drop('sales', axis=1)"
   ]
  },
  {
   "cell_type": "code",
   "execution_count": 760,
   "id": "modified-aquarium",
   "metadata": {
    "ExecuteTime": {
     "end_time": "2021-05-05T16:19:38.724196Z",
     "start_time": "2021-05-05T16:19:38.717844Z"
    }
   },
   "outputs": [],
   "source": [
    "df_target = df1['sales']"
   ]
  },
  {
   "cell_type": "code",
   "execution_count": 840,
   "id": "smooth-hometown",
   "metadata": {
    "ExecuteTime": {
     "end_time": "2021-05-05T18:01:28.448071Z",
     "start_time": "2021-05-05T18:01:28.436785Z"
    }
   },
   "outputs": [
    {
     "data": {
      "text/plain": [
       "Index(['month_1', 'month_2', 'month_3', 'month_4', 'month_5', 'month_6',\n",
       "       'month_7', 'month_8', 'month_9', 'month_10', 'month_11', 'month_12',\n",
       "       'is_weekend', 'shop_name', 'channel', 'bundle', 'age_group_0-12',\n",
       "       'age_group_0-6', 'age_group_1-3', 'age_group_3+', 'age_group_6+',\n",
       "       'age_group_6-12', 'age_group_enfamama', 'flavor_chocolate',\n",
       "       'flavor_formula', 'flavor_milk', 'flavor_plain', 'flavor_unknown',\n",
       "       'flavor_vanilla', 'payday', 'promo_day', 'laz_concur', 'sp_concur'],\n",
       "      dtype='object')"
      ]
     },
     "execution_count": 840,
     "metadata": {},
     "output_type": "execute_result"
    }
   ],
   "source": [
    "df_features.columns"
   ]
  },
  {
   "cell_type": "code",
   "execution_count": 836,
   "id": "boxed-klein",
   "metadata": {
    "ExecuteTime": {
     "end_time": "2021-05-05T17:56:58.261900Z",
     "start_time": "2021-05-05T17:56:58.251253Z"
    }
   },
   "outputs": [],
   "source": [
    "dff = df_features[['month_1', 'month_2', 'month_3', 'month_4', 'month_5', 'month_6',\n",
    "       'month_7', 'month_8', 'month_9', 'month_10', 'month_11', 'month_12',\n",
    "           'shop_name', 'channel', 'bundle', 'age_group_0-12',\n",
    "       'age_group_0-6', 'age_group_1-3', 'age_group_3+', 'age_group_6+',\n",
    "       'age_group_6-12', 'age_group_enfamama', 'flavor_chocolate',\n",
    "       'flavor_formula', 'flavor_milk', 'flavor_plain', 'flavor_unknown',\n",
    "       'flavor_vanilla', 'payday', 'promo_day', 'laz_concur', 'sp_concur']]"
   ]
  },
  {
   "cell_type": "code",
   "execution_count": 745,
   "id": "biblical-manhattan",
   "metadata": {
    "ExecuteTime": {
     "end_time": "2021-05-05T16:13:25.091865Z",
     "start_time": "2021-05-05T16:13:25.087808Z"
    }
   },
   "outputs": [],
   "source": [
    "# scaler = StandardScaler()\n",
    "# scaler.fit(df_features)\n",
    "# scaler.transform(df_features)\n",
    "# df_features = pd.DataFrame(scaler.fit_transform(df_features), columns = df_features.columns)"
   ]
  },
  {
   "cell_type": "code",
   "execution_count": null,
   "id": "english-drain",
   "metadata": {},
   "outputs": [],
   "source": []
  },
  {
   "cell_type": "code",
   "execution_count": 837,
   "id": "seeing-rolling",
   "metadata": {
    "ExecuteTime": {
     "end_time": "2021-05-05T17:57:14.872025Z",
     "start_time": "2021-05-05T17:57:06.416737Z"
    }
   },
   "outputs": [
    {
     "name": "stdout",
     "output_type": "stream",
     "text": [
      "running model\n"
     ]
    },
    {
     "name": "stderr",
     "output_type": "stream",
     "text": [
      "/opt/conda/lib/python3.8/site-packages/sklearn/linear_model/_coordinate_descent.py:530: ConvergenceWarning: Objective did not converge. You might want to increase the number of iterations. Duality gap: 2722171587.8571777, tolerance: 27753996.43382223\n",
      "  model = cd_fast.enet_coordinate_descent(\n"
     ]
    },
    {
     "name": "stdout",
     "output_type": "stream",
     "text": [
      "running model\n",
      "running model\n",
      "running model\n",
      "running model\n",
      "running model\n",
      "running model\n"
     ]
    },
    {
     "data": {
      "text/html": [
       "<div>\n",
       "<style scoped>\n",
       "    .dataframe tbody tr th:only-of-type {\n",
       "        vertical-align: middle;\n",
       "    }\n",
       "\n",
       "    .dataframe tbody tr th {\n",
       "        vertical-align: top;\n",
       "    }\n",
       "\n",
       "    .dataframe thead th {\n",
       "        text-align: right;\n",
       "    }\n",
       "</style>\n",
       "<table border=\"1\" class=\"dataframe\">\n",
       "  <thead>\n",
       "    <tr style=\"text-align: right;\">\n",
       "      <th></th>\n",
       "      <th>Regression Method</th>\n",
       "      <th>Train Accuracy</th>\n",
       "      <th>Test Accuracy</th>\n",
       "    </tr>\n",
       "  </thead>\n",
       "  <tbody>\n",
       "    <tr>\n",
       "      <th>1</th>\n",
       "      <td>Linear Regression</td>\n",
       "      <td>0.293443</td>\n",
       "      <td>0.351313</td>\n",
       "    </tr>\n",
       "    <tr>\n",
       "      <th>2</th>\n",
       "      <td>Linear Regression + Lasso</td>\n",
       "      <td>0.293438</td>\n",
       "      <td>0.350799</td>\n",
       "    </tr>\n",
       "    <tr>\n",
       "      <th>3</th>\n",
       "      <td>Linear Regression + Ridge</td>\n",
       "      <td>0.293007</td>\n",
       "      <td>0.343280</td>\n",
       "    </tr>\n",
       "    <tr>\n",
       "      <th>4</th>\n",
       "      <td>kNN</td>\n",
       "      <td>0.452499</td>\n",
       "      <td>0.409730</td>\n",
       "    </tr>\n",
       "    <tr>\n",
       "      <th>5</th>\n",
       "      <td>Decision Tree</td>\n",
       "      <td>0.999985</td>\n",
       "      <td>0.166950</td>\n",
       "    </tr>\n",
       "    <tr>\n",
       "      <th>6</th>\n",
       "      <td>Random Forest</td>\n",
       "      <td>0.908772</td>\n",
       "      <td>0.501970</td>\n",
       "    </tr>\n",
       "    <tr>\n",
       "      <th>7</th>\n",
       "      <td>Gradient Boosting Method</td>\n",
       "      <td>0.804372</td>\n",
       "      <td>0.380515</td>\n",
       "    </tr>\n",
       "  </tbody>\n",
       "</table>\n",
       "</div>"
      ],
      "text/plain": [
       "           Regression Method  Train Accuracy  Test Accuracy\n",
       "1          Linear Regression        0.293443       0.351313\n",
       "2  Linear Regression + Lasso        0.293438       0.350799\n",
       "3  Linear Regression + Ridge        0.293007       0.343280\n",
       "4                        kNN        0.452499       0.409730\n",
       "5              Decision Tree        0.999985       0.166950\n",
       "6              Random Forest        0.908772       0.501970\n",
       "7   Gradient Boosting Method        0.804372       0.380515"
      ]
     },
     "execution_count": 837,
     "metadata": {},
     "output_type": "execute_result"
    }
   ],
   "source": [
    "X_train_0_1, X_test_0_1, y_train_0_1, y_test_0_1 = train_test_split(\n",
    "    dff, df_target, test_size=0.20)\n",
    "\n",
    "\n",
    "LR = LinearRegression()\n",
    "LR.fit(X_train_0_1, y_train_0_1)\n",
    "print('running model')\n",
    "\n",
    "Lasso1 = Lasso()\n",
    "Lasso1.fit(X_train_0_1, y_train_0_1)\n",
    "print('running model')\n",
    "\n",
    "Ridge1 = Ridge()\n",
    "Ridge1.fit(X_train_0_1, y_train_0_1)\n",
    "print('running model')\n",
    "\n",
    "kNN = KNeighborsRegressor() \n",
    "kNN.fit(X_train_0_1,y_train_0_1)\n",
    "print('running model')\n",
    "\n",
    "DT = DecisionTreeRegressor(random_state=1337) \n",
    "DT.fit(X_train_0_1,y_train_0_1)\n",
    "print('running model')\n",
    "\n",
    "#RF = RandomForestRegressor(n_estimators = 100) \n",
    "RF = RandomForestRegressor(random_state=1337) \n",
    "RF.fit(X_train_0_1,y_train_0_1)\n",
    "print('running model')\n",
    "\n",
    "\n",
    "# GBM = GradientBoostingRegressor(max_depth = 5, learning_rate=.1) \n",
    "GBM = GradientBoostingRegressor(random_state=1337) \n",
    "GBM.fit(X_train_0_1,y_train_0_1)\n",
    "print('running model')\n",
    "\n",
    "\n",
    "cols = ['Regression Method','Train Accuracy', 'Test Accuracy']\n",
    "df_0_1 = pd.DataFrame(columns=cols)\n",
    "\n",
    "\n",
    "df_0_1.loc[1] = ['Linear Regression', LR.score(X_train_0_1, y_train_0_1), \n",
    "                 LR.score(X_test_0_1, y_test_0_1)]\n",
    "\n",
    "df_0_1.loc[2] = ['Linear Regression + Lasso', \n",
    "                 Lasso1.score(X_train_0_1, y_train_0_1), \n",
    "                 Lasso1.score(X_test_0_1, y_test_0_1)]\n",
    "\n",
    "df_0_1.loc[3] = ['Linear Regression + Ridge', \n",
    "                 Ridge1.score(X_train_0_1, y_train_0_1), \n",
    "                 Ridge1.score(X_test_0_1, y_test_0_1)]\n",
    "\n",
    "df_0_1.loc[4] = ['kNN', kNN.score(X_train_0_1, y_train_0_1), \n",
    "                 kNN.score(X_test_0_1, y_test_0_1)]\n",
    "\n",
    "df_0_1.loc[5] = ['Decision Tree',DT.score(X_train_0_1, y_train_0_1),\n",
    "                 DT.score(X_test_0_1, y_test_0_1)]\n",
    "\n",
    "df_0_1.loc[6] = ['Random Forest',RF.score(X_train_0_1, y_train_0_1), \n",
    "                 RF.score(X_test_0_1, y_test_0_1)]\n",
    "\n",
    "df_0_1.loc[7] = ['Gradient Boosting Method',\n",
    "                 GBM.score(X_train_0_1, y_train_0_1), \n",
    "                 GBM.score(X_test_0_1, y_test_0_1)]\n",
    "\n",
    "df_0_1"
   ]
  },
  {
   "cell_type": "code",
   "execution_count": 842,
   "id": "lightweight-permission",
   "metadata": {
    "ExecuteTime": {
     "end_time": "2021-05-05T18:02:16.150044Z",
     "start_time": "2021-05-05T18:02:11.513743Z"
    }
   },
   "outputs": [
    {
     "name": "stdout",
     "output_type": "stream",
     "text": [
      "0.23635261961959012\n",
      "0.8570821018425043\n"
     ]
    }
   ],
   "source": [
    "scores = []\n",
    "train = []\n",
    "for i in range(10):\n",
    "    X_train_0_1, X_test_0_1, y_train_0_1, y_test_0_1 = train_test_split(\n",
    "        dff, df_target, test_size=0.25, random_state=i)\n",
    "\n",
    "    # GBM = GradientBoostingRegressor(max_depth = 5, learning_rate=.1) \n",
    "    GBM = GradientBoostingRegressor()\n",
    "    GBM.fit(X_train_0_1,y_train_0_1)\n",
    "    scores.append(GBM.score(X_test_0_1, y_test_0_1))\n",
    "    train.append(GBM.score(X_train_0_1, y_train_0_1))\n",
    "\n",
    "scores\n",
    "print(sum(scores)/len(scores))\n",
    "print(sum(train)/len(train))"
   ]
  },
  {
   "cell_type": "code",
   "execution_count": 814,
   "id": "skilled-german",
   "metadata": {
    "ExecuteTime": {
     "end_time": "2021-05-05T17:49:33.348235Z",
     "start_time": "2021-05-05T17:49:33.340749Z"
    }
   },
   "outputs": [
    {
     "data": {
      "text/plain": [
       "[0.8455836187547815,\n",
       " 0.9047625893580906,\n",
       " 0.8385308053700706,\n",
       " 0.8493035954322635,\n",
       " 0.8496568948170626,\n",
       " 0.8913109292004702,\n",
       " 0.8882549137662142,\n",
       " 0.8727977121649921,\n",
       " 0.8097096833022419,\n",
       " 0.8343014676697015]"
      ]
     },
     "execution_count": 814,
     "metadata": {},
     "output_type": "execute_result"
    }
   ],
   "source": [
    "train"
   ]
  },
  {
   "cell_type": "code",
   "execution_count": 786,
   "id": "premier-fault",
   "metadata": {
    "ExecuteTime": {
     "end_time": "2021-05-05T17:14:42.050368Z",
     "start_time": "2021-05-05T17:14:19.662515Z"
    }
   },
   "outputs": [
    {
     "name": "stdout",
     "output_type": "stream",
     "text": [
      "[-0.51811386  0.47779663  0.35201667  0.10785052  0.38050865  0.39292792\n",
      "  0.04778128 -0.03260602  0.30062653 -0.29251289]\n",
      "0.12 accuracy with a standard deviation of 0.31\n"
     ]
    }
   ],
   "source": [
    "from sklearn.model_selection import cross_val_score\n",
    "\n",
    "scores = cross_val_score(RF, df_features, df_target, cv=10)\n",
    "print(scores)\n",
    "print(\"%0.2f accuracy with a standard deviation of %0.2f\" % (scores.mean(), scores.std()))"
   ]
  },
  {
   "cell_type": "code",
   "execution_count": 780,
   "id": "understanding-bronze",
   "metadata": {
    "ExecuteTime": {
     "end_time": "2021-05-05T16:55:43.863246Z",
     "start_time": "2021-05-05T16:55:42.355203Z"
    }
   },
   "outputs": [
    {
     "name": "stdout",
     "output_type": "stream",
     "text": [
      "Fitting 5 folds for each of 42 candidates, totalling 210 fits\n"
     ]
    },
    {
     "ename": "ValueError",
     "evalue": "Invalid parameter learning_rate for estimator DecisionTreeRegressor(). Check the list of available parameters with `estimator.get_params().keys()`.",
     "output_type": "error",
     "traceback": [
      "\u001b[0;31m---------------------------------------------------------------------------\u001b[0m",
      "\u001b[0;31m_RemoteTraceback\u001b[0m                          Traceback (most recent call last)",
      "\u001b[0;31m_RemoteTraceback\u001b[0m: \n\"\"\"\nTraceback (most recent call last):\n  File \"/opt/conda/lib/python3.8/site-packages/joblib/externals/loky/process_executor.py\", line 431, in _process_worker\n    r = call_item()\n  File \"/opt/conda/lib/python3.8/site-packages/joblib/externals/loky/process_executor.py\", line 285, in __call__\n    return self.fn(*self.args, **self.kwargs)\n  File \"/opt/conda/lib/python3.8/site-packages/joblib/_parallel_backends.py\", line 595, in __call__\n    return self.func(*args, **kwargs)\n  File \"/opt/conda/lib/python3.8/site-packages/joblib/parallel.py\", line 262, in __call__\n    return [func(*args, **kwargs)\n  File \"/opt/conda/lib/python3.8/site-packages/joblib/parallel.py\", line 262, in <listcomp>\n    return [func(*args, **kwargs)\n  File \"/opt/conda/lib/python3.8/site-packages/sklearn/utils/fixes.py\", line 222, in __call__\n    return self.function(*args, **kwargs)\n  File \"/opt/conda/lib/python3.8/site-packages/sklearn/model_selection/_validation.py\", line 581, in _fit_and_score\n    estimator = estimator.set_params(**cloned_parameters)\n  File \"/opt/conda/lib/python3.8/site-packages/sklearn/base.py\", line 230, in set_params\n    raise ValueError('Invalid parameter %s for estimator %s. '\nValueError: Invalid parameter learning_rate for estimator DecisionTreeRegressor(). Check the list of available parameters with `estimator.get_params().keys()`.\n\"\"\"",
      "\nThe above exception was the direct cause of the following exception:\n",
      "\u001b[0;31mValueError\u001b[0m                                Traceback (most recent call last)",
      "\u001b[0;32m<ipython-input-780-d6602671ef9a>\u001b[0m in \u001b[0;36m<module>\u001b[0;34m\u001b[0m\n\u001b[1;32m      5\u001b[0m \u001b[0mgbm\u001b[0m \u001b[0;34m=\u001b[0m \u001b[0mDecisionTreeRegressor\u001b[0m\u001b[0;34m(\u001b[0m\u001b[0;34m)\u001b[0m\u001b[0;34m\u001b[0m\u001b[0;34m\u001b[0m\u001b[0m\n\u001b[1;32m      6\u001b[0m \u001b[0mgrid_gbm\u001b[0m \u001b[0;34m=\u001b[0m \u001b[0mGridSearchCV\u001b[0m\u001b[0;34m(\u001b[0m\u001b[0mgbm\u001b[0m\u001b[0;34m,\u001b[0m \u001b[0mparam_grid\u001b[0m\u001b[0;34m=\u001b[0m\u001b[0mparams_gbm\u001b[0m\u001b[0;34m,\u001b[0m \u001b[0mn_jobs\u001b[0m\u001b[0;34m=\u001b[0m\u001b[0;34m-\u001b[0m\u001b[0;36m1\u001b[0m\u001b[0;34m,\u001b[0m \u001b[0mverbose\u001b[0m\u001b[0;34m=\u001b[0m\u001b[0;36m20\u001b[0m\u001b[0;34m)\u001b[0m\u001b[0;34m\u001b[0m\u001b[0;34m\u001b[0m\u001b[0m\n\u001b[0;32m----> 7\u001b[0;31m \u001b[0mgrid_gbm\u001b[0m\u001b[0;34m.\u001b[0m\u001b[0mfit\u001b[0m\u001b[0;34m(\u001b[0m\u001b[0mX_train_0_1\u001b[0m\u001b[0;34m,\u001b[0m \u001b[0my_train_0_1\u001b[0m\u001b[0;34m)\u001b[0m\u001b[0;34m\u001b[0m\u001b[0;34m\u001b[0m\u001b[0m\n\u001b[0m\u001b[1;32m      8\u001b[0m \u001b[0;34m\u001b[0m\u001b[0m\n\u001b[1;32m      9\u001b[0m \u001b[0mprint\u001b[0m\u001b[0;34m(\u001b[0m\u001b[0;34m'Best Score:'\u001b[0m\u001b[0;34m,\u001b[0m \u001b[0mgrid_gbm\u001b[0m\u001b[0;34m.\u001b[0m\u001b[0mbest_score_\u001b[0m\u001b[0;34m)\u001b[0m\u001b[0;34m\u001b[0m\u001b[0;34m\u001b[0m\u001b[0m\n",
      "\u001b[0;32m/opt/conda/lib/python3.8/site-packages/sklearn/utils/validation.py\u001b[0m in \u001b[0;36minner_f\u001b[0;34m(*args, **kwargs)\u001b[0m\n\u001b[1;32m     61\u001b[0m             \u001b[0mextra_args\u001b[0m \u001b[0;34m=\u001b[0m \u001b[0mlen\u001b[0m\u001b[0;34m(\u001b[0m\u001b[0margs\u001b[0m\u001b[0;34m)\u001b[0m \u001b[0;34m-\u001b[0m \u001b[0mlen\u001b[0m\u001b[0;34m(\u001b[0m\u001b[0mall_args\u001b[0m\u001b[0;34m)\u001b[0m\u001b[0;34m\u001b[0m\u001b[0;34m\u001b[0m\u001b[0m\n\u001b[1;32m     62\u001b[0m             \u001b[0;32mif\u001b[0m \u001b[0mextra_args\u001b[0m \u001b[0;34m<=\u001b[0m \u001b[0;36m0\u001b[0m\u001b[0;34m:\u001b[0m\u001b[0;34m\u001b[0m\u001b[0;34m\u001b[0m\u001b[0m\n\u001b[0;32m---> 63\u001b[0;31m                 \u001b[0;32mreturn\u001b[0m \u001b[0mf\u001b[0m\u001b[0;34m(\u001b[0m\u001b[0;34m*\u001b[0m\u001b[0margs\u001b[0m\u001b[0;34m,\u001b[0m \u001b[0;34m**\u001b[0m\u001b[0mkwargs\u001b[0m\u001b[0;34m)\u001b[0m\u001b[0;34m\u001b[0m\u001b[0;34m\u001b[0m\u001b[0m\n\u001b[0m\u001b[1;32m     64\u001b[0m \u001b[0;34m\u001b[0m\u001b[0m\n\u001b[1;32m     65\u001b[0m             \u001b[0;31m# extra_args > 0\u001b[0m\u001b[0;34m\u001b[0m\u001b[0;34m\u001b[0m\u001b[0;34m\u001b[0m\u001b[0m\n",
      "\u001b[0;32m/opt/conda/lib/python3.8/site-packages/sklearn/model_selection/_search.py\u001b[0m in \u001b[0;36mfit\u001b[0;34m(self, X, y, groups, **fit_params)\u001b[0m\n\u001b[1;32m    839\u001b[0m                 \u001b[0;32mreturn\u001b[0m \u001b[0mresults\u001b[0m\u001b[0;34m\u001b[0m\u001b[0;34m\u001b[0m\u001b[0m\n\u001b[1;32m    840\u001b[0m \u001b[0;34m\u001b[0m\u001b[0m\n\u001b[0;32m--> 841\u001b[0;31m             \u001b[0mself\u001b[0m\u001b[0;34m.\u001b[0m\u001b[0m_run_search\u001b[0m\u001b[0;34m(\u001b[0m\u001b[0mevaluate_candidates\u001b[0m\u001b[0;34m)\u001b[0m\u001b[0;34m\u001b[0m\u001b[0;34m\u001b[0m\u001b[0m\n\u001b[0m\u001b[1;32m    842\u001b[0m \u001b[0;34m\u001b[0m\u001b[0m\n\u001b[1;32m    843\u001b[0m             \u001b[0;31m# multimetric is determined here because in the case of a callable\u001b[0m\u001b[0;34m\u001b[0m\u001b[0;34m\u001b[0m\u001b[0;34m\u001b[0m\u001b[0m\n",
      "\u001b[0;32m/opt/conda/lib/python3.8/site-packages/sklearn/model_selection/_search.py\u001b[0m in \u001b[0;36m_run_search\u001b[0;34m(self, evaluate_candidates)\u001b[0m\n\u001b[1;32m   1286\u001b[0m     \u001b[0;32mdef\u001b[0m \u001b[0m_run_search\u001b[0m\u001b[0;34m(\u001b[0m\u001b[0mself\u001b[0m\u001b[0;34m,\u001b[0m \u001b[0mevaluate_candidates\u001b[0m\u001b[0;34m)\u001b[0m\u001b[0;34m:\u001b[0m\u001b[0;34m\u001b[0m\u001b[0;34m\u001b[0m\u001b[0m\n\u001b[1;32m   1287\u001b[0m         \u001b[0;34m\"\"\"Search all candidates in param_grid\"\"\"\u001b[0m\u001b[0;34m\u001b[0m\u001b[0;34m\u001b[0m\u001b[0m\n\u001b[0;32m-> 1288\u001b[0;31m         \u001b[0mevaluate_candidates\u001b[0m\u001b[0;34m(\u001b[0m\u001b[0mParameterGrid\u001b[0m\u001b[0;34m(\u001b[0m\u001b[0mself\u001b[0m\u001b[0;34m.\u001b[0m\u001b[0mparam_grid\u001b[0m\u001b[0;34m)\u001b[0m\u001b[0;34m)\u001b[0m\u001b[0;34m\u001b[0m\u001b[0;34m\u001b[0m\u001b[0m\n\u001b[0m\u001b[1;32m   1289\u001b[0m \u001b[0;34m\u001b[0m\u001b[0m\n\u001b[1;32m   1290\u001b[0m \u001b[0;34m\u001b[0m\u001b[0m\n",
      "\u001b[0;32m/opt/conda/lib/python3.8/site-packages/sklearn/model_selection/_search.py\u001b[0m in \u001b[0;36mevaluate_candidates\u001b[0;34m(candidate_params, cv, more_results)\u001b[0m\n\u001b[1;32m    793\u001b[0m                               n_splits, n_candidates, n_candidates * n_splits))\n\u001b[1;32m    794\u001b[0m \u001b[0;34m\u001b[0m\u001b[0m\n\u001b[0;32m--> 795\u001b[0;31m                 out = parallel(delayed(_fit_and_score)(clone(base_estimator),\n\u001b[0m\u001b[1;32m    796\u001b[0m                                                        \u001b[0mX\u001b[0m\u001b[0;34m,\u001b[0m \u001b[0my\u001b[0m\u001b[0;34m,\u001b[0m\u001b[0;34m\u001b[0m\u001b[0;34m\u001b[0m\u001b[0m\n\u001b[1;32m    797\u001b[0m                                                        \u001b[0mtrain\u001b[0m\u001b[0;34m=\u001b[0m\u001b[0mtrain\u001b[0m\u001b[0;34m,\u001b[0m \u001b[0mtest\u001b[0m\u001b[0;34m=\u001b[0m\u001b[0mtest\u001b[0m\u001b[0;34m,\u001b[0m\u001b[0;34m\u001b[0m\u001b[0;34m\u001b[0m\u001b[0m\n",
      "\u001b[0;32m/opt/conda/lib/python3.8/site-packages/joblib/parallel.py\u001b[0m in \u001b[0;36m__call__\u001b[0;34m(self, iterable)\u001b[0m\n\u001b[1;32m   1052\u001b[0m \u001b[0;34m\u001b[0m\u001b[0m\n\u001b[1;32m   1053\u001b[0m             \u001b[0;32mwith\u001b[0m \u001b[0mself\u001b[0m\u001b[0;34m.\u001b[0m\u001b[0m_backend\u001b[0m\u001b[0;34m.\u001b[0m\u001b[0mretrieval_context\u001b[0m\u001b[0;34m(\u001b[0m\u001b[0;34m)\u001b[0m\u001b[0;34m:\u001b[0m\u001b[0;34m\u001b[0m\u001b[0;34m\u001b[0m\u001b[0m\n\u001b[0;32m-> 1054\u001b[0;31m                 \u001b[0mself\u001b[0m\u001b[0;34m.\u001b[0m\u001b[0mretrieve\u001b[0m\u001b[0;34m(\u001b[0m\u001b[0;34m)\u001b[0m\u001b[0;34m\u001b[0m\u001b[0;34m\u001b[0m\u001b[0m\n\u001b[0m\u001b[1;32m   1055\u001b[0m             \u001b[0;31m# Make sure that we get a last message telling us we are done\u001b[0m\u001b[0;34m\u001b[0m\u001b[0;34m\u001b[0m\u001b[0;34m\u001b[0m\u001b[0m\n\u001b[1;32m   1056\u001b[0m             \u001b[0melapsed_time\u001b[0m \u001b[0;34m=\u001b[0m \u001b[0mtime\u001b[0m\u001b[0;34m.\u001b[0m\u001b[0mtime\u001b[0m\u001b[0;34m(\u001b[0m\u001b[0;34m)\u001b[0m \u001b[0;34m-\u001b[0m \u001b[0mself\u001b[0m\u001b[0;34m.\u001b[0m\u001b[0m_start_time\u001b[0m\u001b[0;34m\u001b[0m\u001b[0;34m\u001b[0m\u001b[0m\n",
      "\u001b[0;32m/opt/conda/lib/python3.8/site-packages/joblib/parallel.py\u001b[0m in \u001b[0;36mretrieve\u001b[0;34m(self)\u001b[0m\n\u001b[1;32m    931\u001b[0m             \u001b[0;32mtry\u001b[0m\u001b[0;34m:\u001b[0m\u001b[0;34m\u001b[0m\u001b[0;34m\u001b[0m\u001b[0m\n\u001b[1;32m    932\u001b[0m                 \u001b[0;32mif\u001b[0m \u001b[0mgetattr\u001b[0m\u001b[0;34m(\u001b[0m\u001b[0mself\u001b[0m\u001b[0;34m.\u001b[0m\u001b[0m_backend\u001b[0m\u001b[0;34m,\u001b[0m \u001b[0;34m'supports_timeout'\u001b[0m\u001b[0;34m,\u001b[0m \u001b[0;32mFalse\u001b[0m\u001b[0;34m)\u001b[0m\u001b[0;34m:\u001b[0m\u001b[0;34m\u001b[0m\u001b[0;34m\u001b[0m\u001b[0m\n\u001b[0;32m--> 933\u001b[0;31m                     \u001b[0mself\u001b[0m\u001b[0;34m.\u001b[0m\u001b[0m_output\u001b[0m\u001b[0;34m.\u001b[0m\u001b[0mextend\u001b[0m\u001b[0;34m(\u001b[0m\u001b[0mjob\u001b[0m\u001b[0;34m.\u001b[0m\u001b[0mget\u001b[0m\u001b[0;34m(\u001b[0m\u001b[0mtimeout\u001b[0m\u001b[0;34m=\u001b[0m\u001b[0mself\u001b[0m\u001b[0;34m.\u001b[0m\u001b[0mtimeout\u001b[0m\u001b[0;34m)\u001b[0m\u001b[0;34m)\u001b[0m\u001b[0;34m\u001b[0m\u001b[0;34m\u001b[0m\u001b[0m\n\u001b[0m\u001b[1;32m    934\u001b[0m                 \u001b[0;32melse\u001b[0m\u001b[0;34m:\u001b[0m\u001b[0;34m\u001b[0m\u001b[0;34m\u001b[0m\u001b[0m\n\u001b[1;32m    935\u001b[0m                     \u001b[0mself\u001b[0m\u001b[0;34m.\u001b[0m\u001b[0m_output\u001b[0m\u001b[0;34m.\u001b[0m\u001b[0mextend\u001b[0m\u001b[0;34m(\u001b[0m\u001b[0mjob\u001b[0m\u001b[0;34m.\u001b[0m\u001b[0mget\u001b[0m\u001b[0;34m(\u001b[0m\u001b[0;34m)\u001b[0m\u001b[0;34m)\u001b[0m\u001b[0;34m\u001b[0m\u001b[0;34m\u001b[0m\u001b[0m\n",
      "\u001b[0;32m/opt/conda/lib/python3.8/site-packages/joblib/_parallel_backends.py\u001b[0m in \u001b[0;36mwrap_future_result\u001b[0;34m(future, timeout)\u001b[0m\n\u001b[1;32m    540\u001b[0m         AsyncResults.get from multiprocessing.\"\"\"\n\u001b[1;32m    541\u001b[0m         \u001b[0;32mtry\u001b[0m\u001b[0;34m:\u001b[0m\u001b[0;34m\u001b[0m\u001b[0;34m\u001b[0m\u001b[0m\n\u001b[0;32m--> 542\u001b[0;31m             \u001b[0;32mreturn\u001b[0m \u001b[0mfuture\u001b[0m\u001b[0;34m.\u001b[0m\u001b[0mresult\u001b[0m\u001b[0;34m(\u001b[0m\u001b[0mtimeout\u001b[0m\u001b[0;34m=\u001b[0m\u001b[0mtimeout\u001b[0m\u001b[0;34m)\u001b[0m\u001b[0;34m\u001b[0m\u001b[0;34m\u001b[0m\u001b[0m\n\u001b[0m\u001b[1;32m    543\u001b[0m         \u001b[0;32mexcept\u001b[0m \u001b[0mCfTimeoutError\u001b[0m \u001b[0;32mas\u001b[0m \u001b[0me\u001b[0m\u001b[0;34m:\u001b[0m\u001b[0;34m\u001b[0m\u001b[0;34m\u001b[0m\u001b[0m\n\u001b[1;32m    544\u001b[0m             \u001b[0;32mraise\u001b[0m \u001b[0mTimeoutError\u001b[0m \u001b[0;32mfrom\u001b[0m \u001b[0me\u001b[0m\u001b[0;34m\u001b[0m\u001b[0;34m\u001b[0m\u001b[0m\n",
      "\u001b[0;32m/opt/conda/lib/python3.8/concurrent/futures/_base.py\u001b[0m in \u001b[0;36mresult\u001b[0;34m(self, timeout)\u001b[0m\n\u001b[1;32m    437\u001b[0m                 \u001b[0;32mraise\u001b[0m \u001b[0mCancelledError\u001b[0m\u001b[0;34m(\u001b[0m\u001b[0;34m)\u001b[0m\u001b[0;34m\u001b[0m\u001b[0;34m\u001b[0m\u001b[0m\n\u001b[1;32m    438\u001b[0m             \u001b[0;32melif\u001b[0m \u001b[0mself\u001b[0m\u001b[0;34m.\u001b[0m\u001b[0m_state\u001b[0m \u001b[0;34m==\u001b[0m \u001b[0mFINISHED\u001b[0m\u001b[0;34m:\u001b[0m\u001b[0;34m\u001b[0m\u001b[0;34m\u001b[0m\u001b[0m\n\u001b[0;32m--> 439\u001b[0;31m                 \u001b[0;32mreturn\u001b[0m \u001b[0mself\u001b[0m\u001b[0;34m.\u001b[0m\u001b[0m__get_result\u001b[0m\u001b[0;34m(\u001b[0m\u001b[0;34m)\u001b[0m\u001b[0;34m\u001b[0m\u001b[0;34m\u001b[0m\u001b[0m\n\u001b[0m\u001b[1;32m    440\u001b[0m             \u001b[0;32melse\u001b[0m\u001b[0;34m:\u001b[0m\u001b[0;34m\u001b[0m\u001b[0;34m\u001b[0m\u001b[0m\n\u001b[1;32m    441\u001b[0m                 \u001b[0;32mraise\u001b[0m \u001b[0mTimeoutError\u001b[0m\u001b[0;34m(\u001b[0m\u001b[0;34m)\u001b[0m\u001b[0;34m\u001b[0m\u001b[0;34m\u001b[0m\u001b[0m\n",
      "\u001b[0;32m/opt/conda/lib/python3.8/concurrent/futures/_base.py\u001b[0m in \u001b[0;36m__get_result\u001b[0;34m(self)\u001b[0m\n\u001b[1;32m    386\u001b[0m     \u001b[0;32mdef\u001b[0m \u001b[0m__get_result\u001b[0m\u001b[0;34m(\u001b[0m\u001b[0mself\u001b[0m\u001b[0;34m)\u001b[0m\u001b[0;34m:\u001b[0m\u001b[0;34m\u001b[0m\u001b[0;34m\u001b[0m\u001b[0m\n\u001b[1;32m    387\u001b[0m         \u001b[0;32mif\u001b[0m \u001b[0mself\u001b[0m\u001b[0;34m.\u001b[0m\u001b[0m_exception\u001b[0m\u001b[0;34m:\u001b[0m\u001b[0;34m\u001b[0m\u001b[0;34m\u001b[0m\u001b[0m\n\u001b[0;32m--> 388\u001b[0;31m             \u001b[0;32mraise\u001b[0m \u001b[0mself\u001b[0m\u001b[0;34m.\u001b[0m\u001b[0m_exception\u001b[0m\u001b[0;34m\u001b[0m\u001b[0;34m\u001b[0m\u001b[0m\n\u001b[0m\u001b[1;32m    389\u001b[0m         \u001b[0;32melse\u001b[0m\u001b[0;34m:\u001b[0m\u001b[0;34m\u001b[0m\u001b[0;34m\u001b[0m\u001b[0m\n\u001b[1;32m    390\u001b[0m             \u001b[0;32mreturn\u001b[0m \u001b[0mself\u001b[0m\u001b[0;34m.\u001b[0m\u001b[0m_result\u001b[0m\u001b[0;34m\u001b[0m\u001b[0;34m\u001b[0m\u001b[0m\n",
      "\u001b[0;31mValueError\u001b[0m: Invalid parameter learning_rate for estimator DecisionTreeRegressor(). Check the list of available parameters with `estimator.get_params().keys()`."
     ]
    }
   ],
   "source": [
    "params_gbm = {\n",
    "    'max_depth':[8, 10, 12, 14, 16, 18],\n",
    "    'learning_rate':[0.05, 0.1, .2, .3, .4, .5, .6]\n",
    "}\n",
    "gbm = DecisionTreeRegressor()\n",
    "grid_gbm = GridSearchCV(gbm, param_grid=params_gbm, n_jobs=-1, verbose=20)\n",
    "grid_gbm.fit(X_train_0_1, y_train_0_1)\n",
    "\n",
    "print('Best Score:', grid_gbm.best_score_)\n",
    "print('Best Parameters:', grid_gbm.best_params_)"
   ]
  },
  {
   "cell_type": "code",
   "execution_count": null,
   "id": "recovered-plasma",
   "metadata": {},
   "outputs": [],
   "source": []
  },
  {
   "cell_type": "code",
   "execution_count": 22,
   "id": "handled-comment",
   "metadata": {
    "ExecuteTime": {
     "end_time": "2021-04-28T19:58:49.195243Z",
     "start_time": "2021-04-28T19:58:49.192259Z"
    }
   },
   "outputs": [],
   "source": [
    "# # print('Best Score:', grid_gbm.best_score_)\n",
    "# print('Best Parameters:', grid_gbm.best_params_)"
   ]
  },
  {
   "cell_type": "code",
   "execution_count": 749,
   "id": "smoking-panama",
   "metadata": {
    "ExecuteTime": {
     "end_time": "2021-05-05T16:16:25.290922Z",
     "start_time": "2021-05-05T16:16:20.113349Z"
    }
   },
   "outputs": [
    {
     "data": {
      "text/html": [
       "<div>\n",
       "<style scoped>\n",
       "    .dataframe tbody tr th:only-of-type {\n",
       "        vertical-align: middle;\n",
       "    }\n",
       "\n",
       "    .dataframe tbody tr th {\n",
       "        vertical-align: top;\n",
       "    }\n",
       "\n",
       "    .dataframe thead th {\n",
       "        text-align: right;\n",
       "    }\n",
       "</style>\n",
       "<table border=\"1\" class=\"dataframe\">\n",
       "  <thead>\n",
       "    <tr style=\"text-align: right;\">\n",
       "      <th></th>\n",
       "      <th>Learning Rate</th>\n",
       "      <th>Train Accuracy</th>\n",
       "      <th>Test Accuracy</th>\n",
       "    </tr>\n",
       "  </thead>\n",
       "  <tbody>\n",
       "    <tr>\n",
       "      <th>0</th>\n",
       "      <td>0.1</td>\n",
       "      <td>0.852654</td>\n",
       "      <td>0.360318</td>\n",
       "    </tr>\n",
       "    <tr>\n",
       "      <th>1</th>\n",
       "      <td>0.2</td>\n",
       "      <td>0.923702</td>\n",
       "      <td>0.432804</td>\n",
       "    </tr>\n",
       "    <tr>\n",
       "      <th>2</th>\n",
       "      <td>0.3</td>\n",
       "      <td>0.948891</td>\n",
       "      <td>0.399880</td>\n",
       "    </tr>\n",
       "    <tr>\n",
       "      <th>3</th>\n",
       "      <td>0.4</td>\n",
       "      <td>0.964820</td>\n",
       "      <td>0.334131</td>\n",
       "    </tr>\n",
       "    <tr>\n",
       "      <th>4</th>\n",
       "      <td>0.5</td>\n",
       "      <td>0.955337</td>\n",
       "      <td>0.179081</td>\n",
       "    </tr>\n",
       "    <tr>\n",
       "      <th>5</th>\n",
       "      <td>0.6</td>\n",
       "      <td>0.973632</td>\n",
       "      <td>0.368886</td>\n",
       "    </tr>\n",
       "    <tr>\n",
       "      <th>6</th>\n",
       "      <td>0.7</td>\n",
       "      <td>0.974129</td>\n",
       "      <td>0.361285</td>\n",
       "    </tr>\n",
       "    <tr>\n",
       "      <th>7</th>\n",
       "      <td>0.8</td>\n",
       "      <td>0.976732</td>\n",
       "      <td>0.119298</td>\n",
       "    </tr>\n",
       "    <tr>\n",
       "      <th>8</th>\n",
       "      <td>0.9</td>\n",
       "      <td>0.981044</td>\n",
       "      <td>0.428356</td>\n",
       "    </tr>\n",
       "    <tr>\n",
       "      <th>9</th>\n",
       "      <td>1.0</td>\n",
       "      <td>0.980799</td>\n",
       "      <td>0.335532</td>\n",
       "    </tr>\n",
       "  </tbody>\n",
       "</table>\n",
       "</div>"
      ],
      "text/plain": [
       "   Learning Rate  Train Accuracy  Test Accuracy\n",
       "0            0.1        0.852654       0.360318\n",
       "1            0.2        0.923702       0.432804\n",
       "2            0.3        0.948891       0.399880\n",
       "3            0.4        0.964820       0.334131\n",
       "4            0.5        0.955337       0.179081\n",
       "5            0.6        0.973632       0.368886\n",
       "6            0.7        0.974129       0.361285\n",
       "7            0.8        0.976732       0.119298\n",
       "8            0.9        0.981044       0.428356\n",
       "9            1.0        0.980799       0.335532"
      ]
     },
     "execution_count": 749,
     "metadata": {},
     "output_type": "execute_result"
    }
   ],
   "source": [
    "cols = ['Learning Rate','Train Accuracy', 'Test Accuracy']\n",
    "df_0_1 = pd.DataFrame(columns=cols)\n",
    "\n",
    "for i, y in zip((np.linspace(0.1, 1, 10)), range(10)):\n",
    "    GBM = GradientBoostingRegressor(learning_rate=i, random_state=1337) \n",
    "    GBM.fit(X_train_0_1,y_train_0_1)\n",
    "\n",
    "    df_0_1.loc[y] = [i,\n",
    "                     GBM.score(X_train_0_1, y_train_0_1), \n",
    "                     GBM.score(X_test_0_1, y_test_0_1)]\n",
    "\n",
    "df_0_1"
   ]
  },
  {
   "cell_type": "code",
   "execution_count": 24,
   "id": "extreme-climb",
   "metadata": {
    "ExecuteTime": {
     "end_time": "2021-04-28T19:59:24.780053Z",
     "start_time": "2021-04-28T19:58:56.512958Z"
    }
   },
   "outputs": [
    {
     "data": {
      "text/plain": [
       "0.6256195959395198"
      ]
     },
     "execution_count": 24,
     "metadata": {},
     "output_type": "execute_result"
    }
   ],
   "source": [
    "cols = ['Regression Method','Train Accuracy', 'Test Accuracy']\n",
    "df_0_1 = pd.DataFrame(columns=cols)\n",
    "for i in range(1, 40):\n",
    "    GBM = GradientBoostingRegressor(learning_rate=0.9,\n",
    "                                    random_state=i,\n",
    "#                                     loss='ls',\n",
    "#                                     criterion='mse',\n",
    "#                                     min_samples_split=5\n",
    "                                   ) \n",
    "    \n",
    "    GBM.fit(X_train_0_1,y_train_0_1)\n",
    "\n",
    "    df_0_1.loc[i] = [i,\n",
    "                     GBM.score(X_train_0_1, y_train_0_1), \n",
    "                     GBM.score(X_test_0_1, y_test_0_1)]\n",
    "\n",
    "df_0_1['Test Accuracy'].mean()"
   ]
  }
 ],
 "metadata": {
  "kernelspec": {
   "display_name": "Python 3",
   "language": "python",
   "name": "python3"
  },
  "language_info": {
   "codemirror_mode": {
    "name": "ipython",
    "version": 3
   },
   "file_extension": ".py",
   "mimetype": "text/x-python",
   "name": "python",
   "nbconvert_exporter": "python",
   "pygments_lexer": "ipython3",
   "version": "3.8.8"
  }
 },
 "nbformat": 4,
 "nbformat_minor": 5
}
