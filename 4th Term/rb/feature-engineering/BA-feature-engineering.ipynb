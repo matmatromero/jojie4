{
 "cells": [
  {
   "cell_type": "code",
   "execution_count": 99,
   "id": "present-shelter",
   "metadata": {
    "ExecuteTime": {
     "end_time": "2021-04-28T09:51:29.409957Z",
     "start_time": "2021-04-28T09:51:29.404091Z"
    }
   },
   "outputs": [],
   "source": [
    "import pandas as pd\n",
    "import numpy as np\n",
    "import matplotlib.pyplot as plt\n",
    "import seaborn as sns\n",
    "from sklearn.preprocessing import LabelEncoder"
   ]
  },
  {
   "cell_type": "code",
   "execution_count": 134,
   "id": "sized-queens",
   "metadata": {
    "ExecuteTime": {
     "end_time": "2021-04-28T10:09:30.463450Z",
     "start_time": "2021-04-28T10:09:30.453792Z"
    }
   },
   "outputs": [],
   "source": [
    "from sklearn.neighbors import KNeighborsClassifier\n",
    "from sklearn.preprocessing import StandardScaler\n",
    "from sklearn.preprocessing import MinMaxScaler\n",
    "from sklearn.linear_model import LogisticRegression\n",
    "from sklearn.svm import LinearSVC\n",
    "from sklearn.linear_model import LinearRegression\n",
    "from sklearn.linear_model import Ridge\n",
    "from sklearn.linear_model import Lasso\n",
    "from sklearn.neighbors import KNeighborsRegressor\n",
    "from sklearn.tree import DecisionTreeRegressor\n",
    "from sklearn.ensemble import RandomForestRegressor\n",
    "from sklearn.ensemble import GradientBoostingRegressor\n",
    "from sklearn.ensemble import GradientBoostingClassifier\n",
    "from sklearn.ensemble import RandomForestClassifier\n",
    "from sklearn.model_selection import train_test_split"
   ]
  },
  {
   "cell_type": "code",
   "execution_count": 135,
   "id": "accessible-resource",
   "metadata": {
    "ExecuteTime": {
     "end_time": "2021-04-28T10:09:31.433872Z",
     "start_time": "2021-04-28T10:09:31.428901Z"
    }
   },
   "outputs": [],
   "source": [
    "from sklearn.model_selection import GridSearchCV"
   ]
  },
  {
   "cell_type": "code",
   "execution_count": 3,
   "id": "comprehensive-dispatch",
   "metadata": {
    "ExecuteTime": {
     "end_time": "2021-04-28T08:34:01.062363Z",
     "start_time": "2021-04-28T08:34:00.504881Z"
    }
   },
   "outputs": [],
   "source": [
    "df = pd.read_csv('sales_data.csv')"
   ]
  },
  {
   "cell_type": "code",
   "execution_count": 7,
   "id": "understanding-theater",
   "metadata": {
    "ExecuteTime": {
     "end_time": "2021-04-28T08:34:38.578290Z",
     "start_time": "2021-04-28T08:34:38.570085Z"
    }
   },
   "outputs": [
    {
     "data": {
      "text/plain": [
       "Index(['date', 'channel', 'country', 'shop_name', 'sku', 'product_name',\n",
       "       'brand', 'url', 'sap', 'cat1', 'cat2', 'cat3', 'cat4', 'cat5', 'cat6',\n",
       "       'sales', 'units_sold', 'product_views', 'click_rate', 'buyer', 'order'],\n",
       "      dtype='object')"
      ]
     },
     "execution_count": 7,
     "metadata": {},
     "output_type": "execute_result"
    }
   ],
   "source": [
    "df.columns"
   ]
  },
  {
   "cell_type": "code",
   "execution_count": 8,
   "id": "partial-testimony",
   "metadata": {
    "ExecuteTime": {
     "end_time": "2021-04-28T08:34:55.167886Z",
     "start_time": "2021-04-28T08:34:55.130205Z"
    }
   },
   "outputs": [],
   "source": [
    "df = df.drop(['cat1', 'cat2', 'cat3', 'cat4', 'cat5', 'cat6'], axis=1)"
   ]
  },
  {
   "cell_type": "code",
   "execution_count": 10,
   "id": "theoretical-bible",
   "metadata": {
    "ExecuteTime": {
     "end_time": "2021-04-28T08:35:48.610432Z",
     "start_time": "2021-04-28T08:35:48.584384Z"
    }
   },
   "outputs": [],
   "source": [
    "df = df.drop(['buyer', 'order'], axis=1)"
   ]
  },
  {
   "cell_type": "code",
   "execution_count": 12,
   "id": "according-market",
   "metadata": {
    "ExecuteTime": {
     "end_time": "2021-04-28T08:37:19.212323Z",
     "start_time": "2021-04-28T08:37:19.185786Z"
    }
   },
   "outputs": [],
   "source": [
    "df = df.drop(['country', 'url'], axis=1)"
   ]
  },
  {
   "cell_type": "code",
   "execution_count": 19,
   "id": "behind-friday",
   "metadata": {
    "ExecuteTime": {
     "end_time": "2021-04-28T08:45:47.944176Z",
     "start_time": "2021-04-28T08:45:47.912544Z"
    }
   },
   "outputs": [
    {
     "data": {
      "text/html": [
       "<div>\n",
       "<style scoped>\n",
       "    .dataframe tbody tr th:only-of-type {\n",
       "        vertical-align: middle;\n",
       "    }\n",
       "\n",
       "    .dataframe tbody tr th {\n",
       "        vertical-align: top;\n",
       "    }\n",
       "\n",
       "    .dataframe thead th {\n",
       "        text-align: right;\n",
       "    }\n",
       "</style>\n",
       "<table border=\"1\" class=\"dataframe\">\n",
       "  <thead>\n",
       "    <tr style=\"text-align: right;\">\n",
       "      <th></th>\n",
       "      <th>date</th>\n",
       "      <th>channel</th>\n",
       "      <th>shop_name</th>\n",
       "      <th>sku</th>\n",
       "      <th>product_name</th>\n",
       "      <th>brand</th>\n",
       "      <th>sap</th>\n",
       "      <th>sales</th>\n",
       "      <th>units_sold</th>\n",
       "      <th>product_views</th>\n",
       "      <th>click_rate</th>\n",
       "    </tr>\n",
       "  </thead>\n",
       "  <tbody>\n",
       "    <tr>\n",
       "      <th>0</th>\n",
       "      <td>2019-01-01</td>\n",
       "      <td>Lazada</td>\n",
       "      <td>Lazada Retail Lactum</td>\n",
       "      <td>260013061_PH-358536442</td>\n",
       "      <td>Lactum 3+ Plain Powdered Milk Drink 2kg</td>\n",
       "      <td>Lactum</td>\n",
       "      <td>2048174.0</td>\n",
       "      <td>0.0</td>\n",
       "      <td>0</td>\n",
       "      <td>25</td>\n",
       "      <td>0.00</td>\n",
       "    </tr>\n",
       "    <tr>\n",
       "      <th>1</th>\n",
       "      <td>2019-01-01</td>\n",
       "      <td>Lazada</td>\n",
       "      <td>Lazada Retail Lactum</td>\n",
       "      <td>267657810_PH-379353311</td>\n",
       "      <td>Lactum 3+ Plain Powdered Milk Drink 1.6Kg with...</td>\n",
       "      <td>Lactum</td>\n",
       "      <td>0.0</td>\n",
       "      <td>0.0</td>\n",
       "      <td>10</td>\n",
       "      <td>116</td>\n",
       "      <td>8.62</td>\n",
       "    </tr>\n",
       "    <tr>\n",
       "      <th>2</th>\n",
       "      <td>2019-01-01</td>\n",
       "      <td>Lazada</td>\n",
       "      <td>Lazada Retail Lactum</td>\n",
       "      <td>267665603_PH-379348476</td>\n",
       "      <td>Lactum 3+ Plain Powdered Milk Drink 1.2Kg with...</td>\n",
       "      <td>Lactum</td>\n",
       "      <td>0.0</td>\n",
       "      <td>0.0</td>\n",
       "      <td>1</td>\n",
       "      <td>27</td>\n",
       "      <td>3.70</td>\n",
       "    </tr>\n",
       "    <tr>\n",
       "      <th>3</th>\n",
       "      <td>2019-01-01</td>\n",
       "      <td>Lazada</td>\n",
       "      <td>Lazada Retail Lactum</td>\n",
       "      <td>267669546_PH-379343854</td>\n",
       "      <td>Lactum 3+ Plain Powdered Milk Drink 150g</td>\n",
       "      <td>Lactum</td>\n",
       "      <td>2020877.0</td>\n",
       "      <td>0.0</td>\n",
       "      <td>0</td>\n",
       "      <td>62</td>\n",
       "      <td>0.00</td>\n",
       "    </tr>\n",
       "    <tr>\n",
       "      <th>4</th>\n",
       "      <td>2019-01-01</td>\n",
       "      <td>Lazada</td>\n",
       "      <td>Lazada Retail Lactum</td>\n",
       "      <td>DELETE</td>\n",
       "      <td>2 Packs Of Lactum 3+ Plain Powdered Milk Drink...</td>\n",
       "      <td>Lactum</td>\n",
       "      <td>0.0</td>\n",
       "      <td>0.0</td>\n",
       "      <td>17</td>\n",
       "      <td>298</td>\n",
       "      <td>5.70</td>\n",
       "    </tr>\n",
       "  </tbody>\n",
       "</table>\n",
       "</div>"
      ],
      "text/plain": [
       "         date channel             shop_name                     sku  \\\n",
       "0  2019-01-01  Lazada  Lazada Retail Lactum  260013061_PH-358536442   \n",
       "1  2019-01-01  Lazada  Lazada Retail Lactum  267657810_PH-379353311   \n",
       "2  2019-01-01  Lazada  Lazada Retail Lactum  267665603_PH-379348476   \n",
       "3  2019-01-01  Lazada  Lazada Retail Lactum  267669546_PH-379343854   \n",
       "4  2019-01-01  Lazada  Lazada Retail Lactum                  DELETE   \n",
       "\n",
       "                                        product_name   brand        sap  \\\n",
       "0            Lactum 3+ Plain Powdered Milk Drink 2kg  Lactum  2048174.0   \n",
       "1  Lactum 3+ Plain Powdered Milk Drink 1.6Kg with...  Lactum        0.0   \n",
       "2  Lactum 3+ Plain Powdered Milk Drink 1.2Kg with...  Lactum        0.0   \n",
       "3           Lactum 3+ Plain Powdered Milk Drink 150g  Lactum  2020877.0   \n",
       "4  2 Packs Of Lactum 3+ Plain Powdered Milk Drink...  Lactum        0.0   \n",
       "\n",
       "   sales  units_sold  product_views  click_rate  \n",
       "0    0.0           0             25        0.00  \n",
       "1    0.0          10            116        8.62  \n",
       "2    0.0           1             27        3.70  \n",
       "3    0.0           0             62        0.00  \n",
       "4    0.0          17            298        5.70  "
      ]
     },
     "execution_count": 19,
     "metadata": {},
     "output_type": "execute_result"
    }
   ],
   "source": [
    "df.head()"
   ]
  },
  {
   "cell_type": "markdown",
   "id": "plain-brave",
   "metadata": {},
   "source": [
    "## Feature Engineering - Dates"
   ]
  },
  {
   "cell_type": "code",
   "execution_count": 21,
   "id": "organizational-hartford",
   "metadata": {
    "ExecuteTime": {
     "end_time": "2021-04-28T08:47:54.442453Z",
     "start_time": "2021-04-28T08:47:54.405759Z"
    }
   },
   "outputs": [],
   "source": [
    "df.date = pd.to_datetime(df.date)"
   ]
  },
  {
   "cell_type": "code",
   "execution_count": 22,
   "id": "organized-spare",
   "metadata": {
    "ExecuteTime": {
     "end_time": "2021-04-28T08:47:59.847519Z",
     "start_time": "2021-04-28T08:47:59.821438Z"
    }
   },
   "outputs": [
    {
     "data": {
      "text/html": [
       "<div>\n",
       "<style scoped>\n",
       "    .dataframe tbody tr th:only-of-type {\n",
       "        vertical-align: middle;\n",
       "    }\n",
       "\n",
       "    .dataframe tbody tr th {\n",
       "        vertical-align: top;\n",
       "    }\n",
       "\n",
       "    .dataframe thead th {\n",
       "        text-align: right;\n",
       "    }\n",
       "</style>\n",
       "<table border=\"1\" class=\"dataframe\">\n",
       "  <thead>\n",
       "    <tr style=\"text-align: right;\">\n",
       "      <th></th>\n",
       "      <th>date</th>\n",
       "      <th>channel</th>\n",
       "      <th>shop_name</th>\n",
       "      <th>sku</th>\n",
       "      <th>product_name</th>\n",
       "      <th>brand</th>\n",
       "      <th>sap</th>\n",
       "      <th>sales</th>\n",
       "      <th>units_sold</th>\n",
       "      <th>product_views</th>\n",
       "      <th>click_rate</th>\n",
       "    </tr>\n",
       "  </thead>\n",
       "  <tbody>\n",
       "    <tr>\n",
       "      <th>0</th>\n",
       "      <td>2019-01-01</td>\n",
       "      <td>Lazada</td>\n",
       "      <td>Lazada Retail Lactum</td>\n",
       "      <td>260013061_PH-358536442</td>\n",
       "      <td>Lactum 3+ Plain Powdered Milk Drink 2kg</td>\n",
       "      <td>Lactum</td>\n",
       "      <td>2048174.0</td>\n",
       "      <td>0.0</td>\n",
       "      <td>0</td>\n",
       "      <td>25</td>\n",
       "      <td>0.00</td>\n",
       "    </tr>\n",
       "    <tr>\n",
       "      <th>1</th>\n",
       "      <td>2019-01-01</td>\n",
       "      <td>Lazada</td>\n",
       "      <td>Lazada Retail Lactum</td>\n",
       "      <td>267657810_PH-379353311</td>\n",
       "      <td>Lactum 3+ Plain Powdered Milk Drink 1.6Kg with...</td>\n",
       "      <td>Lactum</td>\n",
       "      <td>0.0</td>\n",
       "      <td>0.0</td>\n",
       "      <td>10</td>\n",
       "      <td>116</td>\n",
       "      <td>8.62</td>\n",
       "    </tr>\n",
       "    <tr>\n",
       "      <th>2</th>\n",
       "      <td>2019-01-01</td>\n",
       "      <td>Lazada</td>\n",
       "      <td>Lazada Retail Lactum</td>\n",
       "      <td>267665603_PH-379348476</td>\n",
       "      <td>Lactum 3+ Plain Powdered Milk Drink 1.2Kg with...</td>\n",
       "      <td>Lactum</td>\n",
       "      <td>0.0</td>\n",
       "      <td>0.0</td>\n",
       "      <td>1</td>\n",
       "      <td>27</td>\n",
       "      <td>3.70</td>\n",
       "    </tr>\n",
       "    <tr>\n",
       "      <th>3</th>\n",
       "      <td>2019-01-01</td>\n",
       "      <td>Lazada</td>\n",
       "      <td>Lazada Retail Lactum</td>\n",
       "      <td>267669546_PH-379343854</td>\n",
       "      <td>Lactum 3+ Plain Powdered Milk Drink 150g</td>\n",
       "      <td>Lactum</td>\n",
       "      <td>2020877.0</td>\n",
       "      <td>0.0</td>\n",
       "      <td>0</td>\n",
       "      <td>62</td>\n",
       "      <td>0.00</td>\n",
       "    </tr>\n",
       "    <tr>\n",
       "      <th>4</th>\n",
       "      <td>2019-01-01</td>\n",
       "      <td>Lazada</td>\n",
       "      <td>Lazada Retail Lactum</td>\n",
       "      <td>DELETE</td>\n",
       "      <td>2 Packs Of Lactum 3+ Plain Powdered Milk Drink...</td>\n",
       "      <td>Lactum</td>\n",
       "      <td>0.0</td>\n",
       "      <td>0.0</td>\n",
       "      <td>17</td>\n",
       "      <td>298</td>\n",
       "      <td>5.70</td>\n",
       "    </tr>\n",
       "  </tbody>\n",
       "</table>\n",
       "</div>"
      ],
      "text/plain": [
       "        date channel             shop_name                     sku  \\\n",
       "0 2019-01-01  Lazada  Lazada Retail Lactum  260013061_PH-358536442   \n",
       "1 2019-01-01  Lazada  Lazada Retail Lactum  267657810_PH-379353311   \n",
       "2 2019-01-01  Lazada  Lazada Retail Lactum  267665603_PH-379348476   \n",
       "3 2019-01-01  Lazada  Lazada Retail Lactum  267669546_PH-379343854   \n",
       "4 2019-01-01  Lazada  Lazada Retail Lactum                  DELETE   \n",
       "\n",
       "                                        product_name   brand        sap  \\\n",
       "0            Lactum 3+ Plain Powdered Milk Drink 2kg  Lactum  2048174.0   \n",
       "1  Lactum 3+ Plain Powdered Milk Drink 1.6Kg with...  Lactum        0.0   \n",
       "2  Lactum 3+ Plain Powdered Milk Drink 1.2Kg with...  Lactum        0.0   \n",
       "3           Lactum 3+ Plain Powdered Milk Drink 150g  Lactum  2020877.0   \n",
       "4  2 Packs Of Lactum 3+ Plain Powdered Milk Drink...  Lactum        0.0   \n",
       "\n",
       "   sales  units_sold  product_views  click_rate  \n",
       "0    0.0           0             25        0.00  \n",
       "1    0.0          10            116        8.62  \n",
       "2    0.0           1             27        3.70  \n",
       "3    0.0           0             62        0.00  \n",
       "4    0.0          17            298        5.70  "
      ]
     },
     "execution_count": 22,
     "metadata": {},
     "output_type": "execute_result"
    }
   ],
   "source": [
    "df.head()"
   ]
  },
  {
   "cell_type": "code",
   "execution_count": 36,
   "id": "blond-prospect",
   "metadata": {
    "ExecuteTime": {
     "end_time": "2021-04-28T09:01:41.583595Z",
     "start_time": "2021-04-28T09:01:41.485560Z"
    }
   },
   "outputs": [],
   "source": [
    "months = df.date.dt.month\n",
    "days = df.date.dt.day\n",
    "day_name = df.date.dt.day_name()\n",
    "is_weekend = day_name.apply(lambda x: 1 if x in ['Saturday', 'Sunday'] else 0)"
   ]
  },
  {
   "cell_type": "code",
   "execution_count": 37,
   "id": "demographic-chart",
   "metadata": {
    "ExecuteTime": {
     "end_time": "2021-04-28T09:01:44.766608Z",
     "start_time": "2021-04-28T09:01:44.749269Z"
    }
   },
   "outputs": [],
   "source": [
    "df1 = df.copy()"
   ]
  },
  {
   "cell_type": "code",
   "execution_count": 44,
   "id": "dirty-counter",
   "metadata": {
    "ExecuteTime": {
     "end_time": "2021-04-28T09:08:18.927383Z",
     "start_time": "2021-04-28T09:08:18.890330Z"
    }
   },
   "outputs": [],
   "source": [
    "#dates\n",
    "df_days = pd.get_dummies(days, prefix='day')\n",
    "df_months = pd.get_dummies(months, prefix='month')\n",
    "df_dayname = pd.get_dummies(day_name)\n",
    "df_weekend = pd.get_dummies(is_weekend, prefix='weekend')\n",
    "df_datefeatures = pd.concat([df_months, df_days, df_dayname, df_weekend], axis=1)"
   ]
  },
  {
   "cell_type": "code",
   "execution_count": 50,
   "id": "three-regulation",
   "metadata": {
    "ExecuteTime": {
     "end_time": "2021-04-28T09:11:17.751088Z",
     "start_time": "2021-04-28T09:11:17.733527Z"
    }
   },
   "outputs": [],
   "source": [
    "#channel\n",
    "channel = pd.get_dummies(df1['channel'])"
   ]
  },
  {
   "cell_type": "code",
   "execution_count": 55,
   "id": "conditional-chambers",
   "metadata": {
    "ExecuteTime": {
     "end_time": "2021-04-28T09:14:46.181268Z",
     "start_time": "2021-04-28T09:14:46.159926Z"
    }
   },
   "outputs": [
    {
     "data": {
      "text/plain": [
       "array(['Lazada Retail Lactum', 'Lazada Retail Enfagrow',\n",
       "       'Lazada Retail Sustagen', 'Lactum Official Store',\n",
       "       'Enfagrow A+ Four Official Store', 'Sustagen Official Store',\n",
       "       'LazMart Philippines', 'lactumofficialstoreph',\n",
       "       'Enfagrow Official Store_PH', 'sustagenofficialstoreph',\n",
       "       ' Lactum Official Store', ' Enfagrow Official Store'], dtype=object)"
      ]
     },
     "execution_count": 55,
     "metadata": {},
     "output_type": "execute_result"
    }
   ],
   "source": [
    "#categorical binning\n",
    "df1.shop_name.unique()"
   ]
  },
  {
   "cell_type": "code",
   "execution_count": 77,
   "id": "described-edward",
   "metadata": {
    "ExecuteTime": {
     "end_time": "2021-04-28T09:24:02.700997Z",
     "start_time": "2021-04-28T09:24:02.581677Z"
    }
   },
   "outputs": [],
   "source": [
    "shop_conditions = [\n",
    "    df1['shop_name'].str.contains('Lactum', 'lactum'),\n",
    "    df1['shop_name'].str.contains('Enfagrow'),\n",
    "    df1['shop_name'].str.contains('Sustagen', 'sustagen')\n",
    "]\n",
    "\n",
    "shops = ['Lactum Store', 'Enfagrow Store', 'Sustagen Store']\n",
    "\n",
    "shop_bins = np.select(shop_conditions, shops, default='Other')\n"
   ]
  },
  {
   "cell_type": "code",
   "execution_count": 78,
   "id": "welsh-typing",
   "metadata": {
    "ExecuteTime": {
     "end_time": "2021-04-28T09:24:22.763585Z",
     "start_time": "2021-04-28T09:24:22.737545Z"
    }
   },
   "outputs": [],
   "source": [
    "df1['shop_name'] = shop_bins"
   ]
  },
  {
   "cell_type": "code",
   "execution_count": 82,
   "id": "muslim-network",
   "metadata": {
    "ExecuteTime": {
     "end_time": "2021-04-28T09:44:17.573156Z",
     "start_time": "2021-04-28T09:44:17.551156Z"
    }
   },
   "outputs": [],
   "source": [
    "df1 = df1.drop('sku', axis=1)"
   ]
  },
  {
   "cell_type": "code",
   "execution_count": 86,
   "id": "prepared-input",
   "metadata": {
    "ExecuteTime": {
     "end_time": "2021-04-28T09:48:00.296099Z",
     "start_time": "2021-04-28T09:48:00.273231Z"
    }
   },
   "outputs": [],
   "source": [
    "df1 = df1.drop('product_name', axis=1)"
   ]
  },
  {
   "cell_type": "code",
   "execution_count": 88,
   "id": "surgical-worship",
   "metadata": {
    "ExecuteTime": {
     "end_time": "2021-04-28T09:48:42.389930Z",
     "start_time": "2021-04-28T09:48:42.368949Z"
    }
   },
   "outputs": [],
   "source": [
    "df1 = df1.drop('brand', axis=1)"
   ]
  },
  {
   "cell_type": "code",
   "execution_count": 91,
   "id": "hispanic-elevation",
   "metadata": {
    "ExecuteTime": {
     "end_time": "2021-04-28T09:49:05.820152Z",
     "start_time": "2021-04-28T09:49:05.803062Z"
    }
   },
   "outputs": [],
   "source": [
    "df1 = df1.drop('date', axis=1)"
   ]
  },
  {
   "cell_type": "code",
   "execution_count": 93,
   "id": "alpine-object",
   "metadata": {
    "ExecuteTime": {
     "end_time": "2021-04-28T09:49:20.007804Z",
     "start_time": "2021-04-28T09:49:19.986939Z"
    }
   },
   "outputs": [
    {
     "data": {
      "text/html": [
       "<div>\n",
       "<style scoped>\n",
       "    .dataframe tbody tr th:only-of-type {\n",
       "        vertical-align: middle;\n",
       "    }\n",
       "\n",
       "    .dataframe tbody tr th {\n",
       "        vertical-align: top;\n",
       "    }\n",
       "\n",
       "    .dataframe thead th {\n",
       "        text-align: right;\n",
       "    }\n",
       "</style>\n",
       "<table border=\"1\" class=\"dataframe\">\n",
       "  <thead>\n",
       "    <tr style=\"text-align: right;\">\n",
       "      <th></th>\n",
       "      <th>channel</th>\n",
       "      <th>shop_name</th>\n",
       "      <th>sap</th>\n",
       "      <th>sales</th>\n",
       "      <th>units_sold</th>\n",
       "      <th>product_views</th>\n",
       "      <th>click_rate</th>\n",
       "    </tr>\n",
       "  </thead>\n",
       "  <tbody>\n",
       "    <tr>\n",
       "      <th>0</th>\n",
       "      <td>Lazada</td>\n",
       "      <td>Lactum Store</td>\n",
       "      <td>2048174.0</td>\n",
       "      <td>0.0</td>\n",
       "      <td>0</td>\n",
       "      <td>25</td>\n",
       "      <td>0.00</td>\n",
       "    </tr>\n",
       "    <tr>\n",
       "      <th>1</th>\n",
       "      <td>Lazada</td>\n",
       "      <td>Lactum Store</td>\n",
       "      <td>0.0</td>\n",
       "      <td>0.0</td>\n",
       "      <td>10</td>\n",
       "      <td>116</td>\n",
       "      <td>8.62</td>\n",
       "    </tr>\n",
       "    <tr>\n",
       "      <th>2</th>\n",
       "      <td>Lazada</td>\n",
       "      <td>Lactum Store</td>\n",
       "      <td>0.0</td>\n",
       "      <td>0.0</td>\n",
       "      <td>1</td>\n",
       "      <td>27</td>\n",
       "      <td>3.70</td>\n",
       "    </tr>\n",
       "    <tr>\n",
       "      <th>3</th>\n",
       "      <td>Lazada</td>\n",
       "      <td>Lactum Store</td>\n",
       "      <td>2020877.0</td>\n",
       "      <td>0.0</td>\n",
       "      <td>0</td>\n",
       "      <td>62</td>\n",
       "      <td>0.00</td>\n",
       "    </tr>\n",
       "    <tr>\n",
       "      <th>4</th>\n",
       "      <td>Lazada</td>\n",
       "      <td>Lactum Store</td>\n",
       "      <td>0.0</td>\n",
       "      <td>0.0</td>\n",
       "      <td>17</td>\n",
       "      <td>298</td>\n",
       "      <td>5.70</td>\n",
       "    </tr>\n",
       "  </tbody>\n",
       "</table>\n",
       "</div>"
      ],
      "text/plain": [
       "  channel     shop_name        sap  sales  units_sold  product_views  \\\n",
       "0  Lazada  Lactum Store  2048174.0    0.0           0             25   \n",
       "1  Lazada  Lactum Store        0.0    0.0          10            116   \n",
       "2  Lazada  Lactum Store        0.0    0.0           1             27   \n",
       "3  Lazada  Lactum Store  2020877.0    0.0           0             62   \n",
       "4  Lazada  Lactum Store        0.0    0.0          17            298   \n",
       "\n",
       "   click_rate  \n",
       "0        0.00  \n",
       "1        8.62  \n",
       "2        3.70  \n",
       "3        0.00  \n",
       "4        5.70  "
      ]
     },
     "execution_count": 93,
     "metadata": {},
     "output_type": "execute_result"
    }
   ],
   "source": [
    "df1.head()"
   ]
  },
  {
   "cell_type": "code",
   "execution_count": 125,
   "id": "comparative-underground",
   "metadata": {
    "ExecuteTime": {
     "end_time": "2021-04-28T09:58:33.400944Z",
     "start_time": "2021-04-28T09:58:33.392883Z"
    }
   },
   "outputs": [],
   "source": [
    "df2 = df1.copy()"
   ]
  },
  {
   "cell_type": "code",
   "execution_count": 126,
   "id": "increased-metadata",
   "metadata": {
    "ExecuteTime": {
     "end_time": "2021-04-28T09:58:34.460755Z",
     "start_time": "2021-04-28T09:58:34.446945Z"
    }
   },
   "outputs": [],
   "source": [
    "df2 = pd.concat([df_datefeatures, channel, df2], axis=1)"
   ]
  },
  {
   "cell_type": "code",
   "execution_count": 127,
   "id": "individual-discount",
   "metadata": {
    "ExecuteTime": {
     "end_time": "2021-04-28T09:58:35.419235Z",
     "start_time": "2021-04-28T09:58:35.375819Z"
    }
   },
   "outputs": [],
   "source": [
    "shops = pd.get_dummies(df2[['channel', 'shop_name']])"
   ]
  },
  {
   "cell_type": "code",
   "execution_count": 128,
   "id": "hollywood-evidence",
   "metadata": {
    "ExecuteTime": {
     "end_time": "2021-04-28T09:58:39.749939Z",
     "start_time": "2021-04-28T09:58:39.731723Z"
    }
   },
   "outputs": [],
   "source": [
    "df2 = df2.drop(['channel', 'shop_name'], axis=1)"
   ]
  },
  {
   "cell_type": "code",
   "execution_count": 129,
   "id": "competitive-porcelain",
   "metadata": {
    "ExecuteTime": {
     "end_time": "2021-04-28T09:58:40.297596Z",
     "start_time": "2021-04-28T09:58:40.285551Z"
    }
   },
   "outputs": [],
   "source": [
    "df2 = pd.concat([df2, shops], axis=1)"
   ]
  },
  {
   "cell_type": "code",
   "execution_count": 130,
   "id": "minus-writing",
   "metadata": {
    "ExecuteTime": {
     "end_time": "2021-04-28T09:58:40.915162Z",
     "start_time": "2021-04-28T09:58:40.895472Z"
    }
   },
   "outputs": [],
   "source": [
    "df_target = df2['sales']\n",
    "df_features = df2.drop('sales', axis=1)"
   ]
  },
  {
   "cell_type": "code",
   "execution_count": 131,
   "id": "fifteen-yacht",
   "metadata": {
    "ExecuteTime": {
     "end_time": "2021-04-28T09:58:41.779582Z",
     "start_time": "2021-04-28T09:58:41.722314Z"
    }
   },
   "outputs": [],
   "source": [
    "X_train_0_1, X_test_0_1, y_train_0_1, y_test_0_1 = train_test_split(\n",
    "    df_features, df_target, test_size=0.25)"
   ]
  },
  {
   "cell_type": "code",
   "execution_count": 138,
   "id": "israeli-sculpture",
   "metadata": {
    "ExecuteTime": {
     "end_time": "2021-04-28T12:27:01.205190Z",
     "start_time": "2021-04-28T12:18:10.016781Z"
    }
   },
   "outputs": [
    {
     "name": "stdout",
     "output_type": "stream",
     "text": [
      "Fitting KNN\n",
      "Fitting DT\n",
      "Fitting RF\n",
      "Fitting GBM\n"
     ]
    },
    {
     "data": {
      "text/html": [
       "<div>\n",
       "<style scoped>\n",
       "    .dataframe tbody tr th:only-of-type {\n",
       "        vertical-align: middle;\n",
       "    }\n",
       "\n",
       "    .dataframe tbody tr th {\n",
       "        vertical-align: top;\n",
       "    }\n",
       "\n",
       "    .dataframe thead th {\n",
       "        text-align: right;\n",
       "    }\n",
       "</style>\n",
       "<table border=\"1\" class=\"dataframe\">\n",
       "  <thead>\n",
       "    <tr style=\"text-align: right;\">\n",
       "      <th></th>\n",
       "      <th>Regression Method</th>\n",
       "      <th>Train Accuracy</th>\n",
       "      <th>Test Accuracy</th>\n",
       "    </tr>\n",
       "  </thead>\n",
       "  <tbody>\n",
       "    <tr>\n",
       "      <th>0</th>\n",
       "      <td>Linear Regression</td>\n",
       "      <td>0.366934</td>\n",
       "      <td>0.119027</td>\n",
       "    </tr>\n",
       "    <tr>\n",
       "      <th>1</th>\n",
       "      <td>Linear Regression + Lasso</td>\n",
       "      <td>0.366672</td>\n",
       "      <td>0.119095</td>\n",
       "    </tr>\n",
       "    <tr>\n",
       "      <th>2</th>\n",
       "      <td>Linear Regression + Ridge</td>\n",
       "      <td>0.366938</td>\n",
       "      <td>0.119086</td>\n",
       "    </tr>\n",
       "    <tr>\n",
       "      <th>3</th>\n",
       "      <td>kNN</td>\n",
       "      <td>0.630728</td>\n",
       "      <td>0.488919</td>\n",
       "    </tr>\n",
       "    <tr>\n",
       "      <th>4</th>\n",
       "      <td>Decision Tree</td>\n",
       "      <td>0.992981</td>\n",
       "      <td>0.151916</td>\n",
       "    </tr>\n",
       "    <tr>\n",
       "      <th>5</th>\n",
       "      <td>Random Forest</td>\n",
       "      <td>0.916078</td>\n",
       "      <td>0.510718</td>\n",
       "    </tr>\n",
       "    <tr>\n",
       "      <th>6</th>\n",
       "      <td>Gradient Boosting Method</td>\n",
       "      <td>0.923403</td>\n",
       "      <td>0.552112</td>\n",
       "    </tr>\n",
       "  </tbody>\n",
       "</table>\n",
       "</div>"
      ],
      "text/plain": [
       "           Regression Method  Train Accuracy  Test Accuracy\n",
       "0          Linear Regression        0.366934       0.119027\n",
       "1  Linear Regression + Lasso        0.366672       0.119095\n",
       "2  Linear Regression + Ridge        0.366938       0.119086\n",
       "3                        kNN        0.630728       0.488919\n",
       "4              Decision Tree        0.992981       0.151916\n",
       "5              Random Forest        0.916078       0.510718\n",
       "6   Gradient Boosting Method        0.923403       0.552112"
      ]
     },
     "execution_count": 138,
     "metadata": {},
     "output_type": "execute_result"
    }
   ],
   "source": [
    "#kNN = KNeighborsRegressor(n_neighbors=8) \n",
    "kNN = KNeighborsRegressor() \n",
    "kNN.fit(X_train_0_1,y_train_0_1)\n",
    "print('Fitting KNN')\n",
    "#DT = DecisionTreeRegressor(max_depth=5) \n",
    "DT = DecisionTreeRegressor() \n",
    "DT.fit(X_train_0_1,y_train_0_1)\n",
    "print('Fitting DT')\n",
    "#RF = RandomForestRegressor(n_estimators = 100) \n",
    "RF = RandomForestRegressor() \n",
    "RF.fit(X_train_0_1,y_train_0_1)\n",
    "print('Fitting RF')\n",
    "#GBM = GradientBoostingRegressor(max_depth =5, learning_rate=.1) \n",
    "GBM = GradientBoostingRegressor() \n",
    "GBM.fit(X_train_0_1,y_train_0_1)\n",
    "print('Fitting GBM')\n",
    "\n",
    "# y_test_LR = LR.predict(X_test)\n",
    "# y_test_Lasso = Lasso.predict(X_test)\n",
    "# y_test_Ridge = Ridge1.predict(X_test)\n",
    "# y_test_kNN = kNN.predict(X_test)\n",
    "# y_test_DT = DT.predict(X_test)\n",
    "# y_test_RF = RF.predict(X_test)\n",
    "# y_test_GBM = GBM.predict(X_test)\n",
    "\n",
    "\n",
    "cols = ['Regression Method','Train Accuracy', 'Test Accuracy']\n",
    "df_0_1 = pd.DataFrame(columns=cols)\n",
    "\n",
    "df_0_1.loc[0] = ['Linear Regression', LR.score(X_train_0_1, y_train_0_1), LR.score(X_test_0_1, y_test_0_1)]\n",
    "df_0_1.loc[1] = ['Linear Regression + Lasso', Lasso1.score(X_train_0_1, y_train_0_1), Lasso1.score(X_test_0_1, y_test_0_1)]\n",
    "df_0_1.loc[2] = ['Linear Regression + Ridge', Ridge1.score(X_train_0_1, y_train_0_1), Ridge1.score(X_test_0_1, y_test_0_1)]\n",
    "df_0_1.loc[3] = ['kNN', kNN.score(X_train_0_1, y_train_0_1), kNN.score(X_test_0_1, y_test_0_1)]\n",
    "df_0_1.loc[4] = ['Decision Tree',DT.score(X_train_0_1, y_train_0_1), DT.score(X_test_0_1, y_test_0_1)]\n",
    "df_0_1.loc[5] = ['Random Forest',RF.score(X_train_0_1, y_train_0_1), RF.score(X_test_0_1, y_test_0_1)]\n",
    "df_0_1.loc[6] = ['Gradient Boosting Method',GBM.score(X_train_0_1, y_train_0_1), GBM.score(X_test_0_1, y_test_0_1)]\n",
    "\n",
    "df_0_1"
   ]
  },
  {
   "cell_type": "code",
   "execution_count": 139,
   "id": "minute-interaction",
   "metadata": {
    "ExecuteTime": {
     "end_time": "2021-04-28T12:40:51.715186Z",
     "start_time": "2021-04-28T12:32:52.425340Z"
    }
   },
   "outputs": [
    {
     "data": {
      "text/html": [
       "<div>\n",
       "<style scoped>\n",
       "    .dataframe tbody tr th:only-of-type {\n",
       "        vertical-align: middle;\n",
       "    }\n",
       "\n",
       "    .dataframe tbody tr th {\n",
       "        vertical-align: top;\n",
       "    }\n",
       "\n",
       "    .dataframe thead th {\n",
       "        text-align: right;\n",
       "    }\n",
       "</style>\n",
       "<table border=\"1\" class=\"dataframe\">\n",
       "  <thead>\n",
       "    <tr style=\"text-align: right;\">\n",
       "      <th></th>\n",
       "      <th>Regression Method</th>\n",
       "      <th>Train Accuracy</th>\n",
       "      <th>Test Accuracy</th>\n",
       "    </tr>\n",
       "  </thead>\n",
       "  <tbody>\n",
       "    <tr>\n",
       "      <th>3</th>\n",
       "      <td>kNN</td>\n",
       "      <td>0.630728</td>\n",
       "      <td>0.488919</td>\n",
       "    </tr>\n",
       "    <tr>\n",
       "      <th>4</th>\n",
       "      <td>Decision Tree</td>\n",
       "      <td>0.992981</td>\n",
       "      <td>0.151916</td>\n",
       "    </tr>\n",
       "    <tr>\n",
       "      <th>5</th>\n",
       "      <td>Random Forest</td>\n",
       "      <td>0.916078</td>\n",
       "      <td>0.510718</td>\n",
       "    </tr>\n",
       "    <tr>\n",
       "      <th>6</th>\n",
       "      <td>Gradient Boosting Method</td>\n",
       "      <td>0.923403</td>\n",
       "      <td>0.552112</td>\n",
       "    </tr>\n",
       "  </tbody>\n",
       "</table>\n",
       "</div>"
      ],
      "text/plain": [
       "          Regression Method  Train Accuracy  Test Accuracy\n",
       "3                       kNN        0.630728       0.488919\n",
       "4             Decision Tree        0.992981       0.151916\n",
       "5             Random Forest        0.916078       0.510718\n",
       "6  Gradient Boosting Method        0.923403       0.552112"
      ]
     },
     "execution_count": 139,
     "metadata": {},
     "output_type": "execute_result"
    }
   ],
   "source": [
    "cols = ['Regression Method','Train Accuracy', 'Test Accuracy']\n",
    "df_0_1 = pd.DataFrame(columns=cols)\n",
    "\n",
    "df_0_1.loc[3] = ['kNN', kNN.score(X_train_0_1, y_train_0_1), kNN.score(X_test_0_1, y_test_0_1)]\n",
    "df_0_1.loc[4] = ['Decision Tree',DT.score(X_train_0_1, y_train_0_1), DT.score(X_test_0_1, y_test_0_1)]\n",
    "df_0_1.loc[5] = ['Random Forest',RF.score(X_train_0_1, y_train_0_1), RF.score(X_test_0_1, y_test_0_1)]\n",
    "df_0_1.loc[6] = ['Gradient Boosting Method',GBM.score(X_train_0_1, y_train_0_1), GBM.score(X_test_0_1, y_test_0_1)]\n",
    "\n",
    "df_0_1"
   ]
  },
  {
   "cell_type": "code",
   "execution_count": 140,
   "id": "excellent-radical",
   "metadata": {
    "ExecuteTime": {
     "end_time": "2021-04-28T14:52:06.491503Z",
     "start_time": "2021-04-28T12:45:13.108624Z"
    }
   },
   "outputs": [
    {
     "name": "stdout",
     "output_type": "stream",
     "text": [
      "{'learning_rate': 0.2, 'max_depth': 10, 'max_features': 0.2, 'min_samples_leaf': 2}\n"
     ]
    }
   ],
   "source": [
    "est = GradientBoostingRegressor()\n",
    "param_grids = {'learning_rate': [.2, 0.1, 0.05, 0.02, 0.01],\n",
    "              'max_depth': [3, 4, 6, 10, 14],\n",
    "              'min_samples_leaf': [2, 3, 4],\n",
    "              'max_features': [.5,.3, .2] \n",
    "}   \n",
    "gs_cv = GridSearchCV(est, param_grids).fit(X_train_0_1, y_train_0_1)\n",
    "print(gs_cv.best_params_)"
   ]
  },
  {
   "cell_type": "code",
   "execution_count": 144,
   "id": "disabled-protection",
   "metadata": {
    "ExecuteTime": {
     "end_time": "2021-04-28T14:58:21.058171Z",
     "start_time": "2021-04-28T14:58:13.493352Z"
    }
   },
   "outputs": [
    {
     "data": {
      "text/plain": [
       "GradientBoostingRegressor(learning_rate=0.2, max_depth=10, max_features=0.2,\n",
       "                          min_samples_leaf=2)"
      ]
     },
     "execution_count": 144,
     "metadata": {},
     "output_type": "execute_result"
    }
   ],
   "source": [
    "GBM = GradientBoostingRegressor(learning_rate= 0.2, max_depth= 10, max_features= 0.2, min_samples_leaf= 2) \n",
    "GBM.fit(X_train_0_1,y_train_0_1)"
   ]
  },
  {
   "cell_type": "code",
   "execution_count": 145,
   "id": "passive-sheet",
   "metadata": {
    "ExecuteTime": {
     "end_time": "2021-04-28T14:58:24.977322Z",
     "start_time": "2021-04-28T14:58:24.503140Z"
    }
   },
   "outputs": [
    {
     "name": "stdout",
     "output_type": "stream",
     "text": [
      "0.9900389189508423 0.5175830136528643\n"
     ]
    }
   ],
   "source": [
    "print(GBM.score(X_train_0_1, y_train_0_1), GBM.score(X_test_0_1, y_test_0_1))"
   ]
  },
  {
   "cell_type": "code",
   "execution_count": null,
   "id": "senior-beaver",
   "metadata": {},
   "outputs": [],
   "source": []
  }
 ],
 "metadata": {
  "kernelspec": {
   "display_name": "Python 3",
   "language": "python",
   "name": "python3"
  },
  "language_info": {
   "codemirror_mode": {
    "name": "ipython",
    "version": 3
   },
   "file_extension": ".py",
   "mimetype": "text/x-python",
   "name": "python",
   "nbconvert_exporter": "python",
   "pygments_lexer": "ipython3",
   "version": "3.8.8"
  }
 },
 "nbformat": 4,
 "nbformat_minor": 5
}
