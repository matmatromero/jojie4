{
 "cells": [
  {
   "cell_type": "code",
   "execution_count": 14,
   "id": "premier-catch",
   "metadata": {
    "ExecuteTime": {
     "end_time": "2021-05-12T09:07:28.690379Z",
     "start_time": "2021-05-12T09:07:28.685514Z"
    }
   },
   "outputs": [
    {
     "data": {
      "text/plain": [
       "3125.0"
      ]
     },
     "execution_count": 14,
     "metadata": {},
     "output_type": "execute_result"
    }
   ],
   "source": [
    "a = 12_500 * 0.25\n",
    "a"
   ]
  },
  {
   "cell_type": "markdown",
   "id": "sorted-rapid",
   "metadata": {
    "ExecuteTime": {
     "end_time": "2021-05-12T09:07:27.038892Z",
     "start_time": "2021-05-12T09:07:27.034134Z"
    }
   },
   "source": [
    "\\begin{equation}\n",
    "500 = (n*0.25) * 0.16\n",
    "\\end{equation}\n",
    "\n",
    "\n",
    "\\begin{equation}\n",
    "\\frac{500}{0.16} * \\frac{1}{0.25} = n\n",
    "\\end{equation}\n",
    " \n",
    " \n",
    "\\begin{equation}\n",
    "3125 * \\frac{1}{0.25} = n\n",
    "\\end{equation}\n",
    " \n",
    " \n",
    "\\begin{equation}\n",
    "12500 = n\n",
    "\\end{equation}"
   ]
  }
 ],
 "metadata": {
  "kernelspec": {
   "display_name": "Python 3",
   "language": "python",
   "name": "python3"
  },
  "language_info": {
   "codemirror_mode": {
    "name": "ipython",
    "version": 3
   },
   "file_extension": ".py",
   "mimetype": "text/x-python",
   "name": "python",
   "nbconvert_exporter": "python",
   "pygments_lexer": "ipython3",
   "version": "3.8.8"
  }
 },
 "nbformat": 4,
 "nbformat_minor": 5
}
