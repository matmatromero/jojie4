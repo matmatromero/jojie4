{
 "cells": [
  {
   "cell_type": "code",
   "execution_count": 46,
   "metadata": {
    "ExecuteTime": {
     "end_time": "2021-03-11T16:20:22.618335Z",
     "start_time": "2021-03-11T16:20:22.613084Z"
    }
   },
   "outputs": [],
   "source": [
    "import pandas as pd\n",
    "import numpy as np\n",
    "from datetime import datetime\n",
    "\n",
    "from binance.client import Client"
   ]
  },
  {
   "cell_type": "code",
   "execution_count": 16,
   "metadata": {
    "ExecuteTime": {
     "end_time": "2021-03-11T15:49:25.709437Z",
     "start_time": "2021-03-11T15:49:25.702441Z"
    }
   },
   "outputs": [],
   "source": [
    "with open('api_key.txt') as f:\n",
    "    api_key = (f.read().strip())\n",
    "    \n",
    "with open('secret_key.txt') as f:\n",
    "    secret_key = (f.read().strip())"
   ]
  },
  {
   "cell_type": "code",
   "execution_count": 26,
   "metadata": {
    "ExecuteTime": {
     "end_time": "2021-03-11T15:59:50.115163Z",
     "start_time": "2021-03-11T15:59:50.099748Z"
    }
   },
   "outputs": [],
   "source": [
    "SYMBOL_TYPE_SPOT = 'SPOT'\n",
    "\n",
    "ORDER_STATUS_NEW = 'NEW'\n",
    "ORDER_STATUS_PARTIALLY_FILLED = 'PARTIALLY_FILLED'\n",
    "ORDER_STATUS_FILLED = 'FILLED'\n",
    "ORDER_STATUS_CANCELED = 'CANCELED'\n",
    "ORDER_STATUS_PENDING_CANCEL = 'PENDING_CANCEL'\n",
    "ORDER_STATUS_REJECTED = 'REJECTED'\n",
    "ORDER_STATUS_EXPIRED = 'EXPIRED'\n",
    "\n",
    "KLINE_INTERVAL_1MINUTE = '1m'\n",
    "KLINE_INTERVAL_3MINUTE = '3m'\n",
    "KLINE_INTERVAL_5MINUTE = '5m'\n",
    "KLINE_INTERVAL_15MINUTE = '15m'\n",
    "KLINE_INTERVAL_30MINUTE = '30m'\n",
    "KLINE_INTERVAL_1HOUR = '1h'\n",
    "KLINE_INTERVAL_2HOUR = '2h'\n",
    "KLINE_INTERVAL_4HOUR = '4h'\n",
    "KLINE_INTERVAL_6HOUR = '6h'\n",
    "KLINE_INTERVAL_8HOUR = '8h'\n",
    "KLINE_INTERVAL_12HOUR = '12h'\n",
    "KLINE_INTERVAL_1DAY = '1d'\n",
    "KLINE_INTERVAL_3DAY = '3d'\n",
    "KLINE_INTERVAL_1WEEK = '1w'\n",
    "KLINE_INTERVAL_1MONTH = '1M'\n",
    "\n",
    "SIDE_BUY = 'BUY'\n",
    "SIDE_SELL = 'SELL'\n",
    "\n",
    "ORDER_TYPE_LIMIT = 'LIMIT'\n",
    "ORDER_TYPE_MARKET = 'MARKET'\n",
    "ORDER_TYPE_STOP_LOSS = 'STOP_LOSS'\n",
    "ORDER_TYPE_STOP_LOSS_LIMIT = 'STOP_LOSS_LIMIT'\n",
    "ORDER_TYPE_TAKE_PROFIT = 'TAKE_PROFIT'\n",
    "ORDER_TYPE_TAKE_PROFIT_LIMIT = 'TAKE_PROFIT_LIMIT'\n",
    "ORDER_TYPE_LIMIT_MAKER = 'LIMIT_MAKER'\n",
    "\n",
    "TIME_IN_FORCE_GTC = 'GTC'\n",
    "TIME_IN_FORCE_IOC = 'IOC'\n",
    "TIME_IN_FORCE_FOK = 'FOK'\n",
    "\n",
    "ORDER_RESP_TYPE_ACK = 'ACK'\n",
    "ORDER_RESP_TYPE_RESULT = 'RESULT'\n",
    "ORDER_RESP_TYPE_FULL = 'FULL'\n",
    "\n",
    "# For accessing the data returned by Client.aggregate_trades().\n",
    "AGG_ID             = 'a'\n",
    "AGG_PRICE          = 'p'\n",
    "AGG_QUANTITY       = 'q'\n",
    "AGG_FIRST_TRADE_ID = 'f'\n",
    "AGG_LAST_TRADE_ID  = 'l'\n",
    "AGG_TIME           = 'T'\n",
    "AGG_BUYER_MAKES    = 'm'\n",
    "AGG_BEST_MATCH     = 'M'"
   ]
  },
  {
   "cell_type": "code",
   "execution_count": 21,
   "metadata": {
    "ExecuteTime": {
     "end_time": "2021-03-11T15:50:41.591073Z",
     "start_time": "2021-03-11T15:50:41.338090Z"
    }
   },
   "outputs": [],
   "source": [
    "client = Client(api_key, secret_key)"
   ]
  },
  {
   "cell_type": "code",
   "execution_count": 65,
   "metadata": {
    "ExecuteTime": {
     "end_time": "2021-03-11T16:26:47.768330Z",
     "start_time": "2021-03-11T16:26:47.670840Z"
    }
   },
   "outputs": [
    {
     "data": {
      "text/plain": [
       "'2021-03-11 16:26:47'"
      ]
     },
     "execution_count": 65,
     "metadata": {},
     "output_type": "execute_result"
    }
   ],
   "source": [
    "time = client.get_server_time()\n",
    "time = time['serverTime']\n",
    "datetime.utcfromtimestamp(time/1000).strftime('%Y-%m-%d %H:%M:%S')\n"
   ]
  },
  {
   "cell_type": "code",
   "execution_count": 60,
   "metadata": {
    "ExecuteTime": {
     "end_time": "2021-03-11T16:24:48.314353Z",
     "start_time": "2021-03-11T16:24:48.307020Z"
    }
   },
   "outputs": [
    {
     "data": {
      "text/plain": [
       "datetime.datetime(2021, 3, 11, 16, 24, 6, 695000)"
      ]
     },
     "execution_count": 60,
     "metadata": {},
     "output_type": "execute_result"
    }
   ],
   "source": []
  },
  {
   "cell_type": "code",
   "execution_count": 40,
   "metadata": {
    "ExecuteTime": {
     "end_time": "2021-03-11T16:05:39.946015Z",
     "start_time": "2021-03-11T16:05:39.892062Z"
    }
   },
   "outputs": [
    {
     "data": {
      "text/html": [
       "<div>\n",
       "<style scoped>\n",
       "    .dataframe tbody tr th:only-of-type {\n",
       "        vertical-align: middle;\n",
       "    }\n",
       "\n",
       "    .dataframe tbody tr th {\n",
       "        vertical-align: top;\n",
       "    }\n",
       "\n",
       "    .dataframe thead th {\n",
       "        text-align: right;\n",
       "    }\n",
       "</style>\n",
       "<table border=\"1\" class=\"dataframe\">\n",
       "  <thead>\n",
       "    <tr style=\"text-align: right;\">\n",
       "      <th></th>\n",
       "      <th>symbol</th>\n",
       "      <th>orderId</th>\n",
       "      <th>orderListId</th>\n",
       "      <th>clientOrderId</th>\n",
       "      <th>price</th>\n",
       "      <th>origQty</th>\n",
       "      <th>executedQty</th>\n",
       "      <th>cummulativeQuoteQty</th>\n",
       "      <th>status</th>\n",
       "      <th>timeInForce</th>\n",
       "      <th>type</th>\n",
       "      <th>side</th>\n",
       "      <th>stopPrice</th>\n",
       "      <th>icebergQty</th>\n",
       "      <th>time</th>\n",
       "      <th>updateTime</th>\n",
       "      <th>isWorking</th>\n",
       "      <th>origQuoteOrderQty</th>\n",
       "    </tr>\n",
       "  </thead>\n",
       "  <tbody>\n",
       "    <tr>\n",
       "      <th>0</th>\n",
       "      <td>BTCUSDT</td>\n",
       "      <td>5158654036</td>\n",
       "      <td>-1</td>\n",
       "      <td>web_bb5943f3f7444b3daa1910b722184958</td>\n",
       "      <td>53550.00000000</td>\n",
       "      <td>0.00035600</td>\n",
       "      <td>0.00000000</td>\n",
       "      <td>0.00000000</td>\n",
       "      <td>CANCELED</td>\n",
       "      <td>GTC</td>\n",
       "      <td>STOP_LOSS_LIMIT</td>\n",
       "      <td>SELL</td>\n",
       "      <td>53600.00000000</td>\n",
       "      <td>0.00000000</td>\n",
       "      <td>1615291026247</td>\n",
       "      <td>1615291915984</td>\n",
       "      <td>False</td>\n",
       "      <td>0.00000000</td>\n",
       "    </tr>\n",
       "    <tr>\n",
       "      <th>1</th>\n",
       "      <td>BTCUSDT</td>\n",
       "      <td>5170098038</td>\n",
       "      <td>-1</td>\n",
       "      <td>web_3303be7355ca4e9f89ae1de3ac77c499</td>\n",
       "      <td>0.00000000</td>\n",
       "      <td>0.00037700</td>\n",
       "      <td>0.00037700</td>\n",
       "      <td>20.49372754</td>\n",
       "      <td>FILLED</td>\n",
       "      <td>GTC</td>\n",
       "      <td>MARKET</td>\n",
       "      <td>BUY</td>\n",
       "      <td>0.00000000</td>\n",
       "      <td>0.00000000</td>\n",
       "      <td>1615363612817</td>\n",
       "      <td>1615363612817</td>\n",
       "      <td>True</td>\n",
       "      <td>20.52685530</td>\n",
       "    </tr>\n",
       "    <tr>\n",
       "      <th>2</th>\n",
       "      <td>BTCUSDT</td>\n",
       "      <td>5170122130</td>\n",
       "      <td>-1</td>\n",
       "      <td>web_410ce0ce1c2b48d8a0d71f6ed238a603</td>\n",
       "      <td>53800.01000000</td>\n",
       "      <td>0.00037900</td>\n",
       "      <td>0.00000000</td>\n",
       "      <td>0.00000000</td>\n",
       "      <td>CANCELED</td>\n",
       "      <td>GTC</td>\n",
       "      <td>STOP_LOSS_LIMIT</td>\n",
       "      <td>SELL</td>\n",
       "      <td>53900.00000000</td>\n",
       "      <td>0.00000000</td>\n",
       "      <td>1615363733319</td>\n",
       "      <td>1615363855399</td>\n",
       "      <td>False</td>\n",
       "      <td>0.00000000</td>\n",
       "    </tr>\n",
       "    <tr>\n",
       "      <th>3</th>\n",
       "      <td>BTCUSDT</td>\n",
       "      <td>5170158100</td>\n",
       "      <td>-1</td>\n",
       "      <td>web_dbad8768b5dc40b896290dfc5fc040d3</td>\n",
       "      <td>51630.00000000</td>\n",
       "      <td>0.00037900</td>\n",
       "      <td>0.00000000</td>\n",
       "      <td>0.00000000</td>\n",
       "      <td>CANCELED</td>\n",
       "      <td>GTC</td>\n",
       "      <td>STOP_LOSS_LIMIT</td>\n",
       "      <td>SELL</td>\n",
       "      <td>51642.00000000</td>\n",
       "      <td>0.00000000</td>\n",
       "      <td>1615363933752</td>\n",
       "      <td>1615370703690</td>\n",
       "      <td>False</td>\n",
       "      <td>0.00000000</td>\n",
       "    </tr>\n",
       "    <tr>\n",
       "      <th>4</th>\n",
       "      <td>BTCUSDT</td>\n",
       "      <td>5171319427</td>\n",
       "      <td>-1</td>\n",
       "      <td>web_def6c1c5ec2e4dc398f60143648abdb3</td>\n",
       "      <td>0.00000000</td>\n",
       "      <td>0.00037900</td>\n",
       "      <td>0.00037900</td>\n",
       "      <td>20.85782915</td>\n",
       "      <td>FILLED</td>\n",
       "      <td>GTC</td>\n",
       "      <td>MARKET</td>\n",
       "      <td>SELL</td>\n",
       "      <td>0.00000000</td>\n",
       "      <td>0.00000000</td>\n",
       "      <td>1615370715651</td>\n",
       "      <td>1615370715651</td>\n",
       "      <td>True</td>\n",
       "      <td>0.00000000</td>\n",
       "    </tr>\n",
       "    <tr>\n",
       "      <th>5</th>\n",
       "      <td>BTCUSDT</td>\n",
       "      <td>5186469425</td>\n",
       "      <td>-1</td>\n",
       "      <td>web_eee00f69738345c88b6c5a7950ba0b22</td>\n",
       "      <td>0.00000000</td>\n",
       "      <td>0.00329300</td>\n",
       "      <td>0.00329300</td>\n",
       "      <td>186.38380000</td>\n",
       "      <td>FILLED</td>\n",
       "      <td>GTC</td>\n",
       "      <td>MARKET</td>\n",
       "      <td>BUY</td>\n",
       "      <td>0.00000000</td>\n",
       "      <td>0.00000000</td>\n",
       "      <td>1615468442236</td>\n",
       "      <td>1615468442236</td>\n",
       "      <td>True</td>\n",
       "      <td>186.44021760</td>\n",
       "    </tr>\n",
       "    <tr>\n",
       "      <th>6</th>\n",
       "      <td>BTCUSDT</td>\n",
       "      <td>5186538764</td>\n",
       "      <td>-1</td>\n",
       "      <td>web_4e1246eca8fd42f48c51f4a5358e4bbf</td>\n",
       "      <td>53700.00000000</td>\n",
       "      <td>0.00329000</td>\n",
       "      <td>0.00000000</td>\n",
       "      <td>0.00000000</td>\n",
       "      <td>NEW</td>\n",
       "      <td>GTC</td>\n",
       "      <td>STOP_LOSS_LIMIT</td>\n",
       "      <td>SELL</td>\n",
       "      <td>53770.00000000</td>\n",
       "      <td>0.00000000</td>\n",
       "      <td>1615468784727</td>\n",
       "      <td>1615468784727</td>\n",
       "      <td>False</td>\n",
       "      <td>0.00000000</td>\n",
       "    </tr>\n",
       "  </tbody>\n",
       "</table>\n",
       "</div>"
      ],
      "text/plain": [
       "    symbol     orderId  orderListId                         clientOrderId  \\\n",
       "0  BTCUSDT  5158654036           -1  web_bb5943f3f7444b3daa1910b722184958   \n",
       "1  BTCUSDT  5170098038           -1  web_3303be7355ca4e9f89ae1de3ac77c499   \n",
       "2  BTCUSDT  5170122130           -1  web_410ce0ce1c2b48d8a0d71f6ed238a603   \n",
       "3  BTCUSDT  5170158100           -1  web_dbad8768b5dc40b896290dfc5fc040d3   \n",
       "4  BTCUSDT  5171319427           -1  web_def6c1c5ec2e4dc398f60143648abdb3   \n",
       "5  BTCUSDT  5186469425           -1  web_eee00f69738345c88b6c5a7950ba0b22   \n",
       "6  BTCUSDT  5186538764           -1  web_4e1246eca8fd42f48c51f4a5358e4bbf   \n",
       "\n",
       "            price     origQty executedQty cummulativeQuoteQty    status  \\\n",
       "0  53550.00000000  0.00035600  0.00000000          0.00000000  CANCELED   \n",
       "1      0.00000000  0.00037700  0.00037700         20.49372754    FILLED   \n",
       "2  53800.01000000  0.00037900  0.00000000          0.00000000  CANCELED   \n",
       "3  51630.00000000  0.00037900  0.00000000          0.00000000  CANCELED   \n",
       "4      0.00000000  0.00037900  0.00037900         20.85782915    FILLED   \n",
       "5      0.00000000  0.00329300  0.00329300        186.38380000    FILLED   \n",
       "6  53700.00000000  0.00329000  0.00000000          0.00000000       NEW   \n",
       "\n",
       "  timeInForce             type  side       stopPrice  icebergQty  \\\n",
       "0         GTC  STOP_LOSS_LIMIT  SELL  53600.00000000  0.00000000   \n",
       "1         GTC           MARKET   BUY      0.00000000  0.00000000   \n",
       "2         GTC  STOP_LOSS_LIMIT  SELL  53900.00000000  0.00000000   \n",
       "3         GTC  STOP_LOSS_LIMIT  SELL  51642.00000000  0.00000000   \n",
       "4         GTC           MARKET  SELL      0.00000000  0.00000000   \n",
       "5         GTC           MARKET   BUY      0.00000000  0.00000000   \n",
       "6         GTC  STOP_LOSS_LIMIT  SELL  53770.00000000  0.00000000   \n",
       "\n",
       "            time     updateTime  isWorking origQuoteOrderQty  \n",
       "0  1615291026247  1615291915984      False        0.00000000  \n",
       "1  1615363612817  1615363612817       True       20.52685530  \n",
       "2  1615363733319  1615363855399      False        0.00000000  \n",
       "3  1615363933752  1615370703690      False        0.00000000  \n",
       "4  1615370715651  1615370715651       True        0.00000000  \n",
       "5  1615468442236  1615468442236       True      186.44021760  \n",
       "6  1615468784727  1615468784727      False        0.00000000  "
      ]
     },
     "execution_count": 40,
     "metadata": {},
     "output_type": "execute_result"
    }
   ],
   "source": [
    "type(a)"
   ]
  }
 ],
 "metadata": {
  "kernelspec": {
   "display_name": "Python 3",
   "language": "python",
   "name": "python3"
  },
  "language_info": {
   "codemirror_mode": {
    "name": "ipython",
    "version": 3
   },
   "file_extension": ".py",
   "mimetype": "text/x-python",
   "name": "python",
   "nbconvert_exporter": "python",
   "pygments_lexer": "ipython3",
   "version": "3.8.6"
  }
 },
 "nbformat": 4,
 "nbformat_minor": 4
}
