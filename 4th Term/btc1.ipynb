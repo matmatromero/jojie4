{
 "cells": [
  {
   "cell_type": "code",
   "execution_count": 1,
   "metadata": {
    "ExecuteTime": {
     "end_time": "2021-04-24T14:55:52.246934Z",
     "start_time": "2021-04-24T14:55:50.777960Z"
    }
   },
   "outputs": [],
   "source": [
    "import pandas as pd\n",
    "import networkx as nx\n",
    "import matplotlib.pyplot as plt\n",
    "import dask.dataframe as dd\n",
    "import seaborn as sns\n",
    "import numpy as np"
   ]
  },
  {
   "cell_type": "code",
   "execution_count": 2,
   "metadata": {
    "ExecuteTime": {
     "end_time": "2021-04-24T14:56:05.163856Z",
     "start_time": "2021-04-24T14:55:52.248781Z"
    }
   },
   "outputs": [],
   "source": [
    "df = pd.read_csv('blockchair_bitcoin_inputs_20210313.tsv.gz', compression='gzip', sep='\\t')"
   ]
  },
  {
   "cell_type": "code",
   "execution_count": 3,
   "metadata": {
    "ExecuteTime": {
     "end_time": "2021-04-24T14:56:09.388544Z",
     "start_time": "2021-04-24T14:56:05.166391Z"
    }
   },
   "outputs": [],
   "source": [
    "df2 = pd.read_csv('blockchair_bitcoin_outputs_20210313.tsv.gz', compression='gzip', sep='\\t')"
   ]
  },
  {
   "cell_type": "code",
   "execution_count": 4,
   "metadata": {
    "ExecuteTime": {
     "end_time": "2021-04-24T14:56:24.234270Z",
     "start_time": "2021-04-24T14:56:09.391085Z"
    }
   },
   "outputs": [],
   "source": [
    "df3 = pd.read_csv('blockchair_bitcoin_inputs_20210418.tsv.gz', compression='gzip', sep='\\t')\n",
    "df4 = pd.read_csv('blockchair_bitcoin_outputs_20210418.tsv.gz', compression='gzip', sep='\\t')"
   ]
  },
  {
   "cell_type": "code",
   "execution_count": 5,
   "metadata": {
    "ExecuteTime": {
     "end_time": "2021-04-24T14:56:24.662652Z",
     "start_time": "2021-04-24T14:56:24.235991Z"
    }
   },
   "outputs": [
    {
     "name": "stdout",
     "output_type": "stream",
     "text": [
      "<class 'pandas.core.frame.DataFrame'>\n",
      "RangeIndex: 885267 entries, 0 to 885266\n",
      "Data columns (total 21 columns):\n",
      " #   Column                     Non-Null Count   Dtype  \n",
      "---  ------                     --------------   -----  \n",
      " 0   block_id                   885267 non-null  int64  \n",
      " 1   transaction_hash           885267 non-null  object \n",
      " 2   index                      885267 non-null  int64  \n",
      " 3   time                       885267 non-null  object \n",
      " 4   value                      885267 non-null  int64  \n",
      " 5   value_usd                  885267 non-null  float64\n",
      " 6   recipient                  885267 non-null  object \n",
      " 7   type                       885267 non-null  object \n",
      " 8   script_hex                 885267 non-null  object \n",
      " 9   is_from_coinbase           885267 non-null  int64  \n",
      " 10  is_spendable               885267 non-null  int64  \n",
      " 11  spending_block_id          885267 non-null  int64  \n",
      " 12  spending_transaction_hash  885267 non-null  object \n",
      " 13  spending_index             885267 non-null  int64  \n",
      " 14  spending_time              885267 non-null  object \n",
      " 15  spending_value_usd         885267 non-null  float64\n",
      " 16  spending_sequence          885267 non-null  int64  \n",
      " 17  spending_signature_hex     776298 non-null  object \n",
      " 18  spending_witness           521485 non-null  object \n",
      " 19  lifespan                   885267 non-null  int64  \n",
      " 20  cdd                        885267 non-null  float64\n",
      "dtypes: float64(3), int64(9), object(9)\n",
      "memory usage: 141.8+ MB\n"
     ]
    }
   ],
   "source": [
    "df.info()"
   ]
  },
  {
   "cell_type": "code",
   "execution_count": 6,
   "metadata": {
    "ExecuteTime": {
     "end_time": "2021-04-24T14:56:24.683091Z",
     "start_time": "2021-04-24T14:56:24.664319Z"
    }
   },
   "outputs": [
    {
     "data": {
      "text/html": [
       "<div>\n",
       "<style scoped>\n",
       "    .dataframe tbody tr th:only-of-type {\n",
       "        vertical-align: middle;\n",
       "    }\n",
       "\n",
       "    .dataframe tbody tr th {\n",
       "        vertical-align: top;\n",
       "    }\n",
       "\n",
       "    .dataframe thead th {\n",
       "        text-align: right;\n",
       "    }\n",
       "</style>\n",
       "<table border=\"1\" class=\"dataframe\">\n",
       "  <thead>\n",
       "    <tr style=\"text-align: right;\">\n",
       "      <th></th>\n",
       "      <th>block_id</th>\n",
       "      <th>transaction_hash</th>\n",
       "      <th>index</th>\n",
       "      <th>time</th>\n",
       "      <th>value</th>\n",
       "      <th>value_usd</th>\n",
       "      <th>recipient</th>\n",
       "      <th>type</th>\n",
       "      <th>script_hex</th>\n",
       "      <th>is_from_coinbase</th>\n",
       "      <th>is_spendable</th>\n",
       "    </tr>\n",
       "  </thead>\n",
       "  <tbody>\n",
       "    <tr>\n",
       "      <th>0</th>\n",
       "      <td>674354</td>\n",
       "      <td>211dfdebf598d15eb8b188664d963920991f7df8168bc0...</td>\n",
       "      <td>0</td>\n",
       "      <td>2021-03-13 00:09:18</td>\n",
       "      <td>731741124</td>\n",
       "      <td>418307.1250</td>\n",
       "      <td>1CK6KHY6MHgYvmRQ4PAafKYDrg1ejbH1cE</td>\n",
       "      <td>pubkeyhash</td>\n",
       "      <td>76a9147c154ed1dc59609e3d26abb2df2ea3d587cd8c41...</td>\n",
       "      <td>1</td>\n",
       "      <td>-1</td>\n",
       "    </tr>\n",
       "    <tr>\n",
       "      <th>1</th>\n",
       "      <td>674354</td>\n",
       "      <td>211dfdebf598d15eb8b188664d963920991f7df8168bc0...</td>\n",
       "      <td>1</td>\n",
       "      <td>2021-03-13 00:09:18</td>\n",
       "      <td>0</td>\n",
       "      <td>0.0000</td>\n",
       "      <td>d-d4ee8394becc9296404ca86a8cb4284f</td>\n",
       "      <td>nulldata</td>\n",
       "      <td>6a4c2952534b424c4f434b3a1145118858629f0ae3466d...</td>\n",
       "      <td>1</td>\n",
       "      <td>0</td>\n",
       "    </tr>\n",
       "    <tr>\n",
       "      <th>2</th>\n",
       "      <td>674354</td>\n",
       "      <td>211dfdebf598d15eb8b188664d963920991f7df8168bc0...</td>\n",
       "      <td>2</td>\n",
       "      <td>2021-03-13 00:09:18</td>\n",
       "      <td>0</td>\n",
       "      <td>0.0000</td>\n",
       "      <td>d-f0c8647d9dc0f4ba895f259ba5d76350</td>\n",
       "      <td>nulldata</td>\n",
       "      <td>6a4c266a24b9e11b6dab79463cfeccbf5ca2e980885d50...</td>\n",
       "      <td>1</td>\n",
       "      <td>0</td>\n",
       "    </tr>\n",
       "    <tr>\n",
       "      <th>3</th>\n",
       "      <td>674354</td>\n",
       "      <td>211dfdebf598d15eb8b188664d963920991f7df8168bc0...</td>\n",
       "      <td>3</td>\n",
       "      <td>2021-03-13 00:09:18</td>\n",
       "      <td>0</td>\n",
       "      <td>0.0000</td>\n",
       "      <td>d-4258d4902e60bc88a3755101dbe621ed</td>\n",
       "      <td>nulldata</td>\n",
       "      <td>6a24aa21a9ed8cb9b88ad2036f87ca87ca8c3055fb13c0...</td>\n",
       "      <td>1</td>\n",
       "      <td>0</td>\n",
       "    </tr>\n",
       "    <tr>\n",
       "      <th>4</th>\n",
       "      <td>674354</td>\n",
       "      <td>4ba5747cad78e48f1c4634888c771eb97233a3b6ac8b9a...</td>\n",
       "      <td>0</td>\n",
       "      <td>2021-03-13 00:09:18</td>\n",
       "      <td>497517</td>\n",
       "      <td>284.4106</td>\n",
       "      <td>3E6HKvbEhvqTACkMBgBijXVDEwErrJc9W2</td>\n",
       "      <td>scripthash</td>\n",
       "      <td>a9148807ef3523bee90d3d88ba927a5dcf64557f7e7687</td>\n",
       "      <td>0</td>\n",
       "      <td>-1</td>\n",
       "    </tr>\n",
       "  </tbody>\n",
       "</table>\n",
       "</div>"
      ],
      "text/plain": [
       "   block_id                                   transaction_hash  index  \\\n",
       "0    674354  211dfdebf598d15eb8b188664d963920991f7df8168bc0...      0   \n",
       "1    674354  211dfdebf598d15eb8b188664d963920991f7df8168bc0...      1   \n",
       "2    674354  211dfdebf598d15eb8b188664d963920991f7df8168bc0...      2   \n",
       "3    674354  211dfdebf598d15eb8b188664d963920991f7df8168bc0...      3   \n",
       "4    674354  4ba5747cad78e48f1c4634888c771eb97233a3b6ac8b9a...      0   \n",
       "\n",
       "                  time      value    value_usd  \\\n",
       "0  2021-03-13 00:09:18  731741124  418307.1250   \n",
       "1  2021-03-13 00:09:18          0       0.0000   \n",
       "2  2021-03-13 00:09:18          0       0.0000   \n",
       "3  2021-03-13 00:09:18          0       0.0000   \n",
       "4  2021-03-13 00:09:18     497517     284.4106   \n",
       "\n",
       "                            recipient        type  \\\n",
       "0  1CK6KHY6MHgYvmRQ4PAafKYDrg1ejbH1cE  pubkeyhash   \n",
       "1  d-d4ee8394becc9296404ca86a8cb4284f    nulldata   \n",
       "2  d-f0c8647d9dc0f4ba895f259ba5d76350    nulldata   \n",
       "3  d-4258d4902e60bc88a3755101dbe621ed    nulldata   \n",
       "4  3E6HKvbEhvqTACkMBgBijXVDEwErrJc9W2  scripthash   \n",
       "\n",
       "                                          script_hex  is_from_coinbase  \\\n",
       "0  76a9147c154ed1dc59609e3d26abb2df2ea3d587cd8c41...                 1   \n",
       "1  6a4c2952534b424c4f434b3a1145118858629f0ae3466d...                 1   \n",
       "2  6a4c266a24b9e11b6dab79463cfeccbf5ca2e980885d50...                 1   \n",
       "3  6a24aa21a9ed8cb9b88ad2036f87ca87ca8c3055fb13c0...                 1   \n",
       "4     a9148807ef3523bee90d3d88ba927a5dcf64557f7e7687                 0   \n",
       "\n",
       "   is_spendable  \n",
       "0            -1  \n",
       "1             0  \n",
       "2             0  \n",
       "3             0  \n",
       "4            -1  "
      ]
     },
     "execution_count": 6,
     "metadata": {},
     "output_type": "execute_result"
    }
   ],
   "source": [
    "df2.head(5)"
   ]
  },
  {
   "cell_type": "code",
   "execution_count": 7,
   "metadata": {
    "ExecuteTime": {
     "end_time": "2021-04-24T14:56:25.228269Z",
     "start_time": "2021-04-24T14:56:24.684657Z"
    },
    "scrolled": false
   },
   "outputs": [],
   "source": [
    "df_m = df[df['value_usd'] >= 1e6].reset_index(drop=True)\n",
    "# df_not_m = df[df['value_usd'] < 1e6].reset_index(drop=True)\n",
    "d_m = df_m.merge(df2, on = 'transaction_hash', how = 'inner')\n",
    "# d_not_m = df_not_m.merge(df2, on = 'transaction_hash', how = 'inner')"
   ]
  },
  {
   "cell_type": "code",
   "execution_count": 8,
   "metadata": {
    "ExecuteTime": {
     "end_time": "2021-04-24T14:56:25.743956Z",
     "start_time": "2021-04-24T14:56:25.230968Z"
    }
   },
   "outputs": [],
   "source": [
    "df1_m = df3[df3['value_usd'] > 1e6].reset_index(drop=True)\n",
    "# df1_not_m = df3[df3['value_usd'] < 1e6].reset_index(drop=True)\n",
    "d1_m = df1_m.merge(df4, on = 'transaction_hash', how = 'inner')\n",
    "# d1_not_m = df1_not_m.merge(df4, on = 'transaction_hash', how = 'inner')"
   ]
  },
  {
   "cell_type": "code",
   "execution_count": 9,
   "metadata": {
    "ExecuteTime": {
     "end_time": "2021-04-24T14:56:25.805183Z",
     "start_time": "2021-04-24T14:56:25.746208Z"
    }
   },
   "outputs": [],
   "source": [
    "dx_m = d_m[['recipient_x', 'recipient_y']]\n",
    "dx1_m = d1_m[['recipient_x', 'recipient_y']]"
   ]
  },
  {
   "cell_type": "code",
   "execution_count": 10,
   "metadata": {
    "ExecuteTime": {
     "end_time": "2021-04-24T14:56:25.809238Z",
     "start_time": "2021-04-24T14:56:25.807053Z"
    }
   },
   "outputs": [],
   "source": [
    "# dx_m = d_m[['recipient_x', 'recipient_y']]\n",
    "# dx_not_m = d_not_m[['recipient_x', 'recipient_y']]\n",
    "# dx1_m = d1_m[['recipient_x', 'recipient_y']]\n",
    "# dx1_not_m = d1_not_m[['recipient_x', 'recipient_y']]"
   ]
  },
  {
   "cell_type": "code",
   "execution_count": 11,
   "metadata": {
    "ExecuteTime": {
     "end_time": "2021-04-24T14:56:25.925129Z",
     "start_time": "2021-04-24T14:56:25.810676Z"
    }
   },
   "outputs": [],
   "source": [
    "G = nx.Graph()\n",
    "G = nx.from_pandas_edgelist(dx_m, 'recipient_x', 'recipient_y',\n",
    "                            create_using=nx.DiGraph())\n"
   ]
  },
  {
   "cell_type": "code",
   "execution_count": 12,
   "metadata": {
    "ExecuteTime": {
     "end_time": "2021-04-24T14:56:25.928925Z",
     "start_time": "2021-04-24T14:56:25.926861Z"
    }
   },
   "outputs": [],
   "source": [
    "# G1 = nx.Graph()\n",
    "# G1 = nx.from_pandas_edgelist(dx_not_m, 'recipient_x', 'recipient_y',\n",
    "#                             create_using=nx.DiGraph())\n"
   ]
  },
  {
   "cell_type": "code",
   "execution_count": 15,
   "metadata": {
    "ExecuteTime": {
     "end_time": "2021-04-24T14:58:32.101247Z",
     "start_time": "2021-04-24T14:58:31.828882Z"
    }
   },
   "outputs": [],
   "source": [
    "G2 = nx.Graph()\n",
    "G2 = nx.from_pandas_edgelist(dx1_m, 'recipient_x', 'recipient_y',\n",
    "                             create_using=nx.DiGraph())\n"
   ]
  },
  {
   "cell_type": "code",
   "execution_count": null,
   "metadata": {
    "ExecuteTime": {
     "end_time": "2021-04-24T14:56:25.937858Z",
     "start_time": "2021-04-24T14:55:50.678Z"
    }
   },
   "outputs": [],
   "source": [
    "# G3 = nx.Graph()\n",
    "# G3 = nx.from_pandas_edgelist(dx1_not_m, 'recipient_x', 'recipient_y',\n",
    "#                             create_using=nx.DiGraph())"
   ]
  },
  {
   "cell_type": "code",
   "execution_count": 16,
   "metadata": {
    "ExecuteTime": {
     "end_time": "2021-04-24T14:58:36.391510Z",
     "start_time": "2021-04-24T14:58:35.537639Z"
    }
   },
   "outputs": [
    {
     "data": {
      "image/png": "[encoded data removed]",
      "text/plain": [
       "<Figure size 432x288 with 1 Axes>"
      ]
     },
     "metadata": {
      "needs_background": "light"
     },
     "output_type": "display_data"
    }
   ],
   "source": [
    "plt.loglog(nx.degree_histogram(G),'.');"
   ]
  },
  {
   "cell_type": "code",
   "execution_count": null,
   "metadata": {
    "ExecuteTime": {
     "end_time": "2021-04-24T14:56:25.940056Z",
     "start_time": "2021-04-24T14:55:50.681Z"
    }
   },
   "outputs": [],
   "source": [
    "# plt.loglog(nx.degree_histogram(G1),'.');"
   ]
  },
  {
   "cell_type": "code",
   "execution_count": 18,
   "metadata": {
    "ExecuteTime": {
     "end_time": "2021-04-24T14:58:49.337157Z",
     "start_time": "2021-04-24T14:58:48.677151Z"
    }
   },
   "outputs": [
    {
     "data": {
      "image/png": "[encoded data removed]",
      "text/plain": [
       "<Figure size 432x288 with 1 Axes>"
      ]
     },
     "metadata": {
      "needs_background": "light"
     },
     "output_type": "display_data"
    }
   ],
   "source": [
    "plt.loglog(nx.degree_histogram(G2),'.');"
   ]
  },
  {
   "cell_type": "code",
   "execution_count": null,
   "metadata": {
    "ExecuteTime": {
     "end_time": "2021-04-24T14:56:25.942500Z",
     "start_time": "2021-04-24T14:55:50.683Z"
    }
   },
   "outputs": [],
   "source": [
    "# plt.loglog(nx.degree_histogram(G3),'.');"
   ]
  },
  {
   "cell_type": "code",
   "execution_count": 21,
   "metadata": {
    "ExecuteTime": {
     "end_time": "2021-04-24T14:59:27.388596Z",
     "start_time": "2021-04-24T14:59:27.382277Z"
    }
   },
   "outputs": [],
   "source": [
    "def clust_coef(net):\n",
    "    cc = nx.clustering(net)\n",
    "    avg_clust = sum(cc.values()) / len(cc)\n",
    "    return avg_clust\n",
    "#     print(f'Average clustering coefficient = {avg_clust}')\n",
    "def ave_deg(net):\n",
    "    degrees1 = [k for node, k in nx.degree(net)]\n",
    "    k_min1 = np.min(degrees1)\n",
    "    k_max1 = np.max(degrees1)\n",
    "    k_avg1 = np.mean(degrees1)\n",
    "    return [k_min1, k_max1, k_avg1]\n",
    "#     print ('Minimum degree: ', k_min1)\n",
    "#     print ('Maximum degree: ', k_max1)\n",
    "#     print ('Average degree: ', k_avg1)"
   ]
  },
  {
   "cell_type": "code",
   "execution_count": 22,
   "metadata": {
    "ExecuteTime": {
     "end_time": "2021-04-24T14:59:30.974889Z",
     "start_time": "2021-04-24T14:59:27.549974Z"
    }
   },
   "outputs": [
    {
     "data": {
      "text/html": [
       "<div>\n",
       "<style scoped>\n",
       "    .dataframe tbody tr th:only-of-type {\n",
       "        vertical-align: middle;\n",
       "    }\n",
       "\n",
       "    .dataframe tbody tr th {\n",
       "        vertical-align: top;\n",
       "    }\n",
       "\n",
       "    .dataframe thead th {\n",
       "        text-align: right;\n",
       "    }\n",
       "</style>\n",
       "<table border=\"1\" class=\"dataframe\">\n",
       "  <thead>\n",
       "    <tr style=\"text-align: right;\">\n",
       "      <th></th>\n",
       "      <th>Network</th>\n",
       "      <th>Min Degree</th>\n",
       "      <th>Max Degree</th>\n",
       "      <th>Ave. Degree</th>\n",
       "      <th>Clustering Coefficient</th>\n",
       "    </tr>\n",
       "  </thead>\n",
       "  <tbody>\n",
       "    <tr>\n",
       "      <th>0</th>\n",
       "      <td>Apr13, &gt; 1M</td>\n",
       "      <td>1</td>\n",
       "      <td>5479</td>\n",
       "      <td>2.361937</td>\n",
       "      <td>0.076085</td>\n",
       "    </tr>\n",
       "    <tr>\n",
       "      <th>1</th>\n",
       "      <td>Apr18, &gt; 1M</td>\n",
       "      <td>1</td>\n",
       "      <td>1502</td>\n",
       "      <td>2.843300</td>\n",
       "      <td>0.134086</td>\n",
       "    </tr>\n",
       "  </tbody>\n",
       "</table>\n",
       "</div>"
      ],
      "text/plain": [
       "       Network Min Degree Max Degree  Ave. Degree  Clustering Coefficient\n",
       "0  Apr13, > 1M          1       5479     2.361937                0.076085\n",
       "1  Apr18, > 1M          1       1502     2.843300                0.134086"
      ]
     },
     "execution_count": 22,
     "metadata": {},
     "output_type": "execute_result"
    }
   ],
   "source": [
    "cols = ['Network', 'Min Degree', 'Max Degree', 'Ave. Degree', 'Clustering Coefficient']\n",
    "df_metrics = pd.DataFrame(columns=cols)\n",
    "\n",
    "df_metrics.loc[0] = ['Apr13, > 1M', ave_deg(G)[0], ave_deg(G)[1],\n",
    "                     ave_deg(G)[2], clust_coef(G)]\n",
    "\n",
    "# df_metrics.loc[1] = ['Apr13, < 1M', ave_deg(G1)[0], ave_deg(G1)[1],\n",
    "#                      ave_deg(G1)[2], clust_coef(G1)]\n",
    "\n",
    "df_metrics.loc[1] = ['Apr18, > 1M', ave_deg(G2)[0], ave_deg(G2)[1],\n",
    "                     ave_deg(G2)[2], clust_coef(G2)]\n",
    "\n",
    "# df_metrics.loc[3] = ['Apr18, < 1M', ave_deg(G3)[0], ave_deg(G3)[1],\n",
    "#                      ave_deg(G3)[2], clust_coef(G3)]\n",
    "\n",
    "df_metrics"
   ]
  },
  {
   "cell_type": "code",
   "execution_count": null,
   "metadata": {
    "ExecuteTime": {
     "end_time": "2021-04-24T14:56:25.946618Z",
     "start_time": "2021-04-24T14:55:50.686Z"
    }
   },
   "outputs": [],
   "source": [
    "# nx.number_strongly_connected_components(G)"
   ]
  },
  {
   "cell_type": "code",
   "execution_count": null,
   "metadata": {
    "ExecuteTime": {
     "end_time": "2021-04-24T14:56:25.947759Z",
     "start_time": "2021-04-24T14:55:50.687Z"
    }
   },
   "outputs": [],
   "source": [
    "# dist = [(in_values.count(v)) for k, v in in_degrees]"
   ]
  },
  {
   "cell_type": "code",
   "execution_count": null,
   "metadata": {
    "ExecuteTime": {
     "end_time": "2021-04-24T14:56:25.949005Z",
     "start_time": "2021-04-24T14:55:50.688Z"
    }
   },
   "outputs": [],
   "source": [
    "# in_degrees"
   ]
  },
  {
   "cell_type": "code",
   "execution_count": null,
   "metadata": {
    "ExecuteTime": {
     "end_time": "2021-04-24T14:56:25.950058Z",
     "start_time": "2021-04-24T14:55:50.689Z"
    }
   },
   "outputs": [],
   "source": [
    "# plt.figure(figsize=(15,10))\n",
    "# plt.axis('off')\n",
    "\n",
    "# pos = nx.spring_layout(G, k=0.18)\n",
    "# nx.draw_networkx(G, pos = pos, cmap = plt.cm.RdYlBu, \n",
    "#                 node_size = 100, with_labels = False)\n",
    "\n",
    "# ax = plt.gca()\n",
    "# ax.collections[0].set_edgecolor(\"black\")\n",
    "\n",
    "# # plt.suptitle('Network Graph of the Social Network')\n",
    "# plt.show()"
   ]
  },
  {
   "cell_type": "code",
   "execution_count": null,
   "metadata": {
    "ExecuteTime": {
     "end_time": "2021-04-24T12:49:35.877269Z",
     "start_time": "2021-04-24T12:49:35.788508Z"
    }
   },
   "outputs": [],
   "source": []
  },
  {
   "cell_type": "code",
   "execution_count": null,
   "metadata": {
    "ExecuteTime": {
     "end_time": "2021-04-24T14:56:25.951125Z",
     "start_time": "2021-04-24T14:55:50.691Z"
    }
   },
   "outputs": [],
   "source": [
    "# degrees = [k for node, k in nx.degree(G)]\n",
    "# k_min = np.min(degrees)\n",
    "# k_max = np.max(degrees)\n",
    "# k_avg = np.mean(degrees)\n",
    "\n",
    "# print ('Minimum degree: ', k_min)\n",
    "# print ('Maximum degree: ', k_max)\n",
    "# print ('Average degree: ', k_avg)\n",
    "# clust_coef(G)"
   ]
  },
  {
   "cell_type": "code",
   "execution_count": null,
   "metadata": {
    "ExecuteTime": {
     "end_time": "2021-04-24T14:56:25.952183Z",
     "start_time": "2021-04-24T14:55:50.692Z"
    }
   },
   "outputs": [],
   "source": [
    "# G1 = nx.Graph()\n",
    "# G1 = nx.from_pandas_edgelist(dx_not_m, 'recipient_x', 'recipient_y',\n",
    "#                             create_using=nx.DiGraph())"
   ]
  },
  {
   "cell_type": "code",
   "execution_count": null,
   "metadata": {
    "ExecuteTime": {
     "end_time": "2021-04-24T14:56:25.953347Z",
     "start_time": "2021-04-24T14:55:50.692Z"
    }
   },
   "outputs": [],
   "source": [
    "# plt.loglog(nx.degree_histogram(G),'.');"
   ]
  },
  {
   "cell_type": "code",
   "execution_count": null,
   "metadata": {
    "ExecuteTime": {
     "end_time": "2021-04-24T14:56:25.954407Z",
     "start_time": "2021-04-24T14:55:50.693Z"
    }
   },
   "outputs": [],
   "source": [
    "# degrees = [k for node, k in nx.degree(G1)]\n",
    "# k_min = np.min(degrees)\n",
    "# k_max = np.max(degrees)\n",
    "# k_avg = np.mean(degrees)\n",
    "\n",
    "# print ('Minimum degree: ', k_min)\n",
    "# print ('Maximum degree: ', k_max)\n",
    "# print ('Average degree: ', k_avg)\n",
    "# clust_coef(G1)"
   ]
  },
  {
   "cell_type": "code",
   "execution_count": null,
   "metadata": {},
   "outputs": [],
   "source": []
  }
 ],
 "metadata": {
  "kernelspec": {
   "display_name": "Python 3",
   "language": "python",
   "name": "python3"
  },
  "language_info": {
   "codemirror_mode": {
    "name": "ipython",
    "version": 3
   },
   "file_extension": ".py",
   "mimetype": "text/x-python",
   "name": "python",
   "nbconvert_exporter": "python",
   "pygments_lexer": "ipython3",
   "version": "3.8.8"
  },
  "toc": {
   "base_numbering": 1,
   "nav_menu": {},
   "number_sections": true,
   "sideBar": true,
   "skip_h1_title": false,
   "title_cell": "Table of Contents",
   "title_sidebar": "Contents",
   "toc_cell": false,
   "toc_position": {},
   "toc_section_display": true,
   "toc_window_display": false
  }
 },
 "nbformat": 4,
 "nbformat_minor": 4
}
