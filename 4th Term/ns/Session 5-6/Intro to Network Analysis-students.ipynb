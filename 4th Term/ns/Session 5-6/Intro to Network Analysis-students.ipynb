{
 "cells": [
  {
   "cell_type": "markdown",
   "metadata": {},
   "source": [
    "# Intro to Network Science\n",
    "\n",
    "**Author: [Erika Fille Legara](http://erikalegara.site)**  \n",
    "**Citation:** Legara, Erika Fille. \"Intro to Network Analysis.\" Network Science Lectures. GitHub repository. 2020. \n",
    "\n",
    "<div class=\"alert alert-block alert-info\">\n",
    "For context, this notebook is accompanied by a two-session lecture (sessions 5-6) of the Network Science course under <a href=\"https://aim.edu/programs/degree-programs/master-science-data-science\">AIM's MSc in Data Science program</a>. The first two course sessions are focused on the introduction to Complex Systems; and 3-4 focus on the intro to the science of network (conceptual and high-level approach with most discussions on use cases). This notebook is for the first set of hands-on sessions.<br/>\n",
    "    \n",
    "The main reference for this lecture/notebook is <a href=\"http://networksciencebook.comhttp://networksciencebook.com\">A-L Barabasi's Network Science</a>. \n",
    "</div>\n",
    "\n",
    "[MIT License](https://github.com/eflegara/Network-Science-Lectures/blob/master/LICENSE.md)\n",
    "\n",
    "---\n"
   ]
  },
  {
   "cell_type": "code",
   "execution_count": 1,
   "metadata": {
    "ExecuteTime": {
     "end_time": "2021-03-16T05:16:32.192777Z",
     "start_time": "2021-03-16T05:16:30.914296Z"
    }
   },
   "outputs": [],
   "source": [
    "import numpy as np\n",
    "import matplotlib.pyplot as plt\n",
    "import pandas as pd\n",
    "import warnings\n",
    "\n",
    "warnings.filterwarnings(\"ignore\")\n",
    "%matplotlib inline"
   ]
  },
  {
   "cell_type": "markdown",
   "metadata": {},
   "source": [
    "## 1. Graphs and DiGraphs"
   ]
  },
  {
   "cell_type": "markdown",
   "metadata": {},
   "source": [
    "### 1.1. Adjacency Matrix"
   ]
  },
  {
   "cell_type": "markdown",
   "metadata": {},
   "source": [
    "<img src=\"figure/N4L4graph.png\" width=\"75%\"> \n",
    " \n",
    " The convention we use is if node $i \\rightarrow j$, then $A_{ij}$; similary, if node $j \\rightarrow i$, we are looking at $A_{ji}$. \n",
    " \n",
    "For example, for the **DiGraph** `adj_DiG`, node $1 \\rightarrow 4$, but not the other way around. Thus, \n",
    "\n",
    "\\begin{equation}\n",
    "     A_{ij}=A_{14} = 1\n",
    "\\end{equation}\n",
    "\\begin{equation}\n",
    "     A_{ji} = A_{41} = 0\n",
    "\\end{equation}\n",
    "\n",
    "for $i=1$ and $j=4$.  \n",
    "\n",
    "In matrix form,\n",
    "\n",
    "\\begin{equation}\n",
    "A_{ij}=\n",
    "  \\left( {\\begin{array}{cccc}\n",
    "  A_{11} & A_{12} & A_{13} & A_{14}\\\\\n",
    "  A_{21} & A_{22} & A_{23} & A_{24}\\\\\n",
    "  A_{31} & A_{32} & A_{33} & A_{34}\\\\\n",
    "  A_{41} & A_{42} & A_{43} & A_{44}\\\\\n",
    "  \\end{array} } \\right).\n",
    "\\end{equation}\n",
    "\n",
    "Therefore, for the two network representations above, Graph (`adj_G`) and DiGraph (`adj_DiG`), the matrix representation are the following.\n",
    "\n",
    "<div class=\"alert alert-block alert-info\">\n",
    "<b>Important:</b> The indices used in the matrices start at 1, while indexing in Python starts at 0. Do remember this to avoid indexing mistakes.\n",
    "</div>"
   ]
  },
  {
   "cell_type": "code",
   "execution_count": 2,
   "metadata": {
    "ExecuteTime": {
     "end_time": "2021-03-16T05:16:35.579351Z",
     "start_time": "2021-03-16T05:16:35.571015Z"
    }
   },
   "outputs": [],
   "source": [
    "adj_G = np.matrix([[0,1,0,1],\n",
    "                   [1,0,0,1],\n",
    "                   [0,0,0,1],\n",
    "                   [1,1,1,0]])\n",
    "\n",
    "adj_DiG = np.matrix([[0,1,0,1],\n",
    "                     [0,0,0,0],\n",
    "                     [0,0,0,0],\n",
    "                     [0,1,1,0]])"
   ]
  },
  {
   "cell_type": "code",
   "execution_count": 4,
   "metadata": {
    "ExecuteTime": {
     "end_time": "2021-03-16T05:16:44.359389Z",
     "start_time": "2021-03-16T05:16:44.347617Z"
    }
   },
   "outputs": [
    {
     "data": {
      "text/plain": [
       "matrix([[0, 1, 0, 1],\n",
       "        [1, 0, 0, 1],\n",
       "        [0, 0, 0, 1],\n",
       "        [1, 1, 1, 0]])"
      ]
     },
     "execution_count": 4,
     "metadata": {},
     "output_type": "execute_result"
    }
   ],
   "source": [
    "adj_G"
   ]
  },
  {
   "cell_type": "markdown",
   "metadata": {},
   "source": [
    "### 1.2. Node Degree"
   ]
  },
  {
   "cell_type": "markdown",
   "metadata": {},
   "source": [
    " <img src=\"figure/node_degree.png\" width=\"60%\">\n",
    "\n",
    "The degree of a node is the total number of links connected to it. Let's first look at the *unidrected* graph `adj_G` where $A_{ij}=A_{ji}$. **Node 4** has degree $k_4 = 3$. \n",
    "\n",
    "From the adjacency matrix, we can obtain this number by summing across any one of the axes. That is,"
   ]
  },
  {
   "cell_type": "code",
   "execution_count": 3,
   "metadata": {
    "ExecuteTime": {
     "end_time": "2021-03-08T13:55:35.290538Z",
     "start_time": "2021-03-08T13:55:35.281047Z"
    }
   },
   "outputs": [
    {
     "data": {
      "text/plain": [
       "3"
      ]
     },
     "execution_count": 3,
     "metadata": {},
     "output_type": "execute_result"
    }
   ],
   "source": [
    "adj_G.sum(axis=0).item(0,3)"
   ]
  },
  {
   "cell_type": "markdown",
   "metadata": {},
   "source": [
    "or"
   ]
  },
  {
   "cell_type": "code",
   "execution_count": 4,
   "metadata": {
    "ExecuteTime": {
     "end_time": "2021-03-08T13:55:35.297367Z",
     "start_time": "2021-03-08T13:55:35.292375Z"
    }
   },
   "outputs": [
    {
     "data": {
      "text/plain": [
       "3"
      ]
     },
     "execution_count": 4,
     "metadata": {},
     "output_type": "execute_result"
    }
   ],
   "source": [
    "adj_G.sum(axis=1).item(3,0)"
   ]
  },
  {
   "cell_type": "markdown",
   "metadata": {},
   "source": [
    "However, for directed graphs, extra care must be taken as switching axes may produce erroneous results. In the DiGraph, for **Node 4**, $k_4^{\\text{in}}=1$ while $k_4^{\\text{out}}=2$.\n",
    "\n",
    "From the numpy matrix, these can be obtained using the following scripts."
   ]
  },
  {
   "cell_type": "code",
   "execution_count": 5,
   "metadata": {
    "ExecuteTime": {
     "end_time": "2021-03-08T13:55:35.303529Z",
     "start_time": "2021-03-08T13:55:35.299137Z"
    }
   },
   "outputs": [
    {
     "data": {
      "text/plain": [
       "1"
      ]
     },
     "execution_count": 5,
     "metadata": {},
     "output_type": "execute_result"
    }
   ],
   "source": [
    "# in-degree\n",
    "adj_DiG.sum(axis=0).item(0,3)"
   ]
  },
  {
   "cell_type": "code",
   "execution_count": 6,
   "metadata": {
    "ExecuteTime": {
     "end_time": "2021-03-08T13:55:35.310093Z",
     "start_time": "2021-03-08T13:55:35.305653Z"
    }
   },
   "outputs": [
    {
     "data": {
      "text/plain": [
       "2"
      ]
     },
     "execution_count": 6,
     "metadata": {},
     "output_type": "execute_result"
    }
   ],
   "source": [
    "# out-degree\n",
    "adj_DiG.sum(axis=1).item(3,0)"
   ]
  },
  {
   "cell_type": "markdown",
   "metadata": {},
   "source": [
    "<div class=\"alert alert-block alert-info\">\n",
    "<b>Important:</b> The order and axes depend on the way you define the adjacency matrix; that is, what you define as $i$ and $j$, how you represent the rows and columns, and how you represent $i \\rightarrow j$ and $i \\leftarrow j$ in the matrix.\n",
    "</div>"
   ]
  },
  {
   "cell_type": "markdown",
   "metadata": {},
   "source": [
    "## 2. Complete Graph\n",
    "\n",
    "A complete graph is a graph where all nodes are connected to all other nodes in the graph. That is,\n",
    "\n",
    "\\begin{equation}\n",
    "A_{ij}=\n",
    "  \\left( {\\begin{array}{cccc}\n",
    "  0 & 1 & 1 & 1\\\\\n",
    "  1 & 0 & 1 & 1\\\\\n",
    "  1 & 1 & 0 & 1\\\\\n",
    "  1 & 1 & 1 & 0\\\\\n",
    "  \\end{array} } \\right)\n",
    "\\end{equation}\n",
    "\n"
   ]
  },
  {
   "cell_type": "code",
   "execution_count": 7,
   "metadata": {
    "ExecuteTime": {
     "end_time": "2021-03-08T13:55:35.317089Z",
     "start_time": "2021-03-08T13:55:35.313596Z"
    }
   },
   "outputs": [],
   "source": [
    "complete_G = np.matrix([[0,1,1,1],\n",
    "                        [1,0,1,1],\n",
    "                        [1,1,0,1],\n",
    "                        [1,1,1,0]])"
   ]
  },
  {
   "cell_type": "markdown",
   "metadata": {},
   "source": [
    "In a complete graph, the total number of links is $L = L_{\\text{max}}$, and\n",
    "\n",
    "\\begin{equation}\n",
    "L_{\\text{max}}=\\frac{N(N-1)}{2}.\n",
    "\\end{equation}"
   ]
  },
  {
   "cell_type": "code",
   "execution_count": 8,
   "metadata": {
    "ExecuteTime": {
     "end_time": "2021-03-08T13:55:35.325586Z",
     "start_time": "2021-03-08T13:55:35.319723Z"
    }
   },
   "outputs": [
    {
     "name": "stdout",
     "output_type": "stream",
     "text": [
      "6.0\n"
     ]
    }
   ],
   "source": [
    "lmax = complete_G.sum(axis=0).sum()/2\n",
    "print(lmax)"
   ]
  },
  {
   "cell_type": "markdown",
   "metadata": {},
   "source": [
    "We divide the sum by 2, to avoid double counting. That is, once the link between $1,2$ is considered ($A_{12}=1$) we don't any more include $2,1$ ($A_{21}=1$).\n",
    "\n",
    "<img src=\"figure/N4L6.png\" width=\"30%\"> "
   ]
  },
  {
   "cell_type": "markdown",
   "metadata": {},
   "source": [
    "The metric $L_{\\text{max}}$ is relevant to appreciate how sparse most real-world networks are. That is,\n",
    "\n",
    "\n",
    "\n",
    "| network | $N$  | $L$  | $L_{\\text{max}}$ | $\\left<k \\right>$ |\n",
    "|---|---|---|---|---|\n",
    "| WWW | $325,729$ | $1.4 \\times 10^6$  | $10^{12}$ |  4.51  |\n",
    "|Protein | $1,870$   | $4,470$ | $10^7$ | $2.39$ |      \n",
    "|Co-authorship | $70,975$  | $2 \\times 10^5$ | $3 \\times 10^{10}$ | $3.9$ |\n",
    "|Movie Actors | $212,250$ | $6 \\times 10^6$ | $1.8 \\times 10^{13}$ | $28.78$ |\n"
   ]
  },
  {
   "cell_type": "markdown",
   "metadata": {},
   "source": [
    "## 3. NetworkX Graphs\n",
    "\n",
    "From this point forward, we use the `NetworkX` package.\n",
    "\n",
    "<img src=\"figure/N4L4graph.png\" width=\"75%\">\n",
    " \n",
    "### 3.1 Basic Graph\n",
    "\n",
    "In this part of the notebook, we will be using the [`networkx` package](https://networkx.org) for \"the creation, manipulation, and study of the structure, dynamics, and functions of complex networks.\""
   ]
  },
  {
   "cell_type": "code",
   "execution_count": 9,
   "metadata": {
    "ExecuteTime": {
     "end_time": "2021-03-08T13:55:35.666032Z",
     "start_time": "2021-03-08T13:55:35.327796Z"
    }
   },
   "outputs": [],
   "source": [
    "import networkx as nx"
   ]
  },
  {
   "cell_type": "markdown",
   "metadata": {},
   "source": [
    "Let's create an empty networkx graph `G`."
   ]
  },
  {
   "cell_type": "code",
   "execution_count": 10,
   "metadata": {
    "ExecuteTime": {
     "end_time": "2021-03-08T13:55:35.670017Z",
     "start_time": "2021-03-08T13:55:35.667700Z"
    }
   },
   "outputs": [],
   "source": [
    "G = nx.Graph()"
   ]
  },
  {
   "cell_type": "code",
   "execution_count": 11,
   "metadata": {
    "ExecuteTime": {
     "end_time": "2021-03-08T13:55:35.678349Z",
     "start_time": "2021-03-08T13:55:35.671463Z"
    }
   },
   "outputs": [
    {
     "data": {
      "text/plain": [
       "networkx.classes.graph.Graph"
      ]
     },
     "execution_count": 11,
     "metadata": {},
     "output_type": "execute_result"
    }
   ],
   "source": [
    "G=nx.from_pandas_edgelist(df, \"node1\", \"node2\")"
   ]
  },
  {
   "cell_type": "markdown",
   "metadata": {},
   "source": [
    "In the next cell, we build a graph by adding edges and nodes. "
   ]
  },
  {
   "cell_type": "code",
   "execution_count": 12,
   "metadata": {
    "ExecuteTime": {
     "end_time": "2021-03-08T13:55:35.683532Z",
     "start_time": "2021-03-08T13:55:35.680462Z"
    }
   },
   "outputs": [],
   "source": [
    "G.add_edge(1,2)\n",
    "G.add_edge(1,4)\n",
    "G.add_edge(2,4)\n",
    "G.add_edge(4,3)"
   ]
  },
  {
   "cell_type": "markdown",
   "metadata": {},
   "source": [
    "The `pos` variable below sets the position/layout of the nodes in the visualization. More often than not, this is only for aesthetics purposes. To see other layouts, check [this out](https://networkx.github.io/documentation/networkx-1.10/reference/drawing.html#layout)."
   ]
  },
  {
   "cell_type": "code",
   "execution_count": 13,
   "metadata": {
    "ExecuteTime": {
     "end_time": "2021-03-08T13:55:35.825598Z",
     "start_time": "2021-03-08T13:55:35.685470Z"
    }
   },
   "outputs": [
    {
     "data": {
      "image/png": "[encoded data removed]",
      "text/plain": [
       "<Figure size 432x288 with 1 Axes>"
      ]
     },
     "metadata": {},
     "output_type": "display_data"
    }
   ],
   "source": [
    "pos = nx.spring_layout(G);\n",
    "nx.draw_networkx_labels(G, pos, font_color ='white');\n",
    "nx.draw(G, pos = pos, node_size=500);"
   ]
  },
  {
   "cell_type": "code",
   "execution_count": 14,
   "metadata": {
    "ExecuteTime": {
     "end_time": "2021-03-08T13:55:35.908045Z",
     "start_time": "2021-03-08T13:55:35.827259Z"
    }
   },
   "outputs": [
    {
     "data": {
      "image/png": "[encoded data removed]",
      "text/plain": [
       "<Figure size 432x288 with 1 Axes>"
      ]
     },
     "metadata": {},
     "output_type": "display_data"
    }
   ],
   "source": [
    "G.add_node(5)\n",
    "\n",
    "pos = nx.spring_layout(G);\n",
    "nx.draw_networkx_labels(G, pos, font_color ='white');\n",
    "nx.draw(G, pos = pos, node_size=500);"
   ]
  },
  {
   "cell_type": "markdown",
   "metadata": {},
   "source": [
    "In the previous cell, we added a 5th node, but didn't specify the link(s) connected to it. Thus, we can observe that the node is disconnected. \n",
    "\n",
    "In the next cell, let's add a link between the 4th and 5th nodes."
   ]
  },
  {
   "cell_type": "code",
   "execution_count": 15,
   "metadata": {
    "ExecuteTime": {
     "end_time": "2021-03-08T13:55:35.988255Z",
     "start_time": "2021-03-08T13:55:35.909618Z"
    }
   },
   "outputs": [
    {
     "data": {
      "image/png": "[encoded data removed]",
      "text/plain": [
       "<Figure size 432x288 with 1 Axes>"
      ]
     },
     "metadata": {},
     "output_type": "display_data"
    }
   ],
   "source": [
    "G.add_edge(4,5)\n",
    "\n",
    "nx.draw_networkx_labels(G, pos, font_color ='white');\n",
    "nx.draw(G, pos = pos, node_size=500);"
   ]
  },
  {
   "cell_type": "code",
   "execution_count": 16,
   "metadata": {
    "ExecuteTime": {
     "end_time": "2021-03-08T13:55:36.075105Z",
     "start_time": "2021-03-08T13:55:35.990165Z"
    }
   },
   "outputs": [
    {
     "data": {
      "image/png": "[encoded data removed]",
      "text/plain": [
       "<Figure size 432x288 with 1 Axes>"
      ]
     },
     "metadata": {},
     "output_type": "display_data"
    }
   ],
   "source": [
    "pos = nx.spring_layout(G);\n",
    "nx.draw_networkx_labels(G, pos, font_color ='white');\n",
    "nx.draw(G, pos = pos, node_size=500);"
   ]
  },
  {
   "cell_type": "code",
   "execution_count": 17,
   "metadata": {
    "ExecuteTime": {
     "end_time": "2021-03-08T13:55:36.164981Z",
     "start_time": "2021-03-08T13:55:36.076594Z"
    }
   },
   "outputs": [
    {
     "data": {
      "image/png": "[encoded data removed]",
      "text/plain": [
       "<Figure size 432x288 with 1 Axes>"
      ]
     },
     "metadata": {},
     "output_type": "display_data"
    }
   ],
   "source": [
    "G = nx.Graph()\n",
    "\n",
    "G.add_edge('Erika', 'Chris')\n",
    "G.add_edge('Erika', 'Gino')\n",
    "G.add_edge('Chris', 'Gino')\n",
    "G.add_edge('Gino', 'Christian')\n",
    "\n",
    "pos = nx.spring_layout(G);\n",
    "nx.draw_networkx_labels(G, pos, font_color ='k');\n",
    "nx.draw(G, pos = pos, node_size=500);"
   ]
  },
  {
   "cell_type": "code",
   "execution_count": 18,
   "metadata": {
    "ExecuteTime": {
     "end_time": "2021-03-08T13:55:36.170895Z",
     "start_time": "2021-03-08T13:55:36.166996Z"
    }
   },
   "outputs": [
    {
     "data": {
      "text/plain": [
       "NodeView(('Erika', 'Chris', 'Gino', 'Christian'))"
      ]
     },
     "execution_count": 18,
     "metadata": {},
     "output_type": "execute_result"
    }
   ],
   "source": [
    "G.nodes()"
   ]
  },
  {
   "cell_type": "code",
   "execution_count": 19,
   "metadata": {
    "ExecuteTime": {
     "end_time": "2021-03-08T13:55:36.176999Z",
     "start_time": "2021-03-08T13:55:36.172629Z"
    }
   },
   "outputs": [
    {
     "data": {
      "text/plain": [
       "NodeView(('Erika', 'Chris', 'Gino', 'Christian', 'Arielle'))"
      ]
     },
     "execution_count": 19,
     "metadata": {},
     "output_type": "execute_result"
    }
   ],
   "source": [
    "G.add_node('Arielle')\n",
    "G.nodes()"
   ]
  },
  {
   "cell_type": "markdown",
   "metadata": {},
   "source": [
    "Let's try removing nodes. Can we use an index in removing the nodes? Say, index 1?"
   ]
  },
  {
   "cell_type": "code",
   "execution_count": 20,
   "metadata": {
    "ExecuteTime": {
     "end_time": "2021-03-08T13:55:36.184536Z",
     "start_time": "2021-03-08T13:55:36.178600Z"
    }
   },
   "outputs": [
    {
     "name": "stdout",
     "output_type": "stream",
     "text": [
      "The node 1 is not in the graph.\n"
     ]
    },
    {
     "data": {
      "text/plain": [
       "NodeView(('Erika', 'Chris', 'Gino', 'Christian', 'Arielle'))"
      ]
     },
     "execution_count": 20,
     "metadata": {},
     "output_type": "execute_result"
    }
   ],
   "source": [
    "try:\n",
    "    G.remove_node(1)\n",
    "except Exception as e: \n",
    "    print(e)\n",
    "    \n",
    "G.nodes()"
   ]
  },
  {
   "cell_type": "markdown",
   "metadata": {},
   "source": [
    "To remove a node, we have to actually identify the node by its label/name. If this has not initially been introduced, the equivalent would be the numerical name."
   ]
  },
  {
   "cell_type": "code",
   "execution_count": 21,
   "metadata": {
    "ExecuteTime": {
     "end_time": "2021-03-08T13:55:36.191379Z",
     "start_time": "2021-03-08T13:55:36.186165Z"
    }
   },
   "outputs": [
    {
     "data": {
      "text/plain": [
       "NodeView(('Erika', 'Chris', 'Gino', 'Christian'))"
      ]
     },
     "execution_count": 21,
     "metadata": {},
     "output_type": "execute_result"
    }
   ],
   "source": [
    "G.remove_node('Arielle')\n",
    "G.nodes()"
   ]
  },
  {
   "cell_type": "markdown",
   "metadata": {},
   "source": [
    "It's easy to check the number of nodes and edges in the network."
   ]
  },
  {
   "cell_type": "code",
   "execution_count": 22,
   "metadata": {
    "ExecuteTime": {
     "end_time": "2021-03-08T13:55:36.282493Z",
     "start_time": "2021-03-08T13:55:36.196406Z"
    }
   },
   "outputs": [
    {
     "name": "stdout",
     "output_type": "stream",
     "text": [
      "Number of nodes:  4\n",
      "Number of edges:  4\n"
     ]
    },
    {
     "data": {
      "image/png": "[encoded data removed]",
      "text/plain": [
       "<Figure size 432x288 with 1 Axes>"
      ]
     },
     "metadata": {},
     "output_type": "display_data"
    }
   ],
   "source": [
    "print ('Number of nodes: ', G.number_of_nodes())\n",
    "print ('Number of edges: ', G.number_of_edges())\n",
    "\n",
    "pos = nx.spring_layout(G);\n",
    "nx.draw_networkx_labels(G, pos, font_color ='k');\n",
    "nx.draw(G, pos = pos, node_size=500);"
   ]
  },
  {
   "cell_type": "code",
   "execution_count": 23,
   "metadata": {
    "ExecuteTime": {
     "end_time": "2021-03-08T13:55:36.288621Z",
     "start_time": "2021-03-08T13:55:36.285219Z"
    }
   },
   "outputs": [
    {
     "data": {
      "text/plain": [
       "['Erika', 'Chris', 'Christian']"
      ]
     },
     "execution_count": 23,
     "metadata": {},
     "output_type": "execute_result"
    }
   ],
   "source": [
    "list(G.neighbors('Gino'))"
   ]
  },
  {
   "cell_type": "code",
   "execution_count": 24,
   "metadata": {
    "ExecuteTime": {
     "end_time": "2021-03-08T13:55:36.381846Z",
     "start_time": "2021-03-08T13:55:36.290259Z"
    }
   },
   "outputs": [
    {
     "data": {
      "image/png": "[encoded data removed]",
      "text/plain": [
       "<Figure size 432x288 with 1 Axes>"
      ]
     },
     "metadata": {},
     "output_type": "display_data"
    }
   ],
   "source": [
    "G.add_nodes_from(['Ann','Faye','Mary'])\n",
    "\n",
    "pos = nx.spring_layout(G);\n",
    "nx.draw_networkx_labels(G, pos, font_color ='k');\n",
    "nx.draw(G, pos = pos, node_size=500);"
   ]
  },
  {
   "cell_type": "code",
   "execution_count": 25,
   "metadata": {
    "ExecuteTime": {
     "end_time": "2021-03-08T13:55:36.476487Z",
     "start_time": "2021-03-08T13:55:36.383358Z"
    }
   },
   "outputs": [
    {
     "data": {
      "image/png": "[encoded data removed]",
      "text/plain": [
       "<Figure size 432x288 with 1 Axes>"
      ]
     },
     "metadata": {},
     "output_type": "display_data"
    }
   ],
   "source": [
    "G.add_edges_from([('Ann', 'Erika'),\n",
    "                  ('Ann', 'Faye'),\n",
    "                  ('Faye', 'Mary'),\n",
    "                  ('Erika', 'Mary'),\n",
    "                  ('Erika', 'Faye')])\n",
    "\n",
    "pos = nx.spring_layout(G);\n",
    "nx.draw_networkx_labels(G, pos, font_color ='k');\n",
    "nx.draw(G, pos = pos, node_size=500);"
   ]
  },
  {
   "cell_type": "code",
   "execution_count": 26,
   "metadata": {
    "ExecuteTime": {
     "end_time": "2021-03-08T13:55:36.482817Z",
     "start_time": "2021-03-08T13:55:36.477994Z"
    }
   },
   "outputs": [
    {
     "data": {
      "text/plain": [
       "5"
      ]
     },
     "execution_count": 26,
     "metadata": {},
     "output_type": "execute_result"
    }
   ],
   "source": [
    "G.degree('Erika')"
   ]
  },
  {
   "cell_type": "code",
   "execution_count": 27,
   "metadata": {
    "ExecuteTime": {
     "end_time": "2021-03-08T13:55:36.490276Z",
     "start_time": "2021-03-08T13:55:36.485882Z"
    }
   },
   "outputs": [
    {
     "data": {
      "text/plain": [
       "['Chris', 'Gino', 'Ann', 'Mary', 'Faye']"
      ]
     },
     "execution_count": 27,
     "metadata": {},
     "output_type": "execute_result"
    }
   ],
   "source": [
    "list(G.neighbors('Erika'))"
   ]
  },
  {
   "cell_type": "markdown",
   "metadata": {},
   "source": [
    "### 3.2 Weighted Graphs and Other Edge Attributes\n",
    "\n",
    "More often than not, in the real-world, links have weights. For example, there are certain friendships that are stronger than others. Another example is quantifying how often two individuals exchange emails at work. These \"strengths\" can be quantified by adding a weight attribute. In addition to the weight, we can also add other edge attributes as shown below where we added the attribute `relationship_type`, which could be \"friends\", \"family\", \"professional\", for example. "
   ]
  },
  {
   "cell_type": "code",
   "execution_count": 28,
   "metadata": {
    "ExecuteTime": {
     "end_time": "2021-03-08T13:55:36.496491Z",
     "start_time": "2021-03-08T13:55:36.492619Z"
    }
   },
   "outputs": [],
   "source": [
    "G['Ann']['Faye']['weight'] = 8\n",
    "G['Faye']['Mary']['weight'] = 10\n",
    "G['Faye']['Mary']['relatioinship_type'] = 'friends'"
   ]
  },
  {
   "cell_type": "code",
   "execution_count": 29,
   "metadata": {
    "ExecuteTime": {
     "end_time": "2021-03-08T13:55:36.503424Z",
     "start_time": "2021-03-08T13:55:36.498803Z"
    }
   },
   "outputs": [
    {
     "data": {
      "text/plain": [
       "EdgeDataView([('Erika', 'Chris', {}), ('Erika', 'Gino', {}), ('Erika', 'Ann', {}), ('Erika', 'Mary', {}), ('Erika', 'Faye', {}), ('Chris', 'Gino', {}), ('Gino', 'Christian', {}), ('Ann', 'Faye', {'weight': 8}), ('Faye', 'Mary', {'weight': 10, 'relatioinship_type': 'friends'})])"
      ]
     },
     "execution_count": 29,
     "metadata": {},
     "output_type": "execute_result"
    }
   ],
   "source": [
    "G.edges(data=True)"
   ]
  },
  {
   "cell_type": "code",
   "execution_count": 30,
   "metadata": {
    "ExecuteTime": {
     "end_time": "2021-03-08T13:55:36.513405Z",
     "start_time": "2021-03-08T13:55:36.506856Z"
    }
   },
   "outputs": [
    {
     "name": "stdout",
     "output_type": "stream",
     "text": [
      "'Mary'\n"
     ]
    }
   ],
   "source": [
    "try: \n",
    "    G['Ann']['Mary']['weight'] = 5\n",
    "except Exception as e:\n",
    "    print (e)"
   ]
  },
  {
   "cell_type": "code",
   "execution_count": 31,
   "metadata": {
    "ExecuteTime": {
     "end_time": "2021-03-08T13:55:36.521378Z",
     "start_time": "2021-03-08T13:55:36.516667Z"
    }
   },
   "outputs": [],
   "source": [
    "G.add_edge('Ann', 'Mary', weight = 30)"
   ]
  },
  {
   "cell_type": "code",
   "execution_count": 32,
   "metadata": {
    "ExecuteTime": {
     "end_time": "2021-03-08T13:55:36.528894Z",
     "start_time": "2021-03-08T13:55:36.524691Z"
    }
   },
   "outputs": [],
   "source": [
    "G.add_edge('Ann', 'Mary', relatioinship_type = 'siblings')"
   ]
  },
  {
   "cell_type": "code",
   "execution_count": 33,
   "metadata": {
    "ExecuteTime": {
     "end_time": "2021-03-08T13:55:36.541148Z",
     "start_time": "2021-03-08T13:55:36.531884Z"
    }
   },
   "outputs": [
    {
     "data": {
      "text/plain": [
       "EdgeDataView([('Erika', 'Chris', {}), ('Erika', 'Gino', {}), ('Erika', 'Ann', {}), ('Erika', 'Mary', {}), ('Erika', 'Faye', {}), ('Chris', 'Gino', {}), ('Gino', 'Christian', {}), ('Ann', 'Faye', {'weight': 8}), ('Ann', 'Mary', {'weight': 30, 'relatioinship_type': 'siblings'}), ('Faye', 'Mary', {'weight': 10, 'relatioinship_type': 'friends'})])"
      ]
     },
     "execution_count": 33,
     "metadata": {},
     "output_type": "execute_result"
    }
   ],
   "source": [
    "G.edges(data=True)"
   ]
  },
  {
   "cell_type": "code",
   "execution_count": 34,
   "metadata": {
    "ExecuteTime": {
     "end_time": "2021-03-08T13:55:36.552877Z",
     "start_time": "2021-03-08T13:55:36.544750Z"
    }
   },
   "outputs": [
    {
     "data": {
      "text/plain": [
       "EdgeDataView([('Erika', 'Chris', {}), ('Erika', 'Gino', {}), ('Erika', 'Ann', {}), ('Erika', 'Mary', {}), ('Erika', 'Faye', {}), ('Chris', 'Gino', {}), ('Gino', 'Christian', {}), ('Ann', 'Faye', {'weight': 8, 'friendship': 4}), ('Ann', 'Mary', {'weight': 30, 'relatioinship_type': 'siblings', 'friendship': 2}), ('Faye', 'Mary', {'weight': 10, 'relatioinship_type': 'friends'})])"
      ]
     },
     "execution_count": 34,
     "metadata": {},
     "output_type": "execute_result"
    }
   ],
   "source": [
    "G.add_edge('Ann', 'Mary', friendship = 2)\n",
    "G['Ann']['Faye']['friendship'] = 4\n",
    "G.edges(data=True)"
   ]
  },
  {
   "cell_type": "markdown",
   "metadata": {},
   "source": [
    "In the line below, we are saving the graphe to and edgelist file called `myG`."
   ]
  },
  {
   "cell_type": "code",
   "execution_count": 35,
   "metadata": {
    "ExecuteTime": {
     "end_time": "2021-03-08T13:55:36.561370Z",
     "start_time": "2021-03-08T13:55:36.556210Z"
    }
   },
   "outputs": [],
   "source": [
    "nx.write_edgelist(G, 'myG')"
   ]
  },
  {
   "cell_type": "markdown",
   "metadata": {},
   "source": [
    "<div class=\"alert alert-block alert-info\">\n",
    "<h4>Begin Hands-on</h4>\n",
    "</div>\n",
    "\n",
    "1. Build a weighted network `wG` of you and your LT-mates from Term 1 to Term 4.\n",
    "2. Add an edge attribute called `term` which contains information on when that edge was first created. \n",
    "3. Add another edge attribute called `weight` which contains the number of times an edge existed in a term.\n",
    "4. Visualize the network. Perform an EDA. \n",
    "5. What insights can we get from having this kind of network? What are the information do you think you can include in this type of analysis? And for what purpose?\n"
   ]
  },
  {
   "cell_type": "code",
   "execution_count": 36,
   "metadata": {
    "ExecuteTime": {
     "end_time": "2021-03-08T13:55:36.695582Z",
     "start_time": "2021-03-08T13:55:36.564943Z"
    }
   },
   "outputs": [
    {
     "data": {
      "image/png": "[encoded data removed]",
      "text/plain": [
       "<Figure size 432x288 with 1 Axes>"
      ]
     },
     "metadata": {},
     "output_type": "display_data"
    }
   ],
   "source": [
    "H = nx.Graph()\n",
    "\n",
    "H.add_edge('Matmat', 'Nika')\n",
    "H.add_edge('Matmat', 'Tal')\n",
    "H.add_edge('Matmat', 'Ralph')\n",
    "H.add_edge('Matmat', 'Kris')\n",
    "H.add_edge('Matmat', 'Dan')\n",
    "\n",
    "H.add_edge('Matmat', 'Cedric')\n",
    "H.add_edge('Matmat', 'Jasper')\n",
    "H.add_edge('Matmat', 'Josef')\n",
    "H.add_edge('Matmat', 'Alejandro')\n",
    "H.add_edge('Matmat', 'Nicole')\n",
    "\n",
    "H.add_edge('Matmat', 'Jason')\n",
    "H.add_edge('Matmat', 'Dennis')\n",
    "H.add_edge('Matmat', 'Cy')\n",
    "\n",
    "H.add_edge('Matmat', 'Elkan')\n",
    "H.add_edge('Matmat', 'Jelo')\n",
    "H.add_edge('Matmat', 'Lennart')\n",
    "\n",
    "pos = nx.spring_layout(H);\n",
    "nx.draw_networkx_labels(H, pos, font_color ='k');\n",
    "nx.draw(H, pos = pos, node_size=800);\n",
    "\n"
   ]
  },
  {
   "cell_type": "code",
   "execution_count": 37,
   "metadata": {
    "ExecuteTime": {
     "end_time": "2021-03-08T13:55:36.699532Z",
     "start_time": "2021-03-08T13:55:36.697170Z"
    }
   },
   "outputs": [],
   "source": [
    "from itertools import combinations"
   ]
  },
  {
   "cell_type": "code",
   "execution_count": 38,
   "metadata": {
    "ExecuteTime": {
     "end_time": "2021-03-08T13:55:36.706911Z",
     "start_time": "2021-03-08T13:55:36.701170Z"
    }
   },
   "outputs": [],
   "source": [
    "t1 = ['Tal', 'Nika', 'Ralph', 'Kris', 'Dan']\n",
    "for i in (list(combinations(t1, 2))):\n",
    "    H.add_edge(i[0], i[1] )"
   ]
  },
  {
   "cell_type": "code",
   "execution_count": 39,
   "metadata": {
    "ExecuteTime": {
     "end_time": "2021-03-08T13:55:36.716276Z",
     "start_time": "2021-03-08T13:55:36.710041Z"
    }
   },
   "outputs": [],
   "source": [
    "t2 = ['Jasper', 'Nicole', 'Josef', 'Alejandro', 'Cedric']\n",
    "for i in (list(combinations(t2, 2))):\n",
    "    H.add_edge(i[0], i[1] )"
   ]
  },
  {
   "cell_type": "code",
   "execution_count": 40,
   "metadata": {
    "ExecuteTime": {
     "end_time": "2021-03-08T13:55:36.725036Z",
     "start_time": "2021-03-08T13:55:36.719727Z"
    }
   },
   "outputs": [],
   "source": [
    "t3 = ['Cy', 'Dennis', 'Jason']\n",
    "for i in (list(combinations(t3, 2))):\n",
    "    H.add_edge(i[0], i[1] )"
   ]
  },
  {
   "cell_type": "code",
   "execution_count": 41,
   "metadata": {
    "ExecuteTime": {
     "end_time": "2021-03-08T13:55:36.733184Z",
     "start_time": "2021-03-08T13:55:36.728303Z"
    }
   },
   "outputs": [],
   "source": [
    "t4 = ['Lennart', 'Elkan', 'Jelo']\n",
    "for i in (list(combinations(t4, 2))):\n",
    "    H.add_edge(i[0], i[1] )"
   ]
  },
  {
   "cell_type": "code",
   "execution_count": 42,
   "metadata": {
    "ExecuteTime": {
     "end_time": "2021-03-08T13:55:36.862471Z",
     "start_time": "2021-03-08T13:55:36.736129Z"
    }
   },
   "outputs": [
    {
     "data": {
      "image/png": "[encoded data removed]",
      "text/plain": [
       "<Figure size 432x288 with 1 Axes>"
      ]
     },
     "metadata": {},
     "output_type": "display_data"
    }
   ],
   "source": [
    "pos = nx.spring_layout(H);\n",
    "nx.draw_networkx_labels(H, pos, font_color ='k');\n",
    "nx.draw(H, pos = pos, node_size=800);"
   ]
  },
  {
   "cell_type": "code",
   "execution_count": 43,
   "metadata": {
    "ExecuteTime": {
     "end_time": "2021-03-08T13:55:36.869421Z",
     "start_time": "2021-03-08T13:55:36.864028Z"
    }
   },
   "outputs": [],
   "source": [
    "H['Matmat']['Nika']['term'] = 'first'\n",
    "H['Matmat']['Tal']['term'] = 'first'\n",
    "H['Matmat']['Ralph']['term'] = 'first'\n",
    "H['Matmat']['Kris']['term'] = 'first'\n",
    "H['Matmat']['Dan']['term'] = 'first'\n",
    "\n",
    "H['Matmat']['Cedric']['term'] = 'second'\n",
    "H['Matmat']['Josef']['term'] = 'second'\n",
    "H['Matmat']['Jasper']['term'] = 'second'\n",
    "H['Matmat']['Alejandro']['term'] = 'second'\n",
    "H['Matmat']['Nicole']['term'] = 'second'\n",
    "\n",
    "H['Matmat']['Dennis']['term'] = 'third'\n",
    "H['Matmat']['Cy']['term'] = 'third'\n",
    "H['Matmat']['Jason']['term'] = 'third'\n",
    "\n",
    "H['Matmat']['Jelo']['term'] = 'fourth'\n",
    "H['Matmat']['Lennart']['term'] = 'fourth'\n",
    "H['Matmat']['Elkan']['term'] = 'fourth'\n"
   ]
  },
  {
   "cell_type": "code",
   "execution_count": 44,
   "metadata": {
    "ExecuteTime": {
     "end_time": "2021-03-08T13:55:36.878838Z",
     "start_time": "2021-03-08T13:55:36.871114Z"
    }
   },
   "outputs": [],
   "source": [
    "H['Matmat']['Nika']['weight'] = 14\n",
    "H['Matmat']['Tal']['weight'] = 13\n",
    "H['Matmat']['Ralph']['weight'] = 13\n",
    "H['Matmat']['Kris']['weight'] = 11\n",
    "H['Matmat']['Dan']['weight'] = 15\n",
    "\n",
    "H['Matmat']['Cedric']['weight'] = 17\n",
    "H['Matmat']['Josef']['weight'] = 17\n",
    "H['Matmat']['Jasper']['weight'] = 17\n",
    "H['Matmat']['Alejandro']['weight'] = 15\n",
    "H['Matmat']['Nicole']['weight'] = 17\n",
    "\n",
    "H['Matmat']['Dennis']['weight'] = 18\n",
    "H['Matmat']['Cy']['weight'] = 18\n",
    "H['Matmat']['Jason']['weight'] = 17\n",
    "\n",
    "H['Matmat']['Jelo']['weight'] = 20\n",
    "H['Matmat']['Lennart']['weight'] = 20\n",
    "H['Matmat']['Elkan']['weight'] = 20\n"
   ]
  },
  {
   "cell_type": "code",
   "execution_count": 45,
   "metadata": {
    "ExecuteTime": {
     "end_time": "2021-03-08T13:55:36.886591Z",
     "start_time": "2021-03-08T13:55:36.880794Z"
    }
   },
   "outputs": [],
   "source": [
    "nx.write_edgelist(H, 'wG')"
   ]
  },
  {
   "cell_type": "code",
   "execution_count": 46,
   "metadata": {
    "ExecuteTime": {
     "end_time": "2021-03-08T13:55:36.892172Z",
     "start_time": "2021-03-08T13:55:36.888152Z"
    }
   },
   "outputs": [
    {
     "data": {
      "text/plain": [
       "<networkx.classes.graph.Graph at 0x7f3725db9dc0>"
      ]
     },
     "execution_count": 46,
     "metadata": {},
     "output_type": "execute_result"
    }
   ],
   "source": [
    "H"
   ]
  },
  {
   "cell_type": "markdown",
   "metadata": {},
   "source": [
    "What I can observe is that as the term advances, I have gotten to interact more with my LTmates. In the first term there were lesser interactions since we just got to meet each other. In the fourth term, there were lots interactions between me and my now LTMates so the weight is bigger.\n",
    "\n",
    "Though I cannot quantify friendship and easily say that all of these people are my friends, I can definitely see who I am more comfortable talking with."
   ]
  },
  {
   "cell_type": "markdown",
   "metadata": {},
   "source": [
    "<div class=\"alert alert-block alert-info\">\n",
    "<h4>End Hands-on</h4>\n",
    "</div>"
   ]
  },
  {
   "cell_type": "markdown",
   "metadata": {},
   "source": [
    "---\n",
    "\n",
    "### 3.3 Directed Graphs\n",
    "\n",
    "Many networks in the real-world are also directed. That is, the relationship between two entities has a particular direction. This directionality could represent, for example, who emailed whom, or who responded to whom on Twitter, or who follows whom on Twitter or TikTok, etc. "
   ]
  },
  {
   "cell_type": "code",
   "execution_count": 47,
   "metadata": {
    "ExecuteTime": {
     "end_time": "2021-03-08T13:55:36.896971Z",
     "start_time": "2021-03-08T13:55:36.894047Z"
    }
   },
   "outputs": [],
   "source": [
    "dG = nx.DiGraph()"
   ]
  },
  {
   "cell_type": "code",
   "execution_count": 48,
   "metadata": {
    "ExecuteTime": {
     "end_time": "2021-03-08T13:55:36.902705Z",
     "start_time": "2021-03-08T13:55:36.899067Z"
    }
   },
   "outputs": [],
   "source": [
    "dG.add_edges_from([('Ann', 'Mary'), ('Mary', 'Ann')])"
   ]
  },
  {
   "cell_type": "code",
   "execution_count": 49,
   "metadata": {
    "ExecuteTime": {
     "end_time": "2021-03-08T13:55:36.908441Z",
     "start_time": "2021-03-08T13:55:36.904845Z"
    }
   },
   "outputs": [],
   "source": [
    "dG.add_weighted_edges_from([('Ann', 'Mary', 3), \n",
    "                            ('Mary', 'Ann', 2)])"
   ]
  },
  {
   "cell_type": "code",
   "execution_count": 50,
   "metadata": {
    "ExecuteTime": {
     "end_time": "2021-03-08T13:55:36.916927Z",
     "start_time": "2021-03-08T13:55:36.911205Z"
    }
   },
   "outputs": [
    {
     "data": {
      "text/plain": [
       "OutEdgeDataView([('Ann', 'Mary', {'weight': 3}), ('Mary', 'Ann', {'weight': 2})])"
      ]
     },
     "execution_count": 50,
     "metadata": {},
     "output_type": "execute_result"
    }
   ],
   "source": [
    "dG.edges(data=True)"
   ]
  },
  {
   "cell_type": "code",
   "execution_count": 51,
   "metadata": {
    "ExecuteTime": {
     "end_time": "2021-03-08T13:55:36.922904Z",
     "start_time": "2021-03-08T13:55:36.919641Z"
    }
   },
   "outputs": [],
   "source": [
    "dG = nx.to_directed(G)"
   ]
  },
  {
   "cell_type": "code",
   "execution_count": 52,
   "metadata": {
    "ExecuteTime": {
     "end_time": "2021-03-08T13:55:36.930677Z",
     "start_time": "2021-03-08T13:55:36.925329Z"
    }
   },
   "outputs": [
    {
     "data": {
      "text/plain": [
       "OutEdgeDataView([('Erika', 'Chris', {}), ('Erika', 'Gino', {}), ('Erika', 'Ann', {}), ('Erika', 'Mary', {}), ('Erika', 'Faye', {}), ('Chris', 'Erika', {}), ('Chris', 'Gino', {}), ('Gino', 'Erika', {}), ('Gino', 'Chris', {}), ('Gino', 'Christian', {}), ('Christian', 'Gino', {}), ('Ann', 'Erika', {}), ('Ann', 'Faye', {'weight': 8, 'friendship': 4}), ('Ann', 'Mary', {'weight': 30, 'relatioinship_type': 'siblings', 'friendship': 2}), ('Faye', 'Ann', {'weight': 8, 'friendship': 4}), ('Faye', 'Mary', {'weight': 10, 'relatioinship_type': 'friends'}), ('Faye', 'Erika', {}), ('Mary', 'Faye', {'weight': 10, 'relatioinship_type': 'friends'}), ('Mary', 'Erika', {}), ('Mary', 'Ann', {'weight': 30, 'relatioinship_type': 'siblings', 'friendship': 2})])"
      ]
     },
     "execution_count": 52,
     "metadata": {},
     "output_type": "execute_result"
    }
   ],
   "source": [
    "dG.edges(data=True)"
   ]
  },
  {
   "cell_type": "markdown",
   "metadata": {},
   "source": [
    "### 3.4 Adjacency Matrix to NetworkX Graph\n",
    "<div class=\"alert alert-block alert-info\">\n",
    "<b>Important:</b> Did you know that you can create a networkx graph from a numpy (adjacency) matrix?\n",
    "</div>"
   ]
  },
  {
   "cell_type": "code",
   "execution_count": 53,
   "metadata": {
    "ExecuteTime": {
     "end_time": "2021-03-08T13:55:36.938751Z",
     "start_time": "2021-03-08T13:55:36.933297Z"
    }
   },
   "outputs": [
    {
     "data": {
      "text/plain": [
       "DegreeView({0: 2, 1: 2, 2: 1, 3: 3})"
      ]
     },
     "execution_count": 53,
     "metadata": {},
     "output_type": "execute_result"
    }
   ],
   "source": [
    "nxG = nx.from_numpy_matrix(adj_G)\n",
    "nxG.degree"
   ]
  },
  {
   "cell_type": "markdown",
   "metadata": {},
   "source": [
    "In this new scheme, the node labels start at 0 such that in the drawing where Node 4 has degree 3, here in the networkx graph it is **Node 4 is Node 3** and it has degree 3."
   ]
  },
  {
   "cell_type": "markdown",
   "metadata": {},
   "source": [
    "## 4. Graph Properties\n",
    "\n",
    "Now that we have constructed our graphs, how then do we describe them? This section provides some of the metrics to characterize network structures. \n"
   ]
  },
  {
   "cell_type": "code",
   "execution_count": 54,
   "metadata": {
    "ExecuteTime": {
     "end_time": "2021-03-08T13:55:37.032336Z",
     "start_time": "2021-03-08T13:55:36.941574Z"
    }
   },
   "outputs": [
    {
     "data": {
      "image/png": "[encoded data removed]",
      "text/plain": [
       "<Figure size 432x288 with 1 Axes>"
      ]
     },
     "metadata": {},
     "output_type": "display_data"
    }
   ],
   "source": [
    "pos = nx.spring_layout(G);\n",
    "nx.draw_networkx_labels(G, pos, font_color ='k');\n",
    "nx.draw(G, pos = pos, node_size=500);"
   ]
  },
  {
   "cell_type": "code",
   "execution_count": 55,
   "metadata": {
    "ExecuteTime": {
     "end_time": "2021-03-08T13:55:37.038928Z",
     "start_time": "2021-03-08T13:55:37.034037Z"
    }
   },
   "outputs": [
    {
     "data": {
      "text/plain": [
       "{'Erika': array([ 0.10976304, -0.09677251]),\n",
       " 'Chris': array([0.13170106, 0.53164365]),\n",
       " 'Gino': array([-0.37199275,  0.54071773]),\n",
       " 'Christian': array([-0.88126516,  1.        ]),\n",
       " 'Ann': array([ 0.22617421, -0.62675479]),\n",
       " 'Faye': array([ 0.47247246, -0.60048096]),\n",
       " 'Mary': array([ 0.31314714, -0.74835311])}"
      ]
     },
     "execution_count": 55,
     "metadata": {},
     "output_type": "execute_result"
    }
   ],
   "source": [
    "pos"
   ]
  },
  {
   "cell_type": "markdown",
   "metadata": {},
   "source": [
    "### 4.1 Network Statistics\n",
    "\n",
    "1. Size - total number of edges/links\n",
    "2. Order - total number of vertices/nodes\n",
    "3. Average degree"
   ]
  },
  {
   "cell_type": "code",
   "execution_count": 56,
   "metadata": {
    "ExecuteTime": {
     "end_time": "2021-03-08T13:55:37.046121Z",
     "start_time": "2021-03-08T13:55:37.040776Z"
    }
   },
   "outputs": [
    {
     "name": "stdout",
     "output_type": "stream",
     "text": [
      "Nodes:  7\n",
      "Edges:  10\n",
      "Average degree:  1.4285714285714286\n"
     ]
    }
   ],
   "source": [
    "N = G.order()\n",
    "L = G.size() \n",
    "\n",
    "avg_deg = float(L) / N \n",
    "\n",
    "print ('Nodes: ', N)\n",
    "print ('Edges: ', L)\n",
    "print ('Average degree: ', avg_deg)"
   ]
  },
  {
   "cell_type": "markdown",
   "metadata": {},
   "source": [
    "### 4.2 Degree Distribution\n",
    "The degree distribution, as the term implies, is the **probability distribution** of all node degrees over the entire network."
   ]
  },
  {
   "cell_type": "code",
   "execution_count": 57,
   "metadata": {
    "ExecuteTime": {
     "end_time": "2021-03-08T13:55:37.053463Z",
     "start_time": "2021-03-08T13:55:37.048193Z"
    }
   },
   "outputs": [
    {
     "data": {
      "text/plain": [
       "DegreeView({'Erika': 5, 'Chris': 2, 'Gino': 3, 'Christian': 1, 'Ann': 3, 'Faye': 3, 'Mary': 3})"
      ]
     },
     "execution_count": 57,
     "metadata": {},
     "output_type": "execute_result"
    }
   ],
   "source": [
    "nx.degree(G)"
   ]
  },
  {
   "cell_type": "code",
   "execution_count": 58,
   "metadata": {
    "ExecuteTime": {
     "end_time": "2021-03-08T13:55:37.059941Z",
     "start_time": "2021-03-08T13:55:37.055485Z"
    }
   },
   "outputs": [
    {
     "name": "stdout",
     "output_type": "stream",
     "text": [
      "[5, 2, 3, 1, 3, 3, 3]\n"
     ]
    }
   ],
   "source": [
    "degrees = [k for node, k in nx.degree(G)]\n",
    "print(degrees)"
   ]
  },
  {
   "cell_type": "code",
   "execution_count": 59,
   "metadata": {
    "ExecuteTime": {
     "end_time": "2021-03-08T13:55:37.068349Z",
     "start_time": "2021-03-08T13:55:37.062177Z"
    }
   },
   "outputs": [
    {
     "name": "stdout",
     "output_type": "stream",
     "text": [
      "Minimum degree:  1\n",
      "Maximum degree:  5\n",
      "Average degree:  2.857142857142857\n"
     ]
    }
   ],
   "source": [
    "k_min = np.min(degrees)\n",
    "k_max = np.max(degrees)\n",
    "k_avg = np.mean(degrees)\n",
    "\n",
    "print ('Minimum degree: ', k_min)\n",
    "print ('Maximum degree: ', k_max)\n",
    "print ('Average degree: ', k_avg)"
   ]
  },
  {
   "cell_type": "code",
   "execution_count": 60,
   "metadata": {
    "ExecuteTime": {
     "end_time": "2021-03-08T13:55:37.276829Z",
     "start_time": "2021-03-08T13:55:37.070799Z"
    }
   },
   "outputs": [
    {
     "data": {
      "image/png": "[encoded data removed]",
      "text/plain": [
       "<Figure size 432x288 with 1 Axes>"
      ]
     },
     "metadata": {
      "needs_background": "light"
     },
     "output_type": "display_data"
    }
   ],
   "source": [
    "p, k = np.histogram([k for n,k in nx.degree(G)], bins = 6);\n",
    "plt.bar(k[1:],p);"
   ]
  },
  {
   "cell_type": "markdown",
   "metadata": {},
   "source": [
    "### 4.3 Shortest Paths"
   ]
  },
  {
   "cell_type": "code",
   "execution_count": 61,
   "metadata": {
    "ExecuteTime": {
     "end_time": "2021-03-08T13:55:37.282289Z",
     "start_time": "2021-03-08T13:55:37.278428Z"
    }
   },
   "outputs": [
    {
     "data": {
      "text/plain": [
       "1.6666666666666667"
      ]
     },
     "execution_count": 61,
     "metadata": {},
     "output_type": "execute_result"
    }
   ],
   "source": [
    "nx.average_shortest_path_length(G)"
   ]
  },
  {
   "cell_type": "code",
   "execution_count": 62,
   "metadata": {
    "ExecuteTime": {
     "end_time": "2021-03-08T13:55:37.289036Z",
     "start_time": "2021-03-08T13:55:37.284122Z"
    }
   },
   "outputs": [
    {
     "data": {
      "text/plain": [
       "['Erika', 'Mary']"
      ]
     },
     "execution_count": 62,
     "metadata": {},
     "output_type": "execute_result"
    }
   ],
   "source": [
    "nx.shortest_path(G, 'Erika', 'Mary')"
   ]
  },
  {
   "cell_type": "code",
   "execution_count": 63,
   "metadata": {
    "ExecuteTime": {
     "end_time": "2021-03-08T13:55:37.294953Z",
     "start_time": "2021-03-08T13:55:37.290673Z"
    }
   },
   "outputs": [
    {
     "data": {
      "text/plain": [
       "['Mary', 'Erika', 'Gino']"
      ]
     },
     "execution_count": 63,
     "metadata": {},
     "output_type": "execute_result"
    }
   ],
   "source": [
    "nx.shortest_path(G, 'Mary', 'Gino')"
   ]
  },
  {
   "cell_type": "code",
   "execution_count": 64,
   "metadata": {
    "ExecuteTime": {
     "end_time": "2021-03-08T13:55:37.300460Z",
     "start_time": "2021-03-08T13:55:37.296669Z"
    }
   },
   "outputs": [
    {
     "data": {
      "text/plain": [
       "2"
      ]
     },
     "execution_count": 64,
     "metadata": {},
     "output_type": "execute_result"
    }
   ],
   "source": [
    "nx.shortest_path_length(G, 'Mary', 'Gino')"
   ]
  },
  {
   "cell_type": "code",
   "execution_count": 65,
   "metadata": {
    "ExecuteTime": {
     "end_time": "2021-03-08T13:55:37.306767Z",
     "start_time": "2021-03-08T13:55:37.302307Z"
    }
   },
   "outputs": [
    {
     "data": {
      "text/plain": [
       "3"
      ]
     },
     "execution_count": 65,
     "metadata": {},
     "output_type": "execute_result"
    }
   ],
   "source": [
    "nx.shortest_path_length(G, 'Mary', 'Christian')"
   ]
  },
  {
   "cell_type": "code",
   "execution_count": 66,
   "metadata": {
    "ExecuteTime": {
     "end_time": "2021-03-08T13:55:37.315783Z",
     "start_time": "2021-03-08T13:55:37.309097Z"
    },
    "scrolled": true
   },
   "outputs": [
    {
     "data": {
      "text/plain": [
       "[('Erika',\n",
       "  {'Erika': 0,\n",
       "   'Mary': 1,\n",
       "   'Gino': 1,\n",
       "   'Ann': 1,\n",
       "   'Chris': 1,\n",
       "   'Faye': 1,\n",
       "   'Christian': 2}),\n",
       " ('Chris',\n",
       "  {'Chris': 0,\n",
       "   'Erika': 1,\n",
       "   'Gino': 1,\n",
       "   'Mary': 2,\n",
       "   'Ann': 2,\n",
       "   'Faye': 2,\n",
       "   'Christian': 2}),\n",
       " ('Gino',\n",
       "  {'Gino': 0,\n",
       "   'Erika': 1,\n",
       "   'Christian': 1,\n",
       "   'Chris': 1,\n",
       "   'Mary': 2,\n",
       "   'Ann': 2,\n",
       "   'Faye': 2}),\n",
       " ('Christian',\n",
       "  {'Christian': 0,\n",
       "   'Gino': 1,\n",
       "   'Erika': 2,\n",
       "   'Chris': 2,\n",
       "   'Mary': 3,\n",
       "   'Ann': 3,\n",
       "   'Faye': 3}),\n",
       " ('Ann',\n",
       "  {'Ann': 0,\n",
       "   'Mary': 1,\n",
       "   'Erika': 1,\n",
       "   'Faye': 1,\n",
       "   'Gino': 2,\n",
       "   'Chris': 2,\n",
       "   'Christian': 3}),\n",
       " ('Faye',\n",
       "  {'Faye': 0,\n",
       "   'Ann': 1,\n",
       "   'Mary': 1,\n",
       "   'Erika': 1,\n",
       "   'Gino': 2,\n",
       "   'Chris': 2,\n",
       "   'Christian': 3}),\n",
       " ('Mary',\n",
       "  {'Mary': 0,\n",
       "   'Ann': 1,\n",
       "   'Erika': 1,\n",
       "   'Faye': 1,\n",
       "   'Gino': 2,\n",
       "   'Chris': 2,\n",
       "   'Christian': 3})]"
      ]
     },
     "execution_count": 66,
     "metadata": {},
     "output_type": "execute_result"
    }
   ],
   "source": [
    "list(nx.all_pairs_shortest_path_length(G))"
   ]
  },
  {
   "cell_type": "markdown",
   "metadata": {},
   "source": [
    "### 4.4 Clustering Coefficient\n",
    "\n",
    " <img src=\"figure/clust_coeff.png\" width=\"75%\">\n",
    " \n",
    "The clustering coefficient essentially quantifies how ones \"friends\" are \"friends\" with each other."
   ]
  },
  {
   "cell_type": "code",
   "execution_count": 67,
   "metadata": {
    "ExecuteTime": {
     "end_time": "2021-03-08T13:55:37.336268Z",
     "start_time": "2021-03-08T13:55:37.329758Z"
    }
   },
   "outputs": [
    {
     "data": {
      "text/plain": [
       "0.4"
      ]
     },
     "execution_count": 67,
     "metadata": {},
     "output_type": "execute_result"
    }
   ],
   "source": [
    "nx.clustering(G, 'Erika')"
   ]
  },
  {
   "cell_type": "code",
   "execution_count": 68,
   "metadata": {
    "ExecuteTime": {
     "end_time": "2021-03-08T13:55:37.343551Z",
     "start_time": "2021-03-08T13:55:37.339026Z"
    }
   },
   "outputs": [
    {
     "data": {
      "text/plain": [
       "1.0"
      ]
     },
     "execution_count": 68,
     "metadata": {},
     "output_type": "execute_result"
    }
   ],
   "source": [
    "nx.clustering(G, 'Faye')"
   ]
  },
  {
   "cell_type": "code",
   "execution_count": 69,
   "metadata": {
    "ExecuteTime": {
     "end_time": "2021-03-08T13:55:37.350077Z",
     "start_time": "2021-03-08T13:55:37.345669Z"
    }
   },
   "outputs": [
    {
     "name": "stdout",
     "output_type": "stream",
     "text": [
      "0.6761904761904762\n"
     ]
    }
   ],
   "source": [
    "cc = nx.clustering(G)\n",
    "avg_clust = sum(cc.values()) / len(cc)\n",
    "print(avg_clust)"
   ]
  },
  {
   "cell_type": "markdown",
   "metadata": {},
   "source": [
    "## 5. Exercises: Real-World Network\n",
    "\n",
    "<div class=\"alert alert-block alert-info\">\n",
    "Perform the required analysis below and upload your work to Google colab. Submit to me a link to your Google colab via ALICE.\n",
    "</div>"
   ]
  },
  {
   "cell_type": "code",
   "execution_count": 70,
   "metadata": {
    "ExecuteTime": {
     "end_time": "2021-03-08T13:55:37.358324Z",
     "start_time": "2021-03-08T13:55:37.352039Z"
    }
   },
   "outputs": [],
   "source": [
    "def net_prop(network):\n",
    "    '''Display basic network properties of the network'''\n",
    "    \n",
    "    #Get number of nodes, edges, and number of degrees\n",
    "    N = network.order()\n",
    "    L = network.size() \n",
    "    avg_deg = float(L) / N \n",
    "    \n",
    "    print ('Basic Properties')\n",
    "    print ('Nodes: ', N)\n",
    "    print ('Edges: ', L)\n",
    "    print ('Average degree: ', avg_deg)\n",
    "    print('\\n')\n",
    "    \n",
    "    \n",
    "    degrees = [degree for degree in nx.degree(network)]\n",
    "    print(\"Sorted degrees of nodes\")\n",
    "    print(sorted(degrees, key = lambda x: x[1], reverse=True))\n",
    "    "
   ]
  },
  {
   "cell_type": "markdown",
   "metadata": {},
   "source": [
    "### 5.1 Zachary's Karate Club\n",
    "\n",
    "Zachary, W. W. (1977), ‘An Information Flow Model for Conflict and Fission in Small Groups’, Journal of Anthropological Research 33, 452-473.\n",
    "\n",
    "**Description** \n",
    "\n",
    "This is the well-known and much-used Zachary karate club network. The data was collected from the members of a university karate club by Wayne Zachary in 1977. Each node represents a member of the club, and each edge represents a tie between two members of the club."
   ]
  },
  {
   "cell_type": "code",
   "execution_count": 71,
   "metadata": {
    "ExecuteTime": {
     "end_time": "2021-03-08T13:55:37.364280Z",
     "start_time": "2021-03-08T13:55:37.360378Z"
    }
   },
   "outputs": [],
   "source": [
    "K = nx.karate_club_graph()"
   ]
  },
  {
   "cell_type": "code",
   "execution_count": 72,
   "metadata": {
    "ExecuteTime": {
     "end_time": "2021-03-08T13:55:37.567451Z",
     "start_time": "2021-03-08T13:55:37.366428Z"
    }
   },
   "outputs": [
    {
     "data": {
      "image/png": "[encoded data removed]",
      "text/plain": [
       "<Figure size 864x720 with 1 Axes>"
      ]
     },
     "metadata": {},
     "output_type": "display_data"
    }
   ],
   "source": [
    "pos = nx.fruchterman_reingold_layout(K);\n",
    "\n",
    "plt.figure(figsize=(12,10));\n",
    "plt.axis(\"off\");\n",
    "nx.draw_networkx_nodes(K, pos, node_size=300, node_color=\"black\");\n",
    "nx.draw_networkx_edges(K, pos, alpha=0.500);\n",
    "nx.draw_networkx_labels(K, pos, font_color=\"white\");\n",
    "plt.show();"
   ]
  },
  {
   "cell_type": "markdown",
   "metadata": {},
   "source": [
    "#### 5.1.1 Network Structure Properties"
   ]
  },
  {
   "cell_type": "code",
   "execution_count": 73,
   "metadata": {
    "ExecuteTime": {
     "end_time": "2021-03-08T13:55:37.580098Z",
     "start_time": "2021-03-08T13:55:37.569418Z"
    }
   },
   "outputs": [
    {
     "data": {
      "text/plain": [
       "{0: array([-0.35536548, -0.22671724]),\n",
       " 1: array([-0.33576022,  0.10384264]),\n",
       " 2: array([-0.01416055, -0.02448366]),\n",
       " 3: array([-0.37758564, -0.11134833]),\n",
       " 4: array([-0.51790088, -0.6320386 ]),\n",
       " 5: array([-0.79729103, -0.53725652]),\n",
       " 6: array([-0.70954049, -0.65203806]),\n",
       " 7: array([-0.38859573, -0.00922356]),\n",
       " 8: array([0.03377016, 0.13887626]),\n",
       " 9: array([0.20910407, 0.02441743]),\n",
       " 10: array([-0.62627615, -0.50345268]),\n",
       " 11: array([-0.28560629, -0.66970051]),\n",
       " 12: array([-0.67892155, -0.22890034]),\n",
       " 13: array([-0.14018128,  0.01661598]),\n",
       " 14: array([0.56574385, 0.59669357]),\n",
       " 15: array([0.65567016, 0.49306008]),\n",
       " 16: array([-1.        , -0.79764764]),\n",
       " 17: array([-0.66407345, -0.02267432]),\n",
       " 18: array([0.40184284, 0.62775523]),\n",
       " 19: array([-0.15804905,  0.18033013]),\n",
       " 20: array([0.69908638, 0.18663206]),\n",
       " 21: array([-0.62663414,  0.11482348]),\n",
       " 22: array([0.70863925, 0.37038938]),\n",
       " 23: array([0.57941846, 0.17433882]),\n",
       " 24: array([ 0.63431309, -0.30239474]),\n",
       " 25: array([ 0.72296304, -0.13527212]),\n",
       " 26: array([0.30655146, 0.72343287]),\n",
       " 27: array([ 0.44790055, -0.04575472]),\n",
       " 28: array([ 0.21512484, -0.14850324]),\n",
       " 29: array([0.4508501 , 0.49063994]),\n",
       " 30: array([0.02687273, 0.35226578]),\n",
       " 31: array([ 0.3121492 , -0.10867089]),\n",
       " 32: array([0.39019018, 0.29528061]),\n",
       " 33: array([0.31575159, 0.2666829 ])}"
      ]
     },
     "execution_count": 73,
     "metadata": {},
     "output_type": "execute_result"
    }
   ],
   "source": [
    "pos"
   ]
  },
  {
   "cell_type": "code",
   "execution_count": 74,
   "metadata": {
    "ExecuteTime": {
     "end_time": "2021-03-08T13:55:37.588445Z",
     "start_time": "2021-03-08T13:55:37.582023Z"
    }
   },
   "outputs": [
    {
     "name": "stdout",
     "output_type": "stream",
     "text": [
      "Basic Properties\n",
      "Nodes:  34\n",
      "Edges:  78\n",
      "Average degree:  2.2941176470588234\n",
      "\n",
      "\n",
      "Sorted degrees of nodes\n",
      "[(33, 17), (0, 16), (32, 12), (2, 10), (1, 9), (3, 6), (31, 6), (8, 5), (13, 5), (23, 5), (5, 4), (6, 4), (7, 4), (27, 4), (29, 4), (30, 4), (4, 3), (10, 3), (19, 3), (24, 3), (25, 3), (28, 3), (9, 2), (12, 2), (14, 2), (15, 2), (16, 2), (17, 2), (18, 2), (20, 2), (21, 2), (22, 2), (26, 2), (11, 1)]\n"
     ]
    }
   ],
   "source": [
    "net_prop(K)"
   ]
  },
  {
   "cell_type": "code",
   "execution_count": 75,
   "metadata": {
    "ExecuteTime": {
     "end_time": "2021-03-08T13:55:37.640182Z",
     "start_time": "2021-03-08T13:55:37.590348Z"
    }
   },
   "outputs": [
    {
     "data": {
      "text/plain": [
       "[(0,\n",
       "  {0: 0,\n",
       "   1: 1,\n",
       "   2: 1,\n",
       "   3: 1,\n",
       "   4: 1,\n",
       "   5: 1,\n",
       "   6: 1,\n",
       "   7: 1,\n",
       "   8: 1,\n",
       "   10: 1,\n",
       "   11: 1,\n",
       "   12: 1,\n",
       "   13: 1,\n",
       "   17: 1,\n",
       "   19: 1,\n",
       "   21: 1,\n",
       "   31: 1,\n",
       "   9: 2,\n",
       "   16: 2,\n",
       "   24: 2,\n",
       "   25: 2,\n",
       "   27: 2,\n",
       "   28: 2,\n",
       "   30: 2,\n",
       "   32: 2,\n",
       "   33: 2,\n",
       "   14: 3,\n",
       "   15: 3,\n",
       "   18: 3,\n",
       "   20: 3,\n",
       "   22: 3,\n",
       "   23: 3,\n",
       "   26: 3,\n",
       "   29: 3}),\n",
       " (1,\n",
       "  {1: 0,\n",
       "   0: 1,\n",
       "   2: 1,\n",
       "   3: 1,\n",
       "   7: 1,\n",
       "   13: 1,\n",
       "   17: 1,\n",
       "   19: 1,\n",
       "   21: 1,\n",
       "   30: 1,\n",
       "   4: 2,\n",
       "   5: 2,\n",
       "   6: 2,\n",
       "   8: 2,\n",
       "   9: 2,\n",
       "   10: 2,\n",
       "   11: 2,\n",
       "   12: 2,\n",
       "   27: 2,\n",
       "   28: 2,\n",
       "   31: 2,\n",
       "   32: 2,\n",
       "   33: 2,\n",
       "   14: 3,\n",
       "   15: 3,\n",
       "   16: 3,\n",
       "   18: 3,\n",
       "   20: 3,\n",
       "   22: 3,\n",
       "   23: 3,\n",
       "   24: 3,\n",
       "   25: 3,\n",
       "   26: 3,\n",
       "   29: 3}),\n",
       " (2,\n",
       "  {2: 0,\n",
       "   0: 1,\n",
       "   1: 1,\n",
       "   32: 1,\n",
       "   3: 1,\n",
       "   7: 1,\n",
       "   8: 1,\n",
       "   9: 1,\n",
       "   13: 1,\n",
       "   27: 1,\n",
       "   28: 1,\n",
       "   4: 2,\n",
       "   5: 2,\n",
       "   6: 2,\n",
       "   10: 2,\n",
       "   11: 2,\n",
       "   12: 2,\n",
       "   14: 2,\n",
       "   15: 2,\n",
       "   17: 2,\n",
       "   18: 2,\n",
       "   19: 2,\n",
       "   20: 2,\n",
       "   21: 2,\n",
       "   22: 2,\n",
       "   23: 2,\n",
       "   24: 2,\n",
       "   29: 2,\n",
       "   30: 2,\n",
       "   31: 2,\n",
       "   33: 2,\n",
       "   16: 3,\n",
       "   25: 3,\n",
       "   26: 3}),\n",
       " (3,\n",
       "  {3: 0,\n",
       "   0: 1,\n",
       "   1: 1,\n",
       "   2: 1,\n",
       "   7: 1,\n",
       "   12: 1,\n",
       "   13: 1,\n",
       "   4: 2,\n",
       "   5: 2,\n",
       "   6: 2,\n",
       "   8: 2,\n",
       "   9: 2,\n",
       "   10: 2,\n",
       "   11: 2,\n",
       "   17: 2,\n",
       "   19: 2,\n",
       "   21: 2,\n",
       "   27: 2,\n",
       "   28: 2,\n",
       "   30: 2,\n",
       "   31: 2,\n",
       "   32: 2,\n",
       "   33: 2,\n",
       "   14: 3,\n",
       "   15: 3,\n",
       "   16: 3,\n",
       "   18: 3,\n",
       "   20: 3,\n",
       "   22: 3,\n",
       "   23: 3,\n",
       "   24: 3,\n",
       "   25: 3,\n",
       "   26: 3,\n",
       "   29: 3}),\n",
       " (4,\n",
       "  {4: 0,\n",
       "   0: 1,\n",
       "   10: 1,\n",
       "   6: 1,\n",
       "   1: 2,\n",
       "   2: 2,\n",
       "   3: 2,\n",
       "   5: 2,\n",
       "   7: 2,\n",
       "   8: 2,\n",
       "   11: 2,\n",
       "   12: 2,\n",
       "   13: 2,\n",
       "   16: 2,\n",
       "   17: 2,\n",
       "   19: 2,\n",
       "   21: 2,\n",
       "   31: 2,\n",
       "   9: 3,\n",
       "   24: 3,\n",
       "   25: 3,\n",
       "   27: 3,\n",
       "   28: 3,\n",
       "   30: 3,\n",
       "   32: 3,\n",
       "   33: 3,\n",
       "   14: 4,\n",
       "   15: 4,\n",
       "   18: 4,\n",
       "   20: 4,\n",
       "   22: 4,\n",
       "   23: 4,\n",
       "   26: 4,\n",
       "   29: 4}),\n",
       " (5,\n",
       "  {5: 0,\n",
       "   0: 1,\n",
       "   16: 1,\n",
       "   10: 1,\n",
       "   6: 1,\n",
       "   1: 2,\n",
       "   2: 2,\n",
       "   3: 2,\n",
       "   4: 2,\n",
       "   7: 2,\n",
       "   8: 2,\n",
       "   11: 2,\n",
       "   12: 2,\n",
       "   13: 2,\n",
       "   17: 2,\n",
       "   19: 2,\n",
       "   21: 2,\n",
       "   31: 2,\n",
       "   9: 3,\n",
       "   24: 3,\n",
       "   25: 3,\n",
       "   27: 3,\n",
       "   28: 3,\n",
       "   30: 3,\n",
       "   32: 3,\n",
       "   33: 3,\n",
       "   14: 4,\n",
       "   15: 4,\n",
       "   18: 4,\n",
       "   20: 4,\n",
       "   22: 4,\n",
       "   23: 4,\n",
       "   26: 4,\n",
       "   29: 4}),\n",
       " (6,\n",
       "  {6: 0,\n",
       "   0: 1,\n",
       "   16: 1,\n",
       "   4: 1,\n",
       "   5: 1,\n",
       "   1: 2,\n",
       "   2: 2,\n",
       "   3: 2,\n",
       "   7: 2,\n",
       "   8: 2,\n",
       "   10: 2,\n",
       "   11: 2,\n",
       "   12: 2,\n",
       "   13: 2,\n",
       "   17: 2,\n",
       "   19: 2,\n",
       "   21: 2,\n",
       "   31: 2,\n",
       "   9: 3,\n",
       "   24: 3,\n",
       "   25: 3,\n",
       "   27: 3,\n",
       "   28: 3,\n",
       "   30: 3,\n",
       "   32: 3,\n",
       "   33: 3,\n",
       "   14: 4,\n",
       "   15: 4,\n",
       "   18: 4,\n",
       "   20: 4,\n",
       "   22: 4,\n",
       "   23: 4,\n",
       "   26: 4,\n",
       "   29: 4}),\n",
       " (7,\n",
       "  {7: 0,\n",
       "   0: 1,\n",
       "   1: 1,\n",
       "   2: 1,\n",
       "   3: 1,\n",
       "   4: 2,\n",
       "   5: 2,\n",
       "   6: 2,\n",
       "   8: 2,\n",
       "   9: 2,\n",
       "   10: 2,\n",
       "   11: 2,\n",
       "   12: 2,\n",
       "   13: 2,\n",
       "   17: 2,\n",
       "   19: 2,\n",
       "   21: 2,\n",
       "   27: 2,\n",
       "   28: 2,\n",
       "   30: 2,\n",
       "   31: 2,\n",
       "   32: 2,\n",
       "   14: 3,\n",
       "   15: 3,\n",
       "   16: 3,\n",
       "   18: 3,\n",
       "   20: 3,\n",
       "   22: 3,\n",
       "   23: 3,\n",
       "   24: 3,\n",
       "   25: 3,\n",
       "   29: 3,\n",
       "   33: 3,\n",
       "   26: 4}),\n",
       " (8,\n",
       "  {8: 0,\n",
       "   0: 1,\n",
       "   33: 1,\n",
       "   2: 1,\n",
       "   32: 1,\n",
       "   30: 1,\n",
       "   1: 2,\n",
       "   3: 2,\n",
       "   4: 2,\n",
       "   5: 2,\n",
       "   6: 2,\n",
       "   7: 2,\n",
       "   9: 2,\n",
       "   10: 2,\n",
       "   11: 2,\n",
       "   12: 2,\n",
       "   13: 2,\n",
       "   14: 2,\n",
       "   15: 2,\n",
       "   17: 2,\n",
       "   18: 2,\n",
       "   19: 2,\n",
       "   20: 2,\n",
       "   21: 2,\n",
       "   22: 2,\n",
       "   23: 2,\n",
       "   26: 2,\n",
       "   27: 2,\n",
       "   28: 2,\n",
       "   29: 2,\n",
       "   31: 2,\n",
       "   16: 3,\n",
       "   24: 3,\n",
       "   25: 3}),\n",
       " (9,\n",
       "  {9: 0,\n",
       "   33: 1,\n",
       "   2: 1,\n",
       "   0: 2,\n",
       "   1: 2,\n",
       "   3: 2,\n",
       "   7: 2,\n",
       "   8: 2,\n",
       "   13: 2,\n",
       "   14: 2,\n",
       "   15: 2,\n",
       "   18: 2,\n",
       "   19: 2,\n",
       "   20: 2,\n",
       "   22: 2,\n",
       "   23: 2,\n",
       "   26: 2,\n",
       "   27: 2,\n",
       "   28: 2,\n",
       "   29: 2,\n",
       "   30: 2,\n",
       "   31: 2,\n",
       "   32: 2,\n",
       "   4: 3,\n",
       "   5: 3,\n",
       "   6: 3,\n",
       "   10: 3,\n",
       "   11: 3,\n",
       "   12: 3,\n",
       "   17: 3,\n",
       "   21: 3,\n",
       "   24: 3,\n",
       "   25: 3,\n",
       "   16: 4}),\n",
       " (10,\n",
       "  {10: 0,\n",
       "   0: 1,\n",
       "   4: 1,\n",
       "   5: 1,\n",
       "   1: 2,\n",
       "   2: 2,\n",
       "   3: 2,\n",
       "   6: 2,\n",
       "   7: 2,\n",
       "   8: 2,\n",
       "   11: 2,\n",
       "   12: 2,\n",
       "   13: 2,\n",
       "   16: 2,\n",
       "   17: 2,\n",
       "   19: 2,\n",
       "   21: 2,\n",
       "   31: 2,\n",
       "   9: 3,\n",
       "   24: 3,\n",
       "   25: 3,\n",
       "   27: 3,\n",
       "   28: 3,\n",
       "   30: 3,\n",
       "   32: 3,\n",
       "   33: 3,\n",
       "   14: 4,\n",
       "   15: 4,\n",
       "   18: 4,\n",
       "   20: 4,\n",
       "   22: 4,\n",
       "   23: 4,\n",
       "   26: 4,\n",
       "   29: 4}),\n",
       " (11,\n",
       "  {11: 0,\n",
       "   0: 1,\n",
       "   1: 2,\n",
       "   2: 2,\n",
       "   3: 2,\n",
       "   4: 2,\n",
       "   5: 2,\n",
       "   6: 2,\n",
       "   7: 2,\n",
       "   8: 2,\n",
       "   10: 2,\n",
       "   12: 2,\n",
       "   13: 2,\n",
       "   17: 2,\n",
       "   19: 2,\n",
       "   21: 2,\n",
       "   31: 2,\n",
       "   9: 3,\n",
       "   16: 3,\n",
       "   24: 3,\n",
       "   25: 3,\n",
       "   27: 3,\n",
       "   28: 3,\n",
       "   30: 3,\n",
       "   32: 3,\n",
       "   33: 3,\n",
       "   14: 4,\n",
       "   15: 4,\n",
       "   18: 4,\n",
       "   20: 4,\n",
       "   22: 4,\n",
       "   23: 4,\n",
       "   26: 4,\n",
       "   29: 4}),\n",
       " (12,\n",
       "  {12: 0,\n",
       "   0: 1,\n",
       "   3: 1,\n",
       "   1: 2,\n",
       "   2: 2,\n",
       "   4: 2,\n",
       "   5: 2,\n",
       "   6: 2,\n",
       "   7: 2,\n",
       "   8: 2,\n",
       "   10: 2,\n",
       "   11: 2,\n",
       "   13: 2,\n",
       "   17: 2,\n",
       "   19: 2,\n",
       "   21: 2,\n",
       "   31: 2,\n",
       "   9: 3,\n",
       "   16: 3,\n",
       "   24: 3,\n",
       "   25: 3,\n",
       "   27: 3,\n",
       "   28: 3,\n",
       "   30: 3,\n",
       "   32: 3,\n",
       "   33: 3,\n",
       "   14: 4,\n",
       "   15: 4,\n",
       "   18: 4,\n",
       "   20: 4,\n",
       "   22: 4,\n",
       "   23: 4,\n",
       "   26: 4,\n",
       "   29: 4}),\n",
       " (13,\n",
       "  {13: 0,\n",
       "   0: 1,\n",
       "   1: 1,\n",
       "   2: 1,\n",
       "   3: 1,\n",
       "   33: 1,\n",
       "   4: 2,\n",
       "   5: 2,\n",
       "   6: 2,\n",
       "   7: 2,\n",
       "   8: 2,\n",
       "   9: 2,\n",
       "   10: 2,\n",
       "   11: 2,\n",
       "   12: 2,\n",
       "   14: 2,\n",
       "   15: 2,\n",
       "   17: 2,\n",
       "   18: 2,\n",
       "   19: 2,\n",
       "   20: 2,\n",
       "   21: 2,\n",
       "   22: 2,\n",
       "   23: 2,\n",
       "   26: 2,\n",
       "   27: 2,\n",
       "   28: 2,\n",
       "   29: 2,\n",
       "   30: 2,\n",
       "   31: 2,\n",
       "   32: 2,\n",
       "   16: 3,\n",
       "   24: 3,\n",
       "   25: 3}),\n",
       " (14,\n",
       "  {14: 0,\n",
       "   32: 1,\n",
       "   33: 1,\n",
       "   2: 2,\n",
       "   8: 2,\n",
       "   9: 2,\n",
       "   13: 2,\n",
       "   15: 2,\n",
       "   18: 2,\n",
       "   19: 2,\n",
       "   20: 2,\n",
       "   22: 2,\n",
       "   23: 2,\n",
       "   26: 2,\n",
       "   27: 2,\n",
       "   28: 2,\n",
       "   29: 2,\n",
       "   30: 2,\n",
       "   31: 2,\n",
       "   0: 3,\n",
       "   1: 3,\n",
       "   3: 3,\n",
       "   7: 3,\n",
       "   24: 3,\n",
       "   25: 3,\n",
       "   4: 4,\n",
       "   5: 4,\n",
       "   6: 4,\n",
       "   10: 4,\n",
       "   11: 4,\n",
       "   12: 4,\n",
       "   17: 4,\n",
       "   21: 4,\n",
       "   16: 5}),\n",
       " (15,\n",
       "  {15: 0,\n",
       "   32: 1,\n",
       "   33: 1,\n",
       "   2: 2,\n",
       "   8: 2,\n",
       "   9: 2,\n",
       "   13: 2,\n",
       "   14: 2,\n",
       "   18: 2,\n",
       "   19: 2,\n",
       "   20: 2,\n",
       "   22: 2,\n",
       "   23: 2,\n",
       "   26: 2,\n",
       "   27: 2,\n",
       "   28: 2,\n",
       "   29: 2,\n",
       "   30: 2,\n",
       "   31: 2,\n",
       "   0: 3,\n",
       "   1: 3,\n",
       "   3: 3,\n",
       "   7: 3,\n",
       "   24: 3,\n",
       "   25: 3,\n",
       "   4: 4,\n",
       "   5: 4,\n",
       "   6: 4,\n",
       "   10: 4,\n",
       "   11: 4,\n",
       "   12: 4,\n",
       "   17: 4,\n",
       "   21: 4,\n",
       "   16: 5}),\n",
       " (16,\n",
       "  {16: 0,\n",
       "   5: 1,\n",
       "   6: 1,\n",
       "   0: 2,\n",
       "   4: 2,\n",
       "   10: 2,\n",
       "   1: 3,\n",
       "   2: 3,\n",
       "   3: 3,\n",
       "   7: 3,\n",
       "   8: 3,\n",
       "   11: 3,\n",
       "   12: 3,\n",
       "   13: 3,\n",
       "   17: 3,\n",
       "   19: 3,\n",
       "   21: 3,\n",
       "   31: 3,\n",
       "   9: 4,\n",
       "   24: 4,\n",
       "   25: 4,\n",
       "   27: 4,\n",
       "   28: 4,\n",
       "   30: 4,\n",
       "   32: 4,\n",
       "   33: 4,\n",
       "   14: 5,\n",
       "   15: 5,\n",
       "   18: 5,\n",
       "   20: 5,\n",
       "   22: 5,\n",
       "   23: 5,\n",
       "   26: 5,\n",
       "   29: 5}),\n",
       " (17,\n",
       "  {17: 0,\n",
       "   0: 1,\n",
       "   1: 1,\n",
       "   2: 2,\n",
       "   3: 2,\n",
       "   4: 2,\n",
       "   5: 2,\n",
       "   6: 2,\n",
       "   7: 2,\n",
       "   8: 2,\n",
       "   10: 2,\n",
       "   11: 2,\n",
       "   12: 2,\n",
       "   13: 2,\n",
       "   19: 2,\n",
       "   21: 2,\n",
       "   30: 2,\n",
       "   31: 2,\n",
       "   9: 3,\n",
       "   16: 3,\n",
       "   24: 3,\n",
       "   25: 3,\n",
       "   27: 3,\n",
       "   28: 3,\n",
       "   32: 3,\n",
       "   33: 3,\n",
       "   14: 4,\n",
       "   15: 4,\n",
       "   18: 4,\n",
       "   20: 4,\n",
       "   22: 4,\n",
       "   23: 4,\n",
       "   26: 4,\n",
       "   29: 4}),\n",
       " (18,\n",
       "  {18: 0,\n",
       "   32: 1,\n",
       "   33: 1,\n",
       "   2: 2,\n",
       "   8: 2,\n",
       "   9: 2,\n",
       "   13: 2,\n",
       "   14: 2,\n",
       "   15: 2,\n",
       "   19: 2,\n",
       "   20: 2,\n",
       "   22: 2,\n",
       "   23: 2,\n",
       "   26: 2,\n",
       "   27: 2,\n",
       "   28: 2,\n",
       "   29: 2,\n",
       "   30: 2,\n",
       "   31: 2,\n",
       "   0: 3,\n",
       "   1: 3,\n",
       "   3: 3,\n",
       "   7: 3,\n",
       "   24: 3,\n",
       "   25: 3,\n",
       "   4: 4,\n",
       "   5: 4,\n",
       "   6: 4,\n",
       "   10: 4,\n",
       "   11: 4,\n",
       "   12: 4,\n",
       "   17: 4,\n",
       "   21: 4,\n",
       "   16: 5}),\n",
       " (19,\n",
       "  {19: 0,\n",
       "   0: 1,\n",
       "   1: 1,\n",
       "   33: 1,\n",
       "   2: 2,\n",
       "   3: 2,\n",
       "   4: 2,\n",
       "   5: 2,\n",
       "   6: 2,\n",
       "   7: 2,\n",
       "   8: 2,\n",
       "   9: 2,\n",
       "   10: 2,\n",
       "   11: 2,\n",
       "   12: 2,\n",
       "   13: 2,\n",
       "   14: 2,\n",
       "   15: 2,\n",
       "   17: 2,\n",
       "   18: 2,\n",
       "   20: 2,\n",
       "   21: 2,\n",
       "   22: 2,\n",
       "   23: 2,\n",
       "   26: 2,\n",
       "   27: 2,\n",
       "   28: 2,\n",
       "   29: 2,\n",
       "   30: 2,\n",
       "   31: 2,\n",
       "   32: 2,\n",
       "   16: 3,\n",
       "   24: 3,\n",
       "   25: 3}),\n",
       " (20,\n",
       "  {20: 0,\n",
       "   32: 1,\n",
       "   33: 1,\n",
       "   2: 2,\n",
       "   8: 2,\n",
       "   9: 2,\n",
       "   13: 2,\n",
       "   14: 2,\n",
       "   15: 2,\n",
       "   18: 2,\n",
       "   19: 2,\n",
       "   22: 2,\n",
       "   23: 2,\n",
       "   26: 2,\n",
       "   27: 2,\n",
       "   28: 2,\n",
       "   29: 2,\n",
       "   30: 2,\n",
       "   31: 2,\n",
       "   0: 3,\n",
       "   1: 3,\n",
       "   3: 3,\n",
       "   7: 3,\n",
       "   24: 3,\n",
       "   25: 3,\n",
       "   4: 4,\n",
       "   5: 4,\n",
       "   6: 4,\n",
       "   10: 4,\n",
       "   11: 4,\n",
       "   12: 4,\n",
       "   17: 4,\n",
       "   21: 4,\n",
       "   16: 5}),\n",
       " (21,\n",
       "  {21: 0,\n",
       "   0: 1,\n",
       "   1: 1,\n",
       "   2: 2,\n",
       "   3: 2,\n",
       "   4: 2,\n",
       "   5: 2,\n",
       "   6: 2,\n",
       "   7: 2,\n",
       "   8: 2,\n",
       "   10: 2,\n",
       "   11: 2,\n",
       "   12: 2,\n",
       "   13: 2,\n",
       "   17: 2,\n",
       "   19: 2,\n",
       "   30: 2,\n",
       "   31: 2,\n",
       "   9: 3,\n",
       "   16: 3,\n",
       "   24: 3,\n",
       "   25: 3,\n",
       "   27: 3,\n",
       "   28: 3,\n",
       "   32: 3,\n",
       "   33: 3,\n",
       "   14: 4,\n",
       "   15: 4,\n",
       "   18: 4,\n",
       "   20: 4,\n",
       "   22: 4,\n",
       "   23: 4,\n",
       "   26: 4,\n",
       "   29: 4}),\n",
       " (22,\n",
       "  {22: 0,\n",
       "   32: 1,\n",
       "   33: 1,\n",
       "   2: 2,\n",
       "   8: 2,\n",
       "   9: 2,\n",
       "   13: 2,\n",
       "   14: 2,\n",
       "   15: 2,\n",
       "   18: 2,\n",
       "   19: 2,\n",
       "   20: 2,\n",
       "   23: 2,\n",
       "   26: 2,\n",
       "   27: 2,\n",
       "   28: 2,\n",
       "   29: 2,\n",
       "   30: 2,\n",
       "   31: 2,\n",
       "   0: 3,\n",
       "   1: 3,\n",
       "   3: 3,\n",
       "   7: 3,\n",
       "   24: 3,\n",
       "   25: 3,\n",
       "   4: 4,\n",
       "   5: 4,\n",
       "   6: 4,\n",
       "   10: 4,\n",
       "   11: 4,\n",
       "   12: 4,\n",
       "   17: 4,\n",
       "   21: 4,\n",
       "   16: 5}),\n",
       " (23,\n",
       "  {23: 0,\n",
       "   32: 1,\n",
       "   33: 1,\n",
       "   25: 1,\n",
       "   27: 1,\n",
       "   29: 1,\n",
       "   2: 2,\n",
       "   8: 2,\n",
       "   9: 2,\n",
       "   13: 2,\n",
       "   14: 2,\n",
       "   15: 2,\n",
       "   18: 2,\n",
       "   19: 2,\n",
       "   20: 2,\n",
       "   22: 2,\n",
       "   24: 2,\n",
       "   26: 2,\n",
       "   28: 2,\n",
       "   30: 2,\n",
       "   31: 2,\n",
       "   0: 3,\n",
       "   1: 3,\n",
       "   3: 3,\n",
       "   7: 3,\n",
       "   4: 4,\n",
       "   5: 4,\n",
       "   6: 4,\n",
       "   10: 4,\n",
       "   11: 4,\n",
       "   12: 4,\n",
       "   17: 4,\n",
       "   21: 4,\n",
       "   16: 5}),\n",
       " (24,\n",
       "  {24: 0,\n",
       "   25: 1,\n",
       "   27: 1,\n",
       "   31: 1,\n",
       "   0: 2,\n",
       "   33: 2,\n",
       "   2: 2,\n",
       "   32: 2,\n",
       "   23: 2,\n",
       "   28: 2,\n",
       "   1: 3,\n",
       "   3: 3,\n",
       "   4: 3,\n",
       "   5: 3,\n",
       "   6: 3,\n",
       "   7: 3,\n",
       "   8: 3,\n",
       "   9: 3,\n",
       "   10: 3,\n",
       "   11: 3,\n",
       "   12: 3,\n",
       "   13: 3,\n",
       "   14: 3,\n",
       "   15: 3,\n",
       "   17: 3,\n",
       "   18: 3,\n",
       "   19: 3,\n",
       "   20: 3,\n",
       "   21: 3,\n",
       "   22: 3,\n",
       "   26: 3,\n",
       "   29: 3,\n",
       "   30: 3,\n",
       "   16: 4}),\n",
       " (25,\n",
       "  {25: 0,\n",
       "   24: 1,\n",
       "   31: 1,\n",
       "   23: 1,\n",
       "   0: 2,\n",
       "   32: 2,\n",
       "   33: 2,\n",
       "   27: 2,\n",
       "   28: 2,\n",
       "   29: 2,\n",
       "   1: 3,\n",
       "   2: 3,\n",
       "   3: 3,\n",
       "   4: 3,\n",
       "   5: 3,\n",
       "   6: 3,\n",
       "   7: 3,\n",
       "   8: 3,\n",
       "   9: 3,\n",
       "   10: 3,\n",
       "   11: 3,\n",
       "   12: 3,\n",
       "   13: 3,\n",
       "   14: 3,\n",
       "   15: 3,\n",
       "   17: 3,\n",
       "   18: 3,\n",
       "   19: 3,\n",
       "   20: 3,\n",
       "   21: 3,\n",
       "   22: 3,\n",
       "   26: 3,\n",
       "   30: 3,\n",
       "   16: 4}),\n",
       " (26,\n",
       "  {26: 0,\n",
       "   33: 1,\n",
       "   29: 1,\n",
       "   32: 2,\n",
       "   8: 2,\n",
       "   9: 2,\n",
       "   13: 2,\n",
       "   14: 2,\n",
       "   15: 2,\n",
       "   18: 2,\n",
       "   19: 2,\n",
       "   20: 2,\n",
       "   22: 2,\n",
       "   23: 2,\n",
       "   27: 2,\n",
       "   28: 2,\n",
       "   30: 2,\n",
       "   31: 2,\n",
       "   0: 3,\n",
       "   1: 3,\n",
       "   2: 3,\n",
       "   3: 3,\n",
       "   24: 3,\n",
       "   25: 3,\n",
       "   4: 4,\n",
       "   5: 4,\n",
       "   6: 4,\n",
       "   7: 4,\n",
       "   10: 4,\n",
       "   11: 4,\n",
       "   12: 4,\n",
       "   17: 4,\n",
       "   21: 4,\n",
       "   16: 5}),\n",
       " (27,\n",
       "  {27: 0,\n",
       "   24: 1,\n",
       "   33: 1,\n",
       "   2: 1,\n",
       "   23: 1,\n",
       "   0: 2,\n",
       "   1: 2,\n",
       "   3: 2,\n",
       "   7: 2,\n",
       "   8: 2,\n",
       "   9: 2,\n",
       "   13: 2,\n",
       "   14: 2,\n",
       "   15: 2,\n",
       "   18: 2,\n",
       "   19: 2,\n",
       "   20: 2,\n",
       "   22: 2,\n",
       "   25: 2,\n",
       "   26: 2,\n",
       "   28: 2,\n",
       "   29: 2,\n",
       "   30: 2,\n",
       "   31: 2,\n",
       "   32: 2,\n",
       "   4: 3,\n",
       "   5: 3,\n",
       "   6: 3,\n",
       "   10: 3,\n",
       "   11: 3,\n",
       "   12: 3,\n",
       "   17: 3,\n",
       "   21: 3,\n",
       "   16: 4}),\n",
       " (28,\n",
       "  {28: 0,\n",
       "   33: 1,\n",
       "   2: 1,\n",
       "   31: 1,\n",
       "   0: 2,\n",
       "   1: 2,\n",
       "   3: 2,\n",
       "   7: 2,\n",
       "   8: 2,\n",
       "   9: 2,\n",
       "   13: 2,\n",
       "   14: 2,\n",
       "   15: 2,\n",
       "   18: 2,\n",
       "   19: 2,\n",
       "   20: 2,\n",
       "   22: 2,\n",
       "   23: 2,\n",
       "   24: 2,\n",
       "   25: 2,\n",
       "   26: 2,\n",
       "   27: 2,\n",
       "   29: 2,\n",
       "   30: 2,\n",
       "   32: 2,\n",
       "   4: 3,\n",
       "   5: 3,\n",
       "   6: 3,\n",
       "   10: 3,\n",
       "   11: 3,\n",
       "   12: 3,\n",
       "   17: 3,\n",
       "   21: 3,\n",
       "   16: 4}),\n",
       " (29,\n",
       "  {29: 0,\n",
       "   32: 1,\n",
       "   33: 1,\n",
       "   26: 1,\n",
       "   23: 1,\n",
       "   2: 2,\n",
       "   8: 2,\n",
       "   9: 2,\n",
       "   13: 2,\n",
       "   14: 2,\n",
       "   15: 2,\n",
       "   18: 2,\n",
       "   19: 2,\n",
       "   20: 2,\n",
       "   22: 2,\n",
       "   25: 2,\n",
       "   27: 2,\n",
       "   28: 2,\n",
       "   30: 2,\n",
       "   31: 2,\n",
       "   0: 3,\n",
       "   1: 3,\n",
       "   3: 3,\n",
       "   7: 3,\n",
       "   24: 3,\n",
       "   4: 4,\n",
       "   5: 4,\n",
       "   6: 4,\n",
       "   10: 4,\n",
       "   11: 4,\n",
       "   12: 4,\n",
       "   17: 4,\n",
       "   21: 4,\n",
       "   16: 5}),\n",
       " (30,\n",
       "  {30: 0,\n",
       "   8: 1,\n",
       "   1: 1,\n",
       "   32: 1,\n",
       "   33: 1,\n",
       "   0: 2,\n",
       "   2: 2,\n",
       "   3: 2,\n",
       "   7: 2,\n",
       "   9: 2,\n",
       "   13: 2,\n",
       "   14: 2,\n",
       "   15: 2,\n",
       "   17: 2,\n",
       "   18: 2,\n",
       "   19: 2,\n",
       "   20: 2,\n",
       "   21: 2,\n",
       "   22: 2,\n",
       "   23: 2,\n",
       "   26: 2,\n",
       "   27: 2,\n",
       "   28: 2,\n",
       "   29: 2,\n",
       "   31: 2,\n",
       "   4: 3,\n",
       "   5: 3,\n",
       "   6: 3,\n",
       "   10: 3,\n",
       "   11: 3,\n",
       "   12: 3,\n",
       "   24: 3,\n",
       "   25: 3,\n",
       "   16: 4}),\n",
       " (31,\n",
       "  {31: 0,\n",
       "   0: 1,\n",
       "   32: 1,\n",
       "   33: 1,\n",
       "   24: 1,\n",
       "   25: 1,\n",
       "   28: 1,\n",
       "   1: 2,\n",
       "   2: 2,\n",
       "   3: 2,\n",
       "   4: 2,\n",
       "   5: 2,\n",
       "   6: 2,\n",
       "   7: 2,\n",
       "   8: 2,\n",
       "   9: 2,\n",
       "   10: 2,\n",
       "   11: 2,\n",
       "   12: 2,\n",
       "   13: 2,\n",
       "   14: 2,\n",
       "   15: 2,\n",
       "   17: 2,\n",
       "   18: 2,\n",
       "   19: 2,\n",
       "   20: 2,\n",
       "   21: 2,\n",
       "   22: 2,\n",
       "   23: 2,\n",
       "   26: 2,\n",
       "   27: 2,\n",
       "   29: 2,\n",
       "   30: 2,\n",
       "   16: 3}),\n",
       " (32,\n",
       "  {32: 0,\n",
       "   33: 1,\n",
       "   2: 1,\n",
       "   8: 1,\n",
       "   14: 1,\n",
       "   15: 1,\n",
       "   18: 1,\n",
       "   20: 1,\n",
       "   22: 1,\n",
       "   23: 1,\n",
       "   29: 1,\n",
       "   30: 1,\n",
       "   31: 1,\n",
       "   0: 2,\n",
       "   1: 2,\n",
       "   3: 2,\n",
       "   7: 2,\n",
       "   9: 2,\n",
       "   13: 2,\n",
       "   19: 2,\n",
       "   24: 2,\n",
       "   25: 2,\n",
       "   26: 2,\n",
       "   27: 2,\n",
       "   28: 2,\n",
       "   4: 3,\n",
       "   5: 3,\n",
       "   6: 3,\n",
       "   10: 3,\n",
       "   11: 3,\n",
       "   12: 3,\n",
       "   17: 3,\n",
       "   21: 3,\n",
       "   16: 4}),\n",
       " (33,\n",
       "  {33: 0,\n",
       "   32: 1,\n",
       "   8: 1,\n",
       "   9: 1,\n",
       "   13: 1,\n",
       "   14: 1,\n",
       "   15: 1,\n",
       "   18: 1,\n",
       "   19: 1,\n",
       "   20: 1,\n",
       "   22: 1,\n",
       "   23: 1,\n",
       "   26: 1,\n",
       "   27: 1,\n",
       "   28: 1,\n",
       "   29: 1,\n",
       "   30: 1,\n",
       "   31: 1,\n",
       "   0: 2,\n",
       "   1: 2,\n",
       "   2: 2,\n",
       "   3: 2,\n",
       "   24: 2,\n",
       "   25: 2,\n",
       "   4: 3,\n",
       "   5: 3,\n",
       "   6: 3,\n",
       "   7: 3,\n",
       "   10: 3,\n",
       "   11: 3,\n",
       "   12: 3,\n",
       "   17: 3,\n",
       "   21: 3,\n",
       "   16: 4})]"
      ]
     },
     "execution_count": 75,
     "metadata": {},
     "output_type": "execute_result"
    }
   ],
   "source": [
    "list(nx.all_pairs_shortest_path_length(K))"
   ]
  },
  {
   "cell_type": "markdown",
   "metadata": {},
   "source": [
    "#### 5.1.2 Network Insights"
   ]
  },
  {
   "cell_type": "markdown",
   "metadata": {},
   "source": [
    "1. There two clusters/groups of people, probably two sections of classes. \n",
    "2. For section 1, `0` is the central node. For section 2, `33` is the central node based on the number of degrees they have. My theory is that both these people are the teachers or presidents for each section respectively.\n",
    "3. With an average degree of `2.3`, this tells us that there is a great chance that everyone knows each other in this club.  \n",
    "4. This network is a perfect example of detecting a community, even within a small group of people."
   ]
  },
  {
   "cell_type": "markdown",
   "metadata": {},
   "source": [
    "### 5.2 Davis Southern women social network\n",
    "\n",
    "Vladimir Batagelj and Andrej Mrvar (2006): Pajek datasets\n",
    "http://vlado.fmf.uni-lj.si/pub/networks/data/. \n",
    "\n",
    "**Description**\n",
    "\n",
    "This is a data set of 18 women observed over a nine-month period. During that period, various subsets of these women met in a series of 14 informal social events. The data recored which women met for which events."
   ]
  },
  {
   "cell_type": "code",
   "execution_count": 76,
   "metadata": {
    "ExecuteTime": {
     "end_time": "2021-03-08T13:55:37.645405Z",
     "start_time": "2021-03-08T13:55:37.642393Z"
    }
   },
   "outputs": [],
   "source": [
    "DS = nx.davis_southern_women_graph()"
   ]
  },
  {
   "cell_type": "code",
   "execution_count": 77,
   "metadata": {
    "ExecuteTime": {
     "end_time": "2021-03-08T13:55:37.900846Z",
     "start_time": "2021-03-08T13:55:37.647029Z"
    }
   },
   "outputs": [
    {
     "data": {
      "image/png": "[encoded data removed]",
      "text/plain": [
       "<Figure size 864x720 with 1 Axes>"
      ]
     },
     "metadata": {},
     "output_type": "display_data"
    }
   ],
   "source": [
    "pos = nx.fruchterman_reingold_layout(DS);\n",
    "\n",
    "plt.figure(figsize=(12,10));\n",
    "plt.axis(\"off\");\n",
    "nx.draw_networkx_nodes(DS, pos, node_size=300, node_color=\"lightblue\");\n",
    "nx.draw_networkx_edges(DS, pos, alpha=0.500);\n",
    "nx.draw_networkx_labels(DS, pos, font_color='black');\n",
    "plt.show();\n"
   ]
  },
  {
   "cell_type": "markdown",
   "metadata": {},
   "source": [
    "#### 5.2.1 Network Structure Properties"
   ]
  },
  {
   "cell_type": "code",
   "execution_count": 78,
   "metadata": {
    "ExecuteTime": {
     "end_time": "2021-03-08T13:55:37.913937Z",
     "start_time": "2021-03-08T13:55:37.902990Z"
    }
   },
   "outputs": [
    {
     "data": {
      "text/plain": [
       "{'Evelyn Jefferson': array([-0.18117496, -0.50702893]),\n",
       " 'Laura Mandeville': array([-0.27506033, -0.58445272]),\n",
       " 'Theresa Anderson': array([-0.04555394, -0.4775424 ]),\n",
       " 'Brenda Rogers': array([-0.50076508, -0.43855187]),\n",
       " 'Charlotte McDowd': array([-0.18644226, -0.79584017]),\n",
       " 'Frances Anderson': array([-0.66389084, -0.29475977]),\n",
       " 'Eleanor Nye': array([-0.51526614, -0.07548414]),\n",
       " 'Pearl Oglethorpe': array([ 0.30353147, -0.18012646]),\n",
       " 'Ruth DeSand': array([ 0.10992933, -0.28658119]),\n",
       " 'Verne Sanderson': array([-0.1325478 ,  0.33683189]),\n",
       " 'Myra Liddel': array([-0.15412738,  0.58273402]),\n",
       " 'Katherina Rogers': array([0.26750867, 0.64601156]),\n",
       " 'Sylvia Avondale': array([0.12193788, 0.52737952]),\n",
       " 'Nora Fayette': array([0.26183028, 0.45073033]),\n",
       " 'Helen Lloyd': array([0.3061614 , 0.34376326]),\n",
       " 'Dorothy Murchison': array([-0.40279656,  0.37440552]),\n",
       " 'Olivia Carleton': array([0.96720549, 0.41559082]),\n",
       " 'Flora Price': array([0.9169105 , 0.08925022]),\n",
       " 'E1': array([-0.68501398, -0.81784915]),\n",
       " 'E2': array([ 0.0388872, -0.938287 ]),\n",
       " 'E3': array([-0.49403902, -0.71210486]),\n",
       " 'E4': array([-0.33482092, -0.93140172]),\n",
       " 'E5': array([-0.38172083, -0.48380639]),\n",
       " 'E6': array([-0.19849805, -0.18639201]),\n",
       " 'E7': array([-0.05186085, -0.08716512]),\n",
       " 'E8': array([-0.14624125,  0.03003417]),\n",
       " 'E9': array([0.23203275, 0.13420422]),\n",
       " 'E10': array([0.17273657, 0.83934604]),\n",
       " 'E11': array([0.78383663, 0.42123329]),\n",
       " 'E12': array([0.00724327, 0.74006491]),\n",
       " 'E13': array([0.32695107, 1.        ]),\n",
       " 'E14': array([0.53311768, 0.86579413])}"
      ]
     },
     "execution_count": 78,
     "metadata": {},
     "output_type": "execute_result"
    }
   ],
   "source": [
    "pos"
   ]
  },
  {
   "cell_type": "code",
   "execution_count": 79,
   "metadata": {
    "ExecuteTime": {
     "end_time": "2021-03-08T13:55:37.924946Z",
     "start_time": "2021-03-08T13:55:37.917656Z"
    }
   },
   "outputs": [
    {
     "name": "stdout",
     "output_type": "stream",
     "text": [
      "Basic Properties\n",
      "Nodes:  32\n",
      "Edges:  89\n",
      "Average degree:  2.78125\n",
      "\n",
      "\n",
      "Sorted degrees of nodes\n",
      "[('E8', 14), ('E9', 12), ('E7', 10), ('Evelyn Jefferson', 8), ('Theresa Anderson', 8), ('Nora Fayette', 8), ('E5', 8), ('E6', 8), ('Laura Mandeville', 7), ('Brenda Rogers', 7), ('Sylvia Avondale', 7), ('Katherina Rogers', 6), ('E3', 6), ('E12', 6), ('Helen Lloyd', 5), ('E10', 5), ('Charlotte McDowd', 4), ('Frances Anderson', 4), ('Eleanor Nye', 4), ('Ruth DeSand', 4), ('Verne Sanderson', 4), ('Myra Liddel', 4), ('E4', 4), ('E11', 4), ('Pearl Oglethorpe', 3), ('E1', 3), ('E2', 3), ('E13', 3), ('E14', 3), ('Dorothy Murchison', 2), ('Olivia Carleton', 2), ('Flora Price', 2)]\n"
     ]
    }
   ],
   "source": [
    "net_prop(DS)"
   ]
  },
  {
   "cell_type": "code",
   "execution_count": 80,
   "metadata": {
    "ExecuteTime": {
     "end_time": "2021-03-08T13:55:37.939214Z",
     "start_time": "2021-03-08T13:55:37.928643Z"
    }
   },
   "outputs": [
    {
     "data": {
      "text/plain": [
       "2.306451612903226"
      ]
     },
     "execution_count": 80,
     "metadata": {},
     "output_type": "execute_result"
    }
   ],
   "source": [
    "nx.average_shortest_path_length(DS)"
   ]
  },
  {
   "cell_type": "markdown",
   "metadata": {},
   "source": [
    "#### 5.2.2 Network Insights"
   ]
  },
  {
   "cell_type": "markdown",
   "metadata": {},
   "source": [
    "1. Assuming that the 18 women in the experiment don't know each other, this network showed that they met each other or at least met someone who knows someone from the experimental group.\n",
    "2. Since this experiment is observed in through gathering of informal events, if each of these women would be in at least (less than or equal to) 3 distinct social groups.\n",
    "3. Unlike the previous network we analyzed, this network doesn't seem to have a central node, indicating that these women have interacted with each other inside a small community that doesn't seem to know each other in the first place.\n",
    "4. Woman `E8` has interacted and engaged the most number of women in the network."
   ]
  },
  {
   "cell_type": "markdown",
   "metadata": {},
   "source": [
    "### 5.3 Florentine families\n",
    "\n",
    "- Breiger R. and Pattison P. (1986). Cumulated social roles: The duality of persons and their algebras. Social Networks, 8, 215-256.\n",
    "- Padgett, John F. 1994. Marriage and Elite Structure in Renaissance Florence, 1282-1500. Paper delivered to the Social Science History Association. \n",
    "\n",
    "**Description** \n",
    "\n",
    "This is a data set of marriage and business ties among Renaissance Florentine families."
   ]
  },
  {
   "cell_type": "code",
   "execution_count": 81,
   "metadata": {
    "ExecuteTime": {
     "end_time": "2021-03-08T13:55:37.945931Z",
     "start_time": "2021-03-08T13:55:37.942222Z"
    }
   },
   "outputs": [],
   "source": [
    "florentine = nx.florentine_families_graph() "
   ]
  },
  {
   "cell_type": "code",
   "execution_count": 82,
   "metadata": {
    "ExecuteTime": {
     "end_time": "2021-03-08T13:55:38.106714Z",
     "start_time": "2021-03-08T13:55:37.948797Z"
    },
    "scrolled": false
   },
   "outputs": [
    {
     "data": {
      "image/png": "[encoded data removed]",
      "text/plain": [
       "<Figure size 864x720 with 1 Axes>"
      ]
     },
     "metadata": {},
     "output_type": "display_data"
    }
   ],
   "source": [
    "pos = nx.fruchterman_reingold_layout(florentine);\n",
    "\n",
    "plt.figure(figsize=(12,10));\n",
    "plt.axis(\"off\");\n",
    "nx.draw_networkx_nodes(florentine, pos, node_size=300, node_color=\"lightgreen\");\n",
    "nx.draw_networkx_edges(florentine, pos, alpha=0.500);\n",
    "nx.draw_networkx_labels(florentine, pos, font_color='black');\n",
    "plt.show();\n"
   ]
  },
  {
   "cell_type": "markdown",
   "metadata": {},
   "source": [
    "#### 5.3.1 Network Structure Properties"
   ]
  },
  {
   "cell_type": "code",
   "execution_count": 83,
   "metadata": {
    "ExecuteTime": {
     "end_time": "2021-03-08T13:55:38.115358Z",
     "start_time": "2021-03-08T13:55:38.108738Z"
    }
   },
   "outputs": [
    {
     "data": {
      "text/plain": [
       "{'Acciaiuoli': array([-0.6954995 , -0.06894589]),\n",
       " 'Medici': array([-0.28795201, -0.11384842]),\n",
       " 'Castellani': array([ 0.51518459, -0.47204673]),\n",
       " 'Peruzzi': array([ 0.78486672, -0.21677909]),\n",
       " 'Strozzi': array([ 0.53251164, -0.17213146]),\n",
       " 'Barbadori': array([ 0.06938677, -0.46614892]),\n",
       " 'Ridolfi': array([ 0.11086289, -0.10319046]),\n",
       " 'Tornabuoni': array([0.00145699, 0.16795784]),\n",
       " 'Albizzi': array([-0.21724236,  0.42989899]),\n",
       " 'Salviati': array([-0.69304307, -0.49514859]),\n",
       " 'Pazzi': array([-1.        , -0.77262107]),\n",
       " 'Bischeri': array([0.63062694, 0.15034942]),\n",
       " 'Guadagni': array([0.25734671, 0.47853349]),\n",
       " 'Ginori': array([-0.45200756,  0.78468366]),\n",
       " 'Lamberteschi': array([0.44350124, 0.86943723])}"
      ]
     },
     "execution_count": 83,
     "metadata": {},
     "output_type": "execute_result"
    }
   ],
   "source": [
    "pos"
   ]
  },
  {
   "cell_type": "code",
   "execution_count": 84,
   "metadata": {
    "ExecuteTime": {
     "end_time": "2021-03-08T13:55:38.123026Z",
     "start_time": "2021-03-08T13:55:38.117219Z"
    }
   },
   "outputs": [
    {
     "name": "stdout",
     "output_type": "stream",
     "text": [
      "Basic Properties\n",
      "Nodes:  15\n",
      "Edges:  20\n",
      "Average degree:  1.3333333333333333\n",
      "\n",
      "\n",
      "Sorted degrees of nodes\n",
      "[('Medici', 6), ('Strozzi', 4), ('Guadagni', 4), ('Castellani', 3), ('Peruzzi', 3), ('Ridolfi', 3), ('Tornabuoni', 3), ('Albizzi', 3), ('Bischeri', 3), ('Barbadori', 2), ('Salviati', 2), ('Acciaiuoli', 1), ('Pazzi', 1), ('Ginori', 1), ('Lamberteschi', 1)]\n"
     ]
    }
   ],
   "source": [
    "net_prop(florentine)"
   ]
  },
  {
   "cell_type": "markdown",
   "metadata": {},
   "source": [
    "#### 5.3.2 Network Insights"
   ]
  },
  {
   "cell_type": "markdown",
   "metadata": {},
   "source": [
    "1. `Medici` Family seemed to be the most powerful and most influential. It has the most connections and most of Medici's connection have at least 1 or 2 families under it.\n",
    "2. There are no direct connections between `Guagdani` and `Medici`. Looking at the network, I could hypothesize that these two families are enemies, with `Guagdani` getting a hold of influential families like `Tornabuoni` and `Strozzi`. But `Medici` got a hold of more families that are linked to more families in the network, thus becoming a stronghold within this network."
   ]
  },
  {
   "cell_type": "markdown",
   "metadata": {},
   "source": [
    "### 5.4 MSDS 2020 Hangout Network\n",
    "The MSDS 2020 Hangout Network was generated in class on 06 February 2020. The instruction given to the students was:\n",
    "\n",
    "*\"Who among your classmates do you most frequently hangout with [not necessarily for classwork] (choose 3 to 8)? Alternatively, who are those you enjoy hanging out with the most?\"*\n",
    "\n",
    "The dataset is anonymized."
   ]
  },
  {
   "cell_type": "markdown",
   "metadata": {},
   "source": [
    "#### 5.4.1 Network Structure Properties"
   ]
  },
  {
   "cell_type": "code",
   "execution_count": 85,
   "metadata": {
    "ExecuteTime": {
     "end_time": "2021-03-08T13:55:38.133795Z",
     "start_time": "2021-03-08T13:55:38.126241Z"
    }
   },
   "outputs": [],
   "source": [
    "msds = nx.read_gpickle('class-map.pkl')\n",
    "G = nx.Graph(msds)"
   ]
  },
  {
   "cell_type": "code",
   "execution_count": 86,
   "metadata": {
    "ExecuteTime": {
     "end_time": "2021-03-08T13:55:38.530389Z",
     "start_time": "2021-03-08T13:55:38.137271Z"
    }
   },
   "outputs": [
    {
     "data": {
      "image/png": "[encoded data removed]",
      "text/plain": [
       "<Figure size 864x720 with 1 Axes>"
      ]
     },
     "metadata": {},
     "output_type": "display_data"
    }
   ],
   "source": [
    "pos = nx.fruchterman_reingold_layout(G);\n",
    "plt.figure(figsize=(12,10));\n",
    "plt.axis(\"off\");\n",
    "nx.draw_networkx_nodes(G, pos, node_size=300, node_color=\"violet\");\n",
    "nx.draw_networkx_edges(G, pos, alpha=0.500);\n",
    "nx.draw_networkx_labels(G, pos, font_color='black', font_size = 8);"
   ]
  },
  {
   "cell_type": "code",
   "execution_count": 87,
   "metadata": {
    "ExecuteTime": {
     "end_time": "2021-03-08T13:55:38.537313Z",
     "start_time": "2021-03-08T13:55:38.532453Z"
    }
   },
   "outputs": [
    {
     "name": "stdout",
     "output_type": "stream",
     "text": [
      "Basic Properties\n",
      "Nodes:  59\n",
      "Edges:  285\n",
      "Average degree:  4.830508474576271\n",
      "\n",
      "\n",
      "Sorted degrees of nodes\n",
      "[('choices', 19), ('horsepower', 16), ('airplanes', 16), ('source', 14), ('pot', 14), ('limp', 13), ('turnaround', 13), ('disassemblies', 13), ('fastener', 12), ('bag', 12), ('mechanisms', 12), ('families', 12), ('methodology', 11), ('extenuations', 11), ('aprons', 11), ('function', 11), ('mode', 11), ('gates', 11), ('sound', 11), ('nomenclatures', 11), ('moves', 10), ('quota', 10), ('top', 10), ('layer', 10), ('fruits', 10), ('carpet', 10), ('passes', 10), ('generators', 9), ('stretcher', 9), ('clangs', 9), ('instruction', 9), ('buildings', 9), ('bundles', 9), ('cares', 9), ('person', 9), ('staple', 9), ('utilizations', 9), ('tax', 9), ('subjects', 9), ('slaves', 8), ('bush', 8), ('click', 8), ('shadow', 8), ('elapses', 8), ('attacker', 8), ('customs', 8), ('motel', 8), ('rebounds', 7), ('yields', 7), ('recommendations', 7), ('operabilities', 7), ('loaf', 6), ('wholesale', 6), ('basement', 6), ('gram', 6), ('visitor', 6), ('violet', 6), ('sister', 5), ('radiators', 5)]\n"
     ]
    }
   ],
   "source": [
    "net_prop(G)"
   ]
  },
  {
   "cell_type": "markdown",
   "metadata": {},
   "source": [
    "#### 5.3.2 Network Insights"
   ]
  },
  {
   "cell_type": "code",
   "execution_count": 88,
   "metadata": {
    "ExecuteTime": {
     "end_time": "2021-03-08T13:55:38.794777Z",
     "start_time": "2021-03-08T13:55:38.540527Z"
    }
   },
   "outputs": [],
   "source": [
    "import pandas as pd\n",
    "import seaborn as sns"
   ]
  },
  {
   "cell_type": "code",
   "execution_count": 89,
   "metadata": {
    "ExecuteTime": {
     "end_time": "2021-03-08T13:55:38.816890Z",
     "start_time": "2021-03-08T13:55:38.796567Z"
    }
   },
   "outputs": [],
   "source": [
    "deg = nx.degree_centrality(G)\n",
    "bet = nx.betweenness_centrality(G)"
   ]
  },
  {
   "cell_type": "code",
   "execution_count": 90,
   "metadata": {
    "ExecuteTime": {
     "end_time": "2021-03-08T13:55:38.822351Z",
     "start_time": "2021-03-08T13:55:38.818990Z"
    }
   },
   "outputs": [],
   "source": [
    "degrees = [k for node, k in nx.degree(G)]"
   ]
  },
  {
   "cell_type": "code",
   "execution_count": 91,
   "metadata": {
    "ExecuteTime": {
     "end_time": "2021-03-08T13:55:38.833115Z",
     "start_time": "2021-03-08T13:55:38.824114Z"
    }
   },
   "outputs": [],
   "source": [
    "df = pd.DataFrame.from_dict([deg, bet]).T\n",
    "df.columns = ['Degree Centrality', 'Betweenes Centrality']\n",
    "# df['Connections'] = degrees "
   ]
  },
  {
   "cell_type": "code",
   "execution_count": 92,
   "metadata": {
    "ExecuteTime": {
     "end_time": "2021-03-08T13:55:38.845994Z",
     "start_time": "2021-03-08T13:55:38.834951Z"
    }
   },
   "outputs": [],
   "source": [
    "for col in df.columns:\n",
    "    df[col] = df[col] / max(df[col])"
   ]
  },
  {
   "cell_type": "code",
   "execution_count": 93,
   "metadata": {
    "ExecuteTime": {
     "end_time": "2021-03-08T13:55:38.850486Z",
     "start_time": "2021-03-08T13:55:38.848006Z"
    }
   },
   "outputs": [],
   "source": [
    "top_df = df"
   ]
  },
  {
   "cell_type": "code",
   "execution_count": 94,
   "metadata": {
    "ExecuteTime": {
     "end_time": "2021-03-08T13:55:38.859436Z",
     "start_time": "2021-03-08T13:55:38.852476Z"
    }
   },
   "outputs": [],
   "source": [
    "top_df = top_df.sort_values(\"Degree Centrality\", ascending=False)[:10]\n",
    "top_df = pd.DataFrame(top_df.stack())\n",
    "top_df = top_df.reset_index()\n",
    "top_df.columns = [\"Name\", \"Parameter\", \"Value\"]"
   ]
  },
  {
   "cell_type": "code",
   "execution_count": 95,
   "metadata": {
    "ExecuteTime": {
     "end_time": "2021-03-08T13:55:39.231812Z",
     "start_time": "2021-03-08T13:55:38.861445Z"
    }
   },
   "outputs": [
    {
     "data": {
      "image/png": "[encoded data removed]",
      "text/plain": [
       "<Figure size 576x432 with 1 Axes>"
      ]
     },
     "metadata": {
      "needs_background": "light"
     },
     "output_type": "display_data"
    }
   ],
   "source": [
    "fig, ax = plt.subplots(figsize=(8, 6))\n",
    "\n",
    "sns.barplot(x=\"Value\", y=\"Name\", data=top_df, hue=\"Parameter\", palette=\"magma\")\n",
    "\n",
    "plt.title(\"Top Students based on Centrality, normalized parameters\")\n",
    "plt.show()"
   ]
  },
  {
   "cell_type": "markdown",
   "metadata": {},
   "source": [
    "1. `Choices` has the highest degree of centrality. This could be an indication that he/she has high influence in the class. Could be the most friendly or the class president. \n",
    "2. The top 10 students with high centrality also are the top 10 in terms of degree connections.\n",
    "3. Average degree is at around `5`. This maybe attributed to the existence of the learning team groupings with at least 4 to 6 members."
   ]
  }
 ],
 "metadata": {
  "kernelspec": {
   "display_name": "Python 3",
   "language": "python",
   "name": "python3"
  },
  "language_info": {
   "codemirror_mode": {
    "name": "ipython",
    "version": 3
   },
   "file_extension": ".py",
   "mimetype": "text/x-python",
   "name": "python",
   "nbconvert_exporter": "python",
   "pygments_lexer": "ipython3",
   "version": "3.8.8"
  }
 },
 "nbformat": 4,
 "nbformat_minor": 4
}
