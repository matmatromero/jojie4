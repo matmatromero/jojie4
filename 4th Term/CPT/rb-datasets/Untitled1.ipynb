{
 "cells": [
  {
   "cell_type": "code",
   "execution_count": 2,
   "id": "bb934cd1",
   "metadata": {
    "ExecuteTime": {
     "end_time": "2021-05-27T10:52:46.480661Z",
     "start_time": "2021-05-27T10:52:44.599111Z"
    }
   },
   "outputs": [],
   "source": [
    "import pandas as pd\n",
    "import numpy as np\n",
    "import matplotlib.pyplot as plt"
   ]
  },
  {
   "cell_type": "code",
   "execution_count": 3,
   "id": "6997b31f",
   "metadata": {
    "ExecuteTime": {
     "end_time": "2021-05-27T10:52:50.930382Z",
     "start_time": "2021-05-27T10:52:50.231092Z"
    }
   },
   "outputs": [
    {
     "name": "stdout",
     "output_type": "stream",
     "text": [
      "'BA 2019.csv'                   'Lazada MSP Items 2019.xlsx'\r\n",
      "'CPT Sample Data Oct2020.xlsx'  'Lazada MSP Traffic 2020.xlsx'\r\n",
      " df_fb.xlsx                     'Shopee MSP Traffic 2020.xlsx'\r\n",
      "'FB 2019.xls'                    Untitled1.ipynb\r\n",
      "'FB 2020.xls'                    Untitled.ipynb\r\n"
     ]
    }
   ],
   "source": [
    "ls"
   ]
  },
  {
   "cell_type": "code",
   "execution_count": 4,
   "id": "a30dd4e4",
   "metadata": {
    "ExecuteTime": {
     "end_time": "2021-05-27T10:52:54.411445Z",
     "start_time": "2021-05-27T10:52:51.570030Z"
    }
   },
   "outputs": [],
   "source": [
    "df_fb = pd.read_excel('FB 2019.xls', skiprows=13)\n",
    "df_msp = pd.read_excel('Lazada MSP Items 2019.xlsx', engine='openpyxl') "
   ]
  },
  {
   "cell_type": "code",
   "execution_count": 12,
   "id": "18451362",
   "metadata": {
    "ExecuteTime": {
     "end_time": "2021-05-28T15:19:07.573052Z",
     "start_time": "2021-05-28T15:19:06.788043Z"
    },
    "scrolled": false
   },
   "outputs": [],
   "source": [
    "df_fb2 = pd.read_excel('FB 2020.xls', skiprows=13)"
   ]
  },
  {
   "cell_type": "code",
   "execution_count": 15,
   "id": "8d19e37c",
   "metadata": {
    "ExecuteTime": {
     "end_time": "2021-05-28T15:19:31.593869Z",
     "start_time": "2021-05-28T15:19:31.587103Z"
    }
   },
   "outputs": [
    {
     "data": {
      "text/plain": [
       "12050"
      ]
     },
     "execution_count": 15,
     "metadata": {},
     "output_type": "execute_result"
    }
   ],
   "source": [
    "df_fb2.shape[0] + df_fb.shape[0]"
   ]
  },
  {
   "cell_type": "code",
   "execution_count": null,
   "id": "4efc3151",
   "metadata": {},
   "outputs": [],
   "source": []
  },
  {
   "cell_type": "code",
   "execution_count": null,
   "id": "f9facd5a",
   "metadata": {},
   "outputs": [],
   "source": []
  }
 ],
 "metadata": {
  "kernelspec": {
   "display_name": "Python 3",
   "language": "python",
   "name": "python3"
  },
  "language_info": {
   "codemirror_mode": {
    "name": "ipython",
    "version": 3
   },
   "file_extension": ".py",
   "mimetype": "text/x-python",
   "name": "python",
   "nbconvert_exporter": "python",
   "pygments_lexer": "ipython3",
   "version": "3.8.8"
  }
 },
 "nbformat": 4,
 "nbformat_minor": 5
}
